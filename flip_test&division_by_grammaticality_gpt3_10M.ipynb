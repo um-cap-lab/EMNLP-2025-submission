{
 "cells": [
  {
   "cell_type": "code",
   "execution_count": 1,
   "id": "5468eb4b",
   "metadata": {},
   "outputs": [
    {
     "name": "stderr",
     "output_type": "stream",
     "text": [
      "/tmp/ipykernel_4008084/658913012.py:7: DeprecationWarning: \n",
      "Pyarrow will become a required dependency of pandas in the next major release of pandas (pandas 3.0),\n",
      "(to allow more performant data types, such as the Arrow string type, and better interoperability with other libraries)\n",
      "but was too old on your system - pyarrow 10.0.1 is the current minimum supported version as of this release.\n",
      "If this would cause problems for you,\n",
      "please provide us feedback at https://github.com/pandas-dev/pandas/issues/54466\n",
      "        \n",
      "  import pandas as pd\n"
     ]
    }
   ],
   "source": [
    "# Minicons Installation\n",
    "# Introduction can be found https://kanishka.xyz/post/minicons-running-large-scale-behavioral-analyses-on-transformer-lms/\n",
    "# Tutorial and code can be found https://github.com/kanishkamisra/minicons/blob/master/examples/surprisals.md\n",
    "#!pip install minicons\n",
    "\n",
    "from minicons import scorer\n",
    "import pandas as pd\n",
    "import numpy as np\n",
    "import json\n",
    "import csv\n",
    "import re\n",
    "import matplotlib.pyplot as plt\n",
    "import seaborn as sns\n",
    "import statsmodels.formula.api as smf\n",
    "import torch\n",
    "from torch.utils.data import DataLoader\n",
    "from transformers import GPT2LMHeadModel, GPT2TokenizerFast"
   ]
  },
  {
   "cell_type": "code",
   "execution_count": 2,
   "id": "96f0c8d4",
   "metadata": {},
   "outputs": [],
   "source": [
    "#model_path = \"gpt2-small/checkpoint-trainedtokenizer_10M_whitespace\"\n",
    "#model_path = \"gpt2-small/checkpoint-trainedtokenizer_100M_whitespace\"\n",
    "model_path = \"gpt3-small/checkpoint-trainedtokenizer_10M_whitespace\"\n",
    "#model_path = \"gpt3-small/checkpoint-trainedtokenizer_100M_whitespace\"\n",
    "\n",
    "model = GPT2LMHeadModel.from_pretrained(model_path)\n",
    "tokenizer = GPT2TokenizerFast.from_pretrained(model_path)\n",
    "\n",
    "# wrap with minicons scorer\n",
    "lm_scorer = scorer.IncrementalLMScorer(model_path, device = \"cpu\")"
   ]
  },
  {
   "cell_type": "code",
   "execution_count": 3,
   "id": "2f7fc01c",
   "metadata": {},
   "outputs": [
    {
     "data": {
      "text/plain": [
       "[('I', 0.0),\n",
       " ('know', 10.494812965393066),\n",
       " ('that', 4.336230278015137),\n",
       " ('your', 8.928290367126465),\n",
       " ('friend', 6.415864944458008),\n",
       " ('gave', 12.488154411315918),\n",
       " ('a', 6.056341648101807),\n",
       " ('baguette', 39.892873764038086),\n",
       " ('to', 6.948508262634277),\n",
       " ('Mary', 12.979372024536133),\n",
       " ('last', 10.764171600341797),\n",
       " ('weekend', 8.105887413024902),\n",
       " ('.', 12.205984115600586)]"
      ]
     },
     "execution_count": 3,
     "metadata": {},
     "output_type": "execute_result"
    }
   ],
   "source": [
    "def calculate_surprisal(sentence):\n",
    "    '''\n",
    "    Takes in a sentence, and outputs surprisal values for each word.\n",
    "    '''\n",
    "    \n",
    "    input_sentence = sentence\n",
    "    # token_score() function of Minicons takes in several parameters\n",
    "    # if surprisal = True, the output value is surprisal instead of log likelihood\n",
    "    # if base_two = True, the log likelihood will be in base 2\n",
    "    # see Minicons documentations for details\n",
    "    # score tokens\n",
    "    token_surprisals = lm_scorer.token_score(input_sentence, surprisal = True, base_two = True)[0]\n",
    "    #print(token_surprisals)\n",
    "\n",
    "    '''\n",
    "    # filter out special tokens (like <pad>)\n",
    "    special_tokens = set(tokenizer.all_special_tokens + ['<pad>'])\n",
    "    filtered = [\n",
    "        (token, score)\n",
    "        for (token, score) in token_surprisals\n",
    "        if token not in special_tokens\n",
    "    ]\n",
    "    '''\n",
    "\n",
    "   # expand tokens that contain multiple words\n",
    "    expanded = []\n",
    "    for token, score in token_surprisals:\n",
    "    #for token, score in filtered:\n",
    "        token = token.strip('Ġ') # remove space marker\n",
    "        if token.count('Ġ') > 0:\n",
    "            # multiple words inside\n",
    "            words = token.split('Ġ')\n",
    "            words = [word for word in words if word]  # remove empty strings\n",
    "            for i, word in enumerate(words):\n",
    "                expanded_token = word\n",
    "                expanded.append((expanded_token, score / len(words)))  # split surprisal equally\n",
    "        else:\n",
    "            expanded.append((token, score))    \n",
    "    #print(expanded)\n",
    "\n",
    "    # use regex to split into words and punctuation\n",
    "    words = re.findall(r'\\w+|[^\\w\\s]', sentence)\n",
    "    results = []\n",
    "\n",
    "    token_pointer = 0\n",
    "\n",
    "    for word in words:\n",
    "        accumulated = ''\n",
    "        word_surprisal = 0.0\n",
    "\n",
    "        while token_pointer < len(expanded):\n",
    "            token, surprisal = expanded[token_pointer]\n",
    "            accumulated += token\n",
    "            word_surprisal += surprisal\n",
    "            token_pointer += 1\n",
    "\n",
    "            if accumulated == word:\n",
    "                results.append((word, word_surprisal))\n",
    "                break\n",
    "        else:\n",
    "            results.append((word, word_surprisal))\n",
    "\n",
    "    return results\n",
    "\n",
    "\n",
    "sentence = 'I know that your friend gave a baguette to Mary last weekend.'\n",
    "calculate_surprisal(sentence)"
   ]
  },
  {
   "cell_type": "code",
   "execution_count": 4,
   "id": "8edb5f9b",
   "metadata": {},
   "outputs": [],
   "source": [
    "def calculate_sentence_surprisal(word_surprisals):\n",
    "    '''Returns total surprisal and average surprisal per word.'''\n",
    "    \n",
    "    scores = [score for word, score in word_surprisals]\n",
    "    total = sum(scores)\n",
    "    avg = total / len(scores)\n",
    "    return total, avg\n",
    "\n",
    "\"\"\"\n",
    "def sum_region_surprisal(row, region_list):\n",
    "    '''Sums surprisals of a specified sentence region, extracting the relevant part from sentence_surprisals using index information.'''\n",
    "\n",
    "    sentence_surprisals = row['surprisals']\n",
    "    \n",
    "    # retrieve all sentence column(from 'prefix' till 'end')\n",
    "    all_columns = row.index.tolist()  # get the list of column names\n",
    "    prefix_index = all_columns.index('prefix')\n",
    "    eos_index = all_columns.index('end')\n",
    "    \n",
    "    # reconstruct the full sentence from 'prefix' to 'end' (exclude NaN values)\n",
    "    full_sentence = ' '.join([str(row[col]) if pd.notna(row.get(col)) else '' for col in all_columns[prefix_index:eos_index + 1]])\n",
    "    \n",
    "    # use regex to split the full sentence into words & punctuation\n",
    "    sentence_units = re.findall(r'\\w+|[^\\w\\s]', full_sentence)\n",
    "    \n",
    "    # get the start and end indices for the region_list within the full sentence\n",
    "    first_region_column = region_list[0]\n",
    "    first_region_start_index = all_columns.index(first_region_column)\n",
    "    \n",
    "    last_region_column = region_list[-1]\n",
    "    last_region_end_index = all_columns.index(last_region_column)\n",
    "    \n",
    "    # extract the relevant slice of sentence_surprisals that corresponds to the region_list\n",
    "    # calculate the starting and ending index for the region_list part\n",
    "    start_index = sum([\n",
    "        len(re.findall(r'\\w+|[^\\w\\s]', str(row[col]))) for col in all_columns[prefix_index:first_region_start_index]\n",
    "        if pd.notna(row[col]) \n",
    "    ])\n",
    "    end_index = sum([\n",
    "        len(re.findall(r'\\w+|[^\\w\\s]', str(row[col]))) for col in all_columns[prefix_index:last_region_end_index + 1]\n",
    "        if pd.notna(row[col]) \n",
    "    ])\n",
    "\n",
    "    # extract the slice of sentence_surprisals corresponding to the region_list part\n",
    "    relevant_surprisals = sentence_surprisals[start_index:end_index]\n",
    "    region_surprisal = sum([score for token, score in relevant_surprisals])\n",
    "    \n",
    "    return region_surprisal\n",
    "\"\"\"\n",
    "\n",
    "def sum_region_surprisal(row, region_list, priority_region = None, normalize = False):\n",
    "    '''Sums surprisals of a specified sentence region with optional priority region handling.'''\n",
    "\n",
    "    sentence_surprisals = row['surprisals']\n",
    "    \n",
    "    # retrieve all sentence column(from 'prefix' till 'end')\n",
    "    all_columns = row.index.tolist()  # get the list of column names\n",
    "    prefix_index = all_columns.index('prefix')\n",
    "    eos_index = all_columns.index('end')\n",
    "    \n",
    "    # reconstruct the full sentence from 'prefix' to 'end' (exclude NaN values)\n",
    "    full_sentence = ' '.join([str(row[col]) if pd.notna(row.get(col)) else '' for col in all_columns[prefix_index:eos_index + 1]])\n",
    "    \n",
    "    # use regex to split the full sentence into words & punctuation\n",
    "    sentence_units = re.findall(r'\\w+|[^\\w\\s]', full_sentence)\n",
    "    \n",
    "    if priority_region:\n",
    "        # check if priority_region has non-zero surprisal\n",
    "        if pd.notna(row[priority_region]):\n",
    "            # extract text for the priority_region\n",
    "            priority_region_index = all_columns.index(priority_region)\n",
    "            \n",
    "            start_index = sum([\n",
    "                len(re.findall(r'\\w+|[^\\w\\s]', str(row[col]))) for col in all_columns[prefix_index:priority_region_index]\n",
    "                if pd.notna(row[col]) \n",
    "            ])\n",
    "            end_index = sum([\n",
    "                len(re.findall(r'\\w+|[^\\w\\s]', str(row[col]))) for col in all_columns[prefix_index:priority_region_index + 1]\n",
    "                if pd.notna(row[col]) \n",
    "            ])\n",
    "            \n",
    "            # calculate the surprisal for the priority region\n",
    "            relevant_surprisals = sentence_surprisals[start_index:end_index]\n",
    "            priority_surprisal = sum([score for token, score in relevant_surprisals])\n",
    "    \n",
    "            # return priority region's surprisal score if it is non-zero\n",
    "            if priority_surprisal != 0:\n",
    "                return priority_surprisal\n",
    "    \n",
    "    # if priority region is not provided or its surprisal is zero, calculate sum of region_list surprisals\n",
    "\n",
    "    # get the start and end indices for the region_list within the full sentence\n",
    "    first_region_column = region_list[0]\n",
    "    first_region_start_index = all_columns.index(first_region_column)\n",
    "    \n",
    "    last_region_column = region_list[-1]\n",
    "    last_region_end_index = all_columns.index(last_region_column)\n",
    "    \n",
    "    # extract the relevant slice of sentence_surprisals that corresponds to the region_list\n",
    "    # calculate the starting and ending index for the region_list part\n",
    "    start_index = sum([\n",
    "        len(re.findall(r'\\w+|[^\\w\\s]', str(row[col]))) for col in all_columns[prefix_index:first_region_start_index]\n",
    "        if pd.notna(row[col]) \n",
    "    ])\n",
    "    end_index = sum([\n",
    "        len(re.findall(r'\\w+|[^\\w\\s]', str(row[col]))) for col in all_columns[prefix_index:last_region_end_index + 1]\n",
    "        if pd.notna(row[col]) \n",
    "    ])\n",
    "\n",
    "    # extract the slice of sentence_surprisals corresponding to the region_list part\n",
    "    relevant_surprisals = sentence_surprisals[start_index:end_index]\n",
    "    region_surprisal = sum([score for token, score in relevant_surprisals])\n",
    "    \n",
    "    if normalize == False:\n",
    "        return region_surprisal\n",
    "    elif normalize == True:\n",
    "        return region_surprisal / len(sentence_units)"
   ]
  },
  {
   "cell_type": "code",
   "execution_count": 5,
   "id": "4e2f50f3",
   "metadata": {},
   "outputs": [],
   "source": [
    "def split_ends(ends):\n",
    "    '''Splits off sentence-final punctuation.'''\n",
    "    \n",
    "    match = re.match(r'^(.*?)([.!?])$', ends.strip())\n",
    "    if match:\n",
    "        return pd.Series([match.group(1), match.group(2)])\n",
    "    else:\n",
    "        return pd.Series([ends, ''])  # no end punctuation\n",
    "    \n",
    "def encode_wh_licensor(df):\n",
    "    '''\n",
    "    Adds a numeric column to the DataFrame:\n",
    "    - 1 if licensor is a wh-licensor\n",
    "    - -1 otherwise (licensor is \"that\" or absent)\n",
    "    '''\n",
    "    df['wh_numeric'] = df['filler'].apply(lambda x: 1 if x > 0 else -1)\n",
    "    return df\n",
    "    \n",
    "def merge_sentence(row, syntactic_parts):\n",
    "    '''Merges sentence columns back into full sentence.'''\n",
    "    \n",
    "    parts = [row[part] for part in syntactic_parts]         \n",
    "    # filter out NaN or empty parts\n",
    "    non_empty_parts = [str(part).strip() for part in parts if pd.notna(part) and str(part).strip() != '']\n",
    "    # join with spaces and add end punctuation\n",
    "    sentence = ' '.join(non_empty_parts) + (row['end'] if pd.notna(row['end']) else '')\n",
    "    return sentence\n",
    "\n",
    "def assign_grammaticality(row):\n",
    "    ''' Determines grammaticality based on licensor and gap values.'''\n",
    "    if row['filler'] > 0 and row['gap'] == 1:\n",
    "        return 'gram+'\n",
    "        #return 1\n",
    "    elif row['filler'] == 0 and row['gap'] == 0:\n",
    "        return 'gram+'\n",
    "        #return 1\n",
    "    elif row['filler'] > 0 and row['gap'] == 0:\n",
    "        return 'gram-'\n",
    "        #return 0\n",
    "    elif row['filler'] == 0 and row['gap'] == 1:\n",
    "        return 'gram-'\n",
    "        #return 0"
   ]
  },
  {
   "cell_type": "markdown",
   "id": "23b98dd7",
   "metadata": {},
   "source": [
    "#### Statistical Analysis: Mixed-Effects Linear Regression Model"
   ]
  },
  {
   "cell_type": "code",
   "execution_count": 6,
   "id": "94c04c24",
   "metadata": {},
   "outputs": [],
   "source": [
    "from IPython.display import display\n",
    "import warnings\n",
    "from statsmodels.tools.sm_exceptions import ConvergenceWarning\n",
    "\n",
    "def print_summary(result):\n",
    "    '''\n",
    "    Prints the descriptive header from a statsmodels MixedLMResults summary,\n",
    "    and displays both the fixed-effects and random-effects components as pandas DataFrames.\n",
    "    '''\n",
    "    with warnings.catch_warnings():\n",
    "        warnings.simplefilter(\"ignore\", ConvergenceWarning)\n",
    "        \n",
    "        summary_str = str(result.summary())\n",
    "        lines = summary_str.split('\\n')\n",
    "\n",
    "        # PART 1: HEADER\n",
    "        print(\"\\n=== MODEL SUMMARY ===\")\n",
    "        for line in lines:\n",
    "            if 'Coef.' in line:\n",
    "                break  # stop when reaching the coefficient table\n",
    "            pairs = re.findall(r'(\\S[^:]*):\\s+([^\\s][^:]*?)(?=\\s{2,}|$)', line)\n",
    "            for key, value in pairs:\n",
    "                print(f\"{key.strip()}: {value.strip()}\")\n",
    "\n",
    "        # PART 2a: FIXED EFFECTS TABLE\n",
    "        fixed_table = []\n",
    "        in_fixed_table = False\n",
    "        random_start_idx = None\n",
    "\n",
    "        for i, line in enumerate(lines):\n",
    "            if 'Coef.' in line:\n",
    "                in_fixed_table = True\n",
    "                continue\n",
    "            if in_fixed_table:\n",
    "                if not line.strip() or set(line.strip()) in [{'='}, {'-'}]:\n",
    "                    continue  # skip empty/separator lines\n",
    "                parts = line.strip().split()\n",
    "                if len(parts) >= 7:\n",
    "                    param = parts[0]\n",
    "                    row = parts[1:7]\n",
    "                    fixed_table.append([param] + row)\n",
    "                else:\n",
    "                    random_start_idx = i\n",
    "                    break\n",
    "\n",
    "        if fixed_table:\n",
    "            df_fixed = pd.DataFrame(fixed_table, columns = [\n",
    "                'Parameter', 'Coef.', 'Std.Err.', 'z', 'P>|z|', '[0.025', '0.975]'\n",
    "            ])\n",
    "            print(\"\\n=== FIXED EFFECTS COEFFICIENTS ===\")\n",
    "            display(df_fixed)\n",
    "        else:\n",
    "            print(\"\\nNo fixed-effects data found.\")\n",
    "\n",
    "        # PART 2b: RANDOM EFFECTS / VARIANCE COMPONENTS TABLE\n",
    "        random_table = []\n",
    "        if random_start_idx:\n",
    "            for line in lines[random_start_idx:]:\n",
    "                if not line.strip() or set(line.strip()) in [{'='}, {'-'}]:\n",
    "                    continue\n",
    "                parts = line.strip().split()\n",
    "                # Look for last token ending in Var or Cov\n",
    "                varcov_idx = None\n",
    "                for j in reversed(range(len(parts))):\n",
    "                    if parts[j].endswith('Var') or parts[j].endswith('Cov'):\n",
    "                        varcov_idx = j\n",
    "                        break\n",
    "                if varcov_idx is not None:\n",
    "                    param = ' '.join(parts[:varcov_idx + 1])\n",
    "                    numeric_parts = parts[varcov_idx + 1:]\n",
    "                    if len(numeric_parts) == 2:\n",
    "                        val1, val2 = numeric_parts\n",
    "                    elif len(numeric_parts) == 1:\n",
    "                        val1, val2 = numeric_parts[0], ''\n",
    "                    else:\n",
    "                        val1, val2 = '', ''\n",
    "                    random_table.append([param, val1, val2])\n",
    "\n",
    "        if random_table:\n",
    "            df_random = pd.DataFrame(random_table, columns = ['Parameter', 'Coef.', 'Std.Err.'])\n",
    "            print(\"\\n=== RANDOM EFFECTS / VARIANCE-COVARIANCE ===\")\n",
    "            display(df_random)\n",
    "        else:\n",
    "            print(\"\\nNo random-effects data found.\")\n"
   ]
  },
  {
   "cell_type": "code",
   "execution_count": 7,
   "id": "3ddfdf0b",
   "metadata": {},
   "outputs": [],
   "source": [
    "# columns: item_id (indicates sentence set), wh_licensor (0/1), gap (0/1), island_type, surprisal\n",
    "\n",
    "warnings.simplefilter(\"ignore\", ConvergenceWarning)\n",
    "\n",
    "def mixed_effects_linear_regression(df, iv_list, surprisal, label):\n",
    "    '''\n",
    "    Fits mixed-effects model and extracts wh-licensing interaction.\n",
    "    '''\n",
    "        \n",
    "    for field in iv_list:\n",
    "        if field == 'wh_numeric' or 'gap_numeric' or 'gap_distance_length':\n",
    "            pass\n",
    "        else:\n",
    "            df[field] = df[field].astype('category')\n",
    "\n",
    "    interaction_terms = ' * '.join(iv_list)\n",
    "    random_effects = ' + '.join(iv_list)\n",
    "\n",
    "    model = smf.mixedlm(\n",
    "        f\"{surprisal} ~ {interaction_terms}\",\n",
    "        df,\n",
    "        groups = df[\"item_id\"],\n",
    "        #re_formula = f\"~{random_effects}\"\n",
    "        re_formula = \"1\"\n",
    "        )\n",
    "\n",
    "    result = model.fit()\n",
    "    #interaction_coef = result.params.get('wh_licensor[T.1]:gap[T.1]', None)\n",
    "\n",
    "    print(f\"\\n=== {label.upper()} ===\")\n",
    "    #print(result.summary())\n",
    "    print_summary(result)\n",
    "\n",
    "    return result\n",
    "\n",
    "#interaction = mixed_effects_linear_regression(df, \"construction_type\") # label name to be changed according to construction type"
   ]
  },
  {
   "cell_type": "markdown",
   "id": "8fee4669",
   "metadata": {},
   "source": [
    "#### Gap Distance - Categorical/Continuous"
   ]
  },
  {
   "cell_type": "code",
   "execution_count": 8,
   "id": "92540bbb",
   "metadata": {},
   "outputs": [],
   "source": [
    "sentence_df = pd.read_csv('test_sentences/Gap Distance.csv')\n",
    "sentence_df['gap_distance'] = sentence_df['gap_distance'].fillna('null')\n",
    "#sentence_df['gap_distance'].dropna(inplace = True)\n",
    "#sentence_df = sentence_df[sentence_df['gap_distance'].replace(['nan', 'NaN'], np.nan).notna()]"
   ]
  },
  {
   "cell_type": "code",
   "execution_count": 9,
   "id": "c191e58e",
   "metadata": {},
   "outputs": [],
   "source": [
    "sentence_df[['temp_mod', 'end']] = sentence_df['temp_mod'].apply(split_ends)\n",
    "sentence_df = encode_wh_licensor(sentence_df)\n",
    "sentence_df['gap_numeric'] = sentence_df['gap'].replace(0, -1)\n",
    "syntactic_parts = ['prefix', 'licensor', 'subj', 'modifier', 'verb', 'object', 'prep', 'goal', 'temp_mod']\n",
    "sentence_df['sentence'] = sentence_df.apply(lambda x: merge_sentence(x, syntactic_parts), axis = 1)\n",
    "sentence_df['surprisals'] = sentence_df['sentence'].apply(calculate_surprisal)\n",
    "sentence_df['gap_distance_length'] = sentence_df['modifier'].apply(lambda x: len(x) if pd.notna(x) else 0)\n",
    "sentence_df['grammaticality'] = sentence_df.apply(assign_grammaticality, axis = 1)"
   ]
  },
  {
   "cell_type": "markdown",
   "id": "0e7be216",
   "metadata": {},
   "source": [
    "Gap Position == Object"
   ]
  },
  {
   "cell_type": "code",
   "execution_count": 10,
   "id": "c73282f4",
   "metadata": {},
   "outputs": [],
   "source": [
    "# modifier: short_mod, med_mod, long_mod"
   ]
  },
  {
   "cell_type": "code",
   "execution_count": 11,
   "id": "ea6dce35",
   "metadata": {},
   "outputs": [],
   "source": [
    "object_df = sentence_df.copy()\n",
    "#object_df['region_surprisal'] = object_df.apply(lambda x: sum_region_surprisal(x, ['prep', 'goal']), axis = 1)\n",
    "object_df['region_surprisal'] = object_df.apply(lambda x: sum_region_surprisal(x, ['prep', 'goal'], 'object'), axis = 1)\n",
    "\n",
    "# filter for object gap\n",
    "objectgap_df = object_df[object_df['gap_position'] == 'DO']"
   ]
  },
  {
   "cell_type": "code",
   "execution_count": 12,
   "id": "ee659db0",
   "metadata": {},
   "outputs": [
    {
     "name": "stdout",
     "output_type": "stream",
     "text": [
      "\n",
      "=== OBJECT GAP POSITION: GAP- ===\n",
      "\n",
      "=== MODEL SUMMARY ===\n",
      ":            MixedLM Dependent Variable: region_surprisal\n",
      "No. Observations: 160\n",
      "Method: REML\n",
      "No. Groups: 20\n",
      "Scale: 0.7464\n",
      "Min. group size: 8\n",
      "Log-Likelihood: -265.6844\n",
      "Max. group size: 8\n",
      "Converged: Yes\n",
      "Mean group size: 8.0\n",
      "\n",
      "=== FIXED EFFECTS COEFFICIENTS ===\n"
     ]
    },
    {
     "data": {
      "text/html": [
       "<div>\n",
       "<style scoped>\n",
       "    .dataframe tbody tr th:only-of-type {\n",
       "        vertical-align: middle;\n",
       "    }\n",
       "\n",
       "    .dataframe tbody tr th {\n",
       "        vertical-align: top;\n",
       "    }\n",
       "\n",
       "    .dataframe thead th {\n",
       "        text-align: right;\n",
       "    }\n",
       "</style>\n",
       "<table border=\"1\" class=\"dataframe\">\n",
       "  <thead>\n",
       "    <tr style=\"text-align: right;\">\n",
       "      <th></th>\n",
       "      <th>Parameter</th>\n",
       "      <th>Coef.</th>\n",
       "      <th>Std.Err.</th>\n",
       "      <th>z</th>\n",
       "      <th>P&gt;|z|</th>\n",
       "      <th>[0.025</th>\n",
       "      <th>0.975]</th>\n",
       "    </tr>\n",
       "  </thead>\n",
       "  <tbody>\n",
       "    <tr>\n",
       "      <th>0</th>\n",
       "      <td>Intercept</td>\n",
       "      <td>35.424</td>\n",
       "      <td>1.567</td>\n",
       "      <td>22.606</td>\n",
       "      <td>0.000</td>\n",
       "      <td>32.353</td>\n",
       "      <td>38.495</td>\n",
       "    </tr>\n",
       "    <tr>\n",
       "      <th>1</th>\n",
       "      <td>wh_numeric</td>\n",
       "      <td>0.160</td>\n",
       "      <td>0.068</td>\n",
       "      <td>2.341</td>\n",
       "      <td>0.019</td>\n",
       "      <td>0.026</td>\n",
       "      <td>0.294</td>\n",
       "    </tr>\n",
       "  </tbody>\n",
       "</table>\n",
       "</div>"
      ],
      "text/plain": [
       "    Parameter   Coef. Std.Err.       z  P>|z|  [0.025  0.975]\n",
       "0   Intercept  35.424    1.567  22.606  0.000  32.353  38.495\n",
       "1  wh_numeric   0.160    0.068   2.341  0.019   0.026   0.294"
      ]
     },
     "metadata": {},
     "output_type": "display_data"
    },
    {
     "name": "stdout",
     "output_type": "stream",
     "text": [
      "\n",
      "=== RANDOM EFFECTS / VARIANCE-COVARIANCE ===\n"
     ]
    },
    {
     "data": {
      "text/html": [
       "<div>\n",
       "<style scoped>\n",
       "    .dataframe tbody tr th:only-of-type {\n",
       "        vertical-align: middle;\n",
       "    }\n",
       "\n",
       "    .dataframe tbody tr th {\n",
       "        vertical-align: top;\n",
       "    }\n",
       "\n",
       "    .dataframe thead th {\n",
       "        text-align: right;\n",
       "    }\n",
       "</style>\n",
       "<table border=\"1\" class=\"dataframe\">\n",
       "  <thead>\n",
       "    <tr style=\"text-align: right;\">\n",
       "      <th></th>\n",
       "      <th>Parameter</th>\n",
       "      <th>Coef.</th>\n",
       "      <th>Std.Err.</th>\n",
       "    </tr>\n",
       "  </thead>\n",
       "  <tbody>\n",
       "    <tr>\n",
       "      <th>0</th>\n",
       "      <td>Group Var</td>\n",
       "      <td>49.017</td>\n",
       "      <td>19.660</td>\n",
       "    </tr>\n",
       "  </tbody>\n",
       "</table>\n",
       "</div>"
      ],
      "text/plain": [
       "   Parameter   Coef. Std.Err.\n",
       "0  Group Var  49.017   19.660"
      ]
     },
     "metadata": {},
     "output_type": "display_data"
    },
    {
     "data": {
      "text/plain": [
       "<statsmodels.regression.mixed_linear_model.MixedLMResultsWrapper at 0x1480c59f2e80>"
      ]
     },
     "execution_count": 12,
     "metadata": {},
     "output_type": "execute_result"
    }
   ],
   "source": [
    "# flip test: gap-\n",
    "no_gap_df = objectgap_df[objectgap_df['gap_numeric'] == -1]\n",
    "iv_list = ['wh_numeric']\n",
    "mixed_effects_linear_regression(no_gap_df, iv_list, 'region_surprisal', 'object gap position: gap-')"
   ]
  },
  {
   "cell_type": "code",
   "execution_count": 13,
   "id": "8950619d",
   "metadata": {},
   "outputs": [
    {
     "name": "stdout",
     "output_type": "stream",
     "text": [
      "\n",
      "=== OBJECT GAP POSITION: GAP+ ===\n",
      "\n",
      "=== MODEL SUMMARY ===\n",
      ":            MixedLM Dependent Variable: region_surprisal\n",
      "No. Observations: 160\n",
      "Method: REML\n",
      "No. Groups: 20\n",
      "Scale: 1.5597\n",
      "Min. group size: 8\n",
      "Log-Likelihood: -320.4209\n",
      "Max. group size: 8\n",
      "Converged: Yes\n",
      "Mean group size: 8.0\n",
      "\n",
      "=== FIXED EFFECTS COEFFICIENTS ===\n"
     ]
    },
    {
     "data": {
      "text/html": [
       "<div>\n",
       "<style scoped>\n",
       "    .dataframe tbody tr th:only-of-type {\n",
       "        vertical-align: middle;\n",
       "    }\n",
       "\n",
       "    .dataframe tbody tr th {\n",
       "        vertical-align: top;\n",
       "    }\n",
       "\n",
       "    .dataframe thead th {\n",
       "        text-align: right;\n",
       "    }\n",
       "</style>\n",
       "<table border=\"1\" class=\"dataframe\">\n",
       "  <thead>\n",
       "    <tr style=\"text-align: right;\">\n",
       "      <th></th>\n",
       "      <th>Parameter</th>\n",
       "      <th>Coef.</th>\n",
       "      <th>Std.Err.</th>\n",
       "      <th>z</th>\n",
       "      <th>P&gt;|z|</th>\n",
       "      <th>[0.025</th>\n",
       "      <th>0.975]</th>\n",
       "    </tr>\n",
       "  </thead>\n",
       "  <tbody>\n",
       "    <tr>\n",
       "      <th>0</th>\n",
       "      <td>Intercept</td>\n",
       "      <td>32.189</td>\n",
       "      <td>1.885</td>\n",
       "      <td>17.073</td>\n",
       "      <td>0.000</td>\n",
       "      <td>28.494</td>\n",
       "      <td>35.884</td>\n",
       "    </tr>\n",
       "    <tr>\n",
       "      <th>1</th>\n",
       "      <td>wh_numeric</td>\n",
       "      <td>-0.075</td>\n",
       "      <td>0.099</td>\n",
       "      <td>-0.763</td>\n",
       "      <td>0.445</td>\n",
       "      <td>-0.269</td>\n",
       "      <td>0.118</td>\n",
       "    </tr>\n",
       "  </tbody>\n",
       "</table>\n",
       "</div>"
      ],
      "text/plain": [
       "    Parameter   Coef. Std.Err.       z  P>|z|  [0.025  0.975]\n",
       "0   Intercept  32.189    1.885  17.073  0.000  28.494  35.884\n",
       "1  wh_numeric  -0.075    0.099  -0.763  0.445  -0.269   0.118"
      ]
     },
     "metadata": {},
     "output_type": "display_data"
    },
    {
     "name": "stdout",
     "output_type": "stream",
     "text": [
      "\n",
      "=== RANDOM EFFECTS / VARIANCE-COVARIANCE ===\n"
     ]
    },
    {
     "data": {
      "text/html": [
       "<div>\n",
       "<style scoped>\n",
       "    .dataframe tbody tr th:only-of-type {\n",
       "        vertical-align: middle;\n",
       "    }\n",
       "\n",
       "    .dataframe tbody tr th {\n",
       "        vertical-align: top;\n",
       "    }\n",
       "\n",
       "    .dataframe thead th {\n",
       "        text-align: right;\n",
       "    }\n",
       "</style>\n",
       "<table border=\"1\" class=\"dataframe\">\n",
       "  <thead>\n",
       "    <tr style=\"text-align: right;\">\n",
       "      <th></th>\n",
       "      <th>Parameter</th>\n",
       "      <th>Coef.</th>\n",
       "      <th>Std.Err.</th>\n",
       "    </tr>\n",
       "  </thead>\n",
       "  <tbody>\n",
       "    <tr>\n",
       "      <th>0</th>\n",
       "      <td>Group Var</td>\n",
       "      <td>70.896</td>\n",
       "      <td>19.690</td>\n",
       "    </tr>\n",
       "  </tbody>\n",
       "</table>\n",
       "</div>"
      ],
      "text/plain": [
       "   Parameter   Coef. Std.Err.\n",
       "0  Group Var  70.896   19.690"
      ]
     },
     "metadata": {},
     "output_type": "display_data"
    },
    {
     "data": {
      "text/plain": [
       "<statsmodels.regression.mixed_linear_model.MixedLMResultsWrapper at 0x1480c5f7fb80>"
      ]
     },
     "execution_count": 13,
     "metadata": {},
     "output_type": "execute_result"
    }
   ],
   "source": [
    "# flip test: gap+\n",
    "gap_df = objectgap_df[objectgap_df['gap_numeric'] == 1]\n",
    "iv_list = ['wh_numeric']\n",
    "mixed_effects_linear_regression(gap_df, iv_list, 'region_surprisal', 'object gap position: gap+')"
   ]
  },
  {
   "cell_type": "code",
   "execution_count": 14,
   "id": "e52937a2",
   "metadata": {},
   "outputs": [
    {
     "name": "stdout",
     "output_type": "stream",
     "text": [
      "\n",
      "=== OBJECT GAP POSITION: DIVISION BY GRAMMATICALITY ===\n",
      "\n",
      "=== MODEL SUMMARY ===\n",
      "Model: MixedLM\n",
      "Dependent Variable: region_surprisal\n",
      "No. Observations: 320\n",
      "Method: REML\n",
      "No. Groups: 20\n",
      "Scale: 36.1719\n",
      "Min. group size: 16\n",
      "Log-Likelihood: -1050.8551\n",
      "Max. group size: 16\n",
      "Converged: Yes\n",
      "Mean group size: 16.0\n",
      "\n",
      "=== FIXED EFFECTS COEFFICIENTS ===\n"
     ]
    },
    {
     "data": {
      "text/html": [
       "<div>\n",
       "<style scoped>\n",
       "    .dataframe tbody tr th:only-of-type {\n",
       "        vertical-align: middle;\n",
       "    }\n",
       "\n",
       "    .dataframe tbody tr th {\n",
       "        vertical-align: top;\n",
       "    }\n",
       "\n",
       "    .dataframe thead th {\n",
       "        text-align: right;\n",
       "    }\n",
       "</style>\n",
       "<table border=\"1\" class=\"dataframe\">\n",
       "  <thead>\n",
       "    <tr style=\"text-align: right;\">\n",
       "      <th></th>\n",
       "      <th>Parameter</th>\n",
       "      <th>Coef.</th>\n",
       "      <th>Std.Err.</th>\n",
       "      <th>z</th>\n",
       "      <th>P&gt;|z|</th>\n",
       "      <th>[0.025</th>\n",
       "      <th>0.975]</th>\n",
       "    </tr>\n",
       "  </thead>\n",
       "  <tbody>\n",
       "    <tr>\n",
       "      <th>0</th>\n",
       "      <td>Intercept</td>\n",
       "      <td>33.689</td>\n",
       "      <td>1.237</td>\n",
       "      <td>27.237</td>\n",
       "      <td>0.000</td>\n",
       "      <td>31.265</td>\n",
       "      <td>36.113</td>\n",
       "    </tr>\n",
       "    <tr>\n",
       "      <th>1</th>\n",
       "      <td>grammaticality[T.gram-]</td>\n",
       "      <td>0.235</td>\n",
       "      <td>0.672</td>\n",
       "      <td>0.350</td>\n",
       "      <td>0.726</td>\n",
       "      <td>-1.083</td>\n",
       "      <td>1.553</td>\n",
       "    </tr>\n",
       "  </tbody>\n",
       "</table>\n",
       "</div>"
      ],
      "text/plain": [
       "                 Parameter   Coef. Std.Err.       z  P>|z|  [0.025  0.975]\n",
       "0                Intercept  33.689    1.237  27.237  0.000  31.265  36.113\n",
       "1  grammaticality[T.gram-]   0.235    0.672   0.350  0.726  -1.083   1.553"
      ]
     },
     "metadata": {},
     "output_type": "display_data"
    },
    {
     "name": "stdout",
     "output_type": "stream",
     "text": [
      "\n",
      "=== RANDOM EFFECTS / VARIANCE-COVARIANCE ===\n"
     ]
    },
    {
     "data": {
      "text/html": [
       "<div>\n",
       "<style scoped>\n",
       "    .dataframe tbody tr th:only-of-type {\n",
       "        vertical-align: middle;\n",
       "    }\n",
       "\n",
       "    .dataframe tbody tr th {\n",
       "        vertical-align: top;\n",
       "    }\n",
       "\n",
       "    .dataframe thead th {\n",
       "        text-align: right;\n",
       "    }\n",
       "</style>\n",
       "<table border=\"1\" class=\"dataframe\">\n",
       "  <thead>\n",
       "    <tr style=\"text-align: right;\">\n",
       "      <th></th>\n",
       "      <th>Parameter</th>\n",
       "      <th>Coef.</th>\n",
       "      <th>Std.Err.</th>\n",
       "    </tr>\n",
       "  </thead>\n",
       "  <tbody>\n",
       "    <tr>\n",
       "      <th>0</th>\n",
       "      <td>Group Var</td>\n",
       "      <td>26.076</td>\n",
       "      <td>1.576</td>\n",
       "    </tr>\n",
       "  </tbody>\n",
       "</table>\n",
       "</div>"
      ],
      "text/plain": [
       "   Parameter   Coef. Std.Err.\n",
       "0  Group Var  26.076    1.576"
      ]
     },
     "metadata": {},
     "output_type": "display_data"
    },
    {
     "data": {
      "text/plain": [
       "<statsmodels.regression.mixed_linear_model.MixedLMResultsWrapper at 0x1480c59f4070>"
      ]
     },
     "execution_count": 14,
     "metadata": {},
     "output_type": "execute_result"
    }
   ],
   "source": [
    "# division by grammaticality\n",
    "iv_list = ['grammaticality']\n",
    "mixed_effects_linear_regression(objectgap_df, iv_list, 'region_surprisal', 'object gap position: division by grammaticality')"
   ]
  },
  {
   "cell_type": "markdown",
   "id": "88662ed9",
   "metadata": {},
   "source": [
    "Gap Postion == PP/Goal"
   ]
  },
  {
   "cell_type": "code",
   "execution_count": 15,
   "id": "3b6ef5a7",
   "metadata": {},
   "outputs": [],
   "source": [
    "pp_df = sentence_df.copy()\n",
    "#pp_df['region_surprisal'] = pp_df.apply(lambda x: sum_region_surprisal(x, ['temp_mod']), axis = 1)\n",
    "pp_df['region_surprisal'] = pp_df.apply(lambda x: sum_region_surprisal(x, ['temp_mod'], 'goal'), axis = 1)\n",
    "\n",
    "# filter for PP gap\n",
    "ppgap_df = pp_df[pp_df['gap_position'] == 'IO']"
   ]
  },
  {
   "cell_type": "code",
   "execution_count": 16,
   "id": "f2fe97f4",
   "metadata": {},
   "outputs": [
    {
     "name": "stdout",
     "output_type": "stream",
     "text": [
      "\n",
      "=== PP GAP POSITION: GAP- ===\n",
      "\n",
      "=== MODEL SUMMARY ===\n",
      ":            MixedLM Dependent Variable: region_surprisal\n",
      "No. Observations: 160\n",
      "Method: REML\n",
      "No. Groups: 20\n",
      "Scale: 0.6060\n",
      "Min. group size: 8\n",
      "Log-Likelihood: -255.1310\n",
      "Max. group size: 8\n",
      "Converged: Yes\n",
      "Mean group size: 8.0\n",
      "\n",
      "=== FIXED EFFECTS COEFFICIENTS ===\n"
     ]
    },
    {
     "data": {
      "text/html": [
       "<div>\n",
       "<style scoped>\n",
       "    .dataframe tbody tr th:only-of-type {\n",
       "        vertical-align: middle;\n",
       "    }\n",
       "\n",
       "    .dataframe tbody tr th {\n",
       "        vertical-align: top;\n",
       "    }\n",
       "\n",
       "    .dataframe thead th {\n",
       "        text-align: right;\n",
       "    }\n",
       "</style>\n",
       "<table border=\"1\" class=\"dataframe\">\n",
       "  <thead>\n",
       "    <tr style=\"text-align: right;\">\n",
       "      <th></th>\n",
       "      <th>Parameter</th>\n",
       "      <th>Coef.</th>\n",
       "      <th>Std.Err.</th>\n",
       "      <th>z</th>\n",
       "      <th>P&gt;|z|</th>\n",
       "      <th>[0.025</th>\n",
       "      <th>0.975]</th>\n",
       "    </tr>\n",
       "  </thead>\n",
       "  <tbody>\n",
       "    <tr>\n",
       "      <th>0</th>\n",
       "      <td>Intercept</td>\n",
       "      <td>25.777</td>\n",
       "      <td>1.926</td>\n",
       "      <td>13.381</td>\n",
       "      <td>0.000</td>\n",
       "      <td>22.002</td>\n",
       "      <td>29.553</td>\n",
       "    </tr>\n",
       "    <tr>\n",
       "      <th>1</th>\n",
       "      <td>wh_numeric</td>\n",
       "      <td>0.094</td>\n",
       "      <td>0.062</td>\n",
       "      <td>1.530</td>\n",
       "      <td>0.126</td>\n",
       "      <td>-0.026</td>\n",
       "      <td>0.215</td>\n",
       "    </tr>\n",
       "  </tbody>\n",
       "</table>\n",
       "</div>"
      ],
      "text/plain": [
       "    Parameter   Coef. Std.Err.       z  P>|z|  [0.025  0.975]\n",
       "0   Intercept  25.777    1.926  13.381  0.000  22.002  29.553\n",
       "1  wh_numeric   0.094    0.062   1.530  0.126  -0.026   0.215"
      ]
     },
     "metadata": {},
     "output_type": "display_data"
    },
    {
     "name": "stdout",
     "output_type": "stream",
     "text": [
      "\n",
      "=== RANDOM EFFECTS / VARIANCE-COVARIANCE ===\n"
     ]
    },
    {
     "data": {
      "text/html": [
       "<div>\n",
       "<style scoped>\n",
       "    .dataframe tbody tr th:only-of-type {\n",
       "        vertical-align: middle;\n",
       "    }\n",
       "\n",
       "    .dataframe tbody tr th {\n",
       "        vertical-align: top;\n",
       "    }\n",
       "\n",
       "    .dataframe thead th {\n",
       "        text-align: right;\n",
       "    }\n",
       "</style>\n",
       "<table border=\"1\" class=\"dataframe\">\n",
       "  <thead>\n",
       "    <tr style=\"text-align: right;\">\n",
       "      <th></th>\n",
       "      <th>Parameter</th>\n",
       "      <th>Coef.</th>\n",
       "      <th>Std.Err.</th>\n",
       "    </tr>\n",
       "  </thead>\n",
       "  <tbody>\n",
       "    <tr>\n",
       "      <th>0</th>\n",
       "      <td>Group Var</td>\n",
       "      <td>74.141</td>\n",
       "      <td>32.976</td>\n",
       "    </tr>\n",
       "  </tbody>\n",
       "</table>\n",
       "</div>"
      ],
      "text/plain": [
       "   Parameter   Coef. Std.Err.\n",
       "0  Group Var  74.141   32.976"
      ]
     },
     "metadata": {},
     "output_type": "display_data"
    },
    {
     "data": {
      "text/plain": [
       "<statsmodels.regression.mixed_linear_model.MixedLMResultsWrapper at 0x1480c5a56310>"
      ]
     },
     "execution_count": 16,
     "metadata": {},
     "output_type": "execute_result"
    }
   ],
   "source": [
    "# flip test: gap-\n",
    "no_gap_df = ppgap_df[ppgap_df['gap_numeric'] == -1]\n",
    "iv_list = ['wh_numeric']\n",
    "mixed_effects_linear_regression(no_gap_df, iv_list, 'region_surprisal', 'pp gap position: gap-')"
   ]
  },
  {
   "cell_type": "code",
   "execution_count": 17,
   "id": "327606b9",
   "metadata": {},
   "outputs": [
    {
     "name": "stdout",
     "output_type": "stream",
     "text": [
      "\n",
      "=== PP GAP POSITION: GAP+ ===\n",
      "\n",
      "=== MODEL SUMMARY ===\n",
      ":            MixedLM Dependent Variable: region_surprisal\n",
      "No. Observations: 160\n",
      "Method: REML\n",
      "No. Groups: 20\n",
      "Scale: 0.6437\n",
      "Min. group size: 8\n",
      "Log-Likelihood: -266.5267\n",
      "Max. group size: 8\n",
      "Converged: Yes\n",
      "Mean group size: 8.0\n",
      "\n",
      "=== FIXED EFFECTS COEFFICIENTS ===\n"
     ]
    },
    {
     "data": {
      "text/html": [
       "<div>\n",
       "<style scoped>\n",
       "    .dataframe tbody tr th:only-of-type {\n",
       "        vertical-align: middle;\n",
       "    }\n",
       "\n",
       "    .dataframe tbody tr th {\n",
       "        vertical-align: top;\n",
       "    }\n",
       "\n",
       "    .dataframe thead th {\n",
       "        text-align: right;\n",
       "    }\n",
       "</style>\n",
       "<table border=\"1\" class=\"dataframe\">\n",
       "  <thead>\n",
       "    <tr style=\"text-align: right;\">\n",
       "      <th></th>\n",
       "      <th>Parameter</th>\n",
       "      <th>Coef.</th>\n",
       "      <th>Std.Err.</th>\n",
       "      <th>z</th>\n",
       "      <th>P&gt;|z|</th>\n",
       "      <th>[0.025</th>\n",
       "      <th>0.975]</th>\n",
       "    </tr>\n",
       "  </thead>\n",
       "  <tbody>\n",
       "    <tr>\n",
       "      <th>0</th>\n",
       "      <td>Intercept</td>\n",
       "      <td>32.241</td>\n",
       "      <td>2.815</td>\n",
       "      <td>11.453</td>\n",
       "      <td>0.000</td>\n",
       "      <td>26.723</td>\n",
       "      <td>37.758</td>\n",
       "    </tr>\n",
       "    <tr>\n",
       "      <th>1</th>\n",
       "      <td>wh_numeric</td>\n",
       "      <td>0.110</td>\n",
       "      <td>0.063</td>\n",
       "      <td>1.728</td>\n",
       "      <td>0.084</td>\n",
       "      <td>-0.015</td>\n",
       "      <td>0.234</td>\n",
       "    </tr>\n",
       "  </tbody>\n",
       "</table>\n",
       "</div>"
      ],
      "text/plain": [
       "    Parameter   Coef. Std.Err.       z  P>|z|  [0.025  0.975]\n",
       "0   Intercept  32.241    2.815  11.453  0.000  26.723  37.758\n",
       "1  wh_numeric   0.110    0.063   1.728  0.084  -0.015   0.234"
      ]
     },
     "metadata": {},
     "output_type": "display_data"
    },
    {
     "name": "stdout",
     "output_type": "stream",
     "text": [
      "\n",
      "=== RANDOM EFFECTS / VARIANCE-COVARIANCE ===\n"
     ]
    },
    {
     "data": {
      "text/html": [
       "<div>\n",
       "<style scoped>\n",
       "    .dataframe tbody tr th:only-of-type {\n",
       "        vertical-align: middle;\n",
       "    }\n",
       "\n",
       "    .dataframe tbody tr th {\n",
       "        vertical-align: top;\n",
       "    }\n",
       "\n",
       "    .dataframe thead th {\n",
       "        text-align: right;\n",
       "    }\n",
       "</style>\n",
       "<table border=\"1\" class=\"dataframe\">\n",
       "  <thead>\n",
       "    <tr style=\"text-align: right;\">\n",
       "      <th></th>\n",
       "      <th>Parameter</th>\n",
       "      <th>Coef.</th>\n",
       "      <th>Std.Err.</th>\n",
       "    </tr>\n",
       "  </thead>\n",
       "  <tbody>\n",
       "    <tr>\n",
       "      <th>0</th>\n",
       "      <td>Group Var</td>\n",
       "      <td>158.420</td>\n",
       "      <td>68.281</td>\n",
       "    </tr>\n",
       "  </tbody>\n",
       "</table>\n",
       "</div>"
      ],
      "text/plain": [
       "   Parameter    Coef. Std.Err.\n",
       "0  Group Var  158.420   68.281"
      ]
     },
     "metadata": {},
     "output_type": "display_data"
    },
    {
     "data": {
      "text/plain": [
       "<statsmodels.regression.mixed_linear_model.MixedLMResultsWrapper at 0x1480c5a537c0>"
      ]
     },
     "execution_count": 17,
     "metadata": {},
     "output_type": "execute_result"
    }
   ],
   "source": [
    "# flip test: gap+\n",
    "gap_df = ppgap_df[ppgap_df['gap_numeric'] == 1]\n",
    "iv_list = ['wh_numeric']\n",
    "mixed_effects_linear_regression(gap_df, iv_list, 'region_surprisal', 'pp gap position: gap+')"
   ]
  },
  {
   "cell_type": "code",
   "execution_count": 18,
   "id": "571fc58b",
   "metadata": {},
   "outputs": [
    {
     "name": "stdout",
     "output_type": "stream",
     "text": [
      "\n",
      "=== PP GAP POSITION: DIVISION BY GRAMMATICALITY ===\n",
      "\n",
      "=== MODEL SUMMARY ===\n",
      "Model: MixedLM\n",
      "Dependent Variable: region_surprisal\n",
      "No. Observations: 320\n",
      "Method: REML\n",
      "No. Groups: 20\n",
      "Scale: 79.4483\n",
      "Min. group size: 16\n",
      "Log-Likelihood: -1173.8535\n",
      "Max. group size: 16\n",
      "Converged: Yes\n",
      "Mean group size: 16.0\n",
      "\n",
      "=== FIXED EFFECTS COEFFICIENTS ===\n"
     ]
    },
    {
     "data": {
      "text/html": [
       "<div>\n",
       "<style scoped>\n",
       "    .dataframe tbody tr th:only-of-type {\n",
       "        vertical-align: middle;\n",
       "    }\n",
       "\n",
       "    .dataframe tbody tr th {\n",
       "        vertical-align: top;\n",
       "    }\n",
       "\n",
       "    .dataframe thead th {\n",
       "        text-align: right;\n",
       "    }\n",
       "</style>\n",
       "<table border=\"1\" class=\"dataframe\">\n",
       "  <thead>\n",
       "    <tr style=\"text-align: right;\">\n",
       "      <th></th>\n",
       "      <th>Parameter</th>\n",
       "      <th>Coef.</th>\n",
       "      <th>Std.Err.</th>\n",
       "      <th>z</th>\n",
       "      <th>P&gt;|z|</th>\n",
       "      <th>[0.025</th>\n",
       "      <th>0.975]</th>\n",
       "    </tr>\n",
       "  </thead>\n",
       "  <tbody>\n",
       "    <tr>\n",
       "      <th>0</th>\n",
       "      <td>Intercept</td>\n",
       "      <td>29.017</td>\n",
       "      <td>1.656</td>\n",
       "      <td>17.525</td>\n",
       "      <td>0.000</td>\n",
       "      <td>25.772</td>\n",
       "      <td>32.262</td>\n",
       "    </tr>\n",
       "    <tr>\n",
       "      <th>1</th>\n",
       "      <td>grammaticality[T.gram-]</td>\n",
       "      <td>-0.015</td>\n",
       "      <td>0.997</td>\n",
       "      <td>-0.016</td>\n",
       "      <td>0.988</td>\n",
       "      <td>-1.969</td>\n",
       "      <td>1.938</td>\n",
       "    </tr>\n",
       "  </tbody>\n",
       "</table>\n",
       "</div>"
      ],
      "text/plain": [
       "                 Parameter   Coef. Std.Err.       z  P>|z|  [0.025  0.975]\n",
       "0                Intercept  29.017    1.656  17.525  0.000  25.772  32.262\n",
       "1  grammaticality[T.gram-]  -0.015    0.997  -0.016  0.988  -1.969   1.938"
      ]
     },
     "metadata": {},
     "output_type": "display_data"
    },
    {
     "name": "stdout",
     "output_type": "stream",
     "text": [
      "\n",
      "=== RANDOM EFFECTS / VARIANCE-COVARIANCE ===\n"
     ]
    },
    {
     "data": {
      "text/html": [
       "<div>\n",
       "<style scoped>\n",
       "    .dataframe tbody tr th:only-of-type {\n",
       "        vertical-align: middle;\n",
       "    }\n",
       "\n",
       "    .dataframe tbody tr th {\n",
       "        vertical-align: top;\n",
       "    }\n",
       "\n",
       "    .dataframe thead th {\n",
       "        text-align: right;\n",
       "    }\n",
       "</style>\n",
       "<table border=\"1\" class=\"dataframe\">\n",
       "  <thead>\n",
       "    <tr style=\"text-align: right;\">\n",
       "      <th></th>\n",
       "      <th>Parameter</th>\n",
       "      <th>Coef.</th>\n",
       "      <th>Std.Err.</th>\n",
       "    </tr>\n",
       "  </thead>\n",
       "  <tbody>\n",
       "    <tr>\n",
       "      <th>0</th>\n",
       "      <td>Group Var</td>\n",
       "      <td>44.896</td>\n",
       "      <td>1.872</td>\n",
       "    </tr>\n",
       "  </tbody>\n",
       "</table>\n",
       "</div>"
      ],
      "text/plain": [
       "   Parameter   Coef. Std.Err.\n",
       "0  Group Var  44.896    1.872"
      ]
     },
     "metadata": {},
     "output_type": "display_data"
    },
    {
     "data": {
      "text/plain": [
       "<statsmodels.regression.mixed_linear_model.MixedLMResultsWrapper at 0x1480c59e68e0>"
      ]
     },
     "execution_count": 18,
     "metadata": {},
     "output_type": "execute_result"
    }
   ],
   "source": [
    "# division by grammaticality\n",
    "iv_list = ['grammaticality']\n",
    "mixed_effects_linear_regression(ppgap_df, iv_list, 'region_surprisal', 'pp gap position: division by grammaticality')"
   ]
  },
  {
   "cell_type": "markdown",
   "id": "ae6a9ac5",
   "metadata": {},
   "source": [
    "Embedded Clause"
   ]
  },
  {
   "cell_type": "code",
   "execution_count": 19,
   "id": "3b784788",
   "metadata": {},
   "outputs": [],
   "source": [
    "embed = ['subj', 'modifier', 'verb', 'object', 'prep', 'goal', 'temp_mod', 'end']\n",
    "sentence_df['embed_surprisal'] = sentence_df.apply(lambda x: sum_region_surprisal(x, embed, normalize = True), axis = 1)"
   ]
  },
  {
   "cell_type": "markdown",
   "id": "bb1cad40",
   "metadata": {},
   "source": [
    "Embedded Clause - Object Gap Position"
   ]
  },
  {
   "cell_type": "code",
   "execution_count": 20,
   "id": "c0a5486a",
   "metadata": {},
   "outputs": [],
   "source": [
    "# filter for object gap\n",
    "embed_objectgap_df = sentence_df[sentence_df['gap_position'] == 'DO']"
   ]
  },
  {
   "cell_type": "code",
   "execution_count": 21,
   "id": "7a81daef",
   "metadata": {},
   "outputs": [
    {
     "name": "stdout",
     "output_type": "stream",
     "text": [
      "\n",
      "=== OBJECT GAP POSITION: GAP- ===\n",
      "\n",
      "=== MODEL SUMMARY ===\n",
      ":            MixedLM Dependent Variable: embed_surprisal\n",
      "No. Observations: 160\n",
      "Method: REML\n",
      "No. Groups: 20\n",
      "Scale: 0.5310\n",
      "Min. group size: 8\n",
      "Log-Likelihood: -195.6038\n",
      "Max. group size: 8\n",
      "Converged: Yes\n",
      "Mean group size: 8.0\n",
      "\n",
      "=== FIXED EFFECTS COEFFICIENTS ===\n"
     ]
    },
    {
     "data": {
      "text/html": [
       "<div>\n",
       "<style scoped>\n",
       "    .dataframe tbody tr th:only-of-type {\n",
       "        vertical-align: middle;\n",
       "    }\n",
       "\n",
       "    .dataframe tbody tr th {\n",
       "        vertical-align: top;\n",
       "    }\n",
       "\n",
       "    .dataframe thead th {\n",
       "        text-align: right;\n",
       "    }\n",
       "</style>\n",
       "<table border=\"1\" class=\"dataframe\">\n",
       "  <thead>\n",
       "    <tr style=\"text-align: right;\">\n",
       "      <th></th>\n",
       "      <th>Parameter</th>\n",
       "      <th>Coef.</th>\n",
       "      <th>Std.Err.</th>\n",
       "      <th>z</th>\n",
       "      <th>P&gt;|z|</th>\n",
       "      <th>[0.025</th>\n",
       "      <th>0.975]</th>\n",
       "    </tr>\n",
       "  </thead>\n",
       "  <tbody>\n",
       "    <tr>\n",
       "      <th>0</th>\n",
       "      <td>Intercept</td>\n",
       "      <td>9.699</td>\n",
       "      <td>0.136</td>\n",
       "      <td>71.257</td>\n",
       "      <td>0.000</td>\n",
       "      <td>9.432</td>\n",
       "      <td>9.966</td>\n",
       "    </tr>\n",
       "    <tr>\n",
       "      <th>1</th>\n",
       "      <td>wh_numeric</td>\n",
       "      <td>0.049</td>\n",
       "      <td>0.058</td>\n",
       "      <td>0.852</td>\n",
       "      <td>0.394</td>\n",
       "      <td>-0.064</td>\n",
       "      <td>0.162</td>\n",
       "    </tr>\n",
       "  </tbody>\n",
       "</table>\n",
       "</div>"
      ],
      "text/plain": [
       "    Parameter  Coef. Std.Err.       z  P>|z|  [0.025 0.975]\n",
       "0   Intercept  9.699    0.136  71.257  0.000   9.432  9.966\n",
       "1  wh_numeric  0.049    0.058   0.852  0.394  -0.064  0.162"
      ]
     },
     "metadata": {},
     "output_type": "display_data"
    },
    {
     "name": "stdout",
     "output_type": "stream",
     "text": [
      "\n",
      "=== RANDOM EFFECTS / VARIANCE-COVARIANCE ===\n"
     ]
    },
    {
     "data": {
      "text/html": [
       "<div>\n",
       "<style scoped>\n",
       "    .dataframe tbody tr th:only-of-type {\n",
       "        vertical-align: middle;\n",
       "    }\n",
       "\n",
       "    .dataframe tbody tr th {\n",
       "        vertical-align: top;\n",
       "    }\n",
       "\n",
       "    .dataframe thead th {\n",
       "        text-align: right;\n",
       "    }\n",
       "</style>\n",
       "<table border=\"1\" class=\"dataframe\">\n",
       "  <thead>\n",
       "    <tr style=\"text-align: right;\">\n",
       "      <th></th>\n",
       "      <th>Parameter</th>\n",
       "      <th>Coef.</th>\n",
       "      <th>Std.Err.</th>\n",
       "    </tr>\n",
       "  </thead>\n",
       "  <tbody>\n",
       "    <tr>\n",
       "      <th>0</th>\n",
       "      <td>Group Var</td>\n",
       "      <td>0.304</td>\n",
       "      <td>0.176</td>\n",
       "    </tr>\n",
       "  </tbody>\n",
       "</table>\n",
       "</div>"
      ],
      "text/plain": [
       "   Parameter  Coef. Std.Err.\n",
       "0  Group Var  0.304    0.176"
      ]
     },
     "metadata": {},
     "output_type": "display_data"
    },
    {
     "data": {
      "text/plain": [
       "<statsmodels.regression.mixed_linear_model.MixedLMResultsWrapper at 0x1480c5a43a90>"
      ]
     },
     "execution_count": 21,
     "metadata": {},
     "output_type": "execute_result"
    }
   ],
   "source": [
    "# flip test: gap-\n",
    "no_gap_df = embed_objectgap_df[embed_objectgap_df['gap_numeric'] == -1]\n",
    "iv_list = ['wh_numeric']\n",
    "mixed_effects_linear_regression(no_gap_df, iv_list, 'embed_surprisal', 'object gap position: gap-')"
   ]
  },
  {
   "cell_type": "code",
   "execution_count": 22,
   "id": "699cb020",
   "metadata": {},
   "outputs": [
    {
     "name": "stdout",
     "output_type": "stream",
     "text": [
      "\n",
      "=== OBJECT GAP POSITION: GAP+ ===\n",
      "\n",
      "=== MODEL SUMMARY ===\n",
      ":            MixedLM Dependent Variable: embed_surprisal\n",
      "No. Observations: 160\n",
      "Method: REML\n",
      "No. Groups: 20\n",
      "Scale: 0.8743\n",
      "Min. group size: 8\n",
      "Log-Likelihood: -234.2657\n",
      "Max. group size: 8\n",
      "Converged: Yes\n",
      "Mean group size: 8.0\n",
      "\n",
      "=== FIXED EFFECTS COEFFICIENTS ===\n"
     ]
    },
    {
     "data": {
      "text/html": [
       "<div>\n",
       "<style scoped>\n",
       "    .dataframe tbody tr th:only-of-type {\n",
       "        vertical-align: middle;\n",
       "    }\n",
       "\n",
       "    .dataframe tbody tr th {\n",
       "        vertical-align: top;\n",
       "    }\n",
       "\n",
       "    .dataframe thead th {\n",
       "        text-align: right;\n",
       "    }\n",
       "</style>\n",
       "<table border=\"1\" class=\"dataframe\">\n",
       "  <thead>\n",
       "    <tr style=\"text-align: right;\">\n",
       "      <th></th>\n",
       "      <th>Parameter</th>\n",
       "      <th>Coef.</th>\n",
       "      <th>Std.Err.</th>\n",
       "      <th>z</th>\n",
       "      <th>P&gt;|z|</th>\n",
       "      <th>[0.025</th>\n",
       "      <th>0.975]</th>\n",
       "    </tr>\n",
       "  </thead>\n",
       "  <tbody>\n",
       "    <tr>\n",
       "      <th>0</th>\n",
       "      <td>Intercept</td>\n",
       "      <td>9.220</td>\n",
       "      <td>0.168</td>\n",
       "      <td>54.847</td>\n",
       "      <td>0.000</td>\n",
       "      <td>8.890</td>\n",
       "      <td>9.549</td>\n",
       "    </tr>\n",
       "    <tr>\n",
       "      <th>1</th>\n",
       "      <td>wh_numeric</td>\n",
       "      <td>0.041</td>\n",
       "      <td>0.074</td>\n",
       "      <td>0.554</td>\n",
       "      <td>0.580</td>\n",
       "      <td>-0.104</td>\n",
       "      <td>0.186</td>\n",
       "    </tr>\n",
       "  </tbody>\n",
       "</table>\n",
       "</div>"
      ],
      "text/plain": [
       "    Parameter  Coef. Std.Err.       z  P>|z|  [0.025 0.975]\n",
       "0   Intercept  9.220    0.168  54.847  0.000   8.890  9.549\n",
       "1  wh_numeric  0.041    0.074   0.554  0.580  -0.104  0.186"
      ]
     },
     "metadata": {},
     "output_type": "display_data"
    },
    {
     "name": "stdout",
     "output_type": "stream",
     "text": [
      "\n",
      "=== RANDOM EFFECTS / VARIANCE-COVARIANCE ===\n"
     ]
    },
    {
     "data": {
      "text/html": [
       "<div>\n",
       "<style scoped>\n",
       "    .dataframe tbody tr th:only-of-type {\n",
       "        vertical-align: middle;\n",
       "    }\n",
       "\n",
       "    .dataframe tbody tr th {\n",
       "        vertical-align: top;\n",
       "    }\n",
       "\n",
       "    .dataframe thead th {\n",
       "        text-align: right;\n",
       "    }\n",
       "</style>\n",
       "<table border=\"1\" class=\"dataframe\">\n",
       "  <thead>\n",
       "    <tr style=\"text-align: right;\">\n",
       "      <th></th>\n",
       "      <th>Parameter</th>\n",
       "      <th>Coef.</th>\n",
       "      <th>Std.Err.</th>\n",
       "    </tr>\n",
       "  </thead>\n",
       "  <tbody>\n",
       "    <tr>\n",
       "      <th>0</th>\n",
       "      <td>Group Var</td>\n",
       "      <td>0.456</td>\n",
       "      <td>0.209</td>\n",
       "    </tr>\n",
       "  </tbody>\n",
       "</table>\n",
       "</div>"
      ],
      "text/plain": [
       "   Parameter  Coef. Std.Err.\n",
       "0  Group Var  0.456    0.209"
      ]
     },
     "metadata": {},
     "output_type": "display_data"
    },
    {
     "data": {
      "text/plain": [
       "<statsmodels.regression.mixed_linear_model.MixedLMResultsWrapper at 0x1480c59dd8b0>"
      ]
     },
     "execution_count": 22,
     "metadata": {},
     "output_type": "execute_result"
    }
   ],
   "source": [
    "# flip test: gap+\n",
    "gap_df = embed_objectgap_df[embed_objectgap_df['gap_numeric'] == 1]\n",
    "iv_list = ['wh_numeric']\n",
    "mixed_effects_linear_regression(gap_df, iv_list, 'embed_surprisal', 'object gap position: gap+')"
   ]
  },
  {
   "cell_type": "code",
   "execution_count": 23,
   "id": "167f2d87",
   "metadata": {},
   "outputs": [
    {
     "name": "stdout",
     "output_type": "stream",
     "text": [
      "\n",
      "=== OBJECT GAP POSITION: DIVISION BY GRAMMATICALITY ===\n",
      "\n",
      "=== MODEL SUMMARY ===\n",
      "Model: MixedLM\n",
      "Dependent Variable: embed_surprisal\n",
      "No. Observations: 320\n",
      "Method: REML\n",
      "No. Groups: 20\n",
      "Scale: 0.7416\n",
      "Min. group size: 16\n",
      "Log-Likelihood: -430.2202\n",
      "Max. group size: 16\n",
      "Converged: Yes\n",
      "Mean group size: 16.0\n",
      "\n",
      "=== FIXED EFFECTS COEFFICIENTS ===\n"
     ]
    },
    {
     "data": {
      "text/html": [
       "<div>\n",
       "<style scoped>\n",
       "    .dataframe tbody tr th:only-of-type {\n",
       "        vertical-align: middle;\n",
       "    }\n",
       "\n",
       "    .dataframe tbody tr th {\n",
       "        vertical-align: top;\n",
       "    }\n",
       "\n",
       "    .dataframe thead th {\n",
       "        text-align: right;\n",
       "    }\n",
       "</style>\n",
       "<table border=\"1\" class=\"dataframe\">\n",
       "  <thead>\n",
       "    <tr style=\"text-align: right;\">\n",
       "      <th></th>\n",
       "      <th>Parameter</th>\n",
       "      <th>Coef.</th>\n",
       "      <th>Std.Err.</th>\n",
       "      <th>z</th>\n",
       "      <th>P&gt;|z|</th>\n",
       "      <th>[0.025</th>\n",
       "      <th>0.975]</th>\n",
       "    </tr>\n",
       "  </thead>\n",
       "  <tbody>\n",
       "    <tr>\n",
       "      <th>0</th>\n",
       "      <td>Intercept</td>\n",
       "      <td>9.455</td>\n",
       "      <td>0.157</td>\n",
       "      <td>60.412</td>\n",
       "      <td>0.000</td>\n",
       "      <td>9.149</td>\n",
       "      <td>9.762</td>\n",
       "    </tr>\n",
       "    <tr>\n",
       "      <th>1</th>\n",
       "      <td>grammaticality[T.gram-]</td>\n",
       "      <td>0.008</td>\n",
       "      <td>0.096</td>\n",
       "      <td>0.085</td>\n",
       "      <td>0.932</td>\n",
       "      <td>-0.181</td>\n",
       "      <td>0.197</td>\n",
       "    </tr>\n",
       "  </tbody>\n",
       "</table>\n",
       "</div>"
      ],
      "text/plain": [
       "                 Parameter  Coef. Std.Err.       z  P>|z|  [0.025 0.975]\n",
       "0                Intercept  9.455    0.157  60.412  0.000   9.149  9.762\n",
       "1  grammaticality[T.gram-]  0.008    0.096   0.085  0.932  -0.181  0.197"
      ]
     },
     "metadata": {},
     "output_type": "display_data"
    },
    {
     "name": "stdout",
     "output_type": "stream",
     "text": [
      "\n",
      "=== RANDOM EFFECTS / VARIANCE-COVARIANCE ===\n"
     ]
    },
    {
     "data": {
      "text/html": [
       "<div>\n",
       "<style scoped>\n",
       "    .dataframe tbody tr th:only-of-type {\n",
       "        vertical-align: middle;\n",
       "    }\n",
       "\n",
       "    .dataframe tbody tr th {\n",
       "        vertical-align: top;\n",
       "    }\n",
       "\n",
       "    .dataframe thead th {\n",
       "        text-align: right;\n",
       "    }\n",
       "</style>\n",
       "<table border=\"1\" class=\"dataframe\">\n",
       "  <thead>\n",
       "    <tr style=\"text-align: right;\">\n",
       "      <th></th>\n",
       "      <th>Parameter</th>\n",
       "      <th>Coef.</th>\n",
       "      <th>Std.Err.</th>\n",
       "    </tr>\n",
       "  </thead>\n",
       "  <tbody>\n",
       "    <tr>\n",
       "      <th>0</th>\n",
       "      <td>Group Var</td>\n",
       "      <td>0.397</td>\n",
       "      <td>0.172</td>\n",
       "    </tr>\n",
       "  </tbody>\n",
       "</table>\n",
       "</div>"
      ],
      "text/plain": [
       "   Parameter  Coef. Std.Err.\n",
       "0  Group Var  0.397    0.172"
      ]
     },
     "metadata": {},
     "output_type": "display_data"
    },
    {
     "data": {
      "text/plain": [
       "<statsmodels.regression.mixed_linear_model.MixedLMResultsWrapper at 0x1480c5a456a0>"
      ]
     },
     "execution_count": 23,
     "metadata": {},
     "output_type": "execute_result"
    }
   ],
   "source": [
    "# division by grammaticality\n",
    "iv_list = ['grammaticality']\n",
    "mixed_effects_linear_regression(embed_objectgap_df, iv_list, 'embed_surprisal', 'object gap position: division by grammaticality')"
   ]
  },
  {
   "cell_type": "markdown",
   "id": "5537a5f1",
   "metadata": {},
   "source": [
    "Embedded Clause - PP/Goal Gap Position"
   ]
  },
  {
   "cell_type": "code",
   "execution_count": 24,
   "id": "7716d953",
   "metadata": {},
   "outputs": [],
   "source": [
    "# filter for PP gap\n",
    "embed_ppgap_df = sentence_df[sentence_df['gap_position'] == 'IO']"
   ]
  },
  {
   "cell_type": "code",
   "execution_count": 25,
   "id": "58f3f7fa",
   "metadata": {},
   "outputs": [
    {
     "name": "stdout",
     "output_type": "stream",
     "text": [
      "\n",
      "=== PP GAP POSITION: GAP- ===\n",
      "\n",
      "=== MODEL SUMMARY ===\n",
      ":            MixedLM Dependent Variable: embed_surprisal\n",
      "No. Observations: 160\n",
      "Method: REML\n",
      "No. Groups: 20\n",
      "Scale: 0.5261\n",
      "Min. group size: 8\n",
      "Log-Likelihood: -195.3202\n",
      "Max. group size: 8\n",
      "Converged: Yes\n",
      "Mean group size: 8.0\n",
      "\n",
      "=== FIXED EFFECTS COEFFICIENTS ===\n"
     ]
    },
    {
     "data": {
      "text/html": [
       "<div>\n",
       "<style scoped>\n",
       "    .dataframe tbody tr th:only-of-type {\n",
       "        vertical-align: middle;\n",
       "    }\n",
       "\n",
       "    .dataframe tbody tr th {\n",
       "        vertical-align: top;\n",
       "    }\n",
       "\n",
       "    .dataframe thead th {\n",
       "        text-align: right;\n",
       "    }\n",
       "</style>\n",
       "<table border=\"1\" class=\"dataframe\">\n",
       "  <thead>\n",
       "    <tr style=\"text-align: right;\">\n",
       "      <th></th>\n",
       "      <th>Parameter</th>\n",
       "      <th>Coef.</th>\n",
       "      <th>Std.Err.</th>\n",
       "      <th>z</th>\n",
       "      <th>P&gt;|z|</th>\n",
       "      <th>[0.025</th>\n",
       "      <th>0.975]</th>\n",
       "    </tr>\n",
       "  </thead>\n",
       "  <tbody>\n",
       "    <tr>\n",
       "      <th>0</th>\n",
       "      <td>Intercept</td>\n",
       "      <td>9.728</td>\n",
       "      <td>0.139</td>\n",
       "      <td>70.116</td>\n",
       "      <td>0.000</td>\n",
       "      <td>9.456</td>\n",
       "      <td>10.000</td>\n",
       "    </tr>\n",
       "    <tr>\n",
       "      <th>1</th>\n",
       "      <td>wh_numeric</td>\n",
       "      <td>0.078</td>\n",
       "      <td>0.057</td>\n",
       "      <td>1.358</td>\n",
       "      <td>0.175</td>\n",
       "      <td>-0.035</td>\n",
       "      <td>0.190</td>\n",
       "    </tr>\n",
       "  </tbody>\n",
       "</table>\n",
       "</div>"
      ],
      "text/plain": [
       "    Parameter  Coef. Std.Err.       z  P>|z|  [0.025  0.975]\n",
       "0   Intercept  9.728    0.139  70.116  0.000   9.456  10.000\n",
       "1  wh_numeric  0.078    0.057   1.358  0.175  -0.035   0.190"
      ]
     },
     "metadata": {},
     "output_type": "display_data"
    },
    {
     "name": "stdout",
     "output_type": "stream",
     "text": [
      "\n",
      "=== RANDOM EFFECTS / VARIANCE-COVARIANCE ===\n"
     ]
    },
    {
     "data": {
      "text/html": [
       "<div>\n",
       "<style scoped>\n",
       "    .dataframe tbody tr th:only-of-type {\n",
       "        vertical-align: middle;\n",
       "    }\n",
       "\n",
       "    .dataframe tbody tr th {\n",
       "        vertical-align: top;\n",
       "    }\n",
       "\n",
       "    .dataframe thead th {\n",
       "        text-align: right;\n",
       "    }\n",
       "</style>\n",
       "<table border=\"1\" class=\"dataframe\">\n",
       "  <thead>\n",
       "    <tr style=\"text-align: right;\">\n",
       "      <th></th>\n",
       "      <th>Parameter</th>\n",
       "      <th>Coef.</th>\n",
       "      <th>Std.Err.</th>\n",
       "    </tr>\n",
       "  </thead>\n",
       "  <tbody>\n",
       "    <tr>\n",
       "      <th>0</th>\n",
       "      <td>Group Var</td>\n",
       "      <td>0.319</td>\n",
       "      <td>0.184</td>\n",
       "    </tr>\n",
       "  </tbody>\n",
       "</table>\n",
       "</div>"
      ],
      "text/plain": [
       "   Parameter  Coef. Std.Err.\n",
       "0  Group Var  0.319    0.184"
      ]
     },
     "metadata": {},
     "output_type": "display_data"
    },
    {
     "data": {
      "text/plain": [
       "<statsmodels.regression.mixed_linear_model.MixedLMResultsWrapper at 0x1480c5a3b1c0>"
      ]
     },
     "execution_count": 25,
     "metadata": {},
     "output_type": "execute_result"
    }
   ],
   "source": [
    "# flip test: gap-\n",
    "no_gap_df = embed_ppgap_df[embed_ppgap_df['gap_numeric'] == -1]\n",
    "iv_list = ['wh_numeric']\n",
    "mixed_effects_linear_regression(no_gap_df, iv_list, 'embed_surprisal', 'pp gap position: gap-')"
   ]
  },
  {
   "cell_type": "code",
   "execution_count": 26,
   "id": "acc421b0",
   "metadata": {},
   "outputs": [
    {
     "name": "stdout",
     "output_type": "stream",
     "text": [
      "\n",
      "=== PP GAP POSITION: GAP+ ===\n",
      "\n",
      "=== MODEL SUMMARY ===\n",
      ":            MixedLM Dependent Variable: embed_surprisal\n",
      "No. Observations: 160\n",
      "Method: REML\n",
      "No. Groups: 20\n",
      "Scale: 0.6897\n",
      "Min. group size: 8\n",
      "Log-Likelihood: -212.7192\n",
      "Max. group size: 8\n",
      "Converged: Yes\n",
      "Mean group size: 8.0\n",
      "\n",
      "=== FIXED EFFECTS COEFFICIENTS ===\n"
     ]
    },
    {
     "data": {
      "text/html": [
       "<div>\n",
       "<style scoped>\n",
       "    .dataframe tbody tr th:only-of-type {\n",
       "        vertical-align: middle;\n",
       "    }\n",
       "\n",
       "    .dataframe tbody tr th {\n",
       "        vertical-align: top;\n",
       "    }\n",
       "\n",
       "    .dataframe thead th {\n",
       "        text-align: right;\n",
       "    }\n",
       "</style>\n",
       "<table border=\"1\" class=\"dataframe\">\n",
       "  <thead>\n",
       "    <tr style=\"text-align: right;\">\n",
       "      <th></th>\n",
       "      <th>Parameter</th>\n",
       "      <th>Coef.</th>\n",
       "      <th>Std.Err.</th>\n",
       "      <th>z</th>\n",
       "      <th>P&gt;|z|</th>\n",
       "      <th>[0.025</th>\n",
       "      <th>0.975]</th>\n",
       "    </tr>\n",
       "  </thead>\n",
       "  <tbody>\n",
       "    <tr>\n",
       "      <th>0</th>\n",
       "      <td>Intercept</td>\n",
       "      <td>9.658</td>\n",
       "      <td>0.129</td>\n",
       "      <td>75.009</td>\n",
       "      <td>0.000</td>\n",
       "      <td>9.406</td>\n",
       "      <td>9.910</td>\n",
       "    </tr>\n",
       "    <tr>\n",
       "      <th>1</th>\n",
       "      <td>wh_numeric</td>\n",
       "      <td>0.084</td>\n",
       "      <td>0.066</td>\n",
       "      <td>1.282</td>\n",
       "      <td>0.200</td>\n",
       "      <td>-0.044</td>\n",
       "      <td>0.213</td>\n",
       "    </tr>\n",
       "  </tbody>\n",
       "</table>\n",
       "</div>"
      ],
      "text/plain": [
       "    Parameter  Coef. Std.Err.       z  P>|z|  [0.025 0.975]\n",
       "0   Intercept  9.658    0.129  75.009  0.000   9.406  9.910\n",
       "1  wh_numeric  0.084    0.066   1.282  0.200  -0.044  0.213"
      ]
     },
     "metadata": {},
     "output_type": "display_data"
    },
    {
     "name": "stdout",
     "output_type": "stream",
     "text": [
      "\n",
      "=== RANDOM EFFECTS / VARIANCE-COVARIANCE ===\n"
     ]
    },
    {
     "data": {
      "text/html": [
       "<div>\n",
       "<style scoped>\n",
       "    .dataframe tbody tr th:only-of-type {\n",
       "        vertical-align: middle;\n",
       "    }\n",
       "\n",
       "    .dataframe tbody tr th {\n",
       "        vertical-align: top;\n",
       "    }\n",
       "\n",
       "    .dataframe thead th {\n",
       "        text-align: right;\n",
       "    }\n",
       "</style>\n",
       "<table border=\"1\" class=\"dataframe\">\n",
       "  <thead>\n",
       "    <tr style=\"text-align: right;\">\n",
       "      <th></th>\n",
       "      <th>Parameter</th>\n",
       "      <th>Coef.</th>\n",
       "      <th>Std.Err.</th>\n",
       "    </tr>\n",
       "  </thead>\n",
       "  <tbody>\n",
       "    <tr>\n",
       "      <th>0</th>\n",
       "      <td>Group Var</td>\n",
       "      <td>0.245</td>\n",
       "      <td>0.138</td>\n",
       "    </tr>\n",
       "  </tbody>\n",
       "</table>\n",
       "</div>"
      ],
      "text/plain": [
       "   Parameter  Coef. Std.Err.\n",
       "0  Group Var  0.245    0.138"
      ]
     },
     "metadata": {},
     "output_type": "display_data"
    },
    {
     "data": {
      "text/plain": [
       "<statsmodels.regression.mixed_linear_model.MixedLMResultsWrapper at 0x1480c5a34160>"
      ]
     },
     "execution_count": 26,
     "metadata": {},
     "output_type": "execute_result"
    }
   ],
   "source": [
    "# flip test: gap+\n",
    "gap_df = embed_ppgap_df[embed_ppgap_df['gap_numeric'] == 1]\n",
    "iv_list = ['wh_numeric']\n",
    "mixed_effects_linear_regression(gap_df, iv_list, 'embed_surprisal', 'pp gap position: gap+')"
   ]
  },
  {
   "cell_type": "code",
   "execution_count": 27,
   "id": "e51c2fb6",
   "metadata": {},
   "outputs": [
    {
     "name": "stdout",
     "output_type": "stream",
     "text": [
      "\n",
      "=== PP GAP POSITION: DIVISION BY GRAMMATICALITY ===\n",
      "\n",
      "=== MODEL SUMMARY ===\n",
      "Model: MixedLM\n",
      "Dependent Variable: embed_surprisal\n",
      "No. Observations: 320\n",
      "Method: REML\n",
      "No. Groups: 20\n",
      "Scale: 0.6016\n",
      "Min. group size: 16\n",
      "Log-Likelihood: -396.1486\n",
      "Max. group size: 16\n",
      "Converged: Yes\n",
      "Mean group size: 16.0\n",
      "\n",
      "=== FIXED EFFECTS COEFFICIENTS ===\n"
     ]
    },
    {
     "data": {
      "text/html": [
       "<div>\n",
       "<style scoped>\n",
       "    .dataframe tbody tr th:only-of-type {\n",
       "        vertical-align: middle;\n",
       "    }\n",
       "\n",
       "    .dataframe tbody tr th {\n",
       "        vertical-align: top;\n",
       "    }\n",
       "\n",
       "    .dataframe thead th {\n",
       "        text-align: right;\n",
       "    }\n",
       "</style>\n",
       "<table border=\"1\" class=\"dataframe\">\n",
       "  <thead>\n",
       "    <tr style=\"text-align: right;\">\n",
       "      <th></th>\n",
       "      <th>Parameter</th>\n",
       "      <th>Coef.</th>\n",
       "      <th>Std.Err.</th>\n",
       "      <th>z</th>\n",
       "      <th>P&gt;|z|</th>\n",
       "      <th>[0.025</th>\n",
       "      <th>0.975]</th>\n",
       "    </tr>\n",
       "  </thead>\n",
       "  <tbody>\n",
       "    <tr>\n",
       "      <th>0</th>\n",
       "      <td>Intercept</td>\n",
       "      <td>9.696</td>\n",
       "      <td>0.136</td>\n",
       "      <td>71.448</td>\n",
       "      <td>0.000</td>\n",
       "      <td>9.430</td>\n",
       "      <td>9.962</td>\n",
       "    </tr>\n",
       "    <tr>\n",
       "      <th>1</th>\n",
       "      <td>grammaticality[T.gram-]</td>\n",
       "      <td>-0.006</td>\n",
       "      <td>0.087</td>\n",
       "      <td>-0.073</td>\n",
       "      <td>0.942</td>\n",
       "      <td>-0.176</td>\n",
       "      <td>0.164</td>\n",
       "    </tr>\n",
       "  </tbody>\n",
       "</table>\n",
       "</div>"
      ],
      "text/plain": [
       "                 Parameter   Coef. Std.Err.       z  P>|z|  [0.025 0.975]\n",
       "0                Intercept   9.696    0.136  71.448  0.000   9.430  9.962\n",
       "1  grammaticality[T.gram-]  -0.006    0.087  -0.073  0.942  -0.176  0.164"
      ]
     },
     "metadata": {},
     "output_type": "display_data"
    },
    {
     "name": "stdout",
     "output_type": "stream",
     "text": [
      "\n",
      "=== RANDOM EFFECTS / VARIANCE-COVARIANCE ===\n"
     ]
    },
    {
     "data": {
      "text/html": [
       "<div>\n",
       "<style scoped>\n",
       "    .dataframe tbody tr th:only-of-type {\n",
       "        vertical-align: middle;\n",
       "    }\n",
       "\n",
       "    .dataframe tbody tr th {\n",
       "        vertical-align: top;\n",
       "    }\n",
       "\n",
       "    .dataframe thead th {\n",
       "        text-align: right;\n",
       "    }\n",
       "</style>\n",
       "<table border=\"1\" class=\"dataframe\">\n",
       "  <thead>\n",
       "    <tr style=\"text-align: right;\">\n",
       "      <th></th>\n",
       "      <th>Parameter</th>\n",
       "      <th>Coef.</th>\n",
       "      <th>Std.Err.</th>\n",
       "    </tr>\n",
       "  </thead>\n",
       "  <tbody>\n",
       "    <tr>\n",
       "      <th>0</th>\n",
       "      <td>Group Var</td>\n",
       "      <td>0.293</td>\n",
       "      <td>0.143</td>\n",
       "    </tr>\n",
       "  </tbody>\n",
       "</table>\n",
       "</div>"
      ],
      "text/plain": [
       "   Parameter  Coef. Std.Err.\n",
       "0  Group Var  0.293    0.143"
      ]
     },
     "metadata": {},
     "output_type": "display_data"
    },
    {
     "data": {
      "text/plain": [
       "<statsmodels.regression.mixed_linear_model.MixedLMResultsWrapper at 0x1480c5a25430>"
      ]
     },
     "execution_count": 27,
     "metadata": {},
     "output_type": "execute_result"
    }
   ],
   "source": [
    "# division by grammaticality\n",
    "iv_list = ['grammaticality']\n",
    "mixed_effects_linear_regression(embed_ppgap_df, iv_list, 'embed_surprisal', 'pp gap position: division by grammaticality')"
   ]
  },
  {
   "cell_type": "markdown",
   "id": "3330747a",
   "metadata": {},
   "source": [
    "#### Double Gaps"
   ]
  },
  {
   "cell_type": "code",
   "execution_count": 28,
   "id": "209c4e4d",
   "metadata": {
    "scrolled": true
   },
   "outputs": [],
   "source": [
    "sentence_df = pd.read_csv('test_sentences/Double Gaps.csv')"
   ]
  },
  {
   "cell_type": "code",
   "execution_count": 29,
   "id": "dce83afe",
   "metadata": {},
   "outputs": [],
   "source": [
    "sentence_df[['modifier', 'end']] = sentence_df['modifier'].apply(split_ends)\n",
    "sentence_df = encode_wh_licensor(sentence_df)\n",
    "sentence_df['gap_numeric'] = sentence_df['gap'].replace(0, -1)\n",
    "syntactic_parts = ['prefix', 'licensor', 'subj', 'verb', 'object', 'modifier']\n",
    "sentence_df['sentence'] = sentence_df.apply(lambda x: merge_sentence(x, syntactic_parts), axis = 1)\n",
    "sentence_df['surprisals'] = sentence_df['sentence'].apply(calculate_surprisal)\n",
    "sentence_df['grammaticality'] = sentence_df.apply(assign_grammaticality, axis = 1)"
   ]
  },
  {
   "cell_type": "markdown",
   "id": "ea1270c4",
   "metadata": {},
   "source": [
    "Post Gap Region - Modifier"
   ]
  },
  {
   "cell_type": "code",
   "execution_count": 30,
   "id": "8480f3d5",
   "metadata": {
    "scrolled": true
   },
   "outputs": [],
   "source": [
    "#sentence_df['region_surprisal'] = sentence_df.apply(lambda x: sum_region_surprisal(x, ['modifier']), axis = 1)\n",
    "sentence_df['region_surprisal'] = sentence_df.apply(lambda x: sum_region_surprisal(x, ['modifier'], 'object'), axis = 1)"
   ]
  },
  {
   "cell_type": "code",
   "execution_count": 31,
   "id": "36e415ec",
   "metadata": {},
   "outputs": [
    {
     "name": "stdout",
     "output_type": "stream",
     "text": [
      "\n",
      "=== DOUBLE GAP MODIFIER: GAP- ===\n",
      "\n",
      "=== MODEL SUMMARY ===\n",
      ":            MixedLM Dependent Variable: region_surprisal\n",
      "No. Observations: 40\n",
      "Method: REML\n",
      "No. Groups: 20\n",
      "Scale: 0.0487\n",
      "Min. group size: 2\n",
      "Log-Likelihood: -60.8275\n",
      "Max. group size: 2\n",
      "Converged: Yes\n",
      "Mean group size: 2.0\n",
      "\n",
      "=== FIXED EFFECTS COEFFICIENTS ===\n"
     ]
    },
    {
     "data": {
      "text/html": [
       "<div>\n",
       "<style scoped>\n",
       "    .dataframe tbody tr th:only-of-type {\n",
       "        vertical-align: middle;\n",
       "    }\n",
       "\n",
       "    .dataframe tbody tr th {\n",
       "        vertical-align: top;\n",
       "    }\n",
       "\n",
       "    .dataframe thead th {\n",
       "        text-align: right;\n",
       "    }\n",
       "</style>\n",
       "<table border=\"1\" class=\"dataframe\">\n",
       "  <thead>\n",
       "    <tr style=\"text-align: right;\">\n",
       "      <th></th>\n",
       "      <th>Parameter</th>\n",
       "      <th>Coef.</th>\n",
       "      <th>Std.Err.</th>\n",
       "      <th>z</th>\n",
       "      <th>P&gt;|z|</th>\n",
       "      <th>[0.025</th>\n",
       "      <th>0.975]</th>\n",
       "    </tr>\n",
       "  </thead>\n",
       "  <tbody>\n",
       "    <tr>\n",
       "      <th>0</th>\n",
       "      <td>Intercept</td>\n",
       "      <td>16.368</td>\n",
       "      <td>0.849</td>\n",
       "      <td>19.281</td>\n",
       "      <td>0.000</td>\n",
       "      <td>14.704</td>\n",
       "      <td>18.032</td>\n",
       "    </tr>\n",
       "    <tr>\n",
       "      <th>1</th>\n",
       "      <td>wh_numeric</td>\n",
       "      <td>0.085</td>\n",
       "      <td>0.035</td>\n",
       "      <td>2.432</td>\n",
       "      <td>0.015</td>\n",
       "      <td>0.016</td>\n",
       "      <td>0.153</td>\n",
       "    </tr>\n",
       "  </tbody>\n",
       "</table>\n",
       "</div>"
      ],
      "text/plain": [
       "    Parameter   Coef. Std.Err.       z  P>|z|  [0.025  0.975]\n",
       "0   Intercept  16.368    0.849  19.281  0.000  14.704  18.032\n",
       "1  wh_numeric   0.085    0.035   2.432  0.015   0.016   0.153"
      ]
     },
     "metadata": {},
     "output_type": "display_data"
    },
    {
     "name": "stdout",
     "output_type": "stream",
     "text": [
      "\n",
      "=== RANDOM EFFECTS / VARIANCE-COVARIANCE ===\n"
     ]
    },
    {
     "data": {
      "text/html": [
       "<div>\n",
       "<style scoped>\n",
       "    .dataframe tbody tr th:only-of-type {\n",
       "        vertical-align: middle;\n",
       "    }\n",
       "\n",
       "    .dataframe tbody tr th {\n",
       "        vertical-align: top;\n",
       "    }\n",
       "\n",
       "    .dataframe thead th {\n",
       "        text-align: right;\n",
       "    }\n",
       "</style>\n",
       "<table border=\"1\" class=\"dataframe\">\n",
       "  <thead>\n",
       "    <tr style=\"text-align: right;\">\n",
       "      <th></th>\n",
       "      <th>Parameter</th>\n",
       "      <th>Coef.</th>\n",
       "      <th>Std.Err.</th>\n",
       "    </tr>\n",
       "  </thead>\n",
       "  <tbody>\n",
       "    <tr>\n",
       "      <th>0</th>\n",
       "      <td>Group Var</td>\n",
       "      <td>14.389</td>\n",
       "      <td>29.972</td>\n",
       "    </tr>\n",
       "  </tbody>\n",
       "</table>\n",
       "</div>"
      ],
      "text/plain": [
       "   Parameter   Coef. Std.Err.\n",
       "0  Group Var  14.389   29.972"
      ]
     },
     "metadata": {},
     "output_type": "display_data"
    },
    {
     "data": {
      "text/plain": [
       "<statsmodels.regression.mixed_linear_model.MixedLMResultsWrapper at 0x1480c5a6b9d0>"
      ]
     },
     "execution_count": 31,
     "metadata": {},
     "output_type": "execute_result"
    }
   ],
   "source": [
    "# flip test: gap-\n",
    "no_gap_df = sentence_df[sentence_df['gap_numeric'] == -1]\n",
    "iv_list = ['wh_numeric']\n",
    "mixed_effects_linear_regression(no_gap_df, iv_list, 'region_surprisal', 'double gap modifier: gap-')"
   ]
  },
  {
   "cell_type": "code",
   "execution_count": 32,
   "id": "cc5c1893",
   "metadata": {},
   "outputs": [
    {
     "name": "stdout",
     "output_type": "stream",
     "text": [
      "\n",
      "=== DOUBLE GAP MODIFIER: GAP+ ===\n",
      "\n",
      "=== MODEL SUMMARY ===\n",
      ":            MixedLM Dependent Variable: region_surprisal\n",
      "No. Observations: 120\n",
      "Method: REML\n",
      "No. Groups: 20\n",
      "Scale: 51.0485\n",
      "Min. group size: 6\n",
      "Log-Likelihood: -413.8524\n",
      "Max. group size: 6\n",
      "Converged: Yes\n",
      "Mean group size: 6.0\n",
      "\n",
      "=== FIXED EFFECTS COEFFICIENTS ===\n"
     ]
    },
    {
     "data": {
      "text/html": [
       "<div>\n",
       "<style scoped>\n",
       "    .dataframe tbody tr th:only-of-type {\n",
       "        vertical-align: middle;\n",
       "    }\n",
       "\n",
       "    .dataframe tbody tr th {\n",
       "        vertical-align: top;\n",
       "    }\n",
       "\n",
       "    .dataframe thead th {\n",
       "        text-align: right;\n",
       "    }\n",
       "</style>\n",
       "<table border=\"1\" class=\"dataframe\">\n",
       "  <thead>\n",
       "    <tr style=\"text-align: right;\">\n",
       "      <th></th>\n",
       "      <th>Parameter</th>\n",
       "      <th>Coef.</th>\n",
       "      <th>Std.Err.</th>\n",
       "      <th>z</th>\n",
       "      <th>P&gt;|z|</th>\n",
       "      <th>[0.025</th>\n",
       "      <th>0.975]</th>\n",
       "    </tr>\n",
       "  </thead>\n",
       "  <tbody>\n",
       "    <tr>\n",
       "      <th>0</th>\n",
       "      <td>Intercept</td>\n",
       "      <td>25.057</td>\n",
       "      <td>1.081</td>\n",
       "      <td>23.184</td>\n",
       "      <td>0.000</td>\n",
       "      <td>22.939</td>\n",
       "      <td>27.176</td>\n",
       "    </tr>\n",
       "    <tr>\n",
       "      <th>1</th>\n",
       "      <td>wh_numeric</td>\n",
       "      <td>0.102</td>\n",
       "      <td>0.652</td>\n",
       "      <td>0.157</td>\n",
       "      <td>0.875</td>\n",
       "      <td>-1.176</td>\n",
       "      <td>1.381</td>\n",
       "    </tr>\n",
       "  </tbody>\n",
       "</table>\n",
       "</div>"
      ],
      "text/plain": [
       "    Parameter   Coef. Std.Err.       z  P>|z|  [0.025  0.975]\n",
       "0   Intercept  25.057    1.081  23.184  0.000  22.939  27.176\n",
       "1  wh_numeric   0.102    0.652   0.157  0.875  -1.176   1.381"
      ]
     },
     "metadata": {},
     "output_type": "display_data"
    },
    {
     "name": "stdout",
     "output_type": "stream",
     "text": [
      "\n",
      "=== RANDOM EFFECTS / VARIANCE-COVARIANCE ===\n"
     ]
    },
    {
     "data": {
      "text/html": [
       "<div>\n",
       "<style scoped>\n",
       "    .dataframe tbody tr th:only-of-type {\n",
       "        vertical-align: middle;\n",
       "    }\n",
       "\n",
       "    .dataframe tbody tr th {\n",
       "        vertical-align: top;\n",
       "    }\n",
       "\n",
       "    .dataframe thead th {\n",
       "        text-align: right;\n",
       "    }\n",
       "</style>\n",
       "<table border=\"1\" class=\"dataframe\">\n",
       "  <thead>\n",
       "    <tr style=\"text-align: right;\">\n",
       "      <th></th>\n",
       "      <th>Parameter</th>\n",
       "      <th>Coef.</th>\n",
       "      <th>Std.Err.</th>\n",
       "    </tr>\n",
       "  </thead>\n",
       "  <tbody>\n",
       "    <tr>\n",
       "      <th>0</th>\n",
       "      <td>Group Var</td>\n",
       "      <td>14.855</td>\n",
       "      <td>1.158</td>\n",
       "    </tr>\n",
       "  </tbody>\n",
       "</table>\n",
       "</div>"
      ],
      "text/plain": [
       "   Parameter   Coef. Std.Err.\n",
       "0  Group Var  14.855    1.158"
      ]
     },
     "metadata": {},
     "output_type": "display_data"
    },
    {
     "data": {
      "text/plain": [
       "<statsmodels.regression.mixed_linear_model.MixedLMResultsWrapper at 0x1480c5a73070>"
      ]
     },
     "execution_count": 32,
     "metadata": {},
     "output_type": "execute_result"
    }
   ],
   "source": [
    "# flip test: gap+\n",
    "gap_df = sentence_df[sentence_df['gap_numeric'] == 1]\n",
    "iv_list = ['wh_numeric']\n",
    "mixed_effects_linear_regression(gap_df, iv_list, 'region_surprisal', 'double gap modifier: gap+')"
   ]
  },
  {
   "cell_type": "code",
   "execution_count": 33,
   "id": "9c10297b",
   "metadata": {},
   "outputs": [
    {
     "name": "stdout",
     "output_type": "stream",
     "text": [
      "\n",
      "=== DOUBLE GAP MODIFIER: DIVISION BY GRAMMATICALITY ===\n",
      "\n",
      "=== MODEL SUMMARY ===\n",
      "Model: MixedLM\n",
      "Dependent Variable: region_surprisal\n",
      "No. Observations: 160\n",
      "Method: REML\n",
      "No. Groups: 20\n",
      "Scale: 59.7264\n",
      "Min. group size: 8\n",
      "Log-Likelihood: -557.7207\n",
      "Max. group size: 8\n",
      "Converged: No\n",
      "Mean group size: 8.0\n",
      "\n",
      "=== FIXED EFFECTS COEFFICIENTS ===\n"
     ]
    },
    {
     "data": {
      "text/html": [
       "<div>\n",
       "<style scoped>\n",
       "    .dataframe tbody tr th:only-of-type {\n",
       "        vertical-align: middle;\n",
       "    }\n",
       "\n",
       "    .dataframe tbody tr th {\n",
       "        vertical-align: top;\n",
       "    }\n",
       "\n",
       "    .dataframe thead th {\n",
       "        text-align: right;\n",
       "    }\n",
       "</style>\n",
       "<table border=\"1\" class=\"dataframe\">\n",
       "  <thead>\n",
       "    <tr style=\"text-align: right;\">\n",
       "      <th></th>\n",
       "      <th>Parameter</th>\n",
       "      <th>Coef.</th>\n",
       "      <th>Std.Err.</th>\n",
       "      <th>z</th>\n",
       "      <th>P&gt;|z|</th>\n",
       "      <th>[0.025</th>\n",
       "      <th>0.975]</th>\n",
       "    </tr>\n",
       "  </thead>\n",
       "  <tbody>\n",
       "    <tr>\n",
       "      <th>0</th>\n",
       "      <td>Intercept</td>\n",
       "      <td>22.941</td>\n",
       "      <td>1.039</td>\n",
       "      <td>22.082</td>\n",
       "      <td>0.000</td>\n",
       "      <td>20.904</td>\n",
       "      <td>24.977</td>\n",
       "    </tr>\n",
       "    <tr>\n",
       "      <th>1</th>\n",
       "      <td>grammaticality[T.gram-]</td>\n",
       "      <td>-0.111</td>\n",
       "      <td>1.222</td>\n",
       "      <td>-0.091</td>\n",
       "      <td>0.927</td>\n",
       "      <td>-2.506</td>\n",
       "      <td>2.284</td>\n",
       "    </tr>\n",
       "  </tbody>\n",
       "</table>\n",
       "</div>"
      ],
      "text/plain": [
       "                 Parameter   Coef. Std.Err.       z  P>|z|  [0.025  0.975]\n",
       "0                Intercept  22.941    1.039  22.082  0.000  20.904  24.977\n",
       "1  grammaticality[T.gram-]  -0.111    1.222  -0.091  0.927  -2.506   2.284"
      ]
     },
     "metadata": {},
     "output_type": "display_data"
    },
    {
     "name": "stdout",
     "output_type": "stream",
     "text": [
      "\n",
      "=== RANDOM EFFECTS / VARIANCE-COVARIANCE ===\n"
     ]
    },
    {
     "data": {
      "text/html": [
       "<div>\n",
       "<style scoped>\n",
       "    .dataframe tbody tr th:only-of-type {\n",
       "        vertical-align: middle;\n",
       "    }\n",
       "\n",
       "    .dataframe tbody tr th {\n",
       "        vertical-align: top;\n",
       "    }\n",
       "\n",
       "    .dataframe thead th {\n",
       "        text-align: right;\n",
       "    }\n",
       "</style>\n",
       "<table border=\"1\" class=\"dataframe\">\n",
       "  <thead>\n",
       "    <tr style=\"text-align: right;\">\n",
       "      <th></th>\n",
       "      <th>Parameter</th>\n",
       "      <th>Coef.</th>\n",
       "      <th>Std.Err.</th>\n",
       "    </tr>\n",
       "  </thead>\n",
       "  <tbody>\n",
       "    <tr>\n",
       "      <th>0</th>\n",
       "      <td>Group Var</td>\n",
       "      <td>6.655</td>\n",
       "      <td>0.586</td>\n",
       "    </tr>\n",
       "  </tbody>\n",
       "</table>\n",
       "</div>"
      ],
      "text/plain": [
       "   Parameter  Coef. Std.Err.\n",
       "0  Group Var  6.655    0.586"
      ]
     },
     "metadata": {},
     "output_type": "display_data"
    },
    {
     "data": {
      "text/plain": [
       "<statsmodels.regression.mixed_linear_model.MixedLMResultsWrapper at 0x1480c5a6e880>"
      ]
     },
     "execution_count": 33,
     "metadata": {},
     "output_type": "execute_result"
    }
   ],
   "source": [
    "# division by grammaticality\n",
    "iv_list = ['grammaticality']\n",
    "mixed_effects_linear_regression(sentence_df, iv_list, 'region_surprisal', 'double gap modifier: division by grammaticality')"
   ]
  },
  {
   "cell_type": "markdown",
   "id": "b12c8984",
   "metadata": {},
   "source": [
    "Subject Gap Position"
   ]
  },
  {
   "cell_type": "code",
   "execution_count": 34,
   "id": "705af67a",
   "metadata": {},
   "outputs": [],
   "source": [
    "subjectgap_df = sentence_df[sentence_df['condition'].isin(['a', 'b', 'd', 'e', 'f', 'h'])]"
   ]
  },
  {
   "cell_type": "code",
   "execution_count": 35,
   "id": "7735fb48",
   "metadata": {},
   "outputs": [
    {
     "name": "stdout",
     "output_type": "stream",
     "text": [
      "\n",
      "=== DOUBLE GAP MODIFIER SUBJECT GAP POSITION: GAP- ===\n",
      "\n",
      "=== MODEL SUMMARY ===\n",
      ":            MixedLM Dependent Variable: region_surprisal\n",
      "No. Observations: 40\n",
      "Method: REML\n",
      "No. Groups: 20\n",
      "Scale: 0.0487\n",
      "Min. group size: 2\n",
      "Log-Likelihood: -60.8275\n",
      "Max. group size: 2\n",
      "Converged: Yes\n",
      "Mean group size: 2.0\n",
      "\n",
      "=== FIXED EFFECTS COEFFICIENTS ===\n"
     ]
    },
    {
     "data": {
      "text/html": [
       "<div>\n",
       "<style scoped>\n",
       "    .dataframe tbody tr th:only-of-type {\n",
       "        vertical-align: middle;\n",
       "    }\n",
       "\n",
       "    .dataframe tbody tr th {\n",
       "        vertical-align: top;\n",
       "    }\n",
       "\n",
       "    .dataframe thead th {\n",
       "        text-align: right;\n",
       "    }\n",
       "</style>\n",
       "<table border=\"1\" class=\"dataframe\">\n",
       "  <thead>\n",
       "    <tr style=\"text-align: right;\">\n",
       "      <th></th>\n",
       "      <th>Parameter</th>\n",
       "      <th>Coef.</th>\n",
       "      <th>Std.Err.</th>\n",
       "      <th>z</th>\n",
       "      <th>P&gt;|z|</th>\n",
       "      <th>[0.025</th>\n",
       "      <th>0.975]</th>\n",
       "    </tr>\n",
       "  </thead>\n",
       "  <tbody>\n",
       "    <tr>\n",
       "      <th>0</th>\n",
       "      <td>Intercept</td>\n",
       "      <td>16.368</td>\n",
       "      <td>0.849</td>\n",
       "      <td>19.281</td>\n",
       "      <td>0.000</td>\n",
       "      <td>14.704</td>\n",
       "      <td>18.032</td>\n",
       "    </tr>\n",
       "    <tr>\n",
       "      <th>1</th>\n",
       "      <td>wh_numeric</td>\n",
       "      <td>0.085</td>\n",
       "      <td>0.035</td>\n",
       "      <td>2.432</td>\n",
       "      <td>0.015</td>\n",
       "      <td>0.016</td>\n",
       "      <td>0.153</td>\n",
       "    </tr>\n",
       "  </tbody>\n",
       "</table>\n",
       "</div>"
      ],
      "text/plain": [
       "    Parameter   Coef. Std.Err.       z  P>|z|  [0.025  0.975]\n",
       "0   Intercept  16.368    0.849  19.281  0.000  14.704  18.032\n",
       "1  wh_numeric   0.085    0.035   2.432  0.015   0.016   0.153"
      ]
     },
     "metadata": {},
     "output_type": "display_data"
    },
    {
     "name": "stdout",
     "output_type": "stream",
     "text": [
      "\n",
      "=== RANDOM EFFECTS / VARIANCE-COVARIANCE ===\n"
     ]
    },
    {
     "data": {
      "text/html": [
       "<div>\n",
       "<style scoped>\n",
       "    .dataframe tbody tr th:only-of-type {\n",
       "        vertical-align: middle;\n",
       "    }\n",
       "\n",
       "    .dataframe tbody tr th {\n",
       "        vertical-align: top;\n",
       "    }\n",
       "\n",
       "    .dataframe thead th {\n",
       "        text-align: right;\n",
       "    }\n",
       "</style>\n",
       "<table border=\"1\" class=\"dataframe\">\n",
       "  <thead>\n",
       "    <tr style=\"text-align: right;\">\n",
       "      <th></th>\n",
       "      <th>Parameter</th>\n",
       "      <th>Coef.</th>\n",
       "      <th>Std.Err.</th>\n",
       "    </tr>\n",
       "  </thead>\n",
       "  <tbody>\n",
       "    <tr>\n",
       "      <th>0</th>\n",
       "      <td>Group Var</td>\n",
       "      <td>14.389</td>\n",
       "      <td>29.972</td>\n",
       "    </tr>\n",
       "  </tbody>\n",
       "</table>\n",
       "</div>"
      ],
      "text/plain": [
       "   Parameter   Coef. Std.Err.\n",
       "0  Group Var  14.389   29.972"
      ]
     },
     "metadata": {},
     "output_type": "display_data"
    },
    {
     "data": {
      "text/plain": [
       "<statsmodels.regression.mixed_linear_model.MixedLMResultsWrapper at 0x1480c5a8d850>"
      ]
     },
     "execution_count": 35,
     "metadata": {},
     "output_type": "execute_result"
    }
   ],
   "source": [
    "# flip test: gap-\n",
    "no_gap_df = subjectgap_df[subjectgap_df['gap_numeric'] == -1]\n",
    "iv_list = ['wh_numeric']\n",
    "mixed_effects_linear_regression(no_gap_df, iv_list, 'region_surprisal', 'double gap modifier subject gap position: gap-')"
   ]
  },
  {
   "cell_type": "code",
   "execution_count": 36,
   "id": "3760315a",
   "metadata": {},
   "outputs": [
    {
     "name": "stdout",
     "output_type": "stream",
     "text": [
      "\n",
      "=== DOUBLE GAP MODIFIER SUBJECT GAP POSITION: GAP+ ===\n",
      "\n",
      "=== MODEL SUMMARY ===\n",
      ":            MixedLM Dependent Variable: region_surprisal\n",
      "No. Observations: 80\n",
      "Method: REML\n",
      "No. Groups: 20\n",
      "Scale: 67.9553\n",
      "Min. group size: 4\n",
      "Log-Likelihood: -280.1843\n",
      "Max. group size: 4\n",
      "Converged: Yes\n",
      "Mean group size: 4.0\n",
      "\n",
      "=== FIXED EFFECTS COEFFICIENTS ===\n"
     ]
    },
    {
     "data": {
      "text/html": [
       "<div>\n",
       "<style scoped>\n",
       "    .dataframe tbody tr th:only-of-type {\n",
       "        vertical-align: middle;\n",
       "    }\n",
       "\n",
       "    .dataframe tbody tr th {\n",
       "        vertical-align: top;\n",
       "    }\n",
       "\n",
       "    .dataframe thead th {\n",
       "        text-align: right;\n",
       "    }\n",
       "</style>\n",
       "<table border=\"1\" class=\"dataframe\">\n",
       "  <thead>\n",
       "    <tr style=\"text-align: right;\">\n",
       "      <th></th>\n",
       "      <th>Parameter</th>\n",
       "      <th>Coef.</th>\n",
       "      <th>Std.Err.</th>\n",
       "      <th>z</th>\n",
       "      <th>P&gt;|z|</th>\n",
       "      <th>[0.025</th>\n",
       "      <th>0.975]</th>\n",
       "    </tr>\n",
       "  </thead>\n",
       "  <tbody>\n",
       "    <tr>\n",
       "      <th>0</th>\n",
       "      <td>Intercept</td>\n",
       "      <td>23.764</td>\n",
       "      <td>0.951</td>\n",
       "      <td>24.996</td>\n",
       "      <td>0.000</td>\n",
       "      <td>21.901</td>\n",
       "      <td>25.627</td>\n",
       "    </tr>\n",
       "    <tr>\n",
       "      <th>1</th>\n",
       "      <td>wh_numeric</td>\n",
       "      <td>0.103</td>\n",
       "      <td>0.922</td>\n",
       "      <td>0.112</td>\n",
       "      <td>0.911</td>\n",
       "      <td>-1.703</td>\n",
       "      <td>1.910</td>\n",
       "    </tr>\n",
       "  </tbody>\n",
       "</table>\n",
       "</div>"
      ],
      "text/plain": [
       "    Parameter   Coef. Std.Err.       z  P>|z|  [0.025  0.975]\n",
       "0   Intercept  23.764    0.951  24.996  0.000  21.901  25.627\n",
       "1  wh_numeric   0.103    0.922   0.112  0.911  -1.703   1.910"
      ]
     },
     "metadata": {},
     "output_type": "display_data"
    },
    {
     "name": "stdout",
     "output_type": "stream",
     "text": [
      "\n",
      "=== RANDOM EFFECTS / VARIANCE-COVARIANCE ===\n"
     ]
    },
    {
     "data": {
      "text/html": [
       "<div>\n",
       "<style scoped>\n",
       "    .dataframe tbody tr th:only-of-type {\n",
       "        vertical-align: middle;\n",
       "    }\n",
       "\n",
       "    .dataframe tbody tr th {\n",
       "        vertical-align: top;\n",
       "    }\n",
       "\n",
       "    .dataframe thead th {\n",
       "        text-align: right;\n",
       "    }\n",
       "</style>\n",
       "<table border=\"1\" class=\"dataframe\">\n",
       "  <thead>\n",
       "    <tr style=\"text-align: right;\">\n",
       "      <th></th>\n",
       "      <th>Parameter</th>\n",
       "      <th>Coef.</th>\n",
       "      <th>Std.Err.</th>\n",
       "    </tr>\n",
       "  </thead>\n",
       "  <tbody>\n",
       "    <tr>\n",
       "      <th>0</th>\n",
       "      <td>Group Var</td>\n",
       "      <td>1.088</td>\n",
       "      <td>0.993</td>\n",
       "    </tr>\n",
       "  </tbody>\n",
       "</table>\n",
       "</div>"
      ],
      "text/plain": [
       "   Parameter  Coef. Std.Err.\n",
       "0  Group Var  1.088    0.993"
      ]
     },
     "metadata": {},
     "output_type": "display_data"
    },
    {
     "data": {
      "text/plain": [
       "<statsmodels.regression.mixed_linear_model.MixedLMResultsWrapper at 0x1480c5a81880>"
      ]
     },
     "execution_count": 36,
     "metadata": {},
     "output_type": "execute_result"
    }
   ],
   "source": [
    "# flip test: gap+\n",
    "gap_df = subjectgap_df[subjectgap_df['gap_numeric'] == 1]\n",
    "iv_list = ['wh_numeric']\n",
    "mixed_effects_linear_regression(gap_df, iv_list, 'region_surprisal', 'double gap modifier subject gap position: gap+')"
   ]
  },
  {
   "cell_type": "code",
   "execution_count": 37,
   "id": "d556f8ac",
   "metadata": {},
   "outputs": [
    {
     "name": "stdout",
     "output_type": "stream",
     "text": [
      "\n",
      "=== DOUBLE GAP MODIFIER SUBJECT GAP POSITION: DIVISION BY GRAMMATICALITY ===\n",
      "\n",
      "=== MODEL SUMMARY ===\n",
      "Model: MixedLM\n",
      "Dependent Variable: region_surprisal\n",
      "No. Observations: 120\n",
      "Method: REML\n",
      "No. Groups: 20\n",
      "Scale: 61.9878\n",
      "Min. group size: 6\n",
      "Log-Likelihood: -415.5199\n",
      "Max. group size: 6\n",
      "Converged: Yes\n",
      "Mean group size: 6.0\n",
      "\n",
      "=== FIXED EFFECTS COEFFICIENTS ===\n"
     ]
    },
    {
     "data": {
      "text/html": [
       "<div>\n",
       "<style scoped>\n",
       "    .dataframe tbody tr th:only-of-type {\n",
       "        vertical-align: middle;\n",
       "    }\n",
       "\n",
       "    .dataframe tbody tr th {\n",
       "        vertical-align: top;\n",
       "    }\n",
       "\n",
       "    .dataframe thead th {\n",
       "        text-align: right;\n",
       "    }\n",
       "</style>\n",
       "<table border=\"1\" class=\"dataframe\">\n",
       "  <thead>\n",
       "    <tr style=\"text-align: right;\">\n",
       "      <th></th>\n",
       "      <th>Parameter</th>\n",
       "      <th>Coef.</th>\n",
       "      <th>Std.Err.</th>\n",
       "      <th>z</th>\n",
       "      <th>P&gt;|z|</th>\n",
       "      <th>[0.025</th>\n",
       "      <th>0.975]</th>\n",
       "    </tr>\n",
       "  </thead>\n",
       "  <tbody>\n",
       "    <tr>\n",
       "      <th>0</th>\n",
       "      <td>Intercept</td>\n",
       "      <td>21.339</td>\n",
       "      <td>1.030</td>\n",
       "      <td>20.716</td>\n",
       "      <td>0.000</td>\n",
       "      <td>19.320</td>\n",
       "      <td>23.358</td>\n",
       "    </tr>\n",
       "    <tr>\n",
       "      <th>1</th>\n",
       "      <td>grammaticality[T.gram-]</td>\n",
       "      <td>-0.081</td>\n",
       "      <td>1.437</td>\n",
       "      <td>-0.057</td>\n",
       "      <td>0.955</td>\n",
       "      <td>-2.899</td>\n",
       "      <td>2.736</td>\n",
       "    </tr>\n",
       "  </tbody>\n",
       "</table>\n",
       "</div>"
      ],
      "text/plain": [
       "                 Parameter   Coef. Std.Err.       z  P>|z|  [0.025  0.975]\n",
       "0                Intercept  21.339    1.030  20.716  0.000  19.320  23.358\n",
       "1  grammaticality[T.gram-]  -0.081    1.437  -0.057  0.955  -2.899   2.736"
      ]
     },
     "metadata": {},
     "output_type": "display_data"
    },
    {
     "name": "stdout",
     "output_type": "stream",
     "text": [
      "\n",
      "=== RANDOM EFFECTS / VARIANCE-COVARIANCE ===\n"
     ]
    },
    {
     "data": {
      "text/html": [
       "<div>\n",
       "<style scoped>\n",
       "    .dataframe tbody tr th:only-of-type {\n",
       "        vertical-align: middle;\n",
       "    }\n",
       "\n",
       "    .dataframe tbody tr th {\n",
       "        vertical-align: top;\n",
       "    }\n",
       "\n",
       "    .dataframe thead th {\n",
       "        text-align: right;\n",
       "    }\n",
       "</style>\n",
       "<table border=\"1\" class=\"dataframe\">\n",
       "  <thead>\n",
       "    <tr style=\"text-align: right;\">\n",
       "      <th></th>\n",
       "      <th>Parameter</th>\n",
       "      <th>Coef.</th>\n",
       "      <th>Std.Err.</th>\n",
       "    </tr>\n",
       "  </thead>\n",
       "  <tbody>\n",
       "    <tr>\n",
       "      <th>0</th>\n",
       "      <td>Group Var</td>\n",
       "      <td>0.560</td>\n",
       "      <td>0.490</td>\n",
       "    </tr>\n",
       "  </tbody>\n",
       "</table>\n",
       "</div>"
      ],
      "text/plain": [
       "   Parameter  Coef. Std.Err.\n",
       "0  Group Var  0.560    0.490"
      ]
     },
     "metadata": {},
     "output_type": "display_data"
    },
    {
     "data": {
      "text/plain": [
       "<statsmodels.regression.mixed_linear_model.MixedLMResultsWrapper at 0x1480c5a90940>"
      ]
     },
     "execution_count": 37,
     "metadata": {},
     "output_type": "execute_result"
    }
   ],
   "source": [
    "# division by grammaticality\n",
    "iv_list = ['grammaticality']\n",
    "mixed_effects_linear_regression(subjectgap_df, iv_list, 'region_surprisal', 'double gap modifier subject gap position: division by grammaticality')"
   ]
  },
  {
   "cell_type": "markdown",
   "id": "fdb47c1b",
   "metadata": {},
   "source": [
    "Object Gap Position"
   ]
  },
  {
   "cell_type": "code",
   "execution_count": 38,
   "id": "8c4e4115",
   "metadata": {},
   "outputs": [],
   "source": [
    "objectgap_df = sentence_df[sentence_df['condition'].isin(['a', 'c', 'd', 'e', 'g', 'h'])]"
   ]
  },
  {
   "cell_type": "code",
   "execution_count": 39,
   "id": "6c9e5b2a",
   "metadata": {},
   "outputs": [
    {
     "name": "stdout",
     "output_type": "stream",
     "text": [
      "\n",
      "=== DOUBLE GAP MODIFIER OBJECT GAP POSITION: GAP- ===\n",
      "\n",
      "=== MODEL SUMMARY ===\n",
      ":            MixedLM Dependent Variable: region_surprisal\n",
      "No. Observations: 40\n",
      "Method: REML\n",
      "No. Groups: 20\n",
      "Scale: 0.0487\n",
      "Min. group size: 2\n",
      "Log-Likelihood: -60.8275\n",
      "Max. group size: 2\n",
      "Converged: Yes\n",
      "Mean group size: 2.0\n",
      "\n",
      "=== FIXED EFFECTS COEFFICIENTS ===\n"
     ]
    },
    {
     "data": {
      "text/html": [
       "<div>\n",
       "<style scoped>\n",
       "    .dataframe tbody tr th:only-of-type {\n",
       "        vertical-align: middle;\n",
       "    }\n",
       "\n",
       "    .dataframe tbody tr th {\n",
       "        vertical-align: top;\n",
       "    }\n",
       "\n",
       "    .dataframe thead th {\n",
       "        text-align: right;\n",
       "    }\n",
       "</style>\n",
       "<table border=\"1\" class=\"dataframe\">\n",
       "  <thead>\n",
       "    <tr style=\"text-align: right;\">\n",
       "      <th></th>\n",
       "      <th>Parameter</th>\n",
       "      <th>Coef.</th>\n",
       "      <th>Std.Err.</th>\n",
       "      <th>z</th>\n",
       "      <th>P&gt;|z|</th>\n",
       "      <th>[0.025</th>\n",
       "      <th>0.975]</th>\n",
       "    </tr>\n",
       "  </thead>\n",
       "  <tbody>\n",
       "    <tr>\n",
       "      <th>0</th>\n",
       "      <td>Intercept</td>\n",
       "      <td>16.368</td>\n",
       "      <td>0.849</td>\n",
       "      <td>19.281</td>\n",
       "      <td>0.000</td>\n",
       "      <td>14.704</td>\n",
       "      <td>18.032</td>\n",
       "    </tr>\n",
       "    <tr>\n",
       "      <th>1</th>\n",
       "      <td>wh_numeric</td>\n",
       "      <td>0.085</td>\n",
       "      <td>0.035</td>\n",
       "      <td>2.432</td>\n",
       "      <td>0.015</td>\n",
       "      <td>0.016</td>\n",
       "      <td>0.153</td>\n",
       "    </tr>\n",
       "  </tbody>\n",
       "</table>\n",
       "</div>"
      ],
      "text/plain": [
       "    Parameter   Coef. Std.Err.       z  P>|z|  [0.025  0.975]\n",
       "0   Intercept  16.368    0.849  19.281  0.000  14.704  18.032\n",
       "1  wh_numeric   0.085    0.035   2.432  0.015   0.016   0.153"
      ]
     },
     "metadata": {},
     "output_type": "display_data"
    },
    {
     "name": "stdout",
     "output_type": "stream",
     "text": [
      "\n",
      "=== RANDOM EFFECTS / VARIANCE-COVARIANCE ===\n"
     ]
    },
    {
     "data": {
      "text/html": [
       "<div>\n",
       "<style scoped>\n",
       "    .dataframe tbody tr th:only-of-type {\n",
       "        vertical-align: middle;\n",
       "    }\n",
       "\n",
       "    .dataframe tbody tr th {\n",
       "        vertical-align: top;\n",
       "    }\n",
       "\n",
       "    .dataframe thead th {\n",
       "        text-align: right;\n",
       "    }\n",
       "</style>\n",
       "<table border=\"1\" class=\"dataframe\">\n",
       "  <thead>\n",
       "    <tr style=\"text-align: right;\">\n",
       "      <th></th>\n",
       "      <th>Parameter</th>\n",
       "      <th>Coef.</th>\n",
       "      <th>Std.Err.</th>\n",
       "    </tr>\n",
       "  </thead>\n",
       "  <tbody>\n",
       "    <tr>\n",
       "      <th>0</th>\n",
       "      <td>Group Var</td>\n",
       "      <td>14.389</td>\n",
       "      <td>29.972</td>\n",
       "    </tr>\n",
       "  </tbody>\n",
       "</table>\n",
       "</div>"
      ],
      "text/plain": [
       "   Parameter   Coef. Std.Err.\n",
       "0  Group Var  14.389   29.972"
      ]
     },
     "metadata": {},
     "output_type": "display_data"
    },
    {
     "data": {
      "text/plain": [
       "<statsmodels.regression.mixed_linear_model.MixedLMResultsWrapper at 0x1480c5a27d60>"
      ]
     },
     "execution_count": 39,
     "metadata": {},
     "output_type": "execute_result"
    }
   ],
   "source": [
    "# flip test: gap-\n",
    "no_gap_df = objectgap_df[objectgap_df['gap_numeric'] == -1]\n",
    "iv_list = ['wh_numeric']\n",
    "mixed_effects_linear_regression(no_gap_df, iv_list, 'region_surprisal', 'double gap modifier object gap position: gap-')"
   ]
  },
  {
   "cell_type": "code",
   "execution_count": 40,
   "id": "c976c71d",
   "metadata": {},
   "outputs": [
    {
     "name": "stdout",
     "output_type": "stream",
     "text": [
      "\n",
      "=== DOUBLE GAP MODIFIER OBJECT GAP POSITION: GAP+ ===\n",
      "\n",
      "=== MODEL SUMMARY ===\n",
      ":            MixedLM Dependent Variable: region_surprisal\n",
      "No. Observations: 80\n",
      "Method: REML\n",
      "No. Groups: 20\n",
      "Scale: 1.9969\n",
      "Min. group size: 4\n",
      "Log-Likelihood: -186.1085\n",
      "Max. group size: 4\n",
      "Converged: Yes\n",
      "Mean group size: 4.0\n",
      "\n",
      "=== FIXED EFFECTS COEFFICIENTS ===\n"
     ]
    },
    {
     "data": {
      "text/html": [
       "<div>\n",
       "<style scoped>\n",
       "    .dataframe tbody tr th:only-of-type {\n",
       "        vertical-align: middle;\n",
       "    }\n",
       "\n",
       "    .dataframe tbody tr th {\n",
       "        vertical-align: top;\n",
       "    }\n",
       "\n",
       "    .dataframe thead th {\n",
       "        text-align: right;\n",
       "    }\n",
       "</style>\n",
       "<table border=\"1\" class=\"dataframe\">\n",
       "  <thead>\n",
       "    <tr style=\"text-align: right;\">\n",
       "      <th></th>\n",
       "      <th>Parameter</th>\n",
       "      <th>Coef.</th>\n",
       "      <th>Std.Err.</th>\n",
       "      <th>z</th>\n",
       "      <th>P&gt;|z|</th>\n",
       "      <th>[0.025</th>\n",
       "      <th>0.975]</th>\n",
       "    </tr>\n",
       "  </thead>\n",
       "  <tbody>\n",
       "    <tr>\n",
       "      <th>0</th>\n",
       "      <td>Intercept</td>\n",
       "      <td>28.705</td>\n",
       "      <td>1.607</td>\n",
       "      <td>17.858</td>\n",
       "      <td>0.000</td>\n",
       "      <td>25.555</td>\n",
       "      <td>31.856</td>\n",
       "    </tr>\n",
       "    <tr>\n",
       "      <th>1</th>\n",
       "      <td>wh_numeric</td>\n",
       "      <td>0.123</td>\n",
       "      <td>0.158</td>\n",
       "      <td>0.782</td>\n",
       "      <td>0.434</td>\n",
       "      <td>-0.186</td>\n",
       "      <td>0.433</td>\n",
       "    </tr>\n",
       "  </tbody>\n",
       "</table>\n",
       "</div>"
      ],
      "text/plain": [
       "    Parameter   Coef. Std.Err.       z  P>|z|  [0.025  0.975]\n",
       "0   Intercept  28.705    1.607  17.858  0.000  25.555  31.856\n",
       "1  wh_numeric   0.123    0.158   0.782  0.434  -0.186   0.433"
      ]
     },
     "metadata": {},
     "output_type": "display_data"
    },
    {
     "name": "stdout",
     "output_type": "stream",
     "text": [
      "\n",
      "=== RANDOM EFFECTS / VARIANCE-COVARIANCE ===\n"
     ]
    },
    {
     "data": {
      "text/html": [
       "<div>\n",
       "<style scoped>\n",
       "    .dataframe tbody tr th:only-of-type {\n",
       "        vertical-align: middle;\n",
       "    }\n",
       "\n",
       "    .dataframe tbody tr th {\n",
       "        vertical-align: top;\n",
       "    }\n",
       "\n",
       "    .dataframe thead th {\n",
       "        text-align: right;\n",
       "    }\n",
       "</style>\n",
       "<table border=\"1\" class=\"dataframe\">\n",
       "  <thead>\n",
       "    <tr style=\"text-align: right;\">\n",
       "      <th></th>\n",
       "      <th>Parameter</th>\n",
       "      <th>Coef.</th>\n",
       "      <th>Std.Err.</th>\n",
       "    </tr>\n",
       "  </thead>\n",
       "  <tbody>\n",
       "    <tr>\n",
       "      <th>0</th>\n",
       "      <td>Group Var</td>\n",
       "      <td>51.178</td>\n",
       "      <td>13.641</td>\n",
       "    </tr>\n",
       "  </tbody>\n",
       "</table>\n",
       "</div>"
      ],
      "text/plain": [
       "   Parameter   Coef. Std.Err.\n",
       "0  Group Var  51.178   13.641"
      ]
     },
     "metadata": {},
     "output_type": "display_data"
    },
    {
     "data": {
      "text/plain": [
       "<statsmodels.regression.mixed_linear_model.MixedLMResultsWrapper at 0x1480c5a34550>"
      ]
     },
     "execution_count": 40,
     "metadata": {},
     "output_type": "execute_result"
    }
   ],
   "source": [
    "# flip test: gap+\n",
    "gap_df = objectgap_df[objectgap_df['gap_numeric'] == 1]\n",
    "iv_list = ['wh_numeric']\n",
    "mixed_effects_linear_regression(gap_df, iv_list, 'region_surprisal', 'double gap modifier object gap position: gap+')"
   ]
  },
  {
   "cell_type": "code",
   "execution_count": 41,
   "id": "1a6c9d5f",
   "metadata": {},
   "outputs": [
    {
     "name": "stdout",
     "output_type": "stream",
     "text": [
      "\n",
      "=== DOUBLE GAP MODIFIER OBJECT GAP POSITION: DIVISION BY GRAMMATICALITY ===\n",
      "\n",
      "=== MODEL SUMMARY ===\n",
      "Model: MixedLM\n",
      "Dependent Variable: region_surprisal\n",
      "No. Observations: 120\n",
      "Method: REML\n",
      "No. Groups: 20\n",
      "Scale: 59.8422\n",
      "Min. group size: 6\n",
      "Log-Likelihood: -421.2603\n",
      "Max. group size: 6\n",
      "Converged: Yes\n",
      "Mean group size: 6.0\n",
      "\n",
      "=== FIXED EFFECTS COEFFICIENTS ===\n"
     ]
    },
    {
     "data": {
      "text/html": [
       "<div>\n",
       "<style scoped>\n",
       "    .dataframe tbody tr th:only-of-type {\n",
       "        vertical-align: middle;\n",
       "    }\n",
       "\n",
       "    .dataframe tbody tr th {\n",
       "        vertical-align: top;\n",
       "    }\n",
       "\n",
       "    .dataframe thead th {\n",
       "        text-align: right;\n",
       "    }\n",
       "</style>\n",
       "<table border=\"1\" class=\"dataframe\">\n",
       "  <thead>\n",
       "    <tr style=\"text-align: right;\">\n",
       "      <th></th>\n",
       "      <th>Parameter</th>\n",
       "      <th>Coef.</th>\n",
       "      <th>Std.Err.</th>\n",
       "      <th>z</th>\n",
       "      <th>P&gt;|z|</th>\n",
       "      <th>[0.025</th>\n",
       "      <th>0.975]</th>\n",
       "    </tr>\n",
       "  </thead>\n",
       "  <tbody>\n",
       "    <tr>\n",
       "      <th>0</th>\n",
       "      <td>Intercept</td>\n",
       "      <td>24.647</td>\n",
       "      <td>1.302</td>\n",
       "      <td>18.926</td>\n",
       "      <td>0.000</td>\n",
       "      <td>22.095</td>\n",
       "      <td>27.199</td>\n",
       "    </tr>\n",
       "    <tr>\n",
       "      <th>1</th>\n",
       "      <td>grammaticality[T.gram-]</td>\n",
       "      <td>-0.108</td>\n",
       "      <td>1.412</td>\n",
       "      <td>-0.077</td>\n",
       "      <td>0.939</td>\n",
       "      <td>-2.876</td>\n",
       "      <td>2.660</td>\n",
       "    </tr>\n",
       "  </tbody>\n",
       "</table>\n",
       "</div>"
      ],
      "text/plain": [
       "                 Parameter   Coef. Std.Err.       z  P>|z|  [0.025  0.975]\n",
       "0                Intercept  24.647    1.302  18.926  0.000  22.095  27.199\n",
       "1  grammaticality[T.gram-]  -0.108    1.412  -0.077  0.939  -2.876   2.660"
      ]
     },
     "metadata": {},
     "output_type": "display_data"
    },
    {
     "name": "stdout",
     "output_type": "stream",
     "text": [
      "\n",
      "=== RANDOM EFFECTS / VARIANCE-COVARIANCE ===\n"
     ]
    },
    {
     "data": {
      "text/html": [
       "<div>\n",
       "<style scoped>\n",
       "    .dataframe tbody tr th:only-of-type {\n",
       "        vertical-align: middle;\n",
       "    }\n",
       "\n",
       "    .dataframe tbody tr th {\n",
       "        vertical-align: top;\n",
       "    }\n",
       "\n",
       "    .dataframe thead th {\n",
       "        text-align: right;\n",
       "    }\n",
       "</style>\n",
       "<table border=\"1\" class=\"dataframe\">\n",
       "  <thead>\n",
       "    <tr style=\"text-align: right;\">\n",
       "      <th></th>\n",
       "      <th>Parameter</th>\n",
       "      <th>Coef.</th>\n",
       "      <th>Std.Err.</th>\n",
       "    </tr>\n",
       "  </thead>\n",
       "  <tbody>\n",
       "    <tr>\n",
       "      <th>0</th>\n",
       "      <td>Group Var</td>\n",
       "      <td>13.971</td>\n",
       "      <td>1.096</td>\n",
       "    </tr>\n",
       "  </tbody>\n",
       "</table>\n",
       "</div>"
      ],
      "text/plain": [
       "   Parameter   Coef. Std.Err.\n",
       "0  Group Var  13.971    1.096"
      ]
     },
     "metadata": {},
     "output_type": "display_data"
    },
    {
     "data": {
      "text/plain": [
       "<statsmodels.regression.mixed_linear_model.MixedLMResultsWrapper at 0x1480c5a349d0>"
      ]
     },
     "execution_count": 41,
     "metadata": {},
     "output_type": "execute_result"
    }
   ],
   "source": [
    "# division by grammaticality\n",
    "iv_list = ['grammaticality']\n",
    "mixed_effects_linear_regression(objectgap_df, iv_list, 'region_surprisal', 'double gap modifier object gap position: division by grammaticality')"
   ]
  },
  {
   "cell_type": "markdown",
   "id": "8093b5cf",
   "metadata": {},
   "source": [
    "Embedded Clause"
   ]
  },
  {
   "cell_type": "code",
   "execution_count": 42,
   "id": "d8678386",
   "metadata": {},
   "outputs": [],
   "source": [
    "embed = ['subj', 'object', 'verb', 'modifier', 'end']\n",
    "sentence_df['embed_surprisal'] = sentence_df.apply(lambda x: sum_region_surprisal(x, embed, normalize = True), axis = 1)"
   ]
  },
  {
   "cell_type": "code",
   "execution_count": 43,
   "id": "06f1720f",
   "metadata": {},
   "outputs": [
    {
     "name": "stdout",
     "output_type": "stream",
     "text": [
      "\n",
      "=== DOUBLE GAP EMBED: GAP- ===\n",
      "\n",
      "=== MODEL SUMMARY ===\n",
      ":            MixedLM Dependent Variable: embed_surprisal\n",
      "No. Observations: 40\n",
      "Method: REML\n",
      "No. Groups: 20\n",
      "Scale: 0.0030\n",
      "Min. group size: 2\n",
      "Log-Likelihood: 0.5790\n",
      "Max. group size: 2\n",
      "Converged: Yes\n",
      "Mean group size: 2.0\n",
      "\n",
      "=== FIXED EFFECTS COEFFICIENTS ===\n"
     ]
    },
    {
     "data": {
      "text/html": [
       "<div>\n",
       "<style scoped>\n",
       "    .dataframe tbody tr th:only-of-type {\n",
       "        vertical-align: middle;\n",
       "    }\n",
       "\n",
       "    .dataframe tbody tr th {\n",
       "        vertical-align: top;\n",
       "    }\n",
       "\n",
       "    .dataframe thead th {\n",
       "        text-align: right;\n",
       "    }\n",
       "</style>\n",
       "<table border=\"1\" class=\"dataframe\">\n",
       "  <thead>\n",
       "    <tr style=\"text-align: right;\">\n",
       "      <th></th>\n",
       "      <th>Parameter</th>\n",
       "      <th>Coef.</th>\n",
       "      <th>Std.Err.</th>\n",
       "      <th>z</th>\n",
       "      <th>P&gt;|z|</th>\n",
       "      <th>[0.025</th>\n",
       "      <th>0.975]</th>\n",
       "    </tr>\n",
       "  </thead>\n",
       "  <tbody>\n",
       "    <tr>\n",
       "      <th>0</th>\n",
       "      <td>Intercept</td>\n",
       "      <td>6.920</td>\n",
       "      <td>0.134</td>\n",
       "      <td>51.497</td>\n",
       "      <td>0.000</td>\n",
       "      <td>6.656</td>\n",
       "      <td>7.183</td>\n",
       "    </tr>\n",
       "    <tr>\n",
       "      <th>1</th>\n",
       "      <td>wh_numeric</td>\n",
       "      <td>0.076</td>\n",
       "      <td>0.009</td>\n",
       "      <td>8.761</td>\n",
       "      <td>0.000</td>\n",
       "      <td>0.059</td>\n",
       "      <td>0.093</td>\n",
       "    </tr>\n",
       "  </tbody>\n",
       "</table>\n",
       "</div>"
      ],
      "text/plain": [
       "    Parameter  Coef. Std.Err.       z  P>|z| [0.025 0.975]\n",
       "0   Intercept  6.920    0.134  51.497  0.000  6.656  7.183\n",
       "1  wh_numeric  0.076    0.009   8.761  0.000  0.059  0.093"
      ]
     },
     "metadata": {},
     "output_type": "display_data"
    },
    {
     "name": "stdout",
     "output_type": "stream",
     "text": [
      "\n",
      "=== RANDOM EFFECTS / VARIANCE-COVARIANCE ===\n"
     ]
    },
    {
     "data": {
      "text/html": [
       "<div>\n",
       "<style scoped>\n",
       "    .dataframe tbody tr th:only-of-type {\n",
       "        vertical-align: middle;\n",
       "    }\n",
       "\n",
       "    .dataframe tbody tr th {\n",
       "        vertical-align: top;\n",
       "    }\n",
       "\n",
       "    .dataframe thead th {\n",
       "        text-align: right;\n",
       "    }\n",
       "</style>\n",
       "<table border=\"1\" class=\"dataframe\">\n",
       "  <thead>\n",
       "    <tr style=\"text-align: right;\">\n",
       "      <th></th>\n",
       "      <th>Parameter</th>\n",
       "      <th>Coef.</th>\n",
       "      <th>Std.Err.</th>\n",
       "    </tr>\n",
       "  </thead>\n",
       "  <tbody>\n",
       "    <tr>\n",
       "      <th>0</th>\n",
       "      <td>Group Var</td>\n",
       "      <td>0.360</td>\n",
       "      <td>3.010</td>\n",
       "    </tr>\n",
       "  </tbody>\n",
       "</table>\n",
       "</div>"
      ],
      "text/plain": [
       "   Parameter  Coef. Std.Err.\n",
       "0  Group Var  0.360    3.010"
      ]
     },
     "metadata": {},
     "output_type": "display_data"
    },
    {
     "data": {
      "text/plain": [
       "<statsmodels.regression.mixed_linear_model.MixedLMResultsWrapper at 0x1480c59dde20>"
      ]
     },
     "execution_count": 43,
     "metadata": {},
     "output_type": "execute_result"
    }
   ],
   "source": [
    "# flip test: gap-\n",
    "no_gap_df = sentence_df[sentence_df['gap_numeric'] == -1]\n",
    "iv_list = ['wh_numeric']\n",
    "mixed_effects_linear_regression(no_gap_df, iv_list, 'embed_surprisal', 'double gap embed: gap-')"
   ]
  },
  {
   "cell_type": "code",
   "execution_count": 44,
   "id": "acfb10a3",
   "metadata": {},
   "outputs": [
    {
     "name": "stdout",
     "output_type": "stream",
     "text": [
      "\n",
      "=== DOUBLE GAP EMBED: GAP+ ===\n",
      "\n",
      "=== MODEL SUMMARY ===\n",
      ":            MixedLM Dependent Variable: embed_surprisal\n",
      "No. Observations: 120\n",
      "Method: REML\n",
      "No. Groups: 20\n",
      "Scale: 0.1116\n",
      "Min. group size: 6\n",
      "Log-Likelihood: -70.3275\n",
      "Max. group size: 6\n",
      "Converged: Yes\n",
      "Mean group size: 6.0\n",
      "\n",
      "=== FIXED EFFECTS COEFFICIENTS ===\n"
     ]
    },
    {
     "data": {
      "text/html": [
       "<div>\n",
       "<style scoped>\n",
       "    .dataframe tbody tr th:only-of-type {\n",
       "        vertical-align: middle;\n",
       "    }\n",
       "\n",
       "    .dataframe tbody tr th {\n",
       "        vertical-align: top;\n",
       "    }\n",
       "\n",
       "    .dataframe thead th {\n",
       "        text-align: right;\n",
       "    }\n",
       "</style>\n",
       "<table border=\"1\" class=\"dataframe\">\n",
       "  <thead>\n",
       "    <tr style=\"text-align: right;\">\n",
       "      <th></th>\n",
       "      <th>Parameter</th>\n",
       "      <th>Coef.</th>\n",
       "      <th>Std.Err.</th>\n",
       "      <th>z</th>\n",
       "      <th>P&gt;|z|</th>\n",
       "      <th>[0.025</th>\n",
       "      <th>0.975]</th>\n",
       "    </tr>\n",
       "  </thead>\n",
       "  <tbody>\n",
       "    <tr>\n",
       "      <th>0</th>\n",
       "      <td>Intercept</td>\n",
       "      <td>6.689</td>\n",
       "      <td>0.129</td>\n",
       "      <td>51.663</td>\n",
       "      <td>0.000</td>\n",
       "      <td>6.435</td>\n",
       "      <td>6.942</td>\n",
       "    </tr>\n",
       "    <tr>\n",
       "      <th>1</th>\n",
       "      <td>wh_numeric</td>\n",
       "      <td>0.112</td>\n",
       "      <td>0.030</td>\n",
       "      <td>3.678</td>\n",
       "      <td>0.000</td>\n",
       "      <td>0.052</td>\n",
       "      <td>0.172</td>\n",
       "    </tr>\n",
       "  </tbody>\n",
       "</table>\n",
       "</div>"
      ],
      "text/plain": [
       "    Parameter  Coef. Std.Err.       z  P>|z| [0.025 0.975]\n",
       "0   Intercept  6.689    0.129  51.663  0.000  6.435  6.942\n",
       "1  wh_numeric  0.112    0.030   3.678  0.000  0.052  0.172"
      ]
     },
     "metadata": {},
     "output_type": "display_data"
    },
    {
     "name": "stdout",
     "output_type": "stream",
     "text": [
      "\n",
      "=== RANDOM EFFECTS / VARIANCE-COVARIANCE ===\n"
     ]
    },
    {
     "data": {
      "text/html": [
       "<div>\n",
       "<style scoped>\n",
       "    .dataframe tbody tr th:only-of-type {\n",
       "        vertical-align: middle;\n",
       "    }\n",
       "\n",
       "    .dataframe tbody tr th {\n",
       "        vertical-align: top;\n",
       "    }\n",
       "\n",
       "    .dataframe thead th {\n",
       "        text-align: right;\n",
       "    }\n",
       "</style>\n",
       "<table border=\"1\" class=\"dataframe\">\n",
       "  <thead>\n",
       "    <tr style=\"text-align: right;\">\n",
       "      <th></th>\n",
       "      <th>Parameter</th>\n",
       "      <th>Coef.</th>\n",
       "      <th>Std.Err.</th>\n",
       "    </tr>\n",
       "  </thead>\n",
       "  <tbody>\n",
       "    <tr>\n",
       "      <th>0</th>\n",
       "      <td>Group Var</td>\n",
       "      <td>0.317</td>\n",
       "      <td>0.355</td>\n",
       "    </tr>\n",
       "  </tbody>\n",
       "</table>\n",
       "</div>"
      ],
      "text/plain": [
       "   Parameter  Coef. Std.Err.\n",
       "0  Group Var  0.317    0.355"
      ]
     },
     "metadata": {},
     "output_type": "display_data"
    },
    {
     "data": {
      "text/plain": [
       "<statsmodels.regression.mixed_linear_model.MixedLMResultsWrapper at 0x1480c5a75be0>"
      ]
     },
     "execution_count": 44,
     "metadata": {},
     "output_type": "execute_result"
    }
   ],
   "source": [
    "# flip test: gap+\n",
    "gap_df = sentence_df[sentence_df['gap_numeric'] == 1]\n",
    "iv_list = ['wh_numeric']\n",
    "mixed_effects_linear_regression(gap_df, iv_list, 'embed_surprisal', 'double gap embed: gap+')"
   ]
  },
  {
   "cell_type": "code",
   "execution_count": 45,
   "id": "d26b0819",
   "metadata": {},
   "outputs": [
    {
     "name": "stdout",
     "output_type": "stream",
     "text": [
      "\n",
      "=== DOUBLE GAP EMBED: DIVISION BY GRAMMATICALITY ===\n",
      "\n",
      "=== MODEL SUMMARY ===\n",
      "Model: MixedLM\n",
      "Dependent Variable: embed_surprisal\n",
      "No. Observations: 160\n",
      "Method: REML\n",
      "No. Groups: 20\n",
      "Scale: 0.1357\n",
      "Min. group size: 8\n",
      "Log-Likelihood: -98.3243\n",
      "Max. group size: 8\n",
      "Converged: Yes\n",
      "Mean group size: 8.0\n",
      "\n",
      "=== FIXED EFFECTS COEFFICIENTS ===\n"
     ]
    },
    {
     "data": {
      "text/html": [
       "<div>\n",
       "<style scoped>\n",
       "    .dataframe tbody tr th:only-of-type {\n",
       "        vertical-align: middle;\n",
       "    }\n",
       "\n",
       "    .dataframe tbody tr th {\n",
       "        vertical-align: top;\n",
       "    }\n",
       "\n",
       "    .dataframe thead th {\n",
       "        text-align: right;\n",
       "    }\n",
       "</style>\n",
       "<table border=\"1\" class=\"dataframe\">\n",
       "  <thead>\n",
       "    <tr style=\"text-align: right;\">\n",
       "      <th></th>\n",
       "      <th>Parameter</th>\n",
       "      <th>Coef.</th>\n",
       "      <th>Std.Err.</th>\n",
       "      <th>z</th>\n",
       "      <th>P&gt;|z|</th>\n",
       "      <th>[0.025</th>\n",
       "      <th>0.975]</th>\n",
       "    </tr>\n",
       "  </thead>\n",
       "  <tbody>\n",
       "    <tr>\n",
       "      <th>0</th>\n",
       "      <td>Intercept</td>\n",
       "      <td>6.811</td>\n",
       "      <td>0.128</td>\n",
       "      <td>53.418</td>\n",
       "      <td>0.000</td>\n",
       "      <td>6.562</td>\n",
       "      <td>7.061</td>\n",
       "    </tr>\n",
       "    <tr>\n",
       "      <th>1</th>\n",
       "      <td>grammaticality[T.gram-]</td>\n",
       "      <td>-0.130</td>\n",
       "      <td>0.058</td>\n",
       "      <td>-2.234</td>\n",
       "      <td>0.025</td>\n",
       "      <td>-0.244</td>\n",
       "      <td>-0.016</td>\n",
       "    </tr>\n",
       "  </tbody>\n",
       "</table>\n",
       "</div>"
      ],
      "text/plain": [
       "                 Parameter   Coef. Std.Err.       z  P>|z|  [0.025  0.975]\n",
       "0                Intercept   6.811    0.128  53.418  0.000   6.562   7.061\n",
       "1  grammaticality[T.gram-]  -0.130    0.058  -2.234  0.025  -0.244  -0.016"
      ]
     },
     "metadata": {},
     "output_type": "display_data"
    },
    {
     "name": "stdout",
     "output_type": "stream",
     "text": [
      "\n",
      "=== RANDOM EFFECTS / VARIANCE-COVARIANCE ===\n"
     ]
    },
    {
     "data": {
      "text/html": [
       "<div>\n",
       "<style scoped>\n",
       "    .dataframe tbody tr th:only-of-type {\n",
       "        vertical-align: middle;\n",
       "    }\n",
       "\n",
       "    .dataframe tbody tr th {\n",
       "        vertical-align: top;\n",
       "    }\n",
       "\n",
       "    .dataframe thead th {\n",
       "        text-align: right;\n",
       "    }\n",
       "</style>\n",
       "<table border=\"1\" class=\"dataframe\">\n",
       "  <thead>\n",
       "    <tr style=\"text-align: right;\">\n",
       "      <th></th>\n",
       "      <th>Parameter</th>\n",
       "      <th>Coef.</th>\n",
       "      <th>Std.Err.</th>\n",
       "    </tr>\n",
       "  </thead>\n",
       "  <tbody>\n",
       "    <tr>\n",
       "      <th>0</th>\n",
       "      <td>Group Var</td>\n",
       "      <td>0.291</td>\n",
       "      <td>0.289</td>\n",
       "    </tr>\n",
       "  </tbody>\n",
       "</table>\n",
       "</div>"
      ],
      "text/plain": [
       "   Parameter  Coef. Std.Err.\n",
       "0  Group Var  0.291    0.289"
      ]
     },
     "metadata": {},
     "output_type": "display_data"
    },
    {
     "data": {
      "text/plain": [
       "<statsmodels.regression.mixed_linear_model.MixedLMResultsWrapper at 0x1480c5a81760>"
      ]
     },
     "execution_count": 45,
     "metadata": {},
     "output_type": "execute_result"
    }
   ],
   "source": [
    "# division by grammaticality\n",
    "iv_list = ['grammaticality']\n",
    "mixed_effects_linear_regression(sentence_df, iv_list, 'embed_surprisal', 'double gap embed: division by grammaticality')"
   ]
  },
  {
   "cell_type": "markdown",
   "id": "1a8cf03d",
   "metadata": {},
   "source": [
    "Subject Gap Position"
   ]
  },
  {
   "cell_type": "code",
   "execution_count": 46,
   "id": "3ae4cfcd",
   "metadata": {},
   "outputs": [],
   "source": [
    "subjectgap_df = sentence_df[sentence_df['condition'].isin(['a', 'b', 'd', 'e', 'f', 'h'])]"
   ]
  },
  {
   "cell_type": "code",
   "execution_count": 47,
   "id": "6a27ca70",
   "metadata": {},
   "outputs": [
    {
     "name": "stdout",
     "output_type": "stream",
     "text": [
      "\n",
      "=== DOUBLE GAP EMBED SUBJECT GAP POSITION: GAP- ===\n",
      "\n",
      "=== MODEL SUMMARY ===\n",
      ":            MixedLM Dependent Variable: embed_surprisal\n",
      "No. Observations: 40\n",
      "Method: REML\n",
      "No. Groups: 20\n",
      "Scale: 0.0030\n",
      "Min. group size: 2\n",
      "Log-Likelihood: 0.5790\n",
      "Max. group size: 2\n",
      "Converged: Yes\n",
      "Mean group size: 2.0\n",
      "\n",
      "=== FIXED EFFECTS COEFFICIENTS ===\n"
     ]
    },
    {
     "data": {
      "text/html": [
       "<div>\n",
       "<style scoped>\n",
       "    .dataframe tbody tr th:only-of-type {\n",
       "        vertical-align: middle;\n",
       "    }\n",
       "\n",
       "    .dataframe tbody tr th {\n",
       "        vertical-align: top;\n",
       "    }\n",
       "\n",
       "    .dataframe thead th {\n",
       "        text-align: right;\n",
       "    }\n",
       "</style>\n",
       "<table border=\"1\" class=\"dataframe\">\n",
       "  <thead>\n",
       "    <tr style=\"text-align: right;\">\n",
       "      <th></th>\n",
       "      <th>Parameter</th>\n",
       "      <th>Coef.</th>\n",
       "      <th>Std.Err.</th>\n",
       "      <th>z</th>\n",
       "      <th>P&gt;|z|</th>\n",
       "      <th>[0.025</th>\n",
       "      <th>0.975]</th>\n",
       "    </tr>\n",
       "  </thead>\n",
       "  <tbody>\n",
       "    <tr>\n",
       "      <th>0</th>\n",
       "      <td>Intercept</td>\n",
       "      <td>6.920</td>\n",
       "      <td>0.134</td>\n",
       "      <td>51.497</td>\n",
       "      <td>0.000</td>\n",
       "      <td>6.656</td>\n",
       "      <td>7.183</td>\n",
       "    </tr>\n",
       "    <tr>\n",
       "      <th>1</th>\n",
       "      <td>wh_numeric</td>\n",
       "      <td>0.076</td>\n",
       "      <td>0.009</td>\n",
       "      <td>8.761</td>\n",
       "      <td>0.000</td>\n",
       "      <td>0.059</td>\n",
       "      <td>0.093</td>\n",
       "    </tr>\n",
       "  </tbody>\n",
       "</table>\n",
       "</div>"
      ],
      "text/plain": [
       "    Parameter  Coef. Std.Err.       z  P>|z| [0.025 0.975]\n",
       "0   Intercept  6.920    0.134  51.497  0.000  6.656  7.183\n",
       "1  wh_numeric  0.076    0.009   8.761  0.000  0.059  0.093"
      ]
     },
     "metadata": {},
     "output_type": "display_data"
    },
    {
     "name": "stdout",
     "output_type": "stream",
     "text": [
      "\n",
      "=== RANDOM EFFECTS / VARIANCE-COVARIANCE ===\n"
     ]
    },
    {
     "data": {
      "text/html": [
       "<div>\n",
       "<style scoped>\n",
       "    .dataframe tbody tr th:only-of-type {\n",
       "        vertical-align: middle;\n",
       "    }\n",
       "\n",
       "    .dataframe tbody tr th {\n",
       "        vertical-align: top;\n",
       "    }\n",
       "\n",
       "    .dataframe thead th {\n",
       "        text-align: right;\n",
       "    }\n",
       "</style>\n",
       "<table border=\"1\" class=\"dataframe\">\n",
       "  <thead>\n",
       "    <tr style=\"text-align: right;\">\n",
       "      <th></th>\n",
       "      <th>Parameter</th>\n",
       "      <th>Coef.</th>\n",
       "      <th>Std.Err.</th>\n",
       "    </tr>\n",
       "  </thead>\n",
       "  <tbody>\n",
       "    <tr>\n",
       "      <th>0</th>\n",
       "      <td>Group Var</td>\n",
       "      <td>0.360</td>\n",
       "      <td>3.010</td>\n",
       "    </tr>\n",
       "  </tbody>\n",
       "</table>\n",
       "</div>"
      ],
      "text/plain": [
       "   Parameter  Coef. Std.Err.\n",
       "0  Group Var  0.360    3.010"
      ]
     },
     "metadata": {},
     "output_type": "display_data"
    },
    {
     "data": {
      "text/plain": [
       "<statsmodels.regression.mixed_linear_model.MixedLMResultsWrapper at 0x1480c5a604c0>"
      ]
     },
     "execution_count": 47,
     "metadata": {},
     "output_type": "execute_result"
    }
   ],
   "source": [
    "# flip test: gap-\n",
    "no_gap_df = subjectgap_df[subjectgap_df['gap_numeric'] == -1]\n",
    "iv_list = ['wh_numeric']\n",
    "mixed_effects_linear_regression(no_gap_df, iv_list, 'embed_surprisal', 'double gap embed subject gap position: gap-')"
   ]
  },
  {
   "cell_type": "code",
   "execution_count": 48,
   "id": "260dbea4",
   "metadata": {},
   "outputs": [
    {
     "name": "stdout",
     "output_type": "stream",
     "text": [
      "\n",
      "=== DOUBLE GAP EMBED SUBJECT GAP POSITION: GAP+ ===\n",
      "\n",
      "=== MODEL SUMMARY ===\n",
      ":            MixedLM Dependent Variable: embed_surprisal\n",
      "No. Observations: 80\n",
      "Method: REML\n",
      "No. Groups: 20\n",
      "Scale: 0.0704\n",
      "Min. group size: 4\n",
      "Log-Likelihood: -40.0861\n",
      "Max. group size: 4\n",
      "Converged: Yes\n",
      "Mean group size: 4.0\n",
      "\n",
      "=== FIXED EFFECTS COEFFICIENTS ===\n"
     ]
    },
    {
     "data": {
      "text/html": [
       "<div>\n",
       "<style scoped>\n",
       "    .dataframe tbody tr th:only-of-type {\n",
       "        vertical-align: middle;\n",
       "    }\n",
       "\n",
       "    .dataframe tbody tr th {\n",
       "        vertical-align: top;\n",
       "    }\n",
       "\n",
       "    .dataframe thead th {\n",
       "        text-align: right;\n",
       "    }\n",
       "</style>\n",
       "<table border=\"1\" class=\"dataframe\">\n",
       "  <thead>\n",
       "    <tr style=\"text-align: right;\">\n",
       "      <th></th>\n",
       "      <th>Parameter</th>\n",
       "      <th>Coef.</th>\n",
       "      <th>Std.Err.</th>\n",
       "      <th>z</th>\n",
       "      <th>P&gt;|z|</th>\n",
       "      <th>[0.025</th>\n",
       "      <th>0.975]</th>\n",
       "    </tr>\n",
       "  </thead>\n",
       "  <tbody>\n",
       "    <tr>\n",
       "      <th>0</th>\n",
       "      <td>Intercept</td>\n",
       "      <td>6.627</td>\n",
       "      <td>0.133</td>\n",
       "      <td>49.834</td>\n",
       "      <td>0.000</td>\n",
       "      <td>6.366</td>\n",
       "      <td>6.888</td>\n",
       "    </tr>\n",
       "    <tr>\n",
       "      <th>1</th>\n",
       "      <td>wh_numeric</td>\n",
       "      <td>0.123</td>\n",
       "      <td>0.030</td>\n",
       "      <td>4.161</td>\n",
       "      <td>0.000</td>\n",
       "      <td>0.065</td>\n",
       "      <td>0.182</td>\n",
       "    </tr>\n",
       "  </tbody>\n",
       "</table>\n",
       "</div>"
      ],
      "text/plain": [
       "    Parameter  Coef. Std.Err.       z  P>|z| [0.025 0.975]\n",
       "0   Intercept  6.627    0.133  49.834  0.000  6.366  6.888\n",
       "1  wh_numeric  0.123    0.030   4.161  0.000  0.065  0.182"
      ]
     },
     "metadata": {},
     "output_type": "display_data"
    },
    {
     "name": "stdout",
     "output_type": "stream",
     "text": [
      "\n",
      "=== RANDOM EFFECTS / VARIANCE-COVARIANCE ===\n"
     ]
    },
    {
     "data": {
      "text/html": [
       "<div>\n",
       "<style scoped>\n",
       "    .dataframe tbody tr th:only-of-type {\n",
       "        vertical-align: middle;\n",
       "    }\n",
       "\n",
       "    .dataframe tbody tr th {\n",
       "        vertical-align: top;\n",
       "    }\n",
       "\n",
       "    .dataframe thead th {\n",
       "        text-align: right;\n",
       "    }\n",
       "</style>\n",
       "<table border=\"1\" class=\"dataframe\">\n",
       "  <thead>\n",
       "    <tr style=\"text-align: right;\">\n",
       "      <th></th>\n",
       "      <th>Parameter</th>\n",
       "      <th>Coef.</th>\n",
       "      <th>Std.Err.</th>\n",
       "    </tr>\n",
       "  </thead>\n",
       "  <tbody>\n",
       "    <tr>\n",
       "      <th>0</th>\n",
       "      <td>Group Var</td>\n",
       "      <td>0.336</td>\n",
       "      <td>0.497</td>\n",
       "    </tr>\n",
       "  </tbody>\n",
       "</table>\n",
       "</div>"
      ],
      "text/plain": [
       "   Parameter  Coef. Std.Err.\n",
       "0  Group Var  0.336    0.497"
      ]
     },
     "metadata": {},
     "output_type": "display_data"
    },
    {
     "data": {
      "text/plain": [
       "<statsmodels.regression.mixed_linear_model.MixedLMResultsWrapper at 0x1480c5a63490>"
      ]
     },
     "execution_count": 48,
     "metadata": {},
     "output_type": "execute_result"
    }
   ],
   "source": [
    "# flip test: gap+\n",
    "gap_df = subjectgap_df[subjectgap_df['gap_numeric'] == 1]\n",
    "iv_list = ['wh_numeric']\n",
    "mixed_effects_linear_regression(gap_df, iv_list, 'embed_surprisal', 'double gap embed subject gap position: gap+')"
   ]
  },
  {
   "cell_type": "code",
   "execution_count": 49,
   "id": "3387286f",
   "metadata": {},
   "outputs": [
    {
     "name": "stdout",
     "output_type": "stream",
     "text": [
      "\n",
      "=== DOUBLE GAP EMBED SUBJECT GAP POSITION: DIVISION BY GRAMMATICALITY ===\n",
      "\n",
      "=== MODEL SUMMARY ===\n",
      "Model: MixedLM\n",
      "Dependent Variable: embed_surprisal\n",
      "No. Observations: 120\n",
      "Method: REML\n",
      "No. Groups: 20\n",
      "Scale: 0.1479\n",
      "Min. group size: 6\n",
      "Log-Likelihood: -82.3274\n",
      "Max. group size: 6\n",
      "Converged: Yes\n",
      "Mean group size: 6.0\n",
      "\n",
      "=== FIXED EFFECTS COEFFICIENTS ===\n"
     ]
    },
    {
     "data": {
      "text/html": [
       "<div>\n",
       "<style scoped>\n",
       "    .dataframe tbody tr th:only-of-type {\n",
       "        vertical-align: middle;\n",
       "    }\n",
       "\n",
       "    .dataframe tbody tr th {\n",
       "        vertical-align: top;\n",
       "    }\n",
       "\n",
       "    .dataframe thead th {\n",
       "        text-align: right;\n",
       "    }\n",
       "</style>\n",
       "<table border=\"1\" class=\"dataframe\">\n",
       "  <thead>\n",
       "    <tr style=\"text-align: right;\">\n",
       "      <th></th>\n",
       "      <th>Parameter</th>\n",
       "      <th>Coef.</th>\n",
       "      <th>Std.Err.</th>\n",
       "      <th>z</th>\n",
       "      <th>P&gt;|z|</th>\n",
       "      <th>[0.025</th>\n",
       "      <th>0.975]</th>\n",
       "    </tr>\n",
       "  </thead>\n",
       "  <tbody>\n",
       "    <tr>\n",
       "      <th>0</th>\n",
       "      <td>Intercept</td>\n",
       "      <td>6.781</td>\n",
       "      <td>0.126</td>\n",
       "      <td>53.725</td>\n",
       "      <td>0.000</td>\n",
       "      <td>6.534</td>\n",
       "      <td>7.029</td>\n",
       "    </tr>\n",
       "    <tr>\n",
       "      <th>1</th>\n",
       "      <td>grammaticality[T.gram-]</td>\n",
       "      <td>-0.114</td>\n",
       "      <td>0.070</td>\n",
       "      <td>-1.621</td>\n",
       "      <td>0.105</td>\n",
       "      <td>-0.251</td>\n",
       "      <td>0.024</td>\n",
       "    </tr>\n",
       "  </tbody>\n",
       "</table>\n",
       "</div>"
      ],
      "text/plain": [
       "                 Parameter   Coef. Std.Err.       z  P>|z|  [0.025 0.975]\n",
       "0                Intercept   6.781    0.126  53.725  0.000   6.534  7.029\n",
       "1  grammaticality[T.gram-]  -0.114    0.070  -1.621  0.105  -0.251  0.024"
      ]
     },
     "metadata": {},
     "output_type": "display_data"
    },
    {
     "name": "stdout",
     "output_type": "stream",
     "text": [
      "\n",
      "=== RANDOM EFFECTS / VARIANCE-COVARIANCE ===\n"
     ]
    },
    {
     "data": {
      "text/html": [
       "<div>\n",
       "<style scoped>\n",
       "    .dataframe tbody tr th:only-of-type {\n",
       "        vertical-align: middle;\n",
       "    }\n",
       "\n",
       "    .dataframe tbody tr th {\n",
       "        vertical-align: top;\n",
       "    }\n",
       "\n",
       "    .dataframe thead th {\n",
       "        text-align: right;\n",
       "    }\n",
       "</style>\n",
       "<table border=\"1\" class=\"dataframe\">\n",
       "  <thead>\n",
       "    <tr style=\"text-align: right;\">\n",
       "      <th></th>\n",
       "      <th>Parameter</th>\n",
       "      <th>Coef.</th>\n",
       "      <th>Std.Err.</th>\n",
       "    </tr>\n",
       "  </thead>\n",
       "  <tbody>\n",
       "    <tr>\n",
       "      <th>0</th>\n",
       "      <td>Group Var</td>\n",
       "      <td>0.269</td>\n",
       "      <td>0.271</td>\n",
       "    </tr>\n",
       "  </tbody>\n",
       "</table>\n",
       "</div>"
      ],
      "text/plain": [
       "   Parameter  Coef. Std.Err.\n",
       "0  Group Var  0.269    0.271"
      ]
     },
     "metadata": {},
     "output_type": "display_data"
    },
    {
     "data": {
      "text/plain": [
       "<statsmodels.regression.mixed_linear_model.MixedLMResultsWrapper at 0x1480c5a19d30>"
      ]
     },
     "execution_count": 49,
     "metadata": {},
     "output_type": "execute_result"
    }
   ],
   "source": [
    "# division by grammaticality\n",
    "iv_list = ['grammaticality']\n",
    "mixed_effects_linear_regression(subjectgap_df, iv_list, 'embed_surprisal', 'double gap embed subject gap position: division by grammaticality')"
   ]
  },
  {
   "cell_type": "markdown",
   "id": "f1ceddd3",
   "metadata": {},
   "source": [
    "Object Gap Position"
   ]
  },
  {
   "cell_type": "code",
   "execution_count": 50,
   "id": "da7c882e",
   "metadata": {},
   "outputs": [],
   "source": [
    "objectgap_df = sentence_df[sentence_df['condition'].isin(['a', 'c', 'd', 'e', 'g', 'h'])]"
   ]
  },
  {
   "cell_type": "code",
   "execution_count": 51,
   "id": "229098d1",
   "metadata": {},
   "outputs": [
    {
     "name": "stdout",
     "output_type": "stream",
     "text": [
      "\n",
      "=== DOUBLE GAP EMBED OBJECT GAP POSITION: GAP- ===\n",
      "\n",
      "=== MODEL SUMMARY ===\n",
      ":            MixedLM Dependent Variable: embed_surprisal\n",
      "No. Observations: 40\n",
      "Method: REML\n",
      "No. Groups: 20\n",
      "Scale: 0.0030\n",
      "Min. group size: 2\n",
      "Log-Likelihood: 0.5790\n",
      "Max. group size: 2\n",
      "Converged: Yes\n",
      "Mean group size: 2.0\n",
      "\n",
      "=== FIXED EFFECTS COEFFICIENTS ===\n"
     ]
    },
    {
     "data": {
      "text/html": [
       "<div>\n",
       "<style scoped>\n",
       "    .dataframe tbody tr th:only-of-type {\n",
       "        vertical-align: middle;\n",
       "    }\n",
       "\n",
       "    .dataframe tbody tr th {\n",
       "        vertical-align: top;\n",
       "    }\n",
       "\n",
       "    .dataframe thead th {\n",
       "        text-align: right;\n",
       "    }\n",
       "</style>\n",
       "<table border=\"1\" class=\"dataframe\">\n",
       "  <thead>\n",
       "    <tr style=\"text-align: right;\">\n",
       "      <th></th>\n",
       "      <th>Parameter</th>\n",
       "      <th>Coef.</th>\n",
       "      <th>Std.Err.</th>\n",
       "      <th>z</th>\n",
       "      <th>P&gt;|z|</th>\n",
       "      <th>[0.025</th>\n",
       "      <th>0.975]</th>\n",
       "    </tr>\n",
       "  </thead>\n",
       "  <tbody>\n",
       "    <tr>\n",
       "      <th>0</th>\n",
       "      <td>Intercept</td>\n",
       "      <td>6.920</td>\n",
       "      <td>0.134</td>\n",
       "      <td>51.497</td>\n",
       "      <td>0.000</td>\n",
       "      <td>6.656</td>\n",
       "      <td>7.183</td>\n",
       "    </tr>\n",
       "    <tr>\n",
       "      <th>1</th>\n",
       "      <td>wh_numeric</td>\n",
       "      <td>0.076</td>\n",
       "      <td>0.009</td>\n",
       "      <td>8.761</td>\n",
       "      <td>0.000</td>\n",
       "      <td>0.059</td>\n",
       "      <td>0.093</td>\n",
       "    </tr>\n",
       "  </tbody>\n",
       "</table>\n",
       "</div>"
      ],
      "text/plain": [
       "    Parameter  Coef. Std.Err.       z  P>|z| [0.025 0.975]\n",
       "0   Intercept  6.920    0.134  51.497  0.000  6.656  7.183\n",
       "1  wh_numeric  0.076    0.009   8.761  0.000  0.059  0.093"
      ]
     },
     "metadata": {},
     "output_type": "display_data"
    },
    {
     "name": "stdout",
     "output_type": "stream",
     "text": [
      "\n",
      "=== RANDOM EFFECTS / VARIANCE-COVARIANCE ===\n"
     ]
    },
    {
     "data": {
      "text/html": [
       "<div>\n",
       "<style scoped>\n",
       "    .dataframe tbody tr th:only-of-type {\n",
       "        vertical-align: middle;\n",
       "    }\n",
       "\n",
       "    .dataframe tbody tr th {\n",
       "        vertical-align: top;\n",
       "    }\n",
       "\n",
       "    .dataframe thead th {\n",
       "        text-align: right;\n",
       "    }\n",
       "</style>\n",
       "<table border=\"1\" class=\"dataframe\">\n",
       "  <thead>\n",
       "    <tr style=\"text-align: right;\">\n",
       "      <th></th>\n",
       "      <th>Parameter</th>\n",
       "      <th>Coef.</th>\n",
       "      <th>Std.Err.</th>\n",
       "    </tr>\n",
       "  </thead>\n",
       "  <tbody>\n",
       "    <tr>\n",
       "      <th>0</th>\n",
       "      <td>Group Var</td>\n",
       "      <td>0.360</td>\n",
       "      <td>3.010</td>\n",
       "    </tr>\n",
       "  </tbody>\n",
       "</table>\n",
       "</div>"
      ],
      "text/plain": [
       "   Parameter  Coef. Std.Err.\n",
       "0  Group Var  0.360    3.010"
      ]
     },
     "metadata": {},
     "output_type": "display_data"
    },
    {
     "data": {
      "text/plain": [
       "<statsmodels.regression.mixed_linear_model.MixedLMResultsWrapper at 0x1480c5ac87f0>"
      ]
     },
     "execution_count": 51,
     "metadata": {},
     "output_type": "execute_result"
    }
   ],
   "source": [
    "# flip test: gap-\n",
    "no_gap_df = objectgap_df[objectgap_df['gap_numeric'] == -1]\n",
    "iv_list = ['wh_numeric']\n",
    "mixed_effects_linear_regression(no_gap_df, iv_list, 'embed_surprisal', 'double gap embed object gap position: gap-')"
   ]
  },
  {
   "cell_type": "code",
   "execution_count": 52,
   "id": "041022cb",
   "metadata": {},
   "outputs": [
    {
     "name": "stdout",
     "output_type": "stream",
     "text": [
      "\n",
      "=== DOUBLE GAP EMBED OBJECT GAP POSITION: GAP+ ===\n",
      "\n",
      "=== MODEL SUMMARY ===\n",
      ":            MixedLM Dependent Variable: embed_surprisal\n",
      "No. Observations: 80\n",
      "Method: REML\n",
      "No. Groups: 20\n",
      "Scale: 0.1143\n",
      "Min. group size: 4\n",
      "Log-Likelihood: -55.4727\n",
      "Max. group size: 4\n",
      "Converged: Yes\n",
      "Mean group size: 4.0\n",
      "\n",
      "=== FIXED EFFECTS COEFFICIENTS ===\n"
     ]
    },
    {
     "data": {
      "text/html": [
       "<div>\n",
       "<style scoped>\n",
       "    .dataframe tbody tr th:only-of-type {\n",
       "        vertical-align: middle;\n",
       "    }\n",
       "\n",
       "    .dataframe tbody tr th {\n",
       "        vertical-align: top;\n",
       "    }\n",
       "\n",
       "    .dataframe thead th {\n",
       "        text-align: right;\n",
       "    }\n",
       "</style>\n",
       "<table border=\"1\" class=\"dataframe\">\n",
       "  <thead>\n",
       "    <tr style=\"text-align: right;\">\n",
       "      <th></th>\n",
       "      <th>Parameter</th>\n",
       "      <th>Coef.</th>\n",
       "      <th>Std.Err.</th>\n",
       "      <th>z</th>\n",
       "      <th>P&gt;|z|</th>\n",
       "      <th>[0.025</th>\n",
       "      <th>0.975]</th>\n",
       "    </tr>\n",
       "  </thead>\n",
       "  <tbody>\n",
       "    <tr>\n",
       "      <th>0</th>\n",
       "      <td>Intercept</td>\n",
       "      <td>6.667</td>\n",
       "      <td>0.141</td>\n",
       "      <td>47.279</td>\n",
       "      <td>0.000</td>\n",
       "      <td>6.390</td>\n",
       "      <td>6.943</td>\n",
       "    </tr>\n",
       "    <tr>\n",
       "      <th>1</th>\n",
       "      <td>wh_numeric</td>\n",
       "      <td>0.113</td>\n",
       "      <td>0.038</td>\n",
       "      <td>2.984</td>\n",
       "      <td>0.003</td>\n",
       "      <td>0.039</td>\n",
       "      <td>0.187</td>\n",
       "    </tr>\n",
       "  </tbody>\n",
       "</table>\n",
       "</div>"
      ],
      "text/plain": [
       "    Parameter  Coef. Std.Err.       z  P>|z| [0.025 0.975]\n",
       "0   Intercept  6.667    0.141  47.279  0.000  6.390  6.943\n",
       "1  wh_numeric  0.113    0.038   2.984  0.003  0.039  0.187"
      ]
     },
     "metadata": {},
     "output_type": "display_data"
    },
    {
     "name": "stdout",
     "output_type": "stream",
     "text": [
      "\n",
      "=== RANDOM EFFECTS / VARIANCE-COVARIANCE ===\n"
     ]
    },
    {
     "data": {
      "text/html": [
       "<div>\n",
       "<style scoped>\n",
       "    .dataframe tbody tr th:only-of-type {\n",
       "        vertical-align: middle;\n",
       "    }\n",
       "\n",
       "    .dataframe tbody tr th {\n",
       "        vertical-align: top;\n",
       "    }\n",
       "\n",
       "    .dataframe thead th {\n",
       "        text-align: right;\n",
       "    }\n",
       "</style>\n",
       "<table border=\"1\" class=\"dataframe\">\n",
       "  <thead>\n",
       "    <tr style=\"text-align: right;\">\n",
       "      <th></th>\n",
       "      <th>Parameter</th>\n",
       "      <th>Coef.</th>\n",
       "      <th>Std.Err.</th>\n",
       "    </tr>\n",
       "  </thead>\n",
       "  <tbody>\n",
       "    <tr>\n",
       "      <th>0</th>\n",
       "      <td>Group Var</td>\n",
       "      <td>0.369</td>\n",
       "      <td>0.439</td>\n",
       "    </tr>\n",
       "  </tbody>\n",
       "</table>\n",
       "</div>"
      ],
      "text/plain": [
       "   Parameter  Coef. Std.Err.\n",
       "0  Group Var  0.369    0.439"
      ]
     },
     "metadata": {},
     "output_type": "display_data"
    },
    {
     "data": {
      "text/plain": [
       "<statsmodels.regression.mixed_linear_model.MixedLMResultsWrapper at 0x1480c5ac4a60>"
      ]
     },
     "execution_count": 52,
     "metadata": {},
     "output_type": "execute_result"
    }
   ],
   "source": [
    "# flip test: gap+\n",
    "gap_df = objectgap_df[objectgap_df['gap_numeric'] == 1]\n",
    "iv_list = ['wh_numeric']\n",
    "mixed_effects_linear_regression(gap_df, iv_list, 'embed_surprisal', 'double gap embed object gap position: gap+')"
   ]
  },
  {
   "cell_type": "code",
   "execution_count": 53,
   "id": "2f00d72d",
   "metadata": {},
   "outputs": [
    {
     "name": "stdout",
     "output_type": "stream",
     "text": [
      "\n",
      "=== DOUBLE GAP EMBED OBJECT GAP POSITION: DIVISION BY GRAMMATICALITY ===\n",
      "\n",
      "=== MODEL SUMMARY ===\n",
      "Model: MixedLM\n",
      "Dependent Variable: embed_surprisal\n",
      "No. Observations: 120\n",
      "Method: REML\n",
      "No. Groups: 20\n",
      "Scale: 0.1482\n",
      "Min. group size: 6\n",
      "Log-Likelihood: -83.7782\n",
      "Max. group size: 6\n",
      "Converged: Yes\n",
      "Mean group size: 6.0\n",
      "\n",
      "=== FIXED EFFECTS COEFFICIENTS ===\n"
     ]
    },
    {
     "data": {
      "text/html": [
       "<div>\n",
       "<style scoped>\n",
       "    .dataframe tbody tr th:only-of-type {\n",
       "        vertical-align: middle;\n",
       "    }\n",
       "\n",
       "    .dataframe tbody tr th {\n",
       "        vertical-align: top;\n",
       "    }\n",
       "\n",
       "    .dataframe thead th {\n",
       "        text-align: right;\n",
       "    }\n",
       "</style>\n",
       "<table border=\"1\" class=\"dataframe\">\n",
       "  <thead>\n",
       "    <tr style=\"text-align: right;\">\n",
       "      <th></th>\n",
       "      <th>Parameter</th>\n",
       "      <th>Coef.</th>\n",
       "      <th>Std.Err.</th>\n",
       "      <th>z</th>\n",
       "      <th>P&gt;|z|</th>\n",
       "      <th>[0.025</th>\n",
       "      <th>0.975]</th>\n",
       "    </tr>\n",
       "  </thead>\n",
       "  <tbody>\n",
       "    <tr>\n",
       "      <th>0</th>\n",
       "      <td>Intercept</td>\n",
       "      <td>6.801</td>\n",
       "      <td>0.135</td>\n",
       "      <td>50.380</td>\n",
       "      <td>0.000</td>\n",
       "      <td>6.536</td>\n",
       "      <td>7.065</td>\n",
       "    </tr>\n",
       "    <tr>\n",
       "      <th>1</th>\n",
       "      <td>grammaticality[T.gram-]</td>\n",
       "      <td>-0.100</td>\n",
       "      <td>0.070</td>\n",
       "      <td>-1.416</td>\n",
       "      <td>0.157</td>\n",
       "      <td>-0.237</td>\n",
       "      <td>0.038</td>\n",
       "    </tr>\n",
       "  </tbody>\n",
       "</table>\n",
       "</div>"
      ],
      "text/plain": [
       "                 Parameter   Coef. Std.Err.       z  P>|z|  [0.025 0.975]\n",
       "0                Intercept   6.801    0.135  50.380  0.000   6.536  7.065\n",
       "1  grammaticality[T.gram-]  -0.100    0.070  -1.416  0.157  -0.237  0.038"
      ]
     },
     "metadata": {},
     "output_type": "display_data"
    },
    {
     "name": "stdout",
     "output_type": "stream",
     "text": [
      "\n",
      "=== RANDOM EFFECTS / VARIANCE-COVARIANCE ===\n"
     ]
    },
    {
     "data": {
      "text/html": [
       "<div>\n",
       "<style scoped>\n",
       "    .dataframe tbody tr th:only-of-type {\n",
       "        vertical-align: middle;\n",
       "    }\n",
       "\n",
       "    .dataframe tbody tr th {\n",
       "        vertical-align: top;\n",
       "    }\n",
       "\n",
       "    .dataframe thead th {\n",
       "        text-align: right;\n",
       "    }\n",
       "</style>\n",
       "<table border=\"1\" class=\"dataframe\">\n",
       "  <thead>\n",
       "    <tr style=\"text-align: right;\">\n",
       "      <th></th>\n",
       "      <th>Parameter</th>\n",
       "      <th>Coef.</th>\n",
       "      <th>Std.Err.</th>\n",
       "    </tr>\n",
       "  </thead>\n",
       "  <tbody>\n",
       "    <tr>\n",
       "      <th>0</th>\n",
       "      <td>Group Var</td>\n",
       "      <td>0.315</td>\n",
       "      <td>0.313</td>\n",
       "    </tr>\n",
       "  </tbody>\n",
       "</table>\n",
       "</div>"
      ],
      "text/plain": [
       "   Parameter  Coef. Std.Err.\n",
       "0  Group Var  0.315    0.313"
      ]
     },
     "metadata": {},
     "output_type": "display_data"
    },
    {
     "data": {
      "text/plain": [
       "<statsmodels.regression.mixed_linear_model.MixedLMResultsWrapper at 0x1480c5ac1b50>"
      ]
     },
     "execution_count": 53,
     "metadata": {},
     "output_type": "execute_result"
    }
   ],
   "source": [
    "# division by grammaticality\n",
    "iv_list = ['grammaticality']\n",
    "mixed_effects_linear_regression(objectgap_df, iv_list, 'embed_surprisal', 'double gap embed object gap position: division by grammaticality')"
   ]
  },
  {
   "cell_type": "markdown",
   "id": "88490c4f",
   "metadata": {},
   "source": [
    "#### Wh-Islands"
   ]
  },
  {
   "cell_type": "code",
   "execution_count": 8,
   "id": "402f34e8",
   "metadata": {},
   "outputs": [],
   "source": [
    "sentence_df = pd.read_csv('test_sentences/Wh-Islands.csv')\n",
    "sentence_df['comp_type'] = sentence_df['comp_type'].fillna('null')"
   ]
  },
  {
   "cell_type": "code",
   "execution_count": 9,
   "id": "d2830731",
   "metadata": {},
   "outputs": [],
   "source": [
    "sentence_df[['cont', 'end']] = sentence_df['cont'].apply(split_ends)\n",
    "sentence_df = encode_wh_licensor(sentence_df)\n",
    "sentence_df['gap_numeric'] = sentence_df['gap'].replace(0, -1)\n",
    "syntactic_parts = ['prefix', 'filler_word', 'subj1', 'verb1', 'comp', 'subj2', 'embed_verb', 'obj', 'cont']\n",
    "sentence_df['sentence'] = sentence_df.apply(lambda x: merge_sentence (x, syntactic_parts), axis = 1)\n",
    "sentence_df['surprisals'] = sentence_df['sentence'].apply(calculate_surprisal)\n",
    "sentence_df['comp_type'] = pd.Categorical(sentence_df['comp_type'], categories = ['null', 'that', 'whether'], ordered = True)\n",
    "sentence_df['grammaticality'] = sentence_df.apply(assign_grammaticality, axis = 1)"
   ]
  },
  {
   "cell_type": "markdown",
   "id": "42da86a3",
   "metadata": {},
   "source": [
    "Post-Gap Region - Continuation"
   ]
  },
  {
   "cell_type": "code",
   "execution_count": 10,
   "id": "e7157f88",
   "metadata": {},
   "outputs": [],
   "source": [
    "sentence_df['region_surprisal'] = sentence_df.apply(lambda x: sum_region_surprisal(x, ['cont'], 'obj'), axis = 1)"
   ]
  },
  {
   "cell_type": "code",
   "execution_count": 11,
   "id": "e962e5d4",
   "metadata": {},
   "outputs": [
    {
     "name": "stdout",
     "output_type": "stream",
     "text": [
      "\n",
      "=== WH-ISLANDS CONTINUATION: GAP- ===\n",
      "\n",
      "=== MODEL SUMMARY ===\n",
      "Model: MixedLM\n",
      "Dependent Variable: region_surprisal\n",
      "No. Observations: 120\n",
      "Method: REML\n",
      "No. Groups: 20\n",
      "Scale: 0.2700\n",
      "Min. group size: 6\n",
      "Log-Likelihood: -162.3735\n",
      "Max. group size: 6\n",
      "Converged: Yes\n",
      "Mean group size: 6.0\n",
      "\n",
      "=== FIXED EFFECTS COEFFICIENTS ===\n"
     ]
    },
    {
     "data": {
      "text/html": [
       "<div>\n",
       "<style scoped>\n",
       "    .dataframe tbody tr th:only-of-type {\n",
       "        vertical-align: middle;\n",
       "    }\n",
       "\n",
       "    .dataframe tbody tr th {\n",
       "        vertical-align: top;\n",
       "    }\n",
       "\n",
       "    .dataframe thead th {\n",
       "        text-align: right;\n",
       "    }\n",
       "</style>\n",
       "<table border=\"1\" class=\"dataframe\">\n",
       "  <thead>\n",
       "    <tr style=\"text-align: right;\">\n",
       "      <th></th>\n",
       "      <th>Parameter</th>\n",
       "      <th>Coef.</th>\n",
       "      <th>Std.Err.</th>\n",
       "      <th>z</th>\n",
       "      <th>P&gt;|z|</th>\n",
       "      <th>[0.025</th>\n",
       "      <th>0.975]</th>\n",
       "    </tr>\n",
       "  </thead>\n",
       "  <tbody>\n",
       "    <tr>\n",
       "      <th>0</th>\n",
       "      <td>Intercept</td>\n",
       "      <td>21.139</td>\n",
       "      <td>1.391</td>\n",
       "      <td>15.192</td>\n",
       "      <td>0.000</td>\n",
       "      <td>18.412</td>\n",
       "      <td>23.866</td>\n",
       "    </tr>\n",
       "    <tr>\n",
       "      <th>1</th>\n",
       "      <td>comp_type[T.that]</td>\n",
       "      <td>-0.033</td>\n",
       "      <td>0.116</td>\n",
       "      <td>-0.286</td>\n",
       "      <td>0.775</td>\n",
       "      <td>-0.261</td>\n",
       "      <td>0.194</td>\n",
       "    </tr>\n",
       "    <tr>\n",
       "      <th>2</th>\n",
       "      <td>comp_type[T.whether]</td>\n",
       "      <td>0.078</td>\n",
       "      <td>0.116</td>\n",
       "      <td>0.668</td>\n",
       "      <td>0.504</td>\n",
       "      <td>-0.150</td>\n",
       "      <td>0.305</td>\n",
       "    </tr>\n",
       "    <tr>\n",
       "      <th>3</th>\n",
       "      <td>wh_numeric</td>\n",
       "      <td>0.248</td>\n",
       "      <td>0.082</td>\n",
       "      <td>3.021</td>\n",
       "      <td>0.003</td>\n",
       "      <td>0.087</td>\n",
       "      <td>0.409</td>\n",
       "    </tr>\n",
       "    <tr>\n",
       "      <th>4</th>\n",
       "      <td>wh_numeric:comp_type[T.that]</td>\n",
       "      <td>-0.107</td>\n",
       "      <td>0.116</td>\n",
       "      <td>-0.921</td>\n",
       "      <td>0.357</td>\n",
       "      <td>-0.335</td>\n",
       "      <td>0.121</td>\n",
       "    </tr>\n",
       "    <tr>\n",
       "      <th>5</th>\n",
       "      <td>wh_numeric:comp_type[T.whether]</td>\n",
       "      <td>-0.100</td>\n",
       "      <td>0.116</td>\n",
       "      <td>-0.856</td>\n",
       "      <td>0.392</td>\n",
       "      <td>-0.327</td>\n",
       "      <td>0.128</td>\n",
       "    </tr>\n",
       "  </tbody>\n",
       "</table>\n",
       "</div>"
      ],
      "text/plain": [
       "                         Parameter   Coef. Std.Err.       z  P>|z|  [0.025  \\\n",
       "0                        Intercept  21.139    1.391  15.192  0.000  18.412   \n",
       "1                comp_type[T.that]  -0.033    0.116  -0.286  0.775  -0.261   \n",
       "2             comp_type[T.whether]   0.078    0.116   0.668  0.504  -0.150   \n",
       "3                       wh_numeric   0.248    0.082   3.021  0.003   0.087   \n",
       "4     wh_numeric:comp_type[T.that]  -0.107    0.116  -0.921  0.357  -0.335   \n",
       "5  wh_numeric:comp_type[T.whether]  -0.100    0.116  -0.856  0.392  -0.327   \n",
       "\n",
       "   0.975]  \n",
       "0  23.866  \n",
       "1   0.194  \n",
       "2   0.305  \n",
       "3   0.409  \n",
       "4   0.121  \n",
       "5   0.128  "
      ]
     },
     "metadata": {},
     "output_type": "display_data"
    },
    {
     "name": "stdout",
     "output_type": "stream",
     "text": [
      "\n",
      "=== RANDOM EFFECTS / VARIANCE-COVARIANCE ===\n"
     ]
    },
    {
     "data": {
      "text/html": [
       "<div>\n",
       "<style scoped>\n",
       "    .dataframe tbody tr th:only-of-type {\n",
       "        vertical-align: middle;\n",
       "    }\n",
       "\n",
       "    .dataframe tbody tr th {\n",
       "        vertical-align: top;\n",
       "    }\n",
       "\n",
       "    .dataframe thead th {\n",
       "        text-align: right;\n",
       "    }\n",
       "</style>\n",
       "<table border=\"1\" class=\"dataframe\">\n",
       "  <thead>\n",
       "    <tr style=\"text-align: right;\">\n",
       "      <th></th>\n",
       "      <th>Parameter</th>\n",
       "      <th>Coef.</th>\n",
       "      <th>Std.Err.</th>\n",
       "    </tr>\n",
       "  </thead>\n",
       "  <tbody>\n",
       "    <tr>\n",
       "      <th>0</th>\n",
       "      <td>Group Var</td>\n",
       "      <td>38.587</td>\n",
       "      <td>26.405</td>\n",
       "    </tr>\n",
       "  </tbody>\n",
       "</table>\n",
       "</div>"
      ],
      "text/plain": [
       "   Parameter   Coef. Std.Err.\n",
       "0  Group Var  38.587   26.405"
      ]
     },
     "metadata": {},
     "output_type": "display_data"
    },
    {
     "data": {
      "text/plain": [
       "<statsmodels.regression.mixed_linear_model.MixedLMResultsWrapper at 0x14b8cb15f3a0>"
      ]
     },
     "execution_count": 11,
     "metadata": {},
     "output_type": "execute_result"
    }
   ],
   "source": [
    "# flip test: gap-\n",
    "no_gap_df = sentence_df[sentence_df['gap_numeric'] == -1]\n",
    "iv_list = ['wh_numeric', 'comp_type']\n",
    "mixed_effects_linear_regression(no_gap_df, iv_list, 'region_surprisal', 'wh-islands continuation: gap-')"
   ]
  },
  {
   "cell_type": "code",
   "execution_count": 12,
   "id": "bbc4983e",
   "metadata": {},
   "outputs": [
    {
     "name": "stdout",
     "output_type": "stream",
     "text": [
      "\n",
      "=== WH-ISLANDS CONTINUATION: GAP+ ===\n",
      "\n",
      "=== MODEL SUMMARY ===\n",
      "Model: MixedLM\n",
      "Dependent Variable: region_surprisal\n",
      "No. Observations: 120\n",
      "Method: REML\n",
      "No. Groups: 20\n",
      "Scale: 0.2167\n",
      "Min. group size: 6\n",
      "Log-Likelihood: -158.3284\n",
      "Max. group size: 6\n",
      "Converged: Yes\n",
      "Mean group size: 6.0\n",
      "\n",
      "=== FIXED EFFECTS COEFFICIENTS ===\n"
     ]
    },
    {
     "data": {
      "text/html": [
       "<div>\n",
       "<style scoped>\n",
       "    .dataframe tbody tr th:only-of-type {\n",
       "        vertical-align: middle;\n",
       "    }\n",
       "\n",
       "    .dataframe tbody tr th {\n",
       "        vertical-align: top;\n",
       "    }\n",
       "\n",
       "    .dataframe thead th {\n",
       "        text-align: right;\n",
       "    }\n",
       "</style>\n",
       "<table border=\"1\" class=\"dataframe\">\n",
       "  <thead>\n",
       "    <tr style=\"text-align: right;\">\n",
       "      <th></th>\n",
       "      <th>Parameter</th>\n",
       "      <th>Coef.</th>\n",
       "      <th>Std.Err.</th>\n",
       "      <th>z</th>\n",
       "      <th>P&gt;|z|</th>\n",
       "      <th>[0.025</th>\n",
       "      <th>0.975]</th>\n",
       "    </tr>\n",
       "  </thead>\n",
       "  <tbody>\n",
       "    <tr>\n",
       "      <th>0</th>\n",
       "      <td>Intercept</td>\n",
       "      <td>32.629</td>\n",
       "      <td>1.947</td>\n",
       "      <td>16.758</td>\n",
       "      <td>0.000</td>\n",
       "      <td>28.813</td>\n",
       "      <td>36.446</td>\n",
       "    </tr>\n",
       "    <tr>\n",
       "      <th>1</th>\n",
       "      <td>comp_type[T.that]</td>\n",
       "      <td>0.052</td>\n",
       "      <td>0.104</td>\n",
       "      <td>0.502</td>\n",
       "      <td>0.616</td>\n",
       "      <td>-0.152</td>\n",
       "      <td>0.256</td>\n",
       "    </tr>\n",
       "    <tr>\n",
       "      <th>2</th>\n",
       "      <td>comp_type[T.whether]</td>\n",
       "      <td>-0.221</td>\n",
       "      <td>0.104</td>\n",
       "      <td>-2.121</td>\n",
       "      <td>0.034</td>\n",
       "      <td>-0.425</td>\n",
       "      <td>-0.017</td>\n",
       "    </tr>\n",
       "    <tr>\n",
       "      <th>3</th>\n",
       "      <td>wh_numeric</td>\n",
       "      <td>0.036</td>\n",
       "      <td>0.074</td>\n",
       "      <td>0.492</td>\n",
       "      <td>0.623</td>\n",
       "      <td>-0.108</td>\n",
       "      <td>0.181</td>\n",
       "    </tr>\n",
       "    <tr>\n",
       "      <th>4</th>\n",
       "      <td>wh_numeric:comp_type[T.that]</td>\n",
       "      <td>-0.150</td>\n",
       "      <td>0.104</td>\n",
       "      <td>-1.440</td>\n",
       "      <td>0.150</td>\n",
       "      <td>-0.354</td>\n",
       "      <td>0.054</td>\n",
       "    </tr>\n",
       "    <tr>\n",
       "      <th>5</th>\n",
       "      <td>wh_numeric:comp_type[T.whether]</td>\n",
       "      <td>-0.069</td>\n",
       "      <td>0.104</td>\n",
       "      <td>-0.663</td>\n",
       "      <td>0.507</td>\n",
       "      <td>-0.273</td>\n",
       "      <td>0.135</td>\n",
       "    </tr>\n",
       "  </tbody>\n",
       "</table>\n",
       "</div>"
      ],
      "text/plain": [
       "                         Parameter   Coef. Std.Err.       z  P>|z|  [0.025  \\\n",
       "0                        Intercept  32.629    1.947  16.758  0.000  28.813   \n",
       "1                comp_type[T.that]   0.052    0.104   0.502  0.616  -0.152   \n",
       "2             comp_type[T.whether]  -0.221    0.104  -2.121  0.034  -0.425   \n",
       "3                       wh_numeric   0.036    0.074   0.492  0.623  -0.108   \n",
       "4     wh_numeric:comp_type[T.that]  -0.150    0.104  -1.440  0.150  -0.354   \n",
       "5  wh_numeric:comp_type[T.whether]  -0.069    0.104  -0.663  0.507  -0.273   \n",
       "\n",
       "   0.975]  \n",
       "0  36.446  \n",
       "1   0.256  \n",
       "2  -0.017  \n",
       "3   0.181  \n",
       "4   0.054  \n",
       "5   0.135  "
      ]
     },
     "metadata": {},
     "output_type": "display_data"
    },
    {
     "name": "stdout",
     "output_type": "stream",
     "text": [
      "\n",
      "=== RANDOM EFFECTS / VARIANCE-COVARIANCE ===\n"
     ]
    },
    {
     "data": {
      "text/html": [
       "<div>\n",
       "<style scoped>\n",
       "    .dataframe tbody tr th:only-of-type {\n",
       "        vertical-align: middle;\n",
       "    }\n",
       "\n",
       "    .dataframe tbody tr th {\n",
       "        vertical-align: top;\n",
       "    }\n",
       "\n",
       "    .dataframe thead th {\n",
       "        text-align: right;\n",
       "    }\n",
       "</style>\n",
       "<table border=\"1\" class=\"dataframe\">\n",
       "  <thead>\n",
       "    <tr style=\"text-align: right;\">\n",
       "      <th></th>\n",
       "      <th>Parameter</th>\n",
       "      <th>Coef.</th>\n",
       "      <th>Std.Err.</th>\n",
       "    </tr>\n",
       "  </thead>\n",
       "  <tbody>\n",
       "    <tr>\n",
       "      <th>0</th>\n",
       "      <td>Group Var</td>\n",
       "      <td>75.714</td>\n",
       "      <td>57.796</td>\n",
       "    </tr>\n",
       "  </tbody>\n",
       "</table>\n",
       "</div>"
      ],
      "text/plain": [
       "   Parameter   Coef. Std.Err.\n",
       "0  Group Var  75.714   57.796"
      ]
     },
     "metadata": {},
     "output_type": "display_data"
    },
    {
     "data": {
      "text/plain": [
       "<statsmodels.regression.mixed_linear_model.MixedLMResultsWrapper at 0x14b8cb0d33a0>"
      ]
     },
     "execution_count": 12,
     "metadata": {},
     "output_type": "execute_result"
    }
   ],
   "source": [
    "# flip test: gap+\n",
    "gap_df = sentence_df[sentence_df['gap_numeric'] == 1]\n",
    "iv_list = ['wh_numeric', 'comp_type']\n",
    "mixed_effects_linear_regression(gap_df, iv_list, 'region_surprisal', 'wh-islands continuation: gap+')"
   ]
  },
  {
   "cell_type": "code",
   "execution_count": 13,
   "id": "a0f33d9e",
   "metadata": {},
   "outputs": [
    {
     "name": "stdout",
     "output_type": "stream",
     "text": [
      "\n",
      "=== WH-ISLANDS CONTINUATION: DIVISION BY GRAMMATICALITY ===\n",
      "\n",
      "=== MODEL SUMMARY ===\n",
      "Model: MixedLM\n",
      "Dependent Variable: region_surprisal\n",
      "No. Observations: 240\n",
      "Method: REML\n",
      "No. Groups: 20\n",
      "Scale: 70.3659\n",
      "Min. group size: 12\n",
      "Log-Likelihood: -862.1415\n",
      "Max. group size: 12\n",
      "Converged: Yes\n",
      "Mean group size: 12.0\n",
      "\n",
      "=== FIXED EFFECTS COEFFICIENTS ===\n"
     ]
    },
    {
     "data": {
      "text/html": [
       "<div>\n",
       "<style scoped>\n",
       "    .dataframe tbody tr th:only-of-type {\n",
       "        vertical-align: middle;\n",
       "    }\n",
       "\n",
       "    .dataframe tbody tr th {\n",
       "        vertical-align: top;\n",
       "    }\n",
       "\n",
       "    .dataframe thead th {\n",
       "        text-align: right;\n",
       "    }\n",
       "</style>\n",
       "<table border=\"1\" class=\"dataframe\">\n",
       "  <thead>\n",
       "    <tr style=\"text-align: right;\">\n",
       "      <th></th>\n",
       "      <th>Parameter</th>\n",
       "      <th>Coef.</th>\n",
       "      <th>Std.Err.</th>\n",
       "      <th>z</th>\n",
       "      <th>P&gt;|z|</th>\n",
       "      <th>[0.025</th>\n",
       "      <th>0.975]</th>\n",
       "    </tr>\n",
       "  </thead>\n",
       "  <tbody>\n",
       "    <tr>\n",
       "      <th>0</th>\n",
       "      <td>Intercept</td>\n",
       "      <td>26.756</td>\n",
       "      <td>1.225</td>\n",
       "      <td>21.833</td>\n",
       "      <td>0.000</td>\n",
       "      <td>24.354</td>\n",
       "      <td>29.157</td>\n",
       "    </tr>\n",
       "    <tr>\n",
       "      <th>1</th>\n",
       "      <td>grammaticality[T.gram-]</td>\n",
       "      <td>0.216</td>\n",
       "      <td>1.083</td>\n",
       "      <td>0.200</td>\n",
       "      <td>0.842</td>\n",
       "      <td>-1.906</td>\n",
       "      <td>2.339</td>\n",
       "    </tr>\n",
       "  </tbody>\n",
       "</table>\n",
       "</div>"
      ],
      "text/plain": [
       "                 Parameter   Coef. Std.Err.       z  P>|z|  [0.025  0.975]\n",
       "0                Intercept  26.756    1.225  21.833  0.000  24.354  29.157\n",
       "1  grammaticality[T.gram-]   0.216    1.083   0.200  0.842  -1.906   2.339"
      ]
     },
     "metadata": {},
     "output_type": "display_data"
    },
    {
     "name": "stdout",
     "output_type": "stream",
     "text": [
      "\n",
      "=== RANDOM EFFECTS / VARIANCE-COVARIANCE ===\n"
     ]
    },
    {
     "data": {
      "text/html": [
       "<div>\n",
       "<style scoped>\n",
       "    .dataframe tbody tr th:only-of-type {\n",
       "        vertical-align: middle;\n",
       "    }\n",
       "\n",
       "    .dataframe tbody tr th {\n",
       "        vertical-align: top;\n",
       "    }\n",
       "\n",
       "    .dataframe thead th {\n",
       "        text-align: right;\n",
       "    }\n",
       "</style>\n",
       "<table border=\"1\" class=\"dataframe\">\n",
       "  <thead>\n",
       "    <tr style=\"text-align: right;\">\n",
       "      <th></th>\n",
       "      <th>Parameter</th>\n",
       "      <th>Coef.</th>\n",
       "      <th>Std.Err.</th>\n",
       "    </tr>\n",
       "  </thead>\n",
       "  <tbody>\n",
       "    <tr>\n",
       "      <th>0</th>\n",
       "      <td>Group Var</td>\n",
       "      <td>18.307</td>\n",
       "      <td>0.975</td>\n",
       "    </tr>\n",
       "  </tbody>\n",
       "</table>\n",
       "</div>"
      ],
      "text/plain": [
       "   Parameter   Coef. Std.Err.\n",
       "0  Group Var  18.307    0.975"
      ]
     },
     "metadata": {},
     "output_type": "display_data"
    },
    {
     "data": {
      "text/plain": [
       "<statsmodels.regression.mixed_linear_model.MixedLMResultsWrapper at 0x14b8cb0c4550>"
      ]
     },
     "execution_count": 13,
     "metadata": {},
     "output_type": "execute_result"
    }
   ],
   "source": [
    "# division by grammaticality\n",
    "iv_list = ['grammaticality']\n",
    "mixed_effects_linear_regression(sentence_df, iv_list, 'region_surprisal', 'wh-islands continuation: division by grammaticality')"
   ]
  },
  {
   "cell_type": "markdown",
   "id": "4dff9fd1",
   "metadata": {},
   "source": [
    "Embedded Clause"
   ]
  },
  {
   "cell_type": "code",
   "execution_count": 14,
   "id": "d4f35a76",
   "metadata": {},
   "outputs": [],
   "source": [
    "embed = ['subj1', 'verb1', 'comp', 'subj2', 'embed_verb', 'obj', 'cont', 'end']\n",
    "sentence_df['embed_surprisal'] = sentence_df.apply(lambda x: sum_region_surprisal(x, embed, normalize = True), axis = 1)"
   ]
  },
  {
   "cell_type": "code",
   "execution_count": 15,
   "id": "28a7dccc",
   "metadata": {},
   "outputs": [
    {
     "name": "stdout",
     "output_type": "stream",
     "text": [
      "\n",
      "=== WH-ISLANDS EMBED: GAP- ===\n",
      "\n",
      "=== MODEL SUMMARY ===\n",
      "Model: MixedLM\n",
      "Dependent Variable: embed_surprisal\n",
      "No. Observations: 120\n",
      "Method: REML\n",
      "No. Groups: 20\n",
      "Scale: 0.0121\n",
      "Min. group size: 6\n",
      "Log-Likelihood: 21.1939\n",
      "Max. group size: 6\n",
      "Converged: Yes\n",
      "Mean group size: 6.0\n",
      "\n",
      "=== FIXED EFFECTS COEFFICIENTS ===\n"
     ]
    },
    {
     "data": {
      "text/html": [
       "<div>\n",
       "<style scoped>\n",
       "    .dataframe tbody tr th:only-of-type {\n",
       "        vertical-align: middle;\n",
       "    }\n",
       "\n",
       "    .dataframe tbody tr th {\n",
       "        vertical-align: top;\n",
       "    }\n",
       "\n",
       "    .dataframe thead th {\n",
       "        text-align: right;\n",
       "    }\n",
       "</style>\n",
       "<table border=\"1\" class=\"dataframe\">\n",
       "  <thead>\n",
       "    <tr style=\"text-align: right;\">\n",
       "      <th></th>\n",
       "      <th>Parameter</th>\n",
       "      <th>Coef.</th>\n",
       "      <th>Std.Err.</th>\n",
       "      <th>z</th>\n",
       "      <th>P&gt;|z|</th>\n",
       "      <th>[0.025</th>\n",
       "      <th>0.975]</th>\n",
       "    </tr>\n",
       "  </thead>\n",
       "  <tbody>\n",
       "    <tr>\n",
       "      <th>0</th>\n",
       "      <td>Intercept</td>\n",
       "      <td>9.262</td>\n",
       "      <td>0.210</td>\n",
       "      <td>44.066</td>\n",
       "      <td>0.000</td>\n",
       "      <td>8.850</td>\n",
       "      <td>9.674</td>\n",
       "    </tr>\n",
       "    <tr>\n",
       "      <th>1</th>\n",
       "      <td>comp_type[T.that]</td>\n",
       "      <td>-0.160</td>\n",
       "      <td>0.025</td>\n",
       "      <td>-6.499</td>\n",
       "      <td>0.000</td>\n",
       "      <td>-0.208</td>\n",
       "      <td>-0.111</td>\n",
       "    </tr>\n",
       "    <tr>\n",
       "      <th>2</th>\n",
       "      <td>comp_type[T.whether]</td>\n",
       "      <td>0.105</td>\n",
       "      <td>0.025</td>\n",
       "      <td>4.263</td>\n",
       "      <td>0.000</td>\n",
       "      <td>0.057</td>\n",
       "      <td>0.153</td>\n",
       "    </tr>\n",
       "    <tr>\n",
       "      <th>3</th>\n",
       "      <td>wh_numeric</td>\n",
       "      <td>-0.143</td>\n",
       "      <td>0.017</td>\n",
       "      <td>-8.213</td>\n",
       "      <td>0.000</td>\n",
       "      <td>-0.177</td>\n",
       "      <td>-0.109</td>\n",
       "    </tr>\n",
       "    <tr>\n",
       "      <th>4</th>\n",
       "      <td>wh_numeric:comp_type[T.that]</td>\n",
       "      <td>-0.005</td>\n",
       "      <td>0.025</td>\n",
       "      <td>-0.198</td>\n",
       "      <td>0.843</td>\n",
       "      <td>-0.053</td>\n",
       "      <td>0.043</td>\n",
       "    </tr>\n",
       "    <tr>\n",
       "      <th>5</th>\n",
       "      <td>wh_numeric:comp_type[T.whether]</td>\n",
       "      <td>-0.009</td>\n",
       "      <td>0.025</td>\n",
       "      <td>-0.355</td>\n",
       "      <td>0.723</td>\n",
       "      <td>-0.057</td>\n",
       "      <td>0.039</td>\n",
       "    </tr>\n",
       "  </tbody>\n",
       "</table>\n",
       "</div>"
      ],
      "text/plain": [
       "                         Parameter   Coef. Std.Err.       z  P>|z|  [0.025  \\\n",
       "0                        Intercept   9.262    0.210  44.066  0.000   8.850   \n",
       "1                comp_type[T.that]  -0.160    0.025  -6.499  0.000  -0.208   \n",
       "2             comp_type[T.whether]   0.105    0.025   4.263  0.000   0.057   \n",
       "3                       wh_numeric  -0.143    0.017  -8.213  0.000  -0.177   \n",
       "4     wh_numeric:comp_type[T.that]  -0.005    0.025  -0.198  0.843  -0.053   \n",
       "5  wh_numeric:comp_type[T.whether]  -0.009    0.025  -0.355  0.723  -0.057   \n",
       "\n",
       "   0.975]  \n",
       "0   9.674  \n",
       "1  -0.111  \n",
       "2   0.153  \n",
       "3  -0.109  \n",
       "4   0.043  \n",
       "5   0.039  "
      ]
     },
     "metadata": {},
     "output_type": "display_data"
    },
    {
     "name": "stdout",
     "output_type": "stream",
     "text": [
      "\n",
      "=== RANDOM EFFECTS / VARIANCE-COVARIANCE ===\n"
     ]
    },
    {
     "data": {
      "text/html": [
       "<div>\n",
       "<style scoped>\n",
       "    .dataframe tbody tr th:only-of-type {\n",
       "        vertical-align: middle;\n",
       "    }\n",
       "\n",
       "    .dataframe tbody tr th {\n",
       "        vertical-align: top;\n",
       "    }\n",
       "\n",
       "    .dataframe thead th {\n",
       "        text-align: right;\n",
       "    }\n",
       "</style>\n",
       "<table border=\"1\" class=\"dataframe\">\n",
       "  <thead>\n",
       "    <tr style=\"text-align: right;\">\n",
       "      <th></th>\n",
       "      <th>Parameter</th>\n",
       "      <th>Coef.</th>\n",
       "      <th>Std.Err.</th>\n",
       "    </tr>\n",
       "  </thead>\n",
       "  <tbody>\n",
       "    <tr>\n",
       "      <th>0</th>\n",
       "      <td>Group Var</td>\n",
       "      <td>0.877</td>\n",
       "      <td>2.845</td>\n",
       "    </tr>\n",
       "  </tbody>\n",
       "</table>\n",
       "</div>"
      ],
      "text/plain": [
       "   Parameter  Coef. Std.Err.\n",
       "0  Group Var  0.877    2.845"
      ]
     },
     "metadata": {},
     "output_type": "display_data"
    },
    {
     "data": {
      "text/plain": [
       "<statsmodels.regression.mixed_linear_model.MixedLMResultsWrapper at 0x14b8cb0cbc70>"
      ]
     },
     "execution_count": 15,
     "metadata": {},
     "output_type": "execute_result"
    }
   ],
   "source": [
    "# flip test: gap-\n",
    "no_gap_df = sentence_df[sentence_df['gap_numeric'] == -1]\n",
    "iv_list = ['wh_numeric', 'comp_type']\n",
    "mixed_effects_linear_regression(no_gap_df, iv_list, 'embed_surprisal', 'wh-islands embed: gap-')"
   ]
  },
  {
   "cell_type": "code",
   "execution_count": 16,
   "id": "fe9ebcee",
   "metadata": {},
   "outputs": [
    {
     "name": "stdout",
     "output_type": "stream",
     "text": [
      "\n",
      "=== WH-ISLANDS EMBED: GAP+ ===\n",
      "\n",
      "=== MODEL SUMMARY ===\n",
      "Model: MixedLM\n",
      "Dependent Variable: embed_surprisal\n",
      "No. Observations: 120\n",
      "Method: REML\n",
      "No. Groups: 20\n",
      "Scale: 0.0209\n",
      "Min. group size: 6\n",
      "Log-Likelihood: -5.4424\n",
      "Max. group size: 6\n",
      "Converged: Yes\n",
      "Mean group size: 6.0\n",
      "\n",
      "=== FIXED EFFECTS COEFFICIENTS ===\n"
     ]
    },
    {
     "data": {
      "text/html": [
       "<div>\n",
       "<style scoped>\n",
       "    .dataframe tbody tr th:only-of-type {\n",
       "        vertical-align: middle;\n",
       "    }\n",
       "\n",
       "    .dataframe tbody tr th {\n",
       "        vertical-align: top;\n",
       "    }\n",
       "\n",
       "    .dataframe thead th {\n",
       "        text-align: right;\n",
       "    }\n",
       "</style>\n",
       "<table border=\"1\" class=\"dataframe\">\n",
       "  <thead>\n",
       "    <tr style=\"text-align: right;\">\n",
       "      <th></th>\n",
       "      <th>Parameter</th>\n",
       "      <th>Coef.</th>\n",
       "      <th>Std.Err.</th>\n",
       "      <th>z</th>\n",
       "      <th>P&gt;|z|</th>\n",
       "      <th>[0.025</th>\n",
       "      <th>0.975]</th>\n",
       "    </tr>\n",
       "  </thead>\n",
       "  <tbody>\n",
       "    <tr>\n",
       "      <th>0</th>\n",
       "      <td>Intercept</td>\n",
       "      <td>9.380</td>\n",
       "      <td>0.217</td>\n",
       "      <td>43.312</td>\n",
       "      <td>0.000</td>\n",
       "      <td>8.955</td>\n",
       "      <td>9.804</td>\n",
       "    </tr>\n",
       "    <tr>\n",
       "      <th>1</th>\n",
       "      <td>comp_type[T.that]</td>\n",
       "      <td>-0.179</td>\n",
       "      <td>0.032</td>\n",
       "      <td>-5.543</td>\n",
       "      <td>0.000</td>\n",
       "      <td>-0.243</td>\n",
       "      <td>-0.116</td>\n",
       "    </tr>\n",
       "    <tr>\n",
       "      <th>2</th>\n",
       "      <td>comp_type[T.whether]</td>\n",
       "      <td>0.121</td>\n",
       "      <td>0.032</td>\n",
       "      <td>3.755</td>\n",
       "      <td>0.000</td>\n",
       "      <td>0.058</td>\n",
       "      <td>0.185</td>\n",
       "    </tr>\n",
       "    <tr>\n",
       "      <th>3</th>\n",
       "      <td>wh_numeric</td>\n",
       "      <td>-0.164</td>\n",
       "      <td>0.023</td>\n",
       "      <td>-7.187</td>\n",
       "      <td>0.000</td>\n",
       "      <td>-0.209</td>\n",
       "      <td>-0.119</td>\n",
       "    </tr>\n",
       "    <tr>\n",
       "      <th>4</th>\n",
       "      <td>wh_numeric:comp_type[T.that]</td>\n",
       "      <td>-0.037</td>\n",
       "      <td>0.032</td>\n",
       "      <td>-1.156</td>\n",
       "      <td>0.247</td>\n",
       "      <td>-0.101</td>\n",
       "      <td>0.026</td>\n",
       "    </tr>\n",
       "    <tr>\n",
       "      <th>5</th>\n",
       "      <td>wh_numeric:comp_type[T.whether]</td>\n",
       "      <td>-0.044</td>\n",
       "      <td>0.032</td>\n",
       "      <td>-1.353</td>\n",
       "      <td>0.176</td>\n",
       "      <td>-0.107</td>\n",
       "      <td>0.020</td>\n",
       "    </tr>\n",
       "  </tbody>\n",
       "</table>\n",
       "</div>"
      ],
      "text/plain": [
       "                         Parameter   Coef. Std.Err.       z  P>|z|  [0.025  \\\n",
       "0                        Intercept   9.380    0.217  43.312  0.000   8.955   \n",
       "1                comp_type[T.that]  -0.179    0.032  -5.543  0.000  -0.243   \n",
       "2             comp_type[T.whether]   0.121    0.032   3.755  0.000   0.058   \n",
       "3                       wh_numeric  -0.164    0.023  -7.187  0.000  -0.209   \n",
       "4     wh_numeric:comp_type[T.that]  -0.037    0.032  -1.156  0.247  -0.101   \n",
       "5  wh_numeric:comp_type[T.whether]  -0.044    0.032  -1.353  0.176  -0.107   \n",
       "\n",
       "   0.975]  \n",
       "0   9.804  \n",
       "1  -0.116  \n",
       "2   0.185  \n",
       "3  -0.119  \n",
       "4   0.026  \n",
       "5   0.020  "
      ]
     },
     "metadata": {},
     "output_type": "display_data"
    },
    {
     "name": "stdout",
     "output_type": "stream",
     "text": [
      "\n",
      "=== RANDOM EFFECTS / VARIANCE-COVARIANCE ===\n"
     ]
    },
    {
     "data": {
      "text/html": [
       "<div>\n",
       "<style scoped>\n",
       "    .dataframe tbody tr th:only-of-type {\n",
       "        vertical-align: middle;\n",
       "    }\n",
       "\n",
       "    .dataframe tbody tr th {\n",
       "        vertical-align: top;\n",
       "    }\n",
       "\n",
       "    .dataframe thead th {\n",
       "        text-align: right;\n",
       "    }\n",
       "</style>\n",
       "<table border=\"1\" class=\"dataframe\">\n",
       "  <thead>\n",
       "    <tr style=\"text-align: right;\">\n",
       "      <th></th>\n",
       "      <th>Parameter</th>\n",
       "      <th>Coef.</th>\n",
       "      <th>Std.Err.</th>\n",
       "    </tr>\n",
       "  </thead>\n",
       "  <tbody>\n",
       "    <tr>\n",
       "      <th>0</th>\n",
       "      <td>Group Var</td>\n",
       "      <td>0.928</td>\n",
       "      <td>2.288</td>\n",
       "    </tr>\n",
       "  </tbody>\n",
       "</table>\n",
       "</div>"
      ],
      "text/plain": [
       "   Parameter  Coef. Std.Err.\n",
       "0  Group Var  0.928    2.288"
      ]
     },
     "metadata": {},
     "output_type": "display_data"
    },
    {
     "data": {
      "text/plain": [
       "<statsmodels.regression.mixed_linear_model.MixedLMResultsWrapper at 0x14b8cb131580>"
      ]
     },
     "execution_count": 16,
     "metadata": {},
     "output_type": "execute_result"
    }
   ],
   "source": [
    "# flip test: gap+\n",
    "gap_df = sentence_df[sentence_df['gap_numeric'] == 1]\n",
    "iv_list = ['wh_numeric', 'comp_type']\n",
    "mixed_effects_linear_regression(gap_df, iv_list, 'embed_surprisal', 'wh-islands embed: gap+')"
   ]
  },
  {
   "cell_type": "code",
   "execution_count": 17,
   "id": "c7f5fd2b",
   "metadata": {},
   "outputs": [
    {
     "name": "stdout",
     "output_type": "stream",
     "text": [
      "\n",
      "=== WH-ISLANDS EMBED: DIVISION BY GRAMMATICALITY ===\n",
      "\n",
      "=== MODEL SUMMARY ===\n",
      "Model: MixedLM\n",
      "Dependent Variable: embed_surprisal\n",
      "No. Observations: 240\n",
      "Method: REML\n",
      "No. Groups: 20\n",
      "Scale: 0.0781\n",
      "Min. group size: 12\n",
      "Log-Likelihood: -85.7589\n",
      "Max. group size: 12\n",
      "Converged: Yes\n",
      "Mean group size: 12.0\n",
      "\n",
      "=== FIXED EFFECTS COEFFICIENTS ===\n"
     ]
    },
    {
     "data": {
      "text/html": [
       "<div>\n",
       "<style scoped>\n",
       "    .dataframe tbody tr th:only-of-type {\n",
       "        vertical-align: middle;\n",
       "    }\n",
       "\n",
       "    .dataframe tbody tr th {\n",
       "        vertical-align: top;\n",
       "    }\n",
       "\n",
       "    .dataframe thead th {\n",
       "        text-align: right;\n",
       "    }\n",
       "</style>\n",
       "<table border=\"1\" class=\"dataframe\">\n",
       "  <thead>\n",
       "    <tr style=\"text-align: right;\">\n",
       "      <th></th>\n",
       "      <th>Parameter</th>\n",
       "      <th>Coef.</th>\n",
       "      <th>Std.Err.</th>\n",
       "      <th>z</th>\n",
       "      <th>P&gt;|z|</th>\n",
       "      <th>[0.025</th>\n",
       "      <th>0.975]</th>\n",
       "    </tr>\n",
       "  </thead>\n",
       "  <tbody>\n",
       "    <tr>\n",
       "      <th>0</th>\n",
       "      <td>Intercept</td>\n",
       "      <td>9.280</td>\n",
       "      <td>0.212</td>\n",
       "      <td>43.782</td>\n",
       "      <td>0.000</td>\n",
       "      <td>8.864</td>\n",
       "      <td>9.695</td>\n",
       "    </tr>\n",
       "    <tr>\n",
       "      <th>1</th>\n",
       "      <td>grammaticality[T.gram-]</td>\n",
       "      <td>0.044</td>\n",
       "      <td>0.036</td>\n",
       "      <td>1.225</td>\n",
       "      <td>0.221</td>\n",
       "      <td>-0.027</td>\n",
       "      <td>0.115</td>\n",
       "    </tr>\n",
       "  </tbody>\n",
       "</table>\n",
       "</div>"
      ],
      "text/plain": [
       "                 Parameter  Coef. Std.Err.       z  P>|z|  [0.025 0.975]\n",
       "0                Intercept  9.280    0.212  43.782  0.000   8.864  9.695\n",
       "1  grammaticality[T.gram-]  0.044    0.036   1.225  0.221  -0.027  0.115"
      ]
     },
     "metadata": {},
     "output_type": "display_data"
    },
    {
     "name": "stdout",
     "output_type": "stream",
     "text": [
      "\n",
      "=== RANDOM EFFECTS / VARIANCE-COVARIANCE ===\n"
     ]
    },
    {
     "data": {
      "text/html": [
       "<div>\n",
       "<style scoped>\n",
       "    .dataframe tbody tr th:only-of-type {\n",
       "        vertical-align: middle;\n",
       "    }\n",
       "\n",
       "    .dataframe tbody tr th {\n",
       "        vertical-align: top;\n",
       "    }\n",
       "\n",
       "    .dataframe thead th {\n",
       "        text-align: right;\n",
       "    }\n",
       "</style>\n",
       "<table border=\"1\" class=\"dataframe\">\n",
       "  <thead>\n",
       "    <tr style=\"text-align: right;\">\n",
       "      <th></th>\n",
       "      <th>Parameter</th>\n",
       "      <th>Coef.</th>\n",
       "      <th>Std.Err.</th>\n",
       "    </tr>\n",
       "  </thead>\n",
       "  <tbody>\n",
       "    <tr>\n",
       "      <th>0</th>\n",
       "      <td>Group Var</td>\n",
       "      <td>0.886</td>\n",
       "      <td>1.079</td>\n",
       "    </tr>\n",
       "  </tbody>\n",
       "</table>\n",
       "</div>"
      ],
      "text/plain": [
       "   Parameter  Coef. Std.Err.\n",
       "0  Group Var  0.886    1.079"
      ]
     },
     "metadata": {},
     "output_type": "display_data"
    },
    {
     "data": {
      "text/plain": [
       "<statsmodels.regression.mixed_linear_model.MixedLMResultsWrapper at 0x14b8cb12ca30>"
      ]
     },
     "execution_count": 17,
     "metadata": {},
     "output_type": "execute_result"
    }
   ],
   "source": [
    "# division by grammaticality\n",
    "iv_list = ['grammaticality']\n",
    "mixed_effects_linear_regression(sentence_df, iv_list, 'embed_surprisal', 'wh-islands embed: division by grammaticality')"
   ]
  },
  {
   "cell_type": "markdown",
   "id": "9e089b58",
   "metadata": {},
   "source": [
    "#### Adjunct Islands "
   ]
  },
  {
   "cell_type": "code",
   "execution_count": 18,
   "id": "ef9c8675",
   "metadata": {},
   "outputs": [],
   "source": [
    "sentence_df = pd.read_csv('test_sentences/Adjunct Islands.csv')\n",
    "sentence_df['adjunct_type'] = sentence_df['adjunct_type'].fillna('null')"
   ]
  },
  {
   "cell_type": "code",
   "execution_count": 19,
   "id": "17fe918d",
   "metadata": {},
   "outputs": [],
   "source": [
    "sentence_df[['cont', 'end']] = sentence_df['cont'].apply(split_ends)\n",
    "sentence_df['adjunct_front_trigger'] = np.nan\n",
    "sentence_df['adjunct_front_trigger'] = sentence_df['adjunct_trigger'].where(sentence_df['adjunct_type'] == 'front', sentence_df['adjunct_front_trigger'])\n",
    "sentence_df['adjunct_trigger'] = sentence_df['adjunct_trigger'].where(sentence_df['adjunct_type'] != 'front', np.nan)\n",
    "sentence_df.rename(columns = {'adjunct_trigger': 'adjunct_back_trigger'}, inplace = True)\n",
    "sentence_df = sentence_df[[col for col in sentence_df.columns if col != 'end'] + ['end']]"
   ]
  },
  {
   "cell_type": "code",
   "execution_count": 20,
   "id": "fb3d9d16",
   "metadata": {},
   "outputs": [],
   "source": [
    "sentence_df = encode_wh_licensor(sentence_df)\n",
    "sentence_df['gap_numeric'] = sentence_df['gap'].replace(0, -1)\n",
    "syntactic_parts = ['prefix', 'filler_word', 'adjunct_back_trigger', 'prep', 'subj', 'mod', 'verb', 'obj', 'cont', 'adjunct_front_trigger']\n",
    "sentence_df['sentence'] = sentence_df.apply(lambda x: merge_sentence(x, syntactic_parts), axis = 1)\n",
    "sentence_df['surprisals'] = sentence_df['sentence'].apply(calculate_surprisal)\n",
    "sentence_df['adjunct_type'] = pd.Categorical(sentence_df['adjunct_type'], categories = ['null', 'back', 'front'], ordered = True)\n",
    "sentence_df['grammaticality'] = sentence_df.apply(assign_grammaticality, axis = 1)"
   ]
  },
  {
   "cell_type": "markdown",
   "id": "404f7b10",
   "metadata": {},
   "source": [
    "Post-Gap Region - Continuation"
   ]
  },
  {
   "cell_type": "code",
   "execution_count": 21,
   "id": "28cc32fa",
   "metadata": {},
   "outputs": [],
   "source": [
    "sentence_df['region_surprisal'] = sentence_df.apply(lambda x: sum_region_surprisal(x, ['cont'], 'obj'), axis = 1)"
   ]
  },
  {
   "cell_type": "code",
   "execution_count": 22,
   "id": "d5235dbd",
   "metadata": {},
   "outputs": [
    {
     "name": "stdout",
     "output_type": "stream",
     "text": [
      "\n",
      "=== ADJUNCT ISLANDS CONTINUATION: GAP- ===\n",
      "\n",
      "=== MODEL SUMMARY ===\n",
      ":            MixedLM Dependent Variable: region_surprisal\n",
      "No. Observations: 120\n",
      "Method: REML\n",
      "No. Groups: 20\n",
      "Scale: 0.7090\n",
      "Min. group size: 6\n",
      "Log-Likelihood: -216.5024\n",
      "Max. group size: 6\n",
      "Converged: Yes\n",
      "Mean group size: 6.0\n",
      "\n",
      "=== FIXED EFFECTS COEFFICIENTS ===\n"
     ]
    },
    {
     "data": {
      "text/html": [
       "<div>\n",
       "<style scoped>\n",
       "    .dataframe tbody tr th:only-of-type {\n",
       "        vertical-align: middle;\n",
       "    }\n",
       "\n",
       "    .dataframe tbody tr th {\n",
       "        vertical-align: top;\n",
       "    }\n",
       "\n",
       "    .dataframe thead th {\n",
       "        text-align: right;\n",
       "    }\n",
       "</style>\n",
       "<table border=\"1\" class=\"dataframe\">\n",
       "  <thead>\n",
       "    <tr style=\"text-align: right;\">\n",
       "      <th></th>\n",
       "      <th>Parameter</th>\n",
       "      <th>Coef.</th>\n",
       "      <th>Std.Err.</th>\n",
       "      <th>z</th>\n",
       "      <th>P&gt;|z|</th>\n",
       "      <th>[0.025</th>\n",
       "      <th>0.975]</th>\n",
       "    </tr>\n",
       "  </thead>\n",
       "  <tbody>\n",
       "    <tr>\n",
       "      <th>0</th>\n",
       "      <td>Intercept</td>\n",
       "      <td>33.734</td>\n",
       "      <td>2.300</td>\n",
       "      <td>14.667</td>\n",
       "      <td>0.000</td>\n",
       "      <td>29.226</td>\n",
       "      <td>38.242</td>\n",
       "    </tr>\n",
       "    <tr>\n",
       "      <th>1</th>\n",
       "      <td>wh_numeric</td>\n",
       "      <td>0.072</td>\n",
       "      <td>0.077</td>\n",
       "      <td>0.943</td>\n",
       "      <td>0.346</td>\n",
       "      <td>-0.078</td>\n",
       "      <td>0.223</td>\n",
       "    </tr>\n",
       "  </tbody>\n",
       "</table>\n",
       "</div>"
      ],
      "text/plain": [
       "    Parameter   Coef. Std.Err.       z  P>|z|  [0.025  0.975]\n",
       "0   Intercept  33.734    2.300  14.667  0.000  29.226  38.242\n",
       "1  wh_numeric   0.072    0.077   0.943  0.346  -0.078   0.223"
      ]
     },
     "metadata": {},
     "output_type": "display_data"
    },
    {
     "name": "stdout",
     "output_type": "stream",
     "text": [
      "\n",
      "=== RANDOM EFFECTS / VARIANCE-COVARIANCE ===\n"
     ]
    },
    {
     "data": {
      "text/html": [
       "<div>\n",
       "<style scoped>\n",
       "    .dataframe tbody tr th:only-of-type {\n",
       "        vertical-align: middle;\n",
       "    }\n",
       "\n",
       "    .dataframe tbody tr th {\n",
       "        vertical-align: top;\n",
       "    }\n",
       "\n",
       "    .dataframe thead th {\n",
       "        text-align: right;\n",
       "    }\n",
       "</style>\n",
       "<table border=\"1\" class=\"dataframe\">\n",
       "  <thead>\n",
       "    <tr style=\"text-align: right;\">\n",
       "      <th></th>\n",
       "      <th>Parameter</th>\n",
       "      <th>Coef.</th>\n",
       "      <th>Std.Err.</th>\n",
       "    </tr>\n",
       "  </thead>\n",
       "  <tbody>\n",
       "    <tr>\n",
       "      <th>0</th>\n",
       "      <td>Group Var</td>\n",
       "      <td>105.684</td>\n",
       "      <td>44.509</td>\n",
       "    </tr>\n",
       "  </tbody>\n",
       "</table>\n",
       "</div>"
      ],
      "text/plain": [
       "   Parameter    Coef. Std.Err.\n",
       "0  Group Var  105.684   44.509"
      ]
     },
     "metadata": {},
     "output_type": "display_data"
    },
    {
     "data": {
      "text/plain": [
       "<statsmodels.regression.mixed_linear_model.MixedLMResultsWrapper at 0x14b8cb12c3d0>"
      ]
     },
     "execution_count": 22,
     "metadata": {},
     "output_type": "execute_result"
    }
   ],
   "source": [
    "# flip test: gap-\n",
    "no_gap_df = sentence_df[sentence_df['gap_numeric'] == -1]\n",
    "iv_list = ['wh_numeric']\n",
    "mixed_effects_linear_regression(no_gap_df, iv_list, 'region_surprisal', 'adjunct islands continuation: gap-')"
   ]
  },
  {
   "cell_type": "code",
   "execution_count": 23,
   "id": "cb3739ed",
   "metadata": {},
   "outputs": [
    {
     "name": "stdout",
     "output_type": "stream",
     "text": [
      "\n",
      "=== ADJUNCT ISLANDS CONTINUATION: GAP+ ===\n",
      "\n",
      "=== MODEL SUMMARY ===\n",
      "Model: MixedLM\n",
      "Dependent Variable: region_surprisal\n",
      "No. Observations: 120\n",
      "Method: REML\n",
      "No. Groups: 20\n",
      "Scale: 0.4527\n",
      "Min. group size: 6\n",
      "Log-Likelihood: -191.1952\n",
      "Max. group size: 6\n",
      "Converged: Yes\n",
      "Mean group size: 6.0\n",
      "\n",
      "=== FIXED EFFECTS COEFFICIENTS ===\n"
     ]
    },
    {
     "data": {
      "text/html": [
       "<div>\n",
       "<style scoped>\n",
       "    .dataframe tbody tr th:only-of-type {\n",
       "        vertical-align: middle;\n",
       "    }\n",
       "\n",
       "    .dataframe tbody tr th {\n",
       "        vertical-align: top;\n",
       "    }\n",
       "\n",
       "    .dataframe thead th {\n",
       "        text-align: right;\n",
       "    }\n",
       "</style>\n",
       "<table border=\"1\" class=\"dataframe\">\n",
       "  <thead>\n",
       "    <tr style=\"text-align: right;\">\n",
       "      <th></th>\n",
       "      <th>Parameter</th>\n",
       "      <th>Coef.</th>\n",
       "      <th>Std.Err.</th>\n",
       "      <th>z</th>\n",
       "      <th>P&gt;|z|</th>\n",
       "      <th>[0.025</th>\n",
       "      <th>0.975]</th>\n",
       "    </tr>\n",
       "  </thead>\n",
       "  <tbody>\n",
       "    <tr>\n",
       "      <th>0</th>\n",
       "      <td>Intercept</td>\n",
       "      <td>42.835</td>\n",
       "      <td>1.743</td>\n",
       "      <td>24.572</td>\n",
       "      <td>0.000</td>\n",
       "      <td>39.418</td>\n",
       "      <td>46.251</td>\n",
       "    </tr>\n",
       "    <tr>\n",
       "      <th>1</th>\n",
       "      <td>adjunct_type[T.back]</td>\n",
       "      <td>-0.145</td>\n",
       "      <td>0.150</td>\n",
       "      <td>-0.965</td>\n",
       "      <td>0.335</td>\n",
       "      <td>-0.440</td>\n",
       "      <td>0.150</td>\n",
       "    </tr>\n",
       "    <tr>\n",
       "      <th>2</th>\n",
       "      <td>adjunct_type[T.front]</td>\n",
       "      <td>-0.657</td>\n",
       "      <td>0.150</td>\n",
       "      <td>-4.369</td>\n",
       "      <td>0.000</td>\n",
       "      <td>-0.952</td>\n",
       "      <td>-0.362</td>\n",
       "    </tr>\n",
       "    <tr>\n",
       "      <th>3</th>\n",
       "      <td>wh_numeric</td>\n",
       "      <td>0.049</td>\n",
       "      <td>0.106</td>\n",
       "      <td>0.458</td>\n",
       "      <td>0.647</td>\n",
       "      <td>-0.160</td>\n",
       "      <td>0.257</td>\n",
       "    </tr>\n",
       "    <tr>\n",
       "      <th>4</th>\n",
       "      <td>wh_numeric:adjunct_type[T.back]</td>\n",
       "      <td>0.128</td>\n",
       "      <td>0.150</td>\n",
       "      <td>0.848</td>\n",
       "      <td>0.396</td>\n",
       "      <td>-0.167</td>\n",
       "      <td>0.423</td>\n",
       "    </tr>\n",
       "    <tr>\n",
       "      <th>5</th>\n",
       "      <td>wh_numeric:adjunct_type[T.front]</td>\n",
       "      <td>0.126</td>\n",
       "      <td>0.150</td>\n",
       "      <td>0.835</td>\n",
       "      <td>0.404</td>\n",
       "      <td>-0.169</td>\n",
       "      <td>0.420</td>\n",
       "    </tr>\n",
       "  </tbody>\n",
       "</table>\n",
       "</div>"
      ],
      "text/plain": [
       "                          Parameter   Coef. Std.Err.       z  P>|z|  [0.025  \\\n",
       "0                         Intercept  42.835    1.743  24.572  0.000  39.418   \n",
       "1              adjunct_type[T.back]  -0.145    0.150  -0.965  0.335  -0.440   \n",
       "2             adjunct_type[T.front]  -0.657    0.150  -4.369  0.000  -0.952   \n",
       "3                        wh_numeric   0.049    0.106   0.458  0.647  -0.160   \n",
       "4   wh_numeric:adjunct_type[T.back]   0.128    0.150   0.848  0.396  -0.167   \n",
       "5  wh_numeric:adjunct_type[T.front]   0.126    0.150   0.835  0.404  -0.169   \n",
       "\n",
       "   0.975]  \n",
       "0  46.251  \n",
       "1   0.150  \n",
       "2  -0.362  \n",
       "3   0.257  \n",
       "4   0.423  \n",
       "5   0.420  "
      ]
     },
     "metadata": {},
     "output_type": "display_data"
    },
    {
     "name": "stdout",
     "output_type": "stream",
     "text": [
      "\n",
      "=== RANDOM EFFECTS / VARIANCE-COVARIANCE ===\n"
     ]
    },
    {
     "data": {
      "text/html": [
       "<div>\n",
       "<style scoped>\n",
       "    .dataframe tbody tr th:only-of-type {\n",
       "        vertical-align: middle;\n",
       "    }\n",
       "\n",
       "    .dataframe tbody tr th {\n",
       "        vertical-align: top;\n",
       "    }\n",
       "\n",
       "    .dataframe thead th {\n",
       "        text-align: right;\n",
       "    }\n",
       "</style>\n",
       "<table border=\"1\" class=\"dataframe\">\n",
       "  <thead>\n",
       "    <tr style=\"text-align: right;\">\n",
       "      <th></th>\n",
       "      <th>Parameter</th>\n",
       "      <th>Coef.</th>\n",
       "      <th>Std.Err.</th>\n",
       "    </tr>\n",
       "  </thead>\n",
       "  <tbody>\n",
       "    <tr>\n",
       "      <th>0</th>\n",
       "      <td>Group Var</td>\n",
       "      <td>60.550</td>\n",
       "      <td>32.009</td>\n",
       "    </tr>\n",
       "  </tbody>\n",
       "</table>\n",
       "</div>"
      ],
      "text/plain": [
       "   Parameter   Coef. Std.Err.\n",
       "0  Group Var  60.550   32.009"
      ]
     },
     "metadata": {},
     "output_type": "display_data"
    },
    {
     "data": {
      "text/plain": [
       "<statsmodels.regression.mixed_linear_model.MixedLMResultsWrapper at 0x14b8c8a1e820>"
      ]
     },
     "execution_count": 23,
     "metadata": {},
     "output_type": "execute_result"
    }
   ],
   "source": [
    "# flip test: gap+\n",
    "gap_df = sentence_df[sentence_df['gap_numeric'] == 1]\n",
    "iv_list = ['wh_numeric', 'adjunct_type']\n",
    "mixed_effects_linear_regression(gap_df, iv_list, 'region_surprisal', 'adjunct islands continuation: gap+')"
   ]
  },
  {
   "cell_type": "code",
   "execution_count": 24,
   "id": "c928ab31",
   "metadata": {},
   "outputs": [
    {
     "name": "stdout",
     "output_type": "stream",
     "text": [
      "\n",
      "=== ADJUNCT ISLANDS CONTINUATION: DIVISION BY GRAMMATICALITY ===\n",
      "\n",
      "=== MODEL SUMMARY ===\n",
      "Model: MixedLM\n",
      "Dependent Variable: region_surprisal\n",
      "No. Observations: 240\n",
      "Method: REML\n",
      "No. Groups: 20\n",
      "Scale: 67.6849\n",
      "Min. group size: 12\n",
      "Log-Likelihood: -862.5060\n",
      "Max. group size: 12\n",
      "Converged: Yes\n",
      "Mean group size: 12.0\n",
      "\n",
      "=== FIXED EFFECTS COEFFICIENTS ===\n"
     ]
    },
    {
     "data": {
      "text/html": [
       "<div>\n",
       "<style scoped>\n",
       "    .dataframe tbody tr th:only-of-type {\n",
       "        vertical-align: middle;\n",
       "    }\n",
       "\n",
       "    .dataframe tbody tr th {\n",
       "        vertical-align: top;\n",
       "    }\n",
       "\n",
       "    .dataframe thead th {\n",
       "        text-align: right;\n",
       "    }\n",
       "</style>\n",
       "<table border=\"1\" class=\"dataframe\">\n",
       "  <thead>\n",
       "    <tr style=\"text-align: right;\">\n",
       "      <th></th>\n",
       "      <th>Parameter</th>\n",
       "      <th>Coef.</th>\n",
       "      <th>Std.Err.</th>\n",
       "      <th>z</th>\n",
       "      <th>P&gt;|z|</th>\n",
       "      <th>[0.025</th>\n",
       "      <th>0.975]</th>\n",
       "    </tr>\n",
       "  </thead>\n",
       "  <tbody>\n",
       "    <tr>\n",
       "      <th>0</th>\n",
       "      <td>Intercept</td>\n",
       "      <td>38.181</td>\n",
       "      <td>1.499</td>\n",
       "      <td>25.470</td>\n",
       "      <td>0.000</td>\n",
       "      <td>35.243</td>\n",
       "      <td>41.119</td>\n",
       "    </tr>\n",
       "    <tr>\n",
       "      <th>1</th>\n",
       "      <td>grammaticality[T.gram-]</td>\n",
       "      <td>-0.061</td>\n",
       "      <td>1.062</td>\n",
       "      <td>-0.057</td>\n",
       "      <td>0.954</td>\n",
       "      <td>-2.142</td>\n",
       "      <td>2.021</td>\n",
       "    </tr>\n",
       "  </tbody>\n",
       "</table>\n",
       "</div>"
      ],
      "text/plain": [
       "                 Parameter   Coef. Std.Err.       z  P>|z|  [0.025  0.975]\n",
       "0                Intercept  38.181    1.499  25.470  0.000  35.243  41.119\n",
       "1  grammaticality[T.gram-]  -0.061    1.062  -0.057  0.954  -2.142   2.021"
      ]
     },
     "metadata": {},
     "output_type": "display_data"
    },
    {
     "name": "stdout",
     "output_type": "stream",
     "text": [
      "\n",
      "=== RANDOM EFFECTS / VARIANCE-COVARIANCE ===\n"
     ]
    },
    {
     "data": {
      "text/html": [
       "<div>\n",
       "<style scoped>\n",
       "    .dataframe tbody tr th:only-of-type {\n",
       "        vertical-align: middle;\n",
       "    }\n",
       "\n",
       "    .dataframe tbody tr th {\n",
       "        vertical-align: top;\n",
       "    }\n",
       "\n",
       "    .dataframe thead th {\n",
       "        text-align: right;\n",
       "    }\n",
       "</style>\n",
       "<table border=\"1\" class=\"dataframe\">\n",
       "  <thead>\n",
       "    <tr style=\"text-align: right;\">\n",
       "      <th></th>\n",
       "      <th>Parameter</th>\n",
       "      <th>Coef.</th>\n",
       "      <th>Std.Err.</th>\n",
       "    </tr>\n",
       "  </thead>\n",
       "  <tbody>\n",
       "    <tr>\n",
       "      <th>0</th>\n",
       "      <td>Group Var</td>\n",
       "      <td>33.661</td>\n",
       "      <td>1.616</td>\n",
       "    </tr>\n",
       "  </tbody>\n",
       "</table>\n",
       "</div>"
      ],
      "text/plain": [
       "   Parameter   Coef. Std.Err.\n",
       "0  Group Var  33.661    1.616"
      ]
     },
     "metadata": {},
     "output_type": "display_data"
    },
    {
     "data": {
      "text/plain": [
       "<statsmodels.regression.mixed_linear_model.MixedLMResultsWrapper at 0x14b8c8a0d1c0>"
      ]
     },
     "execution_count": 24,
     "metadata": {},
     "output_type": "execute_result"
    }
   ],
   "source": [
    "# division by grammaticality\n",
    "iv_list = ['grammaticality']\n",
    "mixed_effects_linear_regression(sentence_df, iv_list, 'region_surprisal', 'adjunct islands continuation: division by grammaticality')"
   ]
  },
  {
   "cell_type": "markdown",
   "id": "569bc491",
   "metadata": {},
   "source": [
    "Embedded Clause"
   ]
  },
  {
   "cell_type": "code",
   "execution_count": 25,
   "id": "6100ff4c",
   "metadata": {},
   "outputs": [],
   "source": [
    "embed = ['adjunct_back_trigger', 'prep', 'subj', 'mod', 'verb', 'obj', 'cont', 'adjunct_front_trigger', 'end']\n",
    "sentence_df['embed_surprisal'] = sentence_df.apply(lambda x: sum_region_surprisal(x, embed, normalize = True), axis = 1)"
   ]
  },
  {
   "cell_type": "code",
   "execution_count": 26,
   "id": "2e194876",
   "metadata": {},
   "outputs": [
    {
     "name": "stdout",
     "output_type": "stream",
     "text": [
      "\n",
      "=== ADJUNCT ISLANDS EMBED: GAP- ===\n",
      "\n",
      "=== MODEL SUMMARY ===\n",
      "Model: MixedLM\n",
      "Dependent Variable: embed_surprisal\n",
      "No. Observations: 120\n",
      "Method: REML\n",
      "No. Groups: 20\n",
      "Scale: 0.0586\n",
      "Min. group size: 6\n",
      "Log-Likelihood: -53.9237\n",
      "Max. group size: 6\n",
      "Converged: Yes\n",
      "Mean group size: 6.0\n",
      "\n",
      "=== FIXED EFFECTS COEFFICIENTS ===\n"
     ]
    },
    {
     "data": {
      "text/html": [
       "<div>\n",
       "<style scoped>\n",
       "    .dataframe tbody tr th:only-of-type {\n",
       "        vertical-align: middle;\n",
       "    }\n",
       "\n",
       "    .dataframe tbody tr th {\n",
       "        vertical-align: top;\n",
       "    }\n",
       "\n",
       "    .dataframe thead th {\n",
       "        text-align: right;\n",
       "    }\n",
       "</style>\n",
       "<table border=\"1\" class=\"dataframe\">\n",
       "  <thead>\n",
       "    <tr style=\"text-align: right;\">\n",
       "      <th></th>\n",
       "      <th>Parameter</th>\n",
       "      <th>Coef.</th>\n",
       "      <th>Std.Err.</th>\n",
       "      <th>z</th>\n",
       "      <th>P&gt;|z|</th>\n",
       "      <th>[0.025</th>\n",
       "      <th>0.975]</th>\n",
       "    </tr>\n",
       "  </thead>\n",
       "  <tbody>\n",
       "    <tr>\n",
       "      <th>0</th>\n",
       "      <td>Intercept</td>\n",
       "      <td>9.220</td>\n",
       "      <td>0.213</td>\n",
       "      <td>43.355</td>\n",
       "      <td>0.000</td>\n",
       "      <td>8.803</td>\n",
       "      <td>9.637</td>\n",
       "    </tr>\n",
       "    <tr>\n",
       "      <th>1</th>\n",
       "      <td>adjunct_type[T.back]</td>\n",
       "      <td>0.567</td>\n",
       "      <td>0.054</td>\n",
       "      <td>10.483</td>\n",
       "      <td>0.000</td>\n",
       "      <td>0.461</td>\n",
       "      <td>0.673</td>\n",
       "    </tr>\n",
       "    <tr>\n",
       "      <th>2</th>\n",
       "      <td>adjunct_type[T.front]</td>\n",
       "      <td>0.648</td>\n",
       "      <td>0.054</td>\n",
       "      <td>11.974</td>\n",
       "      <td>0.000</td>\n",
       "      <td>0.542</td>\n",
       "      <td>0.754</td>\n",
       "    </tr>\n",
       "    <tr>\n",
       "      <th>3</th>\n",
       "      <td>wh_numeric</td>\n",
       "      <td>0.099</td>\n",
       "      <td>0.038</td>\n",
       "      <td>2.593</td>\n",
       "      <td>0.010</td>\n",
       "      <td>0.024</td>\n",
       "      <td>0.174</td>\n",
       "    </tr>\n",
       "    <tr>\n",
       "      <th>4</th>\n",
       "      <td>wh_numeric:adjunct_type[T.back]</td>\n",
       "      <td>-0.010</td>\n",
       "      <td>0.054</td>\n",
       "      <td>-0.179</td>\n",
       "      <td>0.858</td>\n",
       "      <td>-0.116</td>\n",
       "      <td>0.096</td>\n",
       "    </tr>\n",
       "    <tr>\n",
       "      <th>5</th>\n",
       "      <td>wh_numeric:adjunct_type[T.front]</td>\n",
       "      <td>0.020</td>\n",
       "      <td>0.054</td>\n",
       "      <td>0.370</td>\n",
       "      <td>0.711</td>\n",
       "      <td>-0.086</td>\n",
       "      <td>0.126</td>\n",
       "    </tr>\n",
       "  </tbody>\n",
       "</table>\n",
       "</div>"
      ],
      "text/plain": [
       "                          Parameter   Coef. Std.Err.       z  P>|z|  [0.025  \\\n",
       "0                         Intercept   9.220    0.213  43.355  0.000   8.803   \n",
       "1              adjunct_type[T.back]   0.567    0.054  10.483  0.000   0.461   \n",
       "2             adjunct_type[T.front]   0.648    0.054  11.974  0.000   0.542   \n",
       "3                        wh_numeric   0.099    0.038   2.593  0.010   0.024   \n",
       "4   wh_numeric:adjunct_type[T.back]  -0.010    0.054  -0.179  0.858  -0.116   \n",
       "5  wh_numeric:adjunct_type[T.front]   0.020    0.054   0.370  0.711  -0.086   \n",
       "\n",
       "  0.975]  \n",
       "0  9.637  \n",
       "1  0.673  \n",
       "2  0.754  \n",
       "3  0.174  \n",
       "4  0.096  \n",
       "5  0.126  "
      ]
     },
     "metadata": {},
     "output_type": "display_data"
    },
    {
     "name": "stdout",
     "output_type": "stream",
     "text": [
      "\n",
      "=== RANDOM EFFECTS / VARIANCE-COVARIANCE ===\n"
     ]
    },
    {
     "data": {
      "text/html": [
       "<div>\n",
       "<style scoped>\n",
       "    .dataframe tbody tr th:only-of-type {\n",
       "        vertical-align: middle;\n",
       "    }\n",
       "\n",
       "    .dataframe tbody tr th {\n",
       "        vertical-align: top;\n",
       "    }\n",
       "\n",
       "    .dataframe thead th {\n",
       "        text-align: right;\n",
       "    }\n",
       "</style>\n",
       "<table border=\"1\" class=\"dataframe\">\n",
       "  <thead>\n",
       "    <tr style=\"text-align: right;\">\n",
       "      <th></th>\n",
       "      <th>Parameter</th>\n",
       "      <th>Coef.</th>\n",
       "      <th>Std.Err.</th>\n",
       "    </tr>\n",
       "  </thead>\n",
       "  <tbody>\n",
       "    <tr>\n",
       "      <th>0</th>\n",
       "      <td>Group Var</td>\n",
       "      <td>0.875</td>\n",
       "      <td>1.299</td>\n",
       "    </tr>\n",
       "  </tbody>\n",
       "</table>\n",
       "</div>"
      ],
      "text/plain": [
       "   Parameter  Coef. Std.Err.\n",
       "0  Group Var  0.875    1.299"
      ]
     },
     "metadata": {},
     "output_type": "display_data"
    },
    {
     "data": {
      "text/plain": [
       "<statsmodels.regression.mixed_linear_model.MixedLMResultsWrapper at 0x14b8c8a16c70>"
      ]
     },
     "execution_count": 26,
     "metadata": {},
     "output_type": "execute_result"
    }
   ],
   "source": [
    "# flip test: gap-\n",
    "no_gap_df = sentence_df[sentence_df['gap_numeric'] == -1]\n",
    "iv_list = ['wh_numeric', 'adjunct_type']\n",
    "mixed_effects_linear_regression(no_gap_df, iv_list, 'embed_surprisal', 'adjunct islands embed: gap-')"
   ]
  },
  {
   "cell_type": "code",
   "execution_count": 27,
   "id": "8fa7d54b",
   "metadata": {},
   "outputs": [
    {
     "name": "stdout",
     "output_type": "stream",
     "text": [
      "\n",
      "=== ADJUNCT ISLANDS EMBED: GAP+ ===\n",
      "\n",
      "=== MODEL SUMMARY ===\n",
      "Model: MixedLM\n",
      "Dependent Variable: embed_surprisal\n",
      "No. Observations: 120\n",
      "Method: REML\n",
      "No. Groups: 20\n",
      "Scale: 0.0701\n",
      "Min. group size: 6\n",
      "Log-Likelihood: -63.7681\n",
      "Max. group size: 6\n",
      "Converged: Yes\n",
      "Mean group size: 6.0\n",
      "\n",
      "=== FIXED EFFECTS COEFFICIENTS ===\n"
     ]
    },
    {
     "data": {
      "text/html": [
       "<div>\n",
       "<style scoped>\n",
       "    .dataframe tbody tr th:only-of-type {\n",
       "        vertical-align: middle;\n",
       "    }\n",
       "\n",
       "    .dataframe tbody tr th {\n",
       "        vertical-align: top;\n",
       "    }\n",
       "\n",
       "    .dataframe thead th {\n",
       "        text-align: right;\n",
       "    }\n",
       "</style>\n",
       "<table border=\"1\" class=\"dataframe\">\n",
       "  <thead>\n",
       "    <tr style=\"text-align: right;\">\n",
       "      <th></th>\n",
       "      <th>Parameter</th>\n",
       "      <th>Coef.</th>\n",
       "      <th>Std.Err.</th>\n",
       "      <th>z</th>\n",
       "      <th>P&gt;|z|</th>\n",
       "      <th>[0.025</th>\n",
       "      <th>0.975]</th>\n",
       "    </tr>\n",
       "  </thead>\n",
       "  <tbody>\n",
       "    <tr>\n",
       "      <th>0</th>\n",
       "      <td>Intercept</td>\n",
       "      <td>8.650</td>\n",
       "      <td>0.228</td>\n",
       "      <td>37.911</td>\n",
       "      <td>0.000</td>\n",
       "      <td>8.203</td>\n",
       "      <td>9.097</td>\n",
       "    </tr>\n",
       "    <tr>\n",
       "      <th>1</th>\n",
       "      <td>adjunct_type[T.back]</td>\n",
       "      <td>0.774</td>\n",
       "      <td>0.059</td>\n",
       "      <td>13.068</td>\n",
       "      <td>0.000</td>\n",
       "      <td>0.658</td>\n",
       "      <td>0.890</td>\n",
       "    </tr>\n",
       "    <tr>\n",
       "      <th>2</th>\n",
       "      <td>adjunct_type[T.front]</td>\n",
       "      <td>0.840</td>\n",
       "      <td>0.059</td>\n",
       "      <td>14.182</td>\n",
       "      <td>0.000</td>\n",
       "      <td>0.724</td>\n",
       "      <td>0.956</td>\n",
       "    </tr>\n",
       "    <tr>\n",
       "      <th>3</th>\n",
       "      <td>wh_numeric</td>\n",
       "      <td>0.110</td>\n",
       "      <td>0.042</td>\n",
       "      <td>2.633</td>\n",
       "      <td>0.008</td>\n",
       "      <td>0.028</td>\n",
       "      <td>0.192</td>\n",
       "    </tr>\n",
       "    <tr>\n",
       "      <th>4</th>\n",
       "      <td>wh_numeric:adjunct_type[T.back]</td>\n",
       "      <td>-0.021</td>\n",
       "      <td>0.059</td>\n",
       "      <td>-0.360</td>\n",
       "      <td>0.719</td>\n",
       "      <td>-0.137</td>\n",
       "      <td>0.095</td>\n",
       "    </tr>\n",
       "    <tr>\n",
       "      <th>5</th>\n",
       "      <td>wh_numeric:adjunct_type[T.front]</td>\n",
       "      <td>0.022</td>\n",
       "      <td>0.059</td>\n",
       "      <td>0.378</td>\n",
       "      <td>0.705</td>\n",
       "      <td>-0.094</td>\n",
       "      <td>0.138</td>\n",
       "    </tr>\n",
       "  </tbody>\n",
       "</table>\n",
       "</div>"
      ],
      "text/plain": [
       "                          Parameter   Coef. Std.Err.       z  P>|z|  [0.025  \\\n",
       "0                         Intercept   8.650    0.228  37.911  0.000   8.203   \n",
       "1              adjunct_type[T.back]   0.774    0.059  13.068  0.000   0.658   \n",
       "2             adjunct_type[T.front]   0.840    0.059  14.182  0.000   0.724   \n",
       "3                        wh_numeric   0.110    0.042   2.633  0.008   0.028   \n",
       "4   wh_numeric:adjunct_type[T.back]  -0.021    0.059  -0.360  0.719  -0.137   \n",
       "5  wh_numeric:adjunct_type[T.front]   0.022    0.059   0.378  0.705  -0.094   \n",
       "\n",
       "  0.975]  \n",
       "0  9.097  \n",
       "1  0.890  \n",
       "2  0.956  \n",
       "3  0.192  \n",
       "4  0.095  \n",
       "5  0.138  "
      ]
     },
     "metadata": {},
     "output_type": "display_data"
    },
    {
     "name": "stdout",
     "output_type": "stream",
     "text": [
      "\n",
      "=== RANDOM EFFECTS / VARIANCE-COVARIANCE ===\n"
     ]
    },
    {
     "data": {
      "text/html": [
       "<div>\n",
       "<style scoped>\n",
       "    .dataframe tbody tr th:only-of-type {\n",
       "        vertical-align: middle;\n",
       "    }\n",
       "\n",
       "    .dataframe tbody tr th {\n",
       "        vertical-align: top;\n",
       "    }\n",
       "\n",
       "    .dataframe thead th {\n",
       "        text-align: right;\n",
       "    }\n",
       "</style>\n",
       "<table border=\"1\" class=\"dataframe\">\n",
       "  <thead>\n",
       "    <tr style=\"text-align: right;\">\n",
       "      <th></th>\n",
       "      <th>Parameter</th>\n",
       "      <th>Coef.</th>\n",
       "      <th>Std.Err.</th>\n",
       "    </tr>\n",
       "  </thead>\n",
       "  <tbody>\n",
       "    <tr>\n",
       "      <th>0</th>\n",
       "      <td>Group Var</td>\n",
       "      <td>1.006</td>\n",
       "      <td>1.366</td>\n",
       "    </tr>\n",
       "  </tbody>\n",
       "</table>\n",
       "</div>"
      ],
      "text/plain": [
       "   Parameter  Coef. Std.Err.\n",
       "0  Group Var  1.006    1.366"
      ]
     },
     "metadata": {},
     "output_type": "display_data"
    },
    {
     "data": {
      "text/plain": [
       "<statsmodels.regression.mixed_linear_model.MixedLMResultsWrapper at 0x14b8c89ff880>"
      ]
     },
     "execution_count": 27,
     "metadata": {},
     "output_type": "execute_result"
    }
   ],
   "source": [
    "# flip test: gap+\n",
    "gap_df = sentence_df[sentence_df['gap_numeric'] == 1]\n",
    "iv_list = ['wh_numeric', 'adjunct_type']\n",
    "mixed_effects_linear_regression(gap_df, iv_list, 'embed_surprisal', 'adjunct islands embed: gap+')"
   ]
  },
  {
   "cell_type": "code",
   "execution_count": 28,
   "id": "85101278",
   "metadata": {},
   "outputs": [
    {
     "name": "stdout",
     "output_type": "stream",
     "text": [
      "\n",
      "=== ADJUNCT ISLANDS EMBED: DIVISION BY GRAMMATICALITY ===\n",
      "\n",
      "=== MODEL SUMMARY ===\n",
      "Model: MixedLM\n",
      "Dependent Variable: embed_surprisal\n",
      "No. Observations: 240\n",
      "Method: REML\n",
      "No. Groups: 20\n",
      "Scale: 0.3121\n",
      "Min. group size: 12\n",
      "Log-Likelihood: -237.4571\n",
      "Max. group size: 12\n",
      "Converged: Yes\n",
      "Mean group size: 12.0\n",
      "\n",
      "=== FIXED EFFECTS COEFFICIENTS ===\n"
     ]
    },
    {
     "data": {
      "text/html": [
       "<div>\n",
       "<style scoped>\n",
       "    .dataframe tbody tr th:only-of-type {\n",
       "        vertical-align: middle;\n",
       "    }\n",
       "\n",
       "    .dataframe tbody tr th {\n",
       "        vertical-align: top;\n",
       "    }\n",
       "\n",
       "    .dataframe thead th {\n",
       "        text-align: right;\n",
       "    }\n",
       "</style>\n",
       "<table border=\"1\" class=\"dataframe\">\n",
       "  <thead>\n",
       "    <tr style=\"text-align: right;\">\n",
       "      <th></th>\n",
       "      <th>Parameter</th>\n",
       "      <th>Coef.</th>\n",
       "      <th>Std.Err.</th>\n",
       "      <th>z</th>\n",
       "      <th>P&gt;|z|</th>\n",
       "      <th>[0.025</th>\n",
       "      <th>0.975]</th>\n",
       "    </tr>\n",
       "  </thead>\n",
       "  <tbody>\n",
       "    <tr>\n",
       "      <th>0</th>\n",
       "      <td>Intercept</td>\n",
       "      <td>9.410</td>\n",
       "      <td>0.214</td>\n",
       "      <td>44.016</td>\n",
       "      <td>0.000</td>\n",
       "      <td>8.991</td>\n",
       "      <td>9.829</td>\n",
       "    </tr>\n",
       "    <tr>\n",
       "      <th>1</th>\n",
       "      <td>grammaticality[T.gram-]</td>\n",
       "      <td>-0.008</td>\n",
       "      <td>0.072</td>\n",
       "      <td>-0.109</td>\n",
       "      <td>0.913</td>\n",
       "      <td>-0.149</td>\n",
       "      <td>0.133</td>\n",
       "    </tr>\n",
       "  </tbody>\n",
       "</table>\n",
       "</div>"
      ],
      "text/plain": [
       "                 Parameter   Coef. Std.Err.       z  P>|z|  [0.025 0.975]\n",
       "0                Intercept   9.410    0.214  44.016  0.000   8.991  9.829\n",
       "1  grammaticality[T.gram-]  -0.008    0.072  -0.109  0.913  -0.149  0.133"
      ]
     },
     "metadata": {},
     "output_type": "display_data"
    },
    {
     "name": "stdout",
     "output_type": "stream",
     "text": [
      "\n",
      "=== RANDOM EFFECTS / VARIANCE-COVARIANCE ===\n"
     ]
    },
    {
     "data": {
      "text/html": [
       "<div>\n",
       "<style scoped>\n",
       "    .dataframe tbody tr th:only-of-type {\n",
       "        vertical-align: middle;\n",
       "    }\n",
       "\n",
       "    .dataframe tbody tr th {\n",
       "        vertical-align: top;\n",
       "    }\n",
       "\n",
       "    .dataframe thead th {\n",
       "        text-align: right;\n",
       "    }\n",
       "</style>\n",
       "<table border=\"1\" class=\"dataframe\">\n",
       "  <thead>\n",
       "    <tr style=\"text-align: right;\">\n",
       "      <th></th>\n",
       "      <th>Parameter</th>\n",
       "      <th>Coef.</th>\n",
       "      <th>Std.Err.</th>\n",
       "    </tr>\n",
       "  </thead>\n",
       "  <tbody>\n",
       "    <tr>\n",
       "      <th>0</th>\n",
       "      <td>Group Var</td>\n",
       "      <td>0.862</td>\n",
       "      <td>0.538</td>\n",
       "    </tr>\n",
       "  </tbody>\n",
       "</table>\n",
       "</div>"
      ],
      "text/plain": [
       "   Parameter  Coef. Std.Err.\n",
       "0  Group Var  0.862    0.538"
      ]
     },
     "metadata": {},
     "output_type": "display_data"
    },
    {
     "data": {
      "text/plain": [
       "<statsmodels.regression.mixed_linear_model.MixedLMResultsWrapper at 0x14b8cb0e6130>"
      ]
     },
     "execution_count": 28,
     "metadata": {},
     "output_type": "execute_result"
    }
   ],
   "source": [
    "# division by grammaticality\n",
    "iv_list = ['grammaticality']\n",
    "mixed_effects_linear_regression(sentence_df, iv_list, 'embed_surprisal', 'adjunct islands embed: division by grammaticality')"
   ]
  },
  {
   "cell_type": "markdown",
   "id": "07e0db26",
   "metadata": {},
   "source": [
    "#### Complex NP Islands"
   ]
  },
  {
   "cell_type": "code",
   "execution_count": null,
   "id": "d528d526",
   "metadata": {},
   "outputs": [],
   "source": [
    "sentence_df = pd.read_csv('test_sentences/Complex NP Islands.csv')"
   ]
  },
  {
   "cell_type": "code",
   "execution_count": null,
   "id": "afed9a1b",
   "metadata": {},
   "outputs": [],
   "source": [
    "sentence_df = encode_wh_licensor(sentence_df)\n",
    "sentence_df['gap_numeric'] = sentence_df['gap'].replace(0, -1)\n",
    "sentence_df['sentence'] = sentence_df.apply(merge_sentence, axis = 1)\n",
    "sentence_df['surprisals'] = sentence_df['sentence'].apply(calculate_surprisal)\n",
    "sentence_df['grammaticality'] = sentence_df.apply(assign_grammaticality, axis = 1)"
   ]
  },
  {
   "cell_type": "markdown",
   "id": "358387ce",
   "metadata": {},
   "source": [
    "Subject Condition"
   ]
  },
  {
   "cell_type": "code",
   "execution_count": null,
   "id": "5d27709c",
   "metadata": {},
   "outputs": [],
   "source": [
    "subject_df = sentence_df.copy()"
   ]
  },
  {
   "cell_type": "code",
   "execution_count": null,
   "id": "610beed3",
   "metadata": {},
   "outputs": [],
   "source": [
    "subject_df['region_surprisal'] = subject_df.apply(lambda x: sum_region_surprisal(x, ['subj_setup']), axis = 1)\n",
    "subject_df"
   ]
  },
  {
   "cell_type": "code",
   "execution_count": null,
   "id": "bbb79ffd",
   "metadata": {},
   "outputs": [],
   "source": [
    "# filter for subject condition\n",
    "subject_df = subject_df[subject_df['subj_obj'] == 'subject']"
   ]
  },
  {
   "cell_type": "code",
   "execution_count": null,
   "id": "f2fe73eb",
   "metadata": {},
   "outputs": [],
   "source": [
    "# flip test: gap-\n",
    "no_gap_df = subject_df[subject_df['gap_numeric'] == -1]\n",
    "iv_list = ['wh_numeric']\n",
    "mixed_effects_linear_regression(no_gap_df, iv_list, 'region_surprisal', 'complex np islands subject condition: gap-')"
   ]
  },
  {
   "cell_type": "code",
   "execution_count": null,
   "id": "291749b8",
   "metadata": {},
   "outputs": [],
   "source": [
    "# flip test: gap+\n",
    "gap_df = subject_df[subject_df['gap_numeric'] == 1]\n",
    "iv_list = ['wh_numeric']\n",
    "mixed_effects_linear_regression(gap_df, iv_list, 'region_surprisal', 'complex np islands subject condition: gap+')"
   ]
  },
  {
   "cell_type": "code",
   "execution_count": null,
   "id": "05f382a6",
   "metadata": {},
   "outputs": [],
   "source": [
    "# division by grammaticality\n",
    "iv_list = ['grammaticality']\n",
    "mixed_effects_linear_regression(subject_df, iv_list, 'region_surprisal', 'complex np islands subject condition: division by grammaticality')"
   ]
  },
  {
   "cell_type": "markdown",
   "id": "294132b0",
   "metadata": {},
   "source": [
    "Object Condition"
   ]
  },
  {
   "cell_type": "code",
   "execution_count": null,
   "id": "9574aa02",
   "metadata": {},
   "outputs": [],
   "source": [
    "object_df = sentence_df.copy()"
   ]
  },
  {
   "cell_type": "code",
   "execution_count": null,
   "id": "3fefbd08",
   "metadata": {},
   "outputs": [],
   "source": [
    "object_df['region_surprisal'] = object_df.apply(lambda x: sum_region_surprisal(x, ['end']), axis = 1)\n",
    "object_df"
   ]
  },
  {
   "cell_type": "code",
   "execution_count": null,
   "id": "096b2939",
   "metadata": {},
   "outputs": [],
   "source": [
    "# filter for object gap\n",
    "object_df = object_df[object_df['subj_obj'] == 'object']"
   ]
  },
  {
   "cell_type": "code",
   "execution_count": null,
   "id": "976c9e9c",
   "metadata": {},
   "outputs": [],
   "source": [
    "# flip test: gap-\n",
    "no_gap_df = object_df[object_df['gap_numeric'] == -1]\n",
    "iv_list = ['wh_numeric']\n",
    "mixed_effects_linear_regression(no_gap_df, iv_list, 'region_surprisal', 'complex np islands object condition: gap-')"
   ]
  },
  {
   "cell_type": "code",
   "execution_count": null,
   "id": "4f9931c4",
   "metadata": {},
   "outputs": [],
   "source": [
    "# flip test: gap+\n",
    "gap_df = object_df[object_df['gap_numeric'] == 1]\n",
    "iv_list = ['wh_numeric']\n",
    "mixed_effects_linear_regression(gap_df, iv_list, 'region_surprisal', 'complex np islands object condition: gap+')"
   ]
  },
  {
   "cell_type": "code",
   "execution_count": null,
   "id": "739a2118",
   "metadata": {},
   "outputs": [],
   "source": [
    "# division by grammaticality\n",
    "iv_list = ['grammaticality']\n",
    "mixed_effects_linear_regression(object_df, iv_list, 'region_surprisal', 'complex np islands object condition: division by grammaticality')"
   ]
  },
  {
   "cell_type": "markdown",
   "id": "07690342",
   "metadata": {},
   "source": [
    "Embedded Clause"
   ]
  },
  {
   "cell_type": "code",
   "execution_count": null,
   "id": "864c9ec4",
   "metadata": {},
   "outputs": [],
   "source": [
    "embed = ['subj', 'that_rc', 'what_rc', 'rc_np', 'prep', 'prep_np', 'subj_setup', 'obj_setup', 'end']\n",
    "sentence_df['embed_surprisal'] = sentence_df.apply(lambda x: sum_region_surprisal(x, embed, normalize = True), axis = 1)\n",
    "sentence_df"
   ]
  },
  {
   "cell_type": "markdown",
   "id": "364db12b",
   "metadata": {},
   "source": [
    "Embedded Clause - Subject Condition"
   ]
  },
  {
   "cell_type": "code",
   "execution_count": null,
   "id": "07f27b79",
   "metadata": {},
   "outputs": [],
   "source": [
    "# filter for subject condition\n",
    "subject_df = sentence_df[sentence_df['subj_obj'] == 'subject']"
   ]
  },
  {
   "cell_type": "code",
   "execution_count": null,
   "id": "4d0bed9e",
   "metadata": {},
   "outputs": [],
   "source": [
    "# flip test: gap-\n",
    "no_gap_df = subject_df[subject_df['gap_numeric'] == -1]\n",
    "iv_list = ['wh_numeric']\n",
    "mixed_effects_linear_regression(no_gap_df, iv_list, 'embed_surprisal', 'complex np islands subject condition: gap-')"
   ]
  },
  {
   "cell_type": "code",
   "execution_count": null,
   "id": "673a9a8e",
   "metadata": {},
   "outputs": [],
   "source": [
    "# flip test: gap+\n",
    "gap_df = subject_df[subject_df['gap_numeric'] == 1]\n",
    "iv_list = ['wh_numeric']\n",
    "mixed_effects_linear_regression(gap_df, iv_list, 'embed_surprisal', 'complex np islands subject condition: gap+')"
   ]
  },
  {
   "cell_type": "code",
   "execution_count": null,
   "id": "c9503001",
   "metadata": {},
   "outputs": [],
   "source": [
    "# division by grammaticality\n",
    "iv_list = ['grammaticality']\n",
    "mixed_effects_linear_regression(subject_df, iv_list, 'embed_surprisal', 'complex np islands subject condition: division by grammaticality')"
   ]
  },
  {
   "cell_type": "markdown",
   "id": "86916091",
   "metadata": {},
   "source": [
    "Embedded Clause - Object Condition"
   ]
  },
  {
   "cell_type": "code",
   "execution_count": null,
   "id": "419c08d7",
   "metadata": {},
   "outputs": [],
   "source": [
    "# filter for object gap\n",
    "object_df = sentence_df[sentence_df['subj_obj'] == 'object']"
   ]
  },
  {
   "cell_type": "code",
   "execution_count": null,
   "id": "4ba3d7d7",
   "metadata": {},
   "outputs": [],
   "source": [
    "# flip test: gap-\n",
    "no_gap_df = object_df[object_df['gap_numeric'] == -1]\n",
    "iv_list = ['wh_numeric']\n",
    "mixed_effects_linear_regression(no_gap_df, iv_list, 'embed_surprisal', 'complex np islands object condition: gap-')"
   ]
  },
  {
   "cell_type": "code",
   "execution_count": null,
   "id": "9de128f5",
   "metadata": {},
   "outputs": [],
   "source": [
    "# flip test: gap+\n",
    "gap_df = object_df[object_df['gap_numeric'] == 1]\n",
    "iv_list = ['wh_numeric']\n",
    "mixed_effects_linear_regression(gap_df, iv_list, 'embed_surprisal', 'complex np islands object condition: gap+')"
   ]
  },
  {
   "cell_type": "code",
   "execution_count": null,
   "id": "934138df",
   "metadata": {},
   "outputs": [],
   "source": [
    "# division by grammaticality\n",
    "iv_list = ['grammaticality']\n",
    "mixed_effects_linear_regression(object_df, iv_list, 'embed_surprisal', 'complex np islands object condition: division by grammaticality')"
   ]
  }
 ],
 "metadata": {
  "kernelspec": {
   "display_name": "Python 3 (ipykernel)",
   "language": "python",
   "name": "python3"
  },
  "language_info": {
   "codemirror_mode": {
    "name": "ipython",
    "version": 3
   },
   "file_extension": ".py",
   "mimetype": "text/x-python",
   "name": "python",
   "nbconvert_exporter": "python",
   "pygments_lexer": "ipython3",
   "version": "3.9.7"
  }
 },
 "nbformat": 4,
 "nbformat_minor": 5
}
