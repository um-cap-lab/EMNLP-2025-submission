{
 "cells": [
  {
   "cell_type": "code",
   "execution_count": 1,
   "source": [
    "import os\n",
    "import matplotlib.pyplot as plt\n",
    "from datasets import Dataset, load_dataset, load_from_disk\n",
    "from transformers import GPT2LMHeadModel, GPT2Config, GPT2TokenizerFast, Trainer, TrainingArguments, DataCollatorForLanguageModeling, EarlyStoppingCallback, pipeline\n",
    "from transformers.integrations import TensorBoardCallback\n",
    "from tokenizers import ByteLevelBPETokenizer\n",
    "from tokenizers import Tokenizer, Regex, models, trainers, normalizers, pre_tokenizers, decoders, processors\n",
    "from tokenizers.normalizers import Sequence, NFKC, Replace, Prepend\n",
    "from tokenizers.pre_tokenizers import ByteLevel, Split, Whitespace\n",
    "from tokenizers.decoders import ByteLevel as ByteLevelDecoder\n",
    "from tokenizers.processors import TemplateProcessing\n",
    "from itertools import chain\n",
    "import glob"
   ],
   "outputs": [],
   "metadata": {}
  },
  {
   "cell_type": "code",
   "execution_count": null,
   "source": [
    "'''\n",
    "!pip install --user transformers==4.44.2 --no-deps\n",
    "!pip install --user tokenizers==0.19.1 --no-deps\n",
    "!pip install --user huggingface-hub==0.23.4 --no-deps\n",
    "'''"
   ],
   "outputs": [],
   "metadata": {}
  },
  {
   "cell_type": "code",
   "execution_count": 2,
   "source": [
    "import huggingface_hub\n",
    "import tokenizers\n",
    "import transformers\n",
    "import torch\n",
    "\n",
    "print(\"huggingface-hub version:\", huggingface_hub.__version__)\n",
    "print(\"tokenizers version:\", tokenizers.__version__)\n",
    "print(\"transformers version:\", transformers.__version__)\n",
    "print(\"torch version:\", torch.__version__)"
   ],
   "outputs": [
    {
     "output_type": "stream",
     "name": "stdout",
     "text": [
      "huggingface-hub version: 0.30.2\n",
      "tokenizers version: 0.21.1\n",
      "transformers version: 4.51.3\n",
      "torch version: 2.1.2+cu121\n"
     ]
    }
   ],
   "metadata": {}
  },
  {
   "cell_type": "code",
   "execution_count": 3,
   "source": [
    "# Set your source folder and output file\n",
    "#output_file = \"gpt2-small/corpus_data/10M_corpus.txt\"\n",
    "output_file = \"gpt2-small/corpus_data/100M_corpus.txt\"\n",
    "\n",
    "# Match both .txt and .train files\n",
    "file_paths = glob.glob(os.path.join('gpt2-small/corpus_data/CHILDES_data/', '*.txt')) + \\\n",
    "             glob.glob(os.path.join('gpt2-small/corpus_data/BabyLM_train_100M/', '*.train'))\n",
    "\n",
    "# Write them into a combined file\n",
    "with open(output_file, \"w\", encoding = \"utf-8\") as outfile:\n",
    "    for path in file_paths:\n",
    "        with open(path, \"r\", encoding = \"utf-8\") as infile:\n",
    "            text = infile.read().strip()\n",
    "            outfile.write(text + \"\\n\\n\")  # double newline separates files"
   ],
   "outputs": [],
   "metadata": {}
  },
  {
   "cell_type": "code",
   "execution_count": 2,
   "source": [
    "#corpus_file = \"gpt2-small/corpus_data/10M_corpus.txt\"\n",
    "corpus_file = \"gpt2-small/corpus_data/100M_corpus.txt\"\n",
    "tokenizer_dir = \"gpt2-small/tokenizer\"\n",
    "os.makedirs(tokenizer_dir, exist_ok = True)\n",
    "\n",
    "# Initialize a BPE tokenizer\n",
    "tokenizer = Tokenizer(models.BPE())\n",
    "\n",
    "# Add Normalization (Unicode + formatting cleanup)\n",
    "tokenizer.normalizer = Sequence([\n",
    "    Prepend(\" \"),\n",
    "    NFKC(),\n",
    "    Replace(Regex(\"\\n\"), \"\\n \"),\n",
    "    Replace(Regex(\" *\\n\"), \"\\n\"),\n",
    "])\n",
    "\n",
    "# Add Pre-tokenizer (Unicode-aware + byte-level + max length split)\n",
    "'''\n",
    "tokenizer.pre_tokenizer = pre_tokenizers.Sequence([\n",
    "    #Split(\n",
    "    #    Regex(r\"[^\\\\r\\\\n\\\\p{L}\\\\p{N}]?[\\\\p{Lu}\\\\p{Lt}\\\\p{Lm}\\\\p{Lo}\\\\p{M}]*[\\\\p{Ll}\\\\p{Lm}\\\\p{Lo}\\\\p{M}]+|[^\\\\r\\\\n\\\\p{L}\\\\p{N}]?[\\\\p{Lu}\\\\p{Lt}\\\\p{Lm}\\\\p{Lo}\\\\p{M}]+[\\\\p{Ll}\\\\p{Lm}\\\\p{Lo}\\\\p{M}]*| ?\\\\p{N}| ?[^\\\\s\\\\p{L}\\\\p{N}]+[\\\\r\\\\n/]*|\\\\s*[\\\\r\\\\n]+|\\\\s+(?!\\\\S)|\\\\s+\"),\n",
    "    #    behavior = \"isolated\"),\n",
    "    ByteLevel(add_prefix_space = False, use_regex = False, trim_offsets = True),\n",
    "    #Split(Regex(\".{1,24}\"), behavior = \"isolated\")\n",
    "])\n",
    "'''\n",
    "tokenizer.pre_tokenizer = Whitespace()\n",
    "\n",
    "# Add Decoder (to reverse tokenization)\n",
    "tokenizer.decoder = decoders.Sequence([\n",
    "    ByteLevelDecoder(add_prefix_space = False, use_regex = False),\n",
    "    decoders.Strip(\" \", 1, 0),\n",
    "    decoders.Replace(\"\\n \", \"\\n\"),\n",
    "])\n",
    "\n",
    "# Add Post-processor (for start-of-text markers)\n",
    "#start_token = \"<s>\"\n",
    "#tokenizer.post_processor = TemplateProcessing(\n",
    "#    single = f\"{start_token} $A\",\n",
    "#    pair = f\"{start_token} $A {start_token} $B\",\n",
    "#    special_tokens = [(start_token, 1)]\n",
    "#)\n",
    "tokenizer.post_processor = processors.ByteLevel(trim_offsets = False)\n",
    "\n",
    "# Train tokenizer\n",
    "trainer = trainers.BpeTrainer(\n",
    "    vocab_size = 50257,\n",
    "    min_frequency = 2,\n",
    "    #special_tokens = [\"<s>\", \"<pad>\", \"</s>\", \"<unk>\", \"<mask>\"]\n",
    ")\n",
    "tokenizer.train(files = [corpus_file], trainer = trainer)\n",
    "\n",
    "# Save the tokenizer (as tokenizer.json)\n",
    "tokenizer.save(os.path.join(tokenizer_dir, \"tokenizer.json\"))"
   ],
   "outputs": [
    {
     "output_type": "stream",
     "name": "stdout",
     "text": [
      "\n",
      "\n",
      "\n"
     ]
    }
   ],
   "metadata": {}
  },
  {
   "cell_type": "code",
   "execution_count": null,
   "source": [
    "# Load tokenizer with HuggingFace wrapper\n",
    "tokenizer = GPT2TokenizerFast(tokenizer_file = \"gpt2-small/tokenizer/tokenizer.json\")\n",
    "#tokenizer = GPT2TokenizerFast.from_pretrained(\"gpt2\")\n",
    "# Optional: set pad token if using Trainer API or batches\n",
    "tokenizer.pad_token = tokenizer.eos_token\n",
    "\n",
    "# Load your dataset (can also use raw text)\n",
    "#dataset = load_dataset(\"text\", data_files = {\"train\": \"gpt2-small/corpus_data/10M_corpus.txt\"})\n",
    "dataset = load_dataset(\"text\", data_files = {\"train\": \"gpt2-small/corpus_data/100M_corpus.txt\"})\n",
    "dataset = dataset['train'].train_test_split(test_size = 0.1, shuffle = True) \n",
    "\n",
    "'''\n",
    "# Tokenize the dataset\n",
    "def tokenize(example):\n",
    "    return tokenizer(example[\"text\"], truncation = True, padding = \"max_length\", max_length = 2048)\n",
    "dataset = dataset.map(tokenize, batched = True, remove_columns = [\"text\"])\n",
    "dataset.set_format(type = \"torch\", columns = [\"input_ids\", \"attention_mask\"])\n",
    "'''\n",
    "\n",
    "# Tokenize each example (no truncation, no padding)\n",
    "def tokenize(example):\n",
    "    return tokenizer(example[\"text\"])\n",
    "\n",
    "tokenized_dataset = dataset.map(tokenize, batched = True, remove_columns = [\"text\"], num_proc = 4)\n",
    "\n",
    "# Save tokenized dataset for reuse (use load_from_disk latter)\n",
    "tokenized_dataset.save_to_disk(\"gpt2-small/corpus_data/tokenized_dataset\")\n",
    "\n",
    "# Concatenate all input_ids and attention masks into single token streams\n",
    "def concat(examples):\n",
    "    return {\n",
    "        \"input_ids\": [list(chain.from_iterable(examples[\"input_ids\"]))],\n",
    "        \"attention_mask\": [list(chain.from_iterable(examples[\"attention_mask\"]))]\n",
    "    }\n",
    "\n",
    "concated_dataset = tokenized_dataset.map(concat, batched = True, batch_size = 1000000, num_proc = 4)\n",
    "\n",
    "# Chunk into fixed-size blocks (1024 tokens, GPT-2 style)\n",
    "def chunk(examples):\n",
    "    chunk_size = 1024 # 2048 if GPT-3 \n",
    "    input_ids = examples[\"input_ids\"][0]\n",
    "    attention_mask = examples[\"attention_mask\"][0]\n",
    "\n",
    "    input_chunks = []\n",
    "    attention_chunks = []\n",
    "\n",
    "    # slice with step_size = chunk_size\n",
    "    for i in range(0, len(input_ids), chunk_size):\n",
    "        chunk = input_ids[i : i + chunk_size]\n",
    "        if len(chunk) == chunk_size: # drop the last chunk if not equal\n",
    "            input_chunks.append(chunk)\n",
    "            attention_chunks.append(attention_mask[i : i + chunk_size])\n",
    "\n",
    "    return {\n",
    "        \"input_ids\": input_chunks,\n",
    "        \"attention_mask\": attention_chunks\n",
    "    }\n",
    "\n",
    "chunked_dataset = concated_dataset.map(chunk, batched = True, batch_size = 2, num_proc = 2)\n",
    "\n",
    "# Save the final preprocessed dataset for model training\n",
    "chunked_dataset.save_to_disk(\"gpt2-small/corpus_data/chunked_dataset\")\n",
    "chunked_dataset = load_from_disk(\"gpt2-small/corpus_data/chunked_dataset\")"
   ],
   "outputs": [],
   "metadata": {}
  },
  {
   "cell_type": "code",
   "execution_count": null,
   "source": [
    "# Load model config and model\n",
    "#config = GPT2Config.from_json_file(\"gpt3_small_config.json\")\n",
    "config = GPT2Config()\n",
    "'''\n",
    "config = GPT2Config(\n",
    "    vocab_size = 50257,\n",
    "    n_positions = 1024, # GPT-2 context length\n",
    "    n_ctx = 1024,\n",
    "    n_embd = 768,\n",
    "    n_layer = 12,\n",
    "    n_head = 12,\n",
    "    \n",
    "    # GPT-3 uses no dropout during pretraining\n",
    "    resid_pdrop = 0.1, # 0.0 for GPT-3\n",
    "    embd_pdrop = 0.1, # 0.0 for GPT-3\n",
    "    attn_pdrop = 0.1, # 0.0 for GPT-3\n",
    "    \n",
    "    activation_function = \"gelu_new\",\n",
    "    layer_norm_epsilon = 1e-5,\n",
    "    initializer_range = 0.02,\n",
    "    bos_token_id = 50256,\n",
    "    eos_token_id = 50256,\n",
    "    use_cache = True,\n",
    "    scale_attn_weights = True,\n",
    "    scale_attn_by_inverse_layer_idx = False,\n",
    "    reorder_and_upcast_attn = False,\n",
    ")\n",
    "'''\n",
    "\n",
    "model = GPT2LMHeadModel(config)\n",
    "\n",
    "# Data collator\n",
    "data_collator = DataCollatorForLanguageModeling(tokenizer = tokenizer, pad_to_multiple_of = None, mlm = False)\n",
    "\n",
    "# Training arguments\n",
    "training_args = TrainingArguments(\n",
    "    output_dir = \"./gpt2-small\",\n",
    "    #evaluation_strategy = \"no\",\n",
    "    #eval_strategy = \"no\",\n",
    "    eval_strategy = \"steps\",\n",
    "    eval_steps = 100,\n",
    "    logging_strategy = \"steps\",\n",
    "    logging_steps = 100,\n",
    "    save_strategy = \"steps\",\n",
    "    save_steps = 1000,\n",
    "    save_total_limit = 2,\n",
    "    num_train_epochs = 10,\n",
    "    per_device_train_batch_size = 1,\n",
    "    per_device_eval_batch_size = 1,\n",
    "    gradient_accumulation_steps = 16,\n",
    "    learning_rate = 5e-4, #5e-4 ~ 6e-4 for GPT-2\n",
    "    warmup_ratio = 0.1,\n",
    "    weight_decay = 0.01,\n",
    "    lr_scheduler_type = \"cosine\",\n",
    "    adam_beta1 = 0.9,\n",
    "    adam_beta2 = 0.999, #0.95 for GPT-3\n",
    "    fp16 = True,\n",
    "    logging_dir = \"./gpt2-small/logs\", #GPT-2 uses cross-entropy loss\n",
    "    report_to = \"tensorboard\", \n",
    "    load_best_model_at_end = True,\n",
    ")\n",
    "\n",
    "# Initialize Trainer\n",
    "trainer = Trainer(\n",
    "    model = model,\n",
    "    args = training_args,\n",
    "    tokenizer = tokenizer,\n",
    "    train_dataset = chunked_dataset['train'],\n",
    "    eval_dataset = chunked_dataset['test'],\n",
    "    data_collator = data_collator,\n",
    "    callbacks = [EarlyStoppingCallback(early_stopping_patience = 3)],\n",
    "    #callbacks = [TensorBoardCallback()],\n",
    ")\n",
    "\n",
    "#%load_ext tensorboard\n",
    "#%tensorboard --logdir ./gpt2-small/logs\n",
    "\n",
    "# Train the model\n",
    "trainer.train()\n"
   ],
   "outputs": [],
   "metadata": {}
  },
  {
   "cell_type": "code",
   "execution_count": 16,
   "source": [
    "from torch.utils.tensorboard import SummaryWriter\n",
    "\n",
    "# Create a TensorBoard writer\n",
    "writer = SummaryWriter(log_dir=\"./gpt2-small/logs_reconstructed\")  # different folder to avoid conflicts\n",
    "\n",
    "# Recorded steps and losses\n",
    "steps_losses = [\n",
    "    (100, 4.837000),\n",
    "    (200, 4.329800),\n",
    "    (300, 4.097600),\n",
    "    (400, 3.957800),\n",
    "    (500, 3.815600),\n",
    "    (600, 3.725500),\n",
    "    (700, 3.647400),\n",
    "    (800, 3.586900),\n",
    "    (900, 3.545300),\n",
    "    (1000, 3.502600),\n",
    "    (1100, 3.490900),\n",
    "    (1200, 3.419700),\n",
    "    (1300, 3.402200),\n",
    "    (1400, 3.366500),\n",
    "    (1500, 3.350200),\n",
    "    (1600, 3.325200),\n",
    "    (1700, 3.299500),\n",
    "    (1800, 3.296800),\n",
    "    (1900, 3.272900),\n",
    "    (2000, 3.258100),\n",
    "    (2100, 3.238700),\n",
    "    (2200, 3.246000),\n",
    "    (2300, 3.182000),\n",
    "    (2400, 3.154400),\n",
    "    (2500, 3.165500),\n",
    "    (2600, 3.153200),\n",
    "    (2700, 3.138400),\n",
    "    (2800, 3.133300),\n",
    "    (2900, 3.125500),\n",
    "    (3000, 3.129700),\n",
    "    (3100, 3.124900),\n",
    "    (3200, 3.110600),\n",
    "]\n",
    "\n",
    "# Log each step and loss\n",
    "for step, loss in steps_losses:\n",
    "    writer.add_scalar(\"train/loss\", loss, step)\n",
    "\n",
    "# Close the writer to flush files\n",
    "writer.close()"
   ],
   "outputs": [],
   "metadata": {}
  },
  {
   "cell_type": "code",
   "execution_count": 22,
   "source": [
    "#model = GPT2LMHeadModel.from_pretrained('gpt2-small/checkpoint-pretrainedtokenizer_100M')\n",
    "model = GPT2LMHeadModel.from_pretrained('gpt2-small/checkpoint-trainedtokenizer_100M')\n",
    "#tokenizer = GPT2TokenizerFast.from_pretrained(\"gpt2\")\n",
    "tokenizer = GPT2TokenizerFast(tokenizer_file = \"gpt2-small/checkpoint-trainedtokenizer_100M/tokenizer.json\")"
   ],
   "outputs": [],
   "metadata": {}
  },
  {
   "cell_type": "code",
   "execution_count": 22,
   "source": [
    "generator = pipeline(\"text-generation\", model = model, tokenizer = tokenizer)\n",
    "print(generator(\"Once upon a time\", max_length = 50, do_sample = True, top_k = 50))"
   ],
   "outputs": [
    {
     "output_type": "stream",
     "name": "stderr",
     "text": [
      "Hardware accelerator e.g. GPU is available in the environment, but no `device` argument is passed to the `Pipeline` object. Model will be on CPU.\n",
      "Truncation was not explicitly activated but `max_length` is provided a specific value, please use `truncation=True` to explicitly truncate examples to max length. Defaulting to 'longest_first' truncation strategy. If you encode pairs of sequences (GLUE-style) with the tokenizer you can select this strategy more precisely by providing a specific strategy to `truncation`.\n"
     ]
    },
    {
     "output_type": "stream",
     "name": "stdout",
     "text": [
      "[{'generated_text': \"Once upon a times saw sal down that's this bister it's a press so what does this she si this\"}]\n"
     ]
    }
   ],
   "metadata": {}
  },
  {
   "cell_type": "code",
   "execution_count": 13,
   "source": [
    "from tensorboard.backend.event_processing.event_accumulator import EventAccumulator\n",
    "\n",
    "log_dir = './gpt2-small/logs'\n",
    "\n",
    "event_path = os.path.join(log_dir, 'events.out.tfevents.pretrainedtokenizer.10M')\n",
    "event_acc = EventAccumulator(event_path)\n",
    "event_acc.Reload()\n",
    "\n",
    "# list all scalar tags\n",
    "print(\"Available scalar tags:\")\n",
    "print(event_acc.Tags()[\"scalars\"])\n",
    "\n",
    "# try common tags\n",
    "possible_tags = [\"loss\", \"train/loss\", \"training_loss\"]\n",
    "tag = None\n",
    "for t in possible_tags:\n",
    "    if t in event_acc.Tags()[\"scalars\"]:\n",
    "        tag = t\n",
    "        break\n",
    "\n",
    "assert tag, f\"Could not find expected loss tag. Found: {event_acc.Tags()['scalars']}\"\n",
    "\n",
    "# extract data\n",
    "events = event_acc.Scalars(tag)\n",
    "steps = [e.step for e in events]\n",
    "values = [e.value for e in events]\n",
    "\n",
    "# plotting\n",
    "plt.figure(figsize = (10, 5))\n",
    "plt.plot(steps, values, marker = \"o\", label = tag)\n",
    "plt.xlabel(\"Step\")\n",
    "plt.ylabel(\"Loss\")\n",
    "plt.title(\"Training Loss Curve\")\n",
    "plt.grid(True)\n",
    "plt.legend()\n",
    "plt.tight_layout()\n",
    "plt.show()"
   ],
   "outputs": [
    {
     "output_type": "stream",
     "name": "stdout",
     "text": [
      "Available scalar tags:\n",
      "['train/loss', 'train/grad_norm', 'train/learning_rate', 'train/epoch', 'train/train_runtime', 'train/train_samples_per_second', 'train/train_steps_per_second', 'train/total_flos', 'train/train_loss']\n"
     ]
    },
    {
     "output_type": "display_data",
     "data": {
      "image/png": "[encoded data removed]",
      "text/plain": [
       "<Figure size 720x360 with 1 Axes>"
      ]
     },
     "metadata": {
      "needs_background": "light"
     }
    }
   ],
   "metadata": {}
  },
  {
   "cell_type": "code",
   "execution_count": 5,
   "source": [
    "from tensorboard.backend.event_processing.event_accumulator import EventAccumulator\n",
    "\n",
    "log_dir = './gpt2-small/logs'\n",
    "\n",
    "event_path = os.path.join(log_dir, 'events.out.tfevents.pretrainedtokenizer.100M')\n",
    "event_acc = EventAccumulator(event_path)\n",
    "event_acc.Reload()\n",
    "\n",
    "# list all scalar tags\n",
    "print(\"Available scalar tags:\")\n",
    "print(event_acc.Tags()[\"scalars\"])\n",
    "\n",
    "# try common tags\n",
    "possible_tags = [\"loss\", \"train/loss\", \"training_loss\"]\n",
    "tag = None\n",
    "for t in possible_tags:\n",
    "    if t in event_acc.Tags()[\"scalars\"]:\n",
    "        tag = t\n",
    "        break\n",
    "\n",
    "assert tag, f\"Could not find expected loss tag. Found: {event_acc.Tags()['scalars']}\"\n",
    "\n",
    "# extract data\n",
    "events = event_acc.Scalars(tag)\n",
    "steps = [e.step for e in events]\n",
    "values = [e.value for e in events]\n",
    "\n",
    "# plotting\n",
    "plt.figure(figsize = (10, 5))\n",
    "plt.plot(steps, values, marker = \"o\", label = tag)\n",
    "plt.xlabel(\"Step\")\n",
    "plt.ylabel(\"Loss\")\n",
    "plt.title(\"Training Loss Curve\")\n",
    "plt.grid(True)\n",
    "plt.legend()\n",
    "plt.tight_layout()\n",
    "plt.show()"
   ],
   "outputs": [
    {
     "output_type": "stream",
     "name": "stdout",
     "text": [
      "Available scalar tags:\n",
      "['train/loss', 'train/grad_norm', 'train/learning_rate', 'train/epoch', 'train/train_runtime', 'train/train_samples_per_second', 'train/train_steps_per_second', 'train/total_flos', 'train/train_loss']\n"
     ]
    },
    {
     "output_type": "display_data",
     "data": {
      "image/png": "[encoded data removed]",
      "text/plain": [
       "<Figure size 720x360 with 1 Axes>"
      ]
     },
     "metadata": {
      "needs_background": "light"
     }
    }
   ],
   "metadata": {}
  },
  {
   "cell_type": "code",
   "execution_count": 4,
   "source": [
    "from tensorboard.backend.event_processing.event_accumulator import EventAccumulator\n",
    "\n",
    "log_dir = './gpt2-small/logs'\n",
    "\n",
    "event_path = os.path.join(log_dir, 'events.out.tfevents.trainedtokenizer.10M')\n",
    "event_acc = EventAccumulator(event_path)\n",
    "event_acc.Reload()\n",
    "\n",
    "# list all scalar tags\n",
    "print(\"Available scalar tags:\")\n",
    "print(event_acc.Tags()[\"scalars\"])\n",
    "\n",
    "# try common tags\n",
    "possible_tags = [\"loss\", \"train/loss\", \"training_loss\"]\n",
    "tag = None\n",
    "for t in possible_tags:\n",
    "    if t in event_acc.Tags()[\"scalars\"]:\n",
    "        tag = t\n",
    "        break\n",
    "\n",
    "assert tag, f\"Could not find expected loss tag. Found: {event_acc.Tags()['scalars']}\"\n",
    "\n",
    "# extract data\n",
    "events = event_acc.Scalars(tag)\n",
    "steps = [e.step for e in events]\n",
    "values = [e.value for e in events]\n",
    "\n",
    "# plotting\n",
    "plt.figure(figsize = (10, 5))\n",
    "plt.plot(steps, values, marker = \"o\", label = tag)\n",
    "plt.xlabel(\"Step\")\n",
    "plt.ylabel(\"Loss\")\n",
    "plt.title(\"Training Loss Curve\")\n",
    "plt.grid(True)\n",
    "plt.legend()\n",
    "plt.tight_layout()\n",
    "plt.show()"
   ],
   "outputs": [
    {
     "output_type": "stream",
     "name": "stdout",
     "text": [
      "Available scalar tags:\n",
      "['train/loss', 'train/grad_norm', 'train/learning_rate', 'train/epoch', 'train/train_runtime', 'train/train_samples_per_second', 'train/train_steps_per_second', 'train/total_flos', 'train/train_loss']\n"
     ]
    },
    {
     "output_type": "display_data",
     "data": {
      "image/png": "[encoded data removed]",
      "text/plain": [
       "<Figure size 720x360 with 1 Axes>"
      ]
     },
     "metadata": {
      "needs_background": "light"
     }
    }
   ],
   "metadata": {}
  },
  {
   "cell_type": "code",
   "execution_count": 17,
   "source": [
    "from tensorboard.backend.event_processing.event_accumulator import EventAccumulator\n",
    "\n",
    "log_dir = './gpt2-small/logs'\n",
    "\n",
    "event_path = os.path.join(log_dir, 'events.out.tfevents.trainedtokenizer.100M')\n",
    "event_acc = EventAccumulator(event_path)\n",
    "event_acc.Reload()\n",
    "\n",
    "# list all scalar tags\n",
    "print(\"Available scalar tags:\")\n",
    "print(event_acc.Tags()[\"scalars\"])\n",
    "\n",
    "# try common tags\n",
    "possible_tags = [\"loss\", \"train/loss\", \"training_loss\"]\n",
    "tag = None\n",
    "for t in possible_tags:\n",
    "    if t in event_acc.Tags()[\"scalars\"]:\n",
    "        tag = t\n",
    "        print(tag)\n",
    "        break\n",
    "\n",
    "assert tag, f\"Could not find expected loss tag. Found: {event_acc.Tags()['scalars']}\"\n",
    "\n",
    "# extract data\n",
    "events = event_acc.Scalars(tag)\n",
    "steps = [e.step for e in events]\n",
    "values = [e.value for e in events]\n",
    "\n",
    "# plotting\n",
    "plt.figure(figsize = (10, 5))\n",
    "plt.plot(steps, values, marker = \"o\", label = tag)\n",
    "plt.xlabel(\"Step\")\n",
    "plt.ylabel(\"Loss\")\n",
    "plt.title(\"Training Loss Curve\")\n",
    "plt.grid(True)\n",
    "plt.legend()\n",
    "plt.tight_layout()\n",
    "plt.show()"
   ],
   "outputs": [
    {
     "output_type": "stream",
     "name": "stdout",
     "text": [
      "Available scalar tags:\n",
      "['train/loss']\n",
      "train/loss\n"
     ]
    },
    {
     "output_type": "display_data",
     "data": {
      "image/png": "[encoded data removed]",
      "text/plain": [
       "<Figure size 720x360 with 1 Axes>"
      ]
     },
     "metadata": {
      "needs_background": "light"
     }
    }
   ],
   "metadata": {}
  },
  {
   "cell_type": "code",
   "execution_count": 2,
   "source": [
    "from tensorboard.backend.event_processing.event_accumulator import EventAccumulator\n",
    "\n",
    "log_dir = './gpt2-small/logs'\n",
    "\n",
    "event_path = os.path.join(log_dir, 'events.out.tfevents.trainedtokenizer.10M.whitespace')\n",
    "event_acc = EventAccumulator(event_path)\n",
    "event_acc.Reload()\n",
    "\n",
    "# list all scalar tags\n",
    "print(\"Available scalar tags:\")\n",
    "print(event_acc.Tags()[\"scalars\"])\n",
    "\n",
    "# try common tags\n",
    "possible_tags = [\"loss\", \"train/loss\", \"training_loss\"]\n",
    "tag = None\n",
    "for t in possible_tags:\n",
    "    if t in event_acc.Tags()[\"scalars\"]:\n",
    "        tag = t\n",
    "        print(tag)\n",
    "        break\n",
    "\n",
    "assert tag, f\"Could not find expected loss tag. Found: {event_acc.Tags()['scalars']}\"\n",
    "\n",
    "# extract data\n",
    "events = event_acc.Scalars(tag)\n",
    "steps = [e.step for e in events]\n",
    "values = [e.value for e in events]\n",
    "\n",
    "# plotting\n",
    "plt.figure(figsize = (10, 5))\n",
    "plt.plot(steps, values, marker = \"o\", label = tag)\n",
    "plt.xlabel(\"Step\")\n",
    "plt.ylabel(\"Loss\")\n",
    "plt.title(\"Training Loss Curve\")\n",
    "plt.grid(True)\n",
    "plt.legend()\n",
    "plt.tight_layout()\n",
    "plt.show()"
   ],
   "outputs": [
    {
     "output_type": "stream",
     "name": "stdout",
     "text": [
      "Available scalar tags:\n",
      "['train/loss', 'train/grad_norm', 'train/learning_rate', 'train/epoch', 'train/train_runtime', 'train/train_samples_per_second', 'train/train_steps_per_second', 'train/total_flos', 'train/train_loss']\n",
      "train/loss\n"
     ]
    },
    {
     "output_type": "display_data",
     "data": {
      "image/png": "[encoded data removed]",
      "text/plain": [
       "<Figure size 720x360 with 1 Axes>"
      ]
     },
     "metadata": {
      "needs_background": "light"
     }
    }
   ],
   "metadata": {}
  },
  {
   "cell_type": "code",
   "execution_count": 6,
   "source": [
    "from tensorboard.backend.event_processing.event_accumulator import EventAccumulator\n",
    "\n",
    "log_dir = './gpt2-small/logs'\n",
    "\n",
    "event_path = os.path.join(log_dir, 'events.out.tfevents.trainedtokenizer.100M.whitespace')\n",
    "event_acc = EventAccumulator(event_path)\n",
    "event_acc.Reload()\n",
    "\n",
    "# list all scalar tags\n",
    "print(\"Available scalar tags:\")\n",
    "print(event_acc.Tags()[\"scalars\"])\n",
    "\n",
    "# try common tags\n",
    "possible_tags = [\"loss\", \"train/loss\", \"training_loss\"]\n",
    "tag = None\n",
    "for t in possible_tags:\n",
    "    if t in event_acc.Tags()[\"scalars\"]:\n",
    "        tag = t\n",
    "        print(tag)\n",
    "        break\n",
    "\n",
    "assert tag, f\"Could not find expected loss tag. Found: {event_acc.Tags()['scalars']}\"\n",
    "\n",
    "# extract data\n",
    "events = event_acc.Scalars(tag)\n",
    "steps = [e.step for e in events]\n",
    "values = [e.value for e in events]\n",
    "\n",
    "# plotting\n",
    "plt.figure(figsize = (10, 5))\n",
    "plt.plot(steps, values, marker = \"o\", label = tag)\n",
    "plt.xlabel(\"Step\")\n",
    "plt.ylabel(\"Loss\")\n",
    "plt.title(\"Training Loss Curve\")\n",
    "plt.grid(True)\n",
    "plt.legend()\n",
    "plt.tight_layout()\n",
    "plt.show()"
   ],
   "outputs": [
    {
     "output_type": "stream",
     "name": "stdout",
     "text": [
      "Available scalar tags:\n",
      "['train/loss', 'train/grad_norm', 'train/learning_rate', 'train/epoch', 'train/train_runtime', 'train/train_samples_per_second', 'train/train_steps_per_second', 'train/total_flos', 'train/train_loss']\n",
      "train/loss\n"
     ]
    },
    {
     "output_type": "display_data",
     "data": {
      "image/png": "[encoded data removed]",
      "text/plain": [
       "<Figure size 720x360 with 1 Axes>"
      ]
     },
     "metadata": {
      "needs_background": "light"
     }
    }
   ],
   "metadata": {}
  },
  {
   "cell_type": "code",
   "execution_count": null,
   "source": [],
   "outputs": [],
   "metadata": {}
  }
 ],
 "metadata": {
  "kernelspec": {
   "display_name": "Python 3 (ipykernel)",
   "language": "python",
   "name": "python3"
  },
  "language_info": {
   "codemirror_mode": {
    "name": "ipython",
    "version": 3
   },
   "file_extension": ".py",
   "mimetype": "text/x-python",
   "name": "python",
   "nbconvert_exporter": "python",
   "pygments_lexer": "ipython3",
   "version": "3.9.7"
  }
 },
 "nbformat": 4,
 "nbformat_minor": 5
}