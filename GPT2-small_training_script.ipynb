{
 "cells": [
  {
   "cell_type": "code",
   "execution_count": 1,
   "id": "b5df9ec6",
   "metadata": {},
   "outputs": [],
   "source": [
    "import os\n",
    "import matplotlib.pyplot as plt\n",
    "from datasets import Dataset, load_dataset, load_from_disk\n",
    "from transformers import GPT2LMHeadModel, GPT2Config, GPT2TokenizerFast, Trainer, TrainingArguments, DataCollatorForLanguageModeling, EarlyStoppingCallback, pipeline\n",
    "from transformers.integrations import TensorBoardCallback\n",
    "from tokenizers import ByteLevelBPETokenizer\n",
    "from tokenizers import Tokenizer, Regex, models, trainers, normalizers, pre_tokenizers, decoders, processors\n",
    "from tokenizers.normalizers import Sequence, NFKC, Replace, Prepend\n",
    "from tokenizers.pre_tokenizers import ByteLevel, Split, Whitespace\n",
    "from tokenizers.decoders import ByteLevel as ByteLevelDecoder\n",
    "from tokenizers.processors import TemplateProcessing\n",
    "from itertools import chain\n",
    "import glob"
   ]
  },
  {
   "cell_type": "code",
   "execution_count": null,
   "id": "3e6e3c39",
   "metadata": {},
   "outputs": [],
   "source": [
    "'''\n",
    "!pip install --user transformers==4.44.2 --no-deps\n",
    "!pip install --user tokenizers==0.19.1 --no-deps\n",
    "!pip install --user huggingface-hub==0.23.4 --no-deps\n",
    "'''"
   ]
  },
  {
   "cell_type": "code",
   "execution_count": 2,
   "id": "0e0e22fd",
   "metadata": {},
   "outputs": [
    {
     "name": "stdout",
     "output_type": "stream",
     "text": [
      "huggingface-hub version: 0.30.2\n",
      "tokenizers version: 0.21.1\n",
      "transformers version: 4.51.3\n",
      "torch version: 2.1.2+cu121\n"
     ]
    }
   ],
   "source": [
    "import huggingface_hub\n",
    "import tokenizers\n",
    "import transformers\n",
    "import torch\n",
    "\n",
    "print(\"huggingface-hub version:\", huggingface_hub.__version__)\n",
    "print(\"tokenizers version:\", tokenizers.__version__)\n",
    "print(\"transformers version:\", transformers.__version__)\n",
    "print(\"torch version:\", torch.__version__)"
   ]
  },
  {
   "cell_type": "code",
   "execution_count": 13,
   "id": "a9a69445",
   "metadata": {},
   "outputs": [],
   "source": [
    "# Set your source folder and output file\n",
    "#output_file = \"gpt2-small/corpus_data/10M_corpus.txt\"\n",
    "output_file = \"gpt2-small/corpus_data/100M_corpus.txt\"\n",
    "\n",
    "# Match both .txt and .train files\n",
    "file_paths = glob.glob(os.path.join('gpt2-small/corpus_data/CHILDES_data/', '*.txt')) + \\\n",
    "             glob.glob(os.path.join('gpt2-small/corpus_data/BabyLM_train_100M/', '*.train'))\n",
    "\n",
    "# Write them into a combined file\n",
    "with open(output_file, \"w\", encoding = \"utf-8\") as outfile:\n",
    "    for path in file_paths:\n",
    "        with open(path, \"r\", encoding = \"utf-8\") as infile:\n",
    "            text = infile.read().strip()\n",
    "            outfile.write(text + \"\\n\\n\")  # double newline separates files"
   ]
  },
  {
   "cell_type": "code",
   "execution_count": 3,
   "id": "24343008",
   "metadata": {},
   "outputs": [
    {
     "name": "stdout",
     "output_type": "stream",
     "text": [
      "\n",
      "\n",
      "\n"
     ]
    }
   ],
   "source": [
    "#corpus_file = \"gpt2-small/corpus_data/10M_corpus.txt\"\n",
    "corpus_file = \"gpt2-small/corpus_data/100M_corpus.txt\"\n",
    "tokenizer_dir = \"gpt2-small/tokenizer\"\n",
    "os.makedirs(tokenizer_dir, exist_ok = True)\n",
    "\n",
    "# Initialize a BPE tokenizer\n",
    "tokenizer = Tokenizer(models.BPE())\n",
    "\n",
    "# Add Normalization (Unicode + formatting cleanup)\n",
    "tokenizer.normalizer = Sequence([\n",
    "    Prepend(\" \"),\n",
    "    NFKC(),\n",
    "    Replace(Regex(\"\\n\"), \"\\n \"),\n",
    "    Replace(Regex(\" *\\n\"), \"\\n\"),\n",
    "])\n",
    "\n",
    "# Add Pre-tokenizer (Unicode-aware + byte-level + max length split)\n",
    "'''\n",
    "tokenizer.pre_tokenizer = pre_tokenizers.Sequence([\n",
    "    #Split(\n",
    "    #    Regex(r\"[^\\\\r\\\\n\\\\p{L}\\\\p{N}]?[\\\\p{Lu}\\\\p{Lt}\\\\p{Lm}\\\\p{Lo}\\\\p{M}]*[\\\\p{Ll}\\\\p{Lm}\\\\p{Lo}\\\\p{M}]+|[^\\\\r\\\\n\\\\p{L}\\\\p{N}]?[\\\\p{Lu}\\\\p{Lt}\\\\p{Lm}\\\\p{Lo}\\\\p{M}]+[\\\\p{Ll}\\\\p{Lm}\\\\p{Lo}\\\\p{M}]*| ?\\\\p{N}| ?[^\\\\s\\\\p{L}\\\\p{N}]+[\\\\r\\\\n/]*|\\\\s*[\\\\r\\\\n]+|\\\\s+(?!\\\\S)|\\\\s+\"),\n",
    "    #    behavior = \"isolated\"),\n",
    "    ByteLevel(add_prefix_space = False, use_regex = False, trim_offsets = True),\n",
    "    #Split(Regex(\".{1,24}\"), behavior = \"isolated\")\n",
    "])\n",
    "'''\n",
    "tokenizer.pre_tokenizer = Whitespace()\n",
    "\n",
    "# Add Decoder (to reverse tokenization)\n",
    "tokenizer.decoder = decoders.Sequence([\n",
    "    ByteLevelDecoder(add_prefix_space = False, use_regex = False),\n",
    "    decoders.Strip(\" \", 1, 0),\n",
    "    decoders.Replace(\"\\n \", \"\\n\"),\n",
    "])\n",
    "\n",
    "# Add Post-processor (for start-of-text markers)\n",
    "#start_token = \"<s>\"\n",
    "#tokenizer.post_processor = TemplateProcessing(\n",
    "#    single = f\"{start_token} $A\",\n",
    "#    pair = f\"{start_token} $A {start_token} $B\",\n",
    "#    special_tokens = [(start_token, 1)]\n",
    "#)\n",
    "tokenizer.post_processor = processors.ByteLevel(trim_offsets = False)\n",
    "\n",
    "# Train tokenizer\n",
    "trainer = trainers.BpeTrainer(\n",
    "    vocab_size = 50257,\n",
    "    min_frequency = 2,\n",
    "    #special_tokens = [\"<s>\", \"<pad>\", \"</s>\", \"<unk>\", \"<mask>\"]\n",
    ")\n",
    "tokenizer.train(files = [corpus_file], trainer = trainer)\n",
    "\n",
    "# Save the tokenizer (as tokenizer.json)\n",
    "tokenizer.save(os.path.join(tokenizer_dir, \"tokenizer.json\"))"
   ]
  },
  {
   "cell_type": "code",
   "execution_count": 4,
   "id": "1bf357b0",
   "metadata": {},
   "outputs": [
    {
     "name": "stderr",
     "output_type": "stream",
     "text": [
      "Using custom data configuration default-579f5123b37f862e\n",
      "Reusing dataset text (/home/stellacy/.cache/huggingface/datasets/text/default-579f5123b37f862e/0.0.0/e16f44aa1b321ece1f87b07977cc5d70be93d69b20486d6dacd62e12cf25c9a5)\n",
      "Loading cached split indices for dataset at /home/stellacy/.cache/huggingface/datasets/text/default-579f5123b37f862e/0.0.0/e16f44aa1b321ece1f87b07977cc5d70be93d69b20486d6dacd62e12cf25c9a5/cache-cfe1a9ce64f2b511.arrow and /home/stellacy/.cache/huggingface/datasets/text/default-579f5123b37f862e/0.0.0/e16f44aa1b321ece1f87b07977cc5d70be93d69b20486d6dacd62e12cf25c9a5/cache-f16c4cbd16ca3f72.arrow\n",
      "Parameter 'function'=<function tokenize at 0x150be2095d30> of the transform datasets.arrow_dataset.Dataset._map_single couldn't be hashed properly, a random hash was used instead. Make sure your transforms and parameters are serializable with pickle or dill for the dataset fingerprinting and caching to work. If you reuse this transform, the caching mechanism will consider it to be different from the previous calls and recompute everything. This warning is only showed once. Subsequent hashing failures won't be showed.\n"
     ]
    },
    {
     "data": {
      "application/vnd.jupyter.widget-view+json": {
       "model_id": "dae0ed79ac6b4c16bcc597e7e02bc9d1",
       "version_major": 2,
       "version_minor": 0
      },
      "text/plain": [
       " #0:   0%|          | 0/1619 [00:00<?, ?ba/s]"
      ]
     },
     "metadata": {},
     "output_type": "display_data"
    },
    {
     "name": "stderr",
     "output_type": "stream",
     "text": [
      "Parameter 'function'=<function tokenize at 0x150c304f4b80> of the transform datasets.arrow_dataset.Dataset._map_single couldn't be hashed properly, a random hash was used instead. Make sure your transforms and parameters are serializable with pickle or dill for the dataset fingerprinting and caching to work. If you reuse this transform, the caching mechanism will consider it to be different from the previous calls and recompute everything. This warning is only showed once. Subsequent hashing failures won't be showed.\n"
     ]
    },
    {
     "data": {
      "application/vnd.jupyter.widget-view+json": {
       "model_id": "fc504f2fb9d8452e81457111f571ea47",
       "version_major": 2,
       "version_minor": 0
      },
      "text/plain": [
       " #1:   0%|          | 0/1619 [00:00<?, ?ba/s]"
      ]
     },
     "metadata": {},
     "output_type": "display_data"
    },
    {
     "name": "stderr",
     "output_type": "stream",
     "text": [
      "Parameter 'function'=<function tokenize at 0x150be206e670> of the transform datasets.arrow_dataset.Dataset._map_single couldn't be hashed properly, a random hash was used instead. Make sure your transforms and parameters are serializable with pickle or dill for the dataset fingerprinting and caching to work. If you reuse this transform, the caching mechanism will consider it to be different from the previous calls and recompute everything. This warning is only showed once. Subsequent hashing failures won't be showed.\n"
     ]
    },
    {
     "data": {
      "application/vnd.jupyter.widget-view+json": {
       "model_id": "2b10f989b9d94bc89c92df4aebfd07f7",
       "version_major": 2,
       "version_minor": 0
      },
      "text/plain": [
       " #2:   0%|          | 0/1619 [00:00<?, ?ba/s]"
      ]
     },
     "metadata": {},
     "output_type": "display_data"
    },
    {
     "name": "stderr",
     "output_type": "stream",
     "text": [
      "Parameter 'function'=<function tokenize at 0x150be2095d30> of the transform datasets.arrow_dataset.Dataset._map_single couldn't be hashed properly, a random hash was used instead. Make sure your transforms and parameters are serializable with pickle or dill for the dataset fingerprinting and caching to work. If you reuse this transform, the caching mechanism will consider it to be different from the previous calls and recompute everything. This warning is only showed once. Subsequent hashing failures won't be showed.\n"
     ]
    },
    {
     "data": {
      "application/vnd.jupyter.widget-view+json": {
       "model_id": "bc09b90594554eae933aa860c234c828",
       "version_major": 2,
       "version_minor": 0
      },
      "text/plain": [
       " #3:   0%|          | 0/1619 [00:00<?, ?ba/s]"
      ]
     },
     "metadata": {},
     "output_type": "display_data"
    },
    {
     "name": "stderr",
     "output_type": "stream",
     "text": [
      "Parameter 'function'=<function tokenize at 0x150c304f4b80> of the transform datasets.arrow_dataset.Dataset._map_single couldn't be hashed properly, a random hash was used instead. Make sure your transforms and parameters are serializable with pickle or dill for the dataset fingerprinting and caching to work. If you reuse this transform, the caching mechanism will consider it to be different from the previous calls and recompute everything. This warning is only showed once. Subsequent hashing failures won't be showed.\n",
      "Parameter 'function'=<function tokenize at 0x150beff3d8b0> of the transform datasets.arrow_dataset.Dataset._map_single couldn't be hashed properly, a random hash was used instead. Make sure your transforms and parameters are serializable with pickle or dill for the dataset fingerprinting and caching to work. If you reuse this transform, the caching mechanism will consider it to be different from the previous calls and recompute everything. This warning is only showed once. Subsequent hashing failures won't be showed.\n",
      "Parameter 'function'=<function tokenize at 0x150beff3d8b0> of the transform datasets.arrow_dataset.Dataset._map_single couldn't be hashed properly, a random hash was used instead. Make sure your transforms and parameters are serializable with pickle or dill for the dataset fingerprinting and caching to work. If you reuse this transform, the caching mechanism will consider it to be different from the previous calls and recompute everything. This warning is only showed once. Subsequent hashing failures won't be showed.\n",
      "Parameter 'function'=<function tokenize at 0x150c304f4b80> of the transform datasets.arrow_dataset.Dataset._map_single couldn't be hashed properly, a random hash was used instead. Make sure your transforms and parameters are serializable with pickle or dill for the dataset fingerprinting and caching to work. If you reuse this transform, the caching mechanism will consider it to be different from the previous calls and recompute everything. This warning is only showed once. Subsequent hashing failures won't be showed.\n"
     ]
    },
    {
     "data": {
      "application/vnd.jupyter.widget-view+json": {
       "model_id": "da59d7f18bf94555bf35ac75834f9627",
       "version_major": 2,
       "version_minor": 0
      },
      "text/plain": [
       " #0:   0%|          | 0/180 [00:00<?, ?ba/s]"
      ]
     },
     "metadata": {},
     "output_type": "display_data"
    },
    {
     "data": {
      "application/vnd.jupyter.widget-view+json": {
       "model_id": "afba463e1b144d1ba83b1d8e51e12ef2",
       "version_major": 2,
       "version_minor": 0
      },
      "text/plain": [
       " #1:   0%|          | 0/180 [00:00<?, ?ba/s]"
      ]
     },
     "metadata": {},
     "output_type": "display_data"
    },
    {
     "data": {
      "application/vnd.jupyter.widget-view+json": {
       "model_id": "449c3c73010c48bea5e6d9890c66ca64",
       "version_major": 2,
       "version_minor": 0
      },
      "text/plain": [
       " #3:   0%|          | 0/180 [00:00<?, ?ba/s]"
      ]
     },
     "metadata": {},
     "output_type": "display_data"
    },
    {
     "data": {
      "application/vnd.jupyter.widget-view+json": {
       "model_id": "a08b39f186a145c0a04d731ef6438785",
       "version_major": 2,
       "version_minor": 0
      },
      "text/plain": [
       " #2:   0%|          | 0/180 [00:00<?, ?ba/s]"
      ]
     },
     "metadata": {},
     "output_type": "display_data"
    },
    {
     "name": "stderr",
     "output_type": "stream",
     "text": [
      "Parameter 'function'=<function concat at 0x150d0914cb80> of the transform datasets.arrow_dataset.Dataset._map_single couldn't be hashed properly, a random hash was used instead. Make sure your transforms and parameters are serializable with pickle or dill for the dataset fingerprinting and caching to work. If you reuse this transform, the caching mechanism will consider it to be different from the previous calls and recompute everything. This warning is only showed once. Subsequent hashing failures won't be showed.\n"
     ]
    },
    {
     "data": {
      "application/vnd.jupyter.widget-view+json": {
       "model_id": "08dac30d8ac44e6ea50160531b34b531",
       "version_major": 2,
       "version_minor": 0
      },
      "text/plain": [
       " #0:   0%|          | 0/2 [00:00<?, ?ba/s]"
      ]
     },
     "metadata": {},
     "output_type": "display_data"
    },
    {
     "name": "stderr",
     "output_type": "stream",
     "text": [
      "Parameter 'function'=<function concat at 0x150d0914cb80> of the transform datasets.arrow_dataset.Dataset._map_single couldn't be hashed properly, a random hash was used instead. Make sure your transforms and parameters are serializable with pickle or dill for the dataset fingerprinting and caching to work. If you reuse this transform, the caching mechanism will consider it to be different from the previous calls and recompute everything. This warning is only showed once. Subsequent hashing failures won't be showed.\n"
     ]
    },
    {
     "data": {
      "application/vnd.jupyter.widget-view+json": {
       "model_id": "787963a355be48d7a9a7c4fe5b82a258",
       "version_major": 2,
       "version_minor": 0
      },
      "text/plain": [
       " #1:   0%|          | 0/2 [00:00<?, ?ba/s]"
      ]
     },
     "metadata": {},
     "output_type": "display_data"
    },
    {
     "name": "stderr",
     "output_type": "stream",
     "text": [
      "Parameter 'function'=<function concat at 0x150d0914cb80> of the transform datasets.arrow_dataset.Dataset._map_single couldn't be hashed properly, a random hash was used instead. Make sure your transforms and parameters are serializable with pickle or dill for the dataset fingerprinting and caching to work. If you reuse this transform, the caching mechanism will consider it to be different from the previous calls and recompute everything. This warning is only showed once. Subsequent hashing failures won't be showed.\n"
     ]
    },
    {
     "data": {
      "application/vnd.jupyter.widget-view+json": {
       "model_id": "b2504aaa3221408fba42e5b887176caf",
       "version_major": 2,
       "version_minor": 0
      },
      "text/plain": [
       " #2:   0%|          | 0/2 [00:00<?, ?ba/s]"
      ]
     },
     "metadata": {},
     "output_type": "display_data"
    },
    {
     "name": "stderr",
     "output_type": "stream",
     "text": [
      "Parameter 'function'=<function concat at 0x150d0914cb80> of the transform datasets.arrow_dataset.Dataset._map_single couldn't be hashed properly, a random hash was used instead. Make sure your transforms and parameters are serializable with pickle or dill for the dataset fingerprinting and caching to work. If you reuse this transform, the caching mechanism will consider it to be different from the previous calls and recompute everything. This warning is only showed once. Subsequent hashing failures won't be showed.\n"
     ]
    },
    {
     "data": {
      "application/vnd.jupyter.widget-view+json": {
       "model_id": "4f2db1e05a4341dd871e21d5f421fda5",
       "version_major": 2,
       "version_minor": 0
      },
      "text/plain": [
       " #3:   0%|          | 0/2 [00:00<?, ?ba/s]"
      ]
     },
     "metadata": {},
     "output_type": "display_data"
    },
    {
     "name": "stderr",
     "output_type": "stream",
     "text": [
      "Parameter 'function'=<function concat at 0x150c304f4b80> of the transform datasets.arrow_dataset.Dataset._map_single couldn't be hashed properly, a random hash was used instead. Make sure your transforms and parameters are serializable with pickle or dill for the dataset fingerprinting and caching to work. If you reuse this transform, the caching mechanism will consider it to be different from the previous calls and recompute everything. This warning is only showed once. Subsequent hashing failures won't be showed.\n",
      "Parameter 'function'=<function concat at 0x150c304f4b80> of the transform datasets.arrow_dataset.Dataset._map_single couldn't be hashed properly, a random hash was used instead. Make sure your transforms and parameters are serializable with pickle or dill for the dataset fingerprinting and caching to work. If you reuse this transform, the caching mechanism will consider it to be different from the previous calls and recompute everything. This warning is only showed once. Subsequent hashing failures won't be showed.\n"
     ]
    },
    {
     "data": {
      "application/vnd.jupyter.widget-view+json": {
       "model_id": "d8639d768d4b4b1a8cb4845fa03ded20",
       "version_major": 2,
       "version_minor": 0
      },
      "text/plain": [
       " #0:   0%|          | 0/1 [00:00<?, ?ba/s]"
      ]
     },
     "metadata": {},
     "output_type": "display_data"
    },
    {
     "name": "stderr",
     "output_type": "stream",
     "text": [
      "Parameter 'function'=<function concat at 0x150c304f4b80> of the transform datasets.arrow_dataset.Dataset._map_single couldn't be hashed properly, a random hash was used instead. Make sure your transforms and parameters are serializable with pickle or dill for the dataset fingerprinting and caching to work. If you reuse this transform, the caching mechanism will consider it to be different from the previous calls and recompute everything. This warning is only showed once. Subsequent hashing failures won't be showed.\n",
      "Parameter 'function'=<function concat at 0x150c304f4b80> of the transform datasets.arrow_dataset.Dataset._map_single couldn't be hashed properly, a random hash was used instead. Make sure your transforms and parameters are serializable with pickle or dill for the dataset fingerprinting and caching to work. If you reuse this transform, the caching mechanism will consider it to be different from the previous calls and recompute everything. This warning is only showed once. Subsequent hashing failures won't be showed.\n"
     ]
    },
    {
     "data": {
      "application/vnd.jupyter.widget-view+json": {
       "model_id": "11c37bccd3d6462aa990c616052ce6a5",
       "version_major": 2,
       "version_minor": 0
      },
      "text/plain": [
       " #1:   0%|          | 0/1 [00:00<?, ?ba/s]"
      ]
     },
     "metadata": {},
     "output_type": "display_data"
    },
    {
     "data": {
      "application/vnd.jupyter.widget-view+json": {
       "model_id": "90b7f7d479164cafac3d55d98eb3cfb1",
       "version_major": 2,
       "version_minor": 0
      },
      "text/plain": [
       " #2:   0%|          | 0/1 [00:00<?, ?ba/s]"
      ]
     },
     "metadata": {},
     "output_type": "display_data"
    },
    {
     "data": {
      "application/vnd.jupyter.widget-view+json": {
       "model_id": "442d33883b9e4efd8b5ed308708a4e8b",
       "version_major": 2,
       "version_minor": 0
      },
      "text/plain": [
       " #3:   0%|          | 0/1 [00:00<?, ?ba/s]"
      ]
     },
     "metadata": {},
     "output_type": "display_data"
    },
    {
     "name": "stderr",
     "output_type": "stream",
     "text": [
      "Parameter 'function'=<function chunk at 0x150beff3dd30> of the transform datasets.arrow_dataset.Dataset._map_single couldn't be hashed properly, a random hash was used instead. Make sure your transforms and parameters are serializable with pickle or dill for the dataset fingerprinting and caching to work. If you reuse this transform, the caching mechanism will consider it to be different from the previous calls and recompute everything. This warning is only showed once. Subsequent hashing failures won't be showed.\n",
      "Parameter 'function'=<function chunk at 0x150beff3ddc0> of the transform datasets.arrow_dataset.Dataset._map_single couldn't be hashed properly, a random hash was used instead. Make sure your transforms and parameters are serializable with pickle or dill for the dataset fingerprinting and caching to work. If you reuse this transform, the caching mechanism will consider it to be different from the previous calls and recompute everything. This warning is only showed once. Subsequent hashing failures won't be showed.\n"
     ]
    },
    {
     "data": {
      "application/vnd.jupyter.widget-view+json": {
       "model_id": "ad0a2154888e4d67836f752e99ce204c",
       "version_major": 2,
       "version_minor": 0
      },
      "text/plain": [
       " #0:   0%|          | 0/2 [00:00<?, ?ba/s]"
      ]
     },
     "metadata": {},
     "output_type": "display_data"
    },
    {
     "data": {
      "application/vnd.jupyter.widget-view+json": {
       "model_id": "1ea15f23654e47048b5920e34cc8f109",
       "version_major": 2,
       "version_minor": 0
      },
      "text/plain": [
       " #1:   0%|          | 0/2 [00:00<?, ?ba/s]"
      ]
     },
     "metadata": {},
     "output_type": "display_data"
    },
    {
     "name": "stderr",
     "output_type": "stream",
     "text": [
      "Parameter 'function'=<function chunk at 0x150beff3d8b0> of the transform datasets.arrow_dataset.Dataset._map_single couldn't be hashed properly, a random hash was used instead. Make sure your transforms and parameters are serializable with pickle or dill for the dataset fingerprinting and caching to work. If you reuse this transform, the caching mechanism will consider it to be different from the previous calls and recompute everything. This warning is only showed once. Subsequent hashing failures won't be showed.\n",
      "Parameter 'function'=<function chunk at 0x150beff3dd30> of the transform datasets.arrow_dataset.Dataset._map_single couldn't be hashed properly, a random hash was used instead. Make sure your transforms and parameters are serializable with pickle or dill for the dataset fingerprinting and caching to work. If you reuse this transform, the caching mechanism will consider it to be different from the previous calls and recompute everything. This warning is only showed once. Subsequent hashing failures won't be showed.\n"
     ]
    },
    {
     "data": {
      "application/vnd.jupyter.widget-view+json": {
       "model_id": "997a71ae25fe4fd496bc5e90b0f68eca",
       "version_major": 2,
       "version_minor": 0
      },
      "text/plain": [
       " #1:   0%|          | 0/1 [00:00<?, ?ba/s]"
      ]
     },
     "metadata": {},
     "output_type": "display_data"
    },
    {
     "data": {
      "application/vnd.jupyter.widget-view+json": {
       "model_id": "7ebc65b71d564190a8bdff1b8820de9a",
       "version_major": 2,
       "version_minor": 0
      },
      "text/plain": [
       " #0:   0%|          | 0/1 [00:00<?, ?ba/s]"
      ]
     },
     "metadata": {},
     "output_type": "display_data"
    }
   ],
   "source": [
    "# Load tokenizer with HuggingFace wrapper\n",
    "#tokenizer = GPT2TokenizerFast(tokenizer_file = \"gpt2-small/tokenizer/tokenizer.json\")\n",
    "tokenizer = GPT2TokenizerFast(tokenizer_file = \"gpt2-small/checkpoint-trainedtokenizer_100M_whitespace/tokenizer.json\")\n",
    "#tokenizer = GPT2TokenizerFast.from_pretrained(\"gpt2\")\n",
    "# Optional: set pad token if using Trainer API or batches\n",
    "tokenizer.pad_token = tokenizer.eos_token\n",
    "\n",
    "# Load your dataset (can also use raw text)\n",
    "#dataset = load_dataset(\"text\", data_files = {\"train\": \"gpt2-small/corpus_data/10M_corpus.txt\"})\n",
    "dataset = load_dataset(\"text\", data_files = {\"train\": \"gpt2-small/corpus_data/100M_corpus.txt\"})\n",
    "dataset = dataset['train'].train_test_split(test_size = 0.1, shuffle = True) \n",
    "\n",
    "'''\n",
    "# Tokenize the dataset\n",
    "def tokenize(example):\n",
    "    return tokenizer(example[\"text\"], truncation = True, padding = \"max_length\", max_length = 2048)\n",
    "dataset = dataset.map(tokenize, batched = True, remove_columns = [\"text\"])\n",
    "dataset.set_format(type = \"torch\", columns = [\"input_ids\", \"attention_mask\"])\n",
    "'''\n",
    "\n",
    "# Tokenize each example (no truncation, no padding)\n",
    "def tokenize(example):\n",
    "    return tokenizer(example[\"text\"])\n",
    "\n",
    "tokenized_dataset = dataset.map(tokenize, batched = True, remove_columns = [\"text\"], num_proc = 4)\n",
    "\n",
    "# Save tokenized dataset for reuse (use load_from_disk latter)\n",
    "tokenized_dataset.save_to_disk(\"gpt2-small/corpus_data/tokenized_dataset\")\n",
    "\n",
    "# Concatenate all input_ids and attention masks into single token streams\n",
    "def concat(examples):\n",
    "    examples[\"input_ids\"]=[list(chain.from_iterable(examples['input_ids']))] # convert chain to list of tokens\n",
    "    examples[\"attention_mask\"]=[list(chain.from_iterable(examples['attention_mask']))] # convert chain to list of tokens\n",
    "    \n",
    "    return  examples\n",
    "\n",
    "concated_dataset = tokenized_dataset.map(concat, batched = True, batch_size = 1000000, num_proc = 4)\n",
    "\n",
    "# Chunk into fixed-size blocks (1024 tokens, GPT-2 style)\n",
    "def chunk(examples):\n",
    "    chunk_size = 1024 # modify this accordingly       \n",
    "    input_ids = examples[\"input_ids\"][0] # List[List], pass the inner list      \n",
    "    attention_mask = examples[\"attention_mask\"][0] # List[List]\n",
    "    input_ids_truncated = []\n",
    "    attention_mask_truncated = []\n",
    "    \n",
    "    # slice with step_size = chunk_size\n",
    "    for i in range(0,len(input_ids),chunk_size):\n",
    "        chunk = input_ids[i : i + chunk_size]\n",
    "        if len(chunk) == chunk_size: # drop the last chunk if not equal\n",
    "            input_ids_truncated.append(chunk)\n",
    "            attention_mask_truncated.append(attention_mask[i : i + chunk_size])     \n",
    "    examples['input_ids'] = input_ids_truncated\n",
    "    examples[\"attention_mask\"] = attention_mask_truncated\n",
    "        \n",
    "    return examples\n",
    "\n",
    "chunked_dataset = concated_dataset.map(chunk, batched = True, batch_size = 2, num_proc = 2)\n",
    "\n",
    "# Save the final preprocessed dataset for model training\n",
    "chunked_dataset.save_to_disk(\"gpt2-small/corpus_data/chunked_dataset\")\n",
    "#chunked_dataset = load_from_disk(\"gpt2-small/corpus_data/chunked_dataset\")"
   ]
  },
  {
   "cell_type": "code",
   "execution_count": 5,
   "id": "51b7615b",
   "metadata": {},
   "outputs": [
    {
     "name": "stderr",
     "output_type": "stream",
     "text": [
      "/tmp/ipykernel_1643585/1533955730.py:65: FutureWarning: `tokenizer` is deprecated and will be removed in version 5.0.0 for `Trainer.__init__`. Use `processing_class` instead.\n",
      "  trainer = Trainer(\n",
      "Detected kernel version 4.18.0, which is below the recommended minimum of 5.5.0; this can cause the process to hang. It is recommended to upgrade the kernel to the minimum version or higher.\n"
     ]
    },
    {
     "data": {
      "text/html": [
       "\n",
       "    <div>\n",
       "      \n",
       "      <progress value='10600' max='34650' style='width:300px; height:20px; vertical-align: middle;'></progress>\n",
       "      [10600/34650 4:59:25 < 11:19:29, 0.59 it/s, Epoch 3/10]\n",
       "    </div>\n",
       "    <table border=\"1\" class=\"dataframe\">\n",
       "  <thead>\n",
       " <tr style=\"text-align: left;\">\n",
       "      <th>Step</th>\n",
       "      <th>Training Loss</th>\n",
       "      <th>Validation Loss</th>\n",
       "    </tr>\n",
       "  </thead>\n",
       "  <tbody>\n",
       "    <tr>\n",
       "      <td>100</td>\n",
       "      <td>9.461600</td>\n",
       "      <td>8.405389</td>\n",
       "    </tr>\n",
       "    <tr>\n",
       "      <td>200</td>\n",
       "      <td>7.574000</td>\n",
       "      <td>6.736331</td>\n",
       "    </tr>\n",
       "    <tr>\n",
       "      <td>300</td>\n",
       "      <td>6.387000</td>\n",
       "      <td>6.157678</td>\n",
       "    </tr>\n",
       "    <tr>\n",
       "      <td>400</td>\n",
       "      <td>6.064400</td>\n",
       "      <td>5.965590</td>\n",
       "    </tr>\n",
       "    <tr>\n",
       "      <td>500</td>\n",
       "      <td>5.918300</td>\n",
       "      <td>5.850304</td>\n",
       "    </tr>\n",
       "    <tr>\n",
       "      <td>600</td>\n",
       "      <td>5.829600</td>\n",
       "      <td>5.773889</td>\n",
       "    </tr>\n",
       "    <tr>\n",
       "      <td>700</td>\n",
       "      <td>5.752500</td>\n",
       "      <td>5.699870</td>\n",
       "    </tr>\n",
       "    <tr>\n",
       "      <td>800</td>\n",
       "      <td>5.676900</td>\n",
       "      <td>5.592299</td>\n",
       "    </tr>\n",
       "    <tr>\n",
       "      <td>900</td>\n",
       "      <td>5.564500</td>\n",
       "      <td>5.469193</td>\n",
       "    </tr>\n",
       "    <tr>\n",
       "      <td>1000</td>\n",
       "      <td>5.438400</td>\n",
       "      <td>5.356067</td>\n",
       "    </tr>\n",
       "    <tr>\n",
       "      <td>1100</td>\n",
       "      <td>5.331900</td>\n",
       "      <td>5.250522</td>\n",
       "    </tr>\n",
       "    <tr>\n",
       "      <td>1200</td>\n",
       "      <td>5.237800</td>\n",
       "      <td>5.170015</td>\n",
       "    </tr>\n",
       "    <tr>\n",
       "      <td>1300</td>\n",
       "      <td>5.154000</td>\n",
       "      <td>5.094413</td>\n",
       "    </tr>\n",
       "    <tr>\n",
       "      <td>1400</td>\n",
       "      <td>5.102900</td>\n",
       "      <td>5.029335</td>\n",
       "    </tr>\n",
       "    <tr>\n",
       "      <td>1500</td>\n",
       "      <td>5.041800</td>\n",
       "      <td>4.975073</td>\n",
       "    </tr>\n",
       "    <tr>\n",
       "      <td>1600</td>\n",
       "      <td>4.994200</td>\n",
       "      <td>4.928483</td>\n",
       "    </tr>\n",
       "    <tr>\n",
       "      <td>1700</td>\n",
       "      <td>4.949900</td>\n",
       "      <td>4.888436</td>\n",
       "    </tr>\n",
       "    <tr>\n",
       "      <td>1800</td>\n",
       "      <td>4.910800</td>\n",
       "      <td>4.849087</td>\n",
       "    </tr>\n",
       "    <tr>\n",
       "      <td>1900</td>\n",
       "      <td>4.871900</td>\n",
       "      <td>4.810408</td>\n",
       "    </tr>\n",
       "    <tr>\n",
       "      <td>2000</td>\n",
       "      <td>4.840300</td>\n",
       "      <td>4.779397</td>\n",
       "    </tr>\n",
       "    <tr>\n",
       "      <td>2100</td>\n",
       "      <td>4.807100</td>\n",
       "      <td>4.748610</td>\n",
       "    </tr>\n",
       "    <tr>\n",
       "      <td>2200</td>\n",
       "      <td>4.781200</td>\n",
       "      <td>4.727524</td>\n",
       "    </tr>\n",
       "    <tr>\n",
       "      <td>2300</td>\n",
       "      <td>4.757200</td>\n",
       "      <td>4.703609</td>\n",
       "    </tr>\n",
       "    <tr>\n",
       "      <td>2400</td>\n",
       "      <td>4.731400</td>\n",
       "      <td>4.680182</td>\n",
       "    </tr>\n",
       "    <tr>\n",
       "      <td>2500</td>\n",
       "      <td>4.695600</td>\n",
       "      <td>4.655472</td>\n",
       "    </tr>\n",
       "    <tr>\n",
       "      <td>2600</td>\n",
       "      <td>4.691200</td>\n",
       "      <td>4.631629</td>\n",
       "    </tr>\n",
       "    <tr>\n",
       "      <td>2700</td>\n",
       "      <td>4.665900</td>\n",
       "      <td>4.615095</td>\n",
       "    </tr>\n",
       "    <tr>\n",
       "      <td>2800</td>\n",
       "      <td>4.646800</td>\n",
       "      <td>4.599531</td>\n",
       "    </tr>\n",
       "    <tr>\n",
       "      <td>2900</td>\n",
       "      <td>4.628500</td>\n",
       "      <td>4.574298</td>\n",
       "    </tr>\n",
       "    <tr>\n",
       "      <td>3000</td>\n",
       "      <td>4.612000</td>\n",
       "      <td>4.561618</td>\n",
       "    </tr>\n",
       "    <tr>\n",
       "      <td>3100</td>\n",
       "      <td>4.599500</td>\n",
       "      <td>4.541605</td>\n",
       "    </tr>\n",
       "    <tr>\n",
       "      <td>3200</td>\n",
       "      <td>4.583300</td>\n",
       "      <td>4.530397</td>\n",
       "    </tr>\n",
       "    <tr>\n",
       "      <td>3300</td>\n",
       "      <td>4.560600</td>\n",
       "      <td>4.516339</td>\n",
       "    </tr>\n",
       "    <tr>\n",
       "      <td>3400</td>\n",
       "      <td>4.560900</td>\n",
       "      <td>4.502559</td>\n",
       "    </tr>\n",
       "    <tr>\n",
       "      <td>3500</td>\n",
       "      <td>4.520600</td>\n",
       "      <td>4.504290</td>\n",
       "    </tr>\n",
       "    <tr>\n",
       "      <td>3600</td>\n",
       "      <td>4.485200</td>\n",
       "      <td>4.472593</td>\n",
       "    </tr>\n",
       "    <tr>\n",
       "      <td>3700</td>\n",
       "      <td>4.471700</td>\n",
       "      <td>4.458336</td>\n",
       "    </tr>\n",
       "    <tr>\n",
       "      <td>3800</td>\n",
       "      <td>4.452700</td>\n",
       "      <td>4.442815</td>\n",
       "    </tr>\n",
       "    <tr>\n",
       "      <td>3900</td>\n",
       "      <td>4.445900</td>\n",
       "      <td>4.424933</td>\n",
       "    </tr>\n",
       "    <tr>\n",
       "      <td>4000</td>\n",
       "      <td>4.426400</td>\n",
       "      <td>4.412547</td>\n",
       "    </tr>\n",
       "    <tr>\n",
       "      <td>4100</td>\n",
       "      <td>4.419000</td>\n",
       "      <td>4.402525</td>\n",
       "    </tr>\n",
       "    <tr>\n",
       "      <td>4200</td>\n",
       "      <td>4.408600</td>\n",
       "      <td>4.385870</td>\n",
       "    </tr>\n",
       "    <tr>\n",
       "      <td>4300</td>\n",
       "      <td>4.398600</td>\n",
       "      <td>4.374346</td>\n",
       "    </tr>\n",
       "    <tr>\n",
       "      <td>4400</td>\n",
       "      <td>4.388600</td>\n",
       "      <td>4.363561</td>\n",
       "    </tr>\n",
       "    <tr>\n",
       "      <td>4500</td>\n",
       "      <td>4.378800</td>\n",
       "      <td>4.350712</td>\n",
       "    </tr>\n",
       "    <tr>\n",
       "      <td>4600</td>\n",
       "      <td>4.365200</td>\n",
       "      <td>4.338942</td>\n",
       "    </tr>\n",
       "    <tr>\n",
       "      <td>4700</td>\n",
       "      <td>4.353000</td>\n",
       "      <td>4.324870</td>\n",
       "    </tr>\n",
       "    <tr>\n",
       "      <td>4800</td>\n",
       "      <td>4.350800</td>\n",
       "      <td>4.315716</td>\n",
       "    </tr>\n",
       "    <tr>\n",
       "      <td>4900</td>\n",
       "      <td>4.341000</td>\n",
       "      <td>4.306361</td>\n",
       "    </tr>\n",
       "    <tr>\n",
       "      <td>5000</td>\n",
       "      <td>4.335700</td>\n",
       "      <td>4.295734</td>\n",
       "    </tr>\n",
       "    <tr>\n",
       "      <td>5100</td>\n",
       "      <td>4.321100</td>\n",
       "      <td>4.288294</td>\n",
       "    </tr>\n",
       "    <tr>\n",
       "      <td>5200</td>\n",
       "      <td>4.311700</td>\n",
       "      <td>4.280693</td>\n",
       "    </tr>\n",
       "    <tr>\n",
       "      <td>5300</td>\n",
       "      <td>4.299600</td>\n",
       "      <td>4.271753</td>\n",
       "    </tr>\n",
       "    <tr>\n",
       "      <td>5400</td>\n",
       "      <td>4.292600</td>\n",
       "      <td>4.263496</td>\n",
       "    </tr>\n",
       "    <tr>\n",
       "      <td>5500</td>\n",
       "      <td>4.293000</td>\n",
       "      <td>4.255043</td>\n",
       "    </tr>\n",
       "    <tr>\n",
       "      <td>5600</td>\n",
       "      <td>4.286500</td>\n",
       "      <td>4.248507</td>\n",
       "    </tr>\n",
       "    <tr>\n",
       "      <td>5700</td>\n",
       "      <td>4.272200</td>\n",
       "      <td>4.239465</td>\n",
       "    </tr>\n",
       "    <tr>\n",
       "      <td>5800</td>\n",
       "      <td>4.272800</td>\n",
       "      <td>4.233299</td>\n",
       "    </tr>\n",
       "    <tr>\n",
       "      <td>5900</td>\n",
       "      <td>4.267000</td>\n",
       "      <td>4.244080</td>\n",
       "    </tr>\n",
       "    <tr>\n",
       "      <td>6000</td>\n",
       "      <td>4.267900</td>\n",
       "      <td>4.221626</td>\n",
       "    </tr>\n",
       "    <tr>\n",
       "      <td>6100</td>\n",
       "      <td>4.245400</td>\n",
       "      <td>4.214981</td>\n",
       "    </tr>\n",
       "    <tr>\n",
       "      <td>6200</td>\n",
       "      <td>4.238900</td>\n",
       "      <td>4.205763</td>\n",
       "    </tr>\n",
       "    <tr>\n",
       "      <td>6300</td>\n",
       "      <td>4.238500</td>\n",
       "      <td>4.202624</td>\n",
       "    </tr>\n",
       "    <tr>\n",
       "      <td>6400</td>\n",
       "      <td>4.228200</td>\n",
       "      <td>4.195843</td>\n",
       "    </tr>\n",
       "    <tr>\n",
       "      <td>6500</td>\n",
       "      <td>4.223600</td>\n",
       "      <td>4.189302</td>\n",
       "    </tr>\n",
       "    <tr>\n",
       "      <td>6600</td>\n",
       "      <td>4.220000</td>\n",
       "      <td>4.182835</td>\n",
       "    </tr>\n",
       "    <tr>\n",
       "      <td>6700</td>\n",
       "      <td>4.205700</td>\n",
       "      <td>4.177720</td>\n",
       "    </tr>\n",
       "    <tr>\n",
       "      <td>6800</td>\n",
       "      <td>4.204900</td>\n",
       "      <td>4.171557</td>\n",
       "    </tr>\n",
       "    <tr>\n",
       "      <td>6900</td>\n",
       "      <td>4.205600</td>\n",
       "      <td>4.168110</td>\n",
       "    </tr>\n",
       "    <tr>\n",
       "      <td>7000</td>\n",
       "      <td>4.118300</td>\n",
       "      <td>4.165349</td>\n",
       "    </tr>\n",
       "    <tr>\n",
       "      <td>7100</td>\n",
       "      <td>4.094600</td>\n",
       "      <td>4.163122</td>\n",
       "    </tr>\n",
       "    <tr>\n",
       "      <td>7200</td>\n",
       "      <td>4.097400</td>\n",
       "      <td>4.161828</td>\n",
       "    </tr>\n",
       "    <tr>\n",
       "      <td>7300</td>\n",
       "      <td>4.101900</td>\n",
       "      <td>4.157889</td>\n",
       "    </tr>\n",
       "    <tr>\n",
       "      <td>7400</td>\n",
       "      <td>4.100600</td>\n",
       "      <td>4.153246</td>\n",
       "    </tr>\n",
       "    <tr>\n",
       "      <td>7500</td>\n",
       "      <td>4.097200</td>\n",
       "      <td>4.150341</td>\n",
       "    </tr>\n",
       "    <tr>\n",
       "      <td>7600</td>\n",
       "      <td>4.094800</td>\n",
       "      <td>4.145851</td>\n",
       "    </tr>\n",
       "    <tr>\n",
       "      <td>7700</td>\n",
       "      <td>4.101100</td>\n",
       "      <td>4.140824</td>\n",
       "    </tr>\n",
       "    <tr>\n",
       "      <td>7800</td>\n",
       "      <td>4.092300</td>\n",
       "      <td>4.138146</td>\n",
       "    </tr>\n",
       "    <tr>\n",
       "      <td>7900</td>\n",
       "      <td>4.087500</td>\n",
       "      <td>4.132371</td>\n",
       "    </tr>\n",
       "    <tr>\n",
       "      <td>8000</td>\n",
       "      <td>4.098200</td>\n",
       "      <td>4.128743</td>\n",
       "    </tr>\n",
       "    <tr>\n",
       "      <td>8100</td>\n",
       "      <td>4.088600</td>\n",
       "      <td>4.124961</td>\n",
       "    </tr>\n",
       "    <tr>\n",
       "      <td>8200</td>\n",
       "      <td>4.096200</td>\n",
       "      <td>4.120116</td>\n",
       "    </tr>\n",
       "    <tr>\n",
       "      <td>8300</td>\n",
       "      <td>4.096000</td>\n",
       "      <td>4.117242</td>\n",
       "    </tr>\n",
       "    <tr>\n",
       "      <td>8400</td>\n",
       "      <td>4.082100</td>\n",
       "      <td>4.113452</td>\n",
       "    </tr>\n",
       "    <tr>\n",
       "      <td>8500</td>\n",
       "      <td>4.080500</td>\n",
       "      <td>4.107862</td>\n",
       "    </tr>\n",
       "    <tr>\n",
       "      <td>8600</td>\n",
       "      <td>4.084700</td>\n",
       "      <td>4.106103</td>\n",
       "    </tr>\n",
       "    <tr>\n",
       "      <td>8700</td>\n",
       "      <td>4.078200</td>\n",
       "      <td>4.100677</td>\n",
       "    </tr>\n",
       "    <tr>\n",
       "      <td>8800</td>\n",
       "      <td>4.068000</td>\n",
       "      <td>4.098012</td>\n",
       "    </tr>\n",
       "    <tr>\n",
       "      <td>8900</td>\n",
       "      <td>4.074300</td>\n",
       "      <td>4.093718</td>\n",
       "    </tr>\n",
       "    <tr>\n",
       "      <td>9000</td>\n",
       "      <td>4.080600</td>\n",
       "      <td>4.087481</td>\n",
       "    </tr>\n",
       "    <tr>\n",
       "      <td>9100</td>\n",
       "      <td>4.074200</td>\n",
       "      <td>4.086150</td>\n",
       "    </tr>\n",
       "    <tr>\n",
       "      <td>9200</td>\n",
       "      <td>4.073000</td>\n",
       "      <td>4.081837</td>\n",
       "    </tr>\n",
       "    <tr>\n",
       "      <td>9300</td>\n",
       "      <td>4.066700</td>\n",
       "      <td>4.077715</td>\n",
       "    </tr>\n",
       "    <tr>\n",
       "      <td>9400</td>\n",
       "      <td>4.063900</td>\n",
       "      <td>4.075507</td>\n",
       "    </tr>\n",
       "    <tr>\n",
       "      <td>9500</td>\n",
       "      <td>4.058600</td>\n",
       "      <td>4.071005</td>\n",
       "    </tr>\n",
       "    <tr>\n",
       "      <td>9600</td>\n",
       "      <td>4.061200</td>\n",
       "      <td>4.067897</td>\n",
       "    </tr>\n",
       "    <tr>\n",
       "      <td>9700</td>\n",
       "      <td>4.051100</td>\n",
       "      <td>4.066396</td>\n",
       "    </tr>\n",
       "    <tr>\n",
       "      <td>9800</td>\n",
       "      <td>4.060200</td>\n",
       "      <td>4.060822</td>\n",
       "    </tr>\n",
       "    <tr>\n",
       "      <td>9900</td>\n",
       "      <td>4.052900</td>\n",
       "      <td>4.059414</td>\n",
       "    </tr>\n",
       "    <tr>\n",
       "      <td>10000</td>\n",
       "      <td>4.052400</td>\n",
       "      <td>4.056143</td>\n",
       "    </tr>\n",
       "    <tr>\n",
       "      <td>10100</td>\n",
       "      <td>4.048400</td>\n",
       "      <td>4.052663</td>\n",
       "    </tr>\n",
       "    <tr>\n",
       "      <td>10200</td>\n",
       "      <td>4.052200</td>\n",
       "      <td>4.049800</td>\n",
       "    </tr>\n",
       "    <tr>\n",
       "      <td>10300</td>\n",
       "      <td>4.048200</td>\n",
       "      <td>4.045826</td>\n",
       "    </tr>\n",
       "    <tr>\n",
       "      <td>10400</td>\n",
       "      <td>4.035400</td>\n",
       "      <td>4.046143</td>\n",
       "    </tr>\n",
       "    <tr>\n",
       "      <td>10500</td>\n",
       "      <td>3.908800</td>\n",
       "      <td>4.050953</td>\n",
       "    </tr>\n",
       "    <tr>\n",
       "      <td>10600</td>\n",
       "      <td>3.921200</td>\n",
       "      <td>4.050089</td>\n",
       "    </tr>\n",
       "  </tbody>\n",
       "</table><p>"
      ],
      "text/plain": [
       "<IPython.core.display.HTML object>"
      ]
     },
     "metadata": {},
     "output_type": "display_data"
    },
    {
     "name": "stderr",
     "output_type": "stream",
     "text": [
      "There were missing keys in the checkpoint model loaded: ['lm_head.weight'].\n"
     ]
    },
    {
     "data": {
      "text/plain": [
       "TrainOutput(global_step=10600, training_loss=4.5415319881799086, metrics={'train_runtime': 17966.5048, 'train_samples_per_second': 30.865, 'train_steps_per_second': 1.929, 'total_flos': 8.8627121750016e+16, 'train_loss': 4.5415319881799086, 'epoch': 3.058282540484005})"
      ]
     },
     "execution_count": 5,
     "metadata": {},
     "output_type": "execute_result"
    }
   ],
   "source": [
    "# Load model config and model\n",
    "#config = GPT2Config.from_json_file(\"gpt3_small_config.json\")\n",
    "config = GPT2Config()\n",
    "'''\n",
    "config = GPT2Config(\n",
    "    vocab_size = 50257,\n",
    "    n_positions = 1024, # GPT-2 context length\n",
    "    n_ctx = 1024,\n",
    "    n_embd = 768,\n",
    "    n_layer = 12,\n",
    "    n_head = 12,\n",
    "    \n",
    "    # GPT-3 uses no dropout during pretraining\n",
    "    resid_pdrop = 0.1, # 0.0 for GPT-3\n",
    "    embd_pdrop = 0.1, # 0.0 for GPT-3\n",
    "    attn_pdrop = 0.1, # 0.0 for GPT-3\n",
    "    \n",
    "    activation_function = \"gelu_new\",\n",
    "    layer_norm_epsilon = 1e-5,\n",
    "    initializer_range = 0.02,\n",
    "    bos_token_id = 50256,\n",
    "    eos_token_id = 50256,\n",
    "    use_cache = True,\n",
    "    scale_attn_weights = True,\n",
    "    scale_attn_by_inverse_layer_idx = False,\n",
    "    reorder_and_upcast_attn = False,\n",
    ")\n",
    "'''\n",
    "\n",
    "model = GPT2LMHeadModel(config)\n",
    "\n",
    "# Data collator\n",
    "data_collator = DataCollatorForLanguageModeling(tokenizer = tokenizer, pad_to_multiple_of = None, mlm = False)\n",
    "\n",
    "# Training arguments\n",
    "training_args = TrainingArguments(\n",
    "    #output_dir = \"./gpt2-small\",\n",
    "    output_dir = \"./gpt2-100M\",\n",
    "    #evaluation_strategy = \"no\",\n",
    "    #eval_strategy = \"no\",\n",
    "    eval_strategy = \"steps\",\n",
    "    eval_steps = 100,\n",
    "    logging_strategy = \"steps\",\n",
    "    logging_steps = 100,\n",
    "    save_strategy = \"steps\",\n",
    "    save_steps = 1000,\n",
    "    save_total_limit = 2,\n",
    "    num_train_epochs = 10,\n",
    "    per_device_train_batch_size = 1,\n",
    "    per_device_eval_batch_size = 1,\n",
    "    gradient_accumulation_steps = 16,\n",
    "    learning_rate = 5e-4, #5e-4 ~ 6e-4 for GPT-2\n",
    "    warmup_ratio = 0.1,\n",
    "    weight_decay = 0.01,\n",
    "    lr_scheduler_type = \"cosine\",\n",
    "    adam_beta1 = 0.9,\n",
    "    adam_beta2 = 0.999, #0.95 for GPT-3\n",
    "    fp16 = True,\n",
    "    logging_dir = \"./gpt2-small/logs\", #GPT-2 uses cross-entropy loss\n",
    "    report_to = \"tensorboard\", \n",
    "    load_best_model_at_end = True,\n",
    ")\n",
    "\n",
    "# Initialize Trainer\n",
    "trainer = Trainer(\n",
    "    model = model,\n",
    "    args = training_args,\n",
    "    tokenizer = tokenizer,\n",
    "    train_dataset = chunked_dataset['train'],\n",
    "    eval_dataset = chunked_dataset['test'],\n",
    "    data_collator = data_collator,\n",
    "    callbacks = [EarlyStoppingCallback(early_stopping_patience = 3)],\n",
    "    #callbacks = [TensorBoardCallback()],\n",
    ")\n",
    "\n",
    "#%load_ext tensorboard\n",
    "#%tensorboard --logdir ./gpt2-small/logs\n",
    "\n",
    "# Train the model\n",
    "trainer.train()\n"
   ]
  },
  {
   "cell_type": "code",
   "execution_count": 16,
   "id": "c9f6f765",
   "metadata": {},
   "outputs": [],
   "source": [
    "from torch.utils.tensorboard import SummaryWriter\n",
    "\n",
    "# Create a TensorBoard writer\n",
    "writer = SummaryWriter(log_dir=\"./gpt2-small/logs_reconstructed\")  # different folder to avoid conflicts\n",
    "\n",
    "# Recorded steps and losses\n",
    "steps_losses = [\n",
    "    (100, 4.837000),\n",
    "    (200, 4.329800),\n",
    "    (300, 4.097600),\n",
    "    (400, 3.957800),\n",
    "    (500, 3.815600),\n",
    "    (600, 3.725500),\n",
    "    (700, 3.647400),\n",
    "    (800, 3.586900),\n",
    "    (900, 3.545300),\n",
    "    (1000, 3.502600),\n",
    "    (1100, 3.490900),\n",
    "    (1200, 3.419700),\n",
    "    (1300, 3.402200),\n",
    "    (1400, 3.366500),\n",
    "    (1500, 3.350200),\n",
    "    (1600, 3.325200),\n",
    "    (1700, 3.299500),\n",
    "    (1800, 3.296800),\n",
    "    (1900, 3.272900),\n",
    "    (2000, 3.258100),\n",
    "    (2100, 3.238700),\n",
    "    (2200, 3.246000),\n",
    "    (2300, 3.182000),\n",
    "    (2400, 3.154400),\n",
    "    (2500, 3.165500),\n",
    "    (2600, 3.153200),\n",
    "    (2700, 3.138400),\n",
    "    (2800, 3.133300),\n",
    "    (2900, 3.125500),\n",
    "    (3000, 3.129700),\n",
    "    (3100, 3.124900),\n",
    "    (3200, 3.110600),\n",
    "]\n",
    "\n",
    "# Log each step and loss\n",
    "for step, loss in steps_losses:\n",
    "    writer.add_scalar(\"train/loss\", loss, step)\n",
    "\n",
    "# Close the writer to flush files\n",
    "writer.close()"
   ]
  },
  {
   "cell_type": "code",
   "execution_count": 22,
   "id": "df0f606e",
   "metadata": {},
   "outputs": [],
   "source": [
    "#model = GPT2LMHeadModel.from_pretrained('gpt2-small/checkpoint-pretrainedtokenizer_100M')\n",
    "model = GPT2LMHeadModel.from_pretrained('gpt2-small/checkpoint-trainedtokenizer_100M')\n",
    "#tokenizer = GPT2TokenizerFast.from_pretrained(\"gpt2\")\n",
    "tokenizer = GPT2TokenizerFast(tokenizer_file = \"gpt2-small/checkpoint-trainedtokenizer_100M/tokenizer.json\")"
   ]
  },
  {
   "cell_type": "code",
   "execution_count": 22,
   "id": "06552312",
   "metadata": {},
   "outputs": [
    {
     "name": "stderr",
     "output_type": "stream",
     "text": [
      "Hardware accelerator e.g. GPU is available in the environment, but no `device` argument is passed to the `Pipeline` object. Model will be on CPU.\n",
      "Truncation was not explicitly activated but `max_length` is provided a specific value, please use `truncation=True` to explicitly truncate examples to max length. Defaulting to 'longest_first' truncation strategy. If you encode pairs of sequences (GLUE-style) with the tokenizer you can select this strategy more precisely by providing a specific strategy to `truncation`.\n"
     ]
    },
    {
     "name": "stdout",
     "output_type": "stream",
     "text": [
      "[{'generated_text': \"Once upon a times saw sal down that's this bister it's a press so what does this she si this\"}]\n"
     ]
    }
   ],
   "source": [
    "generator = pipeline(\"text-generation\", model = model, tokenizer = tokenizer)\n",
    "print(generator(\"Once upon a time\", max_length = 50, do_sample = True, top_k = 50))"
   ]
  },
  {
   "cell_type": "code",
   "execution_count": 10,
   "id": "91df600b",
   "metadata": {},
   "outputs": [
    {
     "name": "stdout",
     "output_type": "stream",
     "text": [
      "Available scalar tags:\n",
      "['train/loss', 'train/grad_norm', 'train/learning_rate', 'train/epoch', 'eval/loss', 'eval/runtime', 'eval/samples_per_second', 'eval/steps_per_second', 'train/train_runtime', 'train/train_samples_per_second', 'train/train_steps_per_second', 'train/total_flos', 'train/train_loss']\n",
      "Training Loss Tag: train/loss\n",
      "Evaluation Loss Tag: eval/loss\n"
     ]
    },
    {
     "data": {
      "image/png": "[encoded data removed]",
      "text/plain": [
       "<Figure size 720x360 with 1 Axes>"
      ]
     },
     "metadata": {
      "needs_background": "light"
     },
     "output_type": "display_data"
    }
   ],
   "source": [
    "from tensorboard.backend.event_processing.event_accumulator import EventAccumulator\n",
    "\n",
    "log_dir = './gpt2-small/logs'\n",
    "event_path = os.path.join(log_dir, 'events.out.tfevents.gpt2.10M')\n",
    "event_acc = EventAccumulator(event_path)\n",
    "event_acc.Reload()\n",
    "\n",
    "# list all scalar tags\n",
    "print(\"Available scalar tags:\")\n",
    "print(event_acc.Tags()[\"scalars\"])\n",
    "\n",
    "training_loss_tag = None\n",
    "evaluation_loss_tag = None\n",
    "possible_training_tags = [\"loss\", \"train/loss\", \"training_loss\"]\n",
    "possible_evaluation_tags = [\"eval/loss\", \"validation_loss\", \"validation/loss\"]\n",
    "\n",
    "# find the training loss tag\n",
    "for t in possible_training_tags:\n",
    "    if t in event_acc.Tags()[\"scalars\"]:\n",
    "        training_loss_tag = t\n",
    "        print(f\"Training Loss Tag: {training_loss_tag}\")\n",
    "        break\n",
    "\n",
    "# find the evaluation loss tag\n",
    "for t in possible_evaluation_tags:\n",
    "    if t in event_acc.Tags()[\"scalars\"]:\n",
    "        evaluation_loss_tag = t\n",
    "        print(f\"Evaluation Loss Tag: {evaluation_loss_tag}\")\n",
    "        break\n",
    "\n",
    "# ensure both tags were found\n",
    "assert training_loss_tag, f\"Could not find expected training loss tag. Found: {event_acc.Tags()['scalars']}\"\n",
    "assert evaluation_loss_tag, f\"Could not find expected evaluation loss tag. Found: {event_acc.Tags()['scalars']}\"\n",
    "\n",
    "# extract data for training loss\n",
    "train_events = event_acc.Scalars(training_loss_tag)\n",
    "train_steps = [e.step for e in train_events]\n",
    "train_values = [e.value for e in train_events]\n",
    "\n",
    "# extract data for evaluation loss\n",
    "eval_events = event_acc.Scalars(evaluation_loss_tag)\n",
    "eval_steps = [e.step for e in eval_events]\n",
    "eval_values = [e.value for e in eval_events]\n",
    "\n",
    "# plotting both training and evaluation loss\n",
    "plt.figure(figsize = (10, 5))\n",
    "plt.plot(train_steps, train_values, marker = \"o\", label = \"Training Loss\")\n",
    "plt.plot(eval_steps, eval_values, marker = \"x\", label = \"Evaluation Loss\")\n",
    "plt.xlabel(\"Step\", fontsize = 14)\n",
    "plt.ylabel(\"Loss\", fontsize = 14)\n",
    "plt.title(\"GPT2-10M\", fontsize = 18, weight = 'bold')\n",
    "plt.grid(True)\n",
    "plt.legend()\n",
    "plt.tight_layout()\n",
    "plt.show()\n"
   ]
  },
  {
   "cell_type": "code",
   "execution_count": 9,
   "id": "e006e900",
   "metadata": {},
   "outputs": [
    {
     "name": "stdout",
     "output_type": "stream",
     "text": [
      "Available scalar tags:\n",
      "['train/loss', 'train/grad_norm', 'train/learning_rate', 'train/epoch', 'eval/loss', 'eval/runtime', 'eval/samples_per_second', 'eval/steps_per_second', 'train/train_runtime', 'train/train_samples_per_second', 'train/train_steps_per_second', 'train/total_flos', 'train/train_loss']\n",
      "Training Loss Tag: train/loss\n",
      "Evaluation Loss Tag: eval/loss\n"
     ]
    },
    {
     "data": {
      "image/png": "[encoded data removed]",
      "text/plain": [
       "<Figure size 720x360 with 1 Axes>"
      ]
     },
     "metadata": {
      "needs_background": "light"
     },
     "output_type": "display_data"
    }
   ],
   "source": [
    "from tensorboard.backend.event_processing.event_accumulator import EventAccumulator\n",
    "\n",
    "log_dir = './gpt2-small/logs'\n",
    "event_path = os.path.join(log_dir, 'events.out.tfevents.gpt2.100M')\n",
    "event_acc = EventAccumulator(event_path)\n",
    "event_acc.Reload()\n",
    "\n",
    "# list all scalar tags\n",
    "print(\"Available scalar tags:\")\n",
    "print(event_acc.Tags()[\"scalars\"])\n",
    "\n",
    "training_loss_tag = None\n",
    "evaluation_loss_tag = None\n",
    "possible_training_tags = [\"loss\", \"train/loss\", \"training_loss\"]\n",
    "possible_evaluation_tags = [\"eval/loss\", \"validation_loss\", \"validation/loss\"]\n",
    "\n",
    "# find the training loss tag\n",
    "for t in possible_training_tags:\n",
    "    if t in event_acc.Tags()[\"scalars\"]:\n",
    "        training_loss_tag = t\n",
    "        print(f\"Training Loss Tag: {training_loss_tag}\")\n",
    "        break\n",
    "\n",
    "# find the evaluation loss tag\n",
    "for t in possible_evaluation_tags:\n",
    "    if t in event_acc.Tags()[\"scalars\"]:\n",
    "        evaluation_loss_tag = t\n",
    "        print(f\"Evaluation Loss Tag: {evaluation_loss_tag}\")\n",
    "        break\n",
    "\n",
    "# ensure both tags were found\n",
    "assert training_loss_tag, f\"Could not find expected training loss tag. Found: {event_acc.Tags()['scalars']}\"\n",
    "assert evaluation_loss_tag, f\"Could not find expected evaluation loss tag. Found: {event_acc.Tags()['scalars']}\"\n",
    "\n",
    "# extract data for training loss\n",
    "train_events = event_acc.Scalars(training_loss_tag)\n",
    "train_steps = [e.step for e in train_events]\n",
    "train_values = [e.value for e in train_events]\n",
    "\n",
    "# extract data for evaluation loss\n",
    "eval_events = event_acc.Scalars(evaluation_loss_tag)\n",
    "eval_steps = [e.step for e in eval_events]\n",
    "eval_values = [e.value for e in eval_events]\n",
    "\n",
    "# plotting both training and evaluation loss\n",
    "plt.figure(figsize = (10, 5))\n",
    "plt.plot(train_steps, train_values, marker = \"o\", label = \"Training Loss\")\n",
    "plt.plot(eval_steps, eval_values, marker = \"x\", label = \"Evaluation Loss\")\n",
    "plt.xlabel(\"Step\", fontsize = 14)\n",
    "plt.ylabel(\"Loss\", fontsize = 14)\n",
    "plt.title(\"GPT2-100M\", fontsize = 18, weight = 'bold')\n",
    "plt.grid(True)\n",
    "plt.legend()\n",
    "plt.tight_layout()\n",
    "plt.show()\n"
   ]
  },
  {
   "cell_type": "code",
   "execution_count": null,
   "id": "0824ef04",
   "metadata": {},
   "outputs": [],
   "source": []
  }
 ],
 "metadata": {
  "kernelspec": {
   "display_name": "Python 3",
   "language": "python",
   "name": "python3"
  },
  "language_info": {
   "codemirror_mode": {
    "name": "ipython",
    "version": 3
   },
   "file_extension": ".py",
   "mimetype": "text/x-python",
   "name": "python",
   "nbconvert_exporter": "python",
   "pygments_lexer": "ipython3",
   "version": "3.13.3"
  }
 },
 "nbformat": 4,
 "nbformat_minor": 5
}
