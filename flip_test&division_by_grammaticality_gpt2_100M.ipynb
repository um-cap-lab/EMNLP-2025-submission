{
 "cells": [
  {
   "cell_type": "code",
   "execution_count": 1,
   "id": "5468eb4b",
   "metadata": {},
   "outputs": [
    {
     "name": "stderr",
     "output_type": "stream",
     "text": [
      "/tmp/ipykernel_1692164/658913012.py:7: DeprecationWarning: \n",
      "Pyarrow will become a required dependency of pandas in the next major release of pandas (pandas 3.0),\n",
      "(to allow more performant data types, such as the Arrow string type, and better interoperability with other libraries)\n",
      "but was too old on your system - pyarrow 10.0.1 is the current minimum supported version as of this release.\n",
      "If this would cause problems for you,\n",
      "please provide us feedback at https://github.com/pandas-dev/pandas/issues/54466\n",
      "        \n",
      "  import pandas as pd\n"
     ]
    }
   ],
   "source": [
    "# Minicons Installation\n",
    "# Introduction can be found https://kanishka.xyz/post/minicons-running-large-scale-behavioral-analyses-on-transformer-lms/\n",
    "# Tutorial and code can be found https://github.com/kanishkamisra/minicons/blob/master/examples/surprisals.md\n",
    "#!pip install minicons\n",
    "\n",
    "from minicons import scorer\n",
    "import pandas as pd\n",
    "import numpy as np\n",
    "import json\n",
    "import csv\n",
    "import re\n",
    "import matplotlib.pyplot as plt\n",
    "import seaborn as sns\n",
    "import statsmodels.formula.api as smf\n",
    "import torch\n",
    "from torch.utils.data import DataLoader\n",
    "from transformers import GPT2LMHeadModel, GPT2TokenizerFast"
   ]
  },
  {
   "cell_type": "code",
   "execution_count": 2,
   "id": "96f0c8d4",
   "metadata": {},
   "outputs": [],
   "source": [
    "#model_path = \"gpt2-small/checkpoint-trainedtokenizer_10M_whitespace\"\n",
    "#model_path = \"gpt2-small/checkpoint-trainedtokenizer_100M_whitespace\"\n",
    "#model_path = \"gpt3-small/checkpoint-trainedtokenizer_10M_whitespace\"\n",
    "model_path = \"gpt3-small/checkpoint-trainedtokenizer_100M_whitespace\"\n",
    "\n",
    "model = GPT2LMHeadModel.from_pretrained(model_path)\n",
    "tokenizer = GPT2TokenizerFast.from_pretrained(model_path)\n",
    "\n",
    "# wrap with minicons scorer\n",
    "lm_scorer = scorer.IncrementalLMScorer(model_path, device = \"cpu\")"
   ]
  },
  {
   "cell_type": "code",
   "execution_count": 3,
   "id": "2f7fc01c",
   "metadata": {},
   "outputs": [
    {
     "data": {
      "text/plain": [
       "[('I', 0.0),\n",
       " ('know', 4.365269184112549),\n",
       " ('that', 3.4667656421661377),\n",
       " ('your', 9.112505912780762),\n",
       " ('friend', 6.371501922607422),\n",
       " ('gave', 10.674038887023926),\n",
       " ('a', 4.927915096282959),\n",
       " ('baguette', 38.19276142120361),\n",
       " ('to', 5.820535182952881),\n",
       " ('Mary', 13.028478622436523),\n",
       " ('last', 11.46209716796875),\n",
       " ('weekend', 7.374884128570557),\n",
       " ('.', 2.0132205486297607)]"
      ]
     },
     "execution_count": 3,
     "metadata": {},
     "output_type": "execute_result"
    }
   ],
   "source": [
    "def calculate_surprisal(sentence):\n",
    "    '''\n",
    "    Takes in a sentence, and outputs surprisal values for each word.\n",
    "    '''\n",
    "    \n",
    "    input_sentence = sentence\n",
    "    # token_score() function of Minicons takes in several parameters\n",
    "    # if surprisal = True, the output value is surprisal instead of log likelihood\n",
    "    # if base_two = True, the log likelihood will be in base 2\n",
    "    # see Minicons documentations for details\n",
    "    # score tokens\n",
    "    token_surprisals = lm_scorer.token_score(input_sentence, surprisal = True, base_two = True)[0]\n",
    "    #print(token_surprisals)\n",
    "\n",
    "    '''\n",
    "    # filter out special tokens (like <pad>)\n",
    "    special_tokens = set(tokenizer.all_special_tokens + ['<pad>'])\n",
    "    filtered = [\n",
    "        (token, score)\n",
    "        for (token, score) in token_surprisals\n",
    "        if token not in special_tokens\n",
    "    ]\n",
    "    '''\n",
    "\n",
    "   # expand tokens that contain multiple words\n",
    "    expanded = []\n",
    "    for token, score in token_surprisals:\n",
    "    #for token, score in filtered:\n",
    "        token = token.strip('Ġ') # remove space marker\n",
    "        if token.count('Ġ') > 0:\n",
    "            # multiple words inside\n",
    "            words = token.split('Ġ')\n",
    "            words = [word for word in words if word]  # remove empty strings\n",
    "            for i, word in enumerate(words):\n",
    "                expanded_token = word\n",
    "                expanded.append((expanded_token, score / len(words)))  # split surprisal equally\n",
    "        else:\n",
    "            expanded.append((token, score))    \n",
    "    #print(expanded)\n",
    "\n",
    "    # use regex to split into words and punctuation\n",
    "    words = re.findall(r'\\w+|[^\\w\\s]', sentence)\n",
    "    results = []\n",
    "\n",
    "    token_pointer = 0\n",
    "\n",
    "    for word in words:\n",
    "        accumulated = ''\n",
    "        word_surprisal = 0.0\n",
    "\n",
    "        while token_pointer < len(expanded):\n",
    "            token, surprisal = expanded[token_pointer]\n",
    "            accumulated += token\n",
    "            word_surprisal += surprisal\n",
    "            token_pointer += 1\n",
    "\n",
    "            if accumulated == word:\n",
    "                results.append((word, word_surprisal))\n",
    "                break\n",
    "        else:\n",
    "            results.append((word, word_surprisal))\n",
    "\n",
    "    return results\n",
    "\n",
    "\n",
    "sentence = 'I know that your friend gave a baguette to Mary last weekend.'\n",
    "calculate_surprisal(sentence)"
   ]
  },
  {
   "cell_type": "code",
   "execution_count": 4,
   "id": "8edb5f9b",
   "metadata": {},
   "outputs": [],
   "source": [
    "def calculate_sentence_surprisal(word_surprisals):\n",
    "    '''Returns total surprisal and average surprisal per word.'''\n",
    "    \n",
    "    scores = [score for word, score in word_surprisals]\n",
    "    total = sum(scores)\n",
    "    avg = total / len(scores)\n",
    "    return total, avg\n",
    "\n",
    "\"\"\"\n",
    "def sum_region_surprisal(row, region_list):\n",
    "    '''Sums surprisals of a specified sentence region, extracting the relevant part from sentence_surprisals using index information.'''\n",
    "\n",
    "    sentence_surprisals = row['surprisals']\n",
    "    \n",
    "    # retrieve all sentence column(from 'prefix' till 'end')\n",
    "    all_columns = row.index.tolist()  # get the list of column names\n",
    "    prefix_index = all_columns.index('prefix')\n",
    "    eos_index = all_columns.index('end')\n",
    "    \n",
    "    # reconstruct the full sentence from 'prefix' to 'end' (exclude NaN values)\n",
    "    full_sentence = ' '.join([str(row[col]) if pd.notna(row.get(col)) else '' for col in all_columns[prefix_index:eos_index + 1]])\n",
    "    \n",
    "    # use regex to split the full sentence into words & punctuation\n",
    "    sentence_units = re.findall(r'\\w+|[^\\w\\s]', full_sentence)\n",
    "    \n",
    "    # get the start and end indices for the region_list within the full sentence\n",
    "    first_region_column = region_list[0]\n",
    "    first_region_start_index = all_columns.index(first_region_column)\n",
    "    \n",
    "    last_region_column = region_list[-1]\n",
    "    last_region_end_index = all_columns.index(last_region_column)\n",
    "    \n",
    "    # extract the relevant slice of sentence_surprisals that corresponds to the region_list\n",
    "    # calculate the starting and ending index for the region_list part\n",
    "    start_index = sum([\n",
    "        len(re.findall(r'\\w+|[^\\w\\s]', str(row[col]))) for col in all_columns[prefix_index:first_region_start_index]\n",
    "        if pd.notna(row[col]) \n",
    "    ])\n",
    "    end_index = sum([\n",
    "        len(re.findall(r'\\w+|[^\\w\\s]', str(row[col]))) for col in all_columns[prefix_index:last_region_end_index + 1]\n",
    "        if pd.notna(row[col]) \n",
    "    ])\n",
    "\n",
    "    # extract the slice of sentence_surprisals corresponding to the region_list part\n",
    "    relevant_surprisals = sentence_surprisals[start_index:end_index]\n",
    "    region_surprisal = sum([score for token, score in relevant_surprisals])\n",
    "    \n",
    "    return region_surprisal\n",
    "\"\"\"\n",
    "\n",
    "def sum_region_surprisal(row, region_list, priority_region = None, normalize = False):\n",
    "    '''Sums surprisals of a specified sentence region with optional priority region handling.'''\n",
    "\n",
    "    sentence_surprisals = row['surprisals']\n",
    "    \n",
    "    # retrieve all sentence column(from 'prefix' till 'end')\n",
    "    all_columns = row.index.tolist()  # get the list of column names\n",
    "    prefix_index = all_columns.index('prefix')\n",
    "    eos_index = all_columns.index('end')\n",
    "    \n",
    "    # reconstruct the full sentence from 'prefix' to 'end' (exclude NaN values)\n",
    "    full_sentence = ' '.join([str(row[col]) if pd.notna(row.get(col)) else '' for col in all_columns[prefix_index:eos_index + 1]])\n",
    "    \n",
    "    # use regex to split the full sentence into words & punctuation\n",
    "    sentence_units = re.findall(r'\\w+|[^\\w\\s]', full_sentence)\n",
    "    \n",
    "    if priority_region:\n",
    "        # check if priority_region has non-zero surprisal\n",
    "        if pd.notna(row[priority_region]):\n",
    "            # extract text for the priority_region\n",
    "            priority_region_index = all_columns.index(priority_region)\n",
    "            \n",
    "            start_index = sum([\n",
    "                len(re.findall(r'\\w+|[^\\w\\s]', str(row[col]))) for col in all_columns[prefix_index:priority_region_index]\n",
    "                if pd.notna(row[col]) \n",
    "            ])\n",
    "            end_index = sum([\n",
    "                len(re.findall(r'\\w+|[^\\w\\s]', str(row[col]))) for col in all_columns[prefix_index:priority_region_index + 1]\n",
    "                if pd.notna(row[col]) \n",
    "            ])\n",
    "            \n",
    "            # calculate the surprisal for the priority region\n",
    "            relevant_surprisals = sentence_surprisals[start_index:end_index]\n",
    "            priority_surprisal = sum([score for token, score in relevant_surprisals])\n",
    "    \n",
    "            # return priority region's surprisal score if it is non-zero\n",
    "            if priority_surprisal != 0:\n",
    "                return priority_surprisal\n",
    "    \n",
    "    # if priority region is not provided or its surprisal is zero, calculate sum of region_list surprisals\n",
    "\n",
    "    # get the start and end indices for the region_list within the full sentence\n",
    "    first_region_column = region_list[0]\n",
    "    first_region_start_index = all_columns.index(first_region_column)\n",
    "    \n",
    "    last_region_column = region_list[-1]\n",
    "    last_region_end_index = all_columns.index(last_region_column)\n",
    "    \n",
    "    # extract the relevant slice of sentence_surprisals that corresponds to the region_list\n",
    "    # calculate the starting and ending index for the region_list part\n",
    "    start_index = sum([\n",
    "        len(re.findall(r'\\w+|[^\\w\\s]', str(row[col]))) for col in all_columns[prefix_index:first_region_start_index]\n",
    "        if pd.notna(row[col]) \n",
    "    ])\n",
    "    end_index = sum([\n",
    "        len(re.findall(r'\\w+|[^\\w\\s]', str(row[col]))) for col in all_columns[prefix_index:last_region_end_index + 1]\n",
    "        if pd.notna(row[col]) \n",
    "    ])\n",
    "\n",
    "    # extract the slice of sentence_surprisals corresponding to the region_list part\n",
    "    relevant_surprisals = sentence_surprisals[start_index:end_index]\n",
    "    region_surprisal = sum([score for token, score in relevant_surprisals])\n",
    "    \n",
    "    if normalize == False:\n",
    "        return region_surprisal\n",
    "    elif normalize == True:\n",
    "        return region_surprisal / len(sentence_units)"
   ]
  },
  {
   "cell_type": "code",
   "execution_count": 132,
   "id": "4e2f50f3",
   "metadata": {},
   "outputs": [],
   "source": [
    "def split_ends(ends):\n",
    "    '''Splits off sentence-final punctuation.'''\n",
    "    \n",
    "    match = re.match(r'^(.*?)([.!?])$', ends.strip())\n",
    "    if match:\n",
    "        return pd.Series([match.group(1), match.group(2)])\n",
    "    else:\n",
    "        return pd.Series([ends, ''])  # no end punctuation\n",
    "    \n",
    "def encode_wh_licensor(df):\n",
    "    '''\n",
    "    Adds a numeric column to the DataFrame:\n",
    "    - 1 if licensor is a wh-licensor\n",
    "    - -1 otherwise (licensor is \"that\" or absent)\n",
    "    '''\n",
    "    df['wh_numeric'] = df['filler'].apply(lambda x: 1 if x > 0 else -1)\n",
    "    return df\n",
    "    \n",
    "def merge_sentence(row, syntactic_parts):\n",
    "    '''Merges sentence columns back into full sentence.'''\n",
    "    \n",
    "    parts = [row[part] for part in syntactic_parts]         \n",
    "    # filter out NaN or empty parts\n",
    "    non_empty_parts = [str(part).strip() for part in parts if pd.notna(part) and str(part).strip() != '']\n",
    "    # join with spaces and add end punctuation\n",
    "    sentence = ' '.join(non_empty_parts) + (row['end'] if pd.notna(row['end']) else '')\n",
    "    return sentence\n",
    "\n",
    "def assign_grammaticality(row):\n",
    "    ''' Determines grammaticality based on licensor and gap values.'''\n",
    "    if row['filler'] > 0 and row['gap'] == 1:\n",
    "        return 'gram+'\n",
    "        #return 1\n",
    "    elif row['filler'] == 0 and row['gap'] == 0:\n",
    "        return 'gram+'\n",
    "        #return 1\n",
    "    elif row['filler'] > 0 and row['gap'] == 0:\n",
    "        return 'gram-'\n",
    "        #return 0\n",
    "    elif row['filler'] == 0 and row['gap'] == 1:\n",
    "        return 'gram-'\n",
    "        #return 0"
   ]
  },
  {
   "cell_type": "markdown",
   "id": "23b98dd7",
   "metadata": {},
   "source": [
    "#### Statistical Analysis: Mixed-Effects Linear Regression Model"
   ]
  },
  {
   "cell_type": "code",
   "execution_count": 6,
   "id": "94c04c24",
   "metadata": {},
   "outputs": [],
   "source": [
    "from IPython.display import display\n",
    "import warnings\n",
    "from statsmodels.tools.sm_exceptions import ConvergenceWarning\n",
    "\n",
    "def print_summary(result):\n",
    "    '''\n",
    "    Prints the descriptive header from a statsmodels MixedLMResults summary,\n",
    "    and displays both the fixed-effects and random-effects components as pandas DataFrames.\n",
    "    '''\n",
    "    with warnings.catch_warnings():\n",
    "        warnings.simplefilter(\"ignore\", ConvergenceWarning)\n",
    "        \n",
    "        summary_str = str(result.summary())\n",
    "        lines = summary_str.split('\\n')\n",
    "\n",
    "        # PART 1: HEADER\n",
    "        print(\"\\n=== MODEL SUMMARY ===\")\n",
    "        for line in lines:\n",
    "            if 'Coef.' in line:\n",
    "                break  # stop when reaching the coefficient table\n",
    "            pairs = re.findall(r'(\\S[^:]*):\\s+([^\\s][^:]*?)(?=\\s{2,}|$)', line)\n",
    "            for key, value in pairs:\n",
    "                print(f\"{key.strip()}: {value.strip()}\")\n",
    "\n",
    "        # PART 2a: FIXED EFFECTS TABLE\n",
    "        fixed_table = []\n",
    "        in_fixed_table = False\n",
    "        random_start_idx = None\n",
    "\n",
    "        for i, line in enumerate(lines):\n",
    "            if 'Coef.' in line:\n",
    "                in_fixed_table = True\n",
    "                continue\n",
    "            if in_fixed_table:\n",
    "                if not line.strip() or set(line.strip()) in [{'='}, {'-'}]:\n",
    "                    continue  # skip empty/separator lines\n",
    "                parts = line.strip().split()\n",
    "                if len(parts) >= 7:\n",
    "                    param = parts[0]\n",
    "                    row = parts[1:7]\n",
    "                    fixed_table.append([param] + row)\n",
    "                else:\n",
    "                    random_start_idx = i\n",
    "                    break\n",
    "\n",
    "        if fixed_table:\n",
    "            df_fixed = pd.DataFrame(fixed_table, columns = [\n",
    "                'Parameter', 'Coef.', 'Std.Err.', 'z', 'P>|z|', '[0.025', '0.975]'\n",
    "            ])\n",
    "            print(\"\\n=== FIXED EFFECTS COEFFICIENTS ===\")\n",
    "            display(df_fixed)\n",
    "        else:\n",
    "            print(\"\\nNo fixed-effects data found.\")\n",
    "\n",
    "        # PART 2b: RANDOM EFFECTS / VARIANCE COMPONENTS TABLE\n",
    "        random_table = []\n",
    "        if random_start_idx:\n",
    "            for line in lines[random_start_idx:]:\n",
    "                if not line.strip() or set(line.strip()) in [{'='}, {'-'}]:\n",
    "                    continue\n",
    "                parts = line.strip().split()\n",
    "                # Look for last token ending in Var or Cov\n",
    "                varcov_idx = None\n",
    "                for j in reversed(range(len(parts))):\n",
    "                    if parts[j].endswith('Var') or parts[j].endswith('Cov'):\n",
    "                        varcov_idx = j\n",
    "                        break\n",
    "                if varcov_idx is not None:\n",
    "                    param = ' '.join(parts[:varcov_idx + 1])\n",
    "                    numeric_parts = parts[varcov_idx + 1:]\n",
    "                    if len(numeric_parts) == 2:\n",
    "                        val1, val2 = numeric_parts\n",
    "                    elif len(numeric_parts) == 1:\n",
    "                        val1, val2 = numeric_parts[0], ''\n",
    "                    else:\n",
    "                        val1, val2 = '', ''\n",
    "                    random_table.append([param, val1, val2])\n",
    "\n",
    "        if random_table:\n",
    "            df_random = pd.DataFrame(random_table, columns = ['Parameter', 'Coef.', 'Std.Err.'])\n",
    "            print(\"\\n=== RANDOM EFFECTS / VARIANCE-COVARIANCE ===\")\n",
    "            display(df_random)\n",
    "        else:\n",
    "            print(\"\\nNo random-effects data found.\")\n"
   ]
  },
  {
   "cell_type": "code",
   "execution_count": 7,
   "id": "3ddfdf0b",
   "metadata": {},
   "outputs": [],
   "source": [
    "# columns: item_id (indicates sentence set), wh_licensor (0/1), gap (0/1), island_type, surprisal\n",
    "\n",
    "warnings.simplefilter(\"ignore\", ConvergenceWarning)\n",
    "\n",
    "def mixed_effects_linear_regression(df, iv_list, surprisal, label):\n",
    "    '''\n",
    "    Fits mixed-effects model and extracts wh-licensing interaction.\n",
    "    '''\n",
    "        \n",
    "    for field in iv_list:\n",
    "        if field == 'wh_numeric' or 'gap_numeric' or 'gap_distance_length':\n",
    "            pass\n",
    "        else:\n",
    "            df[field] = df[field].astype('category')\n",
    "\n",
    "    interaction_terms = ' * '.join(iv_list)\n",
    "    random_effects = ' + '.join(iv_list)\n",
    "\n",
    "    model = smf.mixedlm(\n",
    "        f\"{surprisal} ~ {interaction_terms}\",\n",
    "        df,\n",
    "        groups = df[\"item_id\"],\n",
    "        #re_formula = f\"~{random_effects}\"\n",
    "        re_formula = \"1\"\n",
    "        )\n",
    "\n",
    "    result = model.fit()\n",
    "    #interaction_coef = result.params.get('wh_licensor[T.1]:gap[T.1]', None)\n",
    "\n",
    "    print(f\"\\n=== {label.upper()} ===\")\n",
    "    #print(result.summary())\n",
    "    print_summary(result)\n",
    "\n",
    "    return result\n",
    "\n",
    "#interaction = mixed_effects_linear_regression(df, \"construction_type\") # label name to be changed according to construction type"
   ]
  },
  {
   "cell_type": "markdown",
   "id": "246f9eca",
   "metadata": {},
   "source": [
    "#### Gap Position"
   ]
  },
  {
   "cell_type": "code",
   "execution_count": null,
   "id": "d24dcc7d",
   "metadata": {},
   "outputs": [],
   "source": [
    "sentence_df = pd.read_csv('test_sentences/Gap Position.csv')"
   ]
  },
  {
   "cell_type": "code",
   "execution_count": null,
   "id": "a77cb9ea",
   "metadata": {},
   "outputs": [],
   "source": [
    "sentence_df = encode_wh_licensor(sentence_df)\n",
    "sentence_df['gap_numeric'] = sentence_df['gap'].replace(0, -1)\n",
    "sentence_df['sentence'] = sentence_df.apply(merge_sentence, axis = 1)\n",
    "sentence_df['surprisals'] = sentence_df['sentence'].apply(calculate_surprisal)\n",
    "sentence_df['grammaticality'] = sentence_df.apply(assign_grammaticality, axis = 1)"
   ]
  },
  {
   "cell_type": "markdown",
   "id": "161a22d3",
   "metadata": {},
   "source": [
    "Subject Position"
   ]
  },
  {
   "cell_type": "code",
   "execution_count": null,
   "id": "72766b3b",
   "metadata": {},
   "outputs": [],
   "source": [
    "subject_df = sentence_df.copy()"
   ]
  },
  {
   "cell_type": "code",
   "execution_count": null,
   "id": "af41bf5d",
   "metadata": {},
   "outputs": [],
   "source": [
    "subject_df['region_surprisal'] = subject_df.apply(lambda x: sum_region_surprisal(x, ['verb']), axis = 1)\n",
    "subject_df"
   ]
  },
  {
   "cell_type": "code",
   "execution_count": null,
   "id": "92323a3b",
   "metadata": {},
   "outputs": [],
   "source": [
    "# filter for subject gap\n",
    "subject_df = subject_df[subject_df['gap_position'] == 'subject']"
   ]
  },
  {
   "cell_type": "code",
   "execution_count": null,
   "id": "a4c47243",
   "metadata": {},
   "outputs": [],
   "source": [
    "# flip test: gap-\n",
    "no_gap_df = subject_df[subject_df['gap_numeric'] == -1]\n",
    "iv_list = ['wh_numeric']\n",
    "mixed_effects_linear_regression(no_gap_df, iv_list, 'region_surprisal', 'subject gap position: gap-')"
   ]
  },
  {
   "cell_type": "code",
   "execution_count": null,
   "id": "2a507365",
   "metadata": {},
   "outputs": [],
   "source": [
    "# flip test: gap+\n",
    "gap_df = subject_df[subject_df['gap_numeric'] == 1]\n",
    "iv_list = ['wh_numeric']\n",
    "mixed_effects_linear_regression(gap_df, iv_list, 'region_surprisal', 'subject gap position: gap+')"
   ]
  },
  {
   "cell_type": "code",
   "execution_count": null,
   "id": "fb51efbe",
   "metadata": {},
   "outputs": [],
   "source": [
    "# division by grammaticality\n",
    "iv_list = ['grammticality']\n",
    "mixed_effects_linear_regression(subject_df, iv_list, 'region_surprisal', 'subject gap position: division by grammaticality')"
   ]
  },
  {
   "cell_type": "markdown",
   "id": "58dac7cd",
   "metadata": {},
   "source": [
    "Object Position"
   ]
  },
  {
   "cell_type": "code",
   "execution_count": null,
   "id": "7c404425",
   "metadata": {},
   "outputs": [],
   "source": [
    "object_df = sentence_df.copy()"
   ]
  },
  {
   "cell_type": "code",
   "execution_count": null,
   "id": "9170df35",
   "metadata": {},
   "outputs": [],
   "source": [
    "object_df['region_surprisal'] = object_df.apply(lambda x: sum_region_surprisal(x, ['prep']), axis = 1)\n",
    "object_df"
   ]
  },
  {
   "cell_type": "code",
   "execution_count": null,
   "id": "cb3512bf",
   "metadata": {},
   "outputs": [],
   "source": [
    "# filter for object gap\n",
    "object_df = object_df[object_df['gap_position'] == 'object']"
   ]
  },
  {
   "cell_type": "code",
   "execution_count": null,
   "id": "104fae11",
   "metadata": {},
   "outputs": [],
   "source": [
    "# flip test: gap-\n",
    "no_gap_df = object_df[object_df['gap_numeric'] == -1]\n",
    "iv_list = ['wh_numeric']\n",
    "mixed_effects_linear_regression(no_gap_df, iv_list, 'region_surprisal', 'object gap position: gap-')"
   ]
  },
  {
   "cell_type": "code",
   "execution_count": null,
   "id": "f34f50fb",
   "metadata": {},
   "outputs": [],
   "source": [
    "# flip test: gap+\n",
    "gap_df = object_df[object_df['gap_numeric'] == 1]\n",
    "iv_list = ['wh_numeric']\n",
    "mixed_effects_linear_regression(gap_df, iv_list, 'region_surprisal', 'object gap position: gap+')"
   ]
  },
  {
   "cell_type": "code",
   "execution_count": null,
   "id": "7c039470",
   "metadata": {},
   "outputs": [],
   "source": [
    "# division by grammaticality\n",
    "iv_list = ['grammticality']\n",
    "mixed_effects_linear_regression(object_df, iv_list, 'region_surprisal', 'object gap position: division by grammaticality')"
   ]
  },
  {
   "cell_type": "markdown",
   "id": "e83d6ccb",
   "metadata": {},
   "source": [
    "PP/Goal Position"
   ]
  },
  {
   "cell_type": "code",
   "execution_count": null,
   "id": "994d0db2",
   "metadata": {},
   "outputs": [],
   "source": [
    "pp_df = sentence_df.copy()"
   ]
  },
  {
   "cell_type": "code",
   "execution_count": null,
   "id": "d75759a5",
   "metadata": {},
   "outputs": [],
   "source": [
    "pp_df['region_surprisal'] = pp_df.apply(lambda x: sum_region_surprisal(x, ['end']), axis = 1)\n",
    "pp_df"
   ]
  },
  {
   "cell_type": "code",
   "execution_count": null,
   "id": "b5dd507a",
   "metadata": {},
   "outputs": [],
   "source": [
    "# filter for pp gap\n",
    "pp_df = pp_df[pp_df['gap_position'] == 'PP']"
   ]
  },
  {
   "cell_type": "code",
   "execution_count": null,
   "id": "65f9fb13",
   "metadata": {},
   "outputs": [],
   "source": [
    "# flip test: gap-\n",
    "no_gap_df = pp_df[pp_df['gap_numeric'] == -1]\n",
    "iv_list = ['wh_numeric']\n",
    "mixed_effects_linear_regression(no_gap_df, iv_list, 'region_surprisal', 'pp gap position: gap-')"
   ]
  },
  {
   "cell_type": "code",
   "execution_count": null,
   "id": "24512b5f",
   "metadata": {},
   "outputs": [],
   "source": [
    "# flip test: gap+\n",
    "gap_df = pp_df[pp_df['gap_numeric'] == 1]\n",
    "iv_list = ['wh_numeric']\n",
    "mixed_effects_linear_regression(gap_df, iv_list, 'region_surprisal', 'pp gap position: gap+'')"
   ]
  },
  {
   "cell_type": "code",
   "execution_count": null,
   "id": "b949eeb3",
   "metadata": {},
   "outputs": [],
   "source": [
    "# division by grammaticality\n",
    "iv_list = ['grammticality']\n",
    "mixed_effects_linear_regression(pp_df, iv_list, 'region_surprisal', 'pp gap position: division by grammaticality')"
   ]
  },
  {
   "cell_type": "markdown",
   "id": "fc00131e",
   "metadata": {},
   "source": [
    "Embedded Clause"
   ]
  },
  {
   "cell_type": "code",
   "execution_count": null,
   "id": "11cae119",
   "metadata": {},
   "outputs": [],
   "source": [
    "embed = ['apositive', 'NP1', 'verb', 'NP2', 'prep', 'NP3', 'end']\n",
    "sentence_df['embed_surprisal'] = sentence_df.apply(lambda x: sum_region_surprisal(x, embed, normalize = True), axis = 1)\n",
    "sentence_df"
   ]
  },
  {
   "cell_type": "code",
   "execution_count": null,
   "id": "d61e5b94",
   "metadata": {},
   "outputs": [],
   "source": [
    "# flip test: gap-\n",
    "no_gap_df = sentence_df[sentence_df['gap_numeric'] == -1]\n",
    "iv_list = ['wh_numeric']\n",
    "mixed_effects_linear_regression(no_gap_df, iv_list, 'embed_surprisal', 'gap position embedded clause: gap-')"
   ]
  },
  {
   "cell_type": "code",
   "execution_count": null,
   "id": "c9db886a",
   "metadata": {},
   "outputs": [],
   "source": [
    "# flip test: gap+\n",
    "gap_df = sentence_df[sentence_df['gap_numeric'] == 1]\n",
    "iv_list = ['wh_numeric']\n",
    "mixed_effects_linear_regression(gap_df, iv_list, 'embed_surprisal', 'gap position embedded clause: gap+')"
   ]
  },
  {
   "cell_type": "code",
   "execution_count": null,
   "id": "2507c49a",
   "metadata": {},
   "outputs": [],
   "source": [
    "# division by grammaticality\n",
    "iv_list = ['grammaticality']\n",
    "mixed_effects_linear_regression(sentence_df, iv_list, 'embed_surprisal', 'gap position embedded clause: division by grammaticality')"
   ]
  },
  {
   "cell_type": "markdown",
   "id": "8fee4669",
   "metadata": {},
   "source": [
    "#### Gap Distance - Categorical/Continuous"
   ]
  },
  {
   "cell_type": "code",
   "execution_count": 70,
   "id": "92540bbb",
   "metadata": {},
   "outputs": [],
   "source": [
    "sentence_df = pd.read_csv('test_sentences/Gap Distance.csv')\n",
    "sentence_df['gap_distance'] = sentence_df['gap_distance'].fillna('null')\n",
    "#sentence_df['gap_distance'].dropna(inplace = True)\n",
    "#sentence_df = sentence_df[sentence_df['gap_distance'].replace(['nan', 'NaN'], np.nan).notna()]"
   ]
  },
  {
   "cell_type": "code",
   "execution_count": 71,
   "id": "c191e58e",
   "metadata": {},
   "outputs": [],
   "source": [
    "sentence_df[['temp_mod', 'end']] = sentence_df['temp_mod'].apply(split_ends)\n",
    "sentence_df = encode_wh_licensor(sentence_df)\n",
    "sentence_df['gap_numeric'] = sentence_df['gap'].replace(0, -1)\n",
    "syntactic_parts = ['prefix', 'licensor', 'subj', 'modifier', 'verb', 'object', 'prep', 'goal', 'temp_mod']\n",
    "sentence_df['sentence'] = sentence_df.apply(lambda x: merge_sentence(x, syntactic_parts), axis = 1)\n",
    "sentence_df['surprisals'] = sentence_df['sentence'].apply(calculate_surprisal)\n",
    "sentence_df['gap_distance_length'] = sentence_df['modifier'].apply(lambda x: len(x) if pd.notna(x) else 0)\n",
    "sentence_df['grammaticality'] = sentence_df.apply(assign_grammaticality, axis = 1)"
   ]
  },
  {
   "cell_type": "markdown",
   "id": "0e7be216",
   "metadata": {},
   "source": [
    "Gap Position == Object"
   ]
  },
  {
   "cell_type": "code",
   "execution_count": null,
   "id": "c73282f4",
   "metadata": {},
   "outputs": [],
   "source": [
    "# modifier: short_mod, med_mod, long_mod"
   ]
  },
  {
   "cell_type": "code",
   "execution_count": 72,
   "id": "ea6dce35",
   "metadata": {},
   "outputs": [],
   "source": [
    "object_df = sentence_df.copy()\n",
    "#object_df['region_surprisal'] = object_df.apply(lambda x: sum_region_surprisal(x, ['prep', 'goal']), axis = 1)\n",
    "object_df['region_surprisal'] = object_df.apply(lambda x: sum_region_surprisal(x, ['prep', 'goal'], 'object'), axis = 1)\n",
    "\n",
    "# filter for object gap\n",
    "objectgap_df = object_df[object_df['gap_position'] == 'DO']"
   ]
  },
  {
   "cell_type": "code",
   "execution_count": 73,
   "id": "ee659db0",
   "metadata": {},
   "outputs": [
    {
     "name": "stdout",
     "output_type": "stream",
     "text": [
      "\n",
      "=== OBJECT GAP POSITION: GAP- ===\n",
      "\n",
      "=== MODEL SUMMARY ===\n",
      ":            MixedLM Dependent Variable: region_surprisal\n",
      "No. Observations: 160\n",
      "Method: REML\n",
      "No. Groups: 20\n",
      "Scale: 1.9033\n",
      "Min. group size: 8\n",
      "Log-Likelihood: -324.3658\n",
      "Max. group size: 8\n",
      "Converged: Yes\n",
      "Mean group size: 8.0\n",
      "\n",
      "=== FIXED EFFECTS COEFFICIENTS ===\n"
     ]
    },
    {
     "data": {
      "text/html": [
       "<div>\n",
       "<style scoped>\n",
       "    .dataframe tbody tr th:only-of-type {\n",
       "        vertical-align: middle;\n",
       "    }\n",
       "\n",
       "    .dataframe tbody tr th {\n",
       "        vertical-align: top;\n",
       "    }\n",
       "\n",
       "    .dataframe thead th {\n",
       "        text-align: right;\n",
       "    }\n",
       "</style>\n",
       "<table border=\"1\" class=\"dataframe\">\n",
       "  <thead>\n",
       "    <tr style=\"text-align: right;\">\n",
       "      <th></th>\n",
       "      <th>Parameter</th>\n",
       "      <th>Coef.</th>\n",
       "      <th>Std.Err.</th>\n",
       "      <th>z</th>\n",
       "      <th>P&gt;|z|</th>\n",
       "      <th>[0.025</th>\n",
       "      <th>0.975]</th>\n",
       "    </tr>\n",
       "  </thead>\n",
       "  <tbody>\n",
       "    <tr>\n",
       "      <th>0</th>\n",
       "      <td>Intercept</td>\n",
       "      <td>24.989</td>\n",
       "      <td>1.120</td>\n",
       "      <td>22.309</td>\n",
       "      <td>0.000</td>\n",
       "      <td>22.794</td>\n",
       "      <td>27.185</td>\n",
       "    </tr>\n",
       "    <tr>\n",
       "      <th>1</th>\n",
       "      <td>wh_numeric</td>\n",
       "      <td>0.497</td>\n",
       "      <td>0.109</td>\n",
       "      <td>4.561</td>\n",
       "      <td>0.000</td>\n",
       "      <td>0.284</td>\n",
       "      <td>0.711</td>\n",
       "    </tr>\n",
       "  </tbody>\n",
       "</table>\n",
       "</div>"
      ],
      "text/plain": [
       "    Parameter   Coef. Std.Err.       z  P>|z|  [0.025  0.975]\n",
       "0   Intercept  24.989    1.120  22.309  0.000  22.794  27.185\n",
       "1  wh_numeric   0.497    0.109   4.561  0.000   0.284   0.711"
      ]
     },
     "metadata": {},
     "output_type": "display_data"
    },
    {
     "name": "stdout",
     "output_type": "stream",
     "text": [
      "\n",
      "=== RANDOM EFFECTS / VARIANCE-COVARIANCE ===\n"
     ]
    },
    {
     "data": {
      "text/html": [
       "<div>\n",
       "<style scoped>\n",
       "    .dataframe tbody tr th:only-of-type {\n",
       "        vertical-align: middle;\n",
       "    }\n",
       "\n",
       "    .dataframe tbody tr th {\n",
       "        vertical-align: top;\n",
       "    }\n",
       "\n",
       "    .dataframe thead th {\n",
       "        text-align: right;\n",
       "    }\n",
       "</style>\n",
       "<table border=\"1\" class=\"dataframe\">\n",
       "  <thead>\n",
       "    <tr style=\"text-align: right;\">\n",
       "      <th></th>\n",
       "      <th>Parameter</th>\n",
       "      <th>Coef.</th>\n",
       "      <th>Std.Err.</th>\n",
       "    </tr>\n",
       "  </thead>\n",
       "  <tbody>\n",
       "    <tr>\n",
       "      <th>0</th>\n",
       "      <td>Group Var</td>\n",
       "      <td>24.856</td>\n",
       "      <td>6.291</td>\n",
       "    </tr>\n",
       "  </tbody>\n",
       "</table>\n",
       "</div>"
      ],
      "text/plain": [
       "   Parameter   Coef. Std.Err.\n",
       "0  Group Var  24.856    6.291"
      ]
     },
     "metadata": {},
     "output_type": "display_data"
    },
    {
     "data": {
      "text/plain": [
       "<statsmodels.regression.mixed_linear_model.MixedLMResultsWrapper at 0x14a453821700>"
      ]
     },
     "execution_count": 73,
     "metadata": {},
     "output_type": "execute_result"
    }
   ],
   "source": [
    "# flip test: gap-\n",
    "no_gap_df = objectgap_df[objectgap_df['gap_numeric'] == -1]\n",
    "iv_list = ['wh_numeric']\n",
    "mixed_effects_linear_regression(no_gap_df, iv_list, 'region_surprisal', 'object gap position: gap-')"
   ]
  },
  {
   "cell_type": "code",
   "execution_count": 74,
   "id": "8950619d",
   "metadata": {},
   "outputs": [
    {
     "name": "stdout",
     "output_type": "stream",
     "text": [
      "\n",
      "=== OBJECT GAP POSITION: GAP+ ===\n",
      "\n",
      "=== MODEL SUMMARY ===\n",
      ":            MixedLM Dependent Variable: region_surprisal\n",
      "No. Observations: 160\n",
      "Method: REML\n",
      "No. Groups: 20\n",
      "Scale: 1.6489\n",
      "Min. group size: 8\n",
      "Log-Likelihood: -320.9589\n",
      "Max. group size: 8\n",
      "Converged: Yes\n",
      "Mean group size: 8.0\n",
      "\n",
      "=== FIXED EFFECTS COEFFICIENTS ===\n"
     ]
    },
    {
     "data": {
      "text/html": [
       "<div>\n",
       "<style scoped>\n",
       "    .dataframe tbody tr th:only-of-type {\n",
       "        vertical-align: middle;\n",
       "    }\n",
       "\n",
       "    .dataframe tbody tr th {\n",
       "        vertical-align: top;\n",
       "    }\n",
       "\n",
       "    .dataframe thead th {\n",
       "        text-align: right;\n",
       "    }\n",
       "</style>\n",
       "<table border=\"1\" class=\"dataframe\">\n",
       "  <thead>\n",
       "    <tr style=\"text-align: right;\">\n",
       "      <th></th>\n",
       "      <th>Parameter</th>\n",
       "      <th>Coef.</th>\n",
       "      <th>Std.Err.</th>\n",
       "      <th>z</th>\n",
       "      <th>P&gt;|z|</th>\n",
       "      <th>[0.025</th>\n",
       "      <th>0.975]</th>\n",
       "    </tr>\n",
       "  </thead>\n",
       "  <tbody>\n",
       "    <tr>\n",
       "      <th>0</th>\n",
       "      <td>Intercept</td>\n",
       "      <td>20.386</td>\n",
       "      <td>1.582</td>\n",
       "      <td>12.884</td>\n",
       "      <td>0.000</td>\n",
       "      <td>17.285</td>\n",
       "      <td>23.487</td>\n",
       "    </tr>\n",
       "    <tr>\n",
       "      <th>1</th>\n",
       "      <td>wh_numeric</td>\n",
       "      <td>0.148</td>\n",
       "      <td>0.102</td>\n",
       "      <td>1.461</td>\n",
       "      <td>0.144</td>\n",
       "      <td>-0.051</td>\n",
       "      <td>0.347</td>\n",
       "    </tr>\n",
       "  </tbody>\n",
       "</table>\n",
       "</div>"
      ],
      "text/plain": [
       "    Parameter   Coef. Std.Err.       z  P>|z|  [0.025  0.975]\n",
       "0   Intercept  20.386    1.582  12.884  0.000  17.285  23.487\n",
       "1  wh_numeric   0.148    0.102   1.461  0.144  -0.051   0.347"
      ]
     },
     "metadata": {},
     "output_type": "display_data"
    },
    {
     "name": "stdout",
     "output_type": "stream",
     "text": [
      "\n",
      "=== RANDOM EFFECTS / VARIANCE-COVARIANCE ===\n"
     ]
    },
    {
     "data": {
      "text/html": [
       "<div>\n",
       "<style scoped>\n",
       "    .dataframe tbody tr th:only-of-type {\n",
       "        vertical-align: middle;\n",
       "    }\n",
       "\n",
       "    .dataframe tbody tr th {\n",
       "        vertical-align: top;\n",
       "    }\n",
       "\n",
       "    .dataframe thead th {\n",
       "        text-align: right;\n",
       "    }\n",
       "</style>\n",
       "<table border=\"1\" class=\"dataframe\">\n",
       "  <thead>\n",
       "    <tr style=\"text-align: right;\">\n",
       "      <th></th>\n",
       "      <th>Parameter</th>\n",
       "      <th>Coef.</th>\n",
       "      <th>Std.Err.</th>\n",
       "    </tr>\n",
       "  </thead>\n",
       "  <tbody>\n",
       "    <tr>\n",
       "      <th>0</th>\n",
       "      <td>Group Var</td>\n",
       "      <td>49.866</td>\n",
       "      <td>13.486</td>\n",
       "    </tr>\n",
       "  </tbody>\n",
       "</table>\n",
       "</div>"
      ],
      "text/plain": [
       "   Parameter   Coef. Std.Err.\n",
       "0  Group Var  49.866   13.486"
      ]
     },
     "metadata": {},
     "output_type": "display_data"
    },
    {
     "data": {
      "text/plain": [
       "<statsmodels.regression.mixed_linear_model.MixedLMResultsWrapper at 0x14a45381f520>"
      ]
     },
     "execution_count": 74,
     "metadata": {},
     "output_type": "execute_result"
    }
   ],
   "source": [
    "# flip test: gap+\n",
    "gap_df = objectgap_df[objectgap_df['gap_numeric'] == 1]\n",
    "iv_list = ['wh_numeric']\n",
    "mixed_effects_linear_regression(gap_df, iv_list, 'region_surprisal', 'object gap position: gap+')"
   ]
  },
  {
   "cell_type": "code",
   "execution_count": 75,
   "id": "e52937a2",
   "metadata": {},
   "outputs": [
    {
     "name": "stdout",
     "output_type": "stream",
     "text": [
      "\n",
      "=== OBJECT GAP POSITION: DIVISION BY GRAMMATICALITY ===\n",
      "\n",
      "=== MODEL SUMMARY ===\n",
      "Model: MixedLM\n",
      "Dependent Variable: region_surprisal\n",
      "No. Observations: 320\n",
      "Method: REML\n",
      "No. Groups: 20\n",
      "Scale: 28.8494\n",
      "Min. group size: 16\n",
      "Log-Likelihood: -1011.9162\n",
      "Max. group size: 16\n",
      "Converged: Yes\n",
      "Mean group size: 16.0\n",
      "\n",
      "=== FIXED EFFECTS COEFFICIENTS ===\n"
     ]
    },
    {
     "data": {
      "text/html": [
       "<div>\n",
       "<style scoped>\n",
       "    .dataframe tbody tr th:only-of-type {\n",
       "        vertical-align: middle;\n",
       "    }\n",
       "\n",
       "    .dataframe tbody tr th {\n",
       "        vertical-align: top;\n",
       "    }\n",
       "\n",
       "    .dataframe thead th {\n",
       "        text-align: right;\n",
       "    }\n",
       "</style>\n",
       "<table border=\"1\" class=\"dataframe\">\n",
       "  <thead>\n",
       "    <tr style=\"text-align: right;\">\n",
       "      <th></th>\n",
       "      <th>Parameter</th>\n",
       "      <th>Coef.</th>\n",
       "      <th>Std.Err.</th>\n",
       "      <th>z</th>\n",
       "      <th>P&gt;|z|</th>\n",
       "      <th>[0.025</th>\n",
       "      <th>0.975]</th>\n",
       "    </tr>\n",
       "  </thead>\n",
       "  <tbody>\n",
       "    <tr>\n",
       "      <th>0</th>\n",
       "      <td>Intercept</td>\n",
       "      <td>22.513</td>\n",
       "      <td>0.957</td>\n",
       "      <td>23.517</td>\n",
       "      <td>0.000</td>\n",
       "      <td>20.637</td>\n",
       "      <td>24.389</td>\n",
       "    </tr>\n",
       "    <tr>\n",
       "      <th>1</th>\n",
       "      <td>grammaticality[T.gram-]</td>\n",
       "      <td>0.349</td>\n",
       "      <td>0.601</td>\n",
       "      <td>0.581</td>\n",
       "      <td>0.561</td>\n",
       "      <td>-0.828</td>\n",
       "      <td>1.526</td>\n",
       "    </tr>\n",
       "  </tbody>\n",
       "</table>\n",
       "</div>"
      ],
      "text/plain": [
       "                 Parameter   Coef. Std.Err.       z  P>|z|  [0.025  0.975]\n",
       "0                Intercept  22.513    0.957  23.517  0.000  20.637  24.389\n",
       "1  grammaticality[T.gram-]   0.349    0.601   0.581  0.561  -0.828   1.526"
      ]
     },
     "metadata": {},
     "output_type": "display_data"
    },
    {
     "name": "stdout",
     "output_type": "stream",
     "text": [
      "\n",
      "=== RANDOM EFFECTS / VARIANCE-COVARIANCE ===\n"
     ]
    },
    {
     "data": {
      "text/html": [
       "<div>\n",
       "<style scoped>\n",
       "    .dataframe tbody tr th:only-of-type {\n",
       "        vertical-align: middle;\n",
       "    }\n",
       "\n",
       "    .dataframe tbody tr th {\n",
       "        vertical-align: top;\n",
       "    }\n",
       "\n",
       "    .dataframe thead th {\n",
       "        text-align: right;\n",
       "    }\n",
       "</style>\n",
       "<table border=\"1\" class=\"dataframe\">\n",
       "  <thead>\n",
       "    <tr style=\"text-align: right;\">\n",
       "      <th></th>\n",
       "      <th>Parameter</th>\n",
       "      <th>Coef.</th>\n",
       "      <th>Std.Err.</th>\n",
       "    </tr>\n",
       "  </thead>\n",
       "  <tbody>\n",
       "    <tr>\n",
       "      <th>0</th>\n",
       "      <td>Group Var</td>\n",
       "      <td>14.722</td>\n",
       "      <td>1.029</td>\n",
       "    </tr>\n",
       "  </tbody>\n",
       "</table>\n",
       "</div>"
      ],
      "text/plain": [
       "   Parameter   Coef. Std.Err.\n",
       "0  Group Var  14.722    1.029"
      ]
     },
     "metadata": {},
     "output_type": "display_data"
    },
    {
     "data": {
      "text/plain": [
       "<statsmodels.regression.mixed_linear_model.MixedLMResultsWrapper at 0x14a45b9cbbb0>"
      ]
     },
     "execution_count": 75,
     "metadata": {},
     "output_type": "execute_result"
    }
   ],
   "source": [
    "# division by grammaticality\n",
    "iv_list = ['grammaticality']\n",
    "mixed_effects_linear_regression(objectgap_df, iv_list, 'region_surprisal', 'object gap position: division by grammaticality')"
   ]
  },
  {
   "cell_type": "markdown",
   "id": "88662ed9",
   "metadata": {},
   "source": [
    "Gap Postion == PP/Goal"
   ]
  },
  {
   "cell_type": "code",
   "execution_count": 76,
   "id": "3b6ef5a7",
   "metadata": {},
   "outputs": [],
   "source": [
    "pp_df = sentence_df.copy()\n",
    "#pp_df['region_surprisal'] = pp_df.apply(lambda x: sum_region_surprisal(x, ['temp_mod']), axis = 1)\n",
    "pp_df['region_surprisal'] = pp_df.apply(lambda x: sum_region_surprisal(x, ['temp_mod'], 'goal'), axis = 1)\n",
    "\n",
    "# filter for PP gap\n",
    "ppgap_df = pp_df[pp_df['gap_position'] == 'IO']"
   ]
  },
  {
   "cell_type": "code",
   "execution_count": 77,
   "id": "f2fe97f4",
   "metadata": {},
   "outputs": [
    {
     "name": "stdout",
     "output_type": "stream",
     "text": [
      "\n",
      "=== PP GAP POSITION: GAP- ===\n",
      "\n",
      "=== MODEL SUMMARY ===\n",
      ":            MixedLM Dependent Variable: region_surprisal\n",
      "No. Observations: 160\n",
      "Method: REML\n",
      "No. Groups: 20\n",
      "Scale: 0.4985\n",
      "Min. group size: 8\n",
      "Log-Likelihood: -238.7459\n",
      "Max. group size: 8\n",
      "Converged: Yes\n",
      "Mean group size: 8.0\n",
      "\n",
      "=== FIXED EFFECTS COEFFICIENTS ===\n"
     ]
    },
    {
     "data": {
      "text/html": [
       "<div>\n",
       "<style scoped>\n",
       "    .dataframe tbody tr th:only-of-type {\n",
       "        vertical-align: middle;\n",
       "    }\n",
       "\n",
       "    .dataframe tbody tr th {\n",
       "        vertical-align: top;\n",
       "    }\n",
       "\n",
       "    .dataframe thead th {\n",
       "        text-align: right;\n",
       "    }\n",
       "</style>\n",
       "<table border=\"1\" class=\"dataframe\">\n",
       "  <thead>\n",
       "    <tr style=\"text-align: right;\">\n",
       "      <th></th>\n",
       "      <th>Parameter</th>\n",
       "      <th>Coef.</th>\n",
       "      <th>Std.Err.</th>\n",
       "      <th>z</th>\n",
       "      <th>P&gt;|z|</th>\n",
       "      <th>[0.025</th>\n",
       "      <th>0.975]</th>\n",
       "    </tr>\n",
       "  </thead>\n",
       "  <tbody>\n",
       "    <tr>\n",
       "      <th>0</th>\n",
       "      <td>Intercept</td>\n",
       "      <td>16.967</td>\n",
       "      <td>1.661</td>\n",
       "      <td>10.215</td>\n",
       "      <td>0.000</td>\n",
       "      <td>13.711</td>\n",
       "      <td>20.222</td>\n",
       "    </tr>\n",
       "    <tr>\n",
       "      <th>1</th>\n",
       "      <td>wh_numeric</td>\n",
       "      <td>0.135</td>\n",
       "      <td>0.056</td>\n",
       "      <td>2.417</td>\n",
       "      <td>0.016</td>\n",
       "      <td>0.026</td>\n",
       "      <td>0.244</td>\n",
       "    </tr>\n",
       "  </tbody>\n",
       "</table>\n",
       "</div>"
      ],
      "text/plain": [
       "    Parameter   Coef. Std.Err.       z  P>|z|  [0.025  0.975]\n",
       "0   Intercept  16.967    1.661  10.215  0.000  13.711  20.222\n",
       "1  wh_numeric   0.135    0.056   2.417  0.016   0.026   0.244"
      ]
     },
     "metadata": {},
     "output_type": "display_data"
    },
    {
     "name": "stdout",
     "output_type": "stream",
     "text": [
      "\n",
      "=== RANDOM EFFECTS / VARIANCE-COVARIANCE ===\n"
     ]
    },
    {
     "data": {
      "text/html": [
       "<div>\n",
       "<style scoped>\n",
       "    .dataframe tbody tr th:only-of-type {\n",
       "        vertical-align: middle;\n",
       "    }\n",
       "\n",
       "    .dataframe tbody tr th {\n",
       "        vertical-align: top;\n",
       "    }\n",
       "\n",
       "    .dataframe thead th {\n",
       "        text-align: right;\n",
       "    }\n",
       "</style>\n",
       "<table border=\"1\" class=\"dataframe\">\n",
       "  <thead>\n",
       "    <tr style=\"text-align: right;\">\n",
       "      <th></th>\n",
       "      <th>Parameter</th>\n",
       "      <th>Coef.</th>\n",
       "      <th>Std.Err.</th>\n",
       "    </tr>\n",
       "  </thead>\n",
       "  <tbody>\n",
       "    <tr>\n",
       "      <th>0</th>\n",
       "      <td>Group Var</td>\n",
       "      <td>55.114</td>\n",
       "      <td>27.031</td>\n",
       "    </tr>\n",
       "  </tbody>\n",
       "</table>\n",
       "</div>"
      ],
      "text/plain": [
       "   Parameter   Coef. Std.Err.\n",
       "0  Group Var  55.114   27.031"
      ]
     },
     "metadata": {},
     "output_type": "display_data"
    },
    {
     "data": {
      "text/plain": [
       "<statsmodels.regression.mixed_linear_model.MixedLMResultsWrapper at 0x14a45b9cb4c0>"
      ]
     },
     "execution_count": 77,
     "metadata": {},
     "output_type": "execute_result"
    }
   ],
   "source": [
    "# flip test: gap-\n",
    "no_gap_df = ppgap_df[ppgap_df['gap_numeric'] == -1]\n",
    "iv_list = ['wh_numeric']\n",
    "mixed_effects_linear_regression(no_gap_df, iv_list, 'region_surprisal', 'pp gap position: gap-')"
   ]
  },
  {
   "cell_type": "code",
   "execution_count": 78,
   "id": "327606b9",
   "metadata": {},
   "outputs": [
    {
     "name": "stdout",
     "output_type": "stream",
     "text": [
      "\n",
      "=== PP GAP POSITION: GAP+ ===\n",
      "\n",
      "=== MODEL SUMMARY ===\n",
      ":            MixedLM Dependent Variable: region_surprisal\n",
      "No. Observations: 160\n",
      "Method: REML\n",
      "No. Groups: 20\n",
      "Scale: 1.3692\n",
      "Min. group size: 8\n",
      "Log-Likelihood: -311.3961\n",
      "Max. group size: 8\n",
      "Converged: Yes\n",
      "Mean group size: 8.0\n",
      "\n",
      "=== FIXED EFFECTS COEFFICIENTS ===\n"
     ]
    },
    {
     "data": {
      "text/html": [
       "<div>\n",
       "<style scoped>\n",
       "    .dataframe tbody tr th:only-of-type {\n",
       "        vertical-align: middle;\n",
       "    }\n",
       "\n",
       "    .dataframe tbody tr th {\n",
       "        vertical-align: top;\n",
       "    }\n",
       "\n",
       "    .dataframe thead th {\n",
       "        text-align: right;\n",
       "    }\n",
       "</style>\n",
       "<table border=\"1\" class=\"dataframe\">\n",
       "  <thead>\n",
       "    <tr style=\"text-align: right;\">\n",
       "      <th></th>\n",
       "      <th>Parameter</th>\n",
       "      <th>Coef.</th>\n",
       "      <th>Std.Err.</th>\n",
       "      <th>z</th>\n",
       "      <th>P&gt;|z|</th>\n",
       "      <th>[0.025</th>\n",
       "      <th>0.975]</th>\n",
       "    </tr>\n",
       "  </thead>\n",
       "  <tbody>\n",
       "    <tr>\n",
       "      <th>0</th>\n",
       "      <td>Intercept</td>\n",
       "      <td>26.764</td>\n",
       "      <td>1.888</td>\n",
       "      <td>14.175</td>\n",
       "      <td>0.000</td>\n",
       "      <td>23.063</td>\n",
       "      <td>30.464</td>\n",
       "    </tr>\n",
       "    <tr>\n",
       "      <th>1</th>\n",
       "      <td>wh_numeric</td>\n",
       "      <td>-0.106</td>\n",
       "      <td>0.093</td>\n",
       "      <td>-1.149</td>\n",
       "      <td>0.250</td>\n",
       "      <td>-0.288</td>\n",
       "      <td>0.075</td>\n",
       "    </tr>\n",
       "  </tbody>\n",
       "</table>\n",
       "</div>"
      ],
      "text/plain": [
       "    Parameter   Coef. Std.Err.       z  P>|z|  [0.025  0.975]\n",
       "0   Intercept  26.764    1.888  14.175  0.000  23.063  30.464\n",
       "1  wh_numeric  -0.106    0.093  -1.149  0.250  -0.288   0.075"
      ]
     },
     "metadata": {},
     "output_type": "display_data"
    },
    {
     "name": "stdout",
     "output_type": "stream",
     "text": [
      "\n",
      "=== RANDOM EFFECTS / VARIANCE-COVARIANCE ===\n"
     ]
    },
    {
     "data": {
      "text/html": [
       "<div>\n",
       "<style scoped>\n",
       "    .dataframe tbody tr th:only-of-type {\n",
       "        vertical-align: middle;\n",
       "    }\n",
       "\n",
       "    .dataframe tbody tr th {\n",
       "        vertical-align: top;\n",
       "    }\n",
       "\n",
       "    .dataframe thead th {\n",
       "        text-align: right;\n",
       "    }\n",
       "</style>\n",
       "<table border=\"1\" class=\"dataframe\">\n",
       "  <thead>\n",
       "    <tr style=\"text-align: right;\">\n",
       "      <th></th>\n",
       "      <th>Parameter</th>\n",
       "      <th>Coef.</th>\n",
       "      <th>Std.Err.</th>\n",
       "    </tr>\n",
       "  </thead>\n",
       "  <tbody>\n",
       "    <tr>\n",
       "      <th>0</th>\n",
       "      <td>Group Var</td>\n",
       "      <td>71.121</td>\n",
       "      <td>21.074</td>\n",
       "    </tr>\n",
       "  </tbody>\n",
       "</table>\n",
       "</div>"
      ],
      "text/plain": [
       "   Parameter   Coef. Std.Err.\n",
       "0  Group Var  71.121   21.074"
      ]
     },
     "metadata": {},
     "output_type": "display_data"
    },
    {
     "data": {
      "text/plain": [
       "<statsmodels.regression.mixed_linear_model.MixedLMResultsWrapper at 0x14a45380a7c0>"
      ]
     },
     "execution_count": 78,
     "metadata": {},
     "output_type": "execute_result"
    }
   ],
   "source": [
    "# flip test: gap+\n",
    "gap_df = ppgap_df[ppgap_df['gap_numeric'] == 1]\n",
    "iv_list = ['wh_numeric']\n",
    "mixed_effects_linear_regression(gap_df, iv_list, 'region_surprisal', 'pp gap position: gap+')"
   ]
  },
  {
   "cell_type": "code",
   "execution_count": 79,
   "id": "571fc58b",
   "metadata": {},
   "outputs": [
    {
     "name": "stdout",
     "output_type": "stream",
     "text": [
      "\n",
      "=== PP GAP POSITION: DIVISION BY GRAMMATICALITY ===\n",
      "\n",
      "=== MODEL SUMMARY ===\n",
      "Model: MixedLM\n",
      "Dependent Variable: region_surprisal\n",
      "No. Observations: 320\n",
      "Method: REML\n",
      "No. Groups: 20\n",
      "Scale: 60.0885\n",
      "Min. group size: 16\n",
      "Log-Likelihood: -1127.3517\n",
      "Max. group size: 16\n",
      "Converged: Yes\n",
      "Mean group size: 16.0\n",
      "\n",
      "=== FIXED EFFECTS COEFFICIENTS ===\n"
     ]
    },
    {
     "data": {
      "text/html": [
       "<div>\n",
       "<style scoped>\n",
       "    .dataframe tbody tr th:only-of-type {\n",
       "        vertical-align: middle;\n",
       "    }\n",
       "\n",
       "    .dataframe tbody tr th {\n",
       "        vertical-align: top;\n",
       "    }\n",
       "\n",
       "    .dataframe thead th {\n",
       "        text-align: right;\n",
       "    }\n",
       "</style>\n",
       "<table border=\"1\" class=\"dataframe\">\n",
       "  <thead>\n",
       "    <tr style=\"text-align: right;\">\n",
       "      <th></th>\n",
       "      <th>Parameter</th>\n",
       "      <th>Coef.</th>\n",
       "      <th>Std.Err.</th>\n",
       "      <th>z</th>\n",
       "      <th>P&gt;|z|</th>\n",
       "      <th>[0.025</th>\n",
       "      <th>0.975]</th>\n",
       "    </tr>\n",
       "  </thead>\n",
       "  <tbody>\n",
       "    <tr>\n",
       "      <th>0</th>\n",
       "      <td>Intercept</td>\n",
       "      <td>21.745</td>\n",
       "      <td>1.304</td>\n",
       "      <td>16.676</td>\n",
       "      <td>0.000</td>\n",
       "      <td>19.189</td>\n",
       "      <td>24.300</td>\n",
       "    </tr>\n",
       "    <tr>\n",
       "      <th>1</th>\n",
       "      <td>grammaticality[T.gram-]</td>\n",
       "      <td>0.241</td>\n",
       "      <td>0.867</td>\n",
       "      <td>0.278</td>\n",
       "      <td>0.781</td>\n",
       "      <td>-1.457</td>\n",
       "      <td>1.940</td>\n",
       "    </tr>\n",
       "  </tbody>\n",
       "</table>\n",
       "</div>"
      ],
      "text/plain": [
       "                 Parameter   Coef. Std.Err.       z  P>|z|  [0.025  0.975]\n",
       "0                Intercept  21.745    1.304  16.676  0.000  19.189  24.300\n",
       "1  grammaticality[T.gram-]   0.241    0.867   0.278  0.781  -1.457   1.940"
      ]
     },
     "metadata": {},
     "output_type": "display_data"
    },
    {
     "name": "stdout",
     "output_type": "stream",
     "text": [
      "\n",
      "=== RANDOM EFFECTS / VARIANCE-COVARIANCE ===\n"
     ]
    },
    {
     "data": {
      "text/html": [
       "<div>\n",
       "<style scoped>\n",
       "    .dataframe tbody tr th:only-of-type {\n",
       "        vertical-align: middle;\n",
       "    }\n",
       "\n",
       "    .dataframe tbody tr th {\n",
       "        vertical-align: top;\n",
       "    }\n",
       "\n",
       "    .dataframe thead th {\n",
       "        text-align: right;\n",
       "    }\n",
       "</style>\n",
       "<table border=\"1\" class=\"dataframe\">\n",
       "  <thead>\n",
       "    <tr style=\"text-align: right;\">\n",
       "      <th></th>\n",
       "      <th>Parameter</th>\n",
       "      <th>Coef.</th>\n",
       "      <th>Std.Err.</th>\n",
       "    </tr>\n",
       "  </thead>\n",
       "  <tbody>\n",
       "    <tr>\n",
       "      <th>0</th>\n",
       "      <td>Group Var</td>\n",
       "      <td>26.493</td>\n",
       "      <td>1.306</td>\n",
       "    </tr>\n",
       "  </tbody>\n",
       "</table>\n",
       "</div>"
      ],
      "text/plain": [
       "   Parameter   Coef. Std.Err.\n",
       "0  Group Var  26.493    1.306"
      ]
     },
     "metadata": {},
     "output_type": "display_data"
    },
    {
     "data": {
      "text/plain": [
       "<statsmodels.regression.mixed_linear_model.MixedLMResultsWrapper at 0x14a4538115e0>"
      ]
     },
     "execution_count": 79,
     "metadata": {},
     "output_type": "execute_result"
    }
   ],
   "source": [
    "# division by grammaticality\n",
    "iv_list = ['grammaticality']\n",
    "mixed_effects_linear_regression(ppgap_df, iv_list, 'region_surprisal', 'pp gap position: division by grammaticality')"
   ]
  },
  {
   "cell_type": "markdown",
   "id": "ae6a9ac5",
   "metadata": {},
   "source": [
    "Embedded Clause"
   ]
  },
  {
   "cell_type": "code",
   "execution_count": 80,
   "id": "3b784788",
   "metadata": {},
   "outputs": [],
   "source": [
    "embed = ['subj', 'modifier', 'verb', 'object', 'prep', 'goal', 'temp_mod', 'end']\n",
    "sentence_df['embed_surprisal'] = sentence_df.apply(lambda x: sum_region_surprisal(x, embed, normalize = True), axis = 1)"
   ]
  },
  {
   "cell_type": "markdown",
   "id": "bb1cad40",
   "metadata": {},
   "source": [
    "Embedded Clause - Object Gap Position"
   ]
  },
  {
   "cell_type": "code",
   "execution_count": 81,
   "id": "c0a5486a",
   "metadata": {},
   "outputs": [],
   "source": [
    "# filter for object gap\n",
    "embed_objectgap_df = sentence_df[sentence_df['gap_position'] == 'DO']"
   ]
  },
  {
   "cell_type": "code",
   "execution_count": 82,
   "id": "7a81daef",
   "metadata": {},
   "outputs": [
    {
     "name": "stdout",
     "output_type": "stream",
     "text": [
      "\n",
      "=== OBJECT GAP POSITION: GAP- ===\n",
      "\n",
      "=== MODEL SUMMARY ===\n",
      ":            MixedLM Dependent Variable: embed_surprisal\n",
      "No. Observations: 160\n",
      "Method: REML\n",
      "No. Groups: 20\n",
      "Scale: 0.6039\n",
      "Min. group size: 8\n",
      "Log-Likelihood: -205.9947\n",
      "Max. group size: 8\n",
      "Converged: Yes\n",
      "Mean group size: 8.0\n",
      "\n",
      "=== FIXED EFFECTS COEFFICIENTS ===\n"
     ]
    },
    {
     "data": {
      "text/html": [
       "<div>\n",
       "<style scoped>\n",
       "    .dataframe tbody tr th:only-of-type {\n",
       "        vertical-align: middle;\n",
       "    }\n",
       "\n",
       "    .dataframe tbody tr th {\n",
       "        vertical-align: top;\n",
       "    }\n",
       "\n",
       "    .dataframe thead th {\n",
       "        text-align: right;\n",
       "    }\n",
       "</style>\n",
       "<table border=\"1\" class=\"dataframe\">\n",
       "  <thead>\n",
       "    <tr style=\"text-align: right;\">\n",
       "      <th></th>\n",
       "      <th>Parameter</th>\n",
       "      <th>Coef.</th>\n",
       "      <th>Std.Err.</th>\n",
       "      <th>z</th>\n",
       "      <th>P&gt;|z|</th>\n",
       "      <th>[0.025</th>\n",
       "      <th>0.975]</th>\n",
       "    </tr>\n",
       "  </thead>\n",
       "  <tbody>\n",
       "    <tr>\n",
       "      <th>0</th>\n",
       "      <td>Intercept</td>\n",
       "      <td>7.024</td>\n",
       "      <td>0.147</td>\n",
       "      <td>47.802</td>\n",
       "      <td>0.000</td>\n",
       "      <td>6.736</td>\n",
       "      <td>7.312</td>\n",
       "    </tr>\n",
       "    <tr>\n",
       "      <th>1</th>\n",
       "      <td>wh_numeric</td>\n",
       "      <td>0.125</td>\n",
       "      <td>0.061</td>\n",
       "      <td>2.030</td>\n",
       "      <td>0.042</td>\n",
       "      <td>0.004</td>\n",
       "      <td>0.245</td>\n",
       "    </tr>\n",
       "  </tbody>\n",
       "</table>\n",
       "</div>"
      ],
      "text/plain": [
       "    Parameter  Coef. Std.Err.       z  P>|z| [0.025 0.975]\n",
       "0   Intercept  7.024    0.147  47.802  0.000  6.736  7.312\n",
       "1  wh_numeric  0.125    0.061   2.030  0.042  0.004  0.245"
      ]
     },
     "metadata": {},
     "output_type": "display_data"
    },
    {
     "name": "stdout",
     "output_type": "stream",
     "text": [
      "\n",
      "=== RANDOM EFFECTS / VARIANCE-COVARIANCE ===\n"
     ]
    },
    {
     "data": {
      "text/html": [
       "<div>\n",
       "<style scoped>\n",
       "    .dataframe tbody tr th:only-of-type {\n",
       "        vertical-align: middle;\n",
       "    }\n",
       "\n",
       "    .dataframe tbody tr th {\n",
       "        vertical-align: top;\n",
       "    }\n",
       "\n",
       "    .dataframe thead th {\n",
       "        text-align: right;\n",
       "    }\n",
       "</style>\n",
       "<table border=\"1\" class=\"dataframe\">\n",
       "  <thead>\n",
       "    <tr style=\"text-align: right;\">\n",
       "      <th></th>\n",
       "      <th>Parameter</th>\n",
       "      <th>Coef.</th>\n",
       "      <th>Std.Err.</th>\n",
       "    </tr>\n",
       "  </thead>\n",
       "  <tbody>\n",
       "    <tr>\n",
       "      <th>0</th>\n",
       "      <td>Group Var</td>\n",
       "      <td>0.356</td>\n",
       "      <td>0.192</td>\n",
       "    </tr>\n",
       "  </tbody>\n",
       "</table>\n",
       "</div>"
      ],
      "text/plain": [
       "   Parameter  Coef. Std.Err.\n",
       "0  Group Var  0.356    0.192"
      ]
     },
     "metadata": {},
     "output_type": "display_data"
    },
    {
     "data": {
      "text/plain": [
       "<statsmodels.regression.mixed_linear_model.MixedLMResultsWrapper at 0x14a4538700a0>"
      ]
     },
     "execution_count": 82,
     "metadata": {},
     "output_type": "execute_result"
    }
   ],
   "source": [
    "# flip test: gap-\n",
    "no_gap_df = embed_objectgap_df[embed_objectgap_df['gap_numeric'] == -1]\n",
    "iv_list = ['wh_numeric']\n",
    "mixed_effects_linear_regression(no_gap_df, iv_list, 'embed_surprisal', 'object gap position: gap-')"
   ]
  },
  {
   "cell_type": "code",
   "execution_count": 83,
   "id": "699cb020",
   "metadata": {},
   "outputs": [
    {
     "name": "stdout",
     "output_type": "stream",
     "text": [
      "\n",
      "=== OBJECT GAP POSITION: GAP+ ===\n",
      "\n",
      "=== MODEL SUMMARY ===\n",
      ":            MixedLM Dependent Variable: embed_surprisal\n",
      "No. Observations: 160\n",
      "Method: REML\n",
      "No. Groups: 20\n",
      "Scale: 0.9210\n",
      "Min. group size: 8\n",
      "Log-Likelihood: -236.9874\n",
      "Max. group size: 8\n",
      "Converged: Yes\n",
      "Mean group size: 8.0\n",
      "\n",
      "=== FIXED EFFECTS COEFFICIENTS ===\n"
     ]
    },
    {
     "data": {
      "text/html": [
       "<div>\n",
       "<style scoped>\n",
       "    .dataframe tbody tr th:only-of-type {\n",
       "        vertical-align: middle;\n",
       "    }\n",
       "\n",
       "    .dataframe tbody tr th {\n",
       "        vertical-align: top;\n",
       "    }\n",
       "\n",
       "    .dataframe thead th {\n",
       "        text-align: right;\n",
       "    }\n",
       "</style>\n",
       "<table border=\"1\" class=\"dataframe\">\n",
       "  <thead>\n",
       "    <tr style=\"text-align: right;\">\n",
       "      <th></th>\n",
       "      <th>Parameter</th>\n",
       "      <th>Coef.</th>\n",
       "      <th>Std.Err.</th>\n",
       "      <th>z</th>\n",
       "      <th>P&gt;|z|</th>\n",
       "      <th>[0.025</th>\n",
       "      <th>0.975]</th>\n",
       "    </tr>\n",
       "  </thead>\n",
       "  <tbody>\n",
       "    <tr>\n",
       "      <th>0</th>\n",
       "      <td>Intercept</td>\n",
       "      <td>6.671</td>\n",
       "      <td>0.160</td>\n",
       "      <td>41.600</td>\n",
       "      <td>0.000</td>\n",
       "      <td>6.357</td>\n",
       "      <td>6.985</td>\n",
       "    </tr>\n",
       "    <tr>\n",
       "      <th>1</th>\n",
       "      <td>wh_numeric</td>\n",
       "      <td>0.101</td>\n",
       "      <td>0.076</td>\n",
       "      <td>1.338</td>\n",
       "      <td>0.181</td>\n",
       "      <td>-0.047</td>\n",
       "      <td>0.250</td>\n",
       "    </tr>\n",
       "  </tbody>\n",
       "</table>\n",
       "</div>"
      ],
      "text/plain": [
       "    Parameter  Coef. Std.Err.       z  P>|z|  [0.025 0.975]\n",
       "0   Intercept  6.671    0.160  41.600  0.000   6.357  6.985\n",
       "1  wh_numeric  0.101    0.076   1.338  0.181  -0.047  0.250"
      ]
     },
     "metadata": {},
     "output_type": "display_data"
    },
    {
     "name": "stdout",
     "output_type": "stream",
     "text": [
      "\n",
      "=== RANDOM EFFECTS / VARIANCE-COVARIANCE ===\n"
     ]
    },
    {
     "data": {
      "text/html": [
       "<div>\n",
       "<style scoped>\n",
       "    .dataframe tbody tr th:only-of-type {\n",
       "        vertical-align: middle;\n",
       "    }\n",
       "\n",
       "    .dataframe tbody tr th {\n",
       "        vertical-align: top;\n",
       "    }\n",
       "\n",
       "    .dataframe thead th {\n",
       "        text-align: right;\n",
       "    }\n",
       "</style>\n",
       "<table border=\"1\" class=\"dataframe\">\n",
       "  <thead>\n",
       "    <tr style=\"text-align: right;\">\n",
       "      <th></th>\n",
       "      <th>Parameter</th>\n",
       "      <th>Coef.</th>\n",
       "      <th>Std.Err.</th>\n",
       "    </tr>\n",
       "  </thead>\n",
       "  <tbody>\n",
       "    <tr>\n",
       "      <th>0</th>\n",
       "      <td>Group Var</td>\n",
       "      <td>0.399</td>\n",
       "      <td>0.185</td>\n",
       "    </tr>\n",
       "  </tbody>\n",
       "</table>\n",
       "</div>"
      ],
      "text/plain": [
       "   Parameter  Coef. Std.Err.\n",
       "0  Group Var  0.399    0.185"
      ]
     },
     "metadata": {},
     "output_type": "display_data"
    },
    {
     "data": {
      "text/plain": [
       "<statsmodels.regression.mixed_linear_model.MixedLMResultsWrapper at 0x14a453870070>"
      ]
     },
     "execution_count": 83,
     "metadata": {},
     "output_type": "execute_result"
    }
   ],
   "source": [
    "# flip test: gap+\n",
    "gap_df = embed_objectgap_df[embed_objectgap_df['gap_numeric'] == 1]\n",
    "iv_list = ['wh_numeric']\n",
    "mixed_effects_linear_regression(gap_df, iv_list, 'embed_surprisal', 'object gap position: gap+')"
   ]
  },
  {
   "cell_type": "code",
   "execution_count": 84,
   "id": "167f2d87",
   "metadata": {},
   "outputs": [
    {
     "name": "stdout",
     "output_type": "stream",
     "text": [
      "\n",
      "=== OBJECT GAP POSITION: DIVISION BY GRAMMATICALITY ===\n",
      "\n",
      "=== MODEL SUMMARY ===\n",
      "Model: MixedLM\n",
      "Dependent Variable: embed_surprisal\n",
      "No. Observations: 320\n",
      "Method: REML\n",
      "No. Groups: 20\n",
      "Scale: 0.7691\n",
      "Min. group size: 16\n",
      "Log-Likelihood: -436.0149\n",
      "Max. group size: 16\n",
      "Converged: Yes\n",
      "Mean group size: 16.0\n",
      "\n",
      "=== FIXED EFFECTS COEFFICIENTS ===\n"
     ]
    },
    {
     "data": {
      "text/html": [
       "<div>\n",
       "<style scoped>\n",
       "    .dataframe tbody tr th:only-of-type {\n",
       "        vertical-align: middle;\n",
       "    }\n",
       "\n",
       "    .dataframe tbody tr th {\n",
       "        vertical-align: top;\n",
       "    }\n",
       "\n",
       "    .dataframe thead th {\n",
       "        text-align: right;\n",
       "    }\n",
       "</style>\n",
       "<table border=\"1\" class=\"dataframe\">\n",
       "  <thead>\n",
       "    <tr style=\"text-align: right;\">\n",
       "      <th></th>\n",
       "      <th>Parameter</th>\n",
       "      <th>Coef.</th>\n",
       "      <th>Std.Err.</th>\n",
       "      <th>z</th>\n",
       "      <th>P&gt;|z|</th>\n",
       "      <th>[0.025</th>\n",
       "      <th>0.975]</th>\n",
       "    </tr>\n",
       "  </thead>\n",
       "  <tbody>\n",
       "    <tr>\n",
       "      <th>0</th>\n",
       "      <td>Intercept</td>\n",
       "      <td>6.836</td>\n",
       "      <td>0.159</td>\n",
       "      <td>42.886</td>\n",
       "      <td>0.000</td>\n",
       "      <td>6.523</td>\n",
       "      <td>7.148</td>\n",
       "    </tr>\n",
       "    <tr>\n",
       "      <th>1</th>\n",
       "      <td>grammaticality[T.gram-]</td>\n",
       "      <td>0.023</td>\n",
       "      <td>0.098</td>\n",
       "      <td>0.237</td>\n",
       "      <td>0.813</td>\n",
       "      <td>-0.169</td>\n",
       "      <td>0.215</td>\n",
       "    </tr>\n",
       "  </tbody>\n",
       "</table>\n",
       "</div>"
      ],
      "text/plain": [
       "                 Parameter  Coef. Std.Err.       z  P>|z|  [0.025 0.975]\n",
       "0                Intercept  6.836    0.159  42.886  0.000   6.523  7.148\n",
       "1  grammaticality[T.gram-]  0.023    0.098   0.237  0.813  -0.169  0.215"
      ]
     },
     "metadata": {},
     "output_type": "display_data"
    },
    {
     "name": "stdout",
     "output_type": "stream",
     "text": [
      "\n",
      "=== RANDOM EFFECTS / VARIANCE-COVARIANCE ===\n"
     ]
    },
    {
     "data": {
      "text/html": [
       "<div>\n",
       "<style scoped>\n",
       "    .dataframe tbody tr th:only-of-type {\n",
       "        vertical-align: middle;\n",
       "    }\n",
       "\n",
       "    .dataframe tbody tr th {\n",
       "        vertical-align: top;\n",
       "    }\n",
       "\n",
       "    .dataframe thead th {\n",
       "        text-align: right;\n",
       "    }\n",
       "</style>\n",
       "<table border=\"1\" class=\"dataframe\">\n",
       "  <thead>\n",
       "    <tr style=\"text-align: right;\">\n",
       "      <th></th>\n",
       "      <th>Parameter</th>\n",
       "      <th>Coef.</th>\n",
       "      <th>Std.Err.</th>\n",
       "    </tr>\n",
       "  </thead>\n",
       "  <tbody>\n",
       "    <tr>\n",
       "      <th>0</th>\n",
       "      <td>Group Var</td>\n",
       "      <td>0.412</td>\n",
       "      <td>0.176</td>\n",
       "    </tr>\n",
       "  </tbody>\n",
       "</table>\n",
       "</div>"
      ],
      "text/plain": [
       "   Parameter  Coef. Std.Err.\n",
       "0  Group Var  0.412    0.176"
      ]
     },
     "metadata": {},
     "output_type": "display_data"
    },
    {
     "data": {
      "text/plain": [
       "<statsmodels.regression.mixed_linear_model.MixedLMResultsWrapper at 0x14a45387b7c0>"
      ]
     },
     "execution_count": 84,
     "metadata": {},
     "output_type": "execute_result"
    }
   ],
   "source": [
    "# division by grammaticality\n",
    "iv_list = ['grammaticality']\n",
    "mixed_effects_linear_regression(embed_objectgap_df, iv_list, 'embed_surprisal', 'object gap position: division by grammaticality')"
   ]
  },
  {
   "cell_type": "markdown",
   "id": "5537a5f1",
   "metadata": {},
   "source": [
    "Embedded Clause - PP/Goal Gap Position"
   ]
  },
  {
   "cell_type": "code",
   "execution_count": 85,
   "id": "7716d953",
   "metadata": {},
   "outputs": [],
   "source": [
    "# filter for PP gap\n",
    "embed_ppgap_df = sentence_df[sentence_df['gap_position'] == 'IO']"
   ]
  },
  {
   "cell_type": "code",
   "execution_count": 86,
   "id": "58f3f7fa",
   "metadata": {},
   "outputs": [
    {
     "name": "stdout",
     "output_type": "stream",
     "text": [
      "\n",
      "=== PP GAP POSITION: GAP- ===\n",
      "\n",
      "=== MODEL SUMMARY ===\n",
      ":            MixedLM Dependent Variable: embed_surprisal\n",
      "No. Observations: 160\n",
      "Method: REML\n",
      "No. Groups: 20\n",
      "Scale: 0.6075\n",
      "Min. group size: 8\n",
      "Log-Likelihood: -206.5224\n",
      "Max. group size: 8\n",
      "Converged: Yes\n",
      "Mean group size: 8.0\n",
      "\n",
      "=== FIXED EFFECTS COEFFICIENTS ===\n"
     ]
    },
    {
     "data": {
      "text/html": [
       "<div>\n",
       "<style scoped>\n",
       "    .dataframe tbody tr th:only-of-type {\n",
       "        vertical-align: middle;\n",
       "    }\n",
       "\n",
       "    .dataframe tbody tr th {\n",
       "        vertical-align: top;\n",
       "    }\n",
       "\n",
       "    .dataframe thead th {\n",
       "        text-align: right;\n",
       "    }\n",
       "</style>\n",
       "<table border=\"1\" class=\"dataframe\">\n",
       "  <thead>\n",
       "    <tr style=\"text-align: right;\">\n",
       "      <th></th>\n",
       "      <th>Parameter</th>\n",
       "      <th>Coef.</th>\n",
       "      <th>Std.Err.</th>\n",
       "      <th>z</th>\n",
       "      <th>P&gt;|z|</th>\n",
       "      <th>[0.025</th>\n",
       "      <th>0.975]</th>\n",
       "    </tr>\n",
       "  </thead>\n",
       "  <tbody>\n",
       "    <tr>\n",
       "      <th>0</th>\n",
       "      <td>Intercept</td>\n",
       "      <td>6.974</td>\n",
       "      <td>0.148</td>\n",
       "      <td>47.175</td>\n",
       "      <td>0.000</td>\n",
       "      <td>6.684</td>\n",
       "      <td>7.264</td>\n",
       "    </tr>\n",
       "    <tr>\n",
       "      <th>1</th>\n",
       "      <td>wh_numeric</td>\n",
       "      <td>0.075</td>\n",
       "      <td>0.062</td>\n",
       "      <td>1.219</td>\n",
       "      <td>0.223</td>\n",
       "      <td>-0.046</td>\n",
       "      <td>0.196</td>\n",
       "    </tr>\n",
       "  </tbody>\n",
       "</table>\n",
       "</div>"
      ],
      "text/plain": [
       "    Parameter  Coef. Std.Err.       z  P>|z|  [0.025 0.975]\n",
       "0   Intercept  6.974    0.148  47.175  0.000   6.684  7.264\n",
       "1  wh_numeric  0.075    0.062   1.219  0.223  -0.046  0.196"
      ]
     },
     "metadata": {},
     "output_type": "display_data"
    },
    {
     "name": "stdout",
     "output_type": "stream",
     "text": [
      "\n",
      "=== RANDOM EFFECTS / VARIANCE-COVARIANCE ===\n"
     ]
    },
    {
     "data": {
      "text/html": [
       "<div>\n",
       "<style scoped>\n",
       "    .dataframe tbody tr th:only-of-type {\n",
       "        vertical-align: middle;\n",
       "    }\n",
       "\n",
       "    .dataframe tbody tr th {\n",
       "        vertical-align: top;\n",
       "    }\n",
       "\n",
       "    .dataframe thead th {\n",
       "        text-align: right;\n",
       "    }\n",
       "</style>\n",
       "<table border=\"1\" class=\"dataframe\">\n",
       "  <thead>\n",
       "    <tr style=\"text-align: right;\">\n",
       "      <th></th>\n",
       "      <th>Parameter</th>\n",
       "      <th>Coef.</th>\n",
       "      <th>Std.Err.</th>\n",
       "    </tr>\n",
       "  </thead>\n",
       "  <tbody>\n",
       "    <tr>\n",
       "      <th>0</th>\n",
       "      <td>Group Var</td>\n",
       "      <td>0.361</td>\n",
       "      <td>0.194</td>\n",
       "    </tr>\n",
       "  </tbody>\n",
       "</table>\n",
       "</div>"
      ],
      "text/plain": [
       "   Parameter  Coef. Std.Err.\n",
       "0  Group Var  0.361    0.194"
      ]
     },
     "metadata": {},
     "output_type": "display_data"
    },
    {
     "data": {
      "text/plain": [
       "<statsmodels.regression.mixed_linear_model.MixedLMResultsWrapper at 0x14a453851940>"
      ]
     },
     "execution_count": 86,
     "metadata": {},
     "output_type": "execute_result"
    }
   ],
   "source": [
    "# flip test: gap-\n",
    "no_gap_df = embed_ppgap_df[embed_ppgap_df['gap_numeric'] == -1]\n",
    "iv_list = ['wh_numeric']\n",
    "mixed_effects_linear_regression(no_gap_df, iv_list, 'embed_surprisal', 'pp gap position: gap-')"
   ]
  },
  {
   "cell_type": "code",
   "execution_count": 87,
   "id": "acc421b0",
   "metadata": {},
   "outputs": [
    {
     "name": "stdout",
     "output_type": "stream",
     "text": [
      "\n",
      "=== PP GAP POSITION: GAP+ ===\n",
      "\n",
      "=== MODEL SUMMARY ===\n",
      ":            MixedLM Dependent Variable: embed_surprisal\n",
      "No. Observations: 160\n",
      "Method: REML\n",
      "No. Groups: 20\n",
      "Scale: 0.7586\n",
      "Min. group size: 8\n",
      "Log-Likelihood: -220.4918\n",
      "Max. group size: 8\n",
      "Converged: Yes\n",
      "Mean group size: 8.0\n",
      "\n",
      "=== FIXED EFFECTS COEFFICIENTS ===\n"
     ]
    },
    {
     "data": {
      "text/html": [
       "<div>\n",
       "<style scoped>\n",
       "    .dataframe tbody tr th:only-of-type {\n",
       "        vertical-align: middle;\n",
       "    }\n",
       "\n",
       "    .dataframe tbody tr th {\n",
       "        vertical-align: top;\n",
       "    }\n",
       "\n",
       "    .dataframe thead th {\n",
       "        text-align: right;\n",
       "    }\n",
       "</style>\n",
       "<table border=\"1\" class=\"dataframe\">\n",
       "  <thead>\n",
       "    <tr style=\"text-align: right;\">\n",
       "      <th></th>\n",
       "      <th>Parameter</th>\n",
       "      <th>Coef.</th>\n",
       "      <th>Std.Err.</th>\n",
       "      <th>z</th>\n",
       "      <th>P&gt;|z|</th>\n",
       "      <th>[0.025</th>\n",
       "      <th>0.975]</th>\n",
       "    </tr>\n",
       "  </thead>\n",
       "  <tbody>\n",
       "    <tr>\n",
       "      <th>0</th>\n",
       "      <td>Intercept</td>\n",
       "      <td>7.065</td>\n",
       "      <td>0.137</td>\n",
       "      <td>51.619</td>\n",
       "      <td>0.000</td>\n",
       "      <td>6.797</td>\n",
       "      <td>7.333</td>\n",
       "    </tr>\n",
       "    <tr>\n",
       "      <th>1</th>\n",
       "      <td>wh_numeric</td>\n",
       "      <td>0.067</td>\n",
       "      <td>0.069</td>\n",
       "      <td>0.973</td>\n",
       "      <td>0.330</td>\n",
       "      <td>-0.068</td>\n",
       "      <td>0.202</td>\n",
       "    </tr>\n",
       "  </tbody>\n",
       "</table>\n",
       "</div>"
      ],
      "text/plain": [
       "    Parameter  Coef. Std.Err.       z  P>|z|  [0.025 0.975]\n",
       "0   Intercept  7.065    0.137  51.619  0.000   6.797  7.333\n",
       "1  wh_numeric  0.067    0.069   0.973  0.330  -0.068  0.202"
      ]
     },
     "metadata": {},
     "output_type": "display_data"
    },
    {
     "name": "stdout",
     "output_type": "stream",
     "text": [
      "\n",
      "=== RANDOM EFFECTS / VARIANCE-COVARIANCE ===\n"
     ]
    },
    {
     "data": {
      "text/html": [
       "<div>\n",
       "<style scoped>\n",
       "    .dataframe tbody tr th:only-of-type {\n",
       "        vertical-align: middle;\n",
       "    }\n",
       "\n",
       "    .dataframe tbody tr th {\n",
       "        vertical-align: top;\n",
       "    }\n",
       "\n",
       "    .dataframe thead th {\n",
       "        text-align: right;\n",
       "    }\n",
       "</style>\n",
       "<table border=\"1\" class=\"dataframe\">\n",
       "  <thead>\n",
       "    <tr style=\"text-align: right;\">\n",
       "      <th></th>\n",
       "      <th>Parameter</th>\n",
       "      <th>Coef.</th>\n",
       "      <th>Std.Err.</th>\n",
       "    </tr>\n",
       "  </thead>\n",
       "  <tbody>\n",
       "    <tr>\n",
       "      <th>0</th>\n",
       "      <td>Group Var</td>\n",
       "      <td>0.280</td>\n",
       "      <td>0.149</td>\n",
       "    </tr>\n",
       "  </tbody>\n",
       "</table>\n",
       "</div>"
      ],
      "text/plain": [
       "   Parameter  Coef. Std.Err.\n",
       "0  Group Var  0.280    0.149"
      ]
     },
     "metadata": {},
     "output_type": "display_data"
    },
    {
     "data": {
      "text/plain": [
       "<statsmodels.regression.mixed_linear_model.MixedLMResultsWrapper at 0x14a45384a730>"
      ]
     },
     "execution_count": 87,
     "metadata": {},
     "output_type": "execute_result"
    }
   ],
   "source": [
    "# flip test: gap+\n",
    "gap_df = embed_ppgap_df[embed_ppgap_df['gap_numeric'] == 1]\n",
    "iv_list = ['wh_numeric']\n",
    "mixed_effects_linear_regression(gap_df, iv_list, 'embed_surprisal', 'pp gap position: gap+')"
   ]
  },
  {
   "cell_type": "code",
   "execution_count": 88,
   "id": "e51c2fb6",
   "metadata": {},
   "outputs": [
    {
     "name": "stdout",
     "output_type": "stream",
     "text": [
      "\n",
      "=== PP GAP POSITION: DIVISION BY GRAMMATICALITY ===\n",
      "\n",
      "=== MODEL SUMMARY ===\n",
      "Model: MixedLM\n",
      "Dependent Variable: embed_surprisal\n",
      "No. Observations: 320\n",
      "Method: REML\n",
      "No. Groups: 20\n",
      "Scale: 0.6639\n",
      "Min. group size: 16\n",
      "Log-Likelihood: -412.3245\n",
      "Max. group size: 16\n",
      "Converged: Yes\n",
      "Mean group size: 16.0\n",
      "\n",
      "=== FIXED EFFECTS COEFFICIENTS ===\n"
     ]
    },
    {
     "data": {
      "text/html": [
       "<div>\n",
       "<style scoped>\n",
       "    .dataframe tbody tr th:only-of-type {\n",
       "        vertical-align: middle;\n",
       "    }\n",
       "\n",
       "    .dataframe tbody tr th {\n",
       "        vertical-align: top;\n",
       "    }\n",
       "\n",
       "    .dataframe thead th {\n",
       "        text-align: right;\n",
       "    }\n",
       "</style>\n",
       "<table border=\"1\" class=\"dataframe\">\n",
       "  <thead>\n",
       "    <tr style=\"text-align: right;\">\n",
       "      <th></th>\n",
       "      <th>Parameter</th>\n",
       "      <th>Coef.</th>\n",
       "      <th>Std.Err.</th>\n",
       "      <th>z</th>\n",
       "      <th>P&gt;|z|</th>\n",
       "      <th>[0.025</th>\n",
       "      <th>0.975]</th>\n",
       "    </tr>\n",
       "  </thead>\n",
       "  <tbody>\n",
       "    <tr>\n",
       "      <th>0</th>\n",
       "      <td>Intercept</td>\n",
       "      <td>7.015</td>\n",
       "      <td>0.146</td>\n",
       "      <td>48.039</td>\n",
       "      <td>0.000</td>\n",
       "      <td>6.729</td>\n",
       "      <td>7.302</td>\n",
       "    </tr>\n",
       "    <tr>\n",
       "      <th>1</th>\n",
       "      <td>grammaticality[T.gram-]</td>\n",
       "      <td>0.008</td>\n",
       "      <td>0.091</td>\n",
       "      <td>0.089</td>\n",
       "      <td>0.929</td>\n",
       "      <td>-0.170</td>\n",
       "      <td>0.187</td>\n",
       "    </tr>\n",
       "  </tbody>\n",
       "</table>\n",
       "</div>"
      ],
      "text/plain": [
       "                 Parameter  Coef. Std.Err.       z  P>|z|  [0.025 0.975]\n",
       "0                Intercept  7.015    0.146  48.039  0.000   6.729  7.302\n",
       "1  grammaticality[T.gram-]  0.008    0.091   0.089  0.929  -0.170  0.187"
      ]
     },
     "metadata": {},
     "output_type": "display_data"
    },
    {
     "name": "stdout",
     "output_type": "stream",
     "text": [
      "\n",
      "=== RANDOM EFFECTS / VARIANCE-COVARIANCE ===\n"
     ]
    },
    {
     "data": {
      "text/html": [
       "<div>\n",
       "<style scoped>\n",
       "    .dataframe tbody tr th:only-of-type {\n",
       "        vertical-align: middle;\n",
       "    }\n",
       "\n",
       "    .dataframe tbody tr th {\n",
       "        vertical-align: top;\n",
       "    }\n",
       "\n",
       "    .dataframe thead th {\n",
       "        text-align: right;\n",
       "    }\n",
       "</style>\n",
       "<table border=\"1\" class=\"dataframe\">\n",
       "  <thead>\n",
       "    <tr style=\"text-align: right;\">\n",
       "      <th></th>\n",
       "      <th>Parameter</th>\n",
       "      <th>Coef.</th>\n",
       "      <th>Std.Err.</th>\n",
       "    </tr>\n",
       "  </thead>\n",
       "  <tbody>\n",
       "    <tr>\n",
       "      <th>0</th>\n",
       "      <td>Group Var</td>\n",
       "      <td>0.344</td>\n",
       "      <td>0.158</td>\n",
       "    </tr>\n",
       "  </tbody>\n",
       "</table>\n",
       "</div>"
      ],
      "text/plain": [
       "   Parameter  Coef. Std.Err.\n",
       "0  Group Var  0.344    0.158"
      ]
     },
     "metadata": {},
     "output_type": "display_data"
    },
    {
     "data": {
      "text/plain": [
       "<statsmodels.regression.mixed_linear_model.MixedLMResultsWrapper at 0x14a453855e50>"
      ]
     },
     "execution_count": 88,
     "metadata": {},
     "output_type": "execute_result"
    }
   ],
   "source": [
    "# division by grammaticality\n",
    "iv_list = ['grammaticality']\n",
    "mixed_effects_linear_regression(embed_ppgap_df, iv_list, 'embed_surprisal', 'pp gap position: division by grammaticality')"
   ]
  },
  {
   "cell_type": "markdown",
   "id": "3330747a",
   "metadata": {},
   "source": [
    "#### Double Gaps"
   ]
  },
  {
   "cell_type": "code",
   "execution_count": 89,
   "id": "209c4e4d",
   "metadata": {
    "scrolled": true
   },
   "outputs": [],
   "source": [
    "sentence_df = pd.read_csv('test_sentences/Double Gaps.csv')"
   ]
  },
  {
   "cell_type": "code",
   "execution_count": 90,
   "id": "dce83afe",
   "metadata": {},
   "outputs": [],
   "source": [
    "sentence_df[['modifier', 'end']] = sentence_df['modifier'].apply(split_ends)\n",
    "sentence_df = encode_wh_licensor(sentence_df)\n",
    "sentence_df['gap_numeric'] = sentence_df['gap'].replace(0, -1)\n",
    "syntactic_parts = ['prefix', 'licensor', 'subj', 'verb', 'object', 'modifier']\n",
    "sentence_df['sentence'] = sentence_df.apply(lambda x: merge_sentence(x, syntactic_parts), axis = 1)\n",
    "sentence_df['surprisals'] = sentence_df['sentence'].apply(calculate_surprisal)\n",
    "sentence_df['grammaticality'] = sentence_df.apply(assign_grammaticality, axis = 1)"
   ]
  },
  {
   "cell_type": "markdown",
   "id": "ea1270c4",
   "metadata": {},
   "source": [
    "Post Gap Region - Modifier"
   ]
  },
  {
   "cell_type": "code",
   "execution_count": 91,
   "id": "8480f3d5",
   "metadata": {
    "scrolled": true
   },
   "outputs": [],
   "source": [
    "#sentence_df['region_surprisal'] = sentence_df.apply(lambda x: sum_region_surprisal(x, ['modifier']), axis = 1)\n",
    "sentence_df['region_surprisal'] = sentence_df.apply(lambda x: sum_region_surprisal(x, ['modifier'], 'object'), axis = 1)"
   ]
  },
  {
   "cell_type": "code",
   "execution_count": 92,
   "id": "36e415ec",
   "metadata": {},
   "outputs": [
    {
     "name": "stdout",
     "output_type": "stream",
     "text": [
      "\n",
      "=== DOUBLE GAP MODIFIER: GAP- ===\n",
      "\n",
      "=== MODEL SUMMARY ===\n",
      ":            MixedLM Dependent Variable: region_surprisal\n",
      "No. Observations: 40\n",
      "Method: REML\n",
      "No. Groups: 20\n",
      "Scale: 0.4555\n",
      "Min. group size: 2\n",
      "Log-Likelihood: -79.8887\n",
      "Max. group size: 2\n",
      "Converged: Yes\n",
      "Mean group size: 2.0\n",
      "\n",
      "=== FIXED EFFECTS COEFFICIENTS ===\n"
     ]
    },
    {
     "data": {
      "text/html": [
       "<div>\n",
       "<style scoped>\n",
       "    .dataframe tbody tr th:only-of-type {\n",
       "        vertical-align: middle;\n",
       "    }\n",
       "\n",
       "    .dataframe tbody tr th {\n",
       "        vertical-align: top;\n",
       "    }\n",
       "\n",
       "    .dataframe thead th {\n",
       "        text-align: right;\n",
       "    }\n",
       "</style>\n",
       "<table border=\"1\" class=\"dataframe\">\n",
       "  <thead>\n",
       "    <tr style=\"text-align: right;\">\n",
       "      <th></th>\n",
       "      <th>Parameter</th>\n",
       "      <th>Coef.</th>\n",
       "      <th>Std.Err.</th>\n",
       "      <th>z</th>\n",
       "      <th>P&gt;|z|</th>\n",
       "      <th>[0.025</th>\n",
       "      <th>0.975]</th>\n",
       "    </tr>\n",
       "  </thead>\n",
       "  <tbody>\n",
       "    <tr>\n",
       "      <th>0</th>\n",
       "      <td>Intercept</td>\n",
       "      <td>13.775</td>\n",
       "      <td>0.757</td>\n",
       "      <td>18.201</td>\n",
       "      <td>0.000</td>\n",
       "      <td>12.292</td>\n",
       "      <td>15.258</td>\n",
       "    </tr>\n",
       "    <tr>\n",
       "      <th>1</th>\n",
       "      <td>wh_numeric</td>\n",
       "      <td>0.841</td>\n",
       "      <td>0.107</td>\n",
       "      <td>7.878</td>\n",
       "      <td>0.000</td>\n",
       "      <td>0.631</td>\n",
       "      <td>1.050</td>\n",
       "    </tr>\n",
       "  </tbody>\n",
       "</table>\n",
       "</div>"
      ],
      "text/plain": [
       "    Parameter   Coef. Std.Err.       z  P>|z|  [0.025  0.975]\n",
       "0   Intercept  13.775    0.757  18.201  0.000  12.292  15.258\n",
       "1  wh_numeric   0.841    0.107   7.878  0.000   0.631   1.050"
      ]
     },
     "metadata": {},
     "output_type": "display_data"
    },
    {
     "name": "stdout",
     "output_type": "stream",
     "text": [
      "\n",
      "=== RANDOM EFFECTS / VARIANCE-COVARIANCE ===\n"
     ]
    },
    {
     "data": {
      "text/html": [
       "<div>\n",
       "<style scoped>\n",
       "    .dataframe tbody tr th:only-of-type {\n",
       "        vertical-align: middle;\n",
       "    }\n",
       "\n",
       "    .dataframe tbody tr th {\n",
       "        vertical-align: top;\n",
       "    }\n",
       "\n",
       "    .dataframe thead th {\n",
       "        text-align: right;\n",
       "    }\n",
       "</style>\n",
       "<table border=\"1\" class=\"dataframe\">\n",
       "  <thead>\n",
       "    <tr style=\"text-align: right;\">\n",
       "      <th></th>\n",
       "      <th>Parameter</th>\n",
       "      <th>Coef.</th>\n",
       "      <th>Std.Err.</th>\n",
       "    </tr>\n",
       "  </thead>\n",
       "  <tbody>\n",
       "    <tr>\n",
       "      <th>0</th>\n",
       "      <td>Group Var</td>\n",
       "      <td>11.227</td>\n",
       "      <td>7.787</td>\n",
       "    </tr>\n",
       "  </tbody>\n",
       "</table>\n",
       "</div>"
      ],
      "text/plain": [
       "   Parameter   Coef. Std.Err.\n",
       "0  Group Var  11.227    7.787"
      ]
     },
     "metadata": {},
     "output_type": "display_data"
    },
    {
     "data": {
      "text/plain": [
       "<statsmodels.regression.mixed_linear_model.MixedLMResultsWrapper at 0x14a453897c10>"
      ]
     },
     "execution_count": 92,
     "metadata": {},
     "output_type": "execute_result"
    }
   ],
   "source": [
    "# flip test: gap-\n",
    "no_gap_df = sentence_df[sentence_df['gap_numeric'] == -1]\n",
    "iv_list = ['wh_numeric']\n",
    "mixed_effects_linear_regression(no_gap_df, iv_list, 'region_surprisal', 'double gap modifier: gap-')"
   ]
  },
  {
   "cell_type": "code",
   "execution_count": 93,
   "id": "cc5c1893",
   "metadata": {},
   "outputs": [
    {
     "name": "stdout",
     "output_type": "stream",
     "text": [
      "\n",
      "=== DOUBLE GAP MODIFIER: GAP+ ===\n",
      "\n",
      "=== MODEL SUMMARY ===\n",
      ":            MixedLM Dependent Variable: region_surprisal\n",
      "No. Observations: 120\n",
      "Method: REML\n",
      "No. Groups: 20\n",
      "Scale: 34.1428\n",
      "Min. group size: 6\n",
      "Log-Likelihood: -389.7886\n",
      "Max. group size: 6\n",
      "Converged: Yes\n",
      "Mean group size: 6.0\n",
      "\n",
      "=== FIXED EFFECTS COEFFICIENTS ===\n"
     ]
    },
    {
     "data": {
      "text/html": [
       "<div>\n",
       "<style scoped>\n",
       "    .dataframe tbody tr th:only-of-type {\n",
       "        vertical-align: middle;\n",
       "    }\n",
       "\n",
       "    .dataframe tbody tr th {\n",
       "        vertical-align: top;\n",
       "    }\n",
       "\n",
       "    .dataframe thead th {\n",
       "        text-align: right;\n",
       "    }\n",
       "</style>\n",
       "<table border=\"1\" class=\"dataframe\">\n",
       "  <thead>\n",
       "    <tr style=\"text-align: right;\">\n",
       "      <th></th>\n",
       "      <th>Parameter</th>\n",
       "      <th>Coef.</th>\n",
       "      <th>Std.Err.</th>\n",
       "      <th>z</th>\n",
       "      <th>P&gt;|z|</th>\n",
       "      <th>[0.025</th>\n",
       "      <th>0.975]</th>\n",
       "    </tr>\n",
       "  </thead>\n",
       "  <tbody>\n",
       "    <tr>\n",
       "      <th>0</th>\n",
       "      <td>Intercept</td>\n",
       "      <td>19.989</td>\n",
       "      <td>0.869</td>\n",
       "      <td>23.014</td>\n",
       "      <td>0.000</td>\n",
       "      <td>18.287</td>\n",
       "      <td>21.692</td>\n",
       "    </tr>\n",
       "    <tr>\n",
       "      <th>1</th>\n",
       "      <td>wh_numeric</td>\n",
       "      <td>-0.107</td>\n",
       "      <td>0.533</td>\n",
       "      <td>-0.201</td>\n",
       "      <td>0.840</td>\n",
       "      <td>-1.153</td>\n",
       "      <td>0.938</td>\n",
       "    </tr>\n",
       "  </tbody>\n",
       "</table>\n",
       "</div>"
      ],
      "text/plain": [
       "    Parameter   Coef. Std.Err.       z  P>|z|  [0.025  0.975]\n",
       "0   Intercept  19.989    0.869  23.014  0.000  18.287  21.692\n",
       "1  wh_numeric  -0.107    0.533  -0.201  0.840  -1.153   0.938"
      ]
     },
     "metadata": {},
     "output_type": "display_data"
    },
    {
     "name": "stdout",
     "output_type": "stream",
     "text": [
      "\n",
      "=== RANDOM EFFECTS / VARIANCE-COVARIANCE ===\n"
     ]
    },
    {
     "data": {
      "text/html": [
       "<div>\n",
       "<style scoped>\n",
       "    .dataframe tbody tr th:only-of-type {\n",
       "        vertical-align: middle;\n",
       "    }\n",
       "\n",
       "    .dataframe tbody tr th {\n",
       "        vertical-align: top;\n",
       "    }\n",
       "\n",
       "    .dataframe thead th {\n",
       "        text-align: right;\n",
       "    }\n",
       "</style>\n",
       "<table border=\"1\" class=\"dataframe\">\n",
       "  <thead>\n",
       "    <tr style=\"text-align: right;\">\n",
       "      <th></th>\n",
       "      <th>Parameter</th>\n",
       "      <th>Coef.</th>\n",
       "      <th>Std.Err.</th>\n",
       "    </tr>\n",
       "  </thead>\n",
       "  <tbody>\n",
       "    <tr>\n",
       "      <th>0</th>\n",
       "      <td>Group Var</td>\n",
       "      <td>9.398</td>\n",
       "      <td>0.915</td>\n",
       "    </tr>\n",
       "  </tbody>\n",
       "</table>\n",
       "</div>"
      ],
      "text/plain": [
       "   Parameter  Coef. Std.Err.\n",
       "0  Group Var  9.398    0.915"
      ]
     },
     "metadata": {},
     "output_type": "display_data"
    },
    {
     "data": {
      "text/plain": [
       "<statsmodels.regression.mixed_linear_model.MixedLMResultsWrapper at 0x14a4538ac8e0>"
      ]
     },
     "execution_count": 93,
     "metadata": {},
     "output_type": "execute_result"
    }
   ],
   "source": [
    "# flip test: gap+\n",
    "gap_df = sentence_df[sentence_df['gap_numeric'] == 1]\n",
    "iv_list = ['wh_numeric']\n",
    "mixed_effects_linear_regression(gap_df, iv_list, 'region_surprisal', 'double gap modifier: gap+')"
   ]
  },
  {
   "cell_type": "code",
   "execution_count": 94,
   "id": "9c10297b",
   "metadata": {},
   "outputs": [
    {
     "name": "stdout",
     "output_type": "stream",
     "text": [
      "\n",
      "=== DOUBLE GAP MODIFIER: DIVISION BY GRAMMATICALITY ===\n",
      "\n",
      "=== MODEL SUMMARY ===\n",
      "Model: MixedLM\n",
      "Dependent Variable: region_surprisal\n",
      "No. Observations: 160\n",
      "Method: REML\n",
      "No. Groups: 20\n",
      "Scale: 38.0901\n",
      "Min. group size: 8\n",
      "Log-Likelihood: -522.1661\n",
      "Max. group size: 8\n",
      "Converged: No\n",
      "Mean group size: 8.0\n",
      "\n",
      "=== FIXED EFFECTS COEFFICIENTS ===\n"
     ]
    },
    {
     "data": {
      "text/html": [
       "<div>\n",
       "<style scoped>\n",
       "    .dataframe tbody tr th:only-of-type {\n",
       "        vertical-align: middle;\n",
       "    }\n",
       "\n",
       "    .dataframe tbody tr th {\n",
       "        vertical-align: top;\n",
       "    }\n",
       "\n",
       "    .dataframe thead th {\n",
       "        text-align: right;\n",
       "    }\n",
       "</style>\n",
       "<table border=\"1\" class=\"dataframe\">\n",
       "  <thead>\n",
       "    <tr style=\"text-align: right;\">\n",
       "      <th></th>\n",
       "      <th>Parameter</th>\n",
       "      <th>Coef.</th>\n",
       "      <th>Std.Err.</th>\n",
       "      <th>z</th>\n",
       "      <th>P&gt;|z|</th>\n",
       "      <th>[0.025</th>\n",
       "      <th>0.975]</th>\n",
       "    </tr>\n",
       "  </thead>\n",
       "  <tbody>\n",
       "    <tr>\n",
       "      <th>0</th>\n",
       "      <td>Intercept</td>\n",
       "      <td>18.145</td>\n",
       "      <td>0.829</td>\n",
       "      <td>21.885</td>\n",
       "      <td>0.000</td>\n",
       "      <td>16.520</td>\n",
       "      <td>19.770</td>\n",
       "    </tr>\n",
       "    <tr>\n",
       "      <th>1</th>\n",
       "      <td>grammaticality[T.gram-]</td>\n",
       "      <td>0.581</td>\n",
       "      <td>0.976</td>\n",
       "      <td>0.596</td>\n",
       "      <td>0.551</td>\n",
       "      <td>-1.331</td>\n",
       "      <td>2.494</td>\n",
       "    </tr>\n",
       "  </tbody>\n",
       "</table>\n",
       "</div>"
      ],
      "text/plain": [
       "                 Parameter   Coef. Std.Err.       z  P>|z|  [0.025  0.975]\n",
       "0                Intercept  18.145    0.829  21.885  0.000  16.520  19.770\n",
       "1  grammaticality[T.gram-]   0.581    0.976   0.596  0.551  -1.331   2.494"
      ]
     },
     "metadata": {},
     "output_type": "display_data"
    },
    {
     "name": "stdout",
     "output_type": "stream",
     "text": [
      "\n",
      "=== RANDOM EFFECTS / VARIANCE-COVARIANCE ===\n"
     ]
    },
    {
     "data": {
      "text/html": [
       "<div>\n",
       "<style scoped>\n",
       "    .dataframe tbody tr th:only-of-type {\n",
       "        vertical-align: middle;\n",
       "    }\n",
       "\n",
       "    .dataframe tbody tr th {\n",
       "        vertical-align: top;\n",
       "    }\n",
       "\n",
       "    .dataframe thead th {\n",
       "        text-align: right;\n",
       "    }\n",
       "</style>\n",
       "<table border=\"1\" class=\"dataframe\">\n",
       "  <thead>\n",
       "    <tr style=\"text-align: right;\">\n",
       "      <th></th>\n",
       "      <th>Parameter</th>\n",
       "      <th>Coef.</th>\n",
       "      <th>Std.Err.</th>\n",
       "    </tr>\n",
       "  </thead>\n",
       "  <tbody>\n",
       "    <tr>\n",
       "      <th>0</th>\n",
       "      <td>Group Var</td>\n",
       "      <td>4.226</td>\n",
       "      <td>0.464</td>\n",
       "    </tr>\n",
       "  </tbody>\n",
       "</table>\n",
       "</div>"
      ],
      "text/plain": [
       "   Parameter  Coef. Std.Err.\n",
       "0  Group Var  4.226    0.464"
      ]
     },
     "metadata": {},
     "output_type": "display_data"
    },
    {
     "data": {
      "text/plain": [
       "<statsmodels.regression.mixed_linear_model.MixedLMResultsWrapper at 0x14a4538aebe0>"
      ]
     },
     "execution_count": 94,
     "metadata": {},
     "output_type": "execute_result"
    }
   ],
   "source": [
    "# division by grammaticality\n",
    "iv_list = ['grammaticality']\n",
    "mixed_effects_linear_regression(sentence_df, iv_list, 'region_surprisal', 'double gap modifier: division by grammaticality')"
   ]
  },
  {
   "cell_type": "markdown",
   "id": "b12c8984",
   "metadata": {},
   "source": [
    "Subject Gap Position"
   ]
  },
  {
   "cell_type": "code",
   "execution_count": 95,
   "id": "705af67a",
   "metadata": {},
   "outputs": [],
   "source": [
    "subjectgap_df = sentence_df[sentence_df['condition'].isin(['a', 'b', 'd', 'e', 'f', 'h'])]"
   ]
  },
  {
   "cell_type": "code",
   "execution_count": 96,
   "id": "7735fb48",
   "metadata": {},
   "outputs": [
    {
     "name": "stdout",
     "output_type": "stream",
     "text": [
      "\n",
      "=== DOUBLE GAP MODIFIER SUBJECT GAP POSITION: GAP- ===\n",
      "\n",
      "=== MODEL SUMMARY ===\n",
      ":            MixedLM Dependent Variable: region_surprisal\n",
      "No. Observations: 40\n",
      "Method: REML\n",
      "No. Groups: 20\n",
      "Scale: 0.4555\n",
      "Min. group size: 2\n",
      "Log-Likelihood: -79.8887\n",
      "Max. group size: 2\n",
      "Converged: Yes\n",
      "Mean group size: 2.0\n",
      "\n",
      "=== FIXED EFFECTS COEFFICIENTS ===\n"
     ]
    },
    {
     "data": {
      "text/html": [
       "<div>\n",
       "<style scoped>\n",
       "    .dataframe tbody tr th:only-of-type {\n",
       "        vertical-align: middle;\n",
       "    }\n",
       "\n",
       "    .dataframe tbody tr th {\n",
       "        vertical-align: top;\n",
       "    }\n",
       "\n",
       "    .dataframe thead th {\n",
       "        text-align: right;\n",
       "    }\n",
       "</style>\n",
       "<table border=\"1\" class=\"dataframe\">\n",
       "  <thead>\n",
       "    <tr style=\"text-align: right;\">\n",
       "      <th></th>\n",
       "      <th>Parameter</th>\n",
       "      <th>Coef.</th>\n",
       "      <th>Std.Err.</th>\n",
       "      <th>z</th>\n",
       "      <th>P&gt;|z|</th>\n",
       "      <th>[0.025</th>\n",
       "      <th>0.975]</th>\n",
       "    </tr>\n",
       "  </thead>\n",
       "  <tbody>\n",
       "    <tr>\n",
       "      <th>0</th>\n",
       "      <td>Intercept</td>\n",
       "      <td>13.775</td>\n",
       "      <td>0.757</td>\n",
       "      <td>18.201</td>\n",
       "      <td>0.000</td>\n",
       "      <td>12.292</td>\n",
       "      <td>15.258</td>\n",
       "    </tr>\n",
       "    <tr>\n",
       "      <th>1</th>\n",
       "      <td>wh_numeric</td>\n",
       "      <td>0.841</td>\n",
       "      <td>0.107</td>\n",
       "      <td>7.878</td>\n",
       "      <td>0.000</td>\n",
       "      <td>0.631</td>\n",
       "      <td>1.050</td>\n",
       "    </tr>\n",
       "  </tbody>\n",
       "</table>\n",
       "</div>"
      ],
      "text/plain": [
       "    Parameter   Coef. Std.Err.       z  P>|z|  [0.025  0.975]\n",
       "0   Intercept  13.775    0.757  18.201  0.000  12.292  15.258\n",
       "1  wh_numeric   0.841    0.107   7.878  0.000   0.631   1.050"
      ]
     },
     "metadata": {},
     "output_type": "display_data"
    },
    {
     "name": "stdout",
     "output_type": "stream",
     "text": [
      "\n",
      "=== RANDOM EFFECTS / VARIANCE-COVARIANCE ===\n"
     ]
    },
    {
     "data": {
      "text/html": [
       "<div>\n",
       "<style scoped>\n",
       "    .dataframe tbody tr th:only-of-type {\n",
       "        vertical-align: middle;\n",
       "    }\n",
       "\n",
       "    .dataframe tbody tr th {\n",
       "        vertical-align: top;\n",
       "    }\n",
       "\n",
       "    .dataframe thead th {\n",
       "        text-align: right;\n",
       "    }\n",
       "</style>\n",
       "<table border=\"1\" class=\"dataframe\">\n",
       "  <thead>\n",
       "    <tr style=\"text-align: right;\">\n",
       "      <th></th>\n",
       "      <th>Parameter</th>\n",
       "      <th>Coef.</th>\n",
       "      <th>Std.Err.</th>\n",
       "    </tr>\n",
       "  </thead>\n",
       "  <tbody>\n",
       "    <tr>\n",
       "      <th>0</th>\n",
       "      <td>Group Var</td>\n",
       "      <td>11.227</td>\n",
       "      <td>7.787</td>\n",
       "    </tr>\n",
       "  </tbody>\n",
       "</table>\n",
       "</div>"
      ],
      "text/plain": [
       "   Parameter   Coef. Std.Err.\n",
       "0  Group Var  11.227    7.787"
      ]
     },
     "metadata": {},
     "output_type": "display_data"
    },
    {
     "data": {
      "text/plain": [
       "<statsmodels.regression.mixed_linear_model.MixedLMResultsWrapper at 0x14a4538b2f70>"
      ]
     },
     "execution_count": 96,
     "metadata": {},
     "output_type": "execute_result"
    }
   ],
   "source": [
    "# flip test: gap-\n",
    "no_gap_df = subjectgap_df[subjectgap_df['gap_numeric'] == -1]\n",
    "iv_list = ['wh_numeric']\n",
    "mixed_effects_linear_regression(no_gap_df, iv_list, 'region_surprisal', 'double gap modifier subject gap position: gap-')"
   ]
  },
  {
   "cell_type": "code",
   "execution_count": 97,
   "id": "3760315a",
   "metadata": {},
   "outputs": [
    {
     "name": "stdout",
     "output_type": "stream",
     "text": [
      "\n",
      "=== DOUBLE GAP MODIFIER SUBJECT GAP POSITION: GAP+ ===\n",
      "\n",
      "=== MODEL SUMMARY ===\n",
      ":            MixedLM Dependent Variable: region_surprisal\n",
      "No. Observations: 80\n",
      "Method: REML\n",
      "No. Groups: 20\n",
      "Scale: 44.5731\n",
      "Min. group size: 4\n",
      "Log-Likelihood: -264.1882\n",
      "Max. group size: 4\n",
      "Converged: Yes\n",
      "Mean group size: 4.0\n",
      "\n",
      "=== FIXED EFFECTS COEFFICIENTS ===\n"
     ]
    },
    {
     "data": {
      "text/html": [
       "<div>\n",
       "<style scoped>\n",
       "    .dataframe tbody tr th:only-of-type {\n",
       "        vertical-align: middle;\n",
       "    }\n",
       "\n",
       "    .dataframe tbody tr th {\n",
       "        vertical-align: top;\n",
       "    }\n",
       "\n",
       "    .dataframe thead th {\n",
       "        text-align: right;\n",
       "    }\n",
       "</style>\n",
       "<table border=\"1\" class=\"dataframe\">\n",
       "  <thead>\n",
       "    <tr style=\"text-align: right;\">\n",
       "      <th></th>\n",
       "      <th>Parameter</th>\n",
       "      <th>Coef.</th>\n",
       "      <th>Std.Err.</th>\n",
       "      <th>z</th>\n",
       "      <th>P&gt;|z|</th>\n",
       "      <th>[0.025</th>\n",
       "      <th>0.975]</th>\n",
       "    </tr>\n",
       "  </thead>\n",
       "  <tbody>\n",
       "    <tr>\n",
       "      <th>0</th>\n",
       "      <td>Intercept</td>\n",
       "      <td>19.101</td>\n",
       "      <td>0.788</td>\n",
       "      <td>24.225</td>\n",
       "      <td>0.000</td>\n",
       "      <td>17.555</td>\n",
       "      <td>20.646</td>\n",
       "    </tr>\n",
       "    <tr>\n",
       "      <th>1</th>\n",
       "      <td>wh_numeric</td>\n",
       "      <td>-0.003</td>\n",
       "      <td>0.746</td>\n",
       "      <td>-0.004</td>\n",
       "      <td>0.997</td>\n",
       "      <td>-1.466</td>\n",
       "      <td>1.460</td>\n",
       "    </tr>\n",
       "  </tbody>\n",
       "</table>\n",
       "</div>"
      ],
      "text/plain": [
       "    Parameter   Coef. Std.Err.       z  P>|z|  [0.025  0.975]\n",
       "0   Intercept  19.101    0.788  24.225  0.000  17.555  20.646\n",
       "1  wh_numeric  -0.003    0.746  -0.004  0.997  -1.466   1.460"
      ]
     },
     "metadata": {},
     "output_type": "display_data"
    },
    {
     "name": "stdout",
     "output_type": "stream",
     "text": [
      "\n",
      "=== RANDOM EFFECTS / VARIANCE-COVARIANCE ===\n"
     ]
    },
    {
     "data": {
      "text/html": [
       "<div>\n",
       "<style scoped>\n",
       "    .dataframe tbody tr th:only-of-type {\n",
       "        vertical-align: middle;\n",
       "    }\n",
       "\n",
       "    .dataframe tbody tr th {\n",
       "        vertical-align: top;\n",
       "    }\n",
       "\n",
       "    .dataframe thead th {\n",
       "        text-align: right;\n",
       "    }\n",
       "</style>\n",
       "<table border=\"1\" class=\"dataframe\">\n",
       "  <thead>\n",
       "    <tr style=\"text-align: right;\">\n",
       "      <th></th>\n",
       "      <th>Parameter</th>\n",
       "      <th>Coef.</th>\n",
       "      <th>Std.Err.</th>\n",
       "    </tr>\n",
       "  </thead>\n",
       "  <tbody>\n",
       "    <tr>\n",
       "      <th>0</th>\n",
       "      <td>Group Var</td>\n",
       "      <td>1.290</td>\n",
       "      <td>0.949</td>\n",
       "    </tr>\n",
       "  </tbody>\n",
       "</table>\n",
       "</div>"
      ],
      "text/plain": [
       "   Parameter  Coef. Std.Err.\n",
       "0  Group Var  1.290    0.949"
      ]
     },
     "metadata": {},
     "output_type": "display_data"
    },
    {
     "data": {
      "text/plain": [
       "<statsmodels.regression.mixed_linear_model.MixedLMResultsWrapper at 0x14a4538ba100>"
      ]
     },
     "execution_count": 97,
     "metadata": {},
     "output_type": "execute_result"
    }
   ],
   "source": [
    "# flip test: gap+\n",
    "gap_df = subjectgap_df[subjectgap_df['gap_numeric'] == 1]\n",
    "iv_list = ['wh_numeric']\n",
    "mixed_effects_linear_regression(gap_df, iv_list, 'region_surprisal', 'double gap modifier subject gap position: gap+')"
   ]
  },
  {
   "cell_type": "code",
   "execution_count": 98,
   "id": "d556f8ac",
   "metadata": {},
   "outputs": [
    {
     "name": "stdout",
     "output_type": "stream",
     "text": [
      "\n",
      "=== DOUBLE GAP MODIFIER SUBJECT GAP POSITION: DIVISION BY GRAMMATICALITY ===\n",
      "\n",
      "=== MODEL SUMMARY ===\n",
      "Model: MixedLM\n",
      "Dependent Variable: region_surprisal\n",
      "No. Observations: 120\n",
      "Method: REML\n",
      "No. Groups: 20\n",
      "Scale: 40.4394\n",
      "Min. group size: 6\n",
      "Log-Likelihood: -389.8176\n",
      "Max. group size: 6\n",
      "Converged: Yes\n",
      "Mean group size: 6.0\n",
      "\n",
      "=== FIXED EFFECTS COEFFICIENTS ===\n"
     ]
    },
    {
     "data": {
      "text/html": [
       "<div>\n",
       "<style scoped>\n",
       "    .dataframe tbody tr th:only-of-type {\n",
       "        vertical-align: middle;\n",
       "    }\n",
       "\n",
       "    .dataframe tbody tr th {\n",
       "        vertical-align: top;\n",
       "    }\n",
       "\n",
       "    .dataframe thead th {\n",
       "        text-align: right;\n",
       "    }\n",
       "</style>\n",
       "<table border=\"1\" class=\"dataframe\">\n",
       "  <thead>\n",
       "    <tr style=\"text-align: right;\">\n",
       "      <th></th>\n",
       "      <th>Parameter</th>\n",
       "      <th>Coef.</th>\n",
       "      <th>Std.Err.</th>\n",
       "      <th>z</th>\n",
       "      <th>P&gt;|z|</th>\n",
       "      <th>[0.025</th>\n",
       "      <th>0.975]</th>\n",
       "    </tr>\n",
       "  </thead>\n",
       "  <tbody>\n",
       "    <tr>\n",
       "      <th>0</th>\n",
       "      <td>Intercept</td>\n",
       "      <td>17.043</td>\n",
       "      <td>0.821</td>\n",
       "      <td>20.760</td>\n",
       "      <td>0.000</td>\n",
       "      <td>15.434</td>\n",
       "      <td>18.652</td>\n",
       "    </tr>\n",
       "    <tr>\n",
       "      <th>1</th>\n",
       "      <td>grammaticality[T.gram-]</td>\n",
       "      <td>0.565</td>\n",
       "      <td>1.161</td>\n",
       "      <td>0.486</td>\n",
       "      <td>0.627</td>\n",
       "      <td>-1.711</td>\n",
       "      <td>2.840</td>\n",
       "    </tr>\n",
       "  </tbody>\n",
       "</table>\n",
       "</div>"
      ],
      "text/plain": [
       "                 Parameter   Coef. Std.Err.       z  P>|z|  [0.025  0.975]\n",
       "0                Intercept  17.043    0.821  20.760  0.000  15.434  18.652\n",
       "1  grammaticality[T.gram-]   0.565    1.161   0.486  0.627  -1.711   2.840"
      ]
     },
     "metadata": {},
     "output_type": "display_data"
    },
    {
     "name": "stdout",
     "output_type": "stream",
     "text": [
      "\n",
      "=== RANDOM EFFECTS / VARIANCE-COVARIANCE ===\n"
     ]
    },
    {
     "data": {
      "text/html": [
       "<div>\n",
       "<style scoped>\n",
       "    .dataframe tbody tr th:only-of-type {\n",
       "        vertical-align: middle;\n",
       "    }\n",
       "\n",
       "    .dataframe tbody tr th {\n",
       "        vertical-align: top;\n",
       "    }\n",
       "\n",
       "    .dataframe thead th {\n",
       "        text-align: right;\n",
       "    }\n",
       "</style>\n",
       "<table border=\"1\" class=\"dataframe\">\n",
       "  <thead>\n",
       "    <tr style=\"text-align: right;\">\n",
       "      <th></th>\n",
       "      <th>Parameter</th>\n",
       "      <th>Coef.</th>\n",
       "      <th>Std.Err.</th>\n",
       "    </tr>\n",
       "  </thead>\n",
       "  <tbody>\n",
       "    <tr>\n",
       "      <th>0</th>\n",
       "      <td>Group Var</td>\n",
       "      <td>0.000</td>\n",
       "      <td>0.378</td>\n",
       "    </tr>\n",
       "  </tbody>\n",
       "</table>\n",
       "</div>"
      ],
      "text/plain": [
       "   Parameter  Coef. Std.Err.\n",
       "0  Group Var  0.000    0.378"
      ]
     },
     "metadata": {},
     "output_type": "display_data"
    },
    {
     "data": {
      "text/plain": [
       "<statsmodels.regression.mixed_linear_model.MixedLMResultsWrapper at 0x14a4538bef70>"
      ]
     },
     "execution_count": 98,
     "metadata": {},
     "output_type": "execute_result"
    }
   ],
   "source": [
    "# division by grammaticality\n",
    "iv_list = ['grammaticality']\n",
    "mixed_effects_linear_regression(subjectgap_df, iv_list, 'region_surprisal', 'double gap modifier subject gap position: division by grammaticality')"
   ]
  },
  {
   "cell_type": "markdown",
   "id": "fdb47c1b",
   "metadata": {},
   "source": [
    "Object Gap Position"
   ]
  },
  {
   "cell_type": "code",
   "execution_count": 99,
   "id": "8c4e4115",
   "metadata": {},
   "outputs": [],
   "source": [
    "objectgap_df = sentence_df[sentence_df['condition'].isin(['a', 'c', 'd', 'e', 'g', 'h'])]"
   ]
  },
  {
   "cell_type": "code",
   "execution_count": 100,
   "id": "6c9e5b2a",
   "metadata": {},
   "outputs": [
    {
     "name": "stdout",
     "output_type": "stream",
     "text": [
      "\n",
      "=== DOUBLE GAP MODIFIER OBJECT GAP POSITION: GAP- ===\n",
      "\n",
      "=== MODEL SUMMARY ===\n",
      ":            MixedLM Dependent Variable: region_surprisal\n",
      "No. Observations: 40\n",
      "Method: REML\n",
      "No. Groups: 20\n",
      "Scale: 0.4555\n",
      "Min. group size: 2\n",
      "Log-Likelihood: -79.8887\n",
      "Max. group size: 2\n",
      "Converged: Yes\n",
      "Mean group size: 2.0\n",
      "\n",
      "=== FIXED EFFECTS COEFFICIENTS ===\n"
     ]
    },
    {
     "data": {
      "text/html": [
       "<div>\n",
       "<style scoped>\n",
       "    .dataframe tbody tr th:only-of-type {\n",
       "        vertical-align: middle;\n",
       "    }\n",
       "\n",
       "    .dataframe tbody tr th {\n",
       "        vertical-align: top;\n",
       "    }\n",
       "\n",
       "    .dataframe thead th {\n",
       "        text-align: right;\n",
       "    }\n",
       "</style>\n",
       "<table border=\"1\" class=\"dataframe\">\n",
       "  <thead>\n",
       "    <tr style=\"text-align: right;\">\n",
       "      <th></th>\n",
       "      <th>Parameter</th>\n",
       "      <th>Coef.</th>\n",
       "      <th>Std.Err.</th>\n",
       "      <th>z</th>\n",
       "      <th>P&gt;|z|</th>\n",
       "      <th>[0.025</th>\n",
       "      <th>0.975]</th>\n",
       "    </tr>\n",
       "  </thead>\n",
       "  <tbody>\n",
       "    <tr>\n",
       "      <th>0</th>\n",
       "      <td>Intercept</td>\n",
       "      <td>13.775</td>\n",
       "      <td>0.757</td>\n",
       "      <td>18.201</td>\n",
       "      <td>0.000</td>\n",
       "      <td>12.292</td>\n",
       "      <td>15.258</td>\n",
       "    </tr>\n",
       "    <tr>\n",
       "      <th>1</th>\n",
       "      <td>wh_numeric</td>\n",
       "      <td>0.841</td>\n",
       "      <td>0.107</td>\n",
       "      <td>7.878</td>\n",
       "      <td>0.000</td>\n",
       "      <td>0.631</td>\n",
       "      <td>1.050</td>\n",
       "    </tr>\n",
       "  </tbody>\n",
       "</table>\n",
       "</div>"
      ],
      "text/plain": [
       "    Parameter   Coef. Std.Err.       z  P>|z|  [0.025  0.975]\n",
       "0   Intercept  13.775    0.757  18.201  0.000  12.292  15.258\n",
       "1  wh_numeric   0.841    0.107   7.878  0.000   0.631   1.050"
      ]
     },
     "metadata": {},
     "output_type": "display_data"
    },
    {
     "name": "stdout",
     "output_type": "stream",
     "text": [
      "\n",
      "=== RANDOM EFFECTS / VARIANCE-COVARIANCE ===\n"
     ]
    },
    {
     "data": {
      "text/html": [
       "<div>\n",
       "<style scoped>\n",
       "    .dataframe tbody tr th:only-of-type {\n",
       "        vertical-align: middle;\n",
       "    }\n",
       "\n",
       "    .dataframe tbody tr th {\n",
       "        vertical-align: top;\n",
       "    }\n",
       "\n",
       "    .dataframe thead th {\n",
       "        text-align: right;\n",
       "    }\n",
       "</style>\n",
       "<table border=\"1\" class=\"dataframe\">\n",
       "  <thead>\n",
       "    <tr style=\"text-align: right;\">\n",
       "      <th></th>\n",
       "      <th>Parameter</th>\n",
       "      <th>Coef.</th>\n",
       "      <th>Std.Err.</th>\n",
       "    </tr>\n",
       "  </thead>\n",
       "  <tbody>\n",
       "    <tr>\n",
       "      <th>0</th>\n",
       "      <td>Group Var</td>\n",
       "      <td>11.227</td>\n",
       "      <td>7.787</td>\n",
       "    </tr>\n",
       "  </tbody>\n",
       "</table>\n",
       "</div>"
      ],
      "text/plain": [
       "   Parameter   Coef. Std.Err.\n",
       "0  Group Var  11.227    7.787"
      ]
     },
     "metadata": {},
     "output_type": "display_data"
    },
    {
     "data": {
      "text/plain": [
       "<statsmodels.regression.mixed_linear_model.MixedLMResultsWrapper at 0x14a45389e6d0>"
      ]
     },
     "execution_count": 100,
     "metadata": {},
     "output_type": "execute_result"
    }
   ],
   "source": [
    "# flip test: gap-\n",
    "no_gap_df = objectgap_df[objectgap_df['gap_numeric'] == -1]\n",
    "iv_list = ['wh_numeric']\n",
    "mixed_effects_linear_regression(no_gap_df, iv_list, 'region_surprisal', 'double gap modifier object gap position: gap-')"
   ]
  },
  {
   "cell_type": "code",
   "execution_count": 101,
   "id": "c976c71d",
   "metadata": {},
   "outputs": [
    {
     "name": "stdout",
     "output_type": "stream",
     "text": [
      "\n",
      "=== DOUBLE GAP MODIFIER OBJECT GAP POSITION: GAP+ ===\n",
      "\n",
      "=== MODEL SUMMARY ===\n",
      ":            MixedLM Dependent Variable: region_surprisal\n",
      "No. Observations: 80\n",
      "Method: REML\n",
      "No. Groups: 20\n",
      "Scale: 3.1784\n",
      "Min. group size: 4\n",
      "Log-Likelihood: -196.0069\n",
      "Max. group size: 4\n",
      "Converged: Yes\n",
      "Mean group size: 4.0\n",
      "\n",
      "=== FIXED EFFECTS COEFFICIENTS ===\n"
     ]
    },
    {
     "data": {
      "text/html": [
       "<div>\n",
       "<style scoped>\n",
       "    .dataframe tbody tr th:only-of-type {\n",
       "        vertical-align: middle;\n",
       "    }\n",
       "\n",
       "    .dataframe tbody tr th {\n",
       "        vertical-align: top;\n",
       "    }\n",
       "\n",
       "    .dataframe thead th {\n",
       "        text-align: right;\n",
       "    }\n",
       "</style>\n",
       "<table border=\"1\" class=\"dataframe\">\n",
       "  <thead>\n",
       "    <tr style=\"text-align: right;\">\n",
       "      <th></th>\n",
       "      <th>Parameter</th>\n",
       "      <th>Coef.</th>\n",
       "      <th>Std.Err.</th>\n",
       "      <th>z</th>\n",
       "      <th>P&gt;|z|</th>\n",
       "      <th>[0.025</th>\n",
       "      <th>0.975]</th>\n",
       "    </tr>\n",
       "  </thead>\n",
       "  <tbody>\n",
       "    <tr>\n",
       "      <th>0</th>\n",
       "      <td>Intercept</td>\n",
       "      <td>22.831</td>\n",
       "      <td>1.315</td>\n",
       "      <td>17.360</td>\n",
       "      <td>0.000</td>\n",
       "      <td>20.253</td>\n",
       "      <td>25.409</td>\n",
       "    </tr>\n",
       "    <tr>\n",
       "      <th>1</th>\n",
       "      <td>wh_numeric</td>\n",
       "      <td>-0.079</td>\n",
       "      <td>0.199</td>\n",
       "      <td>-0.398</td>\n",
       "      <td>0.690</td>\n",
       "      <td>-0.470</td>\n",
       "      <td>0.311</td>\n",
       "    </tr>\n",
       "  </tbody>\n",
       "</table>\n",
       "</div>"
      ],
      "text/plain": [
       "    Parameter   Coef. Std.Err.       z  P>|z|  [0.025  0.975]\n",
       "0   Intercept  22.831    1.315  17.360  0.000  20.253  25.409\n",
       "1  wh_numeric  -0.079    0.199  -0.398  0.690  -0.470   0.311"
      ]
     },
     "metadata": {},
     "output_type": "display_data"
    },
    {
     "name": "stdout",
     "output_type": "stream",
     "text": [
      "\n",
      "=== RANDOM EFFECTS / VARIANCE-COVARIANCE ===\n"
     ]
    },
    {
     "data": {
      "text/html": [
       "<div>\n",
       "<style scoped>\n",
       "    .dataframe tbody tr th:only-of-type {\n",
       "        vertical-align: middle;\n",
       "    }\n",
       "\n",
       "    .dataframe tbody tr th {\n",
       "        vertical-align: top;\n",
       "    }\n",
       "\n",
       "    .dataframe thead th {\n",
       "        text-align: right;\n",
       "    }\n",
       "</style>\n",
       "<table border=\"1\" class=\"dataframe\">\n",
       "  <thead>\n",
       "    <tr style=\"text-align: right;\">\n",
       "      <th></th>\n",
       "      <th>Parameter</th>\n",
       "      <th>Coef.</th>\n",
       "      <th>Std.Err.</th>\n",
       "    </tr>\n",
       "  </thead>\n",
       "  <tbody>\n",
       "    <tr>\n",
       "      <th>0</th>\n",
       "      <td>Group Var</td>\n",
       "      <td>33.799</td>\n",
       "      <td>7.238</td>\n",
       "    </tr>\n",
       "  </tbody>\n",
       "</table>\n",
       "</div>"
      ],
      "text/plain": [
       "   Parameter   Coef. Std.Err.\n",
       "0  Group Var  33.799    7.238"
      ]
     },
     "metadata": {},
     "output_type": "display_data"
    },
    {
     "data": {
      "text/plain": [
       "<statsmodels.regression.mixed_linear_model.MixedLMResultsWrapper at 0x14a453811940>"
      ]
     },
     "execution_count": 101,
     "metadata": {},
     "output_type": "execute_result"
    }
   ],
   "source": [
    "# flip test: gap+\n",
    "gap_df = objectgap_df[objectgap_df['gap_numeric'] == 1]\n",
    "iv_list = ['wh_numeric']\n",
    "mixed_effects_linear_regression(gap_df, iv_list, 'region_surprisal', 'double gap modifier object gap position: gap+')"
   ]
  },
  {
   "cell_type": "code",
   "execution_count": 102,
   "id": "1a6c9d5f",
   "metadata": {},
   "outputs": [
    {
     "name": "stdout",
     "output_type": "stream",
     "text": [
      "\n",
      "=== DOUBLE GAP MODIFIER OBJECT GAP POSITION: DIVISION BY GRAMMATICALITY ===\n",
      "\n",
      "=== MODEL SUMMARY ===\n",
      "Model: MixedLM\n",
      "Dependent Variable: region_surprisal\n",
      "No. Observations: 120\n",
      "Method: REML\n",
      "No. Groups: 20\n",
      "Scale: 36.7169\n",
      "Min. group size: 6\n",
      "Log-Likelihood: -393.2729\n",
      "Max. group size: 6\n",
      "Converged: Yes\n",
      "Mean group size: 6.0\n",
      "\n",
      "=== FIXED EFFECTS COEFFICIENTS ===\n"
     ]
    },
    {
     "data": {
      "text/html": [
       "<div>\n",
       "<style scoped>\n",
       "    .dataframe tbody tr th:only-of-type {\n",
       "        vertical-align: middle;\n",
       "    }\n",
       "\n",
       "    .dataframe tbody tr th {\n",
       "        vertical-align: top;\n",
       "    }\n",
       "\n",
       "    .dataframe thead th {\n",
       "        text-align: right;\n",
       "    }\n",
       "</style>\n",
       "<table border=\"1\" class=\"dataframe\">\n",
       "  <thead>\n",
       "    <tr style=\"text-align: right;\">\n",
       "      <th></th>\n",
       "      <th>Parameter</th>\n",
       "      <th>Coef.</th>\n",
       "      <th>Std.Err.</th>\n",
       "      <th>z</th>\n",
       "      <th>P&gt;|z|</th>\n",
       "      <th>[0.025</th>\n",
       "      <th>0.975]</th>\n",
       "    </tr>\n",
       "  </thead>\n",
       "  <tbody>\n",
       "    <tr>\n",
       "      <th>0</th>\n",
       "      <td>Intercept</td>\n",
       "      <td>19.479</td>\n",
       "      <td>1.053</td>\n",
       "      <td>18.507</td>\n",
       "      <td>0.000</td>\n",
       "      <td>17.416</td>\n",
       "      <td>21.542</td>\n",
       "    </tr>\n",
       "    <tr>\n",
       "      <th>1</th>\n",
       "      <td>grammaticality[T.gram-]</td>\n",
       "      <td>0.666</td>\n",
       "      <td>1.106</td>\n",
       "      <td>0.602</td>\n",
       "      <td>0.547</td>\n",
       "      <td>-1.502</td>\n",
       "      <td>2.835</td>\n",
       "    </tr>\n",
       "  </tbody>\n",
       "</table>\n",
       "</div>"
      ],
      "text/plain": [
       "                 Parameter   Coef. Std.Err.       z  P>|z|  [0.025  0.975]\n",
       "0                Intercept  19.479    1.053  18.507  0.000  17.416  21.542\n",
       "1  grammaticality[T.gram-]   0.666    1.106   0.602  0.547  -1.502   2.835"
      ]
     },
     "metadata": {},
     "output_type": "display_data"
    },
    {
     "name": "stdout",
     "output_type": "stream",
     "text": [
      "\n",
      "=== RANDOM EFFECTS / VARIANCE-COVARIANCE ===\n"
     ]
    },
    {
     "data": {
      "text/html": [
       "<div>\n",
       "<style scoped>\n",
       "    .dataframe tbody tr th:only-of-type {\n",
       "        vertical-align: middle;\n",
       "    }\n",
       "\n",
       "    .dataframe tbody tr th {\n",
       "        vertical-align: top;\n",
       "    }\n",
       "\n",
       "    .dataframe thead th {\n",
       "        text-align: right;\n",
       "    }\n",
       "</style>\n",
       "<table border=\"1\" class=\"dataframe\">\n",
       "  <thead>\n",
       "    <tr style=\"text-align: right;\">\n",
       "      <th></th>\n",
       "      <th>Parameter</th>\n",
       "      <th>Coef.</th>\n",
       "      <th>Std.Err.</th>\n",
       "    </tr>\n",
       "  </thead>\n",
       "  <tbody>\n",
       "    <tr>\n",
       "      <th>0</th>\n",
       "      <td>Group Var</td>\n",
       "      <td>9.918</td>\n",
       "      <td>0.937</td>\n",
       "    </tr>\n",
       "  </tbody>\n",
       "</table>\n",
       "</div>"
      ],
      "text/plain": [
       "   Parameter  Coef. Std.Err.\n",
       "0  Group Var  9.918    0.937"
      ]
     },
     "metadata": {},
     "output_type": "display_data"
    },
    {
     "data": {
      "text/plain": [
       "<statsmodels.regression.mixed_linear_model.MixedLMResultsWrapper at 0x14a4538428e0>"
      ]
     },
     "execution_count": 102,
     "metadata": {},
     "output_type": "execute_result"
    }
   ],
   "source": [
    "# division by grammaticality\n",
    "iv_list = ['grammaticality']\n",
    "mixed_effects_linear_regression(objectgap_df, iv_list, 'region_surprisal', 'double gap modifier object gap position: division by grammaticality')"
   ]
  },
  {
   "cell_type": "markdown",
   "id": "8093b5cf",
   "metadata": {},
   "source": [
    "Embedded Clause"
   ]
  },
  {
   "cell_type": "code",
   "execution_count": 103,
   "id": "d8678386",
   "metadata": {},
   "outputs": [],
   "source": [
    "embed = ['subj', 'object', 'verb', 'modifier', 'end']\n",
    "sentence_df['embed_surprisal'] = sentence_df.apply(lambda x: sum_region_surprisal(x, embed, normalize = True), axis = 1)"
   ]
  },
  {
   "cell_type": "code",
   "execution_count": 104,
   "id": "06f1720f",
   "metadata": {},
   "outputs": [
    {
     "name": "stdout",
     "output_type": "stream",
     "text": [
      "\n",
      "=== DOUBLE GAP EMBED: GAP- ===\n",
      "\n",
      "=== MODEL SUMMARY ===\n",
      ":            MixedLM Dependent Variable: embed_surprisal\n",
      "No. Observations: 40\n",
      "Method: REML\n",
      "No. Groups: 20\n",
      "Scale: 0.0136\n",
      "Min. group size: 2\n",
      "Log-Likelihood: -11.8427\n",
      "Max. group size: 2\n",
      "Converged: Yes\n",
      "Mean group size: 2.0\n",
      "\n",
      "=== FIXED EFFECTS COEFFICIENTS ===\n"
     ]
    },
    {
     "data": {
      "text/html": [
       "<div>\n",
       "<style scoped>\n",
       "    .dataframe tbody tr th:only-of-type {\n",
       "        vertical-align: middle;\n",
       "    }\n",
       "\n",
       "    .dataframe tbody tr th {\n",
       "        vertical-align: top;\n",
       "    }\n",
       "\n",
       "    .dataframe thead th {\n",
       "        text-align: right;\n",
       "    }\n",
       "</style>\n",
       "<table border=\"1\" class=\"dataframe\">\n",
       "  <thead>\n",
       "    <tr style=\"text-align: right;\">\n",
       "      <th></th>\n",
       "      <th>Parameter</th>\n",
       "      <th>Coef.</th>\n",
       "      <th>Std.Err.</th>\n",
       "      <th>z</th>\n",
       "      <th>P&gt;|z|</th>\n",
       "      <th>[0.025</th>\n",
       "      <th>0.975]</th>\n",
       "    </tr>\n",
       "  </thead>\n",
       "  <tbody>\n",
       "    <tr>\n",
       "      <th>0</th>\n",
       "      <td>Intercept</td>\n",
       "      <td>5.051</td>\n",
       "      <td>0.122</td>\n",
       "      <td>41.444</td>\n",
       "      <td>0.000</td>\n",
       "      <td>4.812</td>\n",
       "      <td>5.290</td>\n",
       "    </tr>\n",
       "    <tr>\n",
       "      <th>1</th>\n",
       "      <td>wh_numeric</td>\n",
       "      <td>0.133</td>\n",
       "      <td>0.018</td>\n",
       "      <td>7.232</td>\n",
       "      <td>0.000</td>\n",
       "      <td>0.097</td>\n",
       "      <td>0.170</td>\n",
       "    </tr>\n",
       "  </tbody>\n",
       "</table>\n",
       "</div>"
      ],
      "text/plain": [
       "    Parameter  Coef. Std.Err.       z  P>|z| [0.025 0.975]\n",
       "0   Intercept  5.051    0.122  41.444  0.000  4.812  5.290\n",
       "1  wh_numeric  0.133    0.018   7.232  0.000  0.097  0.170"
      ]
     },
     "metadata": {},
     "output_type": "display_data"
    },
    {
     "name": "stdout",
     "output_type": "stream",
     "text": [
      "\n",
      "=== RANDOM EFFECTS / VARIANCE-COVARIANCE ===\n"
     ]
    },
    {
     "data": {
      "text/html": [
       "<div>\n",
       "<style scoped>\n",
       "    .dataframe tbody tr th:only-of-type {\n",
       "        vertical-align: middle;\n",
       "    }\n",
       "\n",
       "    .dataframe tbody tr th {\n",
       "        vertical-align: top;\n",
       "    }\n",
       "\n",
       "    .dataframe thead th {\n",
       "        text-align: right;\n",
       "    }\n",
       "</style>\n",
       "<table border=\"1\" class=\"dataframe\">\n",
       "  <thead>\n",
       "    <tr style=\"text-align: right;\">\n",
       "      <th></th>\n",
       "      <th>Parameter</th>\n",
       "      <th>Coef.</th>\n",
       "      <th>Std.Err.</th>\n",
       "    </tr>\n",
       "  </thead>\n",
       "  <tbody>\n",
       "    <tr>\n",
       "      <th>0</th>\n",
       "      <td>Group Var</td>\n",
       "      <td>0.290</td>\n",
       "      <td>1.169</td>\n",
       "    </tr>\n",
       "  </tbody>\n",
       "</table>\n",
       "</div>"
      ],
      "text/plain": [
       "   Parameter  Coef. Std.Err.\n",
       "0  Group Var  0.290    1.169"
      ]
     },
     "metadata": {},
     "output_type": "display_data"
    },
    {
     "data": {
      "text/plain": [
       "<statsmodels.regression.mixed_linear_model.MixedLMResultsWrapper at 0x14a45380e4c0>"
      ]
     },
     "execution_count": 104,
     "metadata": {},
     "output_type": "execute_result"
    }
   ],
   "source": [
    "# flip test: gap-\n",
    "no_gap_df = sentence_df[sentence_df['gap_numeric'] == -1]\n",
    "iv_list = ['wh_numeric']\n",
    "mixed_effects_linear_regression(no_gap_df, iv_list, 'embed_surprisal', 'double gap embed: gap-')"
   ]
  },
  {
   "cell_type": "code",
   "execution_count": 105,
   "id": "acfb10a3",
   "metadata": {},
   "outputs": [
    {
     "name": "stdout",
     "output_type": "stream",
     "text": [
      "\n",
      "=== DOUBLE GAP EMBED: GAP+ ===\n",
      "\n",
      "=== MODEL SUMMARY ===\n",
      ":            MixedLM Dependent Variable: embed_surprisal\n",
      "No. Observations: 120\n",
      "Method: REML\n",
      "No. Groups: 20\n",
      "Scale: 0.0988\n",
      "Min. group size: 6\n",
      "Log-Likelihood: -65.4119\n",
      "Max. group size: 6\n",
      "Converged: Yes\n",
      "Mean group size: 6.0\n",
      "\n",
      "=== FIXED EFFECTS COEFFICIENTS ===\n"
     ]
    },
    {
     "data": {
      "text/html": [
       "<div>\n",
       "<style scoped>\n",
       "    .dataframe tbody tr th:only-of-type {\n",
       "        vertical-align: middle;\n",
       "    }\n",
       "\n",
       "    .dataframe tbody tr th {\n",
       "        vertical-align: top;\n",
       "    }\n",
       "\n",
       "    .dataframe thead th {\n",
       "        text-align: right;\n",
       "    }\n",
       "</style>\n",
       "<table border=\"1\" class=\"dataframe\">\n",
       "  <thead>\n",
       "    <tr style=\"text-align: right;\">\n",
       "      <th></th>\n",
       "      <th>Parameter</th>\n",
       "      <th>Coef.</th>\n",
       "      <th>Std.Err.</th>\n",
       "      <th>z</th>\n",
       "      <th>P&gt;|z|</th>\n",
       "      <th>[0.025</th>\n",
       "      <th>0.975]</th>\n",
       "    </tr>\n",
       "  </thead>\n",
       "  <tbody>\n",
       "    <tr>\n",
       "      <th>0</th>\n",
       "      <td>Intercept</td>\n",
       "      <td>4.953</td>\n",
       "      <td>0.137</td>\n",
       "      <td>36.088</td>\n",
       "      <td>0.000</td>\n",
       "      <td>4.684</td>\n",
       "      <td>5.222</td>\n",
       "    </tr>\n",
       "    <tr>\n",
       "      <th>1</th>\n",
       "      <td>wh_numeric</td>\n",
       "      <td>-0.004</td>\n",
       "      <td>0.029</td>\n",
       "      <td>-0.150</td>\n",
       "      <td>0.881</td>\n",
       "      <td>-0.061</td>\n",
       "      <td>0.052</td>\n",
       "    </tr>\n",
       "  </tbody>\n",
       "</table>\n",
       "</div>"
      ],
      "text/plain": [
       "    Parameter   Coef. Std.Err.       z  P>|z|  [0.025 0.975]\n",
       "0   Intercept   4.953    0.137  36.088  0.000   4.684  5.222\n",
       "1  wh_numeric  -0.004    0.029  -0.150  0.881  -0.061  0.052"
      ]
     },
     "metadata": {},
     "output_type": "display_data"
    },
    {
     "name": "stdout",
     "output_type": "stream",
     "text": [
      "\n",
      "=== RANDOM EFFECTS / VARIANCE-COVARIANCE ===\n"
     ]
    },
    {
     "data": {
      "text/html": [
       "<div>\n",
       "<style scoped>\n",
       "    .dataframe tbody tr th:only-of-type {\n",
       "        vertical-align: middle;\n",
       "    }\n",
       "\n",
       "    .dataframe tbody tr th {\n",
       "        vertical-align: top;\n",
       "    }\n",
       "\n",
       "    .dataframe thead th {\n",
       "        text-align: right;\n",
       "    }\n",
       "</style>\n",
       "<table border=\"1\" class=\"dataframe\">\n",
       "  <thead>\n",
       "    <tr style=\"text-align: right;\">\n",
       "      <th></th>\n",
       "      <th>Parameter</th>\n",
       "      <th>Coef.</th>\n",
       "      <th>Std.Err.</th>\n",
       "    </tr>\n",
       "  </thead>\n",
       "  <tbody>\n",
       "    <tr>\n",
       "      <th>0</th>\n",
       "      <td>Group Var</td>\n",
       "      <td>0.360</td>\n",
       "      <td>0.424</td>\n",
       "    </tr>\n",
       "  </tbody>\n",
       "</table>\n",
       "</div>"
      ],
      "text/plain": [
       "   Parameter  Coef. Std.Err.\n",
       "0  Group Var  0.360    0.424"
      ]
     },
     "metadata": {},
     "output_type": "display_data"
    },
    {
     "data": {
      "text/plain": [
       "<statsmodels.regression.mixed_linear_model.MixedLMResultsWrapper at 0x14a4538462b0>"
      ]
     },
     "execution_count": 105,
     "metadata": {},
     "output_type": "execute_result"
    }
   ],
   "source": [
    "# flip test: gap+\n",
    "gap_df = sentence_df[sentence_df['gap_numeric'] == 1]\n",
    "iv_list = ['wh_numeric']\n",
    "mixed_effects_linear_regression(gap_df, iv_list, 'embed_surprisal', 'double gap embed: gap+')"
   ]
  },
  {
   "cell_type": "code",
   "execution_count": 106,
   "id": "d26b0819",
   "metadata": {},
   "outputs": [
    {
     "name": "stdout",
     "output_type": "stream",
     "text": [
      "\n",
      "=== DOUBLE GAP EMBED: DIVISION BY GRAMMATICALITY ===\n",
      "\n",
      "=== MODEL SUMMARY ===\n",
      "Model: MixedLM\n",
      "Dependent Variable: embed_surprisal\n",
      "No. Observations: 160\n",
      "Method: REML\n",
      "No. Groups: 20\n",
      "Scale: 0.1097\n",
      "Min. group size: 8\n",
      "Log-Likelihood: -84.1195\n",
      "Max. group size: 8\n",
      "Converged: Yes\n",
      "Mean group size: 8.0\n",
      "\n",
      "=== FIXED EFFECTS COEFFICIENTS ===\n"
     ]
    },
    {
     "data": {
      "text/html": [
       "<div>\n",
       "<style scoped>\n",
       "    .dataframe tbody tr th:only-of-type {\n",
       "        vertical-align: middle;\n",
       "    }\n",
       "\n",
       "    .dataframe tbody tr th {\n",
       "        vertical-align: top;\n",
       "    }\n",
       "\n",
       "    .dataframe thead th {\n",
       "        text-align: right;\n",
       "    }\n",
       "</style>\n",
       "<table border=\"1\" class=\"dataframe\">\n",
       "  <thead>\n",
       "    <tr style=\"text-align: right;\">\n",
       "      <th></th>\n",
       "      <th>Parameter</th>\n",
       "      <th>Coef.</th>\n",
       "      <th>Std.Err.</th>\n",
       "      <th>z</th>\n",
       "      <th>P&gt;|z|</th>\n",
       "      <th>[0.025</th>\n",
       "      <th>0.975]</th>\n",
       "    </tr>\n",
       "  </thead>\n",
       "  <tbody>\n",
       "    <tr>\n",
       "      <th>0</th>\n",
       "      <td>Intercept</td>\n",
       "      <td>4.941</td>\n",
       "      <td>0.131</td>\n",
       "      <td>37.811</td>\n",
       "      <td>0.000</td>\n",
       "      <td>4.685</td>\n",
       "      <td>5.197</td>\n",
       "    </tr>\n",
       "    <tr>\n",
       "      <th>1</th>\n",
       "      <td>grammaticality[T.gram-]</td>\n",
       "      <td>0.073</td>\n",
       "      <td>0.052</td>\n",
       "      <td>1.397</td>\n",
       "      <td>0.162</td>\n",
       "      <td>-0.029</td>\n",
       "      <td>0.176</td>\n",
       "    </tr>\n",
       "  </tbody>\n",
       "</table>\n",
       "</div>"
      ],
      "text/plain": [
       "                 Parameter  Coef. Std.Err.       z  P>|z|  [0.025 0.975]\n",
       "0                Intercept  4.941    0.131  37.811  0.000   4.685  5.197\n",
       "1  grammaticality[T.gram-]  0.073    0.052   1.397  0.162  -0.029  0.176"
      ]
     },
     "metadata": {},
     "output_type": "display_data"
    },
    {
     "name": "stdout",
     "output_type": "stream",
     "text": [
      "\n",
      "=== RANDOM EFFECTS / VARIANCE-COVARIANCE ===\n"
     ]
    },
    {
     "data": {
      "text/html": [
       "<div>\n",
       "<style scoped>\n",
       "    .dataframe tbody tr th:only-of-type {\n",
       "        vertical-align: middle;\n",
       "    }\n",
       "\n",
       "    .dataframe tbody tr th {\n",
       "        vertical-align: top;\n",
       "    }\n",
       "\n",
       "    .dataframe thead th {\n",
       "        text-align: right;\n",
       "    }\n",
       "</style>\n",
       "<table border=\"1\" class=\"dataframe\">\n",
       "  <thead>\n",
       "    <tr style=\"text-align: right;\">\n",
       "      <th></th>\n",
       "      <th>Parameter</th>\n",
       "      <th>Coef.</th>\n",
       "      <th>Std.Err.</th>\n",
       "    </tr>\n",
       "  </thead>\n",
       "  <tbody>\n",
       "    <tr>\n",
       "      <th>0</th>\n",
       "      <td>Group Var</td>\n",
       "      <td>0.314</td>\n",
       "      <td>0.342</td>\n",
       "    </tr>\n",
       "  </tbody>\n",
       "</table>\n",
       "</div>"
      ],
      "text/plain": [
       "   Parameter  Coef. Std.Err.\n",
       "0  Group Var  0.314    0.342"
      ]
     },
     "metadata": {},
     "output_type": "display_data"
    },
    {
     "data": {
      "text/plain": [
       "<statsmodels.regression.mixed_linear_model.MixedLMResultsWrapper at 0x14a453842d60>"
      ]
     },
     "execution_count": 106,
     "metadata": {},
     "output_type": "execute_result"
    }
   ],
   "source": [
    "# division by grammaticality\n",
    "iv_list = ['grammaticality']\n",
    "mixed_effects_linear_regression(sentence_df, iv_list, 'embed_surprisal', 'double gap embed: division by grammaticality')"
   ]
  },
  {
   "cell_type": "markdown",
   "id": "1a8cf03d",
   "metadata": {},
   "source": [
    "Subject Gap Position"
   ]
  },
  {
   "cell_type": "code",
   "execution_count": 107,
   "id": "3ae4cfcd",
   "metadata": {},
   "outputs": [],
   "source": [
    "subjectgap_df = sentence_df[sentence_df['condition'].isin(['a', 'b', 'd', 'e', 'f', 'h'])]"
   ]
  },
  {
   "cell_type": "code",
   "execution_count": 108,
   "id": "6a27ca70",
   "metadata": {},
   "outputs": [
    {
     "name": "stdout",
     "output_type": "stream",
     "text": [
      "\n",
      "=== DOUBLE GAP EMBED SUBJECT GAP POSITION: GAP- ===\n",
      "\n",
      "=== MODEL SUMMARY ===\n",
      ":            MixedLM Dependent Variable: embed_surprisal\n",
      "No. Observations: 40\n",
      "Method: REML\n",
      "No. Groups: 20\n",
      "Scale: 0.0136\n",
      "Min. group size: 2\n",
      "Log-Likelihood: -11.8427\n",
      "Max. group size: 2\n",
      "Converged: Yes\n",
      "Mean group size: 2.0\n",
      "\n",
      "=== FIXED EFFECTS COEFFICIENTS ===\n"
     ]
    },
    {
     "data": {
      "text/html": [
       "<div>\n",
       "<style scoped>\n",
       "    .dataframe tbody tr th:only-of-type {\n",
       "        vertical-align: middle;\n",
       "    }\n",
       "\n",
       "    .dataframe tbody tr th {\n",
       "        vertical-align: top;\n",
       "    }\n",
       "\n",
       "    .dataframe thead th {\n",
       "        text-align: right;\n",
       "    }\n",
       "</style>\n",
       "<table border=\"1\" class=\"dataframe\">\n",
       "  <thead>\n",
       "    <tr style=\"text-align: right;\">\n",
       "      <th></th>\n",
       "      <th>Parameter</th>\n",
       "      <th>Coef.</th>\n",
       "      <th>Std.Err.</th>\n",
       "      <th>z</th>\n",
       "      <th>P&gt;|z|</th>\n",
       "      <th>[0.025</th>\n",
       "      <th>0.975]</th>\n",
       "    </tr>\n",
       "  </thead>\n",
       "  <tbody>\n",
       "    <tr>\n",
       "      <th>0</th>\n",
       "      <td>Intercept</td>\n",
       "      <td>5.051</td>\n",
       "      <td>0.122</td>\n",
       "      <td>41.444</td>\n",
       "      <td>0.000</td>\n",
       "      <td>4.812</td>\n",
       "      <td>5.290</td>\n",
       "    </tr>\n",
       "    <tr>\n",
       "      <th>1</th>\n",
       "      <td>wh_numeric</td>\n",
       "      <td>0.133</td>\n",
       "      <td>0.018</td>\n",
       "      <td>7.232</td>\n",
       "      <td>0.000</td>\n",
       "      <td>0.097</td>\n",
       "      <td>0.170</td>\n",
       "    </tr>\n",
       "  </tbody>\n",
       "</table>\n",
       "</div>"
      ],
      "text/plain": [
       "    Parameter  Coef. Std.Err.       z  P>|z| [0.025 0.975]\n",
       "0   Intercept  5.051    0.122  41.444  0.000  4.812  5.290\n",
       "1  wh_numeric  0.133    0.018   7.232  0.000  0.097  0.170"
      ]
     },
     "metadata": {},
     "output_type": "display_data"
    },
    {
     "name": "stdout",
     "output_type": "stream",
     "text": [
      "\n",
      "=== RANDOM EFFECTS / VARIANCE-COVARIANCE ===\n"
     ]
    },
    {
     "data": {
      "text/html": [
       "<div>\n",
       "<style scoped>\n",
       "    .dataframe tbody tr th:only-of-type {\n",
       "        vertical-align: middle;\n",
       "    }\n",
       "\n",
       "    .dataframe tbody tr th {\n",
       "        vertical-align: top;\n",
       "    }\n",
       "\n",
       "    .dataframe thead th {\n",
       "        text-align: right;\n",
       "    }\n",
       "</style>\n",
       "<table border=\"1\" class=\"dataframe\">\n",
       "  <thead>\n",
       "    <tr style=\"text-align: right;\">\n",
       "      <th></th>\n",
       "      <th>Parameter</th>\n",
       "      <th>Coef.</th>\n",
       "      <th>Std.Err.</th>\n",
       "    </tr>\n",
       "  </thead>\n",
       "  <tbody>\n",
       "    <tr>\n",
       "      <th>0</th>\n",
       "      <td>Group Var</td>\n",
       "      <td>0.290</td>\n",
       "      <td>1.169</td>\n",
       "    </tr>\n",
       "  </tbody>\n",
       "</table>\n",
       "</div>"
      ],
      "text/plain": [
       "   Parameter  Coef. Std.Err.\n",
       "0  Group Var  0.290    1.169"
      ]
     },
     "metadata": {},
     "output_type": "display_data"
    },
    {
     "data": {
      "text/plain": [
       "<statsmodels.regression.mixed_linear_model.MixedLMResultsWrapper at 0x14a45b914190>"
      ]
     },
     "execution_count": 108,
     "metadata": {},
     "output_type": "execute_result"
    }
   ],
   "source": [
    "# flip test: gap-\n",
    "no_gap_df = subjectgap_df[subjectgap_df['gap_numeric'] == -1]\n",
    "iv_list = ['wh_numeric']\n",
    "mixed_effects_linear_regression(no_gap_df, iv_list, 'embed_surprisal', 'double gap embed subject gap position: gap-')"
   ]
  },
  {
   "cell_type": "code",
   "execution_count": 109,
   "id": "260dbea4",
   "metadata": {},
   "outputs": [
    {
     "name": "stdout",
     "output_type": "stream",
     "text": [
      "\n",
      "=== DOUBLE GAP EMBED SUBJECT GAP POSITION: GAP+ ===\n",
      "\n",
      "=== MODEL SUMMARY ===\n",
      ":            MixedLM Dependent Variable: embed_surprisal\n",
      "No. Observations: 80\n",
      "Method: REML\n",
      "No. Groups: 20\n",
      "Scale: 0.0794\n",
      "Min. group size: 4\n",
      "Log-Likelihood: -45.4727\n",
      "Max. group size: 4\n",
      "Converged: Yes\n",
      "Mean group size: 4.0\n",
      "\n",
      "=== FIXED EFFECTS COEFFICIENTS ===\n"
     ]
    },
    {
     "data": {
      "text/html": [
       "<div>\n",
       "<style scoped>\n",
       "    .dataframe tbody tr th:only-of-type {\n",
       "        vertical-align: middle;\n",
       "    }\n",
       "\n",
       "    .dataframe tbody tr th {\n",
       "        vertical-align: top;\n",
       "    }\n",
       "\n",
       "    .dataframe thead th {\n",
       "        text-align: right;\n",
       "    }\n",
       "</style>\n",
       "<table border=\"1\" class=\"dataframe\">\n",
       "  <thead>\n",
       "    <tr style=\"text-align: right;\">\n",
       "      <th></th>\n",
       "      <th>Parameter</th>\n",
       "      <th>Coef.</th>\n",
       "      <th>Std.Err.</th>\n",
       "      <th>z</th>\n",
       "      <th>P&gt;|z|</th>\n",
       "      <th>[0.025</th>\n",
       "      <th>0.975]</th>\n",
       "    </tr>\n",
       "  </thead>\n",
       "  <tbody>\n",
       "    <tr>\n",
       "      <th>0</th>\n",
       "      <td>Intercept</td>\n",
       "      <td>5.016</td>\n",
       "      <td>0.147</td>\n",
       "      <td>34.213</td>\n",
       "      <td>0.000</td>\n",
       "      <td>4.729</td>\n",
       "      <td>5.303</td>\n",
       "    </tr>\n",
       "    <tr>\n",
       "      <th>1</th>\n",
       "      <td>wh_numeric</td>\n",
       "      <td>-0.017</td>\n",
       "      <td>0.032</td>\n",
       "      <td>-0.534</td>\n",
       "      <td>0.594</td>\n",
       "      <td>-0.079</td>\n",
       "      <td>0.045</td>\n",
       "    </tr>\n",
       "  </tbody>\n",
       "</table>\n",
       "</div>"
      ],
      "text/plain": [
       "    Parameter   Coef. Std.Err.       z  P>|z|  [0.025 0.975]\n",
       "0   Intercept   5.016    0.147  34.213  0.000   4.729  5.303\n",
       "1  wh_numeric  -0.017    0.032  -0.534  0.594  -0.079  0.045"
      ]
     },
     "metadata": {},
     "output_type": "display_data"
    },
    {
     "name": "stdout",
     "output_type": "stream",
     "text": [
      "\n",
      "=== RANDOM EFFECTS / VARIANCE-COVARIANCE ===\n"
     ]
    },
    {
     "data": {
      "text/html": [
       "<div>\n",
       "<style scoped>\n",
       "    .dataframe tbody tr th:only-of-type {\n",
       "        vertical-align: middle;\n",
       "    }\n",
       "\n",
       "    .dataframe tbody tr th {\n",
       "        vertical-align: top;\n",
       "    }\n",
       "\n",
       "    .dataframe thead th {\n",
       "        text-align: right;\n",
       "    }\n",
       "</style>\n",
       "<table border=\"1\" class=\"dataframe\">\n",
       "  <thead>\n",
       "    <tr style=\"text-align: right;\">\n",
       "      <th></th>\n",
       "      <th>Parameter</th>\n",
       "      <th>Coef.</th>\n",
       "      <th>Std.Err.</th>\n",
       "    </tr>\n",
       "  </thead>\n",
       "  <tbody>\n",
       "    <tr>\n",
       "      <th>0</th>\n",
       "      <td>Group Var</td>\n",
       "      <td>0.410</td>\n",
       "      <td>0.569</td>\n",
       "    </tr>\n",
       "  </tbody>\n",
       "</table>\n",
       "</div>"
      ],
      "text/plain": [
       "   Parameter  Coef. Std.Err.\n",
       "0  Group Var  0.410    0.569"
      ]
     },
     "metadata": {},
     "output_type": "display_data"
    },
    {
     "data": {
      "text/plain": [
       "<statsmodels.regression.mixed_linear_model.MixedLMResultsWrapper at 0x14a45ba499a0>"
      ]
     },
     "execution_count": 109,
     "metadata": {},
     "output_type": "execute_result"
    }
   ],
   "source": [
    "# flip test: gap+\n",
    "gap_df = subjectgap_df[subjectgap_df['gap_numeric'] == 1]\n",
    "iv_list = ['wh_numeric']\n",
    "mixed_effects_linear_regression(gap_df, iv_list, 'embed_surprisal', 'double gap embed subject gap position: gap+')"
   ]
  },
  {
   "cell_type": "code",
   "execution_count": 110,
   "id": "3387286f",
   "metadata": {},
   "outputs": [
    {
     "name": "stdout",
     "output_type": "stream",
     "text": [
      "\n",
      "=== DOUBLE GAP EMBED SUBJECT GAP POSITION: DIVISION BY GRAMMATICALITY ===\n",
      "\n",
      "=== MODEL SUMMARY ===\n",
      "Model: MixedLM\n",
      "Dependent Variable: embed_surprisal\n",
      "No. Observations: 120\n",
      "Method: REML\n",
      "No. Groups: 20\n",
      "Scale: 0.1093\n",
      "Min. group size: 6\n",
      "Log-Likelihood: -68.6389\n",
      "Max. group size: 6\n",
      "Converged: Yes\n",
      "Mean group size: 6.0\n",
      "\n",
      "=== FIXED EFFECTS COEFFICIENTS ===\n"
     ]
    },
    {
     "data": {
      "text/html": [
       "<div>\n",
       "<style scoped>\n",
       "    .dataframe tbody tr th:only-of-type {\n",
       "        vertical-align: middle;\n",
       "    }\n",
       "\n",
       "    .dataframe tbody tr th {\n",
       "        vertical-align: top;\n",
       "    }\n",
       "\n",
       "    .dataframe thead th {\n",
       "        text-align: right;\n",
       "    }\n",
       "</style>\n",
       "<table border=\"1\" class=\"dataframe\">\n",
       "  <thead>\n",
       "    <tr style=\"text-align: right;\">\n",
       "      <th></th>\n",
       "      <th>Parameter</th>\n",
       "      <th>Coef.</th>\n",
       "      <th>Std.Err.</th>\n",
       "      <th>z</th>\n",
       "      <th>P&gt;|z|</th>\n",
       "      <th>[0.025</th>\n",
       "      <th>0.975]</th>\n",
       "    </tr>\n",
       "  </thead>\n",
       "  <tbody>\n",
       "    <tr>\n",
       "      <th>0</th>\n",
       "      <td>Intercept</td>\n",
       "      <td>4.972</td>\n",
       "      <td>0.133</td>\n",
       "      <td>37.277</td>\n",
       "      <td>0.000</td>\n",
       "      <td>4.711</td>\n",
       "      <td>5.234</td>\n",
       "    </tr>\n",
       "    <tr>\n",
       "      <th>1</th>\n",
       "      <td>grammaticality[T.gram-]</td>\n",
       "      <td>0.111</td>\n",
       "      <td>0.060</td>\n",
       "      <td>1.845</td>\n",
       "      <td>0.065</td>\n",
       "      <td>-0.007</td>\n",
       "      <td>0.230</td>\n",
       "    </tr>\n",
       "  </tbody>\n",
       "</table>\n",
       "</div>"
      ],
      "text/plain": [
       "                 Parameter  Coef. Std.Err.       z  P>|z|  [0.025 0.975]\n",
       "0                Intercept  4.972    0.133  37.277  0.000   4.711  5.234\n",
       "1  grammaticality[T.gram-]  0.111    0.060   1.845  0.065  -0.007  0.230"
      ]
     },
     "metadata": {},
     "output_type": "display_data"
    },
    {
     "name": "stdout",
     "output_type": "stream",
     "text": [
      "\n",
      "=== RANDOM EFFECTS / VARIANCE-COVARIANCE ===\n"
     ]
    },
    {
     "data": {
      "text/html": [
       "<div>\n",
       "<style scoped>\n",
       "    .dataframe tbody tr th:only-of-type {\n",
       "        vertical-align: middle;\n",
       "    }\n",
       "\n",
       "    .dataframe tbody tr th {\n",
       "        vertical-align: top;\n",
       "    }\n",
       "\n",
       "    .dataframe thead th {\n",
       "        text-align: right;\n",
       "    }\n",
       "</style>\n",
       "<table border=\"1\" class=\"dataframe\">\n",
       "  <thead>\n",
       "    <tr style=\"text-align: right;\">\n",
       "      <th></th>\n",
       "      <th>Parameter</th>\n",
       "      <th>Coef.</th>\n",
       "      <th>Std.Err.</th>\n",
       "    </tr>\n",
       "  </thead>\n",
       "  <tbody>\n",
       "    <tr>\n",
       "      <th>0</th>\n",
       "      <td>Group Var</td>\n",
       "      <td>0.319</td>\n",
       "      <td>0.362</td>\n",
       "    </tr>\n",
       "  </tbody>\n",
       "</table>\n",
       "</div>"
      ],
      "text/plain": [
       "   Parameter  Coef. Std.Err.\n",
       "0  Group Var  0.319    0.362"
      ]
     },
     "metadata": {},
     "output_type": "display_data"
    },
    {
     "data": {
      "text/plain": [
       "<statsmodels.regression.mixed_linear_model.MixedLMResultsWrapper at 0x14a453891b80>"
      ]
     },
     "execution_count": 110,
     "metadata": {},
     "output_type": "execute_result"
    }
   ],
   "source": [
    "# division by grammaticality\n",
    "iv_list = ['grammaticality']\n",
    "mixed_effects_linear_regression(subjectgap_df, iv_list, 'embed_surprisal', 'double gap embed subject gap position: division by grammaticality')"
   ]
  },
  {
   "cell_type": "markdown",
   "id": "f1ceddd3",
   "metadata": {},
   "source": [
    "Object Gap Position"
   ]
  },
  {
   "cell_type": "code",
   "execution_count": 111,
   "id": "da7c882e",
   "metadata": {},
   "outputs": [],
   "source": [
    "objectgap_df = sentence_df[sentence_df['condition'].isin(['a', 'c', 'd', 'e', 'g', 'h'])]"
   ]
  },
  {
   "cell_type": "code",
   "execution_count": 112,
   "id": "229098d1",
   "metadata": {},
   "outputs": [
    {
     "name": "stdout",
     "output_type": "stream",
     "text": [
      "\n",
      "=== DOUBLE GAP EMBED OBJECT GAP POSITION: GAP- ===\n",
      "\n",
      "=== MODEL SUMMARY ===\n",
      ":            MixedLM Dependent Variable: embed_surprisal\n",
      "No. Observations: 40\n",
      "Method: REML\n",
      "No. Groups: 20\n",
      "Scale: 0.0136\n",
      "Min. group size: 2\n",
      "Log-Likelihood: -11.8427\n",
      "Max. group size: 2\n",
      "Converged: Yes\n",
      "Mean group size: 2.0\n",
      "\n",
      "=== FIXED EFFECTS COEFFICIENTS ===\n"
     ]
    },
    {
     "data": {
      "text/html": [
       "<div>\n",
       "<style scoped>\n",
       "    .dataframe tbody tr th:only-of-type {\n",
       "        vertical-align: middle;\n",
       "    }\n",
       "\n",
       "    .dataframe tbody tr th {\n",
       "        vertical-align: top;\n",
       "    }\n",
       "\n",
       "    .dataframe thead th {\n",
       "        text-align: right;\n",
       "    }\n",
       "</style>\n",
       "<table border=\"1\" class=\"dataframe\">\n",
       "  <thead>\n",
       "    <tr style=\"text-align: right;\">\n",
       "      <th></th>\n",
       "      <th>Parameter</th>\n",
       "      <th>Coef.</th>\n",
       "      <th>Std.Err.</th>\n",
       "      <th>z</th>\n",
       "      <th>P&gt;|z|</th>\n",
       "      <th>[0.025</th>\n",
       "      <th>0.975]</th>\n",
       "    </tr>\n",
       "  </thead>\n",
       "  <tbody>\n",
       "    <tr>\n",
       "      <th>0</th>\n",
       "      <td>Intercept</td>\n",
       "      <td>5.051</td>\n",
       "      <td>0.122</td>\n",
       "      <td>41.444</td>\n",
       "      <td>0.000</td>\n",
       "      <td>4.812</td>\n",
       "      <td>5.290</td>\n",
       "    </tr>\n",
       "    <tr>\n",
       "      <th>1</th>\n",
       "      <td>wh_numeric</td>\n",
       "      <td>0.133</td>\n",
       "      <td>0.018</td>\n",
       "      <td>7.232</td>\n",
       "      <td>0.000</td>\n",
       "      <td>0.097</td>\n",
       "      <td>0.170</td>\n",
       "    </tr>\n",
       "  </tbody>\n",
       "</table>\n",
       "</div>"
      ],
      "text/plain": [
       "    Parameter  Coef. Std.Err.       z  P>|z| [0.025 0.975]\n",
       "0   Intercept  5.051    0.122  41.444  0.000  4.812  5.290\n",
       "1  wh_numeric  0.133    0.018   7.232  0.000  0.097  0.170"
      ]
     },
     "metadata": {},
     "output_type": "display_data"
    },
    {
     "name": "stdout",
     "output_type": "stream",
     "text": [
      "\n",
      "=== RANDOM EFFECTS / VARIANCE-COVARIANCE ===\n"
     ]
    },
    {
     "data": {
      "text/html": [
       "<div>\n",
       "<style scoped>\n",
       "    .dataframe tbody tr th:only-of-type {\n",
       "        vertical-align: middle;\n",
       "    }\n",
       "\n",
       "    .dataframe tbody tr th {\n",
       "        vertical-align: top;\n",
       "    }\n",
       "\n",
       "    .dataframe thead th {\n",
       "        text-align: right;\n",
       "    }\n",
       "</style>\n",
       "<table border=\"1\" class=\"dataframe\">\n",
       "  <thead>\n",
       "    <tr style=\"text-align: right;\">\n",
       "      <th></th>\n",
       "      <th>Parameter</th>\n",
       "      <th>Coef.</th>\n",
       "      <th>Std.Err.</th>\n",
       "    </tr>\n",
       "  </thead>\n",
       "  <tbody>\n",
       "    <tr>\n",
       "      <th>0</th>\n",
       "      <td>Group Var</td>\n",
       "      <td>0.290</td>\n",
       "      <td>1.169</td>\n",
       "    </tr>\n",
       "  </tbody>\n",
       "</table>\n",
       "</div>"
      ],
      "text/plain": [
       "   Parameter  Coef. Std.Err.\n",
       "0  Group Var  0.290    1.169"
      ]
     },
     "metadata": {},
     "output_type": "display_data"
    },
    {
     "data": {
      "text/plain": [
       "<statsmodels.regression.mixed_linear_model.MixedLMResultsWrapper at 0x14a45ba14460>"
      ]
     },
     "execution_count": 112,
     "metadata": {},
     "output_type": "execute_result"
    }
   ],
   "source": [
    "# flip test: gap-\n",
    "no_gap_df = objectgap_df[objectgap_df['gap_numeric'] == -1]\n",
    "iv_list = ['wh_numeric']\n",
    "mixed_effects_linear_regression(no_gap_df, iv_list, 'embed_surprisal', 'double gap embed object gap position: gap-')"
   ]
  },
  {
   "cell_type": "code",
   "execution_count": 113,
   "id": "041022cb",
   "metadata": {},
   "outputs": [
    {
     "name": "stdout",
     "output_type": "stream",
     "text": [
      "\n",
      "=== DOUBLE GAP EMBED OBJECT GAP POSITION: GAP+ ===\n",
      "\n",
      "=== MODEL SUMMARY ===\n",
      ":            MixedLM Dependent Variable: embed_surprisal\n",
      "No. Observations: 80\n",
      "Method: REML\n",
      "No. Groups: 20\n",
      "Scale: 0.0820\n",
      "Min. group size: 4\n",
      "Log-Likelihood: -46.5274\n",
      "Max. group size: 4\n",
      "Converged: Yes\n",
      "Mean group size: 4.0\n",
      "\n",
      "=== FIXED EFFECTS COEFFICIENTS ===\n"
     ]
    },
    {
     "data": {
      "text/html": [
       "<div>\n",
       "<style scoped>\n",
       "    .dataframe tbody tr th:only-of-type {\n",
       "        vertical-align: middle;\n",
       "    }\n",
       "\n",
       "    .dataframe tbody tr th {\n",
       "        vertical-align: top;\n",
       "    }\n",
       "\n",
       "    .dataframe thead th {\n",
       "        text-align: right;\n",
       "    }\n",
       "</style>\n",
       "<table border=\"1\" class=\"dataframe\">\n",
       "  <thead>\n",
       "    <tr style=\"text-align: right;\">\n",
       "      <th></th>\n",
       "      <th>Parameter</th>\n",
       "      <th>Coef.</th>\n",
       "      <th>Std.Err.</th>\n",
       "      <th>z</th>\n",
       "      <th>P&gt;|z|</th>\n",
       "      <th>[0.025</th>\n",
       "      <th>0.975]</th>\n",
       "    </tr>\n",
       "  </thead>\n",
       "  <tbody>\n",
       "    <tr>\n",
       "      <th>0</th>\n",
       "      <td>Intercept</td>\n",
       "      <td>4.891</td>\n",
       "      <td>0.147</td>\n",
       "      <td>33.214</td>\n",
       "      <td>0.000</td>\n",
       "      <td>4.603</td>\n",
       "      <td>5.180</td>\n",
       "    </tr>\n",
       "    <tr>\n",
       "      <th>1</th>\n",
       "      <td>wh_numeric</td>\n",
       "      <td>0.003</td>\n",
       "      <td>0.032</td>\n",
       "      <td>0.085</td>\n",
       "      <td>0.932</td>\n",
       "      <td>-0.060</td>\n",
       "      <td>0.065</td>\n",
       "    </tr>\n",
       "  </tbody>\n",
       "</table>\n",
       "</div>"
      ],
      "text/plain": [
       "    Parameter  Coef. Std.Err.       z  P>|z|  [0.025 0.975]\n",
       "0   Intercept  4.891    0.147  33.214  0.000   4.603  5.180\n",
       "1  wh_numeric  0.003    0.032   0.085  0.932  -0.060  0.065"
      ]
     },
     "metadata": {},
     "output_type": "display_data"
    },
    {
     "name": "stdout",
     "output_type": "stream",
     "text": [
      "\n",
      "=== RANDOM EFFECTS / VARIANCE-COVARIANCE ===\n"
     ]
    },
    {
     "data": {
      "text/html": [
       "<div>\n",
       "<style scoped>\n",
       "    .dataframe tbody tr th:only-of-type {\n",
       "        vertical-align: middle;\n",
       "    }\n",
       "\n",
       "    .dataframe tbody tr th {\n",
       "        vertical-align: top;\n",
       "    }\n",
       "\n",
       "    .dataframe thead th {\n",
       "        text-align: right;\n",
       "    }\n",
       "</style>\n",
       "<table border=\"1\" class=\"dataframe\">\n",
       "  <thead>\n",
       "    <tr style=\"text-align: right;\">\n",
       "      <th></th>\n",
       "      <th>Parameter</th>\n",
       "      <th>Coef.</th>\n",
       "      <th>Std.Err.</th>\n",
       "    </tr>\n",
       "  </thead>\n",
       "  <tbody>\n",
       "    <tr>\n",
       "      <th>0</th>\n",
       "      <td>Group Var</td>\n",
       "      <td>0.413</td>\n",
       "      <td>0.565</td>\n",
       "    </tr>\n",
       "  </tbody>\n",
       "</table>\n",
       "</div>"
      ],
      "text/plain": [
       "   Parameter  Coef. Std.Err.\n",
       "0  Group Var  0.413    0.565"
      ]
     },
     "metadata": {},
     "output_type": "display_data"
    },
    {
     "data": {
      "text/plain": [
       "<statsmodels.regression.mixed_linear_model.MixedLMResultsWrapper at 0x14a4538a3c40>"
      ]
     },
     "execution_count": 113,
     "metadata": {},
     "output_type": "execute_result"
    }
   ],
   "source": [
    "# flip test: gap+\n",
    "gap_df = objectgap_df[objectgap_df['gap_numeric'] == 1]\n",
    "iv_list = ['wh_numeric']\n",
    "mixed_effects_linear_regression(gap_df, iv_list, 'embed_surprisal', 'double gap embed object gap position: gap+')"
   ]
  },
  {
   "cell_type": "code",
   "execution_count": 114,
   "id": "2f00d72d",
   "metadata": {},
   "outputs": [
    {
     "name": "stdout",
     "output_type": "stream",
     "text": [
      "\n",
      "=== DOUBLE GAP EMBED OBJECT GAP POSITION: DIVISION BY GRAMMATICALITY ===\n",
      "\n",
      "=== MODEL SUMMARY ===\n",
      "Model: MixedLM\n",
      "Dependent Variable: embed_surprisal\n",
      "No. Observations: 120\n",
      "Method: REML\n",
      "No. Groups: 20\n",
      "Scale: 0.1193\n",
      "Min. group size: 6\n",
      "Log-Likelihood: -73.0471\n",
      "Max. group size: 6\n",
      "Converged: Yes\n",
      "Mean group size: 6.0\n",
      "\n",
      "=== FIXED EFFECTS COEFFICIENTS ===\n"
     ]
    },
    {
     "data": {
      "text/html": [
       "<div>\n",
       "<style scoped>\n",
       "    .dataframe tbody tr th:only-of-type {\n",
       "        vertical-align: middle;\n",
       "    }\n",
       "\n",
       "    .dataframe tbody tr th {\n",
       "        vertical-align: top;\n",
       "    }\n",
       "\n",
       "    .dataframe thead th {\n",
       "        text-align: right;\n",
       "    }\n",
       "</style>\n",
       "<table border=\"1\" class=\"dataframe\">\n",
       "  <thead>\n",
       "    <tr style=\"text-align: right;\">\n",
       "      <th></th>\n",
       "      <th>Parameter</th>\n",
       "      <th>Coef.</th>\n",
       "      <th>Std.Err.</th>\n",
       "      <th>z</th>\n",
       "      <th>P&gt;|z|</th>\n",
       "      <th>[0.025</th>\n",
       "      <th>0.975]</th>\n",
       "    </tr>\n",
       "  </thead>\n",
       "  <tbody>\n",
       "    <tr>\n",
       "      <th>0</th>\n",
       "      <td>Intercept</td>\n",
       "      <td>4.902</td>\n",
       "      <td>0.134</td>\n",
       "      <td>36.560</td>\n",
       "      <td>0.000</td>\n",
       "      <td>4.639</td>\n",
       "      <td>5.165</td>\n",
       "    </tr>\n",
       "    <tr>\n",
       "      <th>1</th>\n",
       "      <td>grammaticality[T.gram-]</td>\n",
       "      <td>0.085</td>\n",
       "      <td>0.063</td>\n",
       "      <td>1.353</td>\n",
       "      <td>0.176</td>\n",
       "      <td>-0.038</td>\n",
       "      <td>0.209</td>\n",
       "    </tr>\n",
       "  </tbody>\n",
       "</table>\n",
       "</div>"
      ],
      "text/plain": [
       "                 Parameter  Coef. Std.Err.       z  P>|z|  [0.025 0.975]\n",
       "0                Intercept  4.902    0.134  36.560  0.000   4.639  5.165\n",
       "1  grammaticality[T.gram-]  0.085    0.063   1.353  0.176  -0.038  0.209"
      ]
     },
     "metadata": {},
     "output_type": "display_data"
    },
    {
     "name": "stdout",
     "output_type": "stream",
     "text": [
      "\n",
      "=== RANDOM EFFECTS / VARIANCE-COVARIANCE ===\n"
     ]
    },
    {
     "data": {
      "text/html": [
       "<div>\n",
       "<style scoped>\n",
       "    .dataframe tbody tr th:only-of-type {\n",
       "        vertical-align: middle;\n",
       "    }\n",
       "\n",
       "    .dataframe tbody tr th {\n",
       "        vertical-align: top;\n",
       "    }\n",
       "\n",
       "    .dataframe thead th {\n",
       "        text-align: right;\n",
       "    }\n",
       "</style>\n",
       "<table border=\"1\" class=\"dataframe\">\n",
       "  <thead>\n",
       "    <tr style=\"text-align: right;\">\n",
       "      <th></th>\n",
       "      <th>Parameter</th>\n",
       "      <th>Coef.</th>\n",
       "      <th>Std.Err.</th>\n",
       "    </tr>\n",
       "  </thead>\n",
       "  <tbody>\n",
       "    <tr>\n",
       "      <th>0</th>\n",
       "      <td>Group Var</td>\n",
       "      <td>0.320</td>\n",
       "      <td>0.348</td>\n",
       "    </tr>\n",
       "  </tbody>\n",
       "</table>\n",
       "</div>"
      ],
      "text/plain": [
       "   Parameter  Coef. Std.Err.\n",
       "0  Group Var  0.320    0.348"
      ]
     },
     "metadata": {},
     "output_type": "display_data"
    },
    {
     "data": {
      "text/plain": [
       "<statsmodels.regression.mixed_linear_model.MixedLMResultsWrapper at 0x14a45387d5b0>"
      ]
     },
     "execution_count": 114,
     "metadata": {},
     "output_type": "execute_result"
    }
   ],
   "source": [
    "# division by grammaticality\n",
    "iv_list = ['grammaticality']\n",
    "mixed_effects_linear_regression(objectgap_df, iv_list, 'embed_surprisal', 'double gap embed object gap position: division by grammaticality')"
   ]
  },
  {
   "cell_type": "markdown",
   "id": "88490c4f",
   "metadata": {},
   "source": [
    "#### Wh-Islands"
   ]
  },
  {
   "cell_type": "code",
   "execution_count": 115,
   "id": "402f34e8",
   "metadata": {},
   "outputs": [],
   "source": [
    "sentence_df = pd.read_csv('test_sentences/Wh-Islands.csv')\n",
    "sentence_df['comp_type'] = sentence_df['comp_type'].fillna('null')"
   ]
  },
  {
   "cell_type": "code",
   "execution_count": 116,
   "id": "d2830731",
   "metadata": {},
   "outputs": [],
   "source": [
    "sentence_df[['cont', 'end']] = sentence_df['cont'].apply(split_ends)\n",
    "sentence_df = encode_wh_licensor(sentence_df)\n",
    "sentence_df['gap_numeric'] = sentence_df['gap'].replace(0, -1)\n",
    "syntactic_parts = ['prefix', 'filler_word', 'subj1', 'verb1', 'comp', 'subj2', 'embed_verb', 'obj', 'cont']\n",
    "sentence_df['sentence'] = sentence_df.apply(lambda x: merge_sentence (x, syntactic_parts), axis = 1)\n",
    "sentence_df['surprisals'] = sentence_df['sentence'].apply(calculate_surprisal)\n",
    "sentence_df['comp_type'] = pd.Categorical(sentence_df['comp_type'], categories = ['null', 'that', 'whether'], ordered = True)\n",
    "sentence_df['grammaticality'] = sentence_df.apply(assign_grammaticality, axis = 1)"
   ]
  },
  {
   "cell_type": "markdown",
   "id": "42da86a3",
   "metadata": {},
   "source": [
    "Post-Gap Region - Continuation"
   ]
  },
  {
   "cell_type": "code",
   "execution_count": 117,
   "id": "e7157f88",
   "metadata": {},
   "outputs": [],
   "source": [
    "sentence_df['region_surprisal'] = sentence_df.apply(lambda x: sum_region_surprisal(x, ['cont'], 'obj'), axis = 1)"
   ]
  },
  {
   "cell_type": "code",
   "execution_count": 118,
   "id": "e962e5d4",
   "metadata": {},
   "outputs": [
    {
     "name": "stdout",
     "output_type": "stream",
     "text": [
      "\n",
      "=== WH-ISLANDS CONTINUATION: GAP- ===\n",
      "\n",
      "=== MODEL SUMMARY ===\n",
      ":            MixedLM Dependent Variable: region_surprisal\n",
      "No. Observations: 120\n",
      "Method: REML\n",
      "No. Groups: 20\n",
      "Scale: 0.5550\n",
      "Min. group size: 6\n",
      "Log-Likelihood: -193.2547\n",
      "Max. group size: 6\n",
      "Converged: Yes\n",
      "Mean group size: 6.0\n",
      "\n",
      "=== FIXED EFFECTS COEFFICIENTS ===\n"
     ]
    },
    {
     "data": {
      "text/html": [
       "<div>\n",
       "<style scoped>\n",
       "    .dataframe tbody tr th:only-of-type {\n",
       "        vertical-align: middle;\n",
       "    }\n",
       "\n",
       "    .dataframe tbody tr th {\n",
       "        vertical-align: top;\n",
       "    }\n",
       "\n",
       "    .dataframe thead th {\n",
       "        text-align: right;\n",
       "    }\n",
       "</style>\n",
       "<table border=\"1\" class=\"dataframe\">\n",
       "  <thead>\n",
       "    <tr style=\"text-align: right;\">\n",
       "      <th></th>\n",
       "      <th>Parameter</th>\n",
       "      <th>Coef.</th>\n",
       "      <th>Std.Err.</th>\n",
       "      <th>z</th>\n",
       "      <th>P&gt;|z|</th>\n",
       "      <th>[0.025</th>\n",
       "      <th>0.975]</th>\n",
       "    </tr>\n",
       "  </thead>\n",
       "  <tbody>\n",
       "    <tr>\n",
       "      <th>0</th>\n",
       "      <td>Intercept</td>\n",
       "      <td>17.073</td>\n",
       "      <td>1.281</td>\n",
       "      <td>13.331</td>\n",
       "      <td>0.000</td>\n",
       "      <td>14.563</td>\n",
       "      <td>19.583</td>\n",
       "    </tr>\n",
       "    <tr>\n",
       "      <th>1</th>\n",
       "      <td>wh_numeric</td>\n",
       "      <td>0.303</td>\n",
       "      <td>0.068</td>\n",
       "      <td>4.450</td>\n",
       "      <td>0.000</td>\n",
       "      <td>0.169</td>\n",
       "      <td>0.436</td>\n",
       "    </tr>\n",
       "  </tbody>\n",
       "</table>\n",
       "</div>"
      ],
      "text/plain": [
       "    Parameter   Coef. Std.Err.       z  P>|z|  [0.025  0.975]\n",
       "0   Intercept  17.073    1.281  13.331  0.000  14.563  19.583\n",
       "1  wh_numeric   0.303    0.068   4.450  0.000   0.169   0.436"
      ]
     },
     "metadata": {},
     "output_type": "display_data"
    },
    {
     "name": "stdout",
     "output_type": "stream",
     "text": [
      "\n",
      "=== RANDOM EFFECTS / VARIANCE-COVARIANCE ===\n"
     ]
    },
    {
     "data": {
      "text/html": [
       "<div>\n",
       "<style scoped>\n",
       "    .dataframe tbody tr th:only-of-type {\n",
       "        vertical-align: middle;\n",
       "    }\n",
       "\n",
       "    .dataframe tbody tr th {\n",
       "        vertical-align: top;\n",
       "    }\n",
       "\n",
       "    .dataframe thead th {\n",
       "        text-align: right;\n",
       "    }\n",
       "</style>\n",
       "<table border=\"1\" class=\"dataframe\">\n",
       "  <thead>\n",
       "    <tr style=\"text-align: right;\">\n",
       "      <th></th>\n",
       "      <th>Parameter</th>\n",
       "      <th>Coef.</th>\n",
       "      <th>Std.Err.</th>\n",
       "    </tr>\n",
       "  </thead>\n",
       "  <tbody>\n",
       "    <tr>\n",
       "      <th>0</th>\n",
       "      <td>Group Var</td>\n",
       "      <td>32.711</td>\n",
       "      <td>15.597</td>\n",
       "    </tr>\n",
       "  </tbody>\n",
       "</table>\n",
       "</div>"
      ],
      "text/plain": [
       "   Parameter   Coef. Std.Err.\n",
       "0  Group Var  32.711   15.597"
      ]
     },
     "metadata": {},
     "output_type": "display_data"
    },
    {
     "data": {
      "text/plain": [
       "<statsmodels.regression.mixed_linear_model.MixedLMResultsWrapper at 0x14a45ba44c70>"
      ]
     },
     "execution_count": 118,
     "metadata": {},
     "output_type": "execute_result"
    }
   ],
   "source": [
    "# flip test: gap-\n",
    "no_gap_df = sentence_df[sentence_df['gap_numeric'] == -1]\n",
    "iv_list = ['wh_numeric']\n",
    "mixed_effects_linear_regression(no_gap_df, iv_list, 'region_surprisal', 'wh-islands continuation: gap-')"
   ]
  },
  {
   "cell_type": "code",
   "execution_count": 119,
   "id": "bbc4983e",
   "metadata": {},
   "outputs": [
    {
     "name": "stdout",
     "output_type": "stream",
     "text": [
      "\n",
      "=== WH-ISLANDS CONTINUATION: GAP+ ===\n",
      "\n",
      "=== MODEL SUMMARY ===\n",
      ":            MixedLM Dependent Variable: region_surprisal\n",
      "No. Observations: 120\n",
      "Method: REML\n",
      "No. Groups: 20\n",
      "Scale: 0.6849\n",
      "Min. group size: 6\n",
      "Log-Likelihood: -213.7616\n",
      "Max. group size: 6\n",
      "Converged: Yes\n",
      "Mean group size: 6.0\n",
      "\n",
      "=== FIXED EFFECTS COEFFICIENTS ===\n"
     ]
    },
    {
     "data": {
      "text/html": [
       "<div>\n",
       "<style scoped>\n",
       "    .dataframe tbody tr th:only-of-type {\n",
       "        vertical-align: middle;\n",
       "    }\n",
       "\n",
       "    .dataframe tbody tr th {\n",
       "        vertical-align: top;\n",
       "    }\n",
       "\n",
       "    .dataframe thead th {\n",
       "        text-align: right;\n",
       "    }\n",
       "</style>\n",
       "<table border=\"1\" class=\"dataframe\">\n",
       "  <thead>\n",
       "    <tr style=\"text-align: right;\">\n",
       "      <th></th>\n",
       "      <th>Parameter</th>\n",
       "      <th>Coef.</th>\n",
       "      <th>Std.Err.</th>\n",
       "      <th>z</th>\n",
       "      <th>P&gt;|z|</th>\n",
       "      <th>[0.025</th>\n",
       "      <th>0.975]</th>\n",
       "    </tr>\n",
       "  </thead>\n",
       "  <tbody>\n",
       "    <tr>\n",
       "      <th>0</th>\n",
       "      <td>Intercept</td>\n",
       "      <td>24.771</td>\n",
       "      <td>2.178</td>\n",
       "      <td>11.371</td>\n",
       "      <td>0.000</td>\n",
       "      <td>20.501</td>\n",
       "      <td>29.040</td>\n",
       "    </tr>\n",
       "    <tr>\n",
       "      <th>1</th>\n",
       "      <td>wh_numeric</td>\n",
       "      <td>-0.296</td>\n",
       "      <td>0.076</td>\n",
       "      <td>-3.913</td>\n",
       "      <td>0.000</td>\n",
       "      <td>-0.444</td>\n",
       "      <td>-0.148</td>\n",
       "    </tr>\n",
       "  </tbody>\n",
       "</table>\n",
       "</div>"
      ],
      "text/plain": [
       "    Parameter   Coef. Std.Err.       z  P>|z|  [0.025  0.975]\n",
       "0   Intercept  24.771    2.178  11.371  0.000  20.501  29.040\n",
       "1  wh_numeric  -0.296    0.076  -3.913  0.000  -0.444  -0.148"
      ]
     },
     "metadata": {},
     "output_type": "display_data"
    },
    {
     "name": "stdout",
     "output_type": "stream",
     "text": [
      "\n",
      "=== RANDOM EFFECTS / VARIANCE-COVARIANCE ===\n"
     ]
    },
    {
     "data": {
      "text/html": [
       "<div>\n",
       "<style scoped>\n",
       "    .dataframe tbody tr th:only-of-type {\n",
       "        vertical-align: middle;\n",
       "    }\n",
       "\n",
       "    .dataframe tbody tr th {\n",
       "        vertical-align: top;\n",
       "    }\n",
       "\n",
       "    .dataframe thead th {\n",
       "        text-align: right;\n",
       "    }\n",
       "</style>\n",
       "<table border=\"1\" class=\"dataframe\">\n",
       "  <thead>\n",
       "    <tr style=\"text-align: right;\">\n",
       "      <th></th>\n",
       "      <th>Parameter</th>\n",
       "      <th>Coef.</th>\n",
       "      <th>Std.Err.</th>\n",
       "    </tr>\n",
       "  </thead>\n",
       "  <tbody>\n",
       "    <tr>\n",
       "      <th>0</th>\n",
       "      <td>Group Var</td>\n",
       "      <td>94.791</td>\n",
       "      <td>40.594</td>\n",
       "    </tr>\n",
       "  </tbody>\n",
       "</table>\n",
       "</div>"
      ],
      "text/plain": [
       "   Parameter   Coef. Std.Err.\n",
       "0  Group Var  94.791   40.594"
      ]
     },
     "metadata": {},
     "output_type": "display_data"
    },
    {
     "data": {
      "text/plain": [
       "<statsmodels.regression.mixed_linear_model.MixedLMResultsWrapper at 0x14a45ba30df0>"
      ]
     },
     "execution_count": 119,
     "metadata": {},
     "output_type": "execute_result"
    }
   ],
   "source": [
    "# flip test: gap+\n",
    "gap_df = sentence_df[sentence_df['gap_numeric'] == 1]\n",
    "iv_list = ['wh_numeric']\n",
    "mixed_effects_linear_regression(gap_df, iv_list, 'region_surprisal', 'wh-islands continuation: gap+')"
   ]
  },
  {
   "cell_type": "code",
   "execution_count": 120,
   "id": "a0f33d9e",
   "metadata": {},
   "outputs": [
    {
     "name": "stdout",
     "output_type": "stream",
     "text": [
      "\n",
      "=== WH-ISLANDS CONTINUATION: DIVISION BY GRAMMATICALITY ===\n",
      "\n",
      "=== MODEL SUMMARY ===\n",
      "Model: MixedLM\n",
      "Dependent Variable: region_surprisal\n",
      "No. Observations: 240\n",
      "Method: REML\n",
      "No. Groups: 20\n",
      "Scale: 52.3520\n",
      "Min. group size: 12\n",
      "Log-Likelihood: -831.7269\n",
      "Max. group size: 12\n",
      "Converged: Yes\n",
      "Mean group size: 12.0\n",
      "\n",
      "=== FIXED EFFECTS COEFFICIENTS ===\n"
     ]
    },
    {
     "data": {
      "text/html": [
       "<div>\n",
       "<style scoped>\n",
       "    .dataframe tbody tr th:only-of-type {\n",
       "        vertical-align: middle;\n",
       "    }\n",
       "\n",
       "    .dataframe tbody tr th {\n",
       "        vertical-align: top;\n",
       "    }\n",
       "\n",
       "    .dataframe thead th {\n",
       "        text-align: right;\n",
       "    }\n",
       "</style>\n",
       "<table border=\"1\" class=\"dataframe\">\n",
       "  <thead>\n",
       "    <tr style=\"text-align: right;\">\n",
       "      <th></th>\n",
       "      <th>Parameter</th>\n",
       "      <th>Coef.</th>\n",
       "      <th>Std.Err.</th>\n",
       "      <th>z</th>\n",
       "      <th>P&gt;|z|</th>\n",
       "      <th>[0.025</th>\n",
       "      <th>0.975]</th>\n",
       "    </tr>\n",
       "  </thead>\n",
       "  <tbody>\n",
       "    <tr>\n",
       "      <th>0</th>\n",
       "      <td>Intercept</td>\n",
       "      <td>20.623</td>\n",
       "      <td>1.306</td>\n",
       "      <td>15.796</td>\n",
       "      <td>0.000</td>\n",
       "      <td>18.064</td>\n",
       "      <td>23.182</td>\n",
       "    </tr>\n",
       "    <tr>\n",
       "      <th>1</th>\n",
       "      <td>grammaticality[T.gram-]</td>\n",
       "      <td>0.598</td>\n",
       "      <td>0.934</td>\n",
       "      <td>0.640</td>\n",
       "      <td>0.522</td>\n",
       "      <td>-1.233</td>\n",
       "      <td>2.429</td>\n",
       "    </tr>\n",
       "  </tbody>\n",
       "</table>\n",
       "</div>"
      ],
      "text/plain": [
       "                 Parameter   Coef. Std.Err.       z  P>|z|  [0.025  0.975]\n",
       "0                Intercept  20.623    1.306  15.796  0.000  18.064  23.182\n",
       "1  grammaticality[T.gram-]   0.598    0.934   0.640  0.522  -1.233   2.429"
      ]
     },
     "metadata": {},
     "output_type": "display_data"
    },
    {
     "name": "stdout",
     "output_type": "stream",
     "text": [
      "\n",
      "=== RANDOM EFFECTS / VARIANCE-COVARIANCE ===\n"
     ]
    },
    {
     "data": {
      "text/html": [
       "<div>\n",
       "<style scoped>\n",
       "    .dataframe tbody tr th:only-of-type {\n",
       "        vertical-align: middle;\n",
       "    }\n",
       "\n",
       "    .dataframe tbody tr th {\n",
       "        vertical-align: top;\n",
       "    }\n",
       "\n",
       "    .dataframe thead th {\n",
       "        text-align: right;\n",
       "    }\n",
       "</style>\n",
       "<table border=\"1\" class=\"dataframe\">\n",
       "  <thead>\n",
       "    <tr style=\"text-align: right;\">\n",
       "      <th></th>\n",
       "      <th>Parameter</th>\n",
       "      <th>Coef.</th>\n",
       "      <th>Std.Err.</th>\n",
       "    </tr>\n",
       "  </thead>\n",
       "  <tbody>\n",
       "    <tr>\n",
       "      <th>0</th>\n",
       "      <td>Group Var</td>\n",
       "      <td>25.367</td>\n",
       "      <td>1.390</td>\n",
       "    </tr>\n",
       "  </tbody>\n",
       "</table>\n",
       "</div>"
      ],
      "text/plain": [
       "   Parameter   Coef. Std.Err.\n",
       "0  Group Var  25.367    1.390"
      ]
     },
     "metadata": {},
     "output_type": "display_data"
    },
    {
     "data": {
      "text/plain": [
       "<statsmodels.regression.mixed_linear_model.MixedLMResultsWrapper at 0x14a45b9b1310>"
      ]
     },
     "execution_count": 120,
     "metadata": {},
     "output_type": "execute_result"
    }
   ],
   "source": [
    "# division by grammaticality\n",
    "iv_list = ['grammaticality']\n",
    "mixed_effects_linear_regression(sentence_df, iv_list, 'region_surprisal', 'wh-islands continuation: division by grammaticality')"
   ]
  },
  {
   "cell_type": "markdown",
   "id": "4dff9fd1",
   "metadata": {},
   "source": [
    "Embedded Clause"
   ]
  },
  {
   "cell_type": "code",
   "execution_count": 121,
   "id": "d4f35a76",
   "metadata": {},
   "outputs": [],
   "source": [
    "embed = ['subj1', 'verb1', 'comp', 'subj2', 'embed_verb', 'obj', 'cont', 'end']\n",
    "sentence_df['embed_surprisal'] = sentence_df.apply(lambda x: sum_region_surprisal(x, embed, normalize = True), axis = 1)"
   ]
  },
  {
   "cell_type": "code",
   "execution_count": 122,
   "id": "28a7dccc",
   "metadata": {},
   "outputs": [
    {
     "name": "stdout",
     "output_type": "stream",
     "text": [
      "\n",
      "=== WH-ISLANDS EMBED: GAP- ===\n",
      "\n",
      "=== MODEL SUMMARY ===\n",
      ":            MixedLM Dependent Variable: embed_surprisal\n",
      "No. Observations: 120\n",
      "Method: REML\n",
      "No. Groups: 20\n",
      "Scale: 0.0782\n",
      "Min. group size: 6\n",
      "Log-Likelihood: -61.1095\n",
      "Max. group size: 6\n",
      "Converged: Yes\n",
      "Mean group size: 6.0\n",
      "\n",
      "=== FIXED EFFECTS COEFFICIENTS ===\n"
     ]
    },
    {
     "data": {
      "text/html": [
       "<div>\n",
       "<style scoped>\n",
       "    .dataframe tbody tr th:only-of-type {\n",
       "        vertical-align: middle;\n",
       "    }\n",
       "\n",
       "    .dataframe tbody tr th {\n",
       "        vertical-align: top;\n",
       "    }\n",
       "\n",
       "    .dataframe thead th {\n",
       "        text-align: right;\n",
       "    }\n",
       "</style>\n",
       "<table border=\"1\" class=\"dataframe\">\n",
       "  <thead>\n",
       "    <tr style=\"text-align: right;\">\n",
       "      <th></th>\n",
       "      <th>Parameter</th>\n",
       "      <th>Coef.</th>\n",
       "      <th>Std.Err.</th>\n",
       "      <th>z</th>\n",
       "      <th>P&gt;|z|</th>\n",
       "      <th>[0.025</th>\n",
       "      <th>0.975]</th>\n",
       "    </tr>\n",
       "  </thead>\n",
       "  <tbody>\n",
       "    <tr>\n",
       "      <th>0</th>\n",
       "      <td>Intercept</td>\n",
       "      <td>6.646</td>\n",
       "      <td>0.201</td>\n",
       "      <td>33.007</td>\n",
       "      <td>0.000</td>\n",
       "      <td>6.252</td>\n",
       "      <td>7.041</td>\n",
       "    </tr>\n",
       "    <tr>\n",
       "      <th>1</th>\n",
       "      <td>wh_numeric</td>\n",
       "      <td>-0.240</td>\n",
       "      <td>0.026</td>\n",
       "      <td>-9.398</td>\n",
       "      <td>0.000</td>\n",
       "      <td>-0.290</td>\n",
       "      <td>-0.190</td>\n",
       "    </tr>\n",
       "  </tbody>\n",
       "</table>\n",
       "</div>"
      ],
      "text/plain": [
       "    Parameter   Coef. Std.Err.       z  P>|z|  [0.025  0.975]\n",
       "0   Intercept   6.646    0.201  33.007  0.000   6.252   7.041\n",
       "1  wh_numeric  -0.240    0.026  -9.398  0.000  -0.290  -0.190"
      ]
     },
     "metadata": {},
     "output_type": "display_data"
    },
    {
     "name": "stdout",
     "output_type": "stream",
     "text": [
      "\n",
      "=== RANDOM EFFECTS / VARIANCE-COVARIANCE ===\n"
     ]
    },
    {
     "data": {
      "text/html": [
       "<div>\n",
       "<style scoped>\n",
       "    .dataframe tbody tr th:only-of-type {\n",
       "        vertical-align: middle;\n",
       "    }\n",
       "\n",
       "    .dataframe tbody tr th {\n",
       "        vertical-align: top;\n",
       "    }\n",
       "\n",
       "    .dataframe thead th {\n",
       "        text-align: right;\n",
       "    }\n",
       "</style>\n",
       "<table border=\"1\" class=\"dataframe\">\n",
       "  <thead>\n",
       "    <tr style=\"text-align: right;\">\n",
       "      <th></th>\n",
       "      <th>Parameter</th>\n",
       "      <th>Coef.</th>\n",
       "      <th>Std.Err.</th>\n",
       "    </tr>\n",
       "  </thead>\n",
       "  <tbody>\n",
       "    <tr>\n",
       "      <th>0</th>\n",
       "      <td>Group Var</td>\n",
       "      <td>0.798</td>\n",
       "      <td>1.027</td>\n",
       "    </tr>\n",
       "  </tbody>\n",
       "</table>\n",
       "</div>"
      ],
      "text/plain": [
       "   Parameter  Coef. Std.Err.\n",
       "0  Group Var  0.798    1.027"
      ]
     },
     "metadata": {},
     "output_type": "display_data"
    },
    {
     "data": {
      "text/plain": [
       "<statsmodels.regression.mixed_linear_model.MixedLMResultsWrapper at 0x14a45b9492b0>"
      ]
     },
     "execution_count": 122,
     "metadata": {},
     "output_type": "execute_result"
    }
   ],
   "source": [
    "# flip test: gap-\n",
    "no_gap_df = sentence_df[sentence_df['gap_numeric'] == -1]\n",
    "iv_list = ['wh_numeric']\n",
    "mixed_effects_linear_regression(no_gap_df, iv_list, 'embed_surprisal', 'wh-islands embed: gap-')"
   ]
  },
  {
   "cell_type": "code",
   "execution_count": 123,
   "id": "fe9ebcee",
   "metadata": {},
   "outputs": [
    {
     "name": "stdout",
     "output_type": "stream",
     "text": [
      "\n",
      "=== WH-ISLANDS EMBED: GAP+ ===\n",
      "\n",
      "=== MODEL SUMMARY ===\n",
      ":            MixedLM Dependent Variable: embed_surprisal\n",
      "No. Observations: 120\n",
      "Method: REML\n",
      "No. Groups: 20\n",
      "Scale: 0.0992\n",
      "Min. group size: 6\n",
      "Log-Likelihood: -72.9386\n",
      "Max. group size: 6\n",
      "Converged: Yes\n",
      "Mean group size: 6.0\n",
      "\n",
      "=== FIXED EFFECTS COEFFICIENTS ===\n"
     ]
    },
    {
     "data": {
      "text/html": [
       "<div>\n",
       "<style scoped>\n",
       "    .dataframe tbody tr th:only-of-type {\n",
       "        vertical-align: middle;\n",
       "    }\n",
       "\n",
       "    .dataframe tbody tr th {\n",
       "        vertical-align: top;\n",
       "    }\n",
       "\n",
       "    .dataframe thead th {\n",
       "        text-align: right;\n",
       "    }\n",
       "</style>\n",
       "<table border=\"1\" class=\"dataframe\">\n",
       "  <thead>\n",
       "    <tr style=\"text-align: right;\">\n",
       "      <th></th>\n",
       "      <th>Parameter</th>\n",
       "      <th>Coef.</th>\n",
       "      <th>Std.Err.</th>\n",
       "      <th>z</th>\n",
       "      <th>P&gt;|z|</th>\n",
       "      <th>[0.025</th>\n",
       "      <th>0.975]</th>\n",
       "    </tr>\n",
       "  </thead>\n",
       "  <tbody>\n",
       "    <tr>\n",
       "      <th>0</th>\n",
       "      <td>Intercept</td>\n",
       "      <td>6.599</td>\n",
       "      <td>0.202</td>\n",
       "      <td>32.680</td>\n",
       "      <td>0.000</td>\n",
       "      <td>6.203</td>\n",
       "      <td>6.994</td>\n",
       "    </tr>\n",
       "    <tr>\n",
       "      <th>1</th>\n",
       "      <td>wh_numeric</td>\n",
       "      <td>-0.322</td>\n",
       "      <td>0.029</td>\n",
       "      <td>-11.211</td>\n",
       "      <td>0.000</td>\n",
       "      <td>-0.379</td>\n",
       "      <td>-0.266</td>\n",
       "    </tr>\n",
       "  </tbody>\n",
       "</table>\n",
       "</div>"
      ],
      "text/plain": [
       "    Parameter   Coef. Std.Err.        z  P>|z|  [0.025  0.975]\n",
       "0   Intercept   6.599    0.202   32.680  0.000   6.203   6.994\n",
       "1  wh_numeric  -0.322    0.029  -11.211  0.000  -0.379  -0.266"
      ]
     },
     "metadata": {},
     "output_type": "display_data"
    },
    {
     "name": "stdout",
     "output_type": "stream",
     "text": [
      "\n",
      "=== RANDOM EFFECTS / VARIANCE-COVARIANCE ===\n"
     ]
    },
    {
     "data": {
      "text/html": [
       "<div>\n",
       "<style scoped>\n",
       "    .dataframe tbody tr th:only-of-type {\n",
       "        vertical-align: middle;\n",
       "    }\n",
       "\n",
       "    .dataframe tbody tr th {\n",
       "        vertical-align: top;\n",
       "    }\n",
       "\n",
       "    .dataframe thead th {\n",
       "        text-align: right;\n",
       "    }\n",
       "</style>\n",
       "<table border=\"1\" class=\"dataframe\">\n",
       "  <thead>\n",
       "    <tr style=\"text-align: right;\">\n",
       "      <th></th>\n",
       "      <th>Parameter</th>\n",
       "      <th>Coef.</th>\n",
       "      <th>Std.Err.</th>\n",
       "    </tr>\n",
       "  </thead>\n",
       "  <tbody>\n",
       "    <tr>\n",
       "      <th>0</th>\n",
       "      <td>Group Var</td>\n",
       "      <td>0.799</td>\n",
       "      <td>0.917</td>\n",
       "    </tr>\n",
       "  </tbody>\n",
       "</table>\n",
       "</div>"
      ],
      "text/plain": [
       "   Parameter  Coef. Std.Err.\n",
       "0  Group Var  0.799    0.917"
      ]
     },
     "metadata": {},
     "output_type": "display_data"
    },
    {
     "data": {
      "text/plain": [
       "<statsmodels.regression.mixed_linear_model.MixedLMResultsWrapper at 0x14a45b9c6910>"
      ]
     },
     "execution_count": 123,
     "metadata": {},
     "output_type": "execute_result"
    }
   ],
   "source": [
    "# flip test: gap+\n",
    "gap_df = sentence_df[sentence_df['gap_numeric'] == 1]\n",
    "iv_list = ['wh_numeric']\n",
    "mixed_effects_linear_regression(gap_df, iv_list, 'embed_surprisal', 'wh-islands embed: gap+')"
   ]
  },
  {
   "cell_type": "code",
   "execution_count": 124,
   "id": "c7f5fd2b",
   "metadata": {},
   "outputs": [
    {
     "name": "stdout",
     "output_type": "stream",
     "text": [
      "\n",
      "=== WH-ISLANDS EMBED: DIVISION BY GRAMMATICALITY ===\n",
      "\n",
      "=== MODEL SUMMARY ===\n",
      "Model: MixedLM\n",
      "Dependent Variable: embed_surprisal\n",
      "No. Observations: 240\n",
      "Method: REML\n",
      "No. Groups: 20\n",
      "Scale: 0.1847\n",
      "Min. group size: 12\n",
      "Log-Likelihood: -178.9995\n",
      "Max. group size: 12\n",
      "Converged: Yes\n",
      "Mean group size: 12.0\n",
      "\n",
      "=== FIXED EFFECTS COEFFICIENTS ===\n"
     ]
    },
    {
     "data": {
      "text/html": [
       "<div>\n",
       "<style scoped>\n",
       "    .dataframe tbody tr th:only-of-type {\n",
       "        vertical-align: middle;\n",
       "    }\n",
       "\n",
       "    .dataframe tbody tr th {\n",
       "        vertical-align: top;\n",
       "    }\n",
       "\n",
       "    .dataframe thead th {\n",
       "        text-align: right;\n",
       "    }\n",
       "</style>\n",
       "<table border=\"1\" class=\"dataframe\">\n",
       "  <thead>\n",
       "    <tr style=\"text-align: right;\">\n",
       "      <th></th>\n",
       "      <th>Parameter</th>\n",
       "      <th>Coef.</th>\n",
       "      <th>Std.Err.</th>\n",
       "      <th>z</th>\n",
       "      <th>P&gt;|z|</th>\n",
       "      <th>[0.025</th>\n",
       "      <th>0.975]</th>\n",
       "    </tr>\n",
       "  </thead>\n",
       "  <tbody>\n",
       "    <tr>\n",
       "      <th>0</th>\n",
       "      <td>Intercept</td>\n",
       "      <td>6.581</td>\n",
       "      <td>0.201</td>\n",
       "      <td>32.662</td>\n",
       "      <td>0.000</td>\n",
       "      <td>6.186</td>\n",
       "      <td>6.976</td>\n",
       "    </tr>\n",
       "    <tr>\n",
       "      <th>1</th>\n",
       "      <td>grammaticality[T.gram-]</td>\n",
       "      <td>0.082</td>\n",
       "      <td>0.055</td>\n",
       "      <td>1.486</td>\n",
       "      <td>0.137</td>\n",
       "      <td>-0.026</td>\n",
       "      <td>0.191</td>\n",
       "    </tr>\n",
       "  </tbody>\n",
       "</table>\n",
       "</div>"
      ],
      "text/plain": [
       "                 Parameter  Coef. Std.Err.       z  P>|z|  [0.025 0.975]\n",
       "0                Intercept  6.581    0.201  32.662  0.000   6.186  6.976\n",
       "1  grammaticality[T.gram-]  0.082    0.055   1.486  0.137  -0.026  0.191"
      ]
     },
     "metadata": {},
     "output_type": "display_data"
    },
    {
     "name": "stdout",
     "output_type": "stream",
     "text": [
      "\n",
      "=== RANDOM EFFECTS / VARIANCE-COVARIANCE ===\n"
     ]
    },
    {
     "data": {
      "text/html": [
       "<div>\n",
       "<style scoped>\n",
       "    .dataframe tbody tr th:only-of-type {\n",
       "        vertical-align: middle;\n",
       "    }\n",
       "\n",
       "    .dataframe tbody tr th {\n",
       "        vertical-align: top;\n",
       "    }\n",
       "\n",
       "    .dataframe thead th {\n",
       "        text-align: right;\n",
       "    }\n",
       "</style>\n",
       "<table border=\"1\" class=\"dataframe\">\n",
       "  <thead>\n",
       "    <tr style=\"text-align: right;\">\n",
       "      <th></th>\n",
       "      <th>Parameter</th>\n",
       "      <th>Coef.</th>\n",
       "      <th>Std.Err.</th>\n",
       "    </tr>\n",
       "  </thead>\n",
       "  <tbody>\n",
       "    <tr>\n",
       "      <th>0</th>\n",
       "      <td>Group Var</td>\n",
       "      <td>0.781</td>\n",
       "      <td>0.627</td>\n",
       "    </tr>\n",
       "  </tbody>\n",
       "</table>\n",
       "</div>"
      ],
      "text/plain": [
       "   Parameter  Coef. Std.Err.\n",
       "0  Group Var  0.781    0.627"
      ]
     },
     "metadata": {},
     "output_type": "display_data"
    },
    {
     "data": {
      "text/plain": [
       "<statsmodels.regression.mixed_linear_model.MixedLMResultsWrapper at 0x14a45ba1fd30>"
      ]
     },
     "execution_count": 124,
     "metadata": {},
     "output_type": "execute_result"
    }
   ],
   "source": [
    "# division by grammaticality\n",
    "iv_list = ['grammaticality']\n",
    "mixed_effects_linear_regression(sentence_df, iv_list, 'embed_surprisal', 'wh-islands embed: division by grammaticality')"
   ]
  },
  {
   "cell_type": "markdown",
   "id": "9e089b58",
   "metadata": {},
   "source": [
    "#### Adjunct Islands "
   ]
  },
  {
   "cell_type": "code",
   "execution_count": 133,
   "id": "ef9c8675",
   "metadata": {},
   "outputs": [],
   "source": [
    "sentence_df = pd.read_csv('test_sentences/Adjunct Islands.csv')\n",
    "sentence_df['adjunct_type'] = sentence_df['adjunct_type'].fillna('null')"
   ]
  },
  {
   "cell_type": "code",
   "execution_count": 134,
   "id": "17fe918d",
   "metadata": {},
   "outputs": [],
   "source": [
    "sentence_df[['cont', 'end']] = sentence_df['cont'].apply(split_ends)\n",
    "sentence_df['adjunct_front_trigger'] = np.nan\n",
    "sentence_df['adjunct_front_trigger'] = sentence_df['adjunct_trigger'].where(sentence_df['adjunct_type'] == 'front', sentence_df['adjunct_front_trigger'])\n",
    "sentence_df['adjunct_trigger'] = sentence_df['adjunct_trigger'].where(sentence_df['adjunct_type'] != 'front', np.nan)\n",
    "sentence_df.rename(columns = {'adjunct_trigger': 'adjunct_back_trigger'}, inplace = True)\n",
    "sentence_df = sentence_df[[col for col in sentence_df.columns if col != 'end'] + ['end']]"
   ]
  },
  {
   "cell_type": "code",
   "execution_count": 135,
   "id": "bad8b7df",
   "metadata": {},
   "outputs": [],
   "source": [
    "sentence_df = encode_wh_licensor(sentence_df)\n",
    "sentence_df['gap_numeric'] = sentence_df['gap'].replace(0, -1)\n",
    "syntactic_parts = ['prefix', 'filler_word', 'adjunct_back_trigger', 'prep', 'subj', 'mod', 'verb', 'obj', 'cont', 'adjunct_front_trigger']\n",
    "sentence_df['sentence'] = sentence_df.apply(lambda x: merge_sentence(x, syntactic_parts), axis = 1)\n",
    "sentence_df['surprisals'] = sentence_df['sentence'].apply(calculate_surprisal)\n",
    "sentence_df['adjunct_type'] = pd.Categorical(sentence_df['adjunct_type'], categories = ['null', 'back', 'front'], ordered = True)\n",
    "sentence_df['grammaticality'] = sentence_df.apply(assign_grammaticality, axis = 1)"
   ]
  },
  {
   "cell_type": "markdown",
   "id": "404f7b10",
   "metadata": {},
   "source": [
    "Post-Gap Region - Continuation"
   ]
  },
  {
   "cell_type": "code",
   "execution_count": 136,
   "id": "28cc32fa",
   "metadata": {},
   "outputs": [],
   "source": [
    "sentence_df['region_surprisal'] = sentence_df.apply(lambda x: sum_region_surprisal(x, ['cont'], 'obj'), axis = 1)"
   ]
  },
  {
   "cell_type": "code",
   "execution_count": 137,
   "id": "d5235dbd",
   "metadata": {},
   "outputs": [
    {
     "name": "stdout",
     "output_type": "stream",
     "text": [
      "\n",
      "=== ADJUNCT ISLANDS CONTINUATION: GAP- ===\n",
      "\n",
      "=== MODEL SUMMARY ===\n",
      ":            MixedLM Dependent Variable: region_surprisal\n",
      "No. Observations: 120\n",
      "Method: REML\n",
      "No. Groups: 20\n",
      "Scale: 0.7196\n",
      "Min. group size: 6\n",
      "Log-Likelihood: -214.6824\n",
      "Max. group size: 6\n",
      "Converged: Yes\n",
      "Mean group size: 6.0\n",
      "\n",
      "=== FIXED EFFECTS COEFFICIENTS ===\n"
     ]
    },
    {
     "data": {
      "text/html": [
       "<div>\n",
       "<style scoped>\n",
       "    .dataframe tbody tr th:only-of-type {\n",
       "        vertical-align: middle;\n",
       "    }\n",
       "\n",
       "    .dataframe tbody tr th {\n",
       "        vertical-align: top;\n",
       "    }\n",
       "\n",
       "    .dataframe thead th {\n",
       "        text-align: right;\n",
       "    }\n",
       "</style>\n",
       "<table border=\"1\" class=\"dataframe\">\n",
       "  <thead>\n",
       "    <tr style=\"text-align: right;\">\n",
       "      <th></th>\n",
       "      <th>Parameter</th>\n",
       "      <th>Coef.</th>\n",
       "      <th>Std.Err.</th>\n",
       "      <th>z</th>\n",
       "      <th>P&gt;|z|</th>\n",
       "      <th>[0.025</th>\n",
       "      <th>0.975]</th>\n",
       "    </tr>\n",
       "  </thead>\n",
       "  <tbody>\n",
       "    <tr>\n",
       "      <th>0</th>\n",
       "      <td>Intercept</td>\n",
       "      <td>23.958</td>\n",
       "      <td>2.010</td>\n",
       "      <td>11.919</td>\n",
       "      <td>0.000</td>\n",
       "      <td>20.018</td>\n",
       "      <td>27.897</td>\n",
       "    </tr>\n",
       "    <tr>\n",
       "      <th>1</th>\n",
       "      <td>wh_numeric</td>\n",
       "      <td>0.174</td>\n",
       "      <td>0.077</td>\n",
       "      <td>2.253</td>\n",
       "      <td>0.024</td>\n",
       "      <td>0.023</td>\n",
       "      <td>0.326</td>\n",
       "    </tr>\n",
       "  </tbody>\n",
       "</table>\n",
       "</div>"
      ],
      "text/plain": [
       "    Parameter   Coef. Std.Err.       z  P>|z|  [0.025  0.975]\n",
       "0   Intercept  23.958    2.010  11.919  0.000  20.018  27.897\n",
       "1  wh_numeric   0.174    0.077   2.253  0.024   0.023   0.326"
      ]
     },
     "metadata": {},
     "output_type": "display_data"
    },
    {
     "name": "stdout",
     "output_type": "stream",
     "text": [
      "\n",
      "=== RANDOM EFFECTS / VARIANCE-COVARIANCE ===\n"
     ]
    },
    {
     "data": {
      "text/html": [
       "<div>\n",
       "<style scoped>\n",
       "    .dataframe tbody tr th:only-of-type {\n",
       "        vertical-align: middle;\n",
       "    }\n",
       "\n",
       "    .dataframe tbody tr th {\n",
       "        vertical-align: top;\n",
       "    }\n",
       "\n",
       "    .dataframe thead th {\n",
       "        text-align: right;\n",
       "    }\n",
       "</style>\n",
       "<table border=\"1\" class=\"dataframe\">\n",
       "  <thead>\n",
       "    <tr style=\"text-align: right;\">\n",
       "      <th></th>\n",
       "      <th>Parameter</th>\n",
       "      <th>Coef.</th>\n",
       "      <th>Std.Err.</th>\n",
       "    </tr>\n",
       "  </thead>\n",
       "  <tbody>\n",
       "    <tr>\n",
       "      <th>0</th>\n",
       "      <td>Group Var</td>\n",
       "      <td>80.687</td>\n",
       "      <td>33.731</td>\n",
       "    </tr>\n",
       "  </tbody>\n",
       "</table>\n",
       "</div>"
      ],
      "text/plain": [
       "   Parameter   Coef. Std.Err.\n",
       "0  Group Var  80.687   33.731"
      ]
     },
     "metadata": {},
     "output_type": "display_data"
    },
    {
     "data": {
      "text/plain": [
       "<statsmodels.regression.mixed_linear_model.MixedLMResultsWrapper at 0x14a45386b3d0>"
      ]
     },
     "execution_count": 137,
     "metadata": {},
     "output_type": "execute_result"
    }
   ],
   "source": [
    "# flip test: gap-\n",
    "no_gap_df = sentence_df[sentence_df['gap_numeric'] == -1]\n",
    "iv_list = ['wh_numeric']\n",
    "mixed_effects_linear_regression(no_gap_df, iv_list, 'region_surprisal', 'adjunct islands continuation: gap-')"
   ]
  },
  {
   "cell_type": "code",
   "execution_count": 138,
   "id": "cb3739ed",
   "metadata": {},
   "outputs": [
    {
     "name": "stdout",
     "output_type": "stream",
     "text": [
      "\n",
      "=== ADJUNCT ISLANDS CONTINUATION: GAP+ ===\n",
      "\n",
      "=== MODEL SUMMARY ===\n",
      ":            MixedLM Dependent Variable: region_surprisal\n",
      "No. Observations: 120\n",
      "Method: REML\n",
      "No. Groups: 20\n",
      "Scale: 0.6637\n",
      "Min. group size: 6\n",
      "Log-Likelihood: -207.3930\n",
      "Max. group size: 6\n",
      "Converged: Yes\n",
      "Mean group size: 6.0\n",
      "\n",
      "=== FIXED EFFECTS COEFFICIENTS ===\n"
     ]
    },
    {
     "data": {
      "text/html": [
       "<div>\n",
       "<style scoped>\n",
       "    .dataframe tbody tr th:only-of-type {\n",
       "        vertical-align: middle;\n",
       "    }\n",
       "\n",
       "    .dataframe tbody tr th {\n",
       "        vertical-align: top;\n",
       "    }\n",
       "\n",
       "    .dataframe thead th {\n",
       "        text-align: right;\n",
       "    }\n",
       "</style>\n",
       "<table border=\"1\" class=\"dataframe\">\n",
       "  <thead>\n",
       "    <tr style=\"text-align: right;\">\n",
       "      <th></th>\n",
       "      <th>Parameter</th>\n",
       "      <th>Coef.</th>\n",
       "      <th>Std.Err.</th>\n",
       "      <th>z</th>\n",
       "      <th>P&gt;|z|</th>\n",
       "      <th>[0.025</th>\n",
       "      <th>0.975]</th>\n",
       "    </tr>\n",
       "  </thead>\n",
       "  <tbody>\n",
       "    <tr>\n",
       "      <th>0</th>\n",
       "      <td>Intercept</td>\n",
       "      <td>32.587</td>\n",
       "      <td>1.691</td>\n",
       "      <td>19.271</td>\n",
       "      <td>0.000</td>\n",
       "      <td>29.273</td>\n",
       "      <td>35.902</td>\n",
       "    </tr>\n",
       "    <tr>\n",
       "      <th>1</th>\n",
       "      <td>wh_numeric</td>\n",
       "      <td>0.057</td>\n",
       "      <td>0.074</td>\n",
       "      <td>0.771</td>\n",
       "      <td>0.441</td>\n",
       "      <td>-0.088</td>\n",
       "      <td>0.203</td>\n",
       "    </tr>\n",
       "  </tbody>\n",
       "</table>\n",
       "</div>"
      ],
      "text/plain": [
       "    Parameter   Coef. Std.Err.       z  P>|z|  [0.025  0.975]\n",
       "0   Intercept  32.587    1.691  19.271  0.000  29.273  35.902\n",
       "1  wh_numeric   0.057    0.074   0.771  0.441  -0.088   0.203"
      ]
     },
     "metadata": {},
     "output_type": "display_data"
    },
    {
     "name": "stdout",
     "output_type": "stream",
     "text": [
      "\n",
      "=== RANDOM EFFECTS / VARIANCE-COVARIANCE ===\n"
     ]
    },
    {
     "data": {
      "text/html": [
       "<div>\n",
       "<style scoped>\n",
       "    .dataframe tbody tr th:only-of-type {\n",
       "        vertical-align: middle;\n",
       "    }\n",
       "\n",
       "    .dataframe tbody tr th {\n",
       "        vertical-align: top;\n",
       "    }\n",
       "\n",
       "    .dataframe thead th {\n",
       "        text-align: right;\n",
       "    }\n",
       "</style>\n",
       "<table border=\"1\" class=\"dataframe\">\n",
       "  <thead>\n",
       "    <tr style=\"text-align: right;\">\n",
       "      <th></th>\n",
       "      <th>Parameter</th>\n",
       "      <th>Coef.</th>\n",
       "      <th>Std.Err.</th>\n",
       "    </tr>\n",
       "  </thead>\n",
       "  <tbody>\n",
       "    <tr>\n",
       "      <th>0</th>\n",
       "      <td>Group Var</td>\n",
       "      <td>57.077</td>\n",
       "      <td>24.862</td>\n",
       "    </tr>\n",
       "  </tbody>\n",
       "</table>\n",
       "</div>"
      ],
      "text/plain": [
       "   Parameter   Coef. Std.Err.\n",
       "0  Group Var  57.077   24.862"
      ]
     },
     "metadata": {},
     "output_type": "display_data"
    },
    {
     "data": {
      "text/plain": [
       "<statsmodels.regression.mixed_linear_model.MixedLMResultsWrapper at 0x14a45b9f4130>"
      ]
     },
     "execution_count": 138,
     "metadata": {},
     "output_type": "execute_result"
    }
   ],
   "source": [
    "# flip test: gap+\n",
    "gap_df = sentence_df[sentence_df['gap_numeric'] == 1]\n",
    "iv_list = ['wh_numeric']\n",
    "mixed_effects_linear_regression(gap_df, iv_list, 'region_surprisal', 'adjunct islands continuation: gap+')"
   ]
  },
  {
   "cell_type": "code",
   "execution_count": 139,
   "id": "c928ab31",
   "metadata": {},
   "outputs": [
    {
     "name": "stdout",
     "output_type": "stream",
     "text": [
      "\n",
      "=== ADJUNCT ISLANDS CONTINUATION: DIVISION BY GRAMMATICALITY ===\n",
      "\n",
      "=== MODEL SUMMARY ===\n",
      "Model: MixedLM\n",
      "Dependent Variable: region_surprisal\n",
      "No. Observations: 240\n",
      "Method: REML\n",
      "No. Groups: 20\n",
      "Scale: 49.8092\n",
      "Min. group size: 12\n",
      "Log-Likelihood: -829.4158\n",
      "Max. group size: 12\n",
      "Converged: Yes\n",
      "Mean group size: 12.0\n",
      "\n",
      "=== FIXED EFFECTS COEFFICIENTS ===\n"
     ]
    },
    {
     "data": {
      "text/html": [
       "<div>\n",
       "<style scoped>\n",
       "    .dataframe tbody tr th:only-of-type {\n",
       "        vertical-align: middle;\n",
       "    }\n",
       "\n",
       "    .dataframe tbody tr th {\n",
       "        vertical-align: top;\n",
       "    }\n",
       "\n",
       "    .dataframe thead th {\n",
       "        text-align: right;\n",
       "    }\n",
       "</style>\n",
       "<table border=\"1\" class=\"dataframe\">\n",
       "  <thead>\n",
       "    <tr style=\"text-align: right;\">\n",
       "      <th></th>\n",
       "      <th>Parameter</th>\n",
       "      <th>Coef.</th>\n",
       "      <th>Std.Err.</th>\n",
       "      <th>z</th>\n",
       "      <th>P&gt;|z|</th>\n",
       "      <th>[0.025</th>\n",
       "      <th>0.975]</th>\n",
       "    </tr>\n",
       "  </thead>\n",
       "  <tbody>\n",
       "    <tr>\n",
       "      <th>0</th>\n",
       "      <td>Intercept</td>\n",
       "      <td>28.214</td>\n",
       "      <td>1.509</td>\n",
       "      <td>18.699</td>\n",
       "      <td>0.000</td>\n",
       "      <td>25.257</td>\n",
       "      <td>31.171</td>\n",
       "    </tr>\n",
       "    <tr>\n",
       "      <th>1</th>\n",
       "      <td>grammaticality[T.gram-]</td>\n",
       "      <td>0.117</td>\n",
       "      <td>0.911</td>\n",
       "      <td>0.129</td>\n",
       "      <td>0.898</td>\n",
       "      <td>-1.669</td>\n",
       "      <td>1.903</td>\n",
       "    </tr>\n",
       "  </tbody>\n",
       "</table>\n",
       "</div>"
      ],
      "text/plain": [
       "                 Parameter   Coef. Std.Err.       z  P>|z|  [0.025  0.975]\n",
       "0                Intercept  28.214    1.509  18.699  0.000  25.257  31.171\n",
       "1  grammaticality[T.gram-]   0.117    0.911   0.129  0.898  -1.669   1.903"
      ]
     },
     "metadata": {},
     "output_type": "display_data"
    },
    {
     "name": "stdout",
     "output_type": "stream",
     "text": [
      "\n",
      "=== RANDOM EFFECTS / VARIANCE-COVARIANCE ===\n"
     ]
    },
    {
     "data": {
      "text/html": [
       "<div>\n",
       "<style scoped>\n",
       "    .dataframe tbody tr th:only-of-type {\n",
       "        vertical-align: middle;\n",
       "    }\n",
       "\n",
       "    .dataframe tbody tr th {\n",
       "        vertical-align: top;\n",
       "    }\n",
       "\n",
       "    .dataframe thead th {\n",
       "        text-align: right;\n",
       "    }\n",
       "</style>\n",
       "<table border=\"1\" class=\"dataframe\">\n",
       "  <thead>\n",
       "    <tr style=\"text-align: right;\">\n",
       "      <th></th>\n",
       "      <th>Parameter</th>\n",
       "      <th>Coef.</th>\n",
       "      <th>Std.Err.</th>\n",
       "    </tr>\n",
       "  </thead>\n",
       "  <tbody>\n",
       "    <tr>\n",
       "      <th>0</th>\n",
       "      <td>Group Var</td>\n",
       "      <td>37.229</td>\n",
       "      <td>1.983</td>\n",
       "    </tr>\n",
       "  </tbody>\n",
       "</table>\n",
       "</div>"
      ],
      "text/plain": [
       "   Parameter   Coef. Std.Err.\n",
       "0  Group Var  37.229    1.983"
      ]
     },
     "metadata": {},
     "output_type": "display_data"
    },
    {
     "data": {
      "text/plain": [
       "<statsmodels.regression.mixed_linear_model.MixedLMResultsWrapper at 0x14a45ba2b8b0>"
      ]
     },
     "execution_count": 139,
     "metadata": {},
     "output_type": "execute_result"
    }
   ],
   "source": [
    "# division by grammaticality\n",
    "iv_list = ['grammaticality']\n",
    "mixed_effects_linear_regression(sentence_df, iv_list, 'region_surprisal', 'adjunct islands continuation: division by grammaticality')"
   ]
  },
  {
   "cell_type": "markdown",
   "id": "569bc491",
   "metadata": {},
   "source": [
    "Embedded Clause"
   ]
  },
  {
   "cell_type": "code",
   "execution_count": 140,
   "id": "6100ff4c",
   "metadata": {},
   "outputs": [],
   "source": [
    "embed = ['adjunct_back_trigger', 'prep', 'subj', 'mod', 'verb', 'obj', 'cont', 'adjunct_front_trigger', 'end']\n",
    "sentence_df['embed_surprisal'] = sentence_df.apply(lambda x: sum_region_surprisal(x, embed, normalize = True), axis = 1)"
   ]
  },
  {
   "cell_type": "code",
   "execution_count": 141,
   "id": "2e194876",
   "metadata": {},
   "outputs": [
    {
     "name": "stdout",
     "output_type": "stream",
     "text": [
      "\n",
      "=== ADJUNCT ISLANDS EMBED: GAP- ===\n",
      "\n",
      "=== MODEL SUMMARY ===\n",
      ":            MixedLM Dependent Variable: embed_surprisal\n",
      "No. Observations: 120\n",
      "Method: REML\n",
      "No. Groups: 20\n",
      "Scale: 0.1987\n",
      "Min. group size: 6\n",
      "Log-Likelihood: -107.9897\n",
      "Max. group size: 6\n",
      "Converged: Yes\n",
      "Mean group size: 6.0\n",
      "\n",
      "=== FIXED EFFECTS COEFFICIENTS ===\n"
     ]
    },
    {
     "data": {
      "text/html": [
       "<div>\n",
       "<style scoped>\n",
       "    .dataframe tbody tr th:only-of-type {\n",
       "        vertical-align: middle;\n",
       "    }\n",
       "\n",
       "    .dataframe tbody tr th {\n",
       "        vertical-align: top;\n",
       "    }\n",
       "\n",
       "    .dataframe thead th {\n",
       "        text-align: right;\n",
       "    }\n",
       "</style>\n",
       "<table border=\"1\" class=\"dataframe\">\n",
       "  <thead>\n",
       "    <tr style=\"text-align: right;\">\n",
       "      <th></th>\n",
       "      <th>Parameter</th>\n",
       "      <th>Coef.</th>\n",
       "      <th>Std.Err.</th>\n",
       "      <th>z</th>\n",
       "      <th>P&gt;|z|</th>\n",
       "      <th>[0.025</th>\n",
       "      <th>0.975]</th>\n",
       "    </tr>\n",
       "  </thead>\n",
       "  <tbody>\n",
       "    <tr>\n",
       "      <th>0</th>\n",
       "      <td>Intercept</td>\n",
       "      <td>6.882</td>\n",
       "      <td>0.209</td>\n",
       "      <td>32.892</td>\n",
       "      <td>0.000</td>\n",
       "      <td>6.472</td>\n",
       "      <td>7.292</td>\n",
       "    </tr>\n",
       "    <tr>\n",
       "      <th>1</th>\n",
       "      <td>wh_numeric</td>\n",
       "      <td>0.080</td>\n",
       "      <td>0.041</td>\n",
       "      <td>1.961</td>\n",
       "      <td>0.050</td>\n",
       "      <td>0.000</td>\n",
       "      <td>0.160</td>\n",
       "    </tr>\n",
       "  </tbody>\n",
       "</table>\n",
       "</div>"
      ],
      "text/plain": [
       "    Parameter  Coef. Std.Err.       z  P>|z| [0.025 0.975]\n",
       "0   Intercept  6.882    0.209  32.892  0.000  6.472  7.292\n",
       "1  wh_numeric  0.080    0.041   1.961  0.050  0.000  0.160"
      ]
     },
     "metadata": {},
     "output_type": "display_data"
    },
    {
     "name": "stdout",
     "output_type": "stream",
     "text": [
      "\n",
      "=== RANDOM EFFECTS / VARIANCE-COVARIANCE ===\n"
     ]
    },
    {
     "data": {
      "text/html": [
       "<div>\n",
       "<style scoped>\n",
       "    .dataframe tbody tr th:only-of-type {\n",
       "        vertical-align: middle;\n",
       "    }\n",
       "\n",
       "    .dataframe tbody tr th {\n",
       "        vertical-align: top;\n",
       "    }\n",
       "\n",
       "    .dataframe thead th {\n",
       "        text-align: right;\n",
       "    }\n",
       "</style>\n",
       "<table border=\"1\" class=\"dataframe\">\n",
       "  <thead>\n",
       "    <tr style=\"text-align: right;\">\n",
       "      <th></th>\n",
       "      <th>Parameter</th>\n",
       "      <th>Coef.</th>\n",
       "      <th>Std.Err.</th>\n",
       "    </tr>\n",
       "  </thead>\n",
       "  <tbody>\n",
       "    <tr>\n",
       "      <th>0</th>\n",
       "      <td>Group Var</td>\n",
       "      <td>0.843</td>\n",
       "      <td>0.696</td>\n",
       "    </tr>\n",
       "  </tbody>\n",
       "</table>\n",
       "</div>"
      ],
      "text/plain": [
       "   Parameter  Coef. Std.Err.\n",
       "0  Group Var  0.843    0.696"
      ]
     },
     "metadata": {},
     "output_type": "display_data"
    },
    {
     "data": {
      "text/plain": [
       "<statsmodels.regression.mixed_linear_model.MixedLMResultsWrapper at 0x14a45ba121f0>"
      ]
     },
     "execution_count": 141,
     "metadata": {},
     "output_type": "execute_result"
    }
   ],
   "source": [
    "# flip test: gap-\n",
    "no_gap_df = sentence_df[sentence_df['gap_numeric'] == -1]\n",
    "iv_list = ['wh_numeric']\n",
    "mixed_effects_linear_regression(no_gap_df, iv_list, 'embed_surprisal', 'adjunct islands embed: gap-')"
   ]
  },
  {
   "cell_type": "code",
   "execution_count": 142,
   "id": "8fa7d54b",
   "metadata": {},
   "outputs": [
    {
     "name": "stdout",
     "output_type": "stream",
     "text": [
      "\n",
      "=== ADJUNCT ISLANDS EMBED: GAP+ ===\n",
      "\n",
      "=== MODEL SUMMARY ===\n",
      ":            MixedLM Dependent Variable: embed_surprisal\n",
      "No. Observations: 120\n",
      "Method: REML\n",
      "No. Groups: 20\n",
      "Scale: 0.3341\n",
      "Min. group size: 6\n",
      "Log-Likelihood: -131.6070\n",
      "Max. group size: 6\n",
      "Converged: Yes\n",
      "Mean group size: 6.0\n",
      "\n",
      "=== FIXED EFFECTS COEFFICIENTS ===\n"
     ]
    },
    {
     "data": {
      "text/html": [
       "<div>\n",
       "<style scoped>\n",
       "    .dataframe tbody tr th:only-of-type {\n",
       "        vertical-align: middle;\n",
       "    }\n",
       "\n",
       "    .dataframe tbody tr th {\n",
       "        vertical-align: top;\n",
       "    }\n",
       "\n",
       "    .dataframe thead th {\n",
       "        text-align: right;\n",
       "    }\n",
       "</style>\n",
       "<table border=\"1\" class=\"dataframe\">\n",
       "  <thead>\n",
       "    <tr style=\"text-align: right;\">\n",
       "      <th></th>\n",
       "      <th>Parameter</th>\n",
       "      <th>Coef.</th>\n",
       "      <th>Std.Err.</th>\n",
       "      <th>z</th>\n",
       "      <th>P&gt;|z|</th>\n",
       "      <th>[0.025</th>\n",
       "      <th>0.975]</th>\n",
       "    </tr>\n",
       "  </thead>\n",
       "  <tbody>\n",
       "    <tr>\n",
       "      <th>0</th>\n",
       "      <td>Intercept</td>\n",
       "      <td>6.637</td>\n",
       "      <td>0.187</td>\n",
       "      <td>35.455</td>\n",
       "      <td>0.000</td>\n",
       "      <td>6.270</td>\n",
       "      <td>7.004</td>\n",
       "    </tr>\n",
       "    <tr>\n",
       "      <th>1</th>\n",
       "      <td>wh_numeric</td>\n",
       "      <td>0.075</td>\n",
       "      <td>0.053</td>\n",
       "      <td>1.429</td>\n",
       "      <td>0.153</td>\n",
       "      <td>-0.028</td>\n",
       "      <td>0.179</td>\n",
       "    </tr>\n",
       "  </tbody>\n",
       "</table>\n",
       "</div>"
      ],
      "text/plain": [
       "    Parameter  Coef. Std.Err.       z  P>|z|  [0.025 0.975]\n",
       "0   Intercept  6.637    0.187  35.455  0.000   6.270  7.004\n",
       "1  wh_numeric  0.075    0.053   1.429  0.153  -0.028  0.179"
      ]
     },
     "metadata": {},
     "output_type": "display_data"
    },
    {
     "name": "stdout",
     "output_type": "stream",
     "text": [
      "\n",
      "=== RANDOM EFFECTS / VARIANCE-COVARIANCE ===\n"
     ]
    },
    {
     "data": {
      "text/html": [
       "<div>\n",
       "<style scoped>\n",
       "    .dataframe tbody tr th:only-of-type {\n",
       "        vertical-align: middle;\n",
       "    }\n",
       "\n",
       "    .dataframe tbody tr th {\n",
       "        vertical-align: top;\n",
       "    }\n",
       "\n",
       "    .dataframe thead th {\n",
       "        text-align: right;\n",
       "    }\n",
       "</style>\n",
       "<table border=\"1\" class=\"dataframe\">\n",
       "  <thead>\n",
       "    <tr style=\"text-align: right;\">\n",
       "      <th></th>\n",
       "      <th>Parameter</th>\n",
       "      <th>Coef.</th>\n",
       "      <th>Std.Err.</th>\n",
       "    </tr>\n",
       "  </thead>\n",
       "  <tbody>\n",
       "    <tr>\n",
       "      <th>0</th>\n",
       "      <td>Group Var</td>\n",
       "      <td>0.645</td>\n",
       "      <td>0.429</td>\n",
       "    </tr>\n",
       "  </tbody>\n",
       "</table>\n",
       "</div>"
      ],
      "text/plain": [
       "   Parameter  Coef. Std.Err.\n",
       "0  Group Var  0.645    0.429"
      ]
     },
     "metadata": {},
     "output_type": "display_data"
    },
    {
     "data": {
      "text/plain": [
       "<statsmodels.regression.mixed_linear_model.MixedLMResultsWrapper at 0x14a45b9f49d0>"
      ]
     },
     "execution_count": 142,
     "metadata": {},
     "output_type": "execute_result"
    }
   ],
   "source": [
    "# flip test: gap+\n",
    "gap_df = sentence_df[sentence_df['gap_numeric'] == 1]\n",
    "iv_list = ['wh_numeric']\n",
    "mixed_effects_linear_regression(gap_df, iv_list, 'embed_surprisal', 'adjunct islands embed: gap+')"
   ]
  },
  {
   "cell_type": "code",
   "execution_count": 143,
   "id": "85101278",
   "metadata": {},
   "outputs": [
    {
     "name": "stdout",
     "output_type": "stream",
     "text": [
      "\n",
      "=== ADJUNCT ISLANDS EMBED: DIVISION BY GRAMMATICALITY ===\n",
      "\n",
      "=== MODEL SUMMARY ===\n",
      "Model: MixedLM\n",
      "Dependent Variable: embed_surprisal\n",
      "No. Observations: 240\n",
      "Method: REML\n",
      "No. Groups: 20\n",
      "Scale: 0.3006\n",
      "Min. group size: 12\n",
      "Log-Likelihood: -231.7803\n",
      "Max. group size: 12\n",
      "Converged: Yes\n",
      "Mean group size: 12.0\n",
      "\n",
      "=== FIXED EFFECTS COEFFICIENTS ===\n"
     ]
    },
    {
     "data": {
      "text/html": [
       "<div>\n",
       "<style scoped>\n",
       "    .dataframe tbody tr th:only-of-type {\n",
       "        vertical-align: middle;\n",
       "    }\n",
       "\n",
       "    .dataframe tbody tr th {\n",
       "        vertical-align: top;\n",
       "    }\n",
       "\n",
       "    .dataframe thead th {\n",
       "        text-align: right;\n",
       "    }\n",
       "</style>\n",
       "<table border=\"1\" class=\"dataframe\">\n",
       "  <thead>\n",
       "    <tr style=\"text-align: right;\">\n",
       "      <th></th>\n",
       "      <th>Parameter</th>\n",
       "      <th>Coef.</th>\n",
       "      <th>Std.Err.</th>\n",
       "      <th>z</th>\n",
       "      <th>P&gt;|z|</th>\n",
       "      <th>[0.025</th>\n",
       "      <th>0.975]</th>\n",
       "    </tr>\n",
       "  </thead>\n",
       "  <tbody>\n",
       "    <tr>\n",
       "      <th>0</th>\n",
       "      <td>Intercept</td>\n",
       "      <td>6.758</td>\n",
       "      <td>0.197</td>\n",
       "      <td>34.259</td>\n",
       "      <td>0.000</td>\n",
       "      <td>6.371</td>\n",
       "      <td>7.144</td>\n",
       "    </tr>\n",
       "    <tr>\n",
       "      <th>1</th>\n",
       "      <td>grammaticality[T.gram-]</td>\n",
       "      <td>0.004</td>\n",
       "      <td>0.071</td>\n",
       "      <td>0.062</td>\n",
       "      <td>0.951</td>\n",
       "      <td>-0.134</td>\n",
       "      <td>0.143</td>\n",
       "    </tr>\n",
       "  </tbody>\n",
       "</table>\n",
       "</div>"
      ],
      "text/plain": [
       "                 Parameter  Coef. Std.Err.       z  P>|z|  [0.025 0.975]\n",
       "0                Intercept  6.758    0.197  34.259  0.000   6.371  7.144\n",
       "1  grammaticality[T.gram-]  0.004    0.071   0.062  0.951  -0.134  0.143"
      ]
     },
     "metadata": {},
     "output_type": "display_data"
    },
    {
     "name": "stdout",
     "output_type": "stream",
     "text": [
      "\n",
      "=== RANDOM EFFECTS / VARIANCE-COVARIANCE ===\n"
     ]
    },
    {
     "data": {
      "text/html": [
       "<div>\n",
       "<style scoped>\n",
       "    .dataframe tbody tr th:only-of-type {\n",
       "        vertical-align: middle;\n",
       "    }\n",
       "\n",
       "    .dataframe tbody tr th {\n",
       "        vertical-align: top;\n",
       "    }\n",
       "\n",
       "    .dataframe thead th {\n",
       "        text-align: right;\n",
       "    }\n",
       "</style>\n",
       "<table border=\"1\" class=\"dataframe\">\n",
       "  <thead>\n",
       "    <tr style=\"text-align: right;\">\n",
       "      <th></th>\n",
       "      <th>Parameter</th>\n",
       "      <th>Coef.</th>\n",
       "      <th>Std.Err.</th>\n",
       "    </tr>\n",
       "  </thead>\n",
       "  <tbody>\n",
       "    <tr>\n",
       "      <th>0</th>\n",
       "      <td>Group Var</td>\n",
       "      <td>0.728</td>\n",
       "      <td>0.465</td>\n",
       "    </tr>\n",
       "  </tbody>\n",
       "</table>\n",
       "</div>"
      ],
      "text/plain": [
       "   Parameter  Coef. Std.Err.\n",
       "0  Group Var  0.728    0.465"
      ]
     },
     "metadata": {},
     "output_type": "display_data"
    },
    {
     "data": {
      "text/plain": [
       "<statsmodels.regression.mixed_linear_model.MixedLMResultsWrapper at 0x14a45b9fc490>"
      ]
     },
     "execution_count": 143,
     "metadata": {},
     "output_type": "execute_result"
    }
   ],
   "source": [
    "# division by grammaticality\n",
    "iv_list = ['grammaticality']\n",
    "mixed_effects_linear_regression(sentence_df, iv_list, 'embed_surprisal', 'adjunct islands embed: division by grammaticality')"
   ]
  },
  {
   "cell_type": "markdown",
   "id": "07e0db26",
   "metadata": {},
   "source": [
    "#### Complex NP Islands"
   ]
  },
  {
   "cell_type": "code",
   "execution_count": null,
   "id": "1f20e259",
   "metadata": {},
   "outputs": [],
   "source": [
    "sentence_df = pd.read_csv('test_sentences/Complex NP Islands.csv')"
   ]
  },
  {
   "cell_type": "code",
   "execution_count": null,
   "id": "afed9a1b",
   "metadata": {},
   "outputs": [],
   "source": [
    "sentence_df = encode_wh_licensor(sentence_df)\n",
    "sentence_df['gap_numeric'] = sentence_df['gap'].replace(0, -1)\n",
    "sentence_df['sentence'] = sentence_df.apply(merge_sentence, axis = 1)\n",
    "sentence_df['surprisals'] = sentence_df['sentence'].apply(calculate_surprisal)\n",
    "sentence_df['grammaticality'] = sentence_df.apply(assign_grammaticality, axis = 1)"
   ]
  },
  {
   "cell_type": "markdown",
   "id": "358387ce",
   "metadata": {},
   "source": [
    "Subject Condition"
   ]
  },
  {
   "cell_type": "code",
   "execution_count": null,
   "id": "5d27709c",
   "metadata": {},
   "outputs": [],
   "source": [
    "subject_df = sentence_df.copy()"
   ]
  },
  {
   "cell_type": "code",
   "execution_count": null,
   "id": "610beed3",
   "metadata": {},
   "outputs": [],
   "source": [
    "subject_df['region_surprisal'] = subject_df.apply(lambda x: sum_region_surprisal(x, ['subj_setup']), axis = 1)\n",
    "subject_df"
   ]
  },
  {
   "cell_type": "code",
   "execution_count": null,
   "id": "bbb79ffd",
   "metadata": {},
   "outputs": [],
   "source": [
    "# filter for subject condition\n",
    "subject_df = subject_df[subject_df['subj_obj'] == 'subject']"
   ]
  },
  {
   "cell_type": "code",
   "execution_count": null,
   "id": "f2fe73eb",
   "metadata": {},
   "outputs": [],
   "source": [
    "# flip test: gap-\n",
    "no_gap_df = subject_df[subject_df['gap_numeric'] == -1]\n",
    "iv_list = ['wh_numeric']\n",
    "mixed_effects_linear_regression(no_gap_df, iv_list, 'region_surprisal', 'complex np islands subject condition: gap-')"
   ]
  },
  {
   "cell_type": "code",
   "execution_count": null,
   "id": "291749b8",
   "metadata": {},
   "outputs": [],
   "source": [
    "# flip test: gap+\n",
    "gap_df = subject_df[subject_df['gap_numeric'] == 1]\n",
    "iv_list = ['wh_numeric']\n",
    "mixed_effects_linear_regression(gap_df, iv_list, 'region_surprisal', 'complex np islands subject condition: gap+')"
   ]
  },
  {
   "cell_type": "code",
   "execution_count": null,
   "id": "05f382a6",
   "metadata": {},
   "outputs": [],
   "source": [
    "# division by grammaticality\n",
    "iv_list = ['grammaticality']\n",
    "mixed_effects_linear_regression(subject_df, iv_list, 'region_surprisal', 'complex np islands subject condition: division by grammaticality')"
   ]
  },
  {
   "cell_type": "markdown",
   "id": "294132b0",
   "metadata": {},
   "source": [
    "Object Condition"
   ]
  },
  {
   "cell_type": "code",
   "execution_count": null,
   "id": "9574aa02",
   "metadata": {},
   "outputs": [],
   "source": [
    "object_df = sentence_df.copy()"
   ]
  },
  {
   "cell_type": "code",
   "execution_count": null,
   "id": "3fefbd08",
   "metadata": {},
   "outputs": [],
   "source": [
    "object_df['region_surprisal'] = object_df.apply(lambda x: sum_region_surprisal(x, ['end']), axis = 1)\n",
    "object_df"
   ]
  },
  {
   "cell_type": "code",
   "execution_count": null,
   "id": "096b2939",
   "metadata": {},
   "outputs": [],
   "source": [
    "# filter for object gap\n",
    "object_df = object_df[object_df['subj_obj'] == 'object']"
   ]
  },
  {
   "cell_type": "code",
   "execution_count": null,
   "id": "976c9e9c",
   "metadata": {},
   "outputs": [],
   "source": [
    "# flip test: gap-\n",
    "no_gap_df = object_df[object_df['gap_numeric'] == -1]\n",
    "iv_list = ['wh_numeric']\n",
    "mixed_effects_linear_regression(no_gap_df, iv_list, 'region_surprisal', 'complex np islands object condition: gap-')"
   ]
  },
  {
   "cell_type": "code",
   "execution_count": null,
   "id": "4f9931c4",
   "metadata": {},
   "outputs": [],
   "source": [
    "# flip test: gap+\n",
    "gap_df = object_df[object_df['gap_numeric'] == 1]\n",
    "iv_list = ['wh_numeric']\n",
    "mixed_effects_linear_regression(gap_df, iv_list, 'region_surprisal', 'complex np islands object condition: gap+')"
   ]
  },
  {
   "cell_type": "code",
   "execution_count": null,
   "id": "739a2118",
   "metadata": {},
   "outputs": [],
   "source": [
    "# division by grammaticality\n",
    "iv_list = ['grammaticality']\n",
    "mixed_effects_linear_regression(object_df, iv_list, 'region_surprisal', 'complex np islands object condition: division by grammaticality')"
   ]
  },
  {
   "cell_type": "markdown",
   "id": "07690342",
   "metadata": {},
   "source": [
    "Embedded Clause"
   ]
  },
  {
   "cell_type": "code",
   "execution_count": null,
   "id": "864c9ec4",
   "metadata": {},
   "outputs": [],
   "source": [
    "embed = ['subj', 'that_rc', 'what_rc', 'rc_np', 'prep', 'prep_np', 'subj_setup', 'obj_setup', 'end']\n",
    "sentence_df['embed_surprisal'] = sentence_df.apply(lambda x: sum_region_surprisal(x, embed, normalize = True), axis = 1)\n",
    "sentence_df"
   ]
  },
  {
   "cell_type": "markdown",
   "id": "364db12b",
   "metadata": {},
   "source": [
    "Embedded Clause - Subject Condition"
   ]
  },
  {
   "cell_type": "code",
   "execution_count": null,
   "id": "07f27b79",
   "metadata": {},
   "outputs": [],
   "source": [
    "# filter for subject condition\n",
    "subject_df = sentence_df[sentence_df['subj_obj'] == 'subject']"
   ]
  },
  {
   "cell_type": "code",
   "execution_count": null,
   "id": "4d0bed9e",
   "metadata": {},
   "outputs": [],
   "source": [
    "# flip test: gap-\n",
    "no_gap_df = subject_df[subject_df['gap_numeric'] == -1]\n",
    "iv_list = ['wh_numeric']\n",
    "mixed_effects_linear_regression(no_gap_df, iv_list, 'embed_surprisal', 'complex np islands subject condition: gap-')"
   ]
  },
  {
   "cell_type": "code",
   "execution_count": null,
   "id": "673a9a8e",
   "metadata": {},
   "outputs": [],
   "source": [
    "# flip test: gap+\n",
    "gap_df = subject_df[subject_df['gap_numeric'] == 1]\n",
    "iv_list = ['wh_numeric']\n",
    "mixed_effects_linear_regression(gap_df, iv_list, 'embed_surprisal', 'complex np islands subject condition: gap+')"
   ]
  },
  {
   "cell_type": "code",
   "execution_count": null,
   "id": "c9503001",
   "metadata": {},
   "outputs": [],
   "source": [
    "# division by grammaticality\n",
    "iv_list = ['grammaticality']\n",
    "mixed_effects_linear_regression(subject_df, iv_list, 'embed_surprisal', 'complex np islands subject condition: division by grammaticality')"
   ]
  },
  {
   "cell_type": "markdown",
   "id": "86916091",
   "metadata": {},
   "source": [
    "Embedded Clause - Object Condition"
   ]
  },
  {
   "cell_type": "code",
   "execution_count": null,
   "id": "419c08d7",
   "metadata": {},
   "outputs": [],
   "source": [
    "# filter for object gap\n",
    "object_df = sentence_df[sentence_df['subj_obj'] == 'object']"
   ]
  },
  {
   "cell_type": "code",
   "execution_count": null,
   "id": "4ba3d7d7",
   "metadata": {},
   "outputs": [],
   "source": [
    "# flip test: gap-\n",
    "no_gap_df = object_df[object_df['gap_numeric'] == -1]\n",
    "iv_list = ['wh_numeric']\n",
    "mixed_effects_linear_regression(no_gap_df, iv_list, 'embed_surprisal', 'complex np islands object condition: gap-')"
   ]
  },
  {
   "cell_type": "code",
   "execution_count": null,
   "id": "9de128f5",
   "metadata": {},
   "outputs": [],
   "source": [
    "# flip test: gap+\n",
    "gap_df = object_df[object_df['gap_numeric'] == 1]\n",
    "iv_list = ['wh_numeric']\n",
    "mixed_effects_linear_regression(gap_df, iv_list, 'embed_surprisal', 'complex np islands object condition: gap+')"
   ]
  },
  {
   "cell_type": "code",
   "execution_count": null,
   "id": "934138df",
   "metadata": {},
   "outputs": [],
   "source": [
    "# division by grammaticality\n",
    "iv_list = ['grammaticality']\n",
    "mixed_effects_linear_regression(object_df, iv_list, 'embed_surprisal', 'complex np islands object condition: division by grammaticality')"
   ]
  }
 ],
 "metadata": {
  "kernelspec": {
   "display_name": "Python 3 (ipykernel)",
   "language": "python",
   "name": "python3"
  },
  "language_info": {
   "codemirror_mode": {
    "name": "ipython",
    "version": 3
   },
   "file_extension": ".py",
   "mimetype": "text/x-python",
   "name": "python",
   "nbconvert_exporter": "python",
   "pygments_lexer": "ipython3",
   "version": "3.9.7"
  }
 },
 "nbformat": 4,
 "nbformat_minor": 5
}
