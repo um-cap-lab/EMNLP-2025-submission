{
 "cells": [
  {
   "cell_type": "code",
   "execution_count": 1,
   "id": "5468eb4b",
   "metadata": {},
   "outputs": [
    {
     "name": "stderr",
     "output_type": "stream",
     "text": [
      "/tmp/ipykernel_1821356/658913012.py:7: DeprecationWarning: \n",
      "Pyarrow will become a required dependency of pandas in the next major release of pandas (pandas 3.0),\n",
      "(to allow more performant data types, such as the Arrow string type, and better interoperability with other libraries)\n",
      "but was too old on your system - pyarrow 10.0.1 is the current minimum supported version as of this release.\n",
      "If this would cause problems for you,\n",
      "please provide us feedback at https://github.com/pandas-dev/pandas/issues/54466\n",
      "        \n",
      "  import pandas as pd\n"
     ]
    }
   ],
   "source": [
    "# Minicons Installation\n",
    "# Introduction can be found https://kanishka.xyz/post/minicons-running-large-scale-behavioral-analyses-on-transformer-lms/\n",
    "# Tutorial and code can be found https://github.com/kanishkamisra/minicons/blob/master/examples/surprisals.md\n",
    "#!pip install minicons\n",
    "\n",
    "from minicons import scorer\n",
    "import pandas as pd\n",
    "import numpy as np\n",
    "import json\n",
    "import csv\n",
    "import re\n",
    "import matplotlib.pyplot as plt\n",
    "import seaborn as sns\n",
    "import statsmodels.formula.api as smf\n",
    "import torch\n",
    "from torch.utils.data import DataLoader\n",
    "from transformers import GPT2LMHeadModel, GPT2TokenizerFast"
   ]
  },
  {
   "cell_type": "code",
   "execution_count": 2,
   "id": "96f0c8d4",
   "metadata": {},
   "outputs": [],
   "source": [
    "model_path = \"gpt2-small/checkpoint-trainedtokenizer_10M_whitespace\"\n",
    "#model_path = \"gpt2-small/checkpoint-trainedtokenizer_100M_whitespace\"\n",
    "#model_path = \"gpt3-small/checkpoint-trainedtokenizer_10M_whitespace\"\n",
    "#model_path = \"gpt3-small/checkpoint-trainedtokenizer_100M_whitespace\"\n",
    "\n",
    "model = GPT2LMHeadModel.from_pretrained(model_path)\n",
    "tokenizer = GPT2TokenizerFast.from_pretrained(model_path)\n",
    "\n",
    "# wrap with minicons scorer\n",
    "lm_scorer = scorer.IncrementalLMScorer(model_path, device = \"cpu\")"
   ]
  },
  {
   "cell_type": "code",
   "execution_count": 3,
   "id": "2f7fc01c",
   "metadata": {},
   "outputs": [
    {
     "data": {
      "text/plain": [
       "[('I', 0.0),\n",
       " ('know', 5.239012718200684),\n",
       " ('that', 3.954333782196045),\n",
       " ('your', 10.374737739562988),\n",
       " ('friend', 6.853007793426514),\n",
       " ('gave', 12.485967636108398),\n",
       " ('a', 4.920528888702393),\n",
       " ('baguette', 40.79525184631348),\n",
       " ('to', 8.777816772460938),\n",
       " ('Mary', 12.327611923217773),\n",
       " ('last', 11.225496292114258),\n",
       " ('weekend', 8.15101146697998),\n",
       " ('.', 10.069524765014648)]"
      ]
     },
     "execution_count": 3,
     "metadata": {},
     "output_type": "execute_result"
    }
   ],
   "source": [
    "def calculate_surprisal(sentence):\n",
    "    '''\n",
    "    Takes in a sentence, and outputs surprisal values for each word.\n",
    "    '''\n",
    "    \n",
    "    input_sentence = sentence\n",
    "    # token_score() function of Minicons takes in several parameters\n",
    "    # if surprisal = True, the output value is surprisal instead of log likelihood\n",
    "    # if base_two = True, the log likelihood will be in base 2\n",
    "    # see Minicons documentations for details\n",
    "    # score tokens\n",
    "    token_surprisals = lm_scorer.token_score(input_sentence, surprisal = True, base_two = True)[0]\n",
    "    #print(token_surprisals)\n",
    "\n",
    "    '''\n",
    "    # filter out special tokens (like <pad>)\n",
    "    special_tokens = set(tokenizer.all_special_tokens + ['<pad>'])\n",
    "    filtered = [\n",
    "        (token, score)\n",
    "        for (token, score) in token_surprisals\n",
    "        if token not in special_tokens\n",
    "    ]\n",
    "    '''\n",
    "\n",
    "   # expand tokens that contain multiple words\n",
    "    expanded = []\n",
    "    for token, score in token_surprisals:\n",
    "    #for token, score in filtered:\n",
    "        token = token.strip('Ġ') # remove space marker\n",
    "        if token.count('Ġ') > 0:\n",
    "            # multiple words inside\n",
    "            words = token.split('Ġ')\n",
    "            words = [word for word in words if word]  # remove empty strings\n",
    "            for i, word in enumerate(words):\n",
    "                expanded_token = word\n",
    "                expanded.append((expanded_token, score / len(words)))  # split surprisal equally\n",
    "        else:\n",
    "            expanded.append((token, score))    \n",
    "    #print(expanded)\n",
    "\n",
    "    # use regex to split into words and punctuation\n",
    "    words = re.findall(r'\\w+|[^\\w\\s]', sentence)\n",
    "    results = []\n",
    "\n",
    "    token_pointer = 0\n",
    "\n",
    "    for word in words:\n",
    "        accumulated = ''\n",
    "        word_surprisal = 0.0\n",
    "\n",
    "        while token_pointer < len(expanded):\n",
    "            token, surprisal = expanded[token_pointer]\n",
    "            accumulated += token\n",
    "            word_surprisal += surprisal\n",
    "            token_pointer += 1\n",
    "\n",
    "            if accumulated == word:\n",
    "                results.append((word, word_surprisal))\n",
    "                break\n",
    "        else:\n",
    "            results.append((word, word_surprisal))\n",
    "\n",
    "    return results\n",
    "\n",
    "\n",
    "sentence = 'I know that your friend gave a baguette to Mary last weekend.'\n",
    "calculate_surprisal(sentence)"
   ]
  },
  {
   "cell_type": "code",
   "execution_count": 4,
   "id": "8edb5f9b",
   "metadata": {},
   "outputs": [],
   "source": [
    "def calculate_sentence_surprisal(word_surprisals):\n",
    "    '''Returns total surprisal and average surprisal per word.'''\n",
    "    \n",
    "    scores = [score for word, score in word_surprisals]\n",
    "    total = sum(scores)\n",
    "    avg = total / len(scores)\n",
    "    return total, avg\n",
    "\n",
    "\"\"\"\n",
    "def sum_region_surprisal(row, region_list):\n",
    "    '''Sums surprisals of a specified sentence region, extracting the relevant part from sentence_surprisals using index information.'''\n",
    "\n",
    "    sentence_surprisals = row['surprisals']\n",
    "    \n",
    "    # retrieve all sentence column(from 'prefix' till 'end')\n",
    "    all_columns = row.index.tolist()  # get the list of column names\n",
    "    prefix_index = all_columns.index('prefix')\n",
    "    eos_index = all_columns.index('end')\n",
    "    \n",
    "    # reconstruct the full sentence from 'prefix' to 'end' (exclude NaN values)\n",
    "    full_sentence = ' '.join([str(row[col]) if pd.notna(row.get(col)) else '' for col in all_columns[prefix_index:eos_index + 1]])\n",
    "    \n",
    "    # use regex to split the full sentence into words & punctuation\n",
    "    sentence_units = re.findall(r'\\w+|[^\\w\\s]', full_sentence)\n",
    "    \n",
    "    # get the start and end indices for the region_list within the full sentence\n",
    "    first_region_column = region_list[0]\n",
    "    first_region_start_index = all_columns.index(first_region_column)\n",
    "    \n",
    "    last_region_column = region_list[-1]\n",
    "    last_region_end_index = all_columns.index(last_region_column)\n",
    "    \n",
    "    # extract the relevant slice of sentence_surprisals that corresponds to the region_list\n",
    "    # calculate the starting and ending index for the region_list part\n",
    "    start_index = sum([\n",
    "        len(re.findall(r'\\w+|[^\\w\\s]', str(row[col]))) for col in all_columns[prefix_index:first_region_start_index]\n",
    "        if pd.notna(row[col]) \n",
    "    ])\n",
    "    end_index = sum([\n",
    "        len(re.findall(r'\\w+|[^\\w\\s]', str(row[col]))) for col in all_columns[prefix_index:last_region_end_index + 1]\n",
    "        if pd.notna(row[col]) \n",
    "    ])\n",
    "\n",
    "    # extract the slice of sentence_surprisals corresponding to the region_list part\n",
    "    relevant_surprisals = sentence_surprisals[start_index:end_index]\n",
    "    region_surprisal = sum([score for token, score in relevant_surprisals])\n",
    "    \n",
    "    return region_surprisal\n",
    "\"\"\"\n",
    "\n",
    "def sum_region_surprisal(row, region_list, priority_region = None, normalize = False):\n",
    "    '''Sums surprisals of a specified sentence region with optional priority region handling.'''\n",
    "\n",
    "    sentence_surprisals = row['surprisals']\n",
    "    \n",
    "    # retrieve all sentence column(from 'prefix' till 'end')\n",
    "    all_columns = row.index.tolist()  # get the list of column names\n",
    "    prefix_index = all_columns.index('prefix')\n",
    "    eos_index = all_columns.index('end')\n",
    "    \n",
    "    # reconstruct the full sentence from 'prefix' to 'end' (exclude NaN values)\n",
    "    full_sentence = ' '.join([str(row[col]) if pd.notna(row.get(col)) else '' for col in all_columns[prefix_index:eos_index + 1]])\n",
    "    \n",
    "    # use regex to split the full sentence into words & punctuation\n",
    "    sentence_units = re.findall(r'\\w+|[^\\w\\s]', full_sentence)\n",
    "    \n",
    "    if priority_region:\n",
    "        # check if priority_region has non-zero surprisal\n",
    "        if pd.notna(row[priority_region]):\n",
    "            # extract text for the priority_region\n",
    "            priority_region_index = all_columns.index(priority_region)\n",
    "            \n",
    "            start_index = sum([\n",
    "                len(re.findall(r'\\w+|[^\\w\\s]', str(row[col]))) for col in all_columns[prefix_index:priority_region_index]\n",
    "                if pd.notna(row[col]) \n",
    "            ])\n",
    "            end_index = sum([\n",
    "                len(re.findall(r'\\w+|[^\\w\\s]', str(row[col]))) for col in all_columns[prefix_index:priority_region_index + 1]\n",
    "                if pd.notna(row[col]) \n",
    "            ])\n",
    "            \n",
    "            # calculate the surprisal for the priority region\n",
    "            relevant_surprisals = sentence_surprisals[start_index:end_index]\n",
    "            priority_surprisal = sum([score for token, score in relevant_surprisals])\n",
    "    \n",
    "            # return priority region's surprisal score if it is non-zero\n",
    "            if priority_surprisal != 0:\n",
    "                return priority_surprisal\n",
    "    \n",
    "    # if priority region is not provided or its surprisal is zero, calculate sum of region_list surprisals\n",
    "\n",
    "    # get the start and end indices for the region_list within the full sentence\n",
    "    first_region_column = region_list[0]\n",
    "    first_region_start_index = all_columns.index(first_region_column)\n",
    "    \n",
    "    last_region_column = region_list[-1]\n",
    "    last_region_end_index = all_columns.index(last_region_column)\n",
    "    \n",
    "    # extract the relevant slice of sentence_surprisals that corresponds to the region_list\n",
    "    # calculate the starting and ending index for the region_list part\n",
    "    start_index = sum([\n",
    "        len(re.findall(r'\\w+|[^\\w\\s]', str(row[col]))) for col in all_columns[prefix_index:first_region_start_index]\n",
    "        if pd.notna(row[col]) \n",
    "    ])\n",
    "    end_index = sum([\n",
    "        len(re.findall(r'\\w+|[^\\w\\s]', str(row[col]))) for col in all_columns[prefix_index:last_region_end_index + 1]\n",
    "        if pd.notna(row[col]) \n",
    "    ])\n",
    "\n",
    "    # extract the slice of sentence_surprisals corresponding to the region_list part\n",
    "    relevant_surprisals = sentence_surprisals[start_index:end_index]\n",
    "    region_surprisal = sum([score for token, score in relevant_surprisals])\n",
    "    \n",
    "    if normalize == False:\n",
    "        return region_surprisal\n",
    "    elif normalize == True:\n",
    "        return region_surprisal / len(sentence_units)"
   ]
  },
  {
   "cell_type": "code",
   "execution_count": 5,
   "id": "4e2f50f3",
   "metadata": {},
   "outputs": [],
   "source": [
    "def split_ends(ends):\n",
    "    '''Splits off sentence-final punctuation.'''\n",
    "    \n",
    "    match = re.match(r'^(.*?)([.!?])$', ends.strip())\n",
    "    if match:\n",
    "        return pd.Series([match.group(1), match.group(2)])\n",
    "    else:\n",
    "        return pd.Series([ends, ''])  # no end punctuation\n",
    "    \n",
    "def encode_wh_licensor(df):\n",
    "    '''\n",
    "    Adds a numeric column to the DataFrame:\n",
    "    - 1 if licensor is a wh-licensor\n",
    "    - -1 otherwise (licensor is \"that\" or absent)\n",
    "    '''\n",
    "    df['wh_numeric'] = df['filler'].apply(lambda x: 1 if x > 0 else -1)\n",
    "    return df\n",
    "    \n",
    "def merge_sentence(row, syntactic_parts):\n",
    "    '''Merges sentence columns back into full sentence.'''\n",
    "    \n",
    "    parts = [row[part] for part in syntactic_parts]         \n",
    "    # filter out NaN or empty parts\n",
    "    non_empty_parts = [str(part).strip() for part in parts if pd.notna(part) and str(part).strip() != '']\n",
    "    # join with spaces and add end punctuation\n",
    "    sentence = ' '.join(non_empty_parts) + (row['end'] if pd.notna(row['end']) else '')\n",
    "    return sentence\n",
    "\n",
    "def assign_grammaticality(row):\n",
    "    ''' Determines grammaticality based on licensor and gap values.'''\n",
    "    if row['filler'] > 0 and row['gap'] == 1:\n",
    "        return 'gram+'\n",
    "        #return 1\n",
    "    elif row['filler'] == 0 and row['gap'] == 0:\n",
    "        return 'gram+'\n",
    "        #return 1\n",
    "    elif row['filler'] > 0 and row['gap'] == 0:\n",
    "        return 'gram-'\n",
    "        #return 0\n",
    "    elif row['filler'] == 0 and row['gap'] == 1:\n",
    "        return 'gram-'\n",
    "        #return 0"
   ]
  },
  {
   "cell_type": "markdown",
   "id": "23b98dd7",
   "metadata": {},
   "source": [
    "#### Statistical Analysis: Mixed-Effects Linear Regression Model"
   ]
  },
  {
   "cell_type": "code",
   "execution_count": 6,
   "id": "94c04c24",
   "metadata": {},
   "outputs": [],
   "source": [
    "from IPython.display import display\n",
    "import warnings\n",
    "from statsmodels.tools.sm_exceptions import ConvergenceWarning\n",
    "\n",
    "def print_summary(result):\n",
    "    '''\n",
    "    Prints the descriptive header from a statsmodels MixedLMResults summary,\n",
    "    and displays both the fixed-effects and random-effects components as pandas DataFrames.\n",
    "    '''\n",
    "    with warnings.catch_warnings():\n",
    "        warnings.simplefilter(\"ignore\", ConvergenceWarning)\n",
    "        \n",
    "        summary_str = str(result.summary())\n",
    "        lines = summary_str.split('\\n')\n",
    "\n",
    "        # PART 1: HEADER\n",
    "        print(\"\\n=== MODEL SUMMARY ===\")\n",
    "        for line in lines:\n",
    "            if 'Coef.' in line:\n",
    "                break  # stop when reaching the coefficient table\n",
    "            pairs = re.findall(r'(\\S[^:]*):\\s+([^\\s][^:]*?)(?=\\s{2,}|$)', line)\n",
    "            for key, value in pairs:\n",
    "                print(f\"{key.strip()}: {value.strip()}\")\n",
    "\n",
    "        # PART 2a: FIXED EFFECTS TABLE\n",
    "        fixed_table = []\n",
    "        in_fixed_table = False\n",
    "        random_start_idx = None\n",
    "\n",
    "        for i, line in enumerate(lines):\n",
    "            if 'Coef.' in line:\n",
    "                in_fixed_table = True\n",
    "                continue\n",
    "            if in_fixed_table:\n",
    "                if not line.strip() or set(line.strip()) in [{'='}, {'-'}]:\n",
    "                    continue  # skip empty/separator lines\n",
    "                parts = line.strip().split()\n",
    "                if len(parts) >= 7:\n",
    "                    param = parts[0]\n",
    "                    row = parts[1:7]\n",
    "                    fixed_table.append([param] + row)\n",
    "                else:\n",
    "                    random_start_idx = i\n",
    "                    break\n",
    "\n",
    "        if fixed_table:\n",
    "            df_fixed = pd.DataFrame(fixed_table, columns = [\n",
    "                'Parameter', 'Coef.', 'Std.Err.', 'z', 'P>|z|', '[0.025', '0.975]'\n",
    "            ])\n",
    "            print(\"\\n=== FIXED EFFECTS COEFFICIENTS ===\")\n",
    "            display(df_fixed)\n",
    "        else:\n",
    "            print(\"\\nNo fixed-effects data found.\")\n",
    "\n",
    "        # PART 2b: RANDOM EFFECTS / VARIANCE COMPONENTS TABLE\n",
    "        random_table = []\n",
    "        if random_start_idx:\n",
    "            for line in lines[random_start_idx:]:\n",
    "                if not line.strip() or set(line.strip()) in [{'='}, {'-'}]:\n",
    "                    continue\n",
    "                parts = line.strip().split()\n",
    "                # Look for last token ending in Var or Cov\n",
    "                varcov_idx = None\n",
    "                for j in reversed(range(len(parts))):\n",
    "                    if parts[j].endswith('Var') or parts[j].endswith('Cov'):\n",
    "                        varcov_idx = j\n",
    "                        break\n",
    "                if varcov_idx is not None:\n",
    "                    param = ' '.join(parts[:varcov_idx + 1])\n",
    "                    numeric_parts = parts[varcov_idx + 1:]\n",
    "                    if len(numeric_parts) == 2:\n",
    "                        val1, val2 = numeric_parts\n",
    "                    elif len(numeric_parts) == 1:\n",
    "                        val1, val2 = numeric_parts[0], ''\n",
    "                    else:\n",
    "                        val1, val2 = '', ''\n",
    "                    random_table.append([param, val1, val2])\n",
    "\n",
    "        if random_table:\n",
    "            df_random = pd.DataFrame(random_table, columns = ['Parameter', 'Coef.', 'Std.Err.'])\n",
    "            print(\"\\n=== RANDOM EFFECTS / VARIANCE-COVARIANCE ===\")\n",
    "            display(df_random)\n",
    "        else:\n",
    "            print(\"\\nNo random-effects data found.\")\n"
   ]
  },
  {
   "cell_type": "code",
   "execution_count": 7,
   "id": "3ddfdf0b",
   "metadata": {},
   "outputs": [],
   "source": [
    "# columns: item_id (indicates sentence set), wh_licensor (0/1), gap (0/1), island_type, surprisal\n",
    "\n",
    "warnings.simplefilter(\"ignore\", ConvergenceWarning)\n",
    "\n",
    "def mixed_effects_linear_regression(df, iv_list, surprisal, label):\n",
    "    '''\n",
    "    Fits mixed-effects model and extracts wh-licensing interaction.\n",
    "    '''\n",
    "        \n",
    "    for field in iv_list:\n",
    "        if field == 'wh_numeric' or 'gap_numeric' or 'gap_distance_length':\n",
    "            pass\n",
    "        else:\n",
    "            df[field] = df[field].astype('category')\n",
    "\n",
    "    interaction_terms = ' * '.join(iv_list)\n",
    "    random_effects = ' + '.join(iv_list)\n",
    "\n",
    "    model = smf.mixedlm(\n",
    "        f\"{surprisal} ~ {interaction_terms}\",\n",
    "        df,\n",
    "        groups = df[\"item_id\"],\n",
    "        #re_formula = f\"~{random_effects}\"\n",
    "        re_formula = \"1\"\n",
    "        )\n",
    "\n",
    "    result = model.fit()\n",
    "    #interaction_coef = result.params.get('wh_licensor[T.1]:gap[T.1]', None)\n",
    "\n",
    "    print(f\"\\n=== {label.upper()} ===\")\n",
    "    #print(result.summary())\n",
    "    print_summary(result)\n",
    "\n",
    "    return result\n",
    "\n",
    "#interaction = mixed_effects_linear_regression(df, \"construction_type\") # label name to be changed according to construction type"
   ]
  },
  {
   "cell_type": "markdown",
   "id": "8fee4669",
   "metadata": {},
   "source": [
    "#### Gap Distance - Categorical/Continuous"
   ]
  },
  {
   "cell_type": "code",
   "execution_count": 8,
   "id": "92540bbb",
   "metadata": {},
   "outputs": [],
   "source": [
    "sentence_df = pd.read_csv('test_sentences/Gap Distance.csv')\n",
    "sentence_df['gap_distance'] = sentence_df['gap_distance'].fillna('null')\n",
    "#sentence_df['gap_distance'].dropna(inplace = True)\n",
    "#sentence_df = sentence_df[sentence_df['gap_distance'].replace(['nan', 'NaN'], np.nan).notna()]"
   ]
  },
  {
   "cell_type": "code",
   "execution_count": 9,
   "id": "c191e58e",
   "metadata": {},
   "outputs": [],
   "source": [
    "sentence_df[['temp_mod', 'end']] = sentence_df['temp_mod'].apply(split_ends)\n",
    "sentence_df = encode_wh_licensor(sentence_df)\n",
    "sentence_df['gap_numeric'] = sentence_df['gap'].replace(0, -1)\n",
    "syntactic_parts = ['prefix', 'licensor', 'subj', 'modifier', 'verb', 'object', 'prep', 'goal', 'temp_mod']\n",
    "sentence_df['sentence'] = sentence_df.apply(lambda x: merge_sentence(x, syntactic_parts), axis = 1)\n",
    "sentence_df['surprisals'] = sentence_df['sentence'].apply(calculate_surprisal)\n",
    "sentence_df['gap_distance_length'] = sentence_df['modifier'].apply(lambda x: len(x) if pd.notna(x) else 0)\n",
    "sentence_df['grammaticality'] = sentence_df.apply(assign_grammaticality, axis = 1)"
   ]
  },
  {
   "cell_type": "markdown",
   "id": "0e7be216",
   "metadata": {},
   "source": [
    "Gap Position == Object"
   ]
  },
  {
   "cell_type": "code",
   "execution_count": 10,
   "id": "c73282f4",
   "metadata": {},
   "outputs": [],
   "source": [
    "# modifier: short_mod, med_mod, long_mod"
   ]
  },
  {
   "cell_type": "code",
   "execution_count": 11,
   "id": "ea6dce35",
   "metadata": {},
   "outputs": [],
   "source": [
    "object_df = sentence_df.copy()\n",
    "#object_df['region_surprisal'] = object_df.apply(lambda x: sum_region_surprisal(x, ['prep', 'goal']), axis = 1)\n",
    "object_df['region_surprisal'] = object_df.apply(lambda x: sum_region_surprisal(x, ['prep', 'goal'], 'object'), axis = 1)\n",
    "\n",
    "# filter for object gap\n",
    "objectgap_df = object_df[object_df['gap_position'] == 'DO']"
   ]
  },
  {
   "cell_type": "code",
   "execution_count": 12,
   "id": "ee659db0",
   "metadata": {},
   "outputs": [
    {
     "name": "stdout",
     "output_type": "stream",
     "text": [
      "\n",
      "=== OBJECT GAP POSITION: GAP- ===\n",
      "\n",
      "=== MODEL SUMMARY ===\n",
      ":            MixedLM Dependent Variable: region_surprisal\n",
      "No. Observations: 160\n",
      "Method: REML\n",
      "No. Groups: 20\n",
      "Scale: 1.3652\n",
      "Min. group size: 8\n",
      "Log-Likelihood: -307.7916\n",
      "Max. group size: 8\n",
      "Converged: Yes\n",
      "Mean group size: 8.0\n",
      "\n",
      "=== FIXED EFFECTS COEFFICIENTS ===\n"
     ]
    },
    {
     "data": {
      "text/html": [
       "<div>\n",
       "<style scoped>\n",
       "    .dataframe tbody tr th:only-of-type {\n",
       "        vertical-align: middle;\n",
       "    }\n",
       "\n",
       "    .dataframe tbody tr th {\n",
       "        vertical-align: top;\n",
       "    }\n",
       "\n",
       "    .dataframe thead th {\n",
       "        text-align: right;\n",
       "    }\n",
       "</style>\n",
       "<table border=\"1\" class=\"dataframe\">\n",
       "  <thead>\n",
       "    <tr style=\"text-align: right;\">\n",
       "      <th></th>\n",
       "      <th>Parameter</th>\n",
       "      <th>Coef.</th>\n",
       "      <th>Std.Err.</th>\n",
       "      <th>z</th>\n",
       "      <th>P&gt;|z|</th>\n",
       "      <th>[0.025</th>\n",
       "      <th>0.975]</th>\n",
       "    </tr>\n",
       "  </thead>\n",
       "  <tbody>\n",
       "    <tr>\n",
       "      <th>0</th>\n",
       "      <td>Intercept</td>\n",
       "      <td>33.173</td>\n",
       "      <td>1.579</td>\n",
       "      <td>21.015</td>\n",
       "      <td>0.000</td>\n",
       "      <td>30.079</td>\n",
       "      <td>36.267</td>\n",
       "    </tr>\n",
       "    <tr>\n",
       "      <th>1</th>\n",
       "      <td>wh_numeric</td>\n",
       "      <td>0.110</td>\n",
       "      <td>0.092</td>\n",
       "      <td>1.191</td>\n",
       "      <td>0.234</td>\n",
       "      <td>-0.071</td>\n",
       "      <td>0.291</td>\n",
       "    </tr>\n",
       "  </tbody>\n",
       "</table>\n",
       "</div>"
      ],
      "text/plain": [
       "    Parameter   Coef. Std.Err.       z  P>|z|  [0.025  0.975]\n",
       "0   Intercept  33.173    1.579  21.015  0.000  30.079  36.267\n",
       "1  wh_numeric   0.110    0.092   1.191  0.234  -0.071   0.291"
      ]
     },
     "metadata": {},
     "output_type": "display_data"
    },
    {
     "name": "stdout",
     "output_type": "stream",
     "text": [
      "\n",
      "=== RANDOM EFFECTS / VARIANCE-COVARIANCE ===\n"
     ]
    },
    {
     "data": {
      "text/html": [
       "<div>\n",
       "<style scoped>\n",
       "    .dataframe tbody tr th:only-of-type {\n",
       "        vertical-align: middle;\n",
       "    }\n",
       "\n",
       "    .dataframe tbody tr th {\n",
       "        vertical-align: top;\n",
       "    }\n",
       "\n",
       "    .dataframe thead th {\n",
       "        text-align: right;\n",
       "    }\n",
       "</style>\n",
       "<table border=\"1\" class=\"dataframe\">\n",
       "  <thead>\n",
       "    <tr style=\"text-align: right;\">\n",
       "      <th></th>\n",
       "      <th>Parameter</th>\n",
       "      <th>Coef.</th>\n",
       "      <th>Std.Err.</th>\n",
       "    </tr>\n",
       "  </thead>\n",
       "  <tbody>\n",
       "    <tr>\n",
       "      <th>0</th>\n",
       "      <td>Group Var</td>\n",
       "      <td>49.667</td>\n",
       "      <td>14.747</td>\n",
       "    </tr>\n",
       "  </tbody>\n",
       "</table>\n",
       "</div>"
      ],
      "text/plain": [
       "   Parameter   Coef. Std.Err.\n",
       "0  Group Var  49.667   14.747"
      ]
     },
     "metadata": {},
     "output_type": "display_data"
    },
    {
     "data": {
      "text/plain": [
       "<statsmodels.regression.mixed_linear_model.MixedLMResultsWrapper at 0x15382e55b070>"
      ]
     },
     "execution_count": 12,
     "metadata": {},
     "output_type": "execute_result"
    }
   ],
   "source": [
    "# flip test: gap-\n",
    "no_gap_df = objectgap_df[objectgap_df['gap_numeric'] == -1]\n",
    "iv_list = ['wh_numeric']\n",
    "mixed_effects_linear_regression(no_gap_df, iv_list, 'region_surprisal', 'object gap position: gap-')"
   ]
  },
  {
   "cell_type": "code",
   "execution_count": 13,
   "id": "8950619d",
   "metadata": {},
   "outputs": [
    {
     "name": "stdout",
     "output_type": "stream",
     "text": [
      "\n",
      "=== OBJECT GAP POSITION: GAP+ ===\n",
      "\n",
      "=== MODEL SUMMARY ===\n",
      ":            MixedLM Dependent Variable: region_surprisal\n",
      "No. Observations: 160\n",
      "Method: REML\n",
      "No. Groups: 20\n",
      "Scale: 1.5233\n",
      "Min. group size: 8\n",
      "Log-Likelihood: -319.2730\n",
      "Max. group size: 8\n",
      "Converged: Yes\n",
      "Mean group size: 8.0\n",
      "\n",
      "=== FIXED EFFECTS COEFFICIENTS ===\n"
     ]
    },
    {
     "data": {
      "text/html": [
       "<div>\n",
       "<style scoped>\n",
       "    .dataframe tbody tr th:only-of-type {\n",
       "        vertical-align: middle;\n",
       "    }\n",
       "\n",
       "    .dataframe tbody tr th {\n",
       "        vertical-align: top;\n",
       "    }\n",
       "\n",
       "    .dataframe thead th {\n",
       "        text-align: right;\n",
       "    }\n",
       "</style>\n",
       "<table border=\"1\" class=\"dataframe\">\n",
       "  <thead>\n",
       "    <tr style=\"text-align: right;\">\n",
       "      <th></th>\n",
       "      <th>Parameter</th>\n",
       "      <th>Coef.</th>\n",
       "      <th>Std.Err.</th>\n",
       "      <th>z</th>\n",
       "      <th>P&gt;|z|</th>\n",
       "      <th>[0.025</th>\n",
       "      <th>0.975]</th>\n",
       "    </tr>\n",
       "  </thead>\n",
       "  <tbody>\n",
       "    <tr>\n",
       "      <th>0</th>\n",
       "      <td>Intercept</td>\n",
       "      <td>29.858</td>\n",
       "      <td>1.935</td>\n",
       "      <td>15.434</td>\n",
       "      <td>0.000</td>\n",
       "      <td>26.067</td>\n",
       "      <td>33.650</td>\n",
       "    </tr>\n",
       "    <tr>\n",
       "      <th>1</th>\n",
       "      <td>wh_numeric</td>\n",
       "      <td>0.056</td>\n",
       "      <td>0.098</td>\n",
       "      <td>0.572</td>\n",
       "      <td>0.567</td>\n",
       "      <td>-0.135</td>\n",
       "      <td>0.247</td>\n",
       "    </tr>\n",
       "  </tbody>\n",
       "</table>\n",
       "</div>"
      ],
      "text/plain": [
       "    Parameter   Coef. Std.Err.       z  P>|z|  [0.025  0.975]\n",
       "0   Intercept  29.858    1.935  15.434  0.000  26.067  33.650\n",
       "1  wh_numeric   0.056    0.098   0.572  0.567  -0.135   0.247"
      ]
     },
     "metadata": {},
     "output_type": "display_data"
    },
    {
     "name": "stdout",
     "output_type": "stream",
     "text": [
      "\n",
      "=== RANDOM EFFECTS / VARIANCE-COVARIANCE ===\n"
     ]
    },
    {
     "data": {
      "text/html": [
       "<div>\n",
       "<style scoped>\n",
       "    .dataframe tbody tr th:only-of-type {\n",
       "        vertical-align: middle;\n",
       "    }\n",
       "\n",
       "    .dataframe tbody tr th {\n",
       "        vertical-align: top;\n",
       "    }\n",
       "\n",
       "    .dataframe thead th {\n",
       "        text-align: right;\n",
       "    }\n",
       "</style>\n",
       "<table border=\"1\" class=\"dataframe\">\n",
       "  <thead>\n",
       "    <tr style=\"text-align: right;\">\n",
       "      <th></th>\n",
       "      <th>Parameter</th>\n",
       "      <th>Coef.</th>\n",
       "      <th>Std.Err.</th>\n",
       "    </tr>\n",
       "  </thead>\n",
       "  <tbody>\n",
       "    <tr>\n",
       "      <th>0</th>\n",
       "      <td>Group Var</td>\n",
       "      <td>74.662</td>\n",
       "      <td>20.978</td>\n",
       "    </tr>\n",
       "  </tbody>\n",
       "</table>\n",
       "</div>"
      ],
      "text/plain": [
       "   Parameter   Coef. Std.Err.\n",
       "0  Group Var  74.662   20.978"
      ]
     },
     "metadata": {},
     "output_type": "display_data"
    },
    {
     "data": {
      "text/plain": [
       "<statsmodels.regression.mixed_linear_model.MixedLMResultsWrapper at 0x15382eae9a30>"
      ]
     },
     "execution_count": 13,
     "metadata": {},
     "output_type": "execute_result"
    }
   ],
   "source": [
    "# flip test: gap+\n",
    "gap_df = objectgap_df[objectgap_df['gap_numeric'] == 1]\n",
    "iv_list = ['wh_numeric']\n",
    "mixed_effects_linear_regression(gap_df, iv_list, 'region_surprisal', 'object gap position: gap+')"
   ]
  },
  {
   "cell_type": "code",
   "execution_count": 14,
   "id": "e52937a2",
   "metadata": {},
   "outputs": [
    {
     "name": "stdout",
     "output_type": "stream",
     "text": [
      "\n",
      "=== OBJECT GAP POSITION: DIVISION BY GRAMMATICALITY ===\n",
      "\n",
      "=== MODEL SUMMARY ===\n",
      "Model: MixedLM\n",
      "Dependent Variable: region_surprisal\n",
      "No. Observations: 320\n",
      "Method: REML\n",
      "No. Groups: 20\n",
      "Scale: 38.5686\n",
      "Min. group size: 16\n",
      "Log-Likelihood: -1060.5478\n",
      "Max. group size: 16\n",
      "Converged: Yes\n",
      "Mean group size: 16.0\n",
      "\n",
      "=== FIXED EFFECTS COEFFICIENTS ===\n"
     ]
    },
    {
     "data": {
      "text/html": [
       "<div>\n",
       "<style scoped>\n",
       "    .dataframe tbody tr th:only-of-type {\n",
       "        vertical-align: middle;\n",
       "    }\n",
       "\n",
       "    .dataframe tbody tr th {\n",
       "        vertical-align: top;\n",
       "    }\n",
       "\n",
       "    .dataframe thead th {\n",
       "        text-align: right;\n",
       "    }\n",
       "</style>\n",
       "<table border=\"1\" class=\"dataframe\">\n",
       "  <thead>\n",
       "    <tr style=\"text-align: right;\">\n",
       "      <th></th>\n",
       "      <th>Parameter</th>\n",
       "      <th>Coef.</th>\n",
       "      <th>Std.Err.</th>\n",
       "      <th>z</th>\n",
       "      <th>P&gt;|z|</th>\n",
       "      <th>[0.025</th>\n",
       "      <th>0.975]</th>\n",
       "    </tr>\n",
       "  </thead>\n",
       "  <tbody>\n",
       "    <tr>\n",
       "      <th>0</th>\n",
       "      <td>Intercept</td>\n",
       "      <td>31.489</td>\n",
       "      <td>1.246</td>\n",
       "      <td>25.271</td>\n",
       "      <td>0.000</td>\n",
       "      <td>29.047</td>\n",
       "      <td>33.931</td>\n",
       "    </tr>\n",
       "    <tr>\n",
       "      <th>1</th>\n",
       "      <td>grammaticality[T.gram-]</td>\n",
       "      <td>0.054</td>\n",
       "      <td>0.694</td>\n",
       "      <td>0.078</td>\n",
       "      <td>0.938</td>\n",
       "      <td>-1.307</td>\n",
       "      <td>1.415</td>\n",
       "    </tr>\n",
       "  </tbody>\n",
       "</table>\n",
       "</div>"
      ],
      "text/plain": [
       "                 Parameter   Coef. Std.Err.       z  P>|z|  [0.025  0.975]\n",
       "0                Intercept  31.489    1.246  25.271  0.000  29.047  33.931\n",
       "1  grammaticality[T.gram-]   0.054    0.694   0.078  0.938  -1.307   1.415"
      ]
     },
     "metadata": {},
     "output_type": "display_data"
    },
    {
     "name": "stdout",
     "output_type": "stream",
     "text": [
      "\n",
      "=== RANDOM EFFECTS / VARIANCE-COVARIANCE ===\n"
     ]
    },
    {
     "data": {
      "text/html": [
       "<div>\n",
       "<style scoped>\n",
       "    .dataframe tbody tr th:only-of-type {\n",
       "        vertical-align: middle;\n",
       "    }\n",
       "\n",
       "    .dataframe tbody tr th {\n",
       "        vertical-align: top;\n",
       "    }\n",
       "\n",
       "    .dataframe thead th {\n",
       "        text-align: right;\n",
       "    }\n",
       "</style>\n",
       "<table border=\"1\" class=\"dataframe\">\n",
       "  <thead>\n",
       "    <tr style=\"text-align: right;\">\n",
       "      <th></th>\n",
       "      <th>Parameter</th>\n",
       "      <th>Coef.</th>\n",
       "      <th>Std.Err.</th>\n",
       "    </tr>\n",
       "  </thead>\n",
       "  <tbody>\n",
       "    <tr>\n",
       "      <th>0</th>\n",
       "      <td>Group Var</td>\n",
       "      <td>26.230</td>\n",
       "      <td>1.543</td>\n",
       "    </tr>\n",
       "  </tbody>\n",
       "</table>\n",
       "</div>"
      ],
      "text/plain": [
       "   Parameter   Coef. Std.Err.\n",
       "0  Group Var  26.230    1.543"
      ]
     },
     "metadata": {},
     "output_type": "display_data"
    },
    {
     "data": {
      "text/plain": [
       "<statsmodels.regression.mixed_linear_model.MixedLMResultsWrapper at 0x15382eae9580>"
      ]
     },
     "execution_count": 14,
     "metadata": {},
     "output_type": "execute_result"
    }
   ],
   "source": [
    "# division by grammaticality\n",
    "iv_list = ['grammaticality']\n",
    "mixed_effects_linear_regression(objectgap_df, iv_list, 'region_surprisal', 'object gap position: division by grammaticality')"
   ]
  },
  {
   "cell_type": "markdown",
   "id": "88662ed9",
   "metadata": {},
   "source": [
    "Gap Postion == PP/Goal"
   ]
  },
  {
   "cell_type": "code",
   "execution_count": 15,
   "id": "3b6ef5a7",
   "metadata": {},
   "outputs": [],
   "source": [
    "pp_df = sentence_df.copy()\n",
    "#pp_df['region_surprisal'] = pp_df.apply(lambda x: sum_region_surprisal(x, ['temp_mod']), axis = 1)\n",
    "pp_df['region_surprisal'] = pp_df.apply(lambda x: sum_region_surprisal(x, ['temp_mod'], 'goal'), axis = 1)\n",
    "\n",
    "# filter for PP gap\n",
    "ppgap_df = pp_df[pp_df['gap_position'] == 'IO']"
   ]
  },
  {
   "cell_type": "code",
   "execution_count": 16,
   "id": "f2fe97f4",
   "metadata": {},
   "outputs": [
    {
     "name": "stdout",
     "output_type": "stream",
     "text": [
      "\n",
      "=== PP GAP POSITION: GAP- ===\n",
      "\n",
      "=== MODEL SUMMARY ===\n",
      ":            MixedLM Dependent Variable: region_surprisal\n",
      "No. Observations: 160\n",
      "Method: REML\n",
      "No. Groups: 20\n",
      "Scale: 0.4557\n",
      "Min. group size: 8\n",
      "Log-Likelihood: -235.3753\n",
      "Max. group size: 8\n",
      "Converged: Yes\n",
      "Mean group size: 8.0\n",
      "\n",
      "=== FIXED EFFECTS COEFFICIENTS ===\n"
     ]
    },
    {
     "data": {
      "text/html": [
       "<div>\n",
       "<style scoped>\n",
       "    .dataframe tbody tr th:only-of-type {\n",
       "        vertical-align: middle;\n",
       "    }\n",
       "\n",
       "    .dataframe tbody tr th {\n",
       "        vertical-align: top;\n",
       "    }\n",
       "\n",
       "    .dataframe thead th {\n",
       "        text-align: right;\n",
       "    }\n",
       "</style>\n",
       "<table border=\"1\" class=\"dataframe\">\n",
       "  <thead>\n",
       "    <tr style=\"text-align: right;\">\n",
       "      <th></th>\n",
       "      <th>Parameter</th>\n",
       "      <th>Coef.</th>\n",
       "      <th>Std.Err.</th>\n",
       "      <th>z</th>\n",
       "      <th>P&gt;|z|</th>\n",
       "      <th>[0.025</th>\n",
       "      <th>0.975]</th>\n",
       "    </tr>\n",
       "  </thead>\n",
       "  <tbody>\n",
       "    <tr>\n",
       "      <th>0</th>\n",
       "      <td>Intercept</td>\n",
       "      <td>23.351</td>\n",
       "      <td>1.932</td>\n",
       "      <td>12.087</td>\n",
       "      <td>0.000</td>\n",
       "      <td>19.564</td>\n",
       "      <td>27.138</td>\n",
       "    </tr>\n",
       "    <tr>\n",
       "      <th>1</th>\n",
       "      <td>wh_numeric</td>\n",
       "      <td>-0.056</td>\n",
       "      <td>0.053</td>\n",
       "      <td>-1.051</td>\n",
       "      <td>0.293</td>\n",
       "      <td>-0.161</td>\n",
       "      <td>0.049</td>\n",
       "    </tr>\n",
       "  </tbody>\n",
       "</table>\n",
       "</div>"
      ],
      "text/plain": [
       "    Parameter   Coef. Std.Err.       z  P>|z|  [0.025  0.975]\n",
       "0   Intercept  23.351    1.932  12.087  0.000  19.564  27.138\n",
       "1  wh_numeric  -0.056    0.053  -1.051  0.293  -0.161   0.049"
      ]
     },
     "metadata": {},
     "output_type": "display_data"
    },
    {
     "name": "stdout",
     "output_type": "stream",
     "text": [
      "\n",
      "=== RANDOM EFFECTS / VARIANCE-COVARIANCE ===\n"
     ]
    },
    {
     "data": {
      "text/html": [
       "<div>\n",
       "<style scoped>\n",
       "    .dataframe tbody tr th:only-of-type {\n",
       "        vertical-align: middle;\n",
       "    }\n",
       "\n",
       "    .dataframe tbody tr th {\n",
       "        vertical-align: top;\n",
       "    }\n",
       "\n",
       "    .dataframe thead th {\n",
       "        text-align: right;\n",
       "    }\n",
       "</style>\n",
       "<table border=\"1\" class=\"dataframe\">\n",
       "  <thead>\n",
       "    <tr style=\"text-align: right;\">\n",
       "      <th></th>\n",
       "      <th>Parameter</th>\n",
       "      <th>Coef.</th>\n",
       "      <th>Std.Err.</th>\n",
       "    </tr>\n",
       "  </thead>\n",
       "  <tbody>\n",
       "    <tr>\n",
       "      <th>0</th>\n",
       "      <td>Group Var</td>\n",
       "      <td>74.593</td>\n",
       "      <td>38.245</td>\n",
       "    </tr>\n",
       "  </tbody>\n",
       "</table>\n",
       "</div>"
      ],
      "text/plain": [
       "   Parameter   Coef. Std.Err.\n",
       "0  Group Var  74.593   38.245"
      ]
     },
     "metadata": {},
     "output_type": "display_data"
    },
    {
     "data": {
      "text/plain": [
       "<statsmodels.regression.mixed_linear_model.MixedLMResultsWrapper at 0x15382e5bfdf0>"
      ]
     },
     "execution_count": 16,
     "metadata": {},
     "output_type": "execute_result"
    }
   ],
   "source": [
    "# flip test: gap-\n",
    "no_gap_df = ppgap_df[ppgap_df['gap_numeric'] == -1]\n",
    "iv_list = ['wh_numeric']\n",
    "mixed_effects_linear_regression(no_gap_df, iv_list, 'region_surprisal', 'pp gap position: gap-')"
   ]
  },
  {
   "cell_type": "code",
   "execution_count": 17,
   "id": "327606b9",
   "metadata": {},
   "outputs": [
    {
     "name": "stdout",
     "output_type": "stream",
     "text": [
      "\n",
      "=== PP GAP POSITION: GAP+ ===\n",
      "\n",
      "=== MODEL SUMMARY ===\n",
      ":            MixedLM Dependent Variable: region_surprisal\n",
      "No. Observations: 160\n",
      "Method: REML\n",
      "No. Groups: 20\n",
      "Scale: 0.8238\n",
      "Min. group size: 8\n",
      "Log-Likelihood: -283.4059\n",
      "Max. group size: 8\n",
      "Converged: Yes\n",
      "Mean group size: 8.0\n",
      "\n",
      "=== FIXED EFFECTS COEFFICIENTS ===\n"
     ]
    },
    {
     "data": {
      "text/html": [
       "<div>\n",
       "<style scoped>\n",
       "    .dataframe tbody tr th:only-of-type {\n",
       "        vertical-align: middle;\n",
       "    }\n",
       "\n",
       "    .dataframe tbody tr th {\n",
       "        vertical-align: top;\n",
       "    }\n",
       "\n",
       "    .dataframe thead th {\n",
       "        text-align: right;\n",
       "    }\n",
       "</style>\n",
       "<table border=\"1\" class=\"dataframe\">\n",
       "  <thead>\n",
       "    <tr style=\"text-align: right;\">\n",
       "      <th></th>\n",
       "      <th>Parameter</th>\n",
       "      <th>Coef.</th>\n",
       "      <th>Std.Err.</th>\n",
       "      <th>z</th>\n",
       "      <th>P&gt;|z|</th>\n",
       "      <th>[0.025</th>\n",
       "      <th>0.975]</th>\n",
       "    </tr>\n",
       "  </thead>\n",
       "  <tbody>\n",
       "    <tr>\n",
       "      <th>0</th>\n",
       "      <td>Intercept</td>\n",
       "      <td>30.313</td>\n",
       "      <td>2.776</td>\n",
       "      <td>10.922</td>\n",
       "      <td>0.000</td>\n",
       "      <td>24.873</td>\n",
       "      <td>35.753</td>\n",
       "    </tr>\n",
       "    <tr>\n",
       "      <th>1</th>\n",
       "      <td>wh_numeric</td>\n",
       "      <td>-0.087</td>\n",
       "      <td>0.072</td>\n",
       "      <td>-1.210</td>\n",
       "      <td>0.226</td>\n",
       "      <td>-0.227</td>\n",
       "      <td>0.054</td>\n",
       "    </tr>\n",
       "  </tbody>\n",
       "</table>\n",
       "</div>"
      ],
      "text/plain": [
       "    Parameter   Coef. Std.Err.       z  P>|z|  [0.025  0.975]\n",
       "0   Intercept  30.313    2.776  10.922  0.000  24.873  35.753\n",
       "1  wh_numeric  -0.087    0.072  -1.210  0.226  -0.227   0.054"
      ]
     },
     "metadata": {},
     "output_type": "display_data"
    },
    {
     "name": "stdout",
     "output_type": "stream",
     "text": [
      "\n",
      "=== RANDOM EFFECTS / VARIANCE-COVARIANCE ===\n"
     ]
    },
    {
     "data": {
      "text/html": [
       "<div>\n",
       "<style scoped>\n",
       "    .dataframe tbody tr th:only-of-type {\n",
       "        vertical-align: middle;\n",
       "    }\n",
       "\n",
       "    .dataframe tbody tr th {\n",
       "        vertical-align: top;\n",
       "    }\n",
       "\n",
       "    .dataframe thead th {\n",
       "        text-align: right;\n",
       "    }\n",
       "</style>\n",
       "<table border=\"1\" class=\"dataframe\">\n",
       "  <thead>\n",
       "    <tr style=\"text-align: right;\">\n",
       "      <th></th>\n",
       "      <th>Parameter</th>\n",
       "      <th>Coef.</th>\n",
       "      <th>Std.Err.</th>\n",
       "    </tr>\n",
       "  </thead>\n",
       "  <tbody>\n",
       "    <tr>\n",
       "      <th>0</th>\n",
       "      <td>Group Var</td>\n",
       "      <td>153.970</td>\n",
       "      <td>58.702</td>\n",
       "    </tr>\n",
       "  </tbody>\n",
       "</table>\n",
       "</div>"
      ],
      "text/plain": [
       "   Parameter    Coef. Std.Err.\n",
       "0  Group Var  153.970   58.702"
      ]
     },
     "metadata": {},
     "output_type": "display_data"
    },
    {
     "data": {
      "text/plain": [
       "<statsmodels.regression.mixed_linear_model.MixedLMResultsWrapper at 0x15382e5bcd30>"
      ]
     },
     "execution_count": 17,
     "metadata": {},
     "output_type": "execute_result"
    }
   ],
   "source": [
    "# flip test: gap+\n",
    "gap_df = ppgap_df[ppgap_df['gap_numeric'] == 1]\n",
    "iv_list = ['wh_numeric']\n",
    "mixed_effects_linear_regression(gap_df, iv_list, 'region_surprisal', 'pp gap position: gap+')"
   ]
  },
  {
   "cell_type": "code",
   "execution_count": 18,
   "id": "571fc58b",
   "metadata": {},
   "outputs": [
    {
     "name": "stdout",
     "output_type": "stream",
     "text": [
      "\n",
      "=== PP GAP POSITION: DIVISION BY GRAMMATICALITY ===\n",
      "\n",
      "=== MODEL SUMMARY ===\n",
      "Model: MixedLM\n",
      "Dependent Variable: region_surprisal\n",
      "No. Observations: 320\n",
      "Method: REML\n",
      "No. Groups: 20\n",
      "Scale: 79.7470\n",
      "Min. group size: 16\n",
      "Log-Likelihood: -1174.3073\n",
      "Max. group size: 16\n",
      "Converged: Yes\n",
      "Mean group size: 16.0\n",
      "\n",
      "=== FIXED EFFECTS COEFFICIENTS ===\n"
     ]
    },
    {
     "data": {
      "text/html": [
       "<div>\n",
       "<style scoped>\n",
       "    .dataframe tbody tr th:only-of-type {\n",
       "        vertical-align: middle;\n",
       "    }\n",
       "\n",
       "    .dataframe tbody tr th {\n",
       "        vertical-align: top;\n",
       "    }\n",
       "\n",
       "    .dataframe thead th {\n",
       "        text-align: right;\n",
       "    }\n",
       "</style>\n",
       "<table border=\"1\" class=\"dataframe\">\n",
       "  <thead>\n",
       "    <tr style=\"text-align: right;\">\n",
       "      <th></th>\n",
       "      <th>Parameter</th>\n",
       "      <th>Coef.</th>\n",
       "      <th>Std.Err.</th>\n",
       "      <th>z</th>\n",
       "      <th>P&gt;|z|</th>\n",
       "      <th>[0.025</th>\n",
       "      <th>0.975]</th>\n",
       "    </tr>\n",
       "  </thead>\n",
       "  <tbody>\n",
       "    <tr>\n",
       "      <th>0</th>\n",
       "      <td>Intercept</td>\n",
       "      <td>26.817</td>\n",
       "      <td>1.648</td>\n",
       "      <td>16.277</td>\n",
       "      <td>0.000</td>\n",
       "      <td>23.588</td>\n",
       "      <td>30.046</td>\n",
       "    </tr>\n",
       "    <tr>\n",
       "      <th>1</th>\n",
       "      <td>grammaticality[T.gram-]</td>\n",
       "      <td>0.031</td>\n",
       "      <td>0.998</td>\n",
       "      <td>0.031</td>\n",
       "      <td>0.975</td>\n",
       "      <td>-1.926</td>\n",
       "      <td>1.988</td>\n",
       "    </tr>\n",
       "  </tbody>\n",
       "</table>\n",
       "</div>"
      ],
      "text/plain": [
       "                 Parameter   Coef. Std.Err.       z  P>|z|  [0.025  0.975]\n",
       "0                Intercept  26.817    1.648  16.277  0.000  23.588  30.046\n",
       "1  grammaticality[T.gram-]   0.031    0.998   0.031  0.975  -1.926   1.988"
      ]
     },
     "metadata": {},
     "output_type": "display_data"
    },
    {
     "name": "stdout",
     "output_type": "stream",
     "text": [
      "\n",
      "=== RANDOM EFFECTS / VARIANCE-COVARIANCE ===\n"
     ]
    },
    {
     "data": {
      "text/html": [
       "<div>\n",
       "<style scoped>\n",
       "    .dataframe tbody tr th:only-of-type {\n",
       "        vertical-align: middle;\n",
       "    }\n",
       "\n",
       "    .dataframe tbody tr th {\n",
       "        vertical-align: top;\n",
       "    }\n",
       "\n",
       "    .dataframe thead th {\n",
       "        text-align: right;\n",
       "    }\n",
       "</style>\n",
       "<table border=\"1\" class=\"dataframe\">\n",
       "  <thead>\n",
       "    <tr style=\"text-align: right;\">\n",
       "      <th></th>\n",
       "      <th>Parameter</th>\n",
       "      <th>Coef.</th>\n",
       "      <th>Std.Err.</th>\n",
       "    </tr>\n",
       "  </thead>\n",
       "  <tbody>\n",
       "    <tr>\n",
       "      <th>0</th>\n",
       "      <td>Group Var</td>\n",
       "      <td>44.318</td>\n",
       "      <td>1.847</td>\n",
       "    </tr>\n",
       "  </tbody>\n",
       "</table>\n",
       "</div>"
      ],
      "text/plain": [
       "   Parameter   Coef. Std.Err.\n",
       "0  Group Var  44.318    1.847"
      ]
     },
     "metadata": {},
     "output_type": "display_data"
    },
    {
     "data": {
      "text/plain": [
       "<statsmodels.regression.mixed_linear_model.MixedLMResultsWrapper at 0x15382e54d970>"
      ]
     },
     "execution_count": 18,
     "metadata": {},
     "output_type": "execute_result"
    }
   ],
   "source": [
    "# division by grammaticality\n",
    "iv_list = ['grammaticality']\n",
    "mixed_effects_linear_regression(ppgap_df, iv_list, 'region_surprisal', 'pp gap position: division by grammaticality')"
   ]
  },
  {
   "cell_type": "markdown",
   "id": "ae6a9ac5",
   "metadata": {},
   "source": [
    "Embedded Clause"
   ]
  },
  {
   "cell_type": "code",
   "execution_count": 19,
   "id": "3b784788",
   "metadata": {},
   "outputs": [],
   "source": [
    "embed = ['subj', 'modifier', 'verb', 'object', 'prep', 'goal', 'temp_mod', 'end']\n",
    "sentence_df['embed_surprisal'] = sentence_df.apply(lambda x: sum_region_surprisal(x, embed, normalize = True), axis = 1)"
   ]
  },
  {
   "cell_type": "markdown",
   "id": "bb1cad40",
   "metadata": {},
   "source": [
    "Embedded Clause - Object Gap Position"
   ]
  },
  {
   "cell_type": "code",
   "execution_count": 20,
   "id": "c0a5486a",
   "metadata": {},
   "outputs": [],
   "source": [
    "# filter for object gap\n",
    "embed_objectgap_df = sentence_df[sentence_df['gap_position'] == 'DO']"
   ]
  },
  {
   "cell_type": "code",
   "execution_count": 21,
   "id": "7a81daef",
   "metadata": {},
   "outputs": [
    {
     "name": "stdout",
     "output_type": "stream",
     "text": [
      "\n",
      "=== OBJECT GAP POSITION: GAP- ===\n",
      "\n",
      "=== MODEL SUMMARY ===\n",
      ":            MixedLM Dependent Variable: embed_surprisal\n",
      "No. Observations: 160\n",
      "Method: REML\n",
      "No. Groups: 20\n",
      "Scale: 0.5327\n",
      "Min. group size: 8\n",
      "Log-Likelihood: -198.5210\n",
      "Max. group size: 8\n",
      "Converged: Yes\n",
      "Mean group size: 8.0\n",
      "\n",
      "=== FIXED EFFECTS COEFFICIENTS ===\n"
     ]
    },
    {
     "data": {
      "text/html": [
       "<div>\n",
       "<style scoped>\n",
       "    .dataframe tbody tr th:only-of-type {\n",
       "        vertical-align: middle;\n",
       "    }\n",
       "\n",
       "    .dataframe tbody tr th {\n",
       "        vertical-align: top;\n",
       "    }\n",
       "\n",
       "    .dataframe thead th {\n",
       "        text-align: right;\n",
       "    }\n",
       "</style>\n",
       "<table border=\"1\" class=\"dataframe\">\n",
       "  <thead>\n",
       "    <tr style=\"text-align: right;\">\n",
       "      <th></th>\n",
       "      <th>Parameter</th>\n",
       "      <th>Coef.</th>\n",
       "      <th>Std.Err.</th>\n",
       "      <th>z</th>\n",
       "      <th>P&gt;|z|</th>\n",
       "      <th>[0.025</th>\n",
       "      <th>0.975]</th>\n",
       "    </tr>\n",
       "  </thead>\n",
       "  <tbody>\n",
       "    <tr>\n",
       "      <th>0</th>\n",
       "      <td>Intercept</td>\n",
       "      <td>9.197</td>\n",
       "      <td>0.157</td>\n",
       "      <td>58.605</td>\n",
       "      <td>0.000</td>\n",
       "      <td>8.889</td>\n",
       "      <td>9.505</td>\n",
       "    </tr>\n",
       "    <tr>\n",
       "      <th>1</th>\n",
       "      <td>wh_numeric</td>\n",
       "      <td>-0.005</td>\n",
       "      <td>0.058</td>\n",
       "      <td>-0.095</td>\n",
       "      <td>0.924</td>\n",
       "      <td>-0.119</td>\n",
       "      <td>0.108</td>\n",
       "    </tr>\n",
       "  </tbody>\n",
       "</table>\n",
       "</div>"
      ],
      "text/plain": [
       "    Parameter   Coef. Std.Err.       z  P>|z|  [0.025 0.975]\n",
       "0   Intercept   9.197    0.157  58.605  0.000   8.889  9.505\n",
       "1  wh_numeric  -0.005    0.058  -0.095  0.924  -0.119  0.108"
      ]
     },
     "metadata": {},
     "output_type": "display_data"
    },
    {
     "name": "stdout",
     "output_type": "stream",
     "text": [
      "\n",
      "=== RANDOM EFFECTS / VARIANCE-COVARIANCE ===\n"
     ]
    },
    {
     "data": {
      "text/html": [
       "<div>\n",
       "<style scoped>\n",
       "    .dataframe tbody tr th:only-of-type {\n",
       "        vertical-align: middle;\n",
       "    }\n",
       "\n",
       "    .dataframe tbody tr th {\n",
       "        vertical-align: top;\n",
       "    }\n",
       "\n",
       "    .dataframe thead th {\n",
       "        text-align: right;\n",
       "    }\n",
       "</style>\n",
       "<table border=\"1\" class=\"dataframe\">\n",
       "  <thead>\n",
       "    <tr style=\"text-align: right;\">\n",
       "      <th></th>\n",
       "      <th>Parameter</th>\n",
       "      <th>Coef.</th>\n",
       "      <th>Std.Err.</th>\n",
       "    </tr>\n",
       "  </thead>\n",
       "  <tbody>\n",
       "    <tr>\n",
       "      <th>0</th>\n",
       "      <td>Group Var</td>\n",
       "      <td>0.426</td>\n",
       "      <td>0.233</td>\n",
       "    </tr>\n",
       "  </tbody>\n",
       "</table>\n",
       "</div>"
      ],
      "text/plain": [
       "   Parameter  Coef. Std.Err.\n",
       "0  Group Var  0.426    0.233"
      ]
     },
     "metadata": {},
     "output_type": "display_data"
    },
    {
     "data": {
      "text/plain": [
       "<statsmodels.regression.mixed_linear_model.MixedLMResultsWrapper at 0x15382e5bce50>"
      ]
     },
     "execution_count": 21,
     "metadata": {},
     "output_type": "execute_result"
    }
   ],
   "source": [
    "# flip test: gap-\n",
    "no_gap_df = embed_objectgap_df[embed_objectgap_df['gap_numeric'] == -1]\n",
    "iv_list = ['wh_numeric']\n",
    "mixed_effects_linear_regression(no_gap_df, iv_list, 'embed_surprisal', 'object gap position: gap-')"
   ]
  },
  {
   "cell_type": "code",
   "execution_count": 22,
   "id": "699cb020",
   "metadata": {},
   "outputs": [
    {
     "name": "stdout",
     "output_type": "stream",
     "text": [
      "\n",
      "=== OBJECT GAP POSITION: GAP+ ===\n",
      "\n",
      "=== MODEL SUMMARY ===\n",
      ":            MixedLM Dependent Variable: embed_surprisal\n",
      "No. Observations: 160\n",
      "Method: REML\n",
      "No. Groups: 20\n",
      "Scale: 0.8560\n",
      "Min. group size: 8\n",
      "Log-Likelihood: -234.8796\n",
      "Max. group size: 8\n",
      "Converged: Yes\n",
      "Mean group size: 8.0\n",
      "\n",
      "=== FIXED EFFECTS COEFFICIENTS ===\n"
     ]
    },
    {
     "data": {
      "text/html": [
       "<div>\n",
       "<style scoped>\n",
       "    .dataframe tbody tr th:only-of-type {\n",
       "        vertical-align: middle;\n",
       "    }\n",
       "\n",
       "    .dataframe tbody tr th {\n",
       "        vertical-align: top;\n",
       "    }\n",
       "\n",
       "    .dataframe thead th {\n",
       "        text-align: right;\n",
       "    }\n",
       "</style>\n",
       "<table border=\"1\" class=\"dataframe\">\n",
       "  <thead>\n",
       "    <tr style=\"text-align: right;\">\n",
       "      <th></th>\n",
       "      <th>Parameter</th>\n",
       "      <th>Coef.</th>\n",
       "      <th>Std.Err.</th>\n",
       "      <th>z</th>\n",
       "      <th>P&gt;|z|</th>\n",
       "      <th>[0.025</th>\n",
       "      <th>0.975]</th>\n",
       "    </tr>\n",
       "  </thead>\n",
       "  <tbody>\n",
       "    <tr>\n",
       "      <th>0</th>\n",
       "      <td>Intercept</td>\n",
       "      <td>8.722</td>\n",
       "      <td>0.188</td>\n",
       "      <td>46.498</td>\n",
       "      <td>0.000</td>\n",
       "      <td>8.354</td>\n",
       "      <td>9.089</td>\n",
       "    </tr>\n",
       "    <tr>\n",
       "      <th>1</th>\n",
       "      <td>wh_numeric</td>\n",
       "      <td>-0.016</td>\n",
       "      <td>0.073</td>\n",
       "      <td>-0.215</td>\n",
       "      <td>0.830</td>\n",
       "      <td>-0.159</td>\n",
       "      <td>0.128</td>\n",
       "    </tr>\n",
       "  </tbody>\n",
       "</table>\n",
       "</div>"
      ],
      "text/plain": [
       "    Parameter   Coef. Std.Err.       z  P>|z|  [0.025 0.975]\n",
       "0   Intercept   8.722    0.188  46.498  0.000   8.354  9.089\n",
       "1  wh_numeric  -0.016    0.073  -0.215  0.830  -0.159  0.128"
      ]
     },
     "metadata": {},
     "output_type": "display_data"
    },
    {
     "name": "stdout",
     "output_type": "stream",
     "text": [
      "\n",
      "=== RANDOM EFFECTS / VARIANCE-COVARIANCE ===\n"
     ]
    },
    {
     "data": {
      "text/html": [
       "<div>\n",
       "<style scoped>\n",
       "    .dataframe tbody tr th:only-of-type {\n",
       "        vertical-align: middle;\n",
       "    }\n",
       "\n",
       "    .dataframe tbody tr th {\n",
       "        vertical-align: top;\n",
       "    }\n",
       "\n",
       "    .dataframe thead th {\n",
       "        text-align: right;\n",
       "    }\n",
       "</style>\n",
       "<table border=\"1\" class=\"dataframe\">\n",
       "  <thead>\n",
       "    <tr style=\"text-align: right;\">\n",
       "      <th></th>\n",
       "      <th>Parameter</th>\n",
       "      <th>Coef.</th>\n",
       "      <th>Std.Err.</th>\n",
       "    </tr>\n",
       "  </thead>\n",
       "  <tbody>\n",
       "    <tr>\n",
       "      <th>0</th>\n",
       "      <td>Group Var</td>\n",
       "      <td>0.597</td>\n",
       "      <td>0.263</td>\n",
       "    </tr>\n",
       "  </tbody>\n",
       "</table>\n",
       "</div>"
      ],
      "text/plain": [
       "   Parameter  Coef. Std.Err.\n",
       "0  Group Var  0.597    0.263"
      ]
     },
     "metadata": {},
     "output_type": "display_data"
    },
    {
     "data": {
      "text/plain": [
       "<statsmodels.regression.mixed_linear_model.MixedLMResultsWrapper at 0x15382e5b6df0>"
      ]
     },
     "execution_count": 22,
     "metadata": {},
     "output_type": "execute_result"
    }
   ],
   "source": [
    "# flip test: gap+\n",
    "gap_df = embed_objectgap_df[embed_objectgap_df['gap_numeric'] == 1]\n",
    "iv_list = ['wh_numeric']\n",
    "mixed_effects_linear_regression(gap_df, iv_list, 'embed_surprisal', 'object gap position: gap+')"
   ]
  },
  {
   "cell_type": "code",
   "execution_count": 23,
   "id": "167f2d87",
   "metadata": {},
   "outputs": [
    {
     "name": "stdout",
     "output_type": "stream",
     "text": [
      "\n",
      "=== OBJECT GAP POSITION: DIVISION BY GRAMMATICALITY ===\n",
      "\n",
      "=== MODEL SUMMARY ===\n",
      "Model: MixedLM\n",
      "Dependent Variable: embed_surprisal\n",
      "No. Observations: 320\n",
      "Method: REML\n",
      "No. Groups: 20\n",
      "Scale: 0.7308\n",
      "Min. group size: 16\n",
      "Log-Likelihood: -430.4806\n",
      "Max. group size: 16\n",
      "Converged: Yes\n",
      "Mean group size: 16.0\n",
      "\n",
      "=== FIXED EFFECTS COEFFICIENTS ===\n"
     ]
    },
    {
     "data": {
      "text/html": [
       "<div>\n",
       "<style scoped>\n",
       "    .dataframe tbody tr th:only-of-type {\n",
       "        vertical-align: middle;\n",
       "    }\n",
       "\n",
       "    .dataframe tbody tr th {\n",
       "        vertical-align: top;\n",
       "    }\n",
       "\n",
       "    .dataframe thead th {\n",
       "        text-align: right;\n",
       "    }\n",
       "</style>\n",
       "<table border=\"1\" class=\"dataframe\">\n",
       "  <thead>\n",
       "    <tr style=\"text-align: right;\">\n",
       "      <th></th>\n",
       "      <th>Parameter</th>\n",
       "      <th>Coef.</th>\n",
       "      <th>Std.Err.</th>\n",
       "      <th>z</th>\n",
       "      <th>P&gt;|z|</th>\n",
       "      <th>[0.025</th>\n",
       "      <th>0.975]</th>\n",
       "    </tr>\n",
       "  </thead>\n",
       "  <tbody>\n",
       "    <tr>\n",
       "      <th>0</th>\n",
       "      <td>Intercept</td>\n",
       "      <td>8.954</td>\n",
       "      <td>0.176</td>\n",
       "      <td>50.879</td>\n",
       "      <td>0.000</td>\n",
       "      <td>8.609</td>\n",
       "      <td>9.299</td>\n",
       "    </tr>\n",
       "    <tr>\n",
       "      <th>1</th>\n",
       "      <td>grammaticality[T.gram-]</td>\n",
       "      <td>0.010</td>\n",
       "      <td>0.096</td>\n",
       "      <td>0.107</td>\n",
       "      <td>0.915</td>\n",
       "      <td>-0.177</td>\n",
       "      <td>0.198</td>\n",
       "    </tr>\n",
       "  </tbody>\n",
       "</table>\n",
       "</div>"
      ],
      "text/plain": [
       "                 Parameter  Coef. Std.Err.       z  P>|z|  [0.025 0.975]\n",
       "0                Intercept  8.954    0.176  50.879  0.000   8.609  9.299\n",
       "1  grammaticality[T.gram-]  0.010    0.096   0.107  0.915  -0.177  0.198"
      ]
     },
     "metadata": {},
     "output_type": "display_data"
    },
    {
     "name": "stdout",
     "output_type": "stream",
     "text": [
      "\n",
      "=== RANDOM EFFECTS / VARIANCE-COVARIANCE ===\n"
     ]
    },
    {
     "data": {
      "text/html": [
       "<div>\n",
       "<style scoped>\n",
       "    .dataframe tbody tr th:only-of-type {\n",
       "        vertical-align: middle;\n",
       "    }\n",
       "\n",
       "    .dataframe tbody tr th {\n",
       "        vertical-align: top;\n",
       "    }\n",
       "\n",
       "    .dataframe thead th {\n",
       "        text-align: right;\n",
       "    }\n",
       "</style>\n",
       "<table border=\"1\" class=\"dataframe\">\n",
       "  <thead>\n",
       "    <tr style=\"text-align: right;\">\n",
       "      <th></th>\n",
       "      <th>Parameter</th>\n",
       "      <th>Coef.</th>\n",
       "      <th>Std.Err.</th>\n",
       "    </tr>\n",
       "  </thead>\n",
       "  <tbody>\n",
       "    <tr>\n",
       "      <th>0</th>\n",
       "      <td>Group Var</td>\n",
       "      <td>0.528</td>\n",
       "      <td>0.225</td>\n",
       "    </tr>\n",
       "  </tbody>\n",
       "</table>\n",
       "</div>"
      ],
      "text/plain": [
       "   Parameter  Coef. Std.Err.\n",
       "0  Group Var  0.528    0.225"
      ]
     },
     "metadata": {},
     "output_type": "display_data"
    },
    {
     "data": {
      "text/plain": [
       "<statsmodels.regression.mixed_linear_model.MixedLMResultsWrapper at 0x15382e5aefd0>"
      ]
     },
     "execution_count": 23,
     "metadata": {},
     "output_type": "execute_result"
    }
   ],
   "source": [
    "# division by grammaticality\n",
    "iv_list = ['grammaticality']\n",
    "mixed_effects_linear_regression(embed_objectgap_df, iv_list, 'embed_surprisal', 'object gap position: division by grammaticality')"
   ]
  },
  {
   "cell_type": "markdown",
   "id": "5537a5f1",
   "metadata": {},
   "source": [
    "Embedded Clause - PP/Goal Gap Position"
   ]
  },
  {
   "cell_type": "code",
   "execution_count": 24,
   "id": "7716d953",
   "metadata": {},
   "outputs": [],
   "source": [
    "# filter for PP gap\n",
    "embed_ppgap_df = sentence_df[sentence_df['gap_position'] == 'IO']"
   ]
  },
  {
   "cell_type": "code",
   "execution_count": 25,
   "id": "58f3f7fa",
   "metadata": {},
   "outputs": [
    {
     "name": "stdout",
     "output_type": "stream",
     "text": [
      "\n",
      "=== PP GAP POSITION: GAP- ===\n",
      "\n",
      "=== MODEL SUMMARY ===\n",
      ":            MixedLM Dependent Variable: embed_surprisal\n",
      "No. Observations: 160\n",
      "Method: REML\n",
      "No. Groups: 20\n",
      "Scale: 0.5028\n",
      "Min. group size: 8\n",
      "Log-Likelihood: -194.0825\n",
      "Max. group size: 8\n",
      "Converged: Yes\n",
      "Mean group size: 8.0\n",
      "\n",
      "=== FIXED EFFECTS COEFFICIENTS ===\n"
     ]
    },
    {
     "data": {
      "text/html": [
       "<div>\n",
       "<style scoped>\n",
       "    .dataframe tbody tr th:only-of-type {\n",
       "        vertical-align: middle;\n",
       "    }\n",
       "\n",
       "    .dataframe tbody tr th {\n",
       "        vertical-align: top;\n",
       "    }\n",
       "\n",
       "    .dataframe thead th {\n",
       "        text-align: right;\n",
       "    }\n",
       "</style>\n",
       "<table border=\"1\" class=\"dataframe\">\n",
       "  <thead>\n",
       "    <tr style=\"text-align: right;\">\n",
       "      <th></th>\n",
       "      <th>Parameter</th>\n",
       "      <th>Coef.</th>\n",
       "      <th>Std.Err.</th>\n",
       "      <th>z</th>\n",
       "      <th>P&gt;|z|</th>\n",
       "      <th>[0.025</th>\n",
       "      <th>0.975]</th>\n",
       "    </tr>\n",
       "  </thead>\n",
       "  <tbody>\n",
       "    <tr>\n",
       "      <th>0</th>\n",
       "      <td>Intercept</td>\n",
       "      <td>9.223</td>\n",
       "      <td>0.153</td>\n",
       "      <td>60.124</td>\n",
       "      <td>0.000</td>\n",
       "      <td>8.922</td>\n",
       "      <td>9.523</td>\n",
       "    </tr>\n",
       "    <tr>\n",
       "      <th>1</th>\n",
       "      <td>wh_numeric</td>\n",
       "      <td>0.020</td>\n",
       "      <td>0.056</td>\n",
       "      <td>0.362</td>\n",
       "      <td>0.717</td>\n",
       "      <td>-0.090</td>\n",
       "      <td>0.130</td>\n",
       "    </tr>\n",
       "  </tbody>\n",
       "</table>\n",
       "</div>"
      ],
      "text/plain": [
       "    Parameter  Coef. Std.Err.       z  P>|z|  [0.025 0.975]\n",
       "0   Intercept  9.223    0.153  60.124  0.000   8.922  9.523\n",
       "1  wh_numeric  0.020    0.056   0.362  0.717  -0.090  0.130"
      ]
     },
     "metadata": {},
     "output_type": "display_data"
    },
    {
     "name": "stdout",
     "output_type": "stream",
     "text": [
      "\n",
      "=== RANDOM EFFECTS / VARIANCE-COVARIANCE ===\n"
     ]
    },
    {
     "data": {
      "text/html": [
       "<div>\n",
       "<style scoped>\n",
       "    .dataframe tbody tr th:only-of-type {\n",
       "        vertical-align: middle;\n",
       "    }\n",
       "\n",
       "    .dataframe tbody tr th {\n",
       "        vertical-align: top;\n",
       "    }\n",
       "\n",
       "    .dataframe thead th {\n",
       "        text-align: right;\n",
       "    }\n",
       "</style>\n",
       "<table border=\"1\" class=\"dataframe\">\n",
       "  <thead>\n",
       "    <tr style=\"text-align: right;\">\n",
       "      <th></th>\n",
       "      <th>Parameter</th>\n",
       "      <th>Coef.</th>\n",
       "      <th>Std.Err.</th>\n",
       "    </tr>\n",
       "  </thead>\n",
       "  <tbody>\n",
       "    <tr>\n",
       "      <th>0</th>\n",
       "      <td>Group Var</td>\n",
       "      <td>0.408</td>\n",
       "      <td>0.230</td>\n",
       "    </tr>\n",
       "  </tbody>\n",
       "</table>\n",
       "</div>"
      ],
      "text/plain": [
       "   Parameter  Coef. Std.Err.\n",
       "0  Group Var  0.408    0.230"
      ]
     },
     "metadata": {},
     "output_type": "display_data"
    },
    {
     "data": {
      "text/plain": [
       "<statsmodels.regression.mixed_linear_model.MixedLMResultsWrapper at 0x15382e5a42b0>"
      ]
     },
     "execution_count": 25,
     "metadata": {},
     "output_type": "execute_result"
    }
   ],
   "source": [
    "# flip test: gap-\n",
    "no_gap_df = embed_ppgap_df[embed_ppgap_df['gap_numeric'] == -1]\n",
    "iv_list = ['wh_numeric']\n",
    "mixed_effects_linear_regression(no_gap_df, iv_list, 'embed_surprisal', 'pp gap position: gap-')"
   ]
  },
  {
   "cell_type": "code",
   "execution_count": 26,
   "id": "acc421b0",
   "metadata": {},
   "outputs": [
    {
     "name": "stdout",
     "output_type": "stream",
     "text": [
      "\n",
      "=== PP GAP POSITION: GAP+ ===\n",
      "\n",
      "=== MODEL SUMMARY ===\n",
      ":            MixedLM Dependent Variable: embed_surprisal\n",
      "No. Observations: 160\n",
      "Method: REML\n",
      "No. Groups: 20\n",
      "Scale: 0.6453\n",
      "Min. group size: 8\n",
      "Log-Likelihood: -208.4854\n",
      "Max. group size: 8\n",
      "Converged: Yes\n",
      "Mean group size: 8.0\n",
      "\n",
      "=== FIXED EFFECTS COEFFICIENTS ===\n"
     ]
    },
    {
     "data": {
      "text/html": [
       "<div>\n",
       "<style scoped>\n",
       "    .dataframe tbody tr th:only-of-type {\n",
       "        vertical-align: middle;\n",
       "    }\n",
       "\n",
       "    .dataframe tbody tr th {\n",
       "        vertical-align: top;\n",
       "    }\n",
       "\n",
       "    .dataframe thead th {\n",
       "        text-align: right;\n",
       "    }\n",
       "</style>\n",
       "<table border=\"1\" class=\"dataframe\">\n",
       "  <thead>\n",
       "    <tr style=\"text-align: right;\">\n",
       "      <th></th>\n",
       "      <th>Parameter</th>\n",
       "      <th>Coef.</th>\n",
       "      <th>Std.Err.</th>\n",
       "      <th>z</th>\n",
       "      <th>P&gt;|z|</th>\n",
       "      <th>[0.025</th>\n",
       "      <th>0.975]</th>\n",
       "    </tr>\n",
       "  </thead>\n",
       "  <tbody>\n",
       "    <tr>\n",
       "      <th>0</th>\n",
       "      <td>Intercept</td>\n",
       "      <td>9.165</td>\n",
       "      <td>0.131</td>\n",
       "      <td>69.711</td>\n",
       "      <td>0.000</td>\n",
       "      <td>8.908</td>\n",
       "      <td>9.423</td>\n",
       "    </tr>\n",
       "    <tr>\n",
       "      <th>1</th>\n",
       "      <td>wh_numeric</td>\n",
       "      <td>0.026</td>\n",
       "      <td>0.064</td>\n",
       "      <td>0.410</td>\n",
       "      <td>0.682</td>\n",
       "      <td>-0.098</td>\n",
       "      <td>0.150</td>\n",
       "    </tr>\n",
       "  </tbody>\n",
       "</table>\n",
       "</div>"
      ],
      "text/plain": [
       "    Parameter  Coef. Std.Err.       z  P>|z|  [0.025 0.975]\n",
       "0   Intercept  9.165    0.131  69.711  0.000   8.908  9.423\n",
       "1  wh_numeric  0.026    0.064   0.410  0.682  -0.098  0.150"
      ]
     },
     "metadata": {},
     "output_type": "display_data"
    },
    {
     "name": "stdout",
     "output_type": "stream",
     "text": [
      "\n",
      "=== RANDOM EFFECTS / VARIANCE-COVARIANCE ===\n"
     ]
    },
    {
     "data": {
      "text/html": [
       "<div>\n",
       "<style scoped>\n",
       "    .dataframe tbody tr th:only-of-type {\n",
       "        vertical-align: middle;\n",
       "    }\n",
       "\n",
       "    .dataframe tbody tr th {\n",
       "        vertical-align: top;\n",
       "    }\n",
       "\n",
       "    .dataframe thead th {\n",
       "        text-align: right;\n",
       "    }\n",
       "</style>\n",
       "<table border=\"1\" class=\"dataframe\">\n",
       "  <thead>\n",
       "    <tr style=\"text-align: right;\">\n",
       "      <th></th>\n",
       "      <th>Parameter</th>\n",
       "      <th>Coef.</th>\n",
       "      <th>Std.Err.</th>\n",
       "    </tr>\n",
       "  </thead>\n",
       "  <tbody>\n",
       "    <tr>\n",
       "      <th>0</th>\n",
       "      <td>Group Var</td>\n",
       "      <td>0.265</td>\n",
       "      <td>0.149</td>\n",
       "    </tr>\n",
       "  </tbody>\n",
       "</table>\n",
       "</div>"
      ],
      "text/plain": [
       "   Parameter  Coef. Std.Err.\n",
       "0  Group Var  0.265    0.149"
      ]
     },
     "metadata": {},
     "output_type": "display_data"
    },
    {
     "data": {
      "text/plain": [
       "<statsmodels.regression.mixed_linear_model.MixedLMResultsWrapper at 0x15382e5a0550>"
      ]
     },
     "execution_count": 26,
     "metadata": {},
     "output_type": "execute_result"
    }
   ],
   "source": [
    "# flip test: gap+\n",
    "gap_df = embed_ppgap_df[embed_ppgap_df['gap_numeric'] == 1]\n",
    "iv_list = ['wh_numeric']\n",
    "mixed_effects_linear_regression(gap_df, iv_list, 'embed_surprisal', 'pp gap position: gap+')"
   ]
  },
  {
   "cell_type": "code",
   "execution_count": 27,
   "id": "e51c2fb6",
   "metadata": {},
   "outputs": [
    {
     "name": "stdout",
     "output_type": "stream",
     "text": [
      "\n",
      "=== PP GAP POSITION: DIVISION BY GRAMMATICALITY ===\n",
      "\n",
      "=== MODEL SUMMARY ===\n",
      "Model: MixedLM\n",
      "Dependent Variable: embed_surprisal\n",
      "No. Observations: 320\n",
      "Method: REML\n",
      "No. Groups: 20\n",
      "Scale: 0.5657\n",
      "Min. group size: 16\n",
      "Log-Likelihood: -388.2291\n",
      "Max. group size: 16\n",
      "Converged: Yes\n",
      "Mean group size: 16.0\n",
      "\n",
      "=== FIXED EFFECTS COEFFICIENTS ===\n"
     ]
    },
    {
     "data": {
      "text/html": [
       "<div>\n",
       "<style scoped>\n",
       "    .dataframe tbody tr th:only-of-type {\n",
       "        vertical-align: middle;\n",
       "    }\n",
       "\n",
       "    .dataframe tbody tr th {\n",
       "        vertical-align: top;\n",
       "    }\n",
       "\n",
       "    .dataframe thead th {\n",
       "        text-align: right;\n",
       "    }\n",
       "</style>\n",
       "<table border=\"1\" class=\"dataframe\">\n",
       "  <thead>\n",
       "    <tr style=\"text-align: right;\">\n",
       "      <th></th>\n",
       "      <th>Parameter</th>\n",
       "      <th>Coef.</th>\n",
       "      <th>Std.Err.</th>\n",
       "      <th>z</th>\n",
       "      <th>P&gt;|z|</th>\n",
       "      <th>[0.025</th>\n",
       "      <th>0.975]</th>\n",
       "    </tr>\n",
       "  </thead>\n",
       "  <tbody>\n",
       "    <tr>\n",
       "      <th>0</th>\n",
       "      <td>Intercept</td>\n",
       "      <td>9.197</td>\n",
       "      <td>0.144</td>\n",
       "      <td>63.959</td>\n",
       "      <td>0.000</td>\n",
       "      <td>8.915</td>\n",
       "      <td>9.479</td>\n",
       "    </tr>\n",
       "    <tr>\n",
       "      <th>1</th>\n",
       "      <td>grammaticality[T.gram-]</td>\n",
       "      <td>-0.006</td>\n",
       "      <td>0.084</td>\n",
       "      <td>-0.068</td>\n",
       "      <td>0.946</td>\n",
       "      <td>-0.171</td>\n",
       "      <td>0.159</td>\n",
       "    </tr>\n",
       "  </tbody>\n",
       "</table>\n",
       "</div>"
      ],
      "text/plain": [
       "                 Parameter   Coef. Std.Err.       z  P>|z|  [0.025 0.975]\n",
       "0                Intercept   9.197    0.144  63.959  0.000   8.915  9.479\n",
       "1  grammaticality[T.gram-]  -0.006    0.084  -0.068  0.946  -0.171  0.159"
      ]
     },
     "metadata": {},
     "output_type": "display_data"
    },
    {
     "name": "stdout",
     "output_type": "stream",
     "text": [
      "\n",
      "=== RANDOM EFFECTS / VARIANCE-COVARIANCE ===\n"
     ]
    },
    {
     "data": {
      "text/html": [
       "<div>\n",
       "<style scoped>\n",
       "    .dataframe tbody tr th:only-of-type {\n",
       "        vertical-align: middle;\n",
       "    }\n",
       "\n",
       "    .dataframe tbody tr th {\n",
       "        vertical-align: top;\n",
       "    }\n",
       "\n",
       "    .dataframe thead th {\n",
       "        text-align: right;\n",
       "    }\n",
       "</style>\n",
       "<table border=\"1\" class=\"dataframe\">\n",
       "  <thead>\n",
       "    <tr style=\"text-align: right;\">\n",
       "      <th></th>\n",
       "      <th>Parameter</th>\n",
       "      <th>Coef.</th>\n",
       "      <th>Std.Err.</th>\n",
       "    </tr>\n",
       "  </thead>\n",
       "  <tbody>\n",
       "    <tr>\n",
       "      <th>0</th>\n",
       "      <td>Group Var</td>\n",
       "      <td>0.343</td>\n",
       "      <td>0.168</td>\n",
       "    </tr>\n",
       "  </tbody>\n",
       "</table>\n",
       "</div>"
      ],
      "text/plain": [
       "   Parameter  Coef. Std.Err.\n",
       "0  Group Var  0.343    0.168"
      ]
     },
     "metadata": {},
     "output_type": "display_data"
    },
    {
     "data": {
      "text/plain": [
       "<statsmodels.regression.mixed_linear_model.MixedLMResultsWrapper at 0x15382e58c1c0>"
      ]
     },
     "execution_count": 27,
     "metadata": {},
     "output_type": "execute_result"
    }
   ],
   "source": [
    "# division by grammaticality\n",
    "iv_list = ['grammaticality']\n",
    "mixed_effects_linear_regression(embed_ppgap_df, iv_list, 'embed_surprisal', 'pp gap position: division by grammaticality')"
   ]
  },
  {
   "cell_type": "markdown",
   "id": "3330747a",
   "metadata": {},
   "source": [
    "#### Double Gaps"
   ]
  },
  {
   "cell_type": "code",
   "execution_count": 28,
   "id": "209c4e4d",
   "metadata": {
    "scrolled": true
   },
   "outputs": [],
   "source": [
    "sentence_df = pd.read_csv('test_sentences/Double Gaps.csv')"
   ]
  },
  {
   "cell_type": "code",
   "execution_count": 29,
   "id": "dce83afe",
   "metadata": {},
   "outputs": [],
   "source": [
    "sentence_df[['modifier', 'end']] = sentence_df['modifier'].apply(split_ends)\n",
    "sentence_df = encode_wh_licensor(sentence_df)\n",
    "sentence_df['gap_numeric'] = sentence_df['gap'].replace(0, -1)\n",
    "syntactic_parts = ['prefix', 'licensor', 'subj', 'verb', 'object', 'modifier']\n",
    "sentence_df['sentence'] = sentence_df.apply(lambda x: merge_sentence(x, syntactic_parts), axis = 1)\n",
    "sentence_df['surprisals'] = sentence_df['sentence'].apply(calculate_surprisal)\n",
    "sentence_df['grammaticality'] = sentence_df.apply(assign_grammaticality, axis = 1)"
   ]
  },
  {
   "cell_type": "markdown",
   "id": "ea1270c4",
   "metadata": {},
   "source": [
    "Post Gap Region - Modifier"
   ]
  },
  {
   "cell_type": "code",
   "execution_count": 30,
   "id": "8480f3d5",
   "metadata": {
    "scrolled": true
   },
   "outputs": [],
   "source": [
    "#sentence_df['region_surprisal'] = sentence_df.apply(lambda x: sum_region_surprisal(x, ['modifier']), axis = 1)\n",
    "sentence_df['region_surprisal'] = sentence_df.apply(lambda x: sum_region_surprisal(x, ['modifier'], 'object'), axis = 1)"
   ]
  },
  {
   "cell_type": "code",
   "execution_count": 31,
   "id": "36e415ec",
   "metadata": {},
   "outputs": [
    {
     "name": "stdout",
     "output_type": "stream",
     "text": [
      "\n",
      "=== DOUBLE GAP MODIFIER: GAP- ===\n",
      "\n",
      "=== MODEL SUMMARY ===\n",
      ":            MixedLM Dependent Variable: region_surprisal\n",
      "No. Observations: 40\n",
      "Method: REML\n",
      "No. Groups: 20\n",
      "Scale: 0.1026\n",
      "Min. group size: 2\n",
      "Log-Likelihood: -71.4704\n",
      "Max. group size: 2\n",
      "Converged: Yes\n",
      "Mean group size: 2.0\n",
      "\n",
      "=== FIXED EFFECTS COEFFICIENTS ===\n"
     ]
    },
    {
     "data": {
      "text/html": [
       "<div>\n",
       "<style scoped>\n",
       "    .dataframe tbody tr th:only-of-type {\n",
       "        vertical-align: middle;\n",
       "    }\n",
       "\n",
       "    .dataframe tbody tr th {\n",
       "        vertical-align: top;\n",
       "    }\n",
       "\n",
       "    .dataframe thead th {\n",
       "        text-align: right;\n",
       "    }\n",
       "</style>\n",
       "<table border=\"1\" class=\"dataframe\">\n",
       "  <thead>\n",
       "    <tr style=\"text-align: right;\">\n",
       "      <th></th>\n",
       "      <th>Parameter</th>\n",
       "      <th>Coef.</th>\n",
       "      <th>Std.Err.</th>\n",
       "      <th>z</th>\n",
       "      <th>P&gt;|z|</th>\n",
       "      <th>[0.025</th>\n",
       "      <th>0.975]</th>\n",
       "    </tr>\n",
       "  </thead>\n",
       "  <tbody>\n",
       "    <tr>\n",
       "      <th>0</th>\n",
       "      <td>Intercept</td>\n",
       "      <td>15.003</td>\n",
       "      <td>1.024</td>\n",
       "      <td>14.654</td>\n",
       "      <td>0.000</td>\n",
       "      <td>12.997</td>\n",
       "      <td>17.010</td>\n",
       "    </tr>\n",
       "    <tr>\n",
       "      <th>1</th>\n",
       "      <td>wh_numeric</td>\n",
       "      <td>-0.038</td>\n",
       "      <td>0.051</td>\n",
       "      <td>-0.745</td>\n",
       "      <td>0.456</td>\n",
       "      <td>-0.137</td>\n",
       "      <td>0.062</td>\n",
       "    </tr>\n",
       "  </tbody>\n",
       "</table>\n",
       "</div>"
      ],
      "text/plain": [
       "    Parameter   Coef. Std.Err.       z  P>|z|  [0.025  0.975]\n",
       "0   Intercept  15.003    1.024  14.654  0.000  12.997  17.010\n",
       "1  wh_numeric  -0.038    0.051  -0.745  0.456  -0.137   0.062"
      ]
     },
     "metadata": {},
     "output_type": "display_data"
    },
    {
     "name": "stdout",
     "output_type": "stream",
     "text": [
      "\n",
      "=== RANDOM EFFECTS / VARIANCE-COVARIANCE ===\n"
     ]
    },
    {
     "data": {
      "text/html": [
       "<div>\n",
       "<style scoped>\n",
       "    .dataframe tbody tr th:only-of-type {\n",
       "        vertical-align: middle;\n",
       "    }\n",
       "\n",
       "    .dataframe tbody tr th {\n",
       "        vertical-align: top;\n",
       "    }\n",
       "\n",
       "    .dataframe thead th {\n",
       "        text-align: right;\n",
       "    }\n",
       "</style>\n",
       "<table border=\"1\" class=\"dataframe\">\n",
       "  <thead>\n",
       "    <tr style=\"text-align: right;\">\n",
       "      <th></th>\n",
       "      <th>Parameter</th>\n",
       "      <th>Coef.</th>\n",
       "      <th>Std.Err.</th>\n",
       "    </tr>\n",
       "  </thead>\n",
       "  <tbody>\n",
       "    <tr>\n",
       "      <th>0</th>\n",
       "      <td>Group Var</td>\n",
       "      <td>20.914</td>\n",
       "      <td>30.031</td>\n",
       "    </tr>\n",
       "  </tbody>\n",
       "</table>\n",
       "</div>"
      ],
      "text/plain": [
       "   Parameter   Coef. Std.Err.\n",
       "0  Group Var  20.914   30.031"
      ]
     },
     "metadata": {},
     "output_type": "display_data"
    },
    {
     "data": {
      "text/plain": [
       "<statsmodels.regression.mixed_linear_model.MixedLMResultsWrapper at 0x15382e5d3c70>"
      ]
     },
     "execution_count": 31,
     "metadata": {},
     "output_type": "execute_result"
    }
   ],
   "source": [
    "# flip test: gap-\n",
    "no_gap_df = sentence_df[sentence_df['gap_numeric'] == -1]\n",
    "iv_list = ['wh_numeric']\n",
    "mixed_effects_linear_regression(no_gap_df, iv_list, 'region_surprisal', 'double gap modifier: gap-')"
   ]
  },
  {
   "cell_type": "code",
   "execution_count": 32,
   "id": "cc5c1893",
   "metadata": {},
   "outputs": [
    {
     "name": "stdout",
     "output_type": "stream",
     "text": [
      "\n",
      "=== DOUBLE GAP MODIFIER: GAP+ ===\n",
      "\n",
      "=== MODEL SUMMARY ===\n",
      ":            MixedLM Dependent Variable: region_surprisal\n",
      "No. Observations: 120\n",
      "Method: REML\n",
      "No. Groups: 20\n",
      "Scale: 43.3834\n",
      "Min. group size: 6\n",
      "Log-Likelihood: -406.9352\n",
      "Max. group size: 6\n",
      "Converged: Yes\n",
      "Mean group size: 6.0\n",
      "\n",
      "=== FIXED EFFECTS COEFFICIENTS ===\n"
     ]
    },
    {
     "data": {
      "text/html": [
       "<div>\n",
       "<style scoped>\n",
       "    .dataframe tbody tr th:only-of-type {\n",
       "        vertical-align: middle;\n",
       "    }\n",
       "\n",
       "    .dataframe tbody tr th {\n",
       "        vertical-align: top;\n",
       "    }\n",
       "\n",
       "    .dataframe thead th {\n",
       "        text-align: right;\n",
       "    }\n",
       "</style>\n",
       "<table border=\"1\" class=\"dataframe\">\n",
       "  <thead>\n",
       "    <tr style=\"text-align: right;\">\n",
       "      <th></th>\n",
       "      <th>Parameter</th>\n",
       "      <th>Coef.</th>\n",
       "      <th>Std.Err.</th>\n",
       "      <th>z</th>\n",
       "      <th>P&gt;|z|</th>\n",
       "      <th>[0.025</th>\n",
       "      <th>0.975]</th>\n",
       "    </tr>\n",
       "  </thead>\n",
       "  <tbody>\n",
       "    <tr>\n",
       "      <th>0</th>\n",
       "      <td>Intercept</td>\n",
       "      <td>23.569</td>\n",
       "      <td>1.147</td>\n",
       "      <td>20.541</td>\n",
       "      <td>0.000</td>\n",
       "      <td>21.320</td>\n",
       "      <td>25.818</td>\n",
       "    </tr>\n",
       "    <tr>\n",
       "      <th>1</th>\n",
       "      <td>wh_numeric</td>\n",
       "      <td>-0.013</td>\n",
       "      <td>0.601</td>\n",
       "      <td>-0.022</td>\n",
       "      <td>0.983</td>\n",
       "      <td>-1.192</td>\n",
       "      <td>1.165</td>\n",
       "    </tr>\n",
       "  </tbody>\n",
       "</table>\n",
       "</div>"
      ],
      "text/plain": [
       "    Parameter   Coef. Std.Err.       z  P>|z|  [0.025  0.975]\n",
       "0   Intercept  23.569    1.147  20.541  0.000  21.320  25.818\n",
       "1  wh_numeric  -0.013    0.601  -0.022  0.983  -1.192   1.165"
      ]
     },
     "metadata": {},
     "output_type": "display_data"
    },
    {
     "name": "stdout",
     "output_type": "stream",
     "text": [
      "\n",
      "=== RANDOM EFFECTS / VARIANCE-COVARIANCE ===\n"
     ]
    },
    {
     "data": {
      "text/html": [
       "<div>\n",
       "<style scoped>\n",
       "    .dataframe tbody tr th:only-of-type {\n",
       "        vertical-align: middle;\n",
       "    }\n",
       "\n",
       "    .dataframe tbody tr th {\n",
       "        vertical-align: top;\n",
       "    }\n",
       "\n",
       "    .dataframe thead th {\n",
       "        text-align: right;\n",
       "    }\n",
       "</style>\n",
       "<table border=\"1\" class=\"dataframe\">\n",
       "  <thead>\n",
       "    <tr style=\"text-align: right;\">\n",
       "      <th></th>\n",
       "      <th>Parameter</th>\n",
       "      <th>Coef.</th>\n",
       "      <th>Std.Err.</th>\n",
       "    </tr>\n",
       "  </thead>\n",
       "  <tbody>\n",
       "    <tr>\n",
       "      <th>0</th>\n",
       "      <td>Group Var</td>\n",
       "      <td>19.101</td>\n",
       "      <td>1.416</td>\n",
       "    </tr>\n",
       "  </tbody>\n",
       "</table>\n",
       "</div>"
      ],
      "text/plain": [
       "   Parameter   Coef. Std.Err.\n",
       "0  Group Var  19.101    1.416"
      ]
     },
     "metadata": {},
     "output_type": "display_data"
    },
    {
     "data": {
      "text/plain": [
       "<statsmodels.regression.mixed_linear_model.MixedLMResultsWrapper at 0x15382e5db4f0>"
      ]
     },
     "execution_count": 32,
     "metadata": {},
     "output_type": "execute_result"
    }
   ],
   "source": [
    "# flip test: gap+\n",
    "gap_df = sentence_df[sentence_df['gap_numeric'] == 1]\n",
    "iv_list = ['wh_numeric']\n",
    "mixed_effects_linear_regression(gap_df, iv_list, 'region_surprisal', 'double gap modifier: gap+')"
   ]
  },
  {
   "cell_type": "code",
   "execution_count": 33,
   "id": "9c10297b",
   "metadata": {},
   "outputs": [
    {
     "name": "stdout",
     "output_type": "stream",
     "text": [
      "\n",
      "=== DOUBLE GAP MODIFIER: DIVISION BY GRAMMATICALITY ===\n",
      "\n",
      "=== MODEL SUMMARY ===\n",
      "Model: MixedLM\n",
      "Dependent Variable: region_surprisal\n",
      "No. Observations: 160\n",
      "Method: REML\n",
      "No. Groups: 20\n",
      "Scale: 54.1955\n",
      "Min. group size: 8\n",
      "Log-Likelihood: -553.3675\n",
      "Max. group size: 8\n",
      "Converged: Yes\n",
      "Mean group size: 8.0\n",
      "\n",
      "=== FIXED EFFECTS COEFFICIENTS ===\n"
     ]
    },
    {
     "data": {
      "text/html": [
       "<div>\n",
       "<style scoped>\n",
       "    .dataframe tbody tr th:only-of-type {\n",
       "        vertical-align: middle;\n",
       "    }\n",
       "\n",
       "    .dataframe tbody tr th {\n",
       "        vertical-align: top;\n",
       "    }\n",
       "\n",
       "    .dataframe thead th {\n",
       "        text-align: right;\n",
       "    }\n",
       "</style>\n",
       "<table border=\"1\" class=\"dataframe\">\n",
       "  <thead>\n",
       "    <tr style=\"text-align: right;\">\n",
       "      <th></th>\n",
       "      <th>Parameter</th>\n",
       "      <th>Coef.</th>\n",
       "      <th>Std.Err.</th>\n",
       "      <th>z</th>\n",
       "      <th>P&gt;|z|</th>\n",
       "      <th>[0.025</th>\n",
       "      <th>0.975]</th>\n",
       "    </tr>\n",
       "  </thead>\n",
       "  <tbody>\n",
       "    <tr>\n",
       "      <th>0</th>\n",
       "      <td>Intercept</td>\n",
       "      <td>21.427</td>\n",
       "      <td>1.117</td>\n",
       "      <td>19.182</td>\n",
       "      <td>0.000</td>\n",
       "      <td>19.238</td>\n",
       "      <td>23.616</td>\n",
       "    </tr>\n",
       "    <tr>\n",
       "      <th>1</th>\n",
       "      <td>grammaticality[T.gram-]</td>\n",
       "      <td>0.001</td>\n",
       "      <td>1.164</td>\n",
       "      <td>0.001</td>\n",
       "      <td>0.999</td>\n",
       "      <td>-2.281</td>\n",
       "      <td>2.282</td>\n",
       "    </tr>\n",
       "  </tbody>\n",
       "</table>\n",
       "</div>"
      ],
      "text/plain": [
       "                 Parameter   Coef. Std.Err.       z  P>|z|  [0.025  0.975]\n",
       "0                Intercept  21.427    1.117  19.182  0.000  19.238  23.616\n",
       "1  grammaticality[T.gram-]   0.001    1.164   0.001  0.999  -2.281   2.282"
      ]
     },
     "metadata": {},
     "output_type": "display_data"
    },
    {
     "name": "stdout",
     "output_type": "stream",
     "text": [
      "\n",
      "=== RANDOM EFFECTS / VARIANCE-COVARIANCE ===\n"
     ]
    },
    {
     "data": {
      "text/html": [
       "<div>\n",
       "<style scoped>\n",
       "    .dataframe tbody tr th:only-of-type {\n",
       "        vertical-align: middle;\n",
       "    }\n",
       "\n",
       "    .dataframe tbody tr th {\n",
       "        vertical-align: top;\n",
       "    }\n",
       "\n",
       "    .dataframe thead th {\n",
       "        text-align: right;\n",
       "    }\n",
       "</style>\n",
       "<table border=\"1\" class=\"dataframe\">\n",
       "  <thead>\n",
       "    <tr style=\"text-align: right;\">\n",
       "      <th></th>\n",
       "      <th>Parameter</th>\n",
       "      <th>Coef.</th>\n",
       "      <th>Std.Err.</th>\n",
       "    </tr>\n",
       "  </thead>\n",
       "  <tbody>\n",
       "    <tr>\n",
       "      <th>0</th>\n",
       "      <td>Group Var</td>\n",
       "      <td>11.406</td>\n",
       "      <td>0.854</td>\n",
       "    </tr>\n",
       "  </tbody>\n",
       "</table>\n",
       "</div>"
      ],
      "text/plain": [
       "   Parameter   Coef. Std.Err.\n",
       "0  Group Var  11.406    0.854"
      ]
     },
     "metadata": {},
     "output_type": "display_data"
    },
    {
     "data": {
      "text/plain": [
       "<statsmodels.regression.mixed_linear_model.MixedLMResultsWrapper at 0x15382e5d3be0>"
      ]
     },
     "execution_count": 33,
     "metadata": {},
     "output_type": "execute_result"
    }
   ],
   "source": [
    "# division by grammaticality\n",
    "iv_list = ['grammaticality']\n",
    "mixed_effects_linear_regression(sentence_df, iv_list, 'region_surprisal', 'double gap modifier: division by grammaticality')"
   ]
  },
  {
   "cell_type": "markdown",
   "id": "b12c8984",
   "metadata": {},
   "source": [
    "Subject Gap Position"
   ]
  },
  {
   "cell_type": "code",
   "execution_count": 34,
   "id": "705af67a",
   "metadata": {},
   "outputs": [],
   "source": [
    "subjectgap_df = sentence_df[sentence_df['condition'].isin(['a', 'b', 'd', 'e', 'f', 'h'])]"
   ]
  },
  {
   "cell_type": "code",
   "execution_count": 35,
   "id": "7735fb48",
   "metadata": {},
   "outputs": [
    {
     "name": "stdout",
     "output_type": "stream",
     "text": [
      "\n",
      "=== DOUBLE GAP MODIFIER SUBJECT GAP POSITION: GAP- ===\n",
      "\n",
      "=== MODEL SUMMARY ===\n",
      ":            MixedLM Dependent Variable: region_surprisal\n",
      "No. Observations: 40\n",
      "Method: REML\n",
      "No. Groups: 20\n",
      "Scale: 0.1026\n",
      "Min. group size: 2\n",
      "Log-Likelihood: -71.4704\n",
      "Max. group size: 2\n",
      "Converged: Yes\n",
      "Mean group size: 2.0\n",
      "\n",
      "=== FIXED EFFECTS COEFFICIENTS ===\n"
     ]
    },
    {
     "data": {
      "text/html": [
       "<div>\n",
       "<style scoped>\n",
       "    .dataframe tbody tr th:only-of-type {\n",
       "        vertical-align: middle;\n",
       "    }\n",
       "\n",
       "    .dataframe tbody tr th {\n",
       "        vertical-align: top;\n",
       "    }\n",
       "\n",
       "    .dataframe thead th {\n",
       "        text-align: right;\n",
       "    }\n",
       "</style>\n",
       "<table border=\"1\" class=\"dataframe\">\n",
       "  <thead>\n",
       "    <tr style=\"text-align: right;\">\n",
       "      <th></th>\n",
       "      <th>Parameter</th>\n",
       "      <th>Coef.</th>\n",
       "      <th>Std.Err.</th>\n",
       "      <th>z</th>\n",
       "      <th>P&gt;|z|</th>\n",
       "      <th>[0.025</th>\n",
       "      <th>0.975]</th>\n",
       "    </tr>\n",
       "  </thead>\n",
       "  <tbody>\n",
       "    <tr>\n",
       "      <th>0</th>\n",
       "      <td>Intercept</td>\n",
       "      <td>15.003</td>\n",
       "      <td>1.024</td>\n",
       "      <td>14.654</td>\n",
       "      <td>0.000</td>\n",
       "      <td>12.997</td>\n",
       "      <td>17.010</td>\n",
       "    </tr>\n",
       "    <tr>\n",
       "      <th>1</th>\n",
       "      <td>wh_numeric</td>\n",
       "      <td>-0.038</td>\n",
       "      <td>0.051</td>\n",
       "      <td>-0.745</td>\n",
       "      <td>0.456</td>\n",
       "      <td>-0.137</td>\n",
       "      <td>0.062</td>\n",
       "    </tr>\n",
       "  </tbody>\n",
       "</table>\n",
       "</div>"
      ],
      "text/plain": [
       "    Parameter   Coef. Std.Err.       z  P>|z|  [0.025  0.975]\n",
       "0   Intercept  15.003    1.024  14.654  0.000  12.997  17.010\n",
       "1  wh_numeric  -0.038    0.051  -0.745  0.456  -0.137   0.062"
      ]
     },
     "metadata": {},
     "output_type": "display_data"
    },
    {
     "name": "stdout",
     "output_type": "stream",
     "text": [
      "\n",
      "=== RANDOM EFFECTS / VARIANCE-COVARIANCE ===\n"
     ]
    },
    {
     "data": {
      "text/html": [
       "<div>\n",
       "<style scoped>\n",
       "    .dataframe tbody tr th:only-of-type {\n",
       "        vertical-align: middle;\n",
       "    }\n",
       "\n",
       "    .dataframe tbody tr th {\n",
       "        vertical-align: top;\n",
       "    }\n",
       "\n",
       "    .dataframe thead th {\n",
       "        text-align: right;\n",
       "    }\n",
       "</style>\n",
       "<table border=\"1\" class=\"dataframe\">\n",
       "  <thead>\n",
       "    <tr style=\"text-align: right;\">\n",
       "      <th></th>\n",
       "      <th>Parameter</th>\n",
       "      <th>Coef.</th>\n",
       "      <th>Std.Err.</th>\n",
       "    </tr>\n",
       "  </thead>\n",
       "  <tbody>\n",
       "    <tr>\n",
       "      <th>0</th>\n",
       "      <td>Group Var</td>\n",
       "      <td>20.914</td>\n",
       "      <td>30.031</td>\n",
       "    </tr>\n",
       "  </tbody>\n",
       "</table>\n",
       "</div>"
      ],
      "text/plain": [
       "   Parameter   Coef. Std.Err.\n",
       "0  Group Var  20.914   30.031"
      ]
     },
     "metadata": {},
     "output_type": "display_data"
    },
    {
     "data": {
      "text/plain": [
       "<statsmodels.regression.mixed_linear_model.MixedLMResultsWrapper at 0x15382e5f9490>"
      ]
     },
     "execution_count": 35,
     "metadata": {},
     "output_type": "execute_result"
    }
   ],
   "source": [
    "# flip test: gap-\n",
    "no_gap_df = subjectgap_df[subjectgap_df['gap_numeric'] == -1]\n",
    "iv_list = ['wh_numeric']\n",
    "mixed_effects_linear_regression(no_gap_df, iv_list, 'region_surprisal', 'double gap modifier subject gap position: gap-')"
   ]
  },
  {
   "cell_type": "code",
   "execution_count": 36,
   "id": "3760315a",
   "metadata": {},
   "outputs": [
    {
     "name": "stdout",
     "output_type": "stream",
     "text": [
      "\n",
      "=== DOUBLE GAP MODIFIER SUBJECT GAP POSITION: GAP+ ===\n",
      "\n",
      "=== MODEL SUMMARY ===\n",
      ":            MixedLM Dependent Variable: region_surprisal\n",
      "No. Observations: 80\n",
      "Method: REML\n",
      "No. Groups: 20\n",
      "Scale: 54.6571\n",
      "Min. group size: 4\n",
      "Log-Likelihood: -273.1666\n",
      "Max. group size: 4\n",
      "Converged: Yes\n",
      "Mean group size: 4.0\n",
      "\n",
      "=== FIXED EFFECTS COEFFICIENTS ===\n"
     ]
    },
    {
     "data": {
      "text/html": [
       "<div>\n",
       "<style scoped>\n",
       "    .dataframe tbody tr th:only-of-type {\n",
       "        vertical-align: middle;\n",
       "    }\n",
       "\n",
       "    .dataframe tbody tr th {\n",
       "        vertical-align: top;\n",
       "    }\n",
       "\n",
       "    .dataframe thead th {\n",
       "        text-align: right;\n",
       "    }\n",
       "</style>\n",
       "<table border=\"1\" class=\"dataframe\">\n",
       "  <thead>\n",
       "    <tr style=\"text-align: right;\">\n",
       "      <th></th>\n",
       "      <th>Parameter</th>\n",
       "      <th>Coef.</th>\n",
       "      <th>Std.Err.</th>\n",
       "      <th>z</th>\n",
       "      <th>P&gt;|z|</th>\n",
       "      <th>[0.025</th>\n",
       "      <th>0.975]</th>\n",
       "    </tr>\n",
       "  </thead>\n",
       "  <tbody>\n",
       "    <tr>\n",
       "      <th>0</th>\n",
       "      <td>Intercept</td>\n",
       "      <td>22.070</td>\n",
       "      <td>0.921</td>\n",
       "      <td>23.950</td>\n",
       "      <td>0.000</td>\n",
       "      <td>20.263</td>\n",
       "      <td>23.876</td>\n",
       "    </tr>\n",
       "    <tr>\n",
       "      <th>1</th>\n",
       "      <td>wh_numeric</td>\n",
       "      <td>-0.043</td>\n",
       "      <td>0.827</td>\n",
       "      <td>-0.052</td>\n",
       "      <td>0.959</td>\n",
       "      <td>-1.663</td>\n",
       "      <td>1.577</td>\n",
       "    </tr>\n",
       "  </tbody>\n",
       "</table>\n",
       "</div>"
      ],
      "text/plain": [
       "    Parameter   Coef. Std.Err.       z  P>|z|  [0.025  0.975]\n",
       "0   Intercept  22.070    0.921  23.950  0.000  20.263  23.876\n",
       "1  wh_numeric  -0.043    0.827  -0.052  0.959  -1.663   1.577"
      ]
     },
     "metadata": {},
     "output_type": "display_data"
    },
    {
     "name": "stdout",
     "output_type": "stream",
     "text": [
      "\n",
      "=== RANDOM EFFECTS / VARIANCE-COVARIANCE ===\n"
     ]
    },
    {
     "data": {
      "text/html": [
       "<div>\n",
       "<style scoped>\n",
       "    .dataframe tbody tr th:only-of-type {\n",
       "        vertical-align: middle;\n",
       "    }\n",
       "\n",
       "    .dataframe tbody tr th {\n",
       "        vertical-align: top;\n",
       "    }\n",
       "\n",
       "    .dataframe thead th {\n",
       "        text-align: right;\n",
       "    }\n",
       "</style>\n",
       "<table border=\"1\" class=\"dataframe\">\n",
       "  <thead>\n",
       "    <tr style=\"text-align: right;\">\n",
       "      <th></th>\n",
       "      <th>Parameter</th>\n",
       "      <th>Coef.</th>\n",
       "      <th>Std.Err.</th>\n",
       "    </tr>\n",
       "  </thead>\n",
       "  <tbody>\n",
       "    <tr>\n",
       "      <th>0</th>\n",
       "      <td>Group Var</td>\n",
       "      <td>3.318</td>\n",
       "      <td>0.857</td>\n",
       "    </tr>\n",
       "  </tbody>\n",
       "</table>\n",
       "</div>"
      ],
      "text/plain": [
       "   Parameter  Coef. Std.Err.\n",
       "0  Group Var  3.318    0.857"
      ]
     },
     "metadata": {},
     "output_type": "display_data"
    },
    {
     "data": {
      "text/plain": [
       "<statsmodels.regression.mixed_linear_model.MixedLMResultsWrapper at 0x15382e582190>"
      ]
     },
     "execution_count": 36,
     "metadata": {},
     "output_type": "execute_result"
    }
   ],
   "source": [
    "# flip test: gap+\n",
    "gap_df = subjectgap_df[subjectgap_df['gap_numeric'] == 1]\n",
    "iv_list = ['wh_numeric']\n",
    "mixed_effects_linear_regression(gap_df, iv_list, 'region_surprisal', 'double gap modifier subject gap position: gap+')"
   ]
  },
  {
   "cell_type": "code",
   "execution_count": 37,
   "id": "d556f8ac",
   "metadata": {},
   "outputs": [
    {
     "name": "stdout",
     "output_type": "stream",
     "text": [
      "\n",
      "=== DOUBLE GAP MODIFIER SUBJECT GAP POSITION: DIVISION BY GRAMMATICALITY ===\n",
      "\n",
      "=== MODEL SUMMARY ===\n",
      "Model: MixedLM\n",
      "Dependent Variable: region_surprisal\n",
      "No. Observations: 120\n",
      "Method: REML\n",
      "No. Groups: 20\n",
      "Scale: 51.7067\n",
      "Min. group size: 6\n",
      "Log-Likelihood: -408.4591\n",
      "Max. group size: 6\n",
      "Converged: No\n",
      "Mean group size: 6.0\n",
      "\n",
      "=== FIXED EFFECTS COEFFICIENTS ===\n"
     ]
    },
    {
     "data": {
      "text/html": [
       "<div>\n",
       "<style scoped>\n",
       "    .dataframe tbody tr th:only-of-type {\n",
       "        vertical-align: middle;\n",
       "    }\n",
       "\n",
       "    .dataframe tbody tr th {\n",
       "        vertical-align: top;\n",
       "    }\n",
       "\n",
       "    .dataframe thead th {\n",
       "        text-align: right;\n",
       "    }\n",
       "</style>\n",
       "<table border=\"1\" class=\"dataframe\">\n",
       "  <thead>\n",
       "    <tr style=\"text-align: right;\">\n",
       "      <th></th>\n",
       "      <th>Parameter</th>\n",
       "      <th>Coef.</th>\n",
       "      <th>Std.Err.</th>\n",
       "      <th>z</th>\n",
       "      <th>P&gt;|z|</th>\n",
       "      <th>[0.025</th>\n",
       "      <th>0.975]</th>\n",
       "    </tr>\n",
       "  </thead>\n",
       "  <tbody>\n",
       "    <tr>\n",
       "      <th>0</th>\n",
       "      <td>Intercept</td>\n",
       "      <td>19.698</td>\n",
       "      <td>1.047</td>\n",
       "      <td>18.806</td>\n",
       "      <td>0.000</td>\n",
       "      <td>17.645</td>\n",
       "      <td>21.751</td>\n",
       "    </tr>\n",
       "    <tr>\n",
       "      <th>1</th>\n",
       "      <td>grammaticality[T.gram-]</td>\n",
       "      <td>0.032</td>\n",
       "      <td>1.313</td>\n",
       "      <td>0.024</td>\n",
       "      <td>0.981</td>\n",
       "      <td>-2.541</td>\n",
       "      <td>2.605</td>\n",
       "    </tr>\n",
       "  </tbody>\n",
       "</table>\n",
       "</div>"
      ],
      "text/plain": [
       "                 Parameter   Coef. Std.Err.       z  P>|z|  [0.025  0.975]\n",
       "0                Intercept  19.698    1.047  18.806  0.000  17.645  21.751\n",
       "1  grammaticality[T.gram-]   0.032    1.313   0.024  0.981  -2.541   2.605"
      ]
     },
     "metadata": {},
     "output_type": "display_data"
    },
    {
     "name": "stdout",
     "output_type": "stream",
     "text": [
      "\n",
      "=== RANDOM EFFECTS / VARIANCE-COVARIANCE ===\n"
     ]
    },
    {
     "data": {
      "text/html": [
       "<div>\n",
       "<style scoped>\n",
       "    .dataframe tbody tr th:only-of-type {\n",
       "        vertical-align: middle;\n",
       "    }\n",
       "\n",
       "    .dataframe tbody tr th {\n",
       "        vertical-align: top;\n",
       "    }\n",
       "\n",
       "    .dataframe thead th {\n",
       "        text-align: right;\n",
       "    }\n",
       "</style>\n",
       "<table border=\"1\" class=\"dataframe\">\n",
       "  <thead>\n",
       "    <tr style=\"text-align: right;\">\n",
       "      <th></th>\n",
       "      <th>Parameter</th>\n",
       "      <th>Coef.</th>\n",
       "      <th>Std.Err.</th>\n",
       "    </tr>\n",
       "  </thead>\n",
       "  <tbody>\n",
       "    <tr>\n",
       "      <th>0</th>\n",
       "      <td>Group Var</td>\n",
       "      <td>4.707</td>\n",
       "      <td>0.647</td>\n",
       "    </tr>\n",
       "  </tbody>\n",
       "</table>\n",
       "</div>"
      ],
      "text/plain": [
       "   Parameter  Coef. Std.Err.\n",
       "0  Group Var  4.707    0.647"
      ]
     },
     "metadata": {},
     "output_type": "display_data"
    },
    {
     "data": {
      "text/plain": [
       "<statsmodels.regression.mixed_linear_model.MixedLMResultsWrapper at 0x15382e582310>"
      ]
     },
     "execution_count": 37,
     "metadata": {},
     "output_type": "execute_result"
    }
   ],
   "source": [
    "# division by grammaticality\n",
    "iv_list = ['grammaticality']\n",
    "mixed_effects_linear_regression(subjectgap_df, iv_list, 'region_surprisal', 'double gap modifier subject gap position: division by grammaticality')"
   ]
  },
  {
   "cell_type": "markdown",
   "id": "fdb47c1b",
   "metadata": {},
   "source": [
    "Object Gap Position"
   ]
  },
  {
   "cell_type": "code",
   "execution_count": 38,
   "id": "8c4e4115",
   "metadata": {},
   "outputs": [],
   "source": [
    "objectgap_df = sentence_df[sentence_df['condition'].isin(['a', 'c', 'd', 'e', 'g', 'h'])]"
   ]
  },
  {
   "cell_type": "code",
   "execution_count": 39,
   "id": "6c9e5b2a",
   "metadata": {},
   "outputs": [
    {
     "name": "stdout",
     "output_type": "stream",
     "text": [
      "\n",
      "=== DOUBLE GAP MODIFIER OBJECT GAP POSITION: GAP- ===\n",
      "\n",
      "=== MODEL SUMMARY ===\n",
      ":            MixedLM Dependent Variable: region_surprisal\n",
      "No. Observations: 40\n",
      "Method: REML\n",
      "No. Groups: 20\n",
      "Scale: 0.1026\n",
      "Min. group size: 2\n",
      "Log-Likelihood: -71.4704\n",
      "Max. group size: 2\n",
      "Converged: Yes\n",
      "Mean group size: 2.0\n",
      "\n",
      "=== FIXED EFFECTS COEFFICIENTS ===\n"
     ]
    },
    {
     "data": {
      "text/html": [
       "<div>\n",
       "<style scoped>\n",
       "    .dataframe tbody tr th:only-of-type {\n",
       "        vertical-align: middle;\n",
       "    }\n",
       "\n",
       "    .dataframe tbody tr th {\n",
       "        vertical-align: top;\n",
       "    }\n",
       "\n",
       "    .dataframe thead th {\n",
       "        text-align: right;\n",
       "    }\n",
       "</style>\n",
       "<table border=\"1\" class=\"dataframe\">\n",
       "  <thead>\n",
       "    <tr style=\"text-align: right;\">\n",
       "      <th></th>\n",
       "      <th>Parameter</th>\n",
       "      <th>Coef.</th>\n",
       "      <th>Std.Err.</th>\n",
       "      <th>z</th>\n",
       "      <th>P&gt;|z|</th>\n",
       "      <th>[0.025</th>\n",
       "      <th>0.975]</th>\n",
       "    </tr>\n",
       "  </thead>\n",
       "  <tbody>\n",
       "    <tr>\n",
       "      <th>0</th>\n",
       "      <td>Intercept</td>\n",
       "      <td>15.003</td>\n",
       "      <td>1.024</td>\n",
       "      <td>14.654</td>\n",
       "      <td>0.000</td>\n",
       "      <td>12.997</td>\n",
       "      <td>17.010</td>\n",
       "    </tr>\n",
       "    <tr>\n",
       "      <th>1</th>\n",
       "      <td>wh_numeric</td>\n",
       "      <td>-0.038</td>\n",
       "      <td>0.051</td>\n",
       "      <td>-0.745</td>\n",
       "      <td>0.456</td>\n",
       "      <td>-0.137</td>\n",
       "      <td>0.062</td>\n",
       "    </tr>\n",
       "  </tbody>\n",
       "</table>\n",
       "</div>"
      ],
      "text/plain": [
       "    Parameter   Coef. Std.Err.       z  P>|z|  [0.025  0.975]\n",
       "0   Intercept  15.003    1.024  14.654  0.000  12.997  17.010\n",
       "1  wh_numeric  -0.038    0.051  -0.745  0.456  -0.137   0.062"
      ]
     },
     "metadata": {},
     "output_type": "display_data"
    },
    {
     "name": "stdout",
     "output_type": "stream",
     "text": [
      "\n",
      "=== RANDOM EFFECTS / VARIANCE-COVARIANCE ===\n"
     ]
    },
    {
     "data": {
      "text/html": [
       "<div>\n",
       "<style scoped>\n",
       "    .dataframe tbody tr th:only-of-type {\n",
       "        vertical-align: middle;\n",
       "    }\n",
       "\n",
       "    .dataframe tbody tr th {\n",
       "        vertical-align: top;\n",
       "    }\n",
       "\n",
       "    .dataframe thead th {\n",
       "        text-align: right;\n",
       "    }\n",
       "</style>\n",
       "<table border=\"1\" class=\"dataframe\">\n",
       "  <thead>\n",
       "    <tr style=\"text-align: right;\">\n",
       "      <th></th>\n",
       "      <th>Parameter</th>\n",
       "      <th>Coef.</th>\n",
       "      <th>Std.Err.</th>\n",
       "    </tr>\n",
       "  </thead>\n",
       "  <tbody>\n",
       "    <tr>\n",
       "      <th>0</th>\n",
       "      <td>Group Var</td>\n",
       "      <td>20.914</td>\n",
       "      <td>30.031</td>\n",
       "    </tr>\n",
       "  </tbody>\n",
       "</table>\n",
       "</div>"
      ],
      "text/plain": [
       "   Parameter   Coef. Std.Err.\n",
       "0  Group Var  20.914   30.031"
      ]
     },
     "metadata": {},
     "output_type": "display_data"
    },
    {
     "data": {
      "text/plain": [
       "<statsmodels.regression.mixed_linear_model.MixedLMResultsWrapper at 0x15382e55dc10>"
      ]
     },
     "execution_count": 39,
     "metadata": {},
     "output_type": "execute_result"
    }
   ],
   "source": [
    "# flip test: gap-\n",
    "no_gap_df = objectgap_df[objectgap_df['gap_numeric'] == -1]\n",
    "iv_list = ['wh_numeric']\n",
    "mixed_effects_linear_regression(no_gap_df, iv_list, 'region_surprisal', 'double gap modifier object gap position: gap-')"
   ]
  },
  {
   "cell_type": "code",
   "execution_count": 40,
   "id": "c976c71d",
   "metadata": {},
   "outputs": [
    {
     "name": "stdout",
     "output_type": "stream",
     "text": [
      "\n",
      "=== DOUBLE GAP MODIFIER OBJECT GAP POSITION: GAP+ ===\n",
      "\n",
      "=== MODEL SUMMARY ===\n",
      ":            MixedLM Dependent Variable: region_surprisal\n",
      "No. Observations: 80\n",
      "Method: REML\n",
      "No. Groups: 20\n",
      "Scale: 1.1734\n",
      "Min. group size: 4\n",
      "Log-Likelihood: -171.4212\n",
      "Max. group size: 4\n",
      "Converged: Yes\n",
      "Mean group size: 4.0\n",
      "\n",
      "=== FIXED EFFECTS COEFFICIENTS ===\n"
     ]
    },
    {
     "data": {
      "text/html": [
       "<div>\n",
       "<style scoped>\n",
       "    .dataframe tbody tr th:only-of-type {\n",
       "        vertical-align: middle;\n",
       "    }\n",
       "\n",
       "    .dataframe tbody tr th {\n",
       "        vertical-align: top;\n",
       "    }\n",
       "\n",
       "    .dataframe thead th {\n",
       "        text-align: right;\n",
       "    }\n",
       "</style>\n",
       "<table border=\"1\" class=\"dataframe\">\n",
       "  <thead>\n",
       "    <tr style=\"text-align: right;\">\n",
       "      <th></th>\n",
       "      <th>Parameter</th>\n",
       "      <th>Coef.</th>\n",
       "      <th>Std.Err.</th>\n",
       "      <th>z</th>\n",
       "      <th>P&gt;|z|</th>\n",
       "      <th>[0.025</th>\n",
       "      <th>0.975]</th>\n",
       "    </tr>\n",
       "  </thead>\n",
       "  <tbody>\n",
       "    <tr>\n",
       "      <th>0</th>\n",
       "      <td>Intercept</td>\n",
       "      <td>26.702</td>\n",
       "      <td>1.694</td>\n",
       "      <td>15.763</td>\n",
       "      <td>0.000</td>\n",
       "      <td>23.382</td>\n",
       "      <td>30.022</td>\n",
       "    </tr>\n",
       "    <tr>\n",
       "      <th>1</th>\n",
       "      <td>wh_numeric</td>\n",
       "      <td>-0.002</td>\n",
       "      <td>0.121</td>\n",
       "      <td>-0.015</td>\n",
       "      <td>0.988</td>\n",
       "      <td>-0.239</td>\n",
       "      <td>0.235</td>\n",
       "    </tr>\n",
       "  </tbody>\n",
       "</table>\n",
       "</div>"
      ],
      "text/plain": [
       "    Parameter   Coef. Std.Err.       z  P>|z|  [0.025  0.975]\n",
       "0   Intercept  26.702    1.694  15.763  0.000  23.382  30.022\n",
       "1  wh_numeric  -0.002    0.121  -0.015  0.988  -0.239   0.235"
      ]
     },
     "metadata": {},
     "output_type": "display_data"
    },
    {
     "name": "stdout",
     "output_type": "stream",
     "text": [
      "\n",
      "=== RANDOM EFFECTS / VARIANCE-COVARIANCE ===\n"
     ]
    },
    {
     "data": {
      "text/html": [
       "<div>\n",
       "<style scoped>\n",
       "    .dataframe tbody tr th:only-of-type {\n",
       "        vertical-align: middle;\n",
       "    }\n",
       "\n",
       "    .dataframe tbody tr th {\n",
       "        vertical-align: top;\n",
       "    }\n",
       "\n",
       "    .dataframe thead th {\n",
       "        text-align: right;\n",
       "    }\n",
       "</style>\n",
       "<table border=\"1\" class=\"dataframe\">\n",
       "  <thead>\n",
       "    <tr style=\"text-align: right;\">\n",
       "      <th></th>\n",
       "      <th>Parameter</th>\n",
       "      <th>Coef.</th>\n",
       "      <th>Std.Err.</th>\n",
       "    </tr>\n",
       "  </thead>\n",
       "  <tbody>\n",
       "    <tr>\n",
       "      <th>0</th>\n",
       "      <td>Group Var</td>\n",
       "      <td>57.097</td>\n",
       "      <td>19.763</td>\n",
       "    </tr>\n",
       "  </tbody>\n",
       "</table>\n",
       "</div>"
      ],
      "text/plain": [
       "   Parameter   Coef. Std.Err.\n",
       "0  Group Var  57.097   19.763"
      ]
     },
     "metadata": {},
     "output_type": "display_data"
    },
    {
     "data": {
      "text/plain": [
       "<statsmodels.regression.mixed_linear_model.MixedLMResultsWrapper at 0x15382e589eb0>"
      ]
     },
     "execution_count": 40,
     "metadata": {},
     "output_type": "execute_result"
    }
   ],
   "source": [
    "# flip test: gap+\n",
    "gap_df = objectgap_df[objectgap_df['gap_numeric'] == 1]\n",
    "iv_list = ['wh_numeric']\n",
    "mixed_effects_linear_regression(gap_df, iv_list, 'region_surprisal', 'double gap modifier object gap position: gap+')"
   ]
  },
  {
   "cell_type": "code",
   "execution_count": 41,
   "id": "1a6c9d5f",
   "metadata": {},
   "outputs": [
    {
     "name": "stdout",
     "output_type": "stream",
     "text": [
      "\n",
      "=== DOUBLE GAP MODIFIER OBJECT GAP POSITION: DIVISION BY GRAMMATICALITY ===\n",
      "\n",
      "=== MODEL SUMMARY ===\n",
      "Model: MixedLM\n",
      "Dependent Variable: region_surprisal\n",
      "No. Observations: 120\n",
      "Method: REML\n",
      "No. Groups: 20\n",
      "Scale: 57.5070\n",
      "Min. group size: 6\n",
      "Log-Likelihood: -420.7590\n",
      "Max. group size: 6\n",
      "Converged: Yes\n",
      "Mean group size: 6.0\n",
      "\n",
      "=== FIXED EFFECTS COEFFICIENTS ===\n"
     ]
    },
    {
     "data": {
      "text/html": [
       "<div>\n",
       "<style scoped>\n",
       "    .dataframe tbody tr th:only-of-type {\n",
       "        vertical-align: middle;\n",
       "    }\n",
       "\n",
       "    .dataframe tbody tr th {\n",
       "        vertical-align: top;\n",
       "    }\n",
       "\n",
       "    .dataframe thead th {\n",
       "        text-align: right;\n",
       "    }\n",
       "</style>\n",
       "<table border=\"1\" class=\"dataframe\">\n",
       "  <thead>\n",
       "    <tr style=\"text-align: right;\">\n",
       "      <th></th>\n",
       "      <th>Parameter</th>\n",
       "      <th>Coef.</th>\n",
       "      <th>Std.Err.</th>\n",
       "      <th>z</th>\n",
       "      <th>P&gt;|z|</th>\n",
       "      <th>[0.025</th>\n",
       "      <th>0.975]</th>\n",
       "    </tr>\n",
       "  </thead>\n",
       "  <tbody>\n",
       "    <tr>\n",
       "      <th>0</th>\n",
       "      <td>Intercept</td>\n",
       "      <td>22.814</td>\n",
       "      <td>1.370</td>\n",
       "      <td>16.653</td>\n",
       "      <td>0.000</td>\n",
       "      <td>20.129</td>\n",
       "      <td>25.499</td>\n",
       "    </tr>\n",
       "    <tr>\n",
       "      <th>1</th>\n",
       "      <td>grammaticality[T.gram-]</td>\n",
       "      <td>-0.023</td>\n",
       "      <td>1.385</td>\n",
       "      <td>-0.016</td>\n",
       "      <td>0.987</td>\n",
       "      <td>-2.736</td>\n",
       "      <td>2.691</td>\n",
       "    </tr>\n",
       "  </tbody>\n",
       "</table>\n",
       "</div>"
      ],
      "text/plain": [
       "                 Parameter   Coef. Std.Err.       z  P>|z|  [0.025  0.975]\n",
       "0                Intercept  22.814    1.370  16.653  0.000  20.129  25.499\n",
       "1  grammaticality[T.gram-]  -0.023    1.385  -0.016  0.987  -2.736   2.691"
      ]
     },
     "metadata": {},
     "output_type": "display_data"
    },
    {
     "name": "stdout",
     "output_type": "stream",
     "text": [
      "\n",
      "=== RANDOM EFFECTS / VARIANCE-COVARIANCE ===\n"
     ]
    },
    {
     "data": {
      "text/html": [
       "<div>\n",
       "<style scoped>\n",
       "    .dataframe tbody tr th:only-of-type {\n",
       "        vertical-align: middle;\n",
       "    }\n",
       "\n",
       "    .dataframe tbody tr th {\n",
       "        vertical-align: top;\n",
       "    }\n",
       "\n",
       "    .dataframe thead th {\n",
       "        text-align: right;\n",
       "    }\n",
       "</style>\n",
       "<table border=\"1\" class=\"dataframe\">\n",
       "  <thead>\n",
       "    <tr style=\"text-align: right;\">\n",
       "      <th></th>\n",
       "      <th>Parameter</th>\n",
       "      <th>Coef.</th>\n",
       "      <th>Std.Err.</th>\n",
       "    </tr>\n",
       "  </thead>\n",
       "  <tbody>\n",
       "    <tr>\n",
       "      <th>0</th>\n",
       "      <td>Group Var</td>\n",
       "      <td>18.365</td>\n",
       "      <td>1.305</td>\n",
       "    </tr>\n",
       "  </tbody>\n",
       "</table>\n",
       "</div>"
      ],
      "text/plain": [
       "   Parameter   Coef. Std.Err.\n",
       "0  Group Var  18.365    1.305"
      ]
     },
     "metadata": {},
     "output_type": "display_data"
    },
    {
     "data": {
      "text/plain": [
       "<statsmodels.regression.mixed_linear_model.MixedLMResultsWrapper at 0x15382e59cf40>"
      ]
     },
     "execution_count": 41,
     "metadata": {},
     "output_type": "execute_result"
    }
   ],
   "source": [
    "# division by grammaticality\n",
    "iv_list = ['grammaticality']\n",
    "mixed_effects_linear_regression(objectgap_df, iv_list, 'region_surprisal', 'double gap modifier object gap position: division by grammaticality')"
   ]
  },
  {
   "cell_type": "markdown",
   "id": "8093b5cf",
   "metadata": {},
   "source": [
    "Embedded Clause"
   ]
  },
  {
   "cell_type": "code",
   "execution_count": 42,
   "id": "d8678386",
   "metadata": {},
   "outputs": [],
   "source": [
    "embed = ['subj', 'object', 'verb', 'modifier', 'end']\n",
    "sentence_df['embed_surprisal'] = sentence_df.apply(lambda x: sum_region_surprisal(x, embed, normalize = True), axis = 1)"
   ]
  },
  {
   "cell_type": "code",
   "execution_count": 43,
   "id": "06f1720f",
   "metadata": {},
   "outputs": [
    {
     "name": "stdout",
     "output_type": "stream",
     "text": [
      "\n",
      "=== DOUBLE GAP EMBED: GAP- ===\n",
      "\n",
      "=== MODEL SUMMARY ===\n",
      ":            MixedLM Dependent Variable: embed_surprisal\n",
      "No. Observations: 40\n",
      "Method: REML\n",
      "No. Groups: 20\n",
      "Scale: 0.0098\n",
      "Min. group size: 2\n",
      "Log-Likelihood: -9.6069\n",
      "Max. group size: 2\n",
      "Converged: Yes\n",
      "Mean group size: 2.0\n",
      "\n",
      "=== FIXED EFFECTS COEFFICIENTS ===\n"
     ]
    },
    {
     "data": {
      "text/html": [
       "<div>\n",
       "<style scoped>\n",
       "    .dataframe tbody tr th:only-of-type {\n",
       "        vertical-align: middle;\n",
       "    }\n",
       "\n",
       "    .dataframe tbody tr th {\n",
       "        vertical-align: top;\n",
       "    }\n",
       "\n",
       "    .dataframe thead th {\n",
       "        text-align: right;\n",
       "    }\n",
       "</style>\n",
       "<table border=\"1\" class=\"dataframe\">\n",
       "  <thead>\n",
       "    <tr style=\"text-align: right;\">\n",
       "      <th></th>\n",
       "      <th>Parameter</th>\n",
       "      <th>Coef.</th>\n",
       "      <th>Std.Err.</th>\n",
       "      <th>z</th>\n",
       "      <th>P&gt;|z|</th>\n",
       "      <th>[0.025</th>\n",
       "      <th>0.975]</th>\n",
       "    </tr>\n",
       "  </thead>\n",
       "  <tbody>\n",
       "    <tr>\n",
       "      <th>0</th>\n",
       "      <td>Intercept</td>\n",
       "      <td>6.599</td>\n",
       "      <td>0.128</td>\n",
       "      <td>51.675</td>\n",
       "      <td>0.000</td>\n",
       "      <td>6.349</td>\n",
       "      <td>6.850</td>\n",
       "    </tr>\n",
       "    <tr>\n",
       "      <th>1</th>\n",
       "      <td>wh_numeric</td>\n",
       "      <td>-0.010</td>\n",
       "      <td>0.016</td>\n",
       "      <td>-0.669</td>\n",
       "      <td>0.504</td>\n",
       "      <td>-0.041</td>\n",
       "      <td>0.020</td>\n",
       "    </tr>\n",
       "  </tbody>\n",
       "</table>\n",
       "</div>"
      ],
      "text/plain": [
       "    Parameter   Coef. Std.Err.       z  P>|z|  [0.025 0.975]\n",
       "0   Intercept   6.599    0.128  51.675  0.000   6.349  6.850\n",
       "1  wh_numeric  -0.010    0.016  -0.669  0.504  -0.041  0.020"
      ]
     },
     "metadata": {},
     "output_type": "display_data"
    },
    {
     "name": "stdout",
     "output_type": "stream",
     "text": [
      "\n",
      "=== RANDOM EFFECTS / VARIANCE-COVARIANCE ===\n"
     ]
    },
    {
     "data": {
      "text/html": [
       "<div>\n",
       "<style scoped>\n",
       "    .dataframe tbody tr th:only-of-type {\n",
       "        vertical-align: middle;\n",
       "    }\n",
       "\n",
       "    .dataframe tbody tr th {\n",
       "        vertical-align: top;\n",
       "    }\n",
       "\n",
       "    .dataframe thead th {\n",
       "        text-align: right;\n",
       "    }\n",
       "</style>\n",
       "<table border=\"1\" class=\"dataframe\">\n",
       "  <thead>\n",
       "    <tr style=\"text-align: right;\">\n",
       "      <th></th>\n",
       "      <th>Parameter</th>\n",
       "      <th>Coef.</th>\n",
       "      <th>Std.Err.</th>\n",
       "    </tr>\n",
       "  </thead>\n",
       "  <tbody>\n",
       "    <tr>\n",
       "      <th>0</th>\n",
       "      <td>Group Var</td>\n",
       "      <td>0.321</td>\n",
       "      <td>1.512</td>\n",
       "    </tr>\n",
       "  </tbody>\n",
       "</table>\n",
       "</div>"
      ],
      "text/plain": [
       "   Parameter  Coef. Std.Err.\n",
       "0  Group Var  0.321    1.512"
      ]
     },
     "metadata": {},
     "output_type": "display_data"
    },
    {
     "data": {
      "text/plain": [
       "<statsmodels.regression.mixed_linear_model.MixedLMResultsWrapper at 0x15382e5ea580>"
      ]
     },
     "execution_count": 43,
     "metadata": {},
     "output_type": "execute_result"
    }
   ],
   "source": [
    "# flip test: gap-\n",
    "no_gap_df = sentence_df[sentence_df['gap_numeric'] == -1]\n",
    "iv_list = ['wh_numeric']\n",
    "mixed_effects_linear_regression(no_gap_df, iv_list, 'embed_surprisal', 'double gap embed: gap-')"
   ]
  },
  {
   "cell_type": "code",
   "execution_count": 44,
   "id": "acfb10a3",
   "metadata": {},
   "outputs": [
    {
     "name": "stdout",
     "output_type": "stream",
     "text": [
      "\n",
      "=== DOUBLE GAP EMBED: GAP+ ===\n",
      "\n",
      "=== MODEL SUMMARY ===\n",
      ":            MixedLM Dependent Variable: embed_surprisal\n",
      "No. Observations: 120\n",
      "Method: REML\n",
      "No. Groups: 20\n",
      "Scale: 0.1797\n",
      "Min. group size: 6\n",
      "Log-Likelihood: -95.4713\n",
      "Max. group size: 6\n",
      "Converged: Yes\n",
      "Mean group size: 6.0\n",
      "\n",
      "=== FIXED EFFECTS COEFFICIENTS ===\n"
     ]
    },
    {
     "data": {
      "text/html": [
       "<div>\n",
       "<style scoped>\n",
       "    .dataframe tbody tr th:only-of-type {\n",
       "        vertical-align: middle;\n",
       "    }\n",
       "\n",
       "    .dataframe tbody tr th {\n",
       "        vertical-align: top;\n",
       "    }\n",
       "\n",
       "    .dataframe thead th {\n",
       "        text-align: right;\n",
       "    }\n",
       "</style>\n",
       "<table border=\"1\" class=\"dataframe\">\n",
       "  <thead>\n",
       "    <tr style=\"text-align: right;\">\n",
       "      <th></th>\n",
       "      <th>Parameter</th>\n",
       "      <th>Coef.</th>\n",
       "      <th>Std.Err.</th>\n",
       "      <th>z</th>\n",
       "      <th>P&gt;|z|</th>\n",
       "      <th>[0.025</th>\n",
       "      <th>0.975]</th>\n",
       "    </tr>\n",
       "  </thead>\n",
       "  <tbody>\n",
       "    <tr>\n",
       "      <th>0</th>\n",
       "      <td>Intercept</td>\n",
       "      <td>6.272</td>\n",
       "      <td>0.141</td>\n",
       "      <td>44.612</td>\n",
       "      <td>0.000</td>\n",
       "      <td>5.996</td>\n",
       "      <td>6.547</td>\n",
       "    </tr>\n",
       "    <tr>\n",
       "      <th>1</th>\n",
       "      <td>wh_numeric</td>\n",
       "      <td>0.027</td>\n",
       "      <td>0.039</td>\n",
       "      <td>0.697</td>\n",
       "      <td>0.486</td>\n",
       "      <td>-0.049</td>\n",
       "      <td>0.103</td>\n",
       "    </tr>\n",
       "  </tbody>\n",
       "</table>\n",
       "</div>"
      ],
      "text/plain": [
       "    Parameter  Coef. Std.Err.       z  P>|z|  [0.025 0.975]\n",
       "0   Intercept  6.272    0.141  44.612  0.000   5.996  6.547\n",
       "1  wh_numeric  0.027    0.039   0.697  0.486  -0.049  0.103"
      ]
     },
     "metadata": {},
     "output_type": "display_data"
    },
    {
     "name": "stdout",
     "output_type": "stream",
     "text": [
      "\n",
      "=== RANDOM EFFECTS / VARIANCE-COVARIANCE ===\n"
     ]
    },
    {
     "data": {
      "text/html": [
       "<div>\n",
       "<style scoped>\n",
       "    .dataframe tbody tr th:only-of-type {\n",
       "        vertical-align: middle;\n",
       "    }\n",
       "\n",
       "    .dataframe tbody tr th {\n",
       "        vertical-align: top;\n",
       "    }\n",
       "\n",
       "    .dataframe thead th {\n",
       "        text-align: right;\n",
       "    }\n",
       "</style>\n",
       "<table border=\"1\" class=\"dataframe\">\n",
       "  <thead>\n",
       "    <tr style=\"text-align: right;\">\n",
       "      <th></th>\n",
       "      <th>Parameter</th>\n",
       "      <th>Coef.</th>\n",
       "      <th>Std.Err.</th>\n",
       "    </tr>\n",
       "  </thead>\n",
       "  <tbody>\n",
       "    <tr>\n",
       "      <th>0</th>\n",
       "      <td>Group Var</td>\n",
       "      <td>0.365</td>\n",
       "      <td>0.330</td>\n",
       "    </tr>\n",
       "  </tbody>\n",
       "</table>\n",
       "</div>"
      ],
      "text/plain": [
       "   Parameter  Coef. Std.Err.\n",
       "0  Group Var  0.365    0.330"
      ]
     },
     "metadata": {},
     "output_type": "display_data"
    },
    {
     "data": {
      "text/plain": [
       "<statsmodels.regression.mixed_linear_model.MixedLMResultsWrapper at 0x15382e5db820>"
      ]
     },
     "execution_count": 44,
     "metadata": {},
     "output_type": "execute_result"
    }
   ],
   "source": [
    "# flip test: gap+\n",
    "gap_df = sentence_df[sentence_df['gap_numeric'] == 1]\n",
    "iv_list = ['wh_numeric']\n",
    "mixed_effects_linear_regression(gap_df, iv_list, 'embed_surprisal', 'double gap embed: gap+')"
   ]
  },
  {
   "cell_type": "code",
   "execution_count": 45,
   "id": "d26b0819",
   "metadata": {},
   "outputs": [
    {
     "name": "stdout",
     "output_type": "stream",
     "text": [
      "\n",
      "=== DOUBLE GAP EMBED: DIVISION BY GRAMMATICALITY ===\n",
      "\n",
      "=== MODEL SUMMARY ===\n",
      "Model: MixedLM\n",
      "Dependent Variable: embed_surprisal\n",
      "No. Observations: 160\n",
      "Method: REML\n",
      "No. Groups: 20\n",
      "Scale: 0.1842\n",
      "Min. group size: 8\n",
      "Log-Likelihood: -120.7632\n",
      "Max. group size: 8\n",
      "Converged: Yes\n",
      "Mean group size: 8.0\n",
      "\n",
      "=== FIXED EFFECTS COEFFICIENTS ===\n"
     ]
    },
    {
     "data": {
      "text/html": [
       "<div>\n",
       "<style scoped>\n",
       "    .dataframe tbody tr th:only-of-type {\n",
       "        vertical-align: middle;\n",
       "    }\n",
       "\n",
       "    .dataframe tbody tr th {\n",
       "        vertical-align: top;\n",
       "    }\n",
       "\n",
       "    .dataframe thead th {\n",
       "        text-align: right;\n",
       "    }\n",
       "</style>\n",
       "<table border=\"1\" class=\"dataframe\">\n",
       "  <thead>\n",
       "    <tr style=\"text-align: right;\">\n",
       "      <th></th>\n",
       "      <th>Parameter</th>\n",
       "      <th>Coef.</th>\n",
       "      <th>Std.Err.</th>\n",
       "      <th>z</th>\n",
       "      <th>P&gt;|z|</th>\n",
       "      <th>[0.025</th>\n",
       "      <th>0.975]</th>\n",
       "    </tr>\n",
       "  </thead>\n",
       "  <tbody>\n",
       "    <tr>\n",
       "      <th>0</th>\n",
       "      <td>Intercept</td>\n",
       "      <td>6.377</td>\n",
       "      <td>0.136</td>\n",
       "      <td>46.750</td>\n",
       "      <td>0.000</td>\n",
       "      <td>6.109</td>\n",
       "      <td>6.644</td>\n",
       "    </tr>\n",
       "    <tr>\n",
       "      <th>1</th>\n",
       "      <td>grammaticality[T.gram-]</td>\n",
       "      <td>-0.046</td>\n",
       "      <td>0.068</td>\n",
       "      <td>-0.673</td>\n",
       "      <td>0.501</td>\n",
       "      <td>-0.179</td>\n",
       "      <td>0.087</td>\n",
       "    </tr>\n",
       "  </tbody>\n",
       "</table>\n",
       "</div>"
      ],
      "text/plain": [
       "                 Parameter   Coef. Std.Err.       z  P>|z|  [0.025 0.975]\n",
       "0                Intercept   6.377    0.136  46.750  0.000   6.109  6.644\n",
       "1  grammaticality[T.gram-]  -0.046    0.068  -0.673  0.501  -0.179  0.087"
      ]
     },
     "metadata": {},
     "output_type": "display_data"
    },
    {
     "name": "stdout",
     "output_type": "stream",
     "text": [
      "\n",
      "=== RANDOM EFFECTS / VARIANCE-COVARIANCE ===\n"
     ]
    },
    {
     "data": {
      "text/html": [
       "<div>\n",
       "<style scoped>\n",
       "    .dataframe tbody tr th:only-of-type {\n",
       "        vertical-align: middle;\n",
       "    }\n",
       "\n",
       "    .dataframe tbody tr th {\n",
       "        vertical-align: top;\n",
       "    }\n",
       "\n",
       "    .dataframe thead th {\n",
       "        text-align: right;\n",
       "    }\n",
       "</style>\n",
       "<table border=\"1\" class=\"dataframe\">\n",
       "  <thead>\n",
       "    <tr style=\"text-align: right;\">\n",
       "      <th></th>\n",
       "      <th>Parameter</th>\n",
       "      <th>Coef.</th>\n",
       "      <th>Std.Err.</th>\n",
       "    </tr>\n",
       "  </thead>\n",
       "  <tbody>\n",
       "    <tr>\n",
       "      <th>0</th>\n",
       "      <td>Group Var</td>\n",
       "      <td>0.326</td>\n",
       "      <td>0.281</td>\n",
       "    </tr>\n",
       "  </tbody>\n",
       "</table>\n",
       "</div>"
      ],
      "text/plain": [
       "   Parameter  Coef. Std.Err.\n",
       "0  Group Var  0.326    0.281"
      ]
     },
     "metadata": {},
     "output_type": "display_data"
    },
    {
     "data": {
      "text/plain": [
       "<statsmodels.regression.mixed_linear_model.MixedLMResultsWrapper at 0x15382e5cb100>"
      ]
     },
     "execution_count": 45,
     "metadata": {},
     "output_type": "execute_result"
    }
   ],
   "source": [
    "# division by grammaticality\n",
    "iv_list = ['grammaticality']\n",
    "mixed_effects_linear_regression(sentence_df, iv_list, 'embed_surprisal', 'double gap embed: division by grammaticality')"
   ]
  },
  {
   "cell_type": "markdown",
   "id": "1a8cf03d",
   "metadata": {},
   "source": [
    "Subject Gap Position"
   ]
  },
  {
   "cell_type": "code",
   "execution_count": 46,
   "id": "3ae4cfcd",
   "metadata": {},
   "outputs": [],
   "source": [
    "subjectgap_df = sentence_df[sentence_df['condition'].isin(['a', 'b', 'd', 'e', 'f', 'h'])]"
   ]
  },
  {
   "cell_type": "code",
   "execution_count": 47,
   "id": "6a27ca70",
   "metadata": {},
   "outputs": [
    {
     "name": "stdout",
     "output_type": "stream",
     "text": [
      "\n",
      "=== DOUBLE GAP EMBED SUBJECT GAP POSITION: GAP- ===\n",
      "\n",
      "=== MODEL SUMMARY ===\n",
      ":            MixedLM Dependent Variable: embed_surprisal\n",
      "No. Observations: 40\n",
      "Method: REML\n",
      "No. Groups: 20\n",
      "Scale: 0.0098\n",
      "Min. group size: 2\n",
      "Log-Likelihood: -9.6069\n",
      "Max. group size: 2\n",
      "Converged: Yes\n",
      "Mean group size: 2.0\n",
      "\n",
      "=== FIXED EFFECTS COEFFICIENTS ===\n"
     ]
    },
    {
     "data": {
      "text/html": [
       "<div>\n",
       "<style scoped>\n",
       "    .dataframe tbody tr th:only-of-type {\n",
       "        vertical-align: middle;\n",
       "    }\n",
       "\n",
       "    .dataframe tbody tr th {\n",
       "        vertical-align: top;\n",
       "    }\n",
       "\n",
       "    .dataframe thead th {\n",
       "        text-align: right;\n",
       "    }\n",
       "</style>\n",
       "<table border=\"1\" class=\"dataframe\">\n",
       "  <thead>\n",
       "    <tr style=\"text-align: right;\">\n",
       "      <th></th>\n",
       "      <th>Parameter</th>\n",
       "      <th>Coef.</th>\n",
       "      <th>Std.Err.</th>\n",
       "      <th>z</th>\n",
       "      <th>P&gt;|z|</th>\n",
       "      <th>[0.025</th>\n",
       "      <th>0.975]</th>\n",
       "    </tr>\n",
       "  </thead>\n",
       "  <tbody>\n",
       "    <tr>\n",
       "      <th>0</th>\n",
       "      <td>Intercept</td>\n",
       "      <td>6.599</td>\n",
       "      <td>0.128</td>\n",
       "      <td>51.675</td>\n",
       "      <td>0.000</td>\n",
       "      <td>6.349</td>\n",
       "      <td>6.850</td>\n",
       "    </tr>\n",
       "    <tr>\n",
       "      <th>1</th>\n",
       "      <td>wh_numeric</td>\n",
       "      <td>-0.010</td>\n",
       "      <td>0.016</td>\n",
       "      <td>-0.669</td>\n",
       "      <td>0.504</td>\n",
       "      <td>-0.041</td>\n",
       "      <td>0.020</td>\n",
       "    </tr>\n",
       "  </tbody>\n",
       "</table>\n",
       "</div>"
      ],
      "text/plain": [
       "    Parameter   Coef. Std.Err.       z  P>|z|  [0.025 0.975]\n",
       "0   Intercept   6.599    0.128  51.675  0.000   6.349  6.850\n",
       "1  wh_numeric  -0.010    0.016  -0.669  0.504  -0.041  0.020"
      ]
     },
     "metadata": {},
     "output_type": "display_data"
    },
    {
     "name": "stdout",
     "output_type": "stream",
     "text": [
      "\n",
      "=== RANDOM EFFECTS / VARIANCE-COVARIANCE ===\n"
     ]
    },
    {
     "data": {
      "text/html": [
       "<div>\n",
       "<style scoped>\n",
       "    .dataframe tbody tr th:only-of-type {\n",
       "        vertical-align: middle;\n",
       "    }\n",
       "\n",
       "    .dataframe tbody tr th {\n",
       "        vertical-align: top;\n",
       "    }\n",
       "\n",
       "    .dataframe thead th {\n",
       "        text-align: right;\n",
       "    }\n",
       "</style>\n",
       "<table border=\"1\" class=\"dataframe\">\n",
       "  <thead>\n",
       "    <tr style=\"text-align: right;\">\n",
       "      <th></th>\n",
       "      <th>Parameter</th>\n",
       "      <th>Coef.</th>\n",
       "      <th>Std.Err.</th>\n",
       "    </tr>\n",
       "  </thead>\n",
       "  <tbody>\n",
       "    <tr>\n",
       "      <th>0</th>\n",
       "      <td>Group Var</td>\n",
       "      <td>0.321</td>\n",
       "      <td>1.512</td>\n",
       "    </tr>\n",
       "  </tbody>\n",
       "</table>\n",
       "</div>"
      ],
      "text/plain": [
       "   Parameter  Coef. Std.Err.\n",
       "0  Group Var  0.321    1.512"
      ]
     },
     "metadata": {},
     "output_type": "display_data"
    },
    {
     "data": {
      "text/plain": [
       "<statsmodels.regression.mixed_linear_model.MixedLMResultsWrapper at 0x15382e5dec70>"
      ]
     },
     "execution_count": 47,
     "metadata": {},
     "output_type": "execute_result"
    }
   ],
   "source": [
    "# flip test: gap-\n",
    "no_gap_df = subjectgap_df[subjectgap_df['gap_numeric'] == -1]\n",
    "iv_list = ['wh_numeric']\n",
    "mixed_effects_linear_regression(no_gap_df, iv_list, 'embed_surprisal', 'double gap embed subject gap position: gap-')"
   ]
  },
  {
   "cell_type": "code",
   "execution_count": 48,
   "id": "260dbea4",
   "metadata": {},
   "outputs": [
    {
     "name": "stdout",
     "output_type": "stream",
     "text": [
      "\n",
      "=== DOUBLE GAP EMBED SUBJECT GAP POSITION: GAP+ ===\n",
      "\n",
      "=== MODEL SUMMARY ===\n",
      ":            MixedLM Dependent Variable: embed_surprisal\n",
      "No. Observations: 80\n",
      "Method: REML\n",
      "No. Groups: 20\n",
      "Scale: 0.1512\n",
      "Min. group size: 4\n",
      "Log-Likelihood: -63.8504\n",
      "Max. group size: 4\n",
      "Converged: Yes\n",
      "Mean group size: 4.0\n",
      "\n",
      "=== FIXED EFFECTS COEFFICIENTS ===\n"
     ]
    },
    {
     "data": {
      "text/html": [
       "<div>\n",
       "<style scoped>\n",
       "    .dataframe tbody tr th:only-of-type {\n",
       "        vertical-align: middle;\n",
       "    }\n",
       "\n",
       "    .dataframe tbody tr th {\n",
       "        vertical-align: top;\n",
       "    }\n",
       "\n",
       "    .dataframe thead th {\n",
       "        text-align: right;\n",
       "    }\n",
       "</style>\n",
       "<table border=\"1\" class=\"dataframe\">\n",
       "  <thead>\n",
       "    <tr style=\"text-align: right;\">\n",
       "      <th></th>\n",
       "      <th>Parameter</th>\n",
       "      <th>Coef.</th>\n",
       "      <th>Std.Err.</th>\n",
       "      <th>z</th>\n",
       "      <th>P&gt;|z|</th>\n",
       "      <th>[0.025</th>\n",
       "      <th>0.975]</th>\n",
       "    </tr>\n",
       "  </thead>\n",
       "  <tbody>\n",
       "    <tr>\n",
       "      <th>0</th>\n",
       "      <td>Intercept</td>\n",
       "      <td>6.179</td>\n",
       "      <td>0.142</td>\n",
       "      <td>43.584</td>\n",
       "      <td>0.000</td>\n",
       "      <td>5.901</td>\n",
       "      <td>6.457</td>\n",
       "    </tr>\n",
       "    <tr>\n",
       "      <th>1</th>\n",
       "      <td>wh_numeric</td>\n",
       "      <td>0.050</td>\n",
       "      <td>0.043</td>\n",
       "      <td>1.145</td>\n",
       "      <td>0.252</td>\n",
       "      <td>-0.035</td>\n",
       "      <td>0.135</td>\n",
       "    </tr>\n",
       "  </tbody>\n",
       "</table>\n",
       "</div>"
      ],
      "text/plain": [
       "    Parameter  Coef. Std.Err.       z  P>|z|  [0.025 0.975]\n",
       "0   Intercept  6.179    0.142  43.584  0.000   5.901  6.457\n",
       "1  wh_numeric  0.050    0.043   1.145  0.252  -0.035  0.135"
      ]
     },
     "metadata": {},
     "output_type": "display_data"
    },
    {
     "name": "stdout",
     "output_type": "stream",
     "text": [
      "\n",
      "=== RANDOM EFFECTS / VARIANCE-COVARIANCE ===\n"
     ]
    },
    {
     "data": {
      "text/html": [
       "<div>\n",
       "<style scoped>\n",
       "    .dataframe tbody tr th:only-of-type {\n",
       "        vertical-align: middle;\n",
       "    }\n",
       "\n",
       "    .dataframe tbody tr th {\n",
       "        vertical-align: top;\n",
       "    }\n",
       "\n",
       "    .dataframe thead th {\n",
       "        text-align: right;\n",
       "    }\n",
       "</style>\n",
       "<table border=\"1\" class=\"dataframe\">\n",
       "  <thead>\n",
       "    <tr style=\"text-align: right;\">\n",
       "      <th></th>\n",
       "      <th>Parameter</th>\n",
       "      <th>Coef.</th>\n",
       "      <th>Std.Err.</th>\n",
       "    </tr>\n",
       "  </thead>\n",
       "  <tbody>\n",
       "    <tr>\n",
       "      <th>0</th>\n",
       "      <td>Group Var</td>\n",
       "      <td>0.364</td>\n",
       "      <td>0.386</td>\n",
       "    </tr>\n",
       "  </tbody>\n",
       "</table>\n",
       "</div>"
      ],
      "text/plain": [
       "   Parameter  Coef. Std.Err.\n",
       "0  Group Var  0.364    0.386"
      ]
     },
     "metadata": {},
     "output_type": "display_data"
    },
    {
     "data": {
      "text/plain": [
       "<statsmodels.regression.mixed_linear_model.MixedLMResultsWrapper at 0x15382e5850a0>"
      ]
     },
     "execution_count": 48,
     "metadata": {},
     "output_type": "execute_result"
    }
   ],
   "source": [
    "# flip test: gap+\n",
    "gap_df = subjectgap_df[subjectgap_df['gap_numeric'] == 1]\n",
    "iv_list = ['wh_numeric']\n",
    "mixed_effects_linear_regression(gap_df, iv_list, 'embed_surprisal', 'double gap embed subject gap position: gap+')"
   ]
  },
  {
   "cell_type": "code",
   "execution_count": 49,
   "id": "3387286f",
   "metadata": {},
   "outputs": [
    {
     "name": "stdout",
     "output_type": "stream",
     "text": [
      "\n",
      "=== DOUBLE GAP EMBED SUBJECT GAP POSITION: DIVISION BY GRAMMATICALITY ===\n",
      "\n",
      "=== MODEL SUMMARY ===\n",
      "Model: MixedLM\n",
      "Dependent Variable: embed_surprisal\n",
      "No. Observations: 120\n",
      "Method: REML\n",
      "No. Groups: 20\n",
      "Scale: 0.2031\n",
      "Min. group size: 6\n",
      "Log-Likelihood: -98.8679\n",
      "Max. group size: 6\n",
      "Converged: Yes\n",
      "Mean group size: 6.0\n",
      "\n",
      "=== FIXED EFFECTS COEFFICIENTS ===\n"
     ]
    },
    {
     "data": {
      "text/html": [
       "<div>\n",
       "<style scoped>\n",
       "    .dataframe tbody tr th:only-of-type {\n",
       "        vertical-align: middle;\n",
       "    }\n",
       "\n",
       "    .dataframe tbody tr th {\n",
       "        vertical-align: top;\n",
       "    }\n",
       "\n",
       "    .dataframe thead th {\n",
       "        text-align: right;\n",
       "    }\n",
       "</style>\n",
       "<table border=\"1\" class=\"dataframe\">\n",
       "  <thead>\n",
       "    <tr style=\"text-align: right;\">\n",
       "      <th></th>\n",
       "      <th>Parameter</th>\n",
       "      <th>Coef.</th>\n",
       "      <th>Std.Err.</th>\n",
       "      <th>z</th>\n",
       "      <th>P&gt;|z|</th>\n",
       "      <th>[0.025</th>\n",
       "      <th>0.975]</th>\n",
       "    </tr>\n",
       "  </thead>\n",
       "  <tbody>\n",
       "    <tr>\n",
       "      <th>0</th>\n",
       "      <td>Intercept</td>\n",
       "      <td>6.356</td>\n",
       "      <td>0.133</td>\n",
       "      <td>47.649</td>\n",
       "      <td>0.000</td>\n",
       "      <td>6.094</td>\n",
       "      <td>6.617</td>\n",
       "    </tr>\n",
       "    <tr>\n",
       "      <th>1</th>\n",
       "      <td>grammaticality[T.gram-]</td>\n",
       "      <td>-0.073</td>\n",
       "      <td>0.082</td>\n",
       "      <td>-0.891</td>\n",
       "      <td>0.373</td>\n",
       "      <td>-0.235</td>\n",
       "      <td>0.088</td>\n",
       "    </tr>\n",
       "  </tbody>\n",
       "</table>\n",
       "</div>"
      ],
      "text/plain": [
       "                 Parameter   Coef. Std.Err.       z  P>|z|  [0.025 0.975]\n",
       "0                Intercept   6.356    0.133  47.649  0.000   6.094  6.617\n",
       "1  grammaticality[T.gram-]  -0.073    0.082  -0.891  0.373  -0.235  0.088"
      ]
     },
     "metadata": {},
     "output_type": "display_data"
    },
    {
     "name": "stdout",
     "output_type": "stream",
     "text": [
      "\n",
      "=== RANDOM EFFECTS / VARIANCE-COVARIANCE ===\n"
     ]
    },
    {
     "data": {
      "text/html": [
       "<div>\n",
       "<style scoped>\n",
       "    .dataframe tbody tr th:only-of-type {\n",
       "        vertical-align: middle;\n",
       "    }\n",
       "\n",
       "    .dataframe tbody tr th {\n",
       "        vertical-align: top;\n",
       "    }\n",
       "\n",
       "    .dataframe thead th {\n",
       "        text-align: right;\n",
       "    }\n",
       "</style>\n",
       "<table border=\"1\" class=\"dataframe\">\n",
       "  <thead>\n",
       "    <tr style=\"text-align: right;\">\n",
       "      <th></th>\n",
       "      <th>Parameter</th>\n",
       "      <th>Coef.</th>\n",
       "      <th>Std.Err.</th>\n",
       "    </tr>\n",
       "  </thead>\n",
       "  <tbody>\n",
       "    <tr>\n",
       "      <th>0</th>\n",
       "      <td>Group Var</td>\n",
       "      <td>0.288</td>\n",
       "      <td>0.253</td>\n",
       "    </tr>\n",
       "  </tbody>\n",
       "</table>\n",
       "</div>"
      ],
      "text/plain": [
       "   Parameter  Coef. Std.Err.\n",
       "0  Group Var  0.288    0.253"
      ]
     },
     "metadata": {},
     "output_type": "display_data"
    },
    {
     "data": {
      "text/plain": [
       "<statsmodels.regression.mixed_linear_model.MixedLMResultsWrapper at 0x15382e5a8880>"
      ]
     },
     "execution_count": 49,
     "metadata": {},
     "output_type": "execute_result"
    }
   ],
   "source": [
    "# division by grammaticality\n",
    "iv_list = ['grammaticality']\n",
    "mixed_effects_linear_regression(subjectgap_df, iv_list, 'embed_surprisal', 'double gap embed subject gap position: division by grammaticality')"
   ]
  },
  {
   "cell_type": "markdown",
   "id": "f1ceddd3",
   "metadata": {},
   "source": [
    "Object Gap Position"
   ]
  },
  {
   "cell_type": "code",
   "execution_count": 50,
   "id": "da7c882e",
   "metadata": {},
   "outputs": [],
   "source": [
    "objectgap_df = sentence_df[sentence_df['condition'].isin(['a', 'c', 'd', 'e', 'g', 'h'])]"
   ]
  },
  {
   "cell_type": "code",
   "execution_count": 51,
   "id": "229098d1",
   "metadata": {},
   "outputs": [
    {
     "name": "stdout",
     "output_type": "stream",
     "text": [
      "\n",
      "=== DOUBLE GAP EMBED OBJECT GAP POSITION: GAP- ===\n",
      "\n",
      "=== MODEL SUMMARY ===\n",
      ":            MixedLM Dependent Variable: embed_surprisal\n",
      "No. Observations: 40\n",
      "Method: REML\n",
      "No. Groups: 20\n",
      "Scale: 0.0098\n",
      "Min. group size: 2\n",
      "Log-Likelihood: -9.6069\n",
      "Max. group size: 2\n",
      "Converged: Yes\n",
      "Mean group size: 2.0\n",
      "\n",
      "=== FIXED EFFECTS COEFFICIENTS ===\n"
     ]
    },
    {
     "data": {
      "text/html": [
       "<div>\n",
       "<style scoped>\n",
       "    .dataframe tbody tr th:only-of-type {\n",
       "        vertical-align: middle;\n",
       "    }\n",
       "\n",
       "    .dataframe tbody tr th {\n",
       "        vertical-align: top;\n",
       "    }\n",
       "\n",
       "    .dataframe thead th {\n",
       "        text-align: right;\n",
       "    }\n",
       "</style>\n",
       "<table border=\"1\" class=\"dataframe\">\n",
       "  <thead>\n",
       "    <tr style=\"text-align: right;\">\n",
       "      <th></th>\n",
       "      <th>Parameter</th>\n",
       "      <th>Coef.</th>\n",
       "      <th>Std.Err.</th>\n",
       "      <th>z</th>\n",
       "      <th>P&gt;|z|</th>\n",
       "      <th>[0.025</th>\n",
       "      <th>0.975]</th>\n",
       "    </tr>\n",
       "  </thead>\n",
       "  <tbody>\n",
       "    <tr>\n",
       "      <th>0</th>\n",
       "      <td>Intercept</td>\n",
       "      <td>6.599</td>\n",
       "      <td>0.128</td>\n",
       "      <td>51.675</td>\n",
       "      <td>0.000</td>\n",
       "      <td>6.349</td>\n",
       "      <td>6.850</td>\n",
       "    </tr>\n",
       "    <tr>\n",
       "      <th>1</th>\n",
       "      <td>wh_numeric</td>\n",
       "      <td>-0.010</td>\n",
       "      <td>0.016</td>\n",
       "      <td>-0.669</td>\n",
       "      <td>0.504</td>\n",
       "      <td>-0.041</td>\n",
       "      <td>0.020</td>\n",
       "    </tr>\n",
       "  </tbody>\n",
       "</table>\n",
       "</div>"
      ],
      "text/plain": [
       "    Parameter   Coef. Std.Err.       z  P>|z|  [0.025 0.975]\n",
       "0   Intercept   6.599    0.128  51.675  0.000   6.349  6.850\n",
       "1  wh_numeric  -0.010    0.016  -0.669  0.504  -0.041  0.020"
      ]
     },
     "metadata": {},
     "output_type": "display_data"
    },
    {
     "name": "stdout",
     "output_type": "stream",
     "text": [
      "\n",
      "=== RANDOM EFFECTS / VARIANCE-COVARIANCE ===\n"
     ]
    },
    {
     "data": {
      "text/html": [
       "<div>\n",
       "<style scoped>\n",
       "    .dataframe tbody tr th:only-of-type {\n",
       "        vertical-align: middle;\n",
       "    }\n",
       "\n",
       "    .dataframe tbody tr th {\n",
       "        vertical-align: top;\n",
       "    }\n",
       "\n",
       "    .dataframe thead th {\n",
       "        text-align: right;\n",
       "    }\n",
       "</style>\n",
       "<table border=\"1\" class=\"dataframe\">\n",
       "  <thead>\n",
       "    <tr style=\"text-align: right;\">\n",
       "      <th></th>\n",
       "      <th>Parameter</th>\n",
       "      <th>Coef.</th>\n",
       "      <th>Std.Err.</th>\n",
       "    </tr>\n",
       "  </thead>\n",
       "  <tbody>\n",
       "    <tr>\n",
       "      <th>0</th>\n",
       "      <td>Group Var</td>\n",
       "      <td>0.321</td>\n",
       "      <td>1.512</td>\n",
       "    </tr>\n",
       "  </tbody>\n",
       "</table>\n",
       "</div>"
      ],
      "text/plain": [
       "   Parameter  Coef. Std.Err.\n",
       "0  Group Var  0.321    1.512"
      ]
     },
     "metadata": {},
     "output_type": "display_data"
    },
    {
     "data": {
      "text/plain": [
       "<statsmodels.regression.mixed_linear_model.MixedLMResultsWrapper at 0x15382e629b20>"
      ]
     },
     "execution_count": 51,
     "metadata": {},
     "output_type": "execute_result"
    }
   ],
   "source": [
    "# flip test: gap-\n",
    "no_gap_df = objectgap_df[objectgap_df['gap_numeric'] == -1]\n",
    "iv_list = ['wh_numeric']\n",
    "mixed_effects_linear_regression(no_gap_df, iv_list, 'embed_surprisal', 'double gap embed object gap position: gap-')"
   ]
  },
  {
   "cell_type": "code",
   "execution_count": 52,
   "id": "041022cb",
   "metadata": {},
   "outputs": [
    {
     "name": "stdout",
     "output_type": "stream",
     "text": [
      "\n",
      "=== DOUBLE GAP EMBED OBJECT GAP POSITION: GAP+ ===\n",
      "\n",
      "=== MODEL SUMMARY ===\n",
      ":            MixedLM Dependent Variable: embed_surprisal\n",
      "No. Observations: 80\n",
      "Method: REML\n",
      "No. Groups: 20\n",
      "Scale: 0.1782\n",
      "Min. group size: 4\n",
      "Log-Likelihood: -70.8933\n",
      "Max. group size: 4\n",
      "Converged: Yes\n",
      "Mean group size: 4.0\n",
      "\n",
      "=== FIXED EFFECTS COEFFICIENTS ===\n"
     ]
    },
    {
     "data": {
      "text/html": [
       "<div>\n",
       "<style scoped>\n",
       "    .dataframe tbody tr th:only-of-type {\n",
       "        vertical-align: middle;\n",
       "    }\n",
       "\n",
       "    .dataframe tbody tr th {\n",
       "        vertical-align: top;\n",
       "    }\n",
       "\n",
       "    .dataframe thead th {\n",
       "        text-align: right;\n",
       "    }\n",
       "</style>\n",
       "<table border=\"1\" class=\"dataframe\">\n",
       "  <thead>\n",
       "    <tr style=\"text-align: right;\">\n",
       "      <th></th>\n",
       "      <th>Parameter</th>\n",
       "      <th>Coef.</th>\n",
       "      <th>Std.Err.</th>\n",
       "      <th>z</th>\n",
       "      <th>P&gt;|z|</th>\n",
       "      <th>[0.025</th>\n",
       "      <th>0.975]</th>\n",
       "    </tr>\n",
       "  </thead>\n",
       "  <tbody>\n",
       "    <tr>\n",
       "      <th>0</th>\n",
       "      <td>Intercept</td>\n",
       "      <td>6.195</td>\n",
       "      <td>0.159</td>\n",
       "      <td>38.897</td>\n",
       "      <td>0.000</td>\n",
       "      <td>5.883</td>\n",
       "      <td>6.508</td>\n",
       "    </tr>\n",
       "    <tr>\n",
       "      <th>1</th>\n",
       "      <td>wh_numeric</td>\n",
       "      <td>0.013</td>\n",
       "      <td>0.047</td>\n",
       "      <td>0.272</td>\n",
       "      <td>0.785</td>\n",
       "      <td>-0.080</td>\n",
       "      <td>0.105</td>\n",
       "    </tr>\n",
       "  </tbody>\n",
       "</table>\n",
       "</div>"
      ],
      "text/plain": [
       "    Parameter  Coef. Std.Err.       z  P>|z|  [0.025 0.975]\n",
       "0   Intercept  6.195    0.159  38.897  0.000   5.883  6.508\n",
       "1  wh_numeric  0.013    0.047   0.272  0.785  -0.080  0.105"
      ]
     },
     "metadata": {},
     "output_type": "display_data"
    },
    {
     "name": "stdout",
     "output_type": "stream",
     "text": [
      "\n",
      "=== RANDOM EFFECTS / VARIANCE-COVARIANCE ===\n"
     ]
    },
    {
     "data": {
      "text/html": [
       "<div>\n",
       "<style scoped>\n",
       "    .dataframe tbody tr th:only-of-type {\n",
       "        vertical-align: middle;\n",
       "    }\n",
       "\n",
       "    .dataframe tbody tr th {\n",
       "        vertical-align: top;\n",
       "    }\n",
       "\n",
       "    .dataframe thead th {\n",
       "        text-align: right;\n",
       "    }\n",
       "</style>\n",
       "<table border=\"1\" class=\"dataframe\">\n",
       "  <thead>\n",
       "    <tr style=\"text-align: right;\">\n",
       "      <th></th>\n",
       "      <th>Parameter</th>\n",
       "      <th>Coef.</th>\n",
       "      <th>Std.Err.</th>\n",
       "    </tr>\n",
       "  </thead>\n",
       "  <tbody>\n",
       "    <tr>\n",
       "      <th>0</th>\n",
       "      <td>Group Var</td>\n",
       "      <td>0.463</td>\n",
       "      <td>0.448</td>\n",
       "    </tr>\n",
       "  </tbody>\n",
       "</table>\n",
       "</div>"
      ],
      "text/plain": [
       "   Parameter  Coef. Std.Err.\n",
       "0  Group Var  0.463    0.448"
      ]
     },
     "metadata": {},
     "output_type": "display_data"
    },
    {
     "data": {
      "text/plain": [
       "<statsmodels.regression.mixed_linear_model.MixedLMResultsWrapper at 0x15382e625ca0>"
      ]
     },
     "execution_count": 52,
     "metadata": {},
     "output_type": "execute_result"
    }
   ],
   "source": [
    "# flip test: gap+\n",
    "gap_df = objectgap_df[objectgap_df['gap_numeric'] == 1]\n",
    "iv_list = ['wh_numeric']\n",
    "mixed_effects_linear_regression(gap_df, iv_list, 'embed_surprisal', 'double gap embed object gap position: gap+')"
   ]
  },
  {
   "cell_type": "code",
   "execution_count": 53,
   "id": "2f00d72d",
   "metadata": {},
   "outputs": [
    {
     "name": "stdout",
     "output_type": "stream",
     "text": [
      "\n",
      "=== DOUBLE GAP EMBED OBJECT GAP POSITION: DIVISION BY GRAMMATICALITY ===\n",
      "\n",
      "=== MODEL SUMMARY ===\n",
      "Model: MixedLM\n",
      "Dependent Variable: embed_surprisal\n",
      "No. Observations: 120\n",
      "Method: REML\n",
      "No. Groups: 20\n",
      "Scale: 0.2016\n",
      "Min. group size: 6\n",
      "Log-Likelihood: -100.6706\n",
      "Max. group size: 6\n",
      "Converged: Yes\n",
      "Mean group size: 6.0\n",
      "\n",
      "=== FIXED EFFECTS COEFFICIENTS ===\n"
     ]
    },
    {
     "data": {
      "text/html": [
       "<div>\n",
       "<style scoped>\n",
       "    .dataframe tbody tr th:only-of-type {\n",
       "        vertical-align: middle;\n",
       "    }\n",
       "\n",
       "    .dataframe tbody tr th {\n",
       "        vertical-align: top;\n",
       "    }\n",
       "\n",
       "    .dataframe thead th {\n",
       "        text-align: right;\n",
       "    }\n",
       "</style>\n",
       "<table border=\"1\" class=\"dataframe\">\n",
       "  <thead>\n",
       "    <tr style=\"text-align: right;\">\n",
       "      <th></th>\n",
       "      <th>Parameter</th>\n",
       "      <th>Coef.</th>\n",
       "      <th>Std.Err.</th>\n",
       "      <th>z</th>\n",
       "      <th>P&gt;|z|</th>\n",
       "      <th>[0.025</th>\n",
       "      <th>0.975]</th>\n",
       "    </tr>\n",
       "  </thead>\n",
       "  <tbody>\n",
       "    <tr>\n",
       "      <th>0</th>\n",
       "      <td>Intercept</td>\n",
       "      <td>6.342</td>\n",
       "      <td>0.148</td>\n",
       "      <td>42.879</td>\n",
       "      <td>0.000</td>\n",
       "      <td>6.052</td>\n",
       "      <td>6.632</td>\n",
       "    </tr>\n",
       "    <tr>\n",
       "      <th>1</th>\n",
       "      <td>grammaticality[T.gram-]</td>\n",
       "      <td>-0.024</td>\n",
       "      <td>0.082</td>\n",
       "      <td>-0.294</td>\n",
       "      <td>0.769</td>\n",
       "      <td>-0.185</td>\n",
       "      <td>0.137</td>\n",
       "    </tr>\n",
       "  </tbody>\n",
       "</table>\n",
       "</div>"
      ],
      "text/plain": [
       "                 Parameter   Coef. Std.Err.       z  P>|z|  [0.025 0.975]\n",
       "0                Intercept   6.342    0.148  42.879  0.000   6.052  6.632\n",
       "1  grammaticality[T.gram-]  -0.024    0.082  -0.294  0.769  -0.185  0.137"
      ]
     },
     "metadata": {},
     "output_type": "display_data"
    },
    {
     "name": "stdout",
     "output_type": "stream",
     "text": [
      "\n",
      "=== RANDOM EFFECTS / VARIANCE-COVARIANCE ===\n"
     ]
    },
    {
     "data": {
      "text/html": [
       "<div>\n",
       "<style scoped>\n",
       "    .dataframe tbody tr th:only-of-type {\n",
       "        vertical-align: middle;\n",
       "    }\n",
       "\n",
       "    .dataframe tbody tr th {\n",
       "        vertical-align: top;\n",
       "    }\n",
       "\n",
       "    .dataframe thead th {\n",
       "        text-align: right;\n",
       "    }\n",
       "</style>\n",
       "<table border=\"1\" class=\"dataframe\">\n",
       "  <thead>\n",
       "    <tr style=\"text-align: right;\">\n",
       "      <th></th>\n",
       "      <th>Parameter</th>\n",
       "      <th>Coef.</th>\n",
       "      <th>Std.Err.</th>\n",
       "    </tr>\n",
       "  </thead>\n",
       "  <tbody>\n",
       "    <tr>\n",
       "      <th>0</th>\n",
       "      <td>Group Var</td>\n",
       "      <td>0.370</td>\n",
       "      <td>0.319</td>\n",
       "    </tr>\n",
       "  </tbody>\n",
       "</table>\n",
       "</div>"
      ],
      "text/plain": [
       "   Parameter  Coef. Std.Err.\n",
       "0  Group Var  0.370    0.319"
      ]
     },
     "metadata": {},
     "output_type": "display_data"
    },
    {
     "data": {
      "text/plain": [
       "<statsmodels.regression.mixed_linear_model.MixedLMResultsWrapper at 0x15382e62d8b0>"
      ]
     },
     "execution_count": 53,
     "metadata": {},
     "output_type": "execute_result"
    }
   ],
   "source": [
    "# division by grammaticality\n",
    "iv_list = ['grammaticality']\n",
    "mixed_effects_linear_regression(objectgap_df, iv_list, 'embed_surprisal', 'double gap embed object gap position: division by grammaticality')"
   ]
  },
  {
   "cell_type": "markdown",
   "id": "88490c4f",
   "metadata": {},
   "source": [
    "#### Wh-Islands"
   ]
  },
  {
   "cell_type": "code",
   "execution_count": 54,
   "id": "402f34e8",
   "metadata": {},
   "outputs": [],
   "source": [
    "sentence_df = pd.read_csv('test_sentences/Wh-Islands.csv')\n",
    "sentence_df['comp_type'] = sentence_df['comp_type'].fillna('null')"
   ]
  },
  {
   "cell_type": "code",
   "execution_count": 55,
   "id": "d2830731",
   "metadata": {},
   "outputs": [],
   "source": [
    "sentence_df[['cont', 'end']] = sentence_df['cont'].apply(split_ends)\n",
    "sentence_df = encode_wh_licensor(sentence_df)\n",
    "sentence_df['gap_numeric'] = sentence_df['gap'].replace(0, -1)\n",
    "syntactic_parts = ['prefix', 'filler_word', 'subj1', 'verb1', 'comp', 'subj2', 'embed_verb', 'obj', 'cont']\n",
    "sentence_df['sentence'] = sentence_df.apply(lambda x: merge_sentence (x, syntactic_parts), axis = 1)\n",
    "sentence_df['surprisals'] = sentence_df['sentence'].apply(calculate_surprisal)\n",
    "sentence_df['comp_type'] = pd.Categorical(sentence_df['comp_type'], categories = ['null', 'that', 'whether'], ordered = True)\n",
    "sentence_df['grammaticality'] = sentence_df.apply(assign_grammaticality, axis = 1)"
   ]
  },
  {
   "cell_type": "markdown",
   "id": "42da86a3",
   "metadata": {},
   "source": [
    "Post-Gap Region - Continuation"
   ]
  },
  {
   "cell_type": "code",
   "execution_count": 56,
   "id": "e7157f88",
   "metadata": {},
   "outputs": [],
   "source": [
    "sentence_df['region_surprisal'] = sentence_df.apply(lambda x: sum_region_surprisal(x, ['cont'], 'obj'), axis = 1)"
   ]
  },
  {
   "cell_type": "code",
   "execution_count": 57,
   "id": "e962e5d4",
   "metadata": {},
   "outputs": [
    {
     "name": "stdout",
     "output_type": "stream",
     "text": [
      "\n",
      "=== WH-ISLANDS CONTINUATION: GAP- ===\n",
      "\n",
      "=== MODEL SUMMARY ===\n",
      ":            MixedLM Dependent Variable: region_surprisal\n",
      "No. Observations: 120\n",
      "Method: REML\n",
      "No. Groups: 20\n",
      "Scale: 0.2865\n",
      "Min. group size: 6\n",
      "Log-Likelihood: -162.8968\n",
      "Max. group size: 6\n",
      "Converged: Yes\n",
      "Mean group size: 6.0\n",
      "\n",
      "=== FIXED EFFECTS COEFFICIENTS ===\n"
     ]
    },
    {
     "data": {
      "text/html": [
       "<div>\n",
       "<style scoped>\n",
       "    .dataframe tbody tr th:only-of-type {\n",
       "        vertical-align: middle;\n",
       "    }\n",
       "\n",
       "    .dataframe tbody tr th {\n",
       "        vertical-align: top;\n",
       "    }\n",
       "\n",
       "    .dataframe thead th {\n",
       "        text-align: right;\n",
       "    }\n",
       "</style>\n",
       "<table border=\"1\" class=\"dataframe\">\n",
       "  <thead>\n",
       "    <tr style=\"text-align: right;\">\n",
       "      <th></th>\n",
       "      <th>Parameter</th>\n",
       "      <th>Coef.</th>\n",
       "      <th>Std.Err.</th>\n",
       "      <th>z</th>\n",
       "      <th>P&gt;|z|</th>\n",
       "      <th>[0.025</th>\n",
       "      <th>0.975]</th>\n",
       "    </tr>\n",
       "  </thead>\n",
       "  <tbody>\n",
       "    <tr>\n",
       "      <th>0</th>\n",
       "      <td>Intercept</td>\n",
       "      <td>21.348</td>\n",
       "      <td>1.450</td>\n",
       "      <td>14.720</td>\n",
       "      <td>0.000</td>\n",
       "      <td>18.505</td>\n",
       "      <td>24.190</td>\n",
       "    </tr>\n",
       "    <tr>\n",
       "      <th>1</th>\n",
       "      <td>wh_numeric</td>\n",
       "      <td>-0.114</td>\n",
       "      <td>0.049</td>\n",
       "      <td>-2.324</td>\n",
       "      <td>0.020</td>\n",
       "      <td>-0.209</td>\n",
       "      <td>-0.018</td>\n",
       "    </tr>\n",
       "  </tbody>\n",
       "</table>\n",
       "</div>"
      ],
      "text/plain": [
       "    Parameter   Coef. Std.Err.       z  P>|z|  [0.025  0.975]\n",
       "0   Intercept  21.348    1.450  14.720  0.000  18.505  24.190\n",
       "1  wh_numeric  -0.114    0.049  -2.324  0.020  -0.209  -0.018"
      ]
     },
     "metadata": {},
     "output_type": "display_data"
    },
    {
     "name": "stdout",
     "output_type": "stream",
     "text": [
      "\n",
      "=== RANDOM EFFECTS / VARIANCE-COVARIANCE ===\n"
     ]
    },
    {
     "data": {
      "text/html": [
       "<div>\n",
       "<style scoped>\n",
       "    .dataframe tbody tr th:only-of-type {\n",
       "        vertical-align: middle;\n",
       "    }\n",
       "\n",
       "    .dataframe tbody tr th {\n",
       "        vertical-align: top;\n",
       "    }\n",
       "\n",
       "    .dataframe thead th {\n",
       "        text-align: right;\n",
       "    }\n",
       "</style>\n",
       "<table border=\"1\" class=\"dataframe\">\n",
       "  <thead>\n",
       "    <tr style=\"text-align: right;\">\n",
       "      <th></th>\n",
       "      <th>Parameter</th>\n",
       "      <th>Coef.</th>\n",
       "      <th>Std.Err.</th>\n",
       "    </tr>\n",
       "  </thead>\n",
       "  <tbody>\n",
       "    <tr>\n",
       "      <th>0</th>\n",
       "      <td>Group Var</td>\n",
       "      <td>42.018</td>\n",
       "      <td>27.835</td>\n",
       "    </tr>\n",
       "  </tbody>\n",
       "</table>\n",
       "</div>"
      ],
      "text/plain": [
       "   Parameter   Coef. Std.Err.\n",
       "0  Group Var  42.018   27.835"
      ]
     },
     "metadata": {},
     "output_type": "display_data"
    },
    {
     "data": {
      "text/plain": [
       "<statsmodels.regression.mixed_linear_model.MixedLMResultsWrapper at 0x15382faaaf70>"
      ]
     },
     "execution_count": 57,
     "metadata": {},
     "output_type": "execute_result"
    }
   ],
   "source": [
    "# flip test: gap-\n",
    "no_gap_df = sentence_df[sentence_df['gap_numeric'] == -1]\n",
    "iv_list = ['wh_numeric']\n",
    "mixed_effects_linear_regression(no_gap_df, iv_list, 'region_surprisal', 'wh-islands continuation: gap-')"
   ]
  },
  {
   "cell_type": "code",
   "execution_count": 58,
   "id": "bbc4983e",
   "metadata": {},
   "outputs": [
    {
     "name": "stdout",
     "output_type": "stream",
     "text": [
      "\n",
      "=== WH-ISLANDS CONTINUATION: GAP+ ===\n",
      "\n",
      "=== MODEL SUMMARY ===\n",
      ":            MixedLM Dependent Variable: region_surprisal\n",
      "No. Observations: 120\n",
      "Method: REML\n",
      "No. Groups: 20\n",
      "Scale: 0.3811\n",
      "Min. group size: 6\n",
      "Log-Likelihood: -182.4759\n",
      "Max. group size: 6\n",
      "Converged: Yes\n",
      "Mean group size: 6.0\n",
      "\n",
      "=== FIXED EFFECTS COEFFICIENTS ===\n"
     ]
    },
    {
     "data": {
      "text/html": [
       "<div>\n",
       "<style scoped>\n",
       "    .dataframe tbody tr th:only-of-type {\n",
       "        vertical-align: middle;\n",
       "    }\n",
       "\n",
       "    .dataframe tbody tr th {\n",
       "        vertical-align: top;\n",
       "    }\n",
       "\n",
       "    .dataframe thead th {\n",
       "        text-align: right;\n",
       "    }\n",
       "</style>\n",
       "<table border=\"1\" class=\"dataframe\">\n",
       "  <thead>\n",
       "    <tr style=\"text-align: right;\">\n",
       "      <th></th>\n",
       "      <th>Parameter</th>\n",
       "      <th>Coef.</th>\n",
       "      <th>Std.Err.</th>\n",
       "      <th>z</th>\n",
       "      <th>P&gt;|z|</th>\n",
       "      <th>[0.025</th>\n",
       "      <th>0.975]</th>\n",
       "    </tr>\n",
       "  </thead>\n",
       "  <tbody>\n",
       "    <tr>\n",
       "      <th>0</th>\n",
       "      <td>Intercept</td>\n",
       "      <td>31.342</td>\n",
       "      <td>1.934</td>\n",
       "      <td>16.208</td>\n",
       "      <td>0.000</td>\n",
       "      <td>27.552</td>\n",
       "      <td>35.132</td>\n",
       "    </tr>\n",
       "    <tr>\n",
       "      <th>1</th>\n",
       "      <td>wh_numeric</td>\n",
       "      <td>0.018</td>\n",
       "      <td>0.056</td>\n",
       "      <td>0.320</td>\n",
       "      <td>0.749</td>\n",
       "      <td>-0.092</td>\n",
       "      <td>0.129</td>\n",
       "    </tr>\n",
       "  </tbody>\n",
       "</table>\n",
       "</div>"
      ],
      "text/plain": [
       "    Parameter   Coef. Std.Err.       z  P>|z|  [0.025  0.975]\n",
       "0   Intercept  31.342    1.934  16.208  0.000  27.552  35.132\n",
       "1  wh_numeric   0.018    0.056   0.320  0.749  -0.092   0.129"
      ]
     },
     "metadata": {},
     "output_type": "display_data"
    },
    {
     "name": "stdout",
     "output_type": "stream",
     "text": [
      "\n",
      "=== RANDOM EFFECTS / VARIANCE-COVARIANCE ===\n"
     ]
    },
    {
     "data": {
      "text/html": [
       "<div>\n",
       "<style scoped>\n",
       "    .dataframe tbody tr th:only-of-type {\n",
       "        vertical-align: middle;\n",
       "    }\n",
       "\n",
       "    .dataframe tbody tr th {\n",
       "        vertical-align: top;\n",
       "    }\n",
       "\n",
       "    .dataframe thead th {\n",
       "        text-align: right;\n",
       "    }\n",
       "</style>\n",
       "<table border=\"1\" class=\"dataframe\">\n",
       "  <thead>\n",
       "    <tr style=\"text-align: right;\">\n",
       "      <th></th>\n",
       "      <th>Parameter</th>\n",
       "      <th>Coef.</th>\n",
       "      <th>Std.Err.</th>\n",
       "    </tr>\n",
       "  </thead>\n",
       "  <tbody>\n",
       "    <tr>\n",
       "      <th>0</th>\n",
       "      <td>Group Var</td>\n",
       "      <td>74.720</td>\n",
       "      <td>42.909</td>\n",
       "    </tr>\n",
       "  </tbody>\n",
       "</table>\n",
       "</div>"
      ],
      "text/plain": [
       "   Parameter   Coef. Std.Err.\n",
       "0  Group Var  74.720   42.909"
      ]
     },
     "metadata": {},
     "output_type": "display_data"
    },
    {
     "data": {
      "text/plain": [
       "<statsmodels.regression.mixed_linear_model.MixedLMResultsWrapper at 0x15382e6571f0>"
      ]
     },
     "execution_count": 58,
     "metadata": {},
     "output_type": "execute_result"
    }
   ],
   "source": [
    "# flip test: gap+\n",
    "gap_df = sentence_df[sentence_df['gap_numeric'] == 1]\n",
    "iv_list = ['wh_numeric']\n",
    "mixed_effects_linear_regression(gap_df, iv_list, 'region_surprisal', 'wh-islands continuation: gap+')"
   ]
  },
  {
   "cell_type": "code",
   "execution_count": 59,
   "id": "a0f33d9e",
   "metadata": {},
   "outputs": [
    {
     "name": "stdout",
     "output_type": "stream",
     "text": [
      "\n",
      "=== WH-ISLANDS CONTINUATION: DIVISION BY GRAMMATICALITY ===\n",
      "\n",
      "=== MODEL SUMMARY ===\n",
      "Model: MixedLM\n",
      "Dependent Variable: region_surprisal\n",
      "No. Observations: 240\n",
      "Method: REML\n",
      "No. Groups: 20\n",
      "Scale: 63.8355\n",
      "Min. group size: 12\n",
      "Log-Likelihood: -851.2849\n",
      "Max. group size: 12\n",
      "Converged: Yes\n",
      "Mean group size: 12.0\n",
      "\n",
      "=== FIXED EFFECTS COEFFICIENTS ===\n"
     ]
    },
    {
     "data": {
      "text/html": [
       "<div>\n",
       "<style scoped>\n",
       "    .dataframe tbody tr th:only-of-type {\n",
       "        vertical-align: middle;\n",
       "    }\n",
       "\n",
       "    .dataframe tbody tr th {\n",
       "        vertical-align: top;\n",
       "    }\n",
       "\n",
       "    .dataframe thead th {\n",
       "        text-align: right;\n",
       "    }\n",
       "</style>\n",
       "<table border=\"1\" class=\"dataframe\">\n",
       "  <thead>\n",
       "    <tr style=\"text-align: right;\">\n",
       "      <th></th>\n",
       "      <th>Parameter</th>\n",
       "      <th>Coef.</th>\n",
       "      <th>Std.Err.</th>\n",
       "      <th>z</th>\n",
       "      <th>P&gt;|z|</th>\n",
       "      <th>[0.025</th>\n",
       "      <th>0.975]</th>\n",
       "    </tr>\n",
       "  </thead>\n",
       "  <tbody>\n",
       "    <tr>\n",
       "      <th>0</th>\n",
       "      <td>Intercept</td>\n",
       "      <td>26.410</td>\n",
       "      <td>1.204</td>\n",
       "      <td>21.929</td>\n",
       "      <td>0.000</td>\n",
       "      <td>24.050</td>\n",
       "      <td>28.771</td>\n",
       "    </tr>\n",
       "    <tr>\n",
       "      <th>1</th>\n",
       "      <td>grammaticality[T.gram-]</td>\n",
       "      <td>-0.132</td>\n",
       "      <td>1.031</td>\n",
       "      <td>-0.128</td>\n",
       "      <td>0.898</td>\n",
       "      <td>-2.153</td>\n",
       "      <td>1.890</td>\n",
       "    </tr>\n",
       "  </tbody>\n",
       "</table>\n",
       "</div>"
      ],
      "text/plain": [
       "                 Parameter   Coef. Std.Err.       z  P>|z|  [0.025  0.975]\n",
       "0                Intercept  26.410    1.204  21.929  0.000  24.050  28.771\n",
       "1  grammaticality[T.gram-]  -0.132    1.031  -0.128  0.898  -2.153   1.890"
      ]
     },
     "metadata": {},
     "output_type": "display_data"
    },
    {
     "name": "stdout",
     "output_type": "stream",
     "text": [
      "\n",
      "=== RANDOM EFFECTS / VARIANCE-COVARIANCE ===\n"
     ]
    },
    {
     "data": {
      "text/html": [
       "<div>\n",
       "<style scoped>\n",
       "    .dataframe tbody tr th:only-of-type {\n",
       "        vertical-align: middle;\n",
       "    }\n",
       "\n",
       "    .dataframe tbody tr th {\n",
       "        vertical-align: top;\n",
       "    }\n",
       "\n",
       "    .dataframe thead th {\n",
       "        text-align: right;\n",
       "    }\n",
       "</style>\n",
       "<table border=\"1\" class=\"dataframe\">\n",
       "  <thead>\n",
       "    <tr style=\"text-align: right;\">\n",
       "      <th></th>\n",
       "      <th>Parameter</th>\n",
       "      <th>Coef.</th>\n",
       "      <th>Std.Err.</th>\n",
       "    </tr>\n",
       "  </thead>\n",
       "  <tbody>\n",
       "    <tr>\n",
       "      <th>0</th>\n",
       "      <td>Group Var</td>\n",
       "      <td>18.369</td>\n",
       "      <td>1.003</td>\n",
       "    </tr>\n",
       "  </tbody>\n",
       "</table>\n",
       "</div>"
      ],
      "text/plain": [
       "   Parameter   Coef. Std.Err.\n",
       "0  Group Var  18.369    1.003"
      ]
     },
     "metadata": {},
     "output_type": "display_data"
    },
    {
     "data": {
      "text/plain": [
       "<statsmodels.regression.mixed_linear_model.MixedLMResultsWrapper at 0x15382e63b280>"
      ]
     },
     "execution_count": 59,
     "metadata": {},
     "output_type": "execute_result"
    }
   ],
   "source": [
    "# division by grammaticality\n",
    "iv_list = ['grammaticality']\n",
    "mixed_effects_linear_regression(sentence_df, iv_list, 'region_surprisal', 'wh-islands continuation: division by grammaticality')"
   ]
  },
  {
   "cell_type": "markdown",
   "id": "4dff9fd1",
   "metadata": {},
   "source": [
    "Embedded Clause"
   ]
  },
  {
   "cell_type": "code",
   "execution_count": 60,
   "id": "d4f35a76",
   "metadata": {},
   "outputs": [],
   "source": [
    "embed = ['subj1', 'verb1', 'comp', 'subj2', 'embed_verb', 'obj', 'cont', 'end']\n",
    "sentence_df['embed_surprisal'] = sentence_df.apply(lambda x: sum_region_surprisal(x, embed, normalize = True), axis = 1)"
   ]
  },
  {
   "cell_type": "code",
   "execution_count": 61,
   "id": "28a7dccc",
   "metadata": {},
   "outputs": [
    {
     "name": "stdout",
     "output_type": "stream",
     "text": [
      "\n",
      "=== WH-ISLANDS EMBED: GAP- ===\n",
      "\n",
      "=== MODEL SUMMARY ===\n",
      ":            MixedLM Dependent Variable: embed_surprisal\n",
      "No. Observations: 120\n",
      "Method: REML\n",
      "No. Groups: 20\n",
      "Scale: 0.0193\n",
      "Min. group size: 6\n",
      "Log-Likelihood: 7.6898\n",
      "Max. group size: 6\n",
      "Converged: Yes\n",
      "Mean group size: 6.0\n",
      "\n",
      "=== FIXED EFFECTS COEFFICIENTS ===\n"
     ]
    },
    {
     "data": {
      "text/html": [
       "<div>\n",
       "<style scoped>\n",
       "    .dataframe tbody tr th:only-of-type {\n",
       "        vertical-align: middle;\n",
       "    }\n",
       "\n",
       "    .dataframe tbody tr th {\n",
       "        vertical-align: top;\n",
       "    }\n",
       "\n",
       "    .dataframe thead th {\n",
       "        text-align: right;\n",
       "    }\n",
       "</style>\n",
       "<table border=\"1\" class=\"dataframe\">\n",
       "  <thead>\n",
       "    <tr style=\"text-align: right;\">\n",
       "      <th></th>\n",
       "      <th>Parameter</th>\n",
       "      <th>Coef.</th>\n",
       "      <th>Std.Err.</th>\n",
       "      <th>z</th>\n",
       "      <th>P&gt;|z|</th>\n",
       "      <th>[0.025</th>\n",
       "      <th>0.975]</th>\n",
       "    </tr>\n",
       "  </thead>\n",
       "  <tbody>\n",
       "    <tr>\n",
       "      <th>0</th>\n",
       "      <td>Intercept</td>\n",
       "      <td>8.819</td>\n",
       "      <td>0.206</td>\n",
       "      <td>42.790</td>\n",
       "      <td>0.000</td>\n",
       "      <td>8.415</td>\n",
       "      <td>9.223</td>\n",
       "    </tr>\n",
       "    <tr>\n",
       "      <th>1</th>\n",
       "      <td>wh_numeric</td>\n",
       "      <td>-0.158</td>\n",
       "      <td>0.013</td>\n",
       "      <td>-12.460</td>\n",
       "      <td>0.000</td>\n",
       "      <td>-0.183</td>\n",
       "      <td>-0.133</td>\n",
       "    </tr>\n",
       "  </tbody>\n",
       "</table>\n",
       "</div>"
      ],
      "text/plain": [
       "    Parameter   Coef. Std.Err.        z  P>|z|  [0.025  0.975]\n",
       "0   Intercept   8.819    0.206   42.790  0.000   8.415   9.223\n",
       "1  wh_numeric  -0.158    0.013  -12.460  0.000  -0.183  -0.133"
      ]
     },
     "metadata": {},
     "output_type": "display_data"
    },
    {
     "name": "stdout",
     "output_type": "stream",
     "text": [
      "\n",
      "=== RANDOM EFFECTS / VARIANCE-COVARIANCE ===\n"
     ]
    },
    {
     "data": {
      "text/html": [
       "<div>\n",
       "<style scoped>\n",
       "    .dataframe tbody tr th:only-of-type {\n",
       "        vertical-align: middle;\n",
       "    }\n",
       "\n",
       "    .dataframe tbody tr th {\n",
       "        vertical-align: top;\n",
       "    }\n",
       "\n",
       "    .dataframe thead th {\n",
       "        text-align: right;\n",
       "    }\n",
       "</style>\n",
       "<table border=\"1\" class=\"dataframe\">\n",
       "  <thead>\n",
       "    <tr style=\"text-align: right;\">\n",
       "      <th></th>\n",
       "      <th>Parameter</th>\n",
       "      <th>Coef.</th>\n",
       "      <th>Std.Err.</th>\n",
       "    </tr>\n",
       "  </thead>\n",
       "  <tbody>\n",
       "    <tr>\n",
       "      <th>0</th>\n",
       "      <td>Group Var</td>\n",
       "      <td>0.846</td>\n",
       "      <td>2.165</td>\n",
       "    </tr>\n",
       "  </tbody>\n",
       "</table>\n",
       "</div>"
      ],
      "text/plain": [
       "   Parameter  Coef. Std.Err.\n",
       "0  Group Var  0.846    2.165"
      ]
     },
     "metadata": {},
     "output_type": "display_data"
    },
    {
     "data": {
      "text/plain": [
       "<statsmodels.regression.mixed_linear_model.MixedLMResultsWrapper at 0x15382e6616a0>"
      ]
     },
     "execution_count": 61,
     "metadata": {},
     "output_type": "execute_result"
    }
   ],
   "source": [
    "# flip test: gap-\n",
    "no_gap_df = sentence_df[sentence_df['gap_numeric'] == -1]\n",
    "iv_list = ['wh_numeric']\n",
    "mixed_effects_linear_regression(no_gap_df, iv_list, 'embed_surprisal', 'wh-islands embed: gap-')"
   ]
  },
  {
   "cell_type": "code",
   "execution_count": 62,
   "id": "fe9ebcee",
   "metadata": {},
   "outputs": [
    {
     "name": "stdout",
     "output_type": "stream",
     "text": [
      "\n",
      "=== WH-ISLANDS EMBED: GAP+ ===\n",
      "\n",
      "=== MODEL SUMMARY ===\n",
      ":            MixedLM Dependent Variable: embed_surprisal\n",
      "No. Observations: 120\n",
      "Method: REML\n",
      "No. Groups: 20\n",
      "Scale: 0.0234\n",
      "Min. group size: 6\n",
      "Log-Likelihood: -3.2623\n",
      "Max. group size: 6\n",
      "Converged: Yes\n",
      "Mean group size: 6.0\n",
      "\n",
      "=== FIXED EFFECTS COEFFICIENTS ===\n"
     ]
    },
    {
     "data": {
      "text/html": [
       "<div>\n",
       "<style scoped>\n",
       "    .dataframe tbody tr th:only-of-type {\n",
       "        vertical-align: middle;\n",
       "    }\n",
       "\n",
       "    .dataframe tbody tr th {\n",
       "        vertical-align: top;\n",
       "    }\n",
       "\n",
       "    .dataframe thead th {\n",
       "        text-align: right;\n",
       "    }\n",
       "</style>\n",
       "<table border=\"1\" class=\"dataframe\">\n",
       "  <thead>\n",
       "    <tr style=\"text-align: right;\">\n",
       "      <th></th>\n",
       "      <th>Parameter</th>\n",
       "      <th>Coef.</th>\n",
       "      <th>Std.Err.</th>\n",
       "      <th>z</th>\n",
       "      <th>P&gt;|z|</th>\n",
       "      <th>[0.025</th>\n",
       "      <th>0.975]</th>\n",
       "    </tr>\n",
       "  </thead>\n",
       "  <tbody>\n",
       "    <tr>\n",
       "      <th>0</th>\n",
       "      <td>Intercept</td>\n",
       "      <td>8.790</td>\n",
       "      <td>0.223</td>\n",
       "      <td>39.457</td>\n",
       "      <td>0.000</td>\n",
       "      <td>8.353</td>\n",
       "      <td>9.227</td>\n",
       "    </tr>\n",
       "    <tr>\n",
       "      <th>1</th>\n",
       "      <td>wh_numeric</td>\n",
       "      <td>-0.194</td>\n",
       "      <td>0.014</td>\n",
       "      <td>-13.884</td>\n",
       "      <td>0.000</td>\n",
       "      <td>-0.221</td>\n",
       "      <td>-0.166</td>\n",
       "    </tr>\n",
       "  </tbody>\n",
       "</table>\n",
       "</div>"
      ],
      "text/plain": [
       "    Parameter   Coef. Std.Err.        z  P>|z|  [0.025  0.975]\n",
       "0   Intercept   8.790    0.223   39.457  0.000   8.353   9.227\n",
       "1  wh_numeric  -0.194    0.014  -13.884  0.000  -0.221  -0.166"
      ]
     },
     "metadata": {},
     "output_type": "display_data"
    },
    {
     "name": "stdout",
     "output_type": "stream",
     "text": [
      "\n",
      "=== RANDOM EFFECTS / VARIANCE-COVARIANCE ===\n"
     ]
    },
    {
     "data": {
      "text/html": [
       "<div>\n",
       "<style scoped>\n",
       "    .dataframe tbody tr th:only-of-type {\n",
       "        vertical-align: middle;\n",
       "    }\n",
       "\n",
       "    .dataframe tbody tr th {\n",
       "        vertical-align: top;\n",
       "    }\n",
       "\n",
       "    .dataframe thead th {\n",
       "        text-align: right;\n",
       "    }\n",
       "</style>\n",
       "<table border=\"1\" class=\"dataframe\">\n",
       "  <thead>\n",
       "    <tr style=\"text-align: right;\">\n",
       "      <th></th>\n",
       "      <th>Parameter</th>\n",
       "      <th>Coef.</th>\n",
       "      <th>Std.Err.</th>\n",
       "    </tr>\n",
       "  </thead>\n",
       "  <tbody>\n",
       "    <tr>\n",
       "      <th>0</th>\n",
       "      <td>Group Var</td>\n",
       "      <td>0.989</td>\n",
       "      <td>2.299</td>\n",
       "    </tr>\n",
       "  </tbody>\n",
       "</table>\n",
       "</div>"
      ],
      "text/plain": [
       "   Parameter  Coef. Std.Err.\n",
       "0  Group Var  0.989    2.299"
      ]
     },
     "metadata": {},
     "output_type": "display_data"
    },
    {
     "data": {
      "text/plain": [
       "<statsmodels.regression.mixed_linear_model.MixedLMResultsWrapper at 0x15382eae5e20>"
      ]
     },
     "execution_count": 62,
     "metadata": {},
     "output_type": "execute_result"
    }
   ],
   "source": [
    "# flip test: gap+\n",
    "gap_df = sentence_df[sentence_df['gap_numeric'] == 1]\n",
    "iv_list = ['wh_numeric']\n",
    "mixed_effects_linear_regression(gap_df, iv_list, 'embed_surprisal', 'wh-islands embed: gap+')"
   ]
  },
  {
   "cell_type": "code",
   "execution_count": 63,
   "id": "c7f5fd2b",
   "metadata": {},
   "outputs": [
    {
     "name": "stdout",
     "output_type": "stream",
     "text": [
      "\n",
      "=== WH-ISLANDS EMBED: DIVISION BY GRAMMATICALITY ===\n",
      "\n",
      "=== MODEL SUMMARY ===\n",
      "Model: MixedLM\n",
      "Dependent Variable: embed_surprisal\n",
      "No. Observations: 240\n",
      "Method: REML\n",
      "No. Groups: 20\n",
      "Scale: 0.0728\n",
      "Min. group size: 12\n",
      "Log-Likelihood: -78.2575\n",
      "Max. group size: 12\n",
      "Converged: Yes\n",
      "Mean group size: 12.0\n",
      "\n",
      "=== FIXED EFFECTS COEFFICIENTS ===\n"
     ]
    },
    {
     "data": {
      "text/html": [
       "<div>\n",
       "<style scoped>\n",
       "    .dataframe tbody tr th:only-of-type {\n",
       "        vertical-align: middle;\n",
       "    }\n",
       "\n",
       "    .dataframe tbody tr th {\n",
       "        vertical-align: top;\n",
       "    }\n",
       "\n",
       "    .dataframe thead th {\n",
       "        text-align: right;\n",
       "    }\n",
       "</style>\n",
       "<table border=\"1\" class=\"dataframe\">\n",
       "  <thead>\n",
       "    <tr style=\"text-align: right;\">\n",
       "      <th></th>\n",
       "      <th>Parameter</th>\n",
       "      <th>Coef.</th>\n",
       "      <th>Std.Err.</th>\n",
       "      <th>z</th>\n",
       "      <th>P&gt;|z|</th>\n",
       "      <th>[0.025</th>\n",
       "      <th>0.975]</th>\n",
       "    </tr>\n",
       "  </thead>\n",
       "  <tbody>\n",
       "    <tr>\n",
       "      <th>0</th>\n",
       "      <td>Intercept</td>\n",
       "      <td>8.787</td>\n",
       "      <td>0.213</td>\n",
       "      <td>41.222</td>\n",
       "      <td>0.000</td>\n",
       "      <td>8.369</td>\n",
       "      <td>9.205</td>\n",
       "    </tr>\n",
       "    <tr>\n",
       "      <th>1</th>\n",
       "      <td>grammaticality[T.gram-]</td>\n",
       "      <td>0.036</td>\n",
       "      <td>0.035</td>\n",
       "      <td>1.026</td>\n",
       "      <td>0.305</td>\n",
       "      <td>-0.033</td>\n",
       "      <td>0.104</td>\n",
       "    </tr>\n",
       "  </tbody>\n",
       "</table>\n",
       "</div>"
      ],
      "text/plain": [
       "                 Parameter  Coef. Std.Err.       z  P>|z|  [0.025 0.975]\n",
       "0                Intercept  8.787    0.213  41.222  0.000   8.369  9.205\n",
       "1  grammaticality[T.gram-]  0.036    0.035   1.026  0.305  -0.033  0.104"
      ]
     },
     "metadata": {},
     "output_type": "display_data"
    },
    {
     "name": "stdout",
     "output_type": "stream",
     "text": [
      "\n",
      "=== RANDOM EFFECTS / VARIANCE-COVARIANCE ===\n"
     ]
    },
    {
     "data": {
      "text/html": [
       "<div>\n",
       "<style scoped>\n",
       "    .dataframe tbody tr th:only-of-type {\n",
       "        vertical-align: middle;\n",
       "    }\n",
       "\n",
       "    .dataframe tbody tr th {\n",
       "        vertical-align: top;\n",
       "    }\n",
       "\n",
       "    .dataframe thead th {\n",
       "        text-align: right;\n",
       "    }\n",
       "</style>\n",
       "<table border=\"1\" class=\"dataframe\">\n",
       "  <thead>\n",
       "    <tr style=\"text-align: right;\">\n",
       "      <th></th>\n",
       "      <th>Parameter</th>\n",
       "      <th>Coef.</th>\n",
       "      <th>Std.Err.</th>\n",
       "    </tr>\n",
       "  </thead>\n",
       "  <tbody>\n",
       "    <tr>\n",
       "      <th>0</th>\n",
       "      <td>Group Var</td>\n",
       "      <td>0.897</td>\n",
       "      <td>1.131</td>\n",
       "    </tr>\n",
       "  </tbody>\n",
       "</table>\n",
       "</div>"
      ],
      "text/plain": [
       "   Parameter  Coef. Std.Err.\n",
       "0  Group Var  0.897    1.131"
      ]
     },
     "metadata": {},
     "output_type": "display_data"
    },
    {
     "data": {
      "text/plain": [
       "<statsmodels.regression.mixed_linear_model.MixedLMResultsWrapper at 0x15382e65d370>"
      ]
     },
     "execution_count": 63,
     "metadata": {},
     "output_type": "execute_result"
    }
   ],
   "source": [
    "# division by grammaticality\n",
    "iv_list = ['grammaticality']\n",
    "mixed_effects_linear_regression(sentence_df, iv_list, 'embed_surprisal', 'wh-islands embed: division by grammaticality')"
   ]
  },
  {
   "cell_type": "markdown",
   "id": "9e089b58",
   "metadata": {},
   "source": [
    "#### Adjunct Islands "
   ]
  },
  {
   "cell_type": "code",
   "execution_count": 64,
   "id": "ef9c8675",
   "metadata": {},
   "outputs": [],
   "source": [
    "sentence_df = pd.read_csv('test_sentences/Adjunct Islands.csv')\n",
    "sentence_df['adjunct_type'] = sentence_df['adjunct_type'].fillna('null')"
   ]
  },
  {
   "cell_type": "code",
   "execution_count": 65,
   "id": "17fe918d",
   "metadata": {},
   "outputs": [],
   "source": [
    "sentence_df[['cont', 'end']] = sentence_df['cont'].apply(split_ends)\n",
    "sentence_df['adjunct_front_trigger'] = np.nan\n",
    "sentence_df['adjunct_front_trigger'] = sentence_df['adjunct_trigger'].where(sentence_df['adjunct_type'] == 'front', sentence_df['adjunct_front_trigger'])\n",
    "sentence_df['adjunct_trigger'] = sentence_df['adjunct_trigger'].where(sentence_df['adjunct_type'] != 'front', np.nan)\n",
    "sentence_df.rename(columns = {'adjunct_trigger': 'adjunct_back_trigger'}, inplace = True)\n",
    "sentence_df = sentence_df[[col for col in sentence_df.columns if col != 'end'] + ['end']]"
   ]
  },
  {
   "cell_type": "code",
   "execution_count": 66,
   "id": "fb3d9d16",
   "metadata": {},
   "outputs": [],
   "source": [
    "sentence_df = encode_wh_licensor(sentence_df)\n",
    "sentence_df['gap_numeric'] = sentence_df['gap'].replace(0, -1)\n",
    "syntactic_parts = ['prefix', 'filler_word', 'adjunct_back_trigger', 'prep', 'subj', 'mod', 'verb', 'obj', 'cont', 'adjunct_front_trigger']\n",
    "sentence_df['sentence'] = sentence_df.apply(lambda x: merge_sentence(x, syntactic_parts), axis = 1)\n",
    "sentence_df['surprisals'] = sentence_df['sentence'].apply(calculate_surprisal)\n",
    "sentence_df['adjunct_type'] = pd.Categorical(sentence_df['adjunct_type'], categories = ['null', 'back', 'front'], ordered = True)\n",
    "sentence_df['grammaticality'] = sentence_df.apply(assign_grammaticality, axis = 1)"
   ]
  },
  {
   "cell_type": "markdown",
   "id": "404f7b10",
   "metadata": {},
   "source": [
    "Post-Gap Region - Continuation"
   ]
  },
  {
   "cell_type": "code",
   "execution_count": 67,
   "id": "28cc32fa",
   "metadata": {},
   "outputs": [],
   "source": [
    "sentence_df['region_surprisal'] = sentence_df.apply(lambda x: sum_region_surprisal(x, ['cont'], 'obj'), axis = 1)"
   ]
  },
  {
   "cell_type": "code",
   "execution_count": 68,
   "id": "d5235dbd",
   "metadata": {},
   "outputs": [
    {
     "name": "stdout",
     "output_type": "stream",
     "text": [
      "\n",
      "=== ADJUNCT ISLANDS CONTINUATION: GAP- ===\n",
      "\n",
      "=== MODEL SUMMARY ===\n",
      ":            MixedLM Dependent Variable: region_surprisal\n",
      "No. Observations: 120\n",
      "Method: REML\n",
      "No. Groups: 20\n",
      "Scale: 0.4206\n",
      "Min. group size: 6\n",
      "Log-Likelihood: -190.8711\n",
      "Max. group size: 6\n",
      "Converged: Yes\n",
      "Mean group size: 6.0\n",
      "\n",
      "=== FIXED EFFECTS COEFFICIENTS ===\n"
     ]
    },
    {
     "data": {
      "text/html": [
       "<div>\n",
       "<style scoped>\n",
       "    .dataframe tbody tr th:only-of-type {\n",
       "        vertical-align: middle;\n",
       "    }\n",
       "\n",
       "    .dataframe tbody tr th {\n",
       "        vertical-align: top;\n",
       "    }\n",
       "\n",
       "    .dataframe thead th {\n",
       "        text-align: right;\n",
       "    }\n",
       "</style>\n",
       "<table border=\"1\" class=\"dataframe\">\n",
       "  <thead>\n",
       "    <tr style=\"text-align: right;\">\n",
       "      <th></th>\n",
       "      <th>Parameter</th>\n",
       "      <th>Coef.</th>\n",
       "      <th>Std.Err.</th>\n",
       "      <th>z</th>\n",
       "      <th>P&gt;|z|</th>\n",
       "      <th>[0.025</th>\n",
       "      <th>0.975]</th>\n",
       "    </tr>\n",
       "  </thead>\n",
       "  <tbody>\n",
       "    <tr>\n",
       "      <th>0</th>\n",
       "      <td>Intercept</td>\n",
       "      <td>32.682</td>\n",
       "      <td>2.326</td>\n",
       "      <td>14.054</td>\n",
       "      <td>0.000</td>\n",
       "      <td>28.124</td>\n",
       "      <td>37.240</td>\n",
       "    </tr>\n",
       "    <tr>\n",
       "      <th>1</th>\n",
       "      <td>wh_numeric</td>\n",
       "      <td>0.048</td>\n",
       "      <td>0.059</td>\n",
       "      <td>0.804</td>\n",
       "      <td>0.421</td>\n",
       "      <td>-0.068</td>\n",
       "      <td>0.164</td>\n",
       "    </tr>\n",
       "  </tbody>\n",
       "</table>\n",
       "</div>"
      ],
      "text/plain": [
       "    Parameter   Coef. Std.Err.       z  P>|z|  [0.025  0.975]\n",
       "0   Intercept  32.682    2.326  14.054  0.000  28.124  37.240\n",
       "1  wh_numeric   0.048    0.059   0.804  0.421  -0.068   0.164"
      ]
     },
     "metadata": {},
     "output_type": "display_data"
    },
    {
     "name": "stdout",
     "output_type": "stream",
     "text": [
      "\n",
      "=== RANDOM EFFECTS / VARIANCE-COVARIANCE ===\n"
     ]
    },
    {
     "data": {
      "text/html": [
       "<div>\n",
       "<style scoped>\n",
       "    .dataframe tbody tr th:only-of-type {\n",
       "        vertical-align: middle;\n",
       "    }\n",
       "\n",
       "    .dataframe tbody tr th {\n",
       "        vertical-align: top;\n",
       "    }\n",
       "\n",
       "    .dataframe thead th {\n",
       "        text-align: right;\n",
       "    }\n",
       "</style>\n",
       "<table border=\"1\" class=\"dataframe\">\n",
       "  <thead>\n",
       "    <tr style=\"text-align: right;\">\n",
       "      <th></th>\n",
       "      <th>Parameter</th>\n",
       "      <th>Coef.</th>\n",
       "      <th>Std.Err.</th>\n",
       "    </tr>\n",
       "  </thead>\n",
       "  <tbody>\n",
       "    <tr>\n",
       "      <th>0</th>\n",
       "      <td>Group Var</td>\n",
       "      <td>108.089</td>\n",
       "      <td>59.060</td>\n",
       "    </tr>\n",
       "  </tbody>\n",
       "</table>\n",
       "</div>"
      ],
      "text/plain": [
       "   Parameter    Coef. Std.Err.\n",
       "0  Group Var  108.089   59.060"
      ]
     },
     "metadata": {},
     "output_type": "display_data"
    },
    {
     "data": {
      "text/plain": [
       "<statsmodels.regression.mixed_linear_model.MixedLMResultsWrapper at 0x15382e678fa0>"
      ]
     },
     "execution_count": 68,
     "metadata": {},
     "output_type": "execute_result"
    }
   ],
   "source": [
    "# flip test: gap-\n",
    "no_gap_df = sentence_df[sentence_df['gap_numeric'] == -1]\n",
    "iv_list = ['wh_numeric']\n",
    "mixed_effects_linear_regression(no_gap_df, iv_list, 'region_surprisal', 'adjunct islands continuation: gap-')"
   ]
  },
  {
   "cell_type": "code",
   "execution_count": 69,
   "id": "cb3739ed",
   "metadata": {},
   "outputs": [
    {
     "name": "stdout",
     "output_type": "stream",
     "text": [
      "\n",
      "=== ADJUNCT ISLANDS CONTINUATION: GAP+ ===\n",
      "\n",
      "=== MODEL SUMMARY ===\n",
      ":            MixedLM Dependent Variable: region_surprisal\n",
      "No. Observations: 120\n",
      "Method: REML\n",
      "No. Groups: 20\n",
      "Scale: 0.4337\n",
      "Min. group size: 6\n",
      "Log-Likelihood: -188.6038\n",
      "Max. group size: 6\n",
      "Converged: Yes\n",
      "Mean group size: 6.0\n",
      "\n",
      "=== FIXED EFFECTS COEFFICIENTS ===\n"
     ]
    },
    {
     "data": {
      "text/html": [
       "<div>\n",
       "<style scoped>\n",
       "    .dataframe tbody tr th:only-of-type {\n",
       "        vertical-align: middle;\n",
       "    }\n",
       "\n",
       "    .dataframe tbody tr th {\n",
       "        vertical-align: top;\n",
       "    }\n",
       "\n",
       "    .dataframe thead th {\n",
       "        text-align: right;\n",
       "    }\n",
       "</style>\n",
       "<table border=\"1\" class=\"dataframe\">\n",
       "  <thead>\n",
       "    <tr style=\"text-align: right;\">\n",
       "      <th></th>\n",
       "      <th>Parameter</th>\n",
       "      <th>Coef.</th>\n",
       "      <th>Std.Err.</th>\n",
       "      <th>z</th>\n",
       "      <th>P&gt;|z|</th>\n",
       "      <th>[0.025</th>\n",
       "      <th>0.975]</th>\n",
       "    </tr>\n",
       "  </thead>\n",
       "  <tbody>\n",
       "    <tr>\n",
       "      <th>0</th>\n",
       "      <td>Intercept</td>\n",
       "      <td>42.802</td>\n",
       "      <td>1.905</td>\n",
       "      <td>22.466</td>\n",
       "      <td>0.000</td>\n",
       "      <td>39.068</td>\n",
       "      <td>46.537</td>\n",
       "    </tr>\n",
       "    <tr>\n",
       "      <th>1</th>\n",
       "      <td>wh_numeric</td>\n",
       "      <td>0.028</td>\n",
       "      <td>0.060</td>\n",
       "      <td>0.460</td>\n",
       "      <td>0.645</td>\n",
       "      <td>-0.090</td>\n",
       "      <td>0.145</td>\n",
       "    </tr>\n",
       "  </tbody>\n",
       "</table>\n",
       "</div>"
      ],
      "text/plain": [
       "    Parameter   Coef. Std.Err.       z  P>|z|  [0.025  0.975]\n",
       "0   Intercept  42.802    1.905  22.466  0.000  39.068  46.537\n",
       "1  wh_numeric   0.028    0.060   0.460  0.645  -0.090   0.145"
      ]
     },
     "metadata": {},
     "output_type": "display_data"
    },
    {
     "name": "stdout",
     "output_type": "stream",
     "text": [
      "\n",
      "=== RANDOM EFFECTS / VARIANCE-COVARIANCE ===\n"
     ]
    },
    {
     "data": {
      "text/html": [
       "<div>\n",
       "<style scoped>\n",
       "    .dataframe tbody tr th:only-of-type {\n",
       "        vertical-align: middle;\n",
       "    }\n",
       "\n",
       "    .dataframe tbody tr th {\n",
       "        vertical-align: top;\n",
       "    }\n",
       "\n",
       "    .dataframe thead th {\n",
       "        text-align: right;\n",
       "    }\n",
       "</style>\n",
       "<table border=\"1\" class=\"dataframe\">\n",
       "  <thead>\n",
       "    <tr style=\"text-align: right;\">\n",
       "      <th></th>\n",
       "      <th>Parameter</th>\n",
       "      <th>Coef.</th>\n",
       "      <th>Std.Err.</th>\n",
       "    </tr>\n",
       "  </thead>\n",
       "  <tbody>\n",
       "    <tr>\n",
       "      <th>0</th>\n",
       "      <td>Group Var</td>\n",
       "      <td>72.524</td>\n",
       "      <td>39.043</td>\n",
       "    </tr>\n",
       "  </tbody>\n",
       "</table>\n",
       "</div>"
      ],
      "text/plain": [
       "   Parameter   Coef. Std.Err.\n",
       "0  Group Var  72.524   39.043"
      ]
     },
     "metadata": {},
     "output_type": "display_data"
    },
    {
     "data": {
      "text/plain": [
       "<statsmodels.regression.mixed_linear_model.MixedLMResultsWrapper at 0x15382cd46ca0>"
      ]
     },
     "execution_count": 69,
     "metadata": {},
     "output_type": "execute_result"
    }
   ],
   "source": [
    "# flip test: gap+\n",
    "gap_df = sentence_df[sentence_df['gap_numeric'] == 1]\n",
    "iv_list = ['wh_numeric']\n",
    "mixed_effects_linear_regression(gap_df, iv_list, 'region_surprisal', 'adjunct islands continuation: gap+')"
   ]
  },
  {
   "cell_type": "code",
   "execution_count": 70,
   "id": "c928ab31",
   "metadata": {},
   "outputs": [
    {
     "name": "stdout",
     "output_type": "stream",
     "text": [
      "\n",
      "=== ADJUNCT ISLANDS CONTINUATION: DIVISION BY GRAMMATICALITY ===\n",
      "\n",
      "=== MODEL SUMMARY ===\n",
      "Model: MixedLM\n",
      "Dependent Variable: region_surprisal\n",
      "No. Observations: 240\n",
      "Method: REML\n",
      "No. Groups: 20\n",
      "Scale: 67.3039\n",
      "Min. group size: 12\n",
      "Log-Likelihood: -864.7407\n",
      "Max. group size: 12\n",
      "Converged: Yes\n",
      "Mean group size: 12.0\n",
      "\n",
      "=== FIXED EFFECTS COEFFICIENTS ===\n"
     ]
    },
    {
     "data": {
      "text/html": [
       "<div>\n",
       "<style scoped>\n",
       "    .dataframe tbody tr th:only-of-type {\n",
       "        vertical-align: middle;\n",
       "    }\n",
       "\n",
       "    .dataframe tbody tr th {\n",
       "        vertical-align: top;\n",
       "    }\n",
       "\n",
       "    .dataframe thead th {\n",
       "        text-align: right;\n",
       "    }\n",
       "</style>\n",
       "<table border=\"1\" class=\"dataframe\">\n",
       "  <thead>\n",
       "    <tr style=\"text-align: right;\">\n",
       "      <th></th>\n",
       "      <th>Parameter</th>\n",
       "      <th>Coef.</th>\n",
       "      <th>Std.Err.</th>\n",
       "      <th>z</th>\n",
       "      <th>P&gt;|z|</th>\n",
       "      <th>[0.025</th>\n",
       "      <th>0.975]</th>\n",
       "    </tr>\n",
       "  </thead>\n",
       "  <tbody>\n",
       "    <tr>\n",
       "      <th>0</th>\n",
       "      <td>Intercept</td>\n",
       "      <td>37.732</td>\n",
       "      <td>1.713</td>\n",
       "      <td>22.029</td>\n",
       "      <td>0.000</td>\n",
       "      <td>34.375</td>\n",
       "      <td>41.089</td>\n",
       "    </tr>\n",
       "    <tr>\n",
       "      <th>1</th>\n",
       "      <td>grammaticality[T.gram-]</td>\n",
       "      <td>0.020</td>\n",
       "      <td>1.059</td>\n",
       "      <td>0.019</td>\n",
       "      <td>0.985</td>\n",
       "      <td>-2.056</td>\n",
       "      <td>2.096</td>\n",
       "    </tr>\n",
       "  </tbody>\n",
       "</table>\n",
       "</div>"
      ],
      "text/plain": [
       "                 Parameter   Coef. Std.Err.       z  P>|z|  [0.025  0.975]\n",
       "0                Intercept  37.732    1.713  22.029  0.000  34.375  41.089\n",
       "1  grammaticality[T.gram-]   0.020    1.059   0.019  0.985  -2.056   2.096"
      ]
     },
     "metadata": {},
     "output_type": "display_data"
    },
    {
     "name": "stdout",
     "output_type": "stream",
     "text": [
      "\n",
      "=== RANDOM EFFECTS / VARIANCE-COVARIANCE ===\n"
     ]
    },
    {
     "data": {
      "text/html": [
       "<div>\n",
       "<style scoped>\n",
       "    .dataframe tbody tr th:only-of-type {\n",
       "        vertical-align: middle;\n",
       "    }\n",
       "\n",
       "    .dataframe tbody tr th {\n",
       "        vertical-align: top;\n",
       "    }\n",
       "\n",
       "    .dataframe thead th {\n",
       "        text-align: right;\n",
       "    }\n",
       "</style>\n",
       "<table border=\"1\" class=\"dataframe\">\n",
       "  <thead>\n",
       "    <tr style=\"text-align: right;\">\n",
       "      <th></th>\n",
       "      <th>Parameter</th>\n",
       "      <th>Coef.</th>\n",
       "      <th>Std.Err.</th>\n",
       "    </tr>\n",
       "  </thead>\n",
       "  <tbody>\n",
       "    <tr>\n",
       "      <th>0</th>\n",
       "      <td>Group Var</td>\n",
       "      <td>47.459</td>\n",
       "      <td>2.188</td>\n",
       "    </tr>\n",
       "  </tbody>\n",
       "</table>\n",
       "</div>"
      ],
      "text/plain": [
       "   Parameter   Coef. Std.Err.\n",
       "0  Group Var  47.459    2.188"
      ]
     },
     "metadata": {},
     "output_type": "display_data"
    },
    {
     "data": {
      "text/plain": [
       "<statsmodels.regression.mixed_linear_model.MixedLMResultsWrapper at 0x15382cd3e9d0>"
      ]
     },
     "execution_count": 70,
     "metadata": {},
     "output_type": "execute_result"
    }
   ],
   "source": [
    "# division by grammaticality\n",
    "iv_list = ['grammaticality']\n",
    "mixed_effects_linear_regression(sentence_df, iv_list, 'region_surprisal', 'adjunct islands continuation: division by grammaticality')"
   ]
  },
  {
   "cell_type": "markdown",
   "id": "569bc491",
   "metadata": {},
   "source": [
    "Embedded Clause"
   ]
  },
  {
   "cell_type": "code",
   "execution_count": 71,
   "id": "6100ff4c",
   "metadata": {},
   "outputs": [],
   "source": [
    "embed = ['adjunct_back_trigger', 'prep', 'subj', 'mod', 'verb', 'obj', 'cont', 'adjunct_front_trigger', 'end']\n",
    "sentence_df['embed_surprisal'] = sentence_df.apply(lambda x: sum_region_surprisal(x, embed, normalize = True), axis = 1)"
   ]
  },
  {
   "cell_type": "code",
   "execution_count": 72,
   "id": "2e194876",
   "metadata": {},
   "outputs": [
    {
     "name": "stdout",
     "output_type": "stream",
     "text": [
      "\n",
      "=== ADJUNCT ISLANDS EMBED: GAP- ===\n",
      "\n",
      "=== MODEL SUMMARY ===\n",
      ":            MixedLM Dependent Variable: embed_surprisal\n",
      "No. Observations: 120\n",
      "Method: REML\n",
      "No. Groups: 20\n",
      "Scale: 0.1677\n",
      "Min. group size: 6\n",
      "Log-Likelihood: -102.1663\n",
      "Max. group size: 6\n",
      "Converged: Yes\n",
      "Mean group size: 6.0\n",
      "\n",
      "=== FIXED EFFECTS COEFFICIENTS ===\n"
     ]
    },
    {
     "data": {
      "text/html": [
       "<div>\n",
       "<style scoped>\n",
       "    .dataframe tbody tr th:only-of-type {\n",
       "        vertical-align: middle;\n",
       "    }\n",
       "\n",
       "    .dataframe tbody tr th {\n",
       "        vertical-align: top;\n",
       "    }\n",
       "\n",
       "    .dataframe thead th {\n",
       "        text-align: right;\n",
       "    }\n",
       "</style>\n",
       "<table border=\"1\" class=\"dataframe\">\n",
       "  <thead>\n",
       "    <tr style=\"text-align: right;\">\n",
       "      <th></th>\n",
       "      <th>Parameter</th>\n",
       "      <th>Coef.</th>\n",
       "      <th>Std.Err.</th>\n",
       "      <th>z</th>\n",
       "      <th>P&gt;|z|</th>\n",
       "      <th>[0.025</th>\n",
       "      <th>0.975]</th>\n",
       "    </tr>\n",
       "  </thead>\n",
       "  <tbody>\n",
       "    <tr>\n",
       "      <th>0</th>\n",
       "      <td>Intercept</td>\n",
       "      <td>9.397</td>\n",
       "      <td>0.240</td>\n",
       "      <td>39.220</td>\n",
       "      <td>0.000</td>\n",
       "      <td>8.928</td>\n",
       "      <td>9.867</td>\n",
       "    </tr>\n",
       "    <tr>\n",
       "      <th>1</th>\n",
       "      <td>wh_numeric</td>\n",
       "      <td>0.050</td>\n",
       "      <td>0.037</td>\n",
       "      <td>1.343</td>\n",
       "      <td>0.179</td>\n",
       "      <td>-0.023</td>\n",
       "      <td>0.123</td>\n",
       "    </tr>\n",
       "  </tbody>\n",
       "</table>\n",
       "</div>"
      ],
      "text/plain": [
       "    Parameter  Coef. Std.Err.       z  P>|z|  [0.025 0.975]\n",
       "0   Intercept  9.397    0.240  39.220  0.000   8.928  9.867\n",
       "1  wh_numeric  0.050    0.037   1.343  0.179  -0.023  0.123"
      ]
     },
     "metadata": {},
     "output_type": "display_data"
    },
    {
     "name": "stdout",
     "output_type": "stream",
     "text": [
      "\n",
      "=== RANDOM EFFECTS / VARIANCE-COVARIANCE ===\n"
     ]
    },
    {
     "data": {
      "text/html": [
       "<div>\n",
       "<style scoped>\n",
       "    .dataframe tbody tr th:only-of-type {\n",
       "        vertical-align: middle;\n",
       "    }\n",
       "\n",
       "    .dataframe tbody tr th {\n",
       "        vertical-align: top;\n",
       "    }\n",
       "\n",
       "    .dataframe thead th {\n",
       "        text-align: right;\n",
       "    }\n",
       "</style>\n",
       "<table border=\"1\" class=\"dataframe\">\n",
       "  <thead>\n",
       "    <tr style=\"text-align: right;\">\n",
       "      <th></th>\n",
       "      <th>Parameter</th>\n",
       "      <th>Coef.</th>\n",
       "      <th>Std.Err.</th>\n",
       "    </tr>\n",
       "  </thead>\n",
       "  <tbody>\n",
       "    <tr>\n",
       "      <th>0</th>\n",
       "      <td>Group Var</td>\n",
       "      <td>1.120</td>\n",
       "      <td>0.993</td>\n",
       "    </tr>\n",
       "  </tbody>\n",
       "</table>\n",
       "</div>"
      ],
      "text/plain": [
       "   Parameter  Coef. Std.Err.\n",
       "0  Group Var  1.120    0.993"
      ]
     },
     "metadata": {},
     "output_type": "display_data"
    },
    {
     "data": {
      "text/plain": [
       "<statsmodels.regression.mixed_linear_model.MixedLMResultsWrapper at 0x15382e67fbb0>"
      ]
     },
     "execution_count": 72,
     "metadata": {},
     "output_type": "execute_result"
    }
   ],
   "source": [
    "# flip test: gap-\n",
    "no_gap_df = sentence_df[sentence_df['gap_numeric'] == -1]\n",
    "iv_list = ['wh_numeric']\n",
    "mixed_effects_linear_regression(no_gap_df, iv_list, 'embed_surprisal', 'adjunct islands embed: gap-')"
   ]
  },
  {
   "cell_type": "code",
   "execution_count": 73,
   "id": "8fa7d54b",
   "metadata": {},
   "outputs": [
    {
     "name": "stdout",
     "output_type": "stream",
     "text": [
      "\n",
      "=== ADJUNCT ISLANDS EMBED: GAP+ ===\n",
      "\n",
      "=== MODEL SUMMARY ===\n",
      ":            MixedLM Dependent Variable: embed_surprisal\n",
      "No. Observations: 120\n",
      "Method: REML\n",
      "No. Groups: 20\n",
      "Scale: 0.2884\n",
      "Min. group size: 6\n",
      "Log-Likelihood: -128.2958\n",
      "Max. group size: 6\n",
      "Converged: Yes\n",
      "Mean group size: 6.0\n",
      "\n",
      "=== FIXED EFFECTS COEFFICIENTS ===\n"
     ]
    },
    {
     "data": {
      "text/html": [
       "<div>\n",
       "<style scoped>\n",
       "    .dataframe tbody tr th:only-of-type {\n",
       "        vertical-align: middle;\n",
       "    }\n",
       "\n",
       "    .dataframe tbody tr th {\n",
       "        vertical-align: top;\n",
       "    }\n",
       "\n",
       "    .dataframe thead th {\n",
       "        text-align: right;\n",
       "    }\n",
       "</style>\n",
       "<table border=\"1\" class=\"dataframe\">\n",
       "  <thead>\n",
       "    <tr style=\"text-align: right;\">\n",
       "      <th></th>\n",
       "      <th>Parameter</th>\n",
       "      <th>Coef.</th>\n",
       "      <th>Std.Err.</th>\n",
       "      <th>z</th>\n",
       "      <th>P&gt;|z|</th>\n",
       "      <th>[0.025</th>\n",
       "      <th>0.975]</th>\n",
       "    </tr>\n",
       "  </thead>\n",
       "  <tbody>\n",
       "    <tr>\n",
       "      <th>0</th>\n",
       "      <td>Intercept</td>\n",
       "      <td>8.949</td>\n",
       "      <td>0.231</td>\n",
       "      <td>38.786</td>\n",
       "      <td>0.000</td>\n",
       "      <td>8.497</td>\n",
       "      <td>9.401</td>\n",
       "    </tr>\n",
       "    <tr>\n",
       "      <th>1</th>\n",
       "      <td>wh_numeric</td>\n",
       "      <td>0.051</td>\n",
       "      <td>0.049</td>\n",
       "      <td>1.040</td>\n",
       "      <td>0.298</td>\n",
       "      <td>-0.045</td>\n",
       "      <td>0.147</td>\n",
       "    </tr>\n",
       "  </tbody>\n",
       "</table>\n",
       "</div>"
      ],
      "text/plain": [
       "    Parameter  Coef. Std.Err.       z  P>|z|  [0.025 0.975]\n",
       "0   Intercept  8.949    0.231  38.786  0.000   8.497  9.401\n",
       "1  wh_numeric  0.051    0.049   1.040  0.298  -0.045  0.147"
      ]
     },
     "metadata": {},
     "output_type": "display_data"
    },
    {
     "name": "stdout",
     "output_type": "stream",
     "text": [
      "\n",
      "=== RANDOM EFFECTS / VARIANCE-COVARIANCE ===\n"
     ]
    },
    {
     "data": {
      "text/html": [
       "<div>\n",
       "<style scoped>\n",
       "    .dataframe tbody tr th:only-of-type {\n",
       "        vertical-align: middle;\n",
       "    }\n",
       "\n",
       "    .dataframe tbody tr th {\n",
       "        vertical-align: top;\n",
       "    }\n",
       "\n",
       "    .dataframe thead th {\n",
       "        text-align: right;\n",
       "    }\n",
       "</style>\n",
       "<table border=\"1\" class=\"dataframe\">\n",
       "  <thead>\n",
       "    <tr style=\"text-align: right;\">\n",
       "      <th></th>\n",
       "      <th>Parameter</th>\n",
       "      <th>Coef.</th>\n",
       "      <th>Std.Err.</th>\n",
       "    </tr>\n",
       "  </thead>\n",
       "  <tbody>\n",
       "    <tr>\n",
       "      <th>0</th>\n",
       "      <td>Group Var</td>\n",
       "      <td>1.017</td>\n",
       "      <td>0.702</td>\n",
       "    </tr>\n",
       "  </tbody>\n",
       "</table>\n",
       "</div>"
      ],
      "text/plain": [
       "   Parameter  Coef. Std.Err.\n",
       "0  Group Var  1.017    0.702"
      ]
     },
     "metadata": {},
     "output_type": "display_data"
    },
    {
     "data": {
      "text/plain": [
       "<statsmodels.regression.mixed_linear_model.MixedLMResultsWrapper at 0x15382cd52fa0>"
      ]
     },
     "execution_count": 73,
     "metadata": {},
     "output_type": "execute_result"
    }
   ],
   "source": [
    "# flip test: gap+\n",
    "gap_df = sentence_df[sentence_df['gap_numeric'] == 1]\n",
    "iv_list = ['wh_numeric']\n",
    "mixed_effects_linear_regression(gap_df, iv_list, 'embed_surprisal', 'adjunct islands embed: gap+')"
   ]
  },
  {
   "cell_type": "code",
   "execution_count": 74,
   "id": "85101278",
   "metadata": {},
   "outputs": [
    {
     "name": "stdout",
     "output_type": "stream",
     "text": [
      "\n",
      "=== ADJUNCT ISLANDS EMBED: DIVISION BY GRAMMATICALITY ===\n",
      "\n",
      "=== MODEL SUMMARY ===\n",
      "Model: MixedLM\n",
      "Dependent Variable: embed_surprisal\n",
      "No. Observations: 240\n",
      "Method: REML\n",
      "No. Groups: 20\n",
      "Scale: 0.3265\n",
      "Min. group size: 12\n",
      "Log-Likelihood: -243.9673\n",
      "Max. group size: 12\n",
      "Converged: Yes\n",
      "Mean group size: 12.0\n",
      "\n",
      "=== FIXED EFFECTS COEFFICIENTS ===\n"
     ]
    },
    {
     "data": {
      "text/html": [
       "<div>\n",
       "<style scoped>\n",
       "    .dataframe tbody tr th:only-of-type {\n",
       "        vertical-align: middle;\n",
       "    }\n",
       "\n",
       "    .dataframe tbody tr th {\n",
       "        vertical-align: top;\n",
       "    }\n",
       "\n",
       "    .dataframe thead th {\n",
       "        text-align: right;\n",
       "    }\n",
       "</style>\n",
       "<table border=\"1\" class=\"dataframe\">\n",
       "  <thead>\n",
       "    <tr style=\"text-align: right;\">\n",
       "      <th></th>\n",
       "      <th>Parameter</th>\n",
       "      <th>Coef.</th>\n",
       "      <th>Std.Err.</th>\n",
       "      <th>z</th>\n",
       "      <th>P&gt;|z|</th>\n",
       "      <th>[0.025</th>\n",
       "      <th>0.975]</th>\n",
       "    </tr>\n",
       "  </thead>\n",
       "  <tbody>\n",
       "    <tr>\n",
       "      <th>0</th>\n",
       "      <td>Intercept</td>\n",
       "      <td>9.174</td>\n",
       "      <td>0.232</td>\n",
       "      <td>39.595</td>\n",
       "      <td>0.000</td>\n",
       "      <td>8.720</td>\n",
       "      <td>9.628</td>\n",
       "    </tr>\n",
       "    <tr>\n",
       "      <th>1</th>\n",
       "      <td>grammaticality[T.gram-]</td>\n",
       "      <td>-0.001</td>\n",
       "      <td>0.074</td>\n",
       "      <td>-0.011</td>\n",
       "      <td>0.992</td>\n",
       "      <td>-0.145</td>\n",
       "      <td>0.144</td>\n",
       "    </tr>\n",
       "  </tbody>\n",
       "</table>\n",
       "</div>"
      ],
      "text/plain": [
       "                 Parameter   Coef. Std.Err.       z  P>|z|  [0.025 0.975]\n",
       "0                Intercept   9.174    0.232  39.595  0.000   8.720  9.628\n",
       "1  grammaticality[T.gram-]  -0.001    0.074  -0.011  0.992  -0.145  0.144"
      ]
     },
     "metadata": {},
     "output_type": "display_data"
    },
    {
     "name": "stdout",
     "output_type": "stream",
     "text": [
      "\n",
      "=== RANDOM EFFECTS / VARIANCE-COVARIANCE ===\n"
     ]
    },
    {
     "data": {
      "text/html": [
       "<div>\n",
       "<style scoped>\n",
       "    .dataframe tbody tr th:only-of-type {\n",
       "        vertical-align: middle;\n",
       "    }\n",
       "\n",
       "    .dataframe tbody tr th {\n",
       "        vertical-align: top;\n",
       "    }\n",
       "\n",
       "    .dataframe thead th {\n",
       "        text-align: right;\n",
       "    }\n",
       "</style>\n",
       "<table border=\"1\" class=\"dataframe\">\n",
       "  <thead>\n",
       "    <tr style=\"text-align: right;\">\n",
       "      <th></th>\n",
       "      <th>Parameter</th>\n",
       "      <th>Coef.</th>\n",
       "      <th>Std.Err.</th>\n",
       "    </tr>\n",
       "  </thead>\n",
       "  <tbody>\n",
       "    <tr>\n",
       "      <th>0</th>\n",
       "      <td>Group Var</td>\n",
       "      <td>1.019</td>\n",
       "      <td>0.619</td>\n",
       "    </tr>\n",
       "  </tbody>\n",
       "</table>\n",
       "</div>"
      ],
      "text/plain": [
       "   Parameter  Coef. Std.Err.\n",
       "0  Group Var  1.019    0.619"
      ]
     },
     "metadata": {},
     "output_type": "display_data"
    },
    {
     "data": {
      "text/plain": [
       "<statsmodels.regression.mixed_linear_model.MixedLMResultsWrapper at 0x15382cd4aa00>"
      ]
     },
     "execution_count": 74,
     "metadata": {},
     "output_type": "execute_result"
    }
   ],
   "source": [
    "# division by grammaticality\n",
    "iv_list = ['grammaticality']\n",
    "mixed_effects_linear_regression(sentence_df, iv_list, 'embed_surprisal', 'adjunct islands embed: division by grammaticality')"
   ]
  },
  {
   "cell_type": "markdown",
   "id": "07e0db26",
   "metadata": {},
   "source": [
    "#### Complex NP Islands"
   ]
  },
  {
   "cell_type": "code",
   "execution_count": null,
   "id": "bde5e77a",
   "metadata": {},
   "outputs": [],
   "source": [
    "sentence_df = pd.read_csv('test_sentences/Complex NP Islands.csv')"
   ]
  },
  {
   "cell_type": "code",
   "execution_count": null,
   "id": "afed9a1b",
   "metadata": {},
   "outputs": [],
   "source": [
    "sentence_df = encode_wh_licensor(sentence_df)\n",
    "sentence_df['gap_numeric'] = sentence_df['gap'].replace(0, -1)\n",
    "sentence_df['sentence'] = sentence_df.apply(merge_sentence, axis = 1)\n",
    "sentence_df['surprisals'] = sentence_df['sentence'].apply(calculate_surprisal)\n",
    "sentence_df['grammaticality'] = sentence_df.apply(assign_grammaticality, axis = 1)"
   ]
  },
  {
   "cell_type": "markdown",
   "id": "358387ce",
   "metadata": {},
   "source": [
    "Subject Condition"
   ]
  },
  {
   "cell_type": "code",
   "execution_count": null,
   "id": "5d27709c",
   "metadata": {},
   "outputs": [],
   "source": [
    "subject_df = sentence_df.copy()"
   ]
  },
  {
   "cell_type": "code",
   "execution_count": null,
   "id": "610beed3",
   "metadata": {},
   "outputs": [],
   "source": [
    "subject_df['region_surprisal'] = subject_df.apply(lambda x: sum_region_surprisal(x, ['subj_setup']), axis = 1)\n",
    "subject_df"
   ]
  },
  {
   "cell_type": "code",
   "execution_count": null,
   "id": "bbb79ffd",
   "metadata": {},
   "outputs": [],
   "source": [
    "# filter for subject condition\n",
    "subject_df = subject_df[subject_df['subj_obj'] == 'subject']"
   ]
  },
  {
   "cell_type": "code",
   "execution_count": null,
   "id": "f2fe73eb",
   "metadata": {},
   "outputs": [],
   "source": [
    "# flip test: gap-\n",
    "no_gap_df = subject_df[subject_df['gap_numeric'] == -1]\n",
    "iv_list = ['wh_numeric']\n",
    "mixed_effects_linear_regression(no_gap_df, iv_list, 'region_surprisal', 'complex np islands subject condition: gap-')"
   ]
  },
  {
   "cell_type": "code",
   "execution_count": null,
   "id": "291749b8",
   "metadata": {},
   "outputs": [],
   "source": [
    "# flip test: gap+\n",
    "gap_df = subject_df[subject_df['gap_numeric'] == 1]\n",
    "iv_list = ['wh_numeric']\n",
    "mixed_effects_linear_regression(gap_df, iv_list, 'region_surprisal', 'complex np islands subject condition: gap+')"
   ]
  },
  {
   "cell_type": "code",
   "execution_count": null,
   "id": "05f382a6",
   "metadata": {},
   "outputs": [],
   "source": [
    "# division by grammaticality\n",
    "iv_list = ['grammaticality']\n",
    "mixed_effects_linear_regression(subject_df, iv_list, 'region_surprisal', 'complex np islands subject condition: division by grammaticality')"
   ]
  },
  {
   "cell_type": "markdown",
   "id": "294132b0",
   "metadata": {},
   "source": [
    "Object Condition"
   ]
  },
  {
   "cell_type": "code",
   "execution_count": null,
   "id": "9574aa02",
   "metadata": {},
   "outputs": [],
   "source": [
    "object_df = sentence_df.copy()"
   ]
  },
  {
   "cell_type": "code",
   "execution_count": null,
   "id": "3fefbd08",
   "metadata": {},
   "outputs": [],
   "source": [
    "object_df['region_surprisal'] = object_df.apply(lambda x: sum_region_surprisal(x, ['end']), axis = 1)\n",
    "object_df"
   ]
  },
  {
   "cell_type": "code",
   "execution_count": null,
   "id": "096b2939",
   "metadata": {},
   "outputs": [],
   "source": [
    "# filter for object gap\n",
    "object_df = object_df[object_df['subj_obj'] == 'object']"
   ]
  },
  {
   "cell_type": "code",
   "execution_count": null,
   "id": "976c9e9c",
   "metadata": {},
   "outputs": [],
   "source": [
    "# flip test: gap-\n",
    "no_gap_df = object_df[object_df['gap_numeric'] == -1]\n",
    "iv_list = ['wh_numeric']\n",
    "mixed_effects_linear_regression(no_gap_df, iv_list, 'region_surprisal', 'complex np islands object condition: gap-')"
   ]
  },
  {
   "cell_type": "code",
   "execution_count": null,
   "id": "4f9931c4",
   "metadata": {},
   "outputs": [],
   "source": [
    "# flip test: gap+\n",
    "gap_df = object_df[object_df['gap_numeric'] == 1]\n",
    "iv_list = ['wh_numeric']\n",
    "mixed_effects_linear_regression(gap_df, iv_list, 'region_surprisal', 'complex np islands object condition: gap+')"
   ]
  },
  {
   "cell_type": "code",
   "execution_count": null,
   "id": "739a2118",
   "metadata": {},
   "outputs": [],
   "source": [
    "# division by grammaticality\n",
    "iv_list = ['grammaticality']\n",
    "mixed_effects_linear_regression(object_df, iv_list, 'region_surprisal', 'complex np islands object condition: division by grammaticality')"
   ]
  },
  {
   "cell_type": "markdown",
   "id": "07690342",
   "metadata": {},
   "source": [
    "Embedded Clause"
   ]
  },
  {
   "cell_type": "code",
   "execution_count": null,
   "id": "864c9ec4",
   "metadata": {},
   "outputs": [],
   "source": [
    "embed = ['subj', 'that_rc', 'what_rc', 'rc_np', 'prep', 'prep_np', 'subj_setup', 'obj_setup', 'end']\n",
    "sentence_df['embed_surprisal'] = sentence_df.apply(lambda x: sum_region_surprisal(x, embed, normalize = True), axis = 1)\n",
    "sentence_df"
   ]
  },
  {
   "cell_type": "markdown",
   "id": "364db12b",
   "metadata": {},
   "source": [
    "Embedded Clause - Subject Condition"
   ]
  },
  {
   "cell_type": "code",
   "execution_count": null,
   "id": "07f27b79",
   "metadata": {},
   "outputs": [],
   "source": [
    "# filter for subject condition\n",
    "subject_df = sentence_df[sentence_df['subj_obj'] == 'subject']"
   ]
  },
  {
   "cell_type": "code",
   "execution_count": null,
   "id": "4d0bed9e",
   "metadata": {},
   "outputs": [],
   "source": [
    "# flip test: gap-\n",
    "no_gap_df = subject_df[subject_df['gap_numeric'] == -1]\n",
    "iv_list = ['wh_numeric']\n",
    "mixed_effects_linear_regression(no_gap_df, iv_list, 'embed_surprisal', 'complex np islands subject condition: gap-')"
   ]
  },
  {
   "cell_type": "code",
   "execution_count": null,
   "id": "673a9a8e",
   "metadata": {},
   "outputs": [],
   "source": [
    "# flip test: gap+\n",
    "gap_df = subject_df[subject_df['gap_numeric'] == 1]\n",
    "iv_list = ['wh_numeric']\n",
    "mixed_effects_linear_regression(gap_df, iv_list, 'embed_surprisal', 'complex np islands subject condition: gap+')"
   ]
  },
  {
   "cell_type": "code",
   "execution_count": null,
   "id": "c9503001",
   "metadata": {},
   "outputs": [],
   "source": [
    "# division by grammaticality\n",
    "iv_list = ['grammaticality']\n",
    "mixed_effects_linear_regression(subject_df, iv_list, 'embed_surprisal', 'complex np islands subject condition: division by grammaticality')"
   ]
  },
  {
   "cell_type": "markdown",
   "id": "86916091",
   "metadata": {},
   "source": [
    "Embedded Clause - Object Condition"
   ]
  },
  {
   "cell_type": "code",
   "execution_count": null,
   "id": "419c08d7",
   "metadata": {},
   "outputs": [],
   "source": [
    "# filter for object gap\n",
    "object_df = sentence_df[sentence_df['subj_obj'] == 'object']"
   ]
  },
  {
   "cell_type": "code",
   "execution_count": null,
   "id": "4ba3d7d7",
   "metadata": {},
   "outputs": [],
   "source": [
    "# flip test: gap-\n",
    "no_gap_df = object_df[object_df['gap_numeric'] == -1]\n",
    "iv_list = ['wh_numeric']\n",
    "mixed_effects_linear_regression(no_gap_df, iv_list, 'embed_surprisal', 'complex np islands object condition: gap-')"
   ]
  },
  {
   "cell_type": "code",
   "execution_count": null,
   "id": "9de128f5",
   "metadata": {},
   "outputs": [],
   "source": [
    "# flip test: gap+\n",
    "gap_df = object_df[object_df['gap_numeric'] == 1]\n",
    "iv_list = ['wh_numeric']\n",
    "mixed_effects_linear_regression(gap_df, iv_list, 'embed_surprisal', 'complex np islands object condition: gap+')"
   ]
  },
  {
   "cell_type": "code",
   "execution_count": null,
   "id": "934138df",
   "metadata": {},
   "outputs": [],
   "source": [
    "# division by grammaticality\n",
    "iv_list = ['grammaticality']\n",
    "mixed_effects_linear_regression(object_df, iv_list, 'embed_surprisal', 'complex np islands object condition: division by grammaticality')"
   ]
  }
 ],
 "metadata": {
  "kernelspec": {
   "display_name": "Python 3 (ipykernel)",
   "language": "python",
   "name": "python3"
  },
  "language_info": {
   "codemirror_mode": {
    "name": "ipython",
    "version": 3
   },
   "file_extension": ".py",
   "mimetype": "text/x-python",
   "name": "python",
   "nbconvert_exporter": "python",
   "pygments_lexer": "ipython3",
   "version": "3.9.7"
  }
 },
 "nbformat": 4,
 "nbformat_minor": 5
}
