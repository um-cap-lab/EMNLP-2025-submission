{
 "cells": [
  {
   "cell_type": "code",
   "execution_count": 1,
   "id": "5468eb4b",
   "metadata": {},
   "outputs": [
    {
     "name": "stderr",
     "output_type": "stream",
     "text": [
      "/Library/Frameworks/Python.framework/Versions/3.13/lib/python3.13/site-packages/tqdm/auto.py:21: TqdmWarning: IProgress not found. Please update jupyter and ipywidgets. See https://ipywidgets.readthedocs.io/en/stable/user_install.html\n",
      "  from .autonotebook import tqdm as notebook_tqdm\n",
      "/var/folders/vv/sc6b0f596n7dy9mbxlcnn1180000gq/T/ipykernel_70458/658913012.py:7: DeprecationWarning: \n",
      "Pyarrow will become a required dependency of pandas in the next major release of pandas (pandas 3.0),\n",
      "(to allow more performant data types, such as the Arrow string type, and better interoperability with other libraries)\n",
      "but was not found to be installed on your system.\n",
      "If this would cause problems for you,\n",
      "please provide us feedback at https://github.com/pandas-dev/pandas/issues/54466\n",
      "        \n",
      "  import pandas as pd\n"
     ]
    }
   ],
   "source": [
    "# Minicons Installation\n",
    "# Introduction can be found https://kanishka.xyz/post/minicons-running-large-scale-behavioral-analyses-on-transformer-lms/\n",
    "# Tutorial and code can be found https://github.com/kanishkamisra/minicons/blob/master/examples/surprisals.md\n",
    "#!pip install minicons\n",
    "\n",
    "from minicons import scorer\n",
    "import pandas as pd\n",
    "import numpy as np\n",
    "import json\n",
    "import csv\n",
    "import re\n",
    "import matplotlib.pyplot as plt\n",
    "import seaborn as sns\n",
    "import statsmodels.formula.api as smf\n",
    "import torch\n",
    "from torch.utils.data import DataLoader\n",
    "from transformers import GPT2LMHeadModel, GPT2TokenizerFast"
   ]
  },
  {
   "cell_type": "code",
   "execution_count": null,
   "id": "96f0c8d4",
   "metadata": {},
   "outputs": [],
   "source": [
    "model_path = 'colinglab/ConcreteGPT-124M-128ctx-Strict-Small-mixed_bins'\n",
    "\n",
    "model = GPT2LMHeadModel.from_pretrained(model_path)\n",
    "tokenizer = GPT2TokenizerFast.from_pretrained(model_path)\n",
    "#model = AutoModelForCausalLM.from_pretrained(model_path, trust_remote_code = True)\n",
    "#tokenizer = AutoTokenizer.from_pretrained(model_path, trust_remote_code = True)\n",
    "\n",
    "# wrap with minicons scorer\n",
    "lm_scorer = scorer.IncrementalLMScorer(model_path, device = 'cpu')\n",
    "#lm_scorer = scorer.IncrementalLMScorer(model = model, tokenizer = tokenizer)"
   ]
  },
  {
   "cell_type": "code",
   "execution_count": null,
   "id": "2f7fc01c",
   "metadata": {},
   "outputs": [
    {
     "data": {
      "text/plain": [
       "[('I', 0.0),\n",
       " ('know', 4.838698863983154),\n",
       " ('that', 3.7790958881378174),\n",
       " ('your', 7.082535743713379),\n",
       " ('friend', 7.652877330780029),\n",
       " ('gave', 9.867260932922363),\n",
       " ('a', 4.943260192871094),\n",
       " ('baguette', 32.5692253112793),\n",
       " ('to', 4.711269378662109),\n",
       " ('Mary', 14.36178970336914),\n",
       " ('last', 8.900314331054688),\n",
       " ('weekend', 6.6284589767456055),\n",
       " ('.', 0.8413198590278625)]"
      ]
     },
     "execution_count": 5,
     "metadata": {},
     "output_type": "execute_result"
    }
   ],
   "source": [
    "def calculate_surprisal(sentence):\n",
    "    '''\n",
    "    Takes in a sentence, and outputs surprisal values for each word.\n",
    "    '''\n",
    "    \n",
    "    input_sentence = sentence\n",
    "    # token_score() function of Minicons takes in several parameters\n",
    "    # if surprisal = True, the output value is surprisal instead of log likelihood\n",
    "    # if base_two = True, the log likelihood will be in base 2\n",
    "    # see Minicons documentations for details\n",
    "    # score tokens\n",
    "    token_surprisals = lm_scorer.token_score(input_sentence, surprisal = True, base_two = True)[0]\n",
    "\n",
    "    '''\n",
    "    # filter out special tokens (like <pad>)\n",
    "    special_tokens = set(tokenizer.all_special_tokens)\n",
    "    filtered = [\n",
    "        (token, score)\n",
    "        for (token, score) in token_surprisals\n",
    "        if token not in special_tokens\n",
    "    ]\n",
    "    '''\n",
    "\n",
    "   # expand tokens that contain multiple words\n",
    "    expanded = []\n",
    "    for token, score in token_surprisals:\n",
    "    #for token, score in filtered:\n",
    "        token = token.strip('Ġ') # remove space marker\n",
    "        if token.count('Ġ') > 0:\n",
    "            # multiple words inside\n",
    "            words = token.split('Ġ')\n",
    "            words = [word for word in words if word]  # remove empty strings\n",
    "            for i, word in enumerate(words):\n",
    "                expanded_token = word\n",
    "                expanded.append((expanded_token, score / len(words)))  # split surprisal equally\n",
    "        else:\n",
    "            expanded.append((token, score))    \n",
    "    #print(expanded)\n",
    "\n",
    "    # use regex to split into words and punctuation\n",
    "    words = re.findall(r'\\w+|[^\\w\\s]', sentence)\n",
    "    results = []\n",
    "\n",
    "    token_pointer = 0\n",
    "\n",
    "    for word in words:\n",
    "        accumulated = ''\n",
    "        word_surprisal = 0.0\n",
    "\n",
    "        while token_pointer < len(expanded):\n",
    "            token, surprisal = expanded[token_pointer]\n",
    "            accumulated += token\n",
    "            word_surprisal += surprisal\n",
    "            token_pointer += 1\n",
    "\n",
    "            if accumulated == word:\n",
    "                results.append((word, word_surprisal))\n",
    "                break\n",
    "        else:\n",
    "            results.append((word, word_surprisal))\n",
    "\n",
    "    return results\n",
    "\n",
    "\n",
    "sentence = 'I know that your friend gave a baguette to Mary last weekend.'\n",
    "calculate_surprisal(sentence)"
   ]
  },
  {
   "cell_type": "code",
   "execution_count": null,
   "id": "8edb5f9b",
   "metadata": {},
   "outputs": [],
   "source": [
    "def calculate_sentence_surprisal(word_surprisals):\n",
    "    '''Returns total surprisal and average surprisal per word.'''\n",
    "    \n",
    "    scores = [score for word, score in word_surprisals]\n",
    "    total = sum(scores)\n",
    "    avg = total / len(scores)\n",
    "    return total, avg\n",
    "\n",
    "\"\"\"\n",
    "def sum_region_surprisal(row, region_list):\n",
    "    '''Sums surprisals of a specified sentence region, extracting the relevant part from sentence_surprisals using index information.'''\n",
    "\n",
    "    sentence_surprisals = row['surprisals']\n",
    "    \n",
    "    # retrieve all sentence column(from 'prefix' till 'end')\n",
    "    all_columns = row.index.tolist()  # get the list of column names\n",
    "    prefix_index = all_columns.index('prefix')\n",
    "    eos_index = all_columns.index('end')\n",
    "    \n",
    "    # reconstruct the full sentence from 'prefix' to 'end' (exclude NaN values)\n",
    "    full_sentence = ' '.join([str(row[col]) if pd.notna(row.get(col)) else '' for col in all_columns[prefix_index:eos_index + 1]])\n",
    "    \n",
    "    # use regex to split the full sentence into words & punctuation\n",
    "    sentence_units = re.findall(r'\\w+|[^\\w\\s]', full_sentence)\n",
    "    \n",
    "    # get the start and end indices for the region_list within the full sentence\n",
    "    first_region_column = region_list[0]\n",
    "    first_region_start_index = all_columns.index(first_region_column)\n",
    "    \n",
    "    last_region_column = region_list[-1]\n",
    "    last_region_end_index = all_columns.index(last_region_column)\n",
    "    \n",
    "    # extract the relevant slice of sentence_surprisals that corresponds to the region_list\n",
    "    # calculate the starting and ending index for the region_list part\n",
    "    start_index = sum([\n",
    "        len(re.findall(r'\\w+|[^\\w\\s]', str(row[col]))) for col in all_columns[prefix_index:first_region_start_index]\n",
    "        if pd.notna(row[col]) \n",
    "    ])\n",
    "    end_index = sum([\n",
    "        len(re.findall(r'\\w+|[^\\w\\s]', str(row[col]))) for col in all_columns[prefix_index:last_region_end_index + 1]\n",
    "        if pd.notna(row[col]) \n",
    "    ])\n",
    "\n",
    "    # extract the slice of sentence_surprisals corresponding to the region_list part\n",
    "    relevant_surprisals = sentence_surprisals[start_index:end_index]\n",
    "    region_surprisal = sum([score for token, score in relevant_surprisals])\n",
    "    \n",
    "    return region_surprisal\n",
    "\"\"\"\n",
    "\n",
    "def sum_region_surprisal(row, region_list, priority_region = None, normalize = False):\n",
    "    '''Sums surprisals of a specified sentence region with optional priority region handling.'''\n",
    "\n",
    "    sentence_surprisals = row['surprisals']\n",
    "    \n",
    "    # retrieve all sentence column(from 'prefix' till 'end')\n",
    "    all_columns = row.index.tolist()  # get the list of column names\n",
    "    prefix_index = all_columns.index('prefix')\n",
    "    eos_index = all_columns.index('end')\n",
    "    \n",
    "    # reconstruct the full sentence from 'prefix' to 'end' (exclude NaN values)\n",
    "    full_sentence = ' '.join([str(row[col]) if pd.notna(row.get(col)) else '' for col in all_columns[prefix_index:eos_index + 1]])\n",
    "    \n",
    "    # use regex to split the full sentence into words & punctuation\n",
    "    sentence_units = re.findall(r'\\w+|[^\\w\\s]', full_sentence)\n",
    "    \n",
    "    if priority_region:\n",
    "        # check if priority_region has non-zero surprisal\n",
    "        if pd.notna(row[priority_region]):\n",
    "            # extract text for the priority_region\n",
    "            priority_region_index = all_columns.index(priority_region)\n",
    "            \n",
    "            start_index = sum([\n",
    "                len(re.findall(r'\\w+|[^\\w\\s]', str(row[col]))) for col in all_columns[prefix_index:priority_region_index]\n",
    "                if pd.notna(row[col]) \n",
    "            ])\n",
    "            end_index = sum([\n",
    "                len(re.findall(r'\\w+|[^\\w\\s]', str(row[col]))) for col in all_columns[prefix_index:priority_region_index + 1]\n",
    "                if pd.notna(row[col]) \n",
    "            ])\n",
    "            \n",
    "            # calculate the surprisal for the priority region\n",
    "            relevant_surprisals = sentence_surprisals[start_index:end_index]\n",
    "            priority_surprisal = sum([score for token, score in relevant_surprisals])\n",
    "    \n",
    "            # return priority region's surprisal score if it is non-zero\n",
    "            if priority_surprisal != 0:\n",
    "                return priority_surprisal\n",
    "    \n",
    "    # if priority region is not provided or its surprisal is zero, calculate sum of region_list surprisals\n",
    "\n",
    "    # get the start and end indices for the region_list within the full sentence\n",
    "    first_region_column = region_list[0]\n",
    "    first_region_start_index = all_columns.index(first_region_column)\n",
    "    \n",
    "    last_region_column = region_list[-1]\n",
    "    last_region_end_index = all_columns.index(last_region_column)\n",
    "    \n",
    "    # extract the relevant slice of sentence_surprisals that corresponds to the region_list\n",
    "    # calculate the starting and ending index for the region_list part\n",
    "    start_index = sum([\n",
    "        len(re.findall(r'\\w+|[^\\w\\s]', str(row[col]))) for col in all_columns[prefix_index:first_region_start_index]\n",
    "        if pd.notna(row[col]) \n",
    "    ])\n",
    "    end_index = sum([\n",
    "        len(re.findall(r'\\w+|[^\\w\\s]', str(row[col]))) for col in all_columns[prefix_index:last_region_end_index + 1]\n",
    "        if pd.notna(row[col]) \n",
    "    ])\n",
    "\n",
    "    # extract the slice of sentence_surprisals corresponding to the region_list part\n",
    "    relevant_surprisals = sentence_surprisals[start_index:end_index]\n",
    "    region_surprisal = sum([score for token, score in relevant_surprisals])\n",
    "    \n",
    "    if normalize == False:\n",
    "        return region_surprisal\n",
    "    elif normalize == True:\n",
    "        return region_surprisal / len(relevant_surprisals)"
   ]
  },
  {
   "cell_type": "code",
   "execution_count": null,
   "id": "4e2f50f3",
   "metadata": {},
   "outputs": [],
   "source": [
    "def split_ends(ends):\n",
    "    '''Splits off sentence-final punctuation.'''\n",
    "    \n",
    "    match = re.match(r'^(.*?)([.!?])$', ends.strip())\n",
    "    if match:\n",
    "        return pd.Series([match.group(1), match.group(2)])\n",
    "    else:\n",
    "        return pd.Series([ends, ''])  # no end punctuation\n",
    "    \n",
    "def encode_wh_licensor(df):\n",
    "    '''\n",
    "    Adds a numeric column to the DataFrame:\n",
    "    - 1 if licensor is a wh-licensor\n",
    "    - -1 otherwise (licensor is \"that\" or absent)\n",
    "    '''\n",
    "    df['wh_numeric'] = df['filler'].apply(lambda x: 1 if x > 0 else -1)\n",
    "    return df\n",
    "    \n",
    "def merge_sentence(row, syntactic_parts):\n",
    "    '''Merges sentence columns back into full sentence.'''\n",
    "    \n",
    "    parts = [row[part] for part in syntactic_parts]         \n",
    "    # filter out NaN or empty parts\n",
    "    non_empty_parts = [str(part).strip() for part in parts if pd.notna(part) and str(part).strip() != '']\n",
    "    # join with spaces and add end punctuation\n",
    "    sentence = ' '.join(non_empty_parts) + (row['end'] if pd.notna(row['end']) else '')\n",
    "    return sentence\n",
    "\n",
    "def assign_grammaticality(row):\n",
    "    ''' Determines grammaticality based on licensor and gap values.'''\n",
    "    if row['filler'] > 0 and row['gap'] == 1:\n",
    "        return 'gram+'\n",
    "        #return 1\n",
    "    elif row['filler'] == 0 and row['gap'] == 0:\n",
    "        return 'gram+'\n",
    "        #return 1\n",
    "    elif row['filler'] > 0 and row['gap'] == 0:\n",
    "        return 'gram-'\n",
    "        #return 0\n",
    "    elif row['filler'] == 0 and row['gap'] == 1:\n",
    "        return 'gram-'\n",
    "        #return 0"
   ]
  },
  {
   "cell_type": "markdown",
   "id": "23b98dd7",
   "metadata": {},
   "source": [
    "#### Statistical Analysis: Mixed-Effects Linear Regression Model"
   ]
  },
  {
   "cell_type": "code",
   "execution_count": null,
   "id": "94c04c24",
   "metadata": {},
   "outputs": [],
   "source": [
    "from IPython.display import display\n",
    "import warnings\n",
    "from statsmodels.tools.sm_exceptions import ConvergenceWarning\n",
    "\n",
    "def print_summary(result):\n",
    "    '''\n",
    "    Prints the descriptive header from a statsmodels MixedLMResults summary,\n",
    "    and displays both the fixed-effects and random-effects components as pandas DataFrames.\n",
    "    '''\n",
    "    with warnings.catch_warnings():\n",
    "        warnings.simplefilter(\"ignore\", ConvergenceWarning)\n",
    "        \n",
    "        summary_str = str(result.summary())\n",
    "        lines = summary_str.split('\\n')\n",
    "\n",
    "        # PART 1: HEADER\n",
    "        print(\"\\n=== MODEL SUMMARY ===\")\n",
    "        for line in lines:\n",
    "            if 'Coef.' in line:\n",
    "                break  # stop when reaching the coefficient table\n",
    "            pairs = re.findall(r'(\\S[^:]*):\\s+([^\\s][^:]*?)(?=\\s{2,}|$)', line)\n",
    "            for key, value in pairs:\n",
    "                print(f\"{key.strip()}: {value.strip()}\")\n",
    "\n",
    "        # PART 2a: FIXED EFFECTS TABLE\n",
    "        fixed_table = []\n",
    "        in_fixed_table = False\n",
    "        random_start_idx = None\n",
    "\n",
    "        for i, line in enumerate(lines):\n",
    "            if 'Coef.' in line:\n",
    "                in_fixed_table = True\n",
    "                continue\n",
    "            if in_fixed_table:\n",
    "                if not line.strip() or set(line.strip()) in [{'='}, {'-'}]:\n",
    "                    continue  # skip empty/separator lines\n",
    "                parts = line.strip().split()\n",
    "                if len(parts) >= 7:\n",
    "                    param = parts[0]\n",
    "                    row = parts[1:7]\n",
    "                    fixed_table.append([param] + row)\n",
    "                else:\n",
    "                    random_start_idx = i\n",
    "                    break\n",
    "\n",
    "        if fixed_table:\n",
    "            df_fixed = pd.DataFrame(fixed_table, columns = [\n",
    "                'Parameter', 'Coef.', 'Std.Err.', 'z', 'P>|z|', '[0.025', '0.975]'\n",
    "            ])\n",
    "            print(\"\\n=== FIXED EFFECTS COEFFICIENTS ===\")\n",
    "            display(df_fixed)\n",
    "        else:\n",
    "            print(\"\\nNo fixed-effects data found.\")\n",
    "\n",
    "        # PART 2b: RANDOM EFFECTS / VARIANCE COMPONENTS TABLE\n",
    "        random_table = []\n",
    "        if random_start_idx:\n",
    "            for line in lines[random_start_idx:]:\n",
    "                if not line.strip() or set(line.strip()) in [{'='}, {'-'}]:\n",
    "                    continue\n",
    "                parts = line.strip().split()\n",
    "                # Look for last token ending in Var or Cov\n",
    "                varcov_idx = None\n",
    "                for j in reversed(range(len(parts))):\n",
    "                    if parts[j].endswith('Var') or parts[j].endswith('Cov'):\n",
    "                        varcov_idx = j\n",
    "                        break\n",
    "                if varcov_idx is not None:\n",
    "                    param = ' '.join(parts[:varcov_idx + 1])\n",
    "                    numeric_parts = parts[varcov_idx + 1:]\n",
    "                    if len(numeric_parts) == 2:\n",
    "                        val1, val2 = numeric_parts\n",
    "                    elif len(numeric_parts) == 1:\n",
    "                        val1, val2 = numeric_parts[0], ''\n",
    "                    else:\n",
    "                        val1, val2 = '', ''\n",
    "                    random_table.append([param, val1, val2])\n",
    "\n",
    "        if random_table:\n",
    "            df_random = pd.DataFrame(random_table, columns = ['Parameter', 'Coef.', 'Std.Err.'])\n",
    "            print(\"\\n=== RANDOM EFFECTS / VARIANCE-COVARIANCE ===\")\n",
    "            display(df_random)\n",
    "        else:\n",
    "            print(\"\\nNo random-effects data found.\")\n"
   ]
  },
  {
   "cell_type": "code",
   "execution_count": null,
   "id": "3ddfdf0b",
   "metadata": {},
   "outputs": [],
   "source": [
    "# columns: item_id (indicates sentence set), wh_licensor (0/1), gap (0/1), island_type, surprisal\n",
    "\n",
    "warnings.simplefilter(\"ignore\", ConvergenceWarning)\n",
    "\n",
    "def mixed_effects_linear_regression(df, iv_list, surprisal, label):\n",
    "    '''\n",
    "    Fits mixed-effects model and extracts wh-licensing interaction.\n",
    "    '''\n",
    "        \n",
    "    for field in iv_list:\n",
    "        if field == 'wh_numeric' or 'gap_numeric' or 'gap_distance_length':\n",
    "            pass\n",
    "        else:\n",
    "            df[field] = df[field].astype('category')\n",
    "\n",
    "    interaction_terms = ' * '.join(iv_list)\n",
    "    random_effects = ' + '.join(iv_list)\n",
    "\n",
    "    model = smf.mixedlm(\n",
    "        f\"{surprisal} ~ {interaction_terms}\",\n",
    "        df,\n",
    "        groups = df[\"item_id\"],\n",
    "        #re_formula = f\"~{random_effects}\"\n",
    "        re_formula = \"1\"\n",
    "        )\n",
    "\n",
    "    result = model.fit()\n",
    "    #interaction_coef = result.params.get('wh_licensor[T.1]:gap[T.1]', None)\n",
    "\n",
    "    print(f\"\\n=== {label.upper()} ===\")\n",
    "    #print(result.summary())\n",
    "    print_summary(result)\n",
    "\n",
    "    return result\n",
    "\n",
    "#interaction = mixed_effects_linear_regression(df, \"construction_type\") # label name to be changed according to construction type"
   ]
  },
  {
   "cell_type": "markdown",
   "id": "8fee4669",
   "metadata": {},
   "source": [
    "#### Gap Distance - Categorical/Continuous"
   ]
  },
  {
   "cell_type": "code",
   "execution_count": null,
   "id": "92540bbb",
   "metadata": {},
   "outputs": [],
   "source": [
    "sentence_df = pd.read_csv('test_sentences/Gap Distance.csv')\n",
    "sentence_df['gap_distance'] = sentence_df['gap_distance'].fillna('null')\n",
    "#sentence_df['gap_distance'].dropna(inplace = True)\n",
    "#sentence_df = sentence_df[sentence_df['gap_distance'].replace(['nan', 'NaN'], np.nan).notna()]"
   ]
  },
  {
   "cell_type": "code",
   "execution_count": null,
   "id": "c191e58e",
   "metadata": {},
   "outputs": [],
   "source": [
    "sentence_df[['temp_mod', 'end']] = sentence_df['temp_mod'].apply(split_ends)\n",
    "sentence_df = encode_wh_licensor(sentence_df)\n",
    "sentence_df['gap_numeric'] = sentence_df['gap'].replace(0, -1)\n",
    "syntactic_parts = ['prefix', 'licensor', 'subj', 'modifier', 'verb', 'object', 'prep', 'goal', 'temp_mod']\n",
    "sentence_df['sentence'] = sentence_df.apply(lambda x: merge_sentence(x, syntactic_parts), axis = 1)\n",
    "sentence_df['surprisals'] = sentence_df['sentence'].apply(calculate_surprisal)\n",
    "sentence_df['gap_distance_length'] = sentence_df['modifier'].apply(lambda x: len(x) if pd.notna(x) else 0)\n",
    "sentence_df['grammaticality'] = sentence_df.apply(assign_grammaticality, axis = 1)"
   ]
  },
  {
   "cell_type": "markdown",
   "id": "0e7be216",
   "metadata": {},
   "source": [
    "Gap Position == Object"
   ]
  },
  {
   "cell_type": "code",
   "execution_count": null,
   "id": "c73282f4",
   "metadata": {},
   "outputs": [],
   "source": [
    "# modifier: short_mod, med_mod, long_mod"
   ]
  },
  {
   "cell_type": "code",
   "execution_count": null,
   "id": "ea6dce35",
   "metadata": {},
   "outputs": [],
   "source": [
    "object_df = sentence_df.copy()\n",
    "#object_df['region_surprisal'] = object_df.apply(lambda x: sum_region_surprisal(x, ['prep', 'goal']), axis = 1)\n",
    "object_df['region_surprisal'] = object_df.apply(lambda x: sum_region_surprisal(x, ['prep', 'goal'], 'object'), axis = 1)\n",
    "\n",
    "# filter for object gap\n",
    "objectgap_df = object_df[object_df['gap_position'] == 'DO']"
   ]
  },
  {
   "cell_type": "code",
   "execution_count": null,
   "id": "ee659db0",
   "metadata": {},
   "outputs": [
    {
     "name": "stdout",
     "output_type": "stream",
     "text": [
      "\n",
      "=== OBJECT GAP POSITION: GAP- ===\n",
      "\n",
      "=== MODEL SUMMARY ===\n",
      ":            MixedLM Dependent Variable: region_surprisal\n",
      "No. Observations: 160\n",
      "Method: REML\n",
      "No. Groups: 20\n",
      "Scale: 47.2481\n",
      "Min. group size: 8\n",
      "Log-Likelihood: -553.8490\n",
      "Max. group size: 8\n",
      "Converged: Yes\n",
      "Mean group size: 8.0\n",
      "\n",
      "=== FIXED EFFECTS COEFFICIENTS ===\n"
     ]
    },
    {
     "data": {
      "text/html": [
       "<div>\n",
       "<style scoped>\n",
       "    .dataframe tbody tr th:only-of-type {\n",
       "        vertical-align: middle;\n",
       "    }\n",
       "\n",
       "    .dataframe tbody tr th {\n",
       "        vertical-align: top;\n",
       "    }\n",
       "\n",
       "    .dataframe thead th {\n",
       "        text-align: right;\n",
       "    }\n",
       "</style>\n",
       "<table border=\"1\" class=\"dataframe\">\n",
       "  <thead>\n",
       "    <tr style=\"text-align: right;\">\n",
       "      <th></th>\n",
       "      <th>Parameter</th>\n",
       "      <th>Coef.</th>\n",
       "      <th>Std.Err.</th>\n",
       "      <th>z</th>\n",
       "      <th>P&gt;|z|</th>\n",
       "      <th>[0.025</th>\n",
       "      <th>0.975]</th>\n",
       "    </tr>\n",
       "  </thead>\n",
       "  <tbody>\n",
       "    <tr>\n",
       "      <th>0</th>\n",
       "      <td>Intercept</td>\n",
       "      <td>24.865</td>\n",
       "      <td>1.557</td>\n",
       "      <td>15.967</td>\n",
       "      <td>0.000</td>\n",
       "      <td>21.813</td>\n",
       "      <td>27.917</td>\n",
       "    </tr>\n",
       "    <tr>\n",
       "      <th>1</th>\n",
       "      <td>wh_numeric</td>\n",
       "      <td>0.595</td>\n",
       "      <td>0.543</td>\n",
       "      <td>1.095</td>\n",
       "      <td>0.274</td>\n",
       "      <td>-0.470</td>\n",
       "      <td>1.660</td>\n",
       "    </tr>\n",
       "  </tbody>\n",
       "</table>\n",
       "</div>"
      ],
      "text/plain": [
       "    Parameter   Coef. Std.Err.       z  P>|z|  [0.025  0.975]\n",
       "0   Intercept  24.865    1.557  15.967  0.000  21.813  27.917\n",
       "1  wh_numeric   0.595    0.543   1.095  0.274  -0.470   1.660"
      ]
     },
     "metadata": {},
     "output_type": "display_data"
    },
    {
     "name": "stdout",
     "output_type": "stream",
     "text": [
      "\n",
      "=== RANDOM EFFECTS / VARIANCE-COVARIANCE ===\n"
     ]
    },
    {
     "data": {
      "text/html": [
       "<div>\n",
       "<style scoped>\n",
       "    .dataframe tbody tr th:only-of-type {\n",
       "        vertical-align: middle;\n",
       "    }\n",
       "\n",
       "    .dataframe tbody tr th {\n",
       "        vertical-align: top;\n",
       "    }\n",
       "\n",
       "    .dataframe thead th {\n",
       "        text-align: right;\n",
       "    }\n",
       "</style>\n",
       "<table border=\"1\" class=\"dataframe\">\n",
       "  <thead>\n",
       "    <tr style=\"text-align: right;\">\n",
       "      <th></th>\n",
       "      <th>Parameter</th>\n",
       "      <th>Coef.</th>\n",
       "      <th>Std.Err.</th>\n",
       "    </tr>\n",
       "  </thead>\n",
       "  <tbody>\n",
       "    <tr>\n",
       "      <th>0</th>\n",
       "      <td>Group Var</td>\n",
       "      <td>42.598</td>\n",
       "      <td>2.441</td>\n",
       "    </tr>\n",
       "  </tbody>\n",
       "</table>\n",
       "</div>"
      ],
      "text/plain": [
       "   Parameter   Coef. Std.Err.\n",
       "0  Group Var  42.598    2.441"
      ]
     },
     "metadata": {},
     "output_type": "display_data"
    },
    {
     "data": {
      "text/plain": [
       "<statsmodels.regression.mixed_linear_model.MixedLMResultsWrapper at 0x148c4180b7c0>"
      ]
     },
     "execution_count": 12,
     "metadata": {},
     "output_type": "execute_result"
    }
   ],
   "source": [
    "# flip test: gap-\n",
    "no_gap_df = objectgap_df[objectgap_df['gap_numeric'] == -1]\n",
    "iv_list = ['wh_numeric']\n",
    "mixed_effects_linear_regression(no_gap_df, iv_list, 'region_surprisal', 'object gap position: gap-')"
   ]
  },
  {
   "cell_type": "code",
   "execution_count": null,
   "id": "8950619d",
   "metadata": {},
   "outputs": [
    {
     "name": "stdout",
     "output_type": "stream",
     "text": [
      "\n",
      "=== OBJECT GAP POSITION: GAP+ ===\n",
      "\n",
      "=== MODEL SUMMARY ===\n",
      ":            MixedLM Dependent Variable: region_surprisal\n",
      "No. Observations: 160\n",
      "Method: REML\n",
      "No. Groups: 20\n",
      "Scale: 50.8276\n",
      "Min. group size: 8\n",
      "Log-Likelihood: -556.3436\n",
      "Max. group size: 8\n",
      "Converged: Yes\n",
      "Mean group size: 8.0\n",
      "\n",
      "=== FIXED EFFECTS COEFFICIENTS ===\n"
     ]
    },
    {
     "data": {
      "text/html": [
       "<div>\n",
       "<style scoped>\n",
       "    .dataframe tbody tr th:only-of-type {\n",
       "        vertical-align: middle;\n",
       "    }\n",
       "\n",
       "    .dataframe tbody tr th {\n",
       "        vertical-align: top;\n",
       "    }\n",
       "\n",
       "    .dataframe thead th {\n",
       "        text-align: right;\n",
       "    }\n",
       "</style>\n",
       "<table border=\"1\" class=\"dataframe\">\n",
       "  <thead>\n",
       "    <tr style=\"text-align: right;\">\n",
       "      <th></th>\n",
       "      <th>Parameter</th>\n",
       "      <th>Coef.</th>\n",
       "      <th>Std.Err.</th>\n",
       "      <th>z</th>\n",
       "      <th>P&gt;|z|</th>\n",
       "      <th>[0.025</th>\n",
       "      <th>0.975]</th>\n",
       "    </tr>\n",
       "  </thead>\n",
       "  <tbody>\n",
       "    <tr>\n",
       "      <th>0</th>\n",
       "      <td>Intercept</td>\n",
       "      <td>19.787</td>\n",
       "      <td>1.360</td>\n",
       "      <td>14.554</td>\n",
       "      <td>0.000</td>\n",
       "      <td>17.122</td>\n",
       "      <td>22.451</td>\n",
       "    </tr>\n",
       "    <tr>\n",
       "      <th>1</th>\n",
       "      <td>wh_numeric</td>\n",
       "      <td>-0.103</td>\n",
       "      <td>0.564</td>\n",
       "      <td>-0.183</td>\n",
       "      <td>0.855</td>\n",
       "      <td>-1.208</td>\n",
       "      <td>1.001</td>\n",
       "    </tr>\n",
       "  </tbody>\n",
       "</table>\n",
       "</div>"
      ],
      "text/plain": [
       "    Parameter   Coef. Std.Err.       z  P>|z|  [0.025  0.975]\n",
       "0   Intercept  19.787    1.360  14.554  0.000  17.122  22.451\n",
       "1  wh_numeric  -0.103    0.564  -0.183  0.855  -1.208   1.001"
      ]
     },
     "metadata": {},
     "output_type": "display_data"
    },
    {
     "name": "stdout",
     "output_type": "stream",
     "text": [
      "\n",
      "=== RANDOM EFFECTS / VARIANCE-COVARIANCE ===\n"
     ]
    },
    {
     "data": {
      "text/html": [
       "<div>\n",
       "<style scoped>\n",
       "    .dataframe tbody tr th:only-of-type {\n",
       "        vertical-align: middle;\n",
       "    }\n",
       "\n",
       "    .dataframe tbody tr th {\n",
       "        vertical-align: top;\n",
       "    }\n",
       "\n",
       "    .dataframe thead th {\n",
       "        text-align: right;\n",
       "    }\n",
       "</style>\n",
       "<table border=\"1\" class=\"dataframe\">\n",
       "  <thead>\n",
       "    <tr style=\"text-align: right;\">\n",
       "      <th></th>\n",
       "      <th>Parameter</th>\n",
       "      <th>Coef.</th>\n",
       "      <th>Std.Err.</th>\n",
       "    </tr>\n",
       "  </thead>\n",
       "  <tbody>\n",
       "    <tr>\n",
       "      <th>0</th>\n",
       "      <td>Group Var</td>\n",
       "      <td>30.612</td>\n",
       "      <td>1.794</td>\n",
       "    </tr>\n",
       "  </tbody>\n",
       "</table>\n",
       "</div>"
      ],
      "text/plain": [
       "   Parameter   Coef. Std.Err.\n",
       "0  Group Var  30.612    1.794"
      ]
     },
     "metadata": {},
     "output_type": "display_data"
    },
    {
     "data": {
      "text/plain": [
       "<statsmodels.regression.mixed_linear_model.MixedLMResultsWrapper at 0x148c41762eb0>"
      ]
     },
     "execution_count": 13,
     "metadata": {},
     "output_type": "execute_result"
    }
   ],
   "source": [
    "# flip test: gap+\n",
    "gap_df = objectgap_df[objectgap_df['gap_numeric'] == 1]\n",
    "iv_list = ['wh_numeric']\n",
    "mixed_effects_linear_regression(gap_df, iv_list, 'region_surprisal', 'object gap position: gap+')"
   ]
  },
  {
   "cell_type": "markdown",
   "id": "88662ed9",
   "metadata": {},
   "source": [
    "Gap Postion == PP/Goal"
   ]
  },
  {
   "cell_type": "code",
   "execution_count": null,
   "id": "3b6ef5a7",
   "metadata": {},
   "outputs": [],
   "source": [
    "pp_df = sentence_df.copy()\n",
    "#pp_df['region_surprisal'] = pp_df.apply(lambda x: sum_region_surprisal(x, ['temp_mod']), axis = 1)\n",
    "pp_df['region_surprisal'] = pp_df.apply(lambda x: sum_region_surprisal(x, ['temp_mod'], 'goal'), axis = 1)\n",
    "\n",
    "# filter for PP gap\n",
    "ppgap_df = pp_df[pp_df['gap_position'] == 'IO']"
   ]
  },
  {
   "cell_type": "code",
   "execution_count": null,
   "id": "f2fe97f4",
   "metadata": {},
   "outputs": [
    {
     "name": "stdout",
     "output_type": "stream",
     "text": [
      "\n",
      "=== PP GAP POSITION: GAP- ===\n",
      "\n",
      "=== MODEL SUMMARY ===\n",
      ":            MixedLM Dependent Variable: region_surprisal\n",
      "No. Observations: 160\n",
      "Method: REML\n",
      "No. Groups: 20\n",
      "Scale: 38.2085\n",
      "Min. group size: 8\n",
      "Log-Likelihood: -535.7466\n",
      "Max. group size: 8\n",
      "Converged: Yes\n",
      "Mean group size: 8.0\n",
      "\n",
      "=== FIXED EFFECTS COEFFICIENTS ===\n"
     ]
    },
    {
     "data": {
      "text/html": [
       "<div>\n",
       "<style scoped>\n",
       "    .dataframe tbody tr th:only-of-type {\n",
       "        vertical-align: middle;\n",
       "    }\n",
       "\n",
       "    .dataframe tbody tr th {\n",
       "        vertical-align: top;\n",
       "    }\n",
       "\n",
       "    .dataframe thead th {\n",
       "        text-align: right;\n",
       "    }\n",
       "</style>\n",
       "<table border=\"1\" class=\"dataframe\">\n",
       "  <thead>\n",
       "    <tr style=\"text-align: right;\">\n",
       "      <th></th>\n",
       "      <th>Parameter</th>\n",
       "      <th>Coef.</th>\n",
       "      <th>Std.Err.</th>\n",
       "      <th>z</th>\n",
       "      <th>P&gt;|z|</th>\n",
       "      <th>[0.025</th>\n",
       "      <th>0.975]</th>\n",
       "    </tr>\n",
       "  </thead>\n",
       "  <tbody>\n",
       "    <tr>\n",
       "      <th>0</th>\n",
       "      <td>Intercept</td>\n",
       "      <td>16.167</td>\n",
       "      <td>1.306</td>\n",
       "      <td>12.379</td>\n",
       "      <td>0.000</td>\n",
       "      <td>13.608</td>\n",
       "      <td>18.727</td>\n",
       "    </tr>\n",
       "    <tr>\n",
       "      <th>1</th>\n",
       "      <td>wh_numeric</td>\n",
       "      <td>0.072</td>\n",
       "      <td>0.489</td>\n",
       "      <td>0.147</td>\n",
       "      <td>0.883</td>\n",
       "      <td>-0.886</td>\n",
       "      <td>1.030</td>\n",
       "    </tr>\n",
       "  </tbody>\n",
       "</table>\n",
       "</div>"
      ],
      "text/plain": [
       "    Parameter   Coef. Std.Err.       z  P>|z|  [0.025  0.975]\n",
       "0   Intercept  16.167    1.306  12.379  0.000  13.608  18.727\n",
       "1  wh_numeric   0.072    0.489   0.147  0.883  -0.886   1.030"
      ]
     },
     "metadata": {},
     "output_type": "display_data"
    },
    {
     "name": "stdout",
     "output_type": "stream",
     "text": [
      "\n",
      "=== RANDOM EFFECTS / VARIANCE-COVARIANCE ===\n"
     ]
    },
    {
     "data": {
      "text/html": [
       "<div>\n",
       "<style scoped>\n",
       "    .dataframe tbody tr th:only-of-type {\n",
       "        vertical-align: middle;\n",
       "    }\n",
       "\n",
       "    .dataframe tbody tr th {\n",
       "        vertical-align: top;\n",
       "    }\n",
       "\n",
       "    .dataframe thead th {\n",
       "        text-align: right;\n",
       "    }\n",
       "</style>\n",
       "<table border=\"1\" class=\"dataframe\">\n",
       "  <thead>\n",
       "    <tr style=\"text-align: right;\">\n",
       "      <th></th>\n",
       "      <th>Parameter</th>\n",
       "      <th>Coef.</th>\n",
       "      <th>Std.Err.</th>\n",
       "    </tr>\n",
       "  </thead>\n",
       "  <tbody>\n",
       "    <tr>\n",
       "      <th>0</th>\n",
       "      <td>Group Var</td>\n",
       "      <td>29.337</td>\n",
       "      <td>1.909</td>\n",
       "    </tr>\n",
       "  </tbody>\n",
       "</table>\n",
       "</div>"
      ],
      "text/plain": [
       "   Parameter   Coef. Std.Err.\n",
       "0  Group Var  29.337    1.909"
      ]
     },
     "metadata": {},
     "output_type": "display_data"
    },
    {
     "data": {
      "text/plain": [
       "<statsmodels.regression.mixed_linear_model.MixedLMResultsWrapper at 0x148c4176f190>"
      ]
     },
     "execution_count": 15,
     "metadata": {},
     "output_type": "execute_result"
    }
   ],
   "source": [
    "# flip test: gap-\n",
    "no_gap_df = ppgap_df[ppgap_df['gap_numeric'] == -1]\n",
    "iv_list = ['wh_numeric']\n",
    "mixed_effects_linear_regression(no_gap_df, iv_list, 'region_surprisal', 'pp gap position: gap-')"
   ]
  },
  {
   "cell_type": "code",
   "execution_count": null,
   "id": "327606b9",
   "metadata": {},
   "outputs": [
    {
     "name": "stdout",
     "output_type": "stream",
     "text": [
      "\n",
      "=== PP GAP POSITION: GAP+ ===\n",
      "\n",
      "=== MODEL SUMMARY ===\n",
      ":            MixedLM Dependent Variable: region_surprisal\n",
      "No. Observations: 160\n",
      "Method: REML\n",
      "No. Groups: 20\n",
      "Scale: 56.9841\n",
      "Min. group size: 8\n",
      "Log-Likelihood: -571.8688\n",
      "Max. group size: 8\n",
      "Converged: Yes\n",
      "Mean group size: 8.0\n",
      "\n",
      "=== FIXED EFFECTS COEFFICIENTS ===\n"
     ]
    },
    {
     "data": {
      "text/html": [
       "<div>\n",
       "<style scoped>\n",
       "    .dataframe tbody tr th:only-of-type {\n",
       "        vertical-align: middle;\n",
       "    }\n",
       "\n",
       "    .dataframe tbody tr th {\n",
       "        vertical-align: top;\n",
       "    }\n",
       "\n",
       "    .dataframe thead th {\n",
       "        text-align: right;\n",
       "    }\n",
       "</style>\n",
       "<table border=\"1\" class=\"dataframe\">\n",
       "  <thead>\n",
       "    <tr style=\"text-align: right;\">\n",
       "      <th></th>\n",
       "      <th>Parameter</th>\n",
       "      <th>Coef.</th>\n",
       "      <th>Std.Err.</th>\n",
       "      <th>z</th>\n",
       "      <th>P&gt;|z|</th>\n",
       "      <th>[0.025</th>\n",
       "      <th>0.975]</th>\n",
       "    </tr>\n",
       "  </thead>\n",
       "  <tbody>\n",
       "    <tr>\n",
       "      <th>0</th>\n",
       "      <td>Intercept</td>\n",
       "      <td>24.357</td>\n",
       "      <td>2.026</td>\n",
       "      <td>12.023</td>\n",
       "      <td>0.000</td>\n",
       "      <td>20.387</td>\n",
       "      <td>28.328</td>\n",
       "    </tr>\n",
       "    <tr>\n",
       "      <th>1</th>\n",
       "      <td>wh_numeric</td>\n",
       "      <td>-0.073</td>\n",
       "      <td>0.597</td>\n",
       "      <td>-0.123</td>\n",
       "      <td>0.902</td>\n",
       "      <td>-1.243</td>\n",
       "      <td>1.096</td>\n",
       "    </tr>\n",
       "  </tbody>\n",
       "</table>\n",
       "</div>"
      ],
      "text/plain": [
       "    Parameter   Coef. Std.Err.       z  P>|z|  [0.025  0.975]\n",
       "0   Intercept  24.357    2.026  12.023  0.000  20.387  28.328\n",
       "1  wh_numeric  -0.073    0.597  -0.123  0.902  -1.243   1.096"
      ]
     },
     "metadata": {},
     "output_type": "display_data"
    },
    {
     "name": "stdout",
     "output_type": "stream",
     "text": [
      "\n",
      "=== RANDOM EFFECTS / VARIANCE-COVARIANCE ===\n"
     ]
    },
    {
     "data": {
      "text/html": [
       "<div>\n",
       "<style scoped>\n",
       "    .dataframe tbody tr th:only-of-type {\n",
       "        vertical-align: middle;\n",
       "    }\n",
       "\n",
       "    .dataframe tbody tr th {\n",
       "        vertical-align: top;\n",
       "    }\n",
       "\n",
       "    .dataframe thead th {\n",
       "        text-align: right;\n",
       "    }\n",
       "</style>\n",
       "<table border=\"1\" class=\"dataframe\">\n",
       "  <thead>\n",
       "    <tr style=\"text-align: right;\">\n",
       "      <th></th>\n",
       "      <th>Parameter</th>\n",
       "      <th>Coef.</th>\n",
       "      <th>Std.Err.</th>\n",
       "    </tr>\n",
       "  </thead>\n",
       "  <tbody>\n",
       "    <tr>\n",
       "      <th>0</th>\n",
       "      <td>Group Var</td>\n",
       "      <td>74.964</td>\n",
       "      <td>3.761</td>\n",
       "    </tr>\n",
       "  </tbody>\n",
       "</table>\n",
       "</div>"
      ],
      "text/plain": [
       "   Parameter   Coef. Std.Err.\n",
       "0  Group Var  74.964    3.761"
      ]
     },
     "metadata": {},
     "output_type": "display_data"
    },
    {
     "data": {
      "text/plain": [
       "<statsmodels.regression.mixed_linear_model.MixedLMResultsWrapper at 0x148c417830d0>"
      ]
     },
     "execution_count": 16,
     "metadata": {},
     "output_type": "execute_result"
    }
   ],
   "source": [
    "# flip test: gap+\n",
    "gap_df = ppgap_df[ppgap_df['gap_numeric'] == 1]\n",
    "iv_list = ['wh_numeric']\n",
    "mixed_effects_linear_regression(gap_df, iv_list, 'region_surprisal', 'pp gap position: gap+')"
   ]
  },
  {
   "cell_type": "markdown",
   "id": "ae6a9ac5",
   "metadata": {},
   "source": [
    "Embedded Clause"
   ]
  },
  {
   "cell_type": "code",
   "execution_count": null,
   "id": "3b784788",
   "metadata": {},
   "outputs": [],
   "source": [
    "embed = ['subj', 'modifier', 'verb', 'object', 'prep', 'goal', 'temp_mod', 'end']\n",
    "sentence_df['embed_surprisal'] = sentence_df.apply(lambda x: sum_region_surprisal(x, embed, normalize = True), axis = 1)"
   ]
  },
  {
   "cell_type": "markdown",
   "id": "bb1cad40",
   "metadata": {},
   "source": [
    "Embedded Clause - Object Gap Position"
   ]
  },
  {
   "cell_type": "code",
   "execution_count": null,
   "id": "c0a5486a",
   "metadata": {},
   "outputs": [],
   "source": [
    "# filter for object gap\n",
    "embed_objectgap_df = sentence_df[sentence_df['gap_position'] == 'DO']"
   ]
  },
  {
   "cell_type": "code",
   "execution_count": null,
   "id": "7a81daef",
   "metadata": {},
   "outputs": [
    {
     "name": "stdout",
     "output_type": "stream",
     "text": [
      "\n",
      "=== OBJECT GAP POSITION: GAP- ===\n",
      "\n",
      "=== MODEL SUMMARY ===\n",
      ":            MixedLM Dependent Variable: embed_surprisal\n",
      "No. Observations: 160\n",
      "Method: REML\n",
      "No. Groups: 20\n",
      "Scale: 0.4265\n",
      "Min. group size: 8\n",
      "Log-Likelihood: -182.9174\n",
      "Max. group size: 8\n",
      "Converged: Yes\n",
      "Mean group size: 8.0\n",
      "\n",
      "=== FIXED EFFECTS COEFFICIENTS ===\n"
     ]
    },
    {
     "data": {
      "text/html": [
       "<div>\n",
       "<style scoped>\n",
       "    .dataframe tbody tr th:only-of-type {\n",
       "        vertical-align: middle;\n",
       "    }\n",
       "\n",
       "    .dataframe tbody tr th {\n",
       "        vertical-align: top;\n",
       "    }\n",
       "\n",
       "    .dataframe thead th {\n",
       "        text-align: right;\n",
       "    }\n",
       "</style>\n",
       "<table border=\"1\" class=\"dataframe\">\n",
       "  <thead>\n",
       "    <tr style=\"text-align: right;\">\n",
       "      <th></th>\n",
       "      <th>Parameter</th>\n",
       "      <th>Coef.</th>\n",
       "      <th>Std.Err.</th>\n",
       "      <th>z</th>\n",
       "      <th>P&gt;|z|</th>\n",
       "      <th>[0.025</th>\n",
       "      <th>0.975]</th>\n",
       "    </tr>\n",
       "  </thead>\n",
       "  <tbody>\n",
       "    <tr>\n",
       "      <th>0</th>\n",
       "      <td>Intercept</td>\n",
       "      <td>8.650</td>\n",
       "      <td>0.156</td>\n",
       "      <td>55.565</td>\n",
       "      <td>0.000</td>\n",
       "      <td>8.345</td>\n",
       "      <td>8.955</td>\n",
       "    </tr>\n",
       "    <tr>\n",
       "      <th>1</th>\n",
       "      <td>wh_numeric</td>\n",
       "      <td>0.166</td>\n",
       "      <td>0.052</td>\n",
       "      <td>3.218</td>\n",
       "      <td>0.001</td>\n",
       "      <td>0.065</td>\n",
       "      <td>0.267</td>\n",
       "    </tr>\n",
       "  </tbody>\n",
       "</table>\n",
       "</div>"
      ],
      "text/plain": [
       "    Parameter  Coef. Std.Err.       z  P>|z| [0.025 0.975]\n",
       "0   Intercept  8.650    0.156  55.565  0.000  8.345  8.955\n",
       "1  wh_numeric  0.166    0.052   3.218  0.001  0.065  0.267"
      ]
     },
     "metadata": {},
     "output_type": "display_data"
    },
    {
     "name": "stdout",
     "output_type": "stream",
     "text": [
      "\n",
      "=== RANDOM EFFECTS / VARIANCE-COVARIANCE ===\n"
     ]
    },
    {
     "data": {
      "text/html": [
       "<div>\n",
       "<style scoped>\n",
       "    .dataframe tbody tr th:only-of-type {\n",
       "        vertical-align: middle;\n",
       "    }\n",
       "\n",
       "    .dataframe tbody tr th {\n",
       "        vertical-align: top;\n",
       "    }\n",
       "\n",
       "    .dataframe thead th {\n",
       "        text-align: right;\n",
       "    }\n",
       "</style>\n",
       "<table border=\"1\" class=\"dataframe\">\n",
       "  <thead>\n",
       "    <tr style=\"text-align: right;\">\n",
       "      <th></th>\n",
       "      <th>Parameter</th>\n",
       "      <th>Coef.</th>\n",
       "      <th>Std.Err.</th>\n",
       "    </tr>\n",
       "  </thead>\n",
       "  <tbody>\n",
       "    <tr>\n",
       "      <th>0</th>\n",
       "      <td>Group Var</td>\n",
       "      <td>0.431</td>\n",
       "      <td>0.257</td>\n",
       "    </tr>\n",
       "  </tbody>\n",
       "</table>\n",
       "</div>"
      ],
      "text/plain": [
       "   Parameter  Coef. Std.Err.\n",
       "0  Group Var  0.431    0.257"
      ]
     },
     "metadata": {},
     "output_type": "display_data"
    },
    {
     "data": {
      "text/plain": [
       "<statsmodels.regression.mixed_linear_model.MixedLMResultsWrapper at 0x148c417776d0>"
      ]
     },
     "execution_count": 19,
     "metadata": {},
     "output_type": "execute_result"
    }
   ],
   "source": [
    "# flip test: gap-\n",
    "no_gap_df = embed_objectgap_df[embed_objectgap_df['gap_numeric'] == -1]\n",
    "iv_list = ['wh_numeric']\n",
    "mixed_effects_linear_regression(no_gap_df, iv_list, 'embed_surprisal', 'object gap position: gap-')"
   ]
  },
  {
   "cell_type": "code",
   "execution_count": null,
   "id": "699cb020",
   "metadata": {},
   "outputs": [
    {
     "name": "stdout",
     "output_type": "stream",
     "text": [
      "\n",
      "=== OBJECT GAP POSITION: GAP+ ===\n",
      "\n",
      "=== MODEL SUMMARY ===\n",
      ":            MixedLM Dependent Variable: embed_surprisal\n",
      "No. Observations: 160\n",
      "Method: REML\n",
      "No. Groups: 20\n",
      "Scale: 0.6597\n",
      "Min. group size: 8\n",
      "Log-Likelihood: -215.6391\n",
      "Max. group size: 8\n",
      "Converged: Yes\n",
      "Mean group size: 8.0\n",
      "\n",
      "=== FIXED EFFECTS COEFFICIENTS ===\n"
     ]
    },
    {
     "data": {
      "text/html": [
       "<div>\n",
       "<style scoped>\n",
       "    .dataframe tbody tr th:only-of-type {\n",
       "        vertical-align: middle;\n",
       "    }\n",
       "\n",
       "    .dataframe tbody tr th {\n",
       "        vertical-align: top;\n",
       "    }\n",
       "\n",
       "    .dataframe thead th {\n",
       "        text-align: right;\n",
       "    }\n",
       "</style>\n",
       "<table border=\"1\" class=\"dataframe\">\n",
       "  <thead>\n",
       "    <tr style=\"text-align: right;\">\n",
       "      <th></th>\n",
       "      <th>Parameter</th>\n",
       "      <th>Coef.</th>\n",
       "      <th>Std.Err.</th>\n",
       "      <th>z</th>\n",
       "      <th>P&gt;|z|</th>\n",
       "      <th>[0.025</th>\n",
       "      <th>0.975]</th>\n",
       "    </tr>\n",
       "  </thead>\n",
       "  <tbody>\n",
       "    <tr>\n",
       "      <th>0</th>\n",
       "      <td>Intercept</td>\n",
       "      <td>8.417</td>\n",
       "      <td>0.177</td>\n",
       "      <td>47.638</td>\n",
       "      <td>0.000</td>\n",
       "      <td>8.070</td>\n",
       "      <td>8.763</td>\n",
       "    </tr>\n",
       "    <tr>\n",
       "      <th>1</th>\n",
       "      <td>wh_numeric</td>\n",
       "      <td>0.106</td>\n",
       "      <td>0.064</td>\n",
       "      <td>1.644</td>\n",
       "      <td>0.100</td>\n",
       "      <td>-0.020</td>\n",
       "      <td>0.231</td>\n",
       "    </tr>\n",
       "  </tbody>\n",
       "</table>\n",
       "</div>"
      ],
      "text/plain": [
       "    Parameter  Coef. Std.Err.       z  P>|z|  [0.025 0.975]\n",
       "0   Intercept  8.417    0.177  47.638  0.000   8.070  8.763\n",
       "1  wh_numeric  0.106    0.064   1.644  0.100  -0.020  0.231"
      ]
     },
     "metadata": {},
     "output_type": "display_data"
    },
    {
     "name": "stdout",
     "output_type": "stream",
     "text": [
      "\n",
      "=== RANDOM EFFECTS / VARIANCE-COVARIANCE ===\n"
     ]
    },
    {
     "data": {
      "text/html": [
       "<div>\n",
       "<style scoped>\n",
       "    .dataframe tbody tr th:only-of-type {\n",
       "        vertical-align: middle;\n",
       "    }\n",
       "\n",
       "    .dataframe tbody tr th {\n",
       "        vertical-align: top;\n",
       "    }\n",
       "\n",
       "    .dataframe thead th {\n",
       "        text-align: right;\n",
       "    }\n",
       "</style>\n",
       "<table border=\"1\" class=\"dataframe\">\n",
       "  <thead>\n",
       "    <tr style=\"text-align: right;\">\n",
       "      <th></th>\n",
       "      <th>Parameter</th>\n",
       "      <th>Coef.</th>\n",
       "      <th>Std.Err.</th>\n",
       "    </tr>\n",
       "  </thead>\n",
       "  <tbody>\n",
       "    <tr>\n",
       "      <th>0</th>\n",
       "      <td>Group Var</td>\n",
       "      <td>0.542</td>\n",
       "      <td>0.266</td>\n",
       "    </tr>\n",
       "  </tbody>\n",
       "</table>\n",
       "</div>"
      ],
      "text/plain": [
       "   Parameter  Coef. Std.Err.\n",
       "0  Group Var  0.542    0.266"
      ]
     },
     "metadata": {},
     "output_type": "display_data"
    },
    {
     "data": {
      "text/plain": [
       "<statsmodels.regression.mixed_linear_model.MixedLMResultsWrapper at 0x148c4177ff70>"
      ]
     },
     "execution_count": 20,
     "metadata": {},
     "output_type": "execute_result"
    }
   ],
   "source": [
    "# flip test: gap+\n",
    "gap_df = embed_objectgap_df[embed_objectgap_df['gap_numeric'] == 1]\n",
    "iv_list = ['wh_numeric']\n",
    "mixed_effects_linear_regression(gap_df, iv_list, 'embed_surprisal', 'object gap position: gap+')"
   ]
  },
  {
   "cell_type": "code",
   "execution_count": null,
   "id": "167f2d87",
   "metadata": {},
   "outputs": [
    {
     "name": "stdout",
     "output_type": "stream",
     "text": [
      "\n",
      "=== OBJECT GAP POSITION: DIVISION BY GRAMMATICALITY ===\n",
      "\n",
      "=== MODEL SUMMARY ===\n",
      "Model: MixedLM\n",
      "Dependent Variable: embed_surprisal\n",
      "No. Observations: 320\n",
      "Method: REML\n",
      "No. Groups: 20\n",
      "Scale: 0.5917\n",
      "Min. group size: 16\n",
      "Log-Likelihood: -397.6622\n",
      "Max. group size: 16\n",
      "Converged: Yes\n",
      "Mean group size: 16.0\n",
      "\n",
      "=== FIXED EFFECTS COEFFICIENTS ===\n"
     ]
    },
    {
     "data": {
      "text/html": [
       "<div>\n",
       "<style scoped>\n",
       "    .dataframe tbody tr th:only-of-type {\n",
       "        vertical-align: middle;\n",
       "    }\n",
       "\n",
       "    .dataframe tbody tr th {\n",
       "        vertical-align: top;\n",
       "    }\n",
       "\n",
       "    .dataframe thead th {\n",
       "        text-align: right;\n",
       "    }\n",
       "</style>\n",
       "<table border=\"1\" class=\"dataframe\">\n",
       "  <thead>\n",
       "    <tr style=\"text-align: right;\">\n",
       "      <th></th>\n",
       "      <th>Parameter</th>\n",
       "      <th>Coef.</th>\n",
       "      <th>Std.Err.</th>\n",
       "      <th>z</th>\n",
       "      <th>P&gt;|z|</th>\n",
       "      <th>[0.025</th>\n",
       "      <th>0.975]</th>\n",
       "    </tr>\n",
       "  </thead>\n",
       "  <tbody>\n",
       "    <tr>\n",
       "      <th>0</th>\n",
       "      <td>Intercept</td>\n",
       "      <td>8.503</td>\n",
       "      <td>0.164</td>\n",
       "      <td>51.755</td>\n",
       "      <td>0.000</td>\n",
       "      <td>8.181</td>\n",
       "      <td>8.825</td>\n",
       "    </tr>\n",
       "    <tr>\n",
       "      <th>1</th>\n",
       "      <td>grammaticality[T.gram-]</td>\n",
       "      <td>0.061</td>\n",
       "      <td>0.086</td>\n",
       "      <td>0.705</td>\n",
       "      <td>0.481</td>\n",
       "      <td>-0.108</td>\n",
       "      <td>0.229</td>\n",
       "    </tr>\n",
       "  </tbody>\n",
       "</table>\n",
       "</div>"
      ],
      "text/plain": [
       "                 Parameter  Coef. Std.Err.       z  P>|z|  [0.025 0.975]\n",
       "0                Intercept  8.503    0.164  51.755  0.000   8.181  8.825\n",
       "1  grammaticality[T.gram-]  0.061    0.086   0.705  0.481  -0.108  0.229"
      ]
     },
     "metadata": {},
     "output_type": "display_data"
    },
    {
     "name": "stdout",
     "output_type": "stream",
     "text": [
      "\n",
      "=== RANDOM EFFECTS / VARIANCE-COVARIANCE ===\n"
     ]
    },
    {
     "data": {
      "text/html": [
       "<div>\n",
       "<style scoped>\n",
       "    .dataframe tbody tr th:only-of-type {\n",
       "        vertical-align: middle;\n",
       "    }\n",
       "\n",
       "    .dataframe tbody tr th {\n",
       "        vertical-align: top;\n",
       "    }\n",
       "\n",
       "    .dataframe thead th {\n",
       "        text-align: right;\n",
       "    }\n",
       "</style>\n",
       "<table border=\"1\" class=\"dataframe\">\n",
       "  <thead>\n",
       "    <tr style=\"text-align: right;\">\n",
       "      <th></th>\n",
       "      <th>Parameter</th>\n",
       "      <th>Coef.</th>\n",
       "      <th>Std.Err.</th>\n",
       "    </tr>\n",
       "  </thead>\n",
       "  <tbody>\n",
       "    <tr>\n",
       "      <th>0</th>\n",
       "      <td>Group Var</td>\n",
       "      <td>0.466</td>\n",
       "      <td>0.219</td>\n",
       "    </tr>\n",
       "  </tbody>\n",
       "</table>\n",
       "</div>"
      ],
      "text/plain": [
       "   Parameter  Coef. Std.Err.\n",
       "0  Group Var  0.466    0.219"
      ]
     },
     "metadata": {},
     "output_type": "display_data"
    },
    {
     "data": {
      "text/plain": [
       "<statsmodels.regression.mixed_linear_model.MixedLMResultsWrapper at 0x148c4176f7f0>"
      ]
     },
     "execution_count": 21,
     "metadata": {},
     "output_type": "execute_result"
    }
   ],
   "source": [
    "# division by grammaticality\n",
    "iv_list = ['grammaticality']\n",
    "mixed_effects_linear_regression(embed_objectgap_df, iv_list, 'embed_surprisal', 'object gap position: division by grammaticality')"
   ]
  },
  {
   "cell_type": "markdown",
   "id": "5537a5f1",
   "metadata": {},
   "source": [
    "Embedded Clause - PP/Goal Gap Position"
   ]
  },
  {
   "cell_type": "code",
   "execution_count": null,
   "id": "7716d953",
   "metadata": {},
   "outputs": [],
   "source": [
    "# filter for PP gap\n",
    "embed_ppgap_df = sentence_df[sentence_df['gap_position'] == 'IO']"
   ]
  },
  {
   "cell_type": "code",
   "execution_count": null,
   "id": "58f3f7fa",
   "metadata": {},
   "outputs": [
    {
     "name": "stdout",
     "output_type": "stream",
     "text": [
      "\n",
      "=== PP GAP POSITION: GAP- ===\n",
      "\n",
      "=== MODEL SUMMARY ===\n",
      ":            MixedLM Dependent Variable: embed_surprisal\n",
      "No. Observations: 160\n",
      "Method: REML\n",
      "No. Groups: 20\n",
      "Scale: 0.4167\n",
      "Min. group size: 8\n",
      "Log-Likelihood: -181.6028\n",
      "Max. group size: 8\n",
      "Converged: Yes\n",
      "Mean group size: 8.0\n",
      "\n",
      "=== FIXED EFFECTS COEFFICIENTS ===\n"
     ]
    },
    {
     "data": {
      "text/html": [
       "<div>\n",
       "<style scoped>\n",
       "    .dataframe tbody tr th:only-of-type {\n",
       "        vertical-align: middle;\n",
       "    }\n",
       "\n",
       "    .dataframe tbody tr th {\n",
       "        vertical-align: top;\n",
       "    }\n",
       "\n",
       "    .dataframe thead th {\n",
       "        text-align: right;\n",
       "    }\n",
       "</style>\n",
       "<table border=\"1\" class=\"dataframe\">\n",
       "  <thead>\n",
       "    <tr style=\"text-align: right;\">\n",
       "      <th></th>\n",
       "      <th>Parameter</th>\n",
       "      <th>Coef.</th>\n",
       "      <th>Std.Err.</th>\n",
       "      <th>z</th>\n",
       "      <th>P&gt;|z|</th>\n",
       "      <th>[0.025</th>\n",
       "      <th>0.975]</th>\n",
       "    </tr>\n",
       "  </thead>\n",
       "  <tbody>\n",
       "    <tr>\n",
       "      <th>0</th>\n",
       "      <td>Intercept</td>\n",
       "      <td>8.597</td>\n",
       "      <td>0.158</td>\n",
       "      <td>54.360</td>\n",
       "      <td>0.000</td>\n",
       "      <td>8.287</td>\n",
       "      <td>8.907</td>\n",
       "    </tr>\n",
       "    <tr>\n",
       "      <th>1</th>\n",
       "      <td>wh_numeric</td>\n",
       "      <td>0.113</td>\n",
       "      <td>0.051</td>\n",
       "      <td>2.218</td>\n",
       "      <td>0.027</td>\n",
       "      <td>0.013</td>\n",
       "      <td>0.213</td>\n",
       "    </tr>\n",
       "  </tbody>\n",
       "</table>\n",
       "</div>"
      ],
      "text/plain": [
       "    Parameter  Coef. Std.Err.       z  P>|z| [0.025 0.975]\n",
       "0   Intercept  8.597    0.158  54.360  0.000  8.287  8.907\n",
       "1  wh_numeric  0.113    0.051   2.218  0.027  0.013  0.213"
      ]
     },
     "metadata": {},
     "output_type": "display_data"
    },
    {
     "name": "stdout",
     "output_type": "stream",
     "text": [
      "\n",
      "=== RANDOM EFFECTS / VARIANCE-COVARIANCE ===\n"
     ]
    },
    {
     "data": {
      "text/html": [
       "<div>\n",
       "<style scoped>\n",
       "    .dataframe tbody tr th:only-of-type {\n",
       "        vertical-align: middle;\n",
       "    }\n",
       "\n",
       "    .dataframe tbody tr th {\n",
       "        vertical-align: top;\n",
       "    }\n",
       "\n",
       "    .dataframe thead th {\n",
       "        text-align: right;\n",
       "    }\n",
       "</style>\n",
       "<table border=\"1\" class=\"dataframe\">\n",
       "  <thead>\n",
       "    <tr style=\"text-align: right;\">\n",
       "      <th></th>\n",
       "      <th>Parameter</th>\n",
       "      <th>Coef.</th>\n",
       "      <th>Std.Err.</th>\n",
       "    </tr>\n",
       "  </thead>\n",
       "  <tbody>\n",
       "    <tr>\n",
       "      <th>0</th>\n",
       "      <td>Group Var</td>\n",
       "      <td>0.448</td>\n",
       "      <td>0.268</td>\n",
       "    </tr>\n",
       "  </tbody>\n",
       "</table>\n",
       "</div>"
      ],
      "text/plain": [
       "   Parameter  Coef. Std.Err.\n",
       "0  Group Var  0.448    0.268"
      ]
     },
     "metadata": {},
     "output_type": "display_data"
    },
    {
     "data": {
      "text/plain": [
       "<statsmodels.regression.mixed_linear_model.MixedLMResultsWrapper at 0x148c41786880>"
      ]
     },
     "execution_count": 23,
     "metadata": {},
     "output_type": "execute_result"
    }
   ],
   "source": [
    "# flip test: gap-\n",
    "no_gap_df = embed_ppgap_df[embed_ppgap_df['gap_numeric'] == -1]\n",
    "iv_list = ['wh_numeric']\n",
    "mixed_effects_linear_regression(no_gap_df, iv_list, 'embed_surprisal', 'pp gap position: gap-')"
   ]
  },
  {
   "cell_type": "code",
   "execution_count": null,
   "id": "acc421b0",
   "metadata": {},
   "outputs": [
    {
     "name": "stdout",
     "output_type": "stream",
     "text": [
      "\n",
      "=== PP GAP POSITION: GAP+ ===\n",
      "\n",
      "=== MODEL SUMMARY ===\n",
      ":            MixedLM Dependent Variable: embed_surprisal\n",
      "No. Observations: 160\n",
      "Method: REML\n",
      "No. Groups: 20\n",
      "Scale: 0.4455\n",
      "Min. group size: 8\n",
      "Log-Likelihood: -184.6307\n",
      "Max. group size: 8\n",
      "Converged: Yes\n",
      "Mean group size: 8.0\n",
      "\n",
      "=== FIXED EFFECTS COEFFICIENTS ===\n"
     ]
    },
    {
     "data": {
      "text/html": [
       "<div>\n",
       "<style scoped>\n",
       "    .dataframe tbody tr th:only-of-type {\n",
       "        vertical-align: middle;\n",
       "    }\n",
       "\n",
       "    .dataframe tbody tr th {\n",
       "        vertical-align: top;\n",
       "    }\n",
       "\n",
       "    .dataframe thead th {\n",
       "        text-align: right;\n",
       "    }\n",
       "</style>\n",
       "<table border=\"1\" class=\"dataframe\">\n",
       "  <thead>\n",
       "    <tr style=\"text-align: right;\">\n",
       "      <th></th>\n",
       "      <th>Parameter</th>\n",
       "      <th>Coef.</th>\n",
       "      <th>Std.Err.</th>\n",
       "      <th>z</th>\n",
       "      <th>P&gt;|z|</th>\n",
       "      <th>[0.025</th>\n",
       "      <th>0.975]</th>\n",
       "    </tr>\n",
       "  </thead>\n",
       "  <tbody>\n",
       "    <tr>\n",
       "      <th>0</th>\n",
       "      <td>Intercept</td>\n",
       "      <td>8.961</td>\n",
       "      <td>0.145</td>\n",
       "      <td>61.697</td>\n",
       "      <td>0.000</td>\n",
       "      <td>8.676</td>\n",
       "      <td>9.246</td>\n",
       "    </tr>\n",
       "    <tr>\n",
       "      <th>1</th>\n",
       "      <td>wh_numeric</td>\n",
       "      <td>0.108</td>\n",
       "      <td>0.053</td>\n",
       "      <td>2.049</td>\n",
       "      <td>0.040</td>\n",
       "      <td>0.005</td>\n",
       "      <td>0.212</td>\n",
       "    </tr>\n",
       "  </tbody>\n",
       "</table>\n",
       "</div>"
      ],
      "text/plain": [
       "    Parameter  Coef. Std.Err.       z  P>|z| [0.025 0.975]\n",
       "0   Intercept  8.961    0.145  61.697  0.000  8.676  9.246\n",
       "1  wh_numeric  0.108    0.053   2.049  0.040  0.005  0.212"
      ]
     },
     "metadata": {},
     "output_type": "display_data"
    },
    {
     "name": "stdout",
     "output_type": "stream",
     "text": [
      "\n",
      "=== RANDOM EFFECTS / VARIANCE-COVARIANCE ===\n"
     ]
    },
    {
     "data": {
      "text/html": [
       "<div>\n",
       "<style scoped>\n",
       "    .dataframe tbody tr th:only-of-type {\n",
       "        vertical-align: middle;\n",
       "    }\n",
       "\n",
       "    .dataframe tbody tr th {\n",
       "        vertical-align: top;\n",
       "    }\n",
       "\n",
       "    .dataframe thead th {\n",
       "        text-align: right;\n",
       "    }\n",
       "</style>\n",
       "<table border=\"1\" class=\"dataframe\">\n",
       "  <thead>\n",
       "    <tr style=\"text-align: right;\">\n",
       "      <th></th>\n",
       "      <th>Parameter</th>\n",
       "      <th>Coef.</th>\n",
       "      <th>Std.Err.</th>\n",
       "    </tr>\n",
       "  </thead>\n",
       "  <tbody>\n",
       "    <tr>\n",
       "      <th>0</th>\n",
       "      <td>Group Var</td>\n",
       "      <td>0.366</td>\n",
       "      <td>0.219</td>\n",
       "    </tr>\n",
       "  </tbody>\n",
       "</table>\n",
       "</div>"
      ],
      "text/plain": [
       "   Parameter  Coef. Std.Err.\n",
       "0  Group Var  0.366    0.219"
      ]
     },
     "metadata": {},
     "output_type": "display_data"
    },
    {
     "data": {
      "text/plain": [
       "<statsmodels.regression.mixed_linear_model.MixedLMResultsWrapper at 0x148c41c64250>"
      ]
     },
     "execution_count": 24,
     "metadata": {},
     "output_type": "execute_result"
    }
   ],
   "source": [
    "# flip test: gap+\n",
    "gap_df = embed_ppgap_df[embed_ppgap_df['gap_numeric'] == 1]\n",
    "iv_list = ['wh_numeric']\n",
    "mixed_effects_linear_regression(gap_df, iv_list, 'embed_surprisal', 'pp gap position: gap+')"
   ]
  },
  {
   "cell_type": "code",
   "execution_count": null,
   "id": "e51c2fb6",
   "metadata": {},
   "outputs": [
    {
     "name": "stdout",
     "output_type": "stream",
     "text": [
      "\n",
      "=== PP GAP POSITION: DIVISION BY GRAMMATICALITY ===\n",
      "\n",
      "=== MODEL SUMMARY ===\n",
      "Model: MixedLM\n",
      "Dependent Variable: embed_surprisal\n",
      "No. Observations: 320\n",
      "Method: REML\n",
      "No. Groups: 20\n",
      "Scale: 0.4846\n",
      "Min. group size: 16\n",
      "Log-Likelihood: -366.2289\n",
      "Max. group size: 16\n",
      "Converged: Yes\n",
      "Mean group size: 16.0\n",
      "\n",
      "=== FIXED EFFECTS COEFFICIENTS ===\n"
     ]
    },
    {
     "data": {
      "text/html": [
       "<div>\n",
       "<style scoped>\n",
       "    .dataframe tbody tr th:only-of-type {\n",
       "        vertical-align: middle;\n",
       "    }\n",
       "\n",
       "    .dataframe tbody tr th {\n",
       "        vertical-align: top;\n",
       "    }\n",
       "\n",
       "    .dataframe thead th {\n",
       "        text-align: right;\n",
       "    }\n",
       "</style>\n",
       "<table border=\"1\" class=\"dataframe\">\n",
       "  <thead>\n",
       "    <tr style=\"text-align: right;\">\n",
       "      <th></th>\n",
       "      <th>Parameter</th>\n",
       "      <th>Coef.</th>\n",
       "      <th>Std.Err.</th>\n",
       "      <th>z</th>\n",
       "      <th>P&gt;|z|</th>\n",
       "      <th>[0.025</th>\n",
       "      <th>0.975]</th>\n",
       "    </tr>\n",
       "  </thead>\n",
       "  <tbody>\n",
       "    <tr>\n",
       "      <th>0</th>\n",
       "      <td>Intercept</td>\n",
       "      <td>8.776</td>\n",
       "      <td>0.151</td>\n",
       "      <td>58.071</td>\n",
       "      <td>0.000</td>\n",
       "      <td>8.480</td>\n",
       "      <td>9.072</td>\n",
       "    </tr>\n",
       "    <tr>\n",
       "      <th>1</th>\n",
       "      <td>grammaticality[T.gram-]</td>\n",
       "      <td>0.005</td>\n",
       "      <td>0.078</td>\n",
       "      <td>0.065</td>\n",
       "      <td>0.948</td>\n",
       "      <td>-0.147</td>\n",
       "      <td>0.158</td>\n",
       "    </tr>\n",
       "  </tbody>\n",
       "</table>\n",
       "</div>"
      ],
      "text/plain": [
       "                 Parameter  Coef. Std.Err.       z  P>|z|  [0.025 0.975]\n",
       "0                Intercept  8.776    0.151  58.071  0.000   8.480  9.072\n",
       "1  grammaticality[T.gram-]  0.005    0.078   0.065  0.948  -0.147  0.158"
      ]
     },
     "metadata": {},
     "output_type": "display_data"
    },
    {
     "name": "stdout",
     "output_type": "stream",
     "text": [
      "\n",
      "=== RANDOM EFFECTS / VARIANCE-COVARIANCE ===\n"
     ]
    },
    {
     "data": {
      "text/html": [
       "<div>\n",
       "<style scoped>\n",
       "    .dataframe tbody tr th:only-of-type {\n",
       "        vertical-align: middle;\n",
       "    }\n",
       "\n",
       "    .dataframe tbody tr th {\n",
       "        vertical-align: top;\n",
       "    }\n",
       "\n",
       "    .dataframe thead th {\n",
       "        text-align: right;\n",
       "    }\n",
       "</style>\n",
       "<table border=\"1\" class=\"dataframe\">\n",
       "  <thead>\n",
       "    <tr style=\"text-align: right;\">\n",
       "      <th></th>\n",
       "      <th>Parameter</th>\n",
       "      <th>Coef.</th>\n",
       "      <th>Std.Err.</th>\n",
       "    </tr>\n",
       "  </thead>\n",
       "  <tbody>\n",
       "    <tr>\n",
       "      <th>0</th>\n",
       "      <td>Group Var</td>\n",
       "      <td>0.396</td>\n",
       "      <td>0.205</td>\n",
       "    </tr>\n",
       "  </tbody>\n",
       "</table>\n",
       "</div>"
      ],
      "text/plain": [
       "   Parameter  Coef. Std.Err.\n",
       "0  Group Var  0.396    0.205"
      ]
     },
     "metadata": {},
     "output_type": "display_data"
    },
    {
     "data": {
      "text/plain": [
       "<statsmodels.regression.mixed_linear_model.MixedLMResultsWrapper at 0x148c4176ab20>"
      ]
     },
     "execution_count": 25,
     "metadata": {},
     "output_type": "execute_result"
    }
   ],
   "source": [
    "# division by grammaticality\n",
    "iv_list = ['grammaticality']\n",
    "mixed_effects_linear_regression(embed_ppgap_df, iv_list, 'embed_surprisal', 'pp gap position: division by grammaticality')"
   ]
  },
  {
   "cell_type": "markdown",
   "id": "3330747a",
   "metadata": {},
   "source": [
    "#### Double Gaps"
   ]
  },
  {
   "cell_type": "code",
   "execution_count": null,
   "id": "209c4e4d",
   "metadata": {
    "scrolled": true
   },
   "outputs": [],
   "source": [
    "sentence_df = pd.read_csv('test_sentences/Double Gaps.csv')"
   ]
  },
  {
   "cell_type": "code",
   "execution_count": null,
   "id": "7b482920",
   "metadata": {},
   "outputs": [],
   "source": [
    "def assign_grammaticality_double_gaps(row):\n",
    "    ''' Determines grammaticality based on licensor and gap values for the double gap construction.'''\n",
    "    if row['filler'] == 1 and row['gap_count'] == 1:\n",
    "        return 'gram+'\n",
    "    elif row['filler'] == 0 and row['gap_count'] == 0:\n",
    "        return 'gram+'\n",
    "    elif row['filler'] == 1 and row['gap_count'] == 0:\n",
    "        return 'gram-'\n",
    "    elif row['filler'] == 0 and row['gap_count'] == 1:\n",
    "        return 'gram-'\n",
    "    elif row['filler'] == 0 and row['gap_count'] == 2:\n",
    "        return 'gram-'\n",
    "    elif row['filler'] == 1 and row['gap_count'] == 2:\n",
    "        return 'gram-'"
   ]
  },
  {
   "cell_type": "code",
   "execution_count": null,
   "id": "dce83afe",
   "metadata": {},
   "outputs": [],
   "source": [
    "sentence_df[['modifier', 'end']] = sentence_df['modifier'].apply(split_ends)\n",
    "sentence_df = encode_wh_licensor(sentence_df)\n",
    "sentence_df['gap_numeric'] = sentence_df['gap'].replace(0, -1)\n",
    "syntactic_parts = ['prefix', 'licensor', 'subj', 'verb', 'object', 'modifier']\n",
    "sentence_df['sentence'] = sentence_df.apply(lambda x: merge_sentence(x, syntactic_parts), axis = 1)\n",
    "sentence_df['surprisals'] = sentence_df['sentence'].apply(calculate_surprisal)\n",
    "sentence_df['gap_count'] = sentence_df['subject_gap'] + sentence_df['object_gap']\n",
    "sentence_df['grammaticality'] = sentence_df.apply(assign_grammaticality_double_gaps, axis = 1)"
   ]
  },
  {
   "cell_type": "markdown",
   "id": "8093b5cf",
   "metadata": {},
   "source": [
    "Embedded Clause"
   ]
  },
  {
   "cell_type": "code",
   "execution_count": null,
   "id": "d8678386",
   "metadata": {},
   "outputs": [],
   "source": [
    "embed = ['subj', 'object', 'verb', 'modifier', 'end']\n",
    "sentence_df['embed_surprisal'] = sentence_df.apply(lambda x: sum_region_surprisal(x, embed, normalize = True), axis = 1)"
   ]
  },
  {
   "cell_type": "code",
   "execution_count": null,
   "id": "06f1720f",
   "metadata": {},
   "outputs": [
    {
     "name": "stdout",
     "output_type": "stream",
     "text": [
      "\n",
      "=== DOUBLE GAP EMBED: GAP = 0 ===\n",
      "\n",
      "=== MODEL SUMMARY ===\n",
      ":            MixedLM Dependent Variable: embed_surprisal\n",
      "No. Observations: 40\n",
      "Method: REML\n",
      "No. Groups: 20\n",
      "Scale: 0.0736\n",
      "Min. group size: 2\n",
      "Log-Likelihood: -40.0819\n",
      "Max. group size: 2\n",
      "Converged: Yes\n",
      "Mean group size: 2.0\n",
      "\n",
      "=== FIXED EFFECTS COEFFICIENTS ===\n"
     ]
    },
    {
     "data": {
      "text/html": [
       "<div>\n",
       "<style scoped>\n",
       "    .dataframe tbody tr th:only-of-type {\n",
       "        vertical-align: middle;\n",
       "    }\n",
       "\n",
       "    .dataframe tbody tr th {\n",
       "        vertical-align: top;\n",
       "    }\n",
       "\n",
       "    .dataframe thead th {\n",
       "        text-align: right;\n",
       "    }\n",
       "</style>\n",
       "<table border=\"1\" class=\"dataframe\">\n",
       "  <thead>\n",
       "    <tr style=\"text-align: right;\">\n",
       "      <th></th>\n",
       "      <th>Parameter</th>\n",
       "      <th>Coef.</th>\n",
       "      <th>Std.Err.</th>\n",
       "      <th>z</th>\n",
       "      <th>P&gt;|z|</th>\n",
       "      <th>[0.025</th>\n",
       "      <th>0.975]</th>\n",
       "    </tr>\n",
       "  </thead>\n",
       "  <tbody>\n",
       "    <tr>\n",
       "      <th>0</th>\n",
       "      <td>Intercept</td>\n",
       "      <td>7.157</td>\n",
       "      <td>0.232</td>\n",
       "      <td>30.889</td>\n",
       "      <td>0.000</td>\n",
       "      <td>6.703</td>\n",
       "      <td>7.612</td>\n",
       "    </tr>\n",
       "    <tr>\n",
       "      <th>1</th>\n",
       "      <td>wh_numeric</td>\n",
       "      <td>0.156</td>\n",
       "      <td>0.043</td>\n",
       "      <td>3.643</td>\n",
       "      <td>0.000</td>\n",
       "      <td>0.072</td>\n",
       "      <td>0.240</td>\n",
       "    </tr>\n",
       "  </tbody>\n",
       "</table>\n",
       "</div>"
      ],
      "text/plain": [
       "    Parameter  Coef. Std.Err.       z  P>|z| [0.025 0.975]\n",
       "0   Intercept  7.157    0.232  30.889  0.000  6.703  7.612\n",
       "1  wh_numeric  0.156    0.043   3.643  0.000  0.072  0.240"
      ]
     },
     "metadata": {},
     "output_type": "display_data"
    },
    {
     "name": "stdout",
     "output_type": "stream",
     "text": [
      "\n",
      "=== RANDOM EFFECTS / VARIANCE-COVARIANCE ===\n"
     ]
    },
    {
     "data": {
      "text/html": [
       "<div>\n",
       "<style scoped>\n",
       "    .dataframe tbody tr th:only-of-type {\n",
       "        vertical-align: middle;\n",
       "    }\n",
       "\n",
       "    .dataframe tbody tr th {\n",
       "        vertical-align: top;\n",
       "    }\n",
       "\n",
       "    .dataframe thead th {\n",
       "        text-align: right;\n",
       "    }\n",
       "</style>\n",
       "<table border=\"1\" class=\"dataframe\">\n",
       "  <thead>\n",
       "    <tr style=\"text-align: right;\">\n",
       "      <th></th>\n",
       "      <th>Parameter</th>\n",
       "      <th>Coef.</th>\n",
       "      <th>Std.Err.</th>\n",
       "    </tr>\n",
       "  </thead>\n",
       "  <tbody>\n",
       "    <tr>\n",
       "      <th>0</th>\n",
       "      <td>Group Var</td>\n",
       "      <td>1.037</td>\n",
       "      <td>1.816</td>\n",
       "    </tr>\n",
       "  </tbody>\n",
       "</table>\n",
       "</div>"
      ],
      "text/plain": [
       "   Parameter  Coef. Std.Err.\n",
       "0  Group Var  1.037    1.816"
      ]
     },
     "metadata": {},
     "output_type": "display_data"
    },
    {
     "data": {
      "text/plain": [
       "<statsmodels.regression.mixed_linear_model.MixedLMResultsWrapper at 0x148c41b00340>"
      ]
     },
     "execution_count": 30,
     "metadata": {},
     "output_type": "execute_result"
    }
   ],
   "source": [
    "# flip test: gap = 0\n",
    "gap_0 = sentence_df[sentence_df['gap_count'] == 0]\n",
    "iv_list = ['wh_numeric']\n",
    "mixed_effects_linear_regression(gap_0, iv_list, 'embed_surprisal', 'double gap embed: gap = 0')"
   ]
  },
  {
   "cell_type": "code",
   "execution_count": null,
   "id": "acfb10a3",
   "metadata": {},
   "outputs": [
    {
     "name": "stdout",
     "output_type": "stream",
     "text": [
      "\n",
      "=== DOUBLE GAP EMBED: GAP = 1 ===\n",
      "\n",
      "=== MODEL SUMMARY ===\n",
      ":            MixedLM Dependent Variable: embed_surprisal\n",
      "No. Observations: 80\n",
      "Method: REML\n",
      "No. Groups: 20\n",
      "Scale: 0.3416\n",
      "Min. group size: 4\n",
      "Log-Likelihood: -95.9450\n",
      "Max. group size: 4\n",
      "Converged: Yes\n",
      "Mean group size: 4.0\n",
      "\n",
      "=== FIXED EFFECTS COEFFICIENTS ===\n"
     ]
    },
    {
     "data": {
      "text/html": [
       "<div>\n",
       "<style scoped>\n",
       "    .dataframe tbody tr th:only-of-type {\n",
       "        vertical-align: middle;\n",
       "    }\n",
       "\n",
       "    .dataframe tbody tr th {\n",
       "        vertical-align: top;\n",
       "    }\n",
       "\n",
       "    .dataframe thead th {\n",
       "        text-align: right;\n",
       "    }\n",
       "</style>\n",
       "<table border=\"1\" class=\"dataframe\">\n",
       "  <thead>\n",
       "    <tr style=\"text-align: right;\">\n",
       "      <th></th>\n",
       "      <th>Parameter</th>\n",
       "      <th>Coef.</th>\n",
       "      <th>Std.Err.</th>\n",
       "      <th>z</th>\n",
       "      <th>P&gt;|z|</th>\n",
       "      <th>[0.025</th>\n",
       "      <th>0.975]</th>\n",
       "    </tr>\n",
       "  </thead>\n",
       "  <tbody>\n",
       "    <tr>\n",
       "      <th>0</th>\n",
       "      <td>Intercept</td>\n",
       "      <td>7.563</td>\n",
       "      <td>0.217</td>\n",
       "      <td>34.898</td>\n",
       "      <td>0.000</td>\n",
       "      <td>7.138</td>\n",
       "      <td>7.988</td>\n",
       "    </tr>\n",
       "    <tr>\n",
       "      <th>1</th>\n",
       "      <td>wh_numeric</td>\n",
       "      <td>-0.086</td>\n",
       "      <td>0.065</td>\n",
       "      <td>-1.309</td>\n",
       "      <td>0.191</td>\n",
       "      <td>-0.214</td>\n",
       "      <td>0.043</td>\n",
       "    </tr>\n",
       "  </tbody>\n",
       "</table>\n",
       "</div>"
      ],
      "text/plain": [
       "    Parameter   Coef. Std.Err.       z  P>|z|  [0.025 0.975]\n",
       "0   Intercept   7.563    0.217  34.898  0.000   7.138  7.988\n",
       "1  wh_numeric  -0.086    0.065  -1.309  0.191  -0.214  0.043"
      ]
     },
     "metadata": {},
     "output_type": "display_data"
    },
    {
     "name": "stdout",
     "output_type": "stream",
     "text": [
      "\n",
      "=== RANDOM EFFECTS / VARIANCE-COVARIANCE ===\n"
     ]
    },
    {
     "data": {
      "text/html": [
       "<div>\n",
       "<style scoped>\n",
       "    .dataframe tbody tr th:only-of-type {\n",
       "        vertical-align: middle;\n",
       "    }\n",
       "\n",
       "    .dataframe tbody tr th {\n",
       "        vertical-align: top;\n",
       "    }\n",
       "\n",
       "    .dataframe thead th {\n",
       "        text-align: right;\n",
       "    }\n",
       "</style>\n",
       "<table border=\"1\" class=\"dataframe\">\n",
       "  <thead>\n",
       "    <tr style=\"text-align: right;\">\n",
       "      <th></th>\n",
       "      <th>Parameter</th>\n",
       "      <th>Coef.</th>\n",
       "      <th>Std.Err.</th>\n",
       "    </tr>\n",
       "  </thead>\n",
       "  <tbody>\n",
       "    <tr>\n",
       "      <th>0</th>\n",
       "      <td>Group Var</td>\n",
       "      <td>0.854</td>\n",
       "      <td>0.600</td>\n",
       "    </tr>\n",
       "  </tbody>\n",
       "</table>\n",
       "</div>"
      ],
      "text/plain": [
       "   Parameter  Coef. Std.Err.\n",
       "0  Group Var  0.854    0.600"
      ]
     },
     "metadata": {},
     "output_type": "display_data"
    },
    {
     "data": {
      "text/plain": [
       "<statsmodels.regression.mixed_linear_model.MixedLMResultsWrapper at 0x148c41c72850>"
      ]
     },
     "execution_count": 31,
     "metadata": {},
     "output_type": "execute_result"
    }
   ],
   "source": [
    "# flip test: gap = 1\n",
    "gap_1 = sentence_df[sentence_df['gap_count'] == 1]\n",
    "iv_list = ['wh_numeric']\n",
    "mixed_effects_linear_regression(gap_1, iv_list, 'embed_surprisal', 'double gap embed: gap = 1')"
   ]
  },
  {
   "cell_type": "code",
   "execution_count": null,
   "id": "d26b0819",
   "metadata": {},
   "outputs": [
    {
     "name": "stdout",
     "output_type": "stream",
     "text": [
      "\n",
      "=== DOUBLE GAP EMBED: GAP = 2 ===\n",
      "\n",
      "=== MODEL SUMMARY ===\n",
      ":            MixedLM Dependent Variable: embed_surprisal\n",
      "No. Observations: 40\n",
      "Method: REML\n",
      "No. Groups: 20\n",
      "Scale: 0.1216\n",
      "Min. group size: 2\n",
      "Log-Likelihood: -47.3003\n",
      "Max. group size: 2\n",
      "Converged: Yes\n",
      "Mean group size: 2.0\n",
      "\n",
      "=== FIXED EFFECTS COEFFICIENTS ===\n"
     ]
    },
    {
     "data": {
      "text/html": [
       "<div>\n",
       "<style scoped>\n",
       "    .dataframe tbody tr th:only-of-type {\n",
       "        vertical-align: middle;\n",
       "    }\n",
       "\n",
       "    .dataframe tbody tr th {\n",
       "        vertical-align: top;\n",
       "    }\n",
       "\n",
       "    .dataframe thead th {\n",
       "        text-align: right;\n",
       "    }\n",
       "</style>\n",
       "<table border=\"1\" class=\"dataframe\">\n",
       "  <thead>\n",
       "    <tr style=\"text-align: right;\">\n",
       "      <th></th>\n",
       "      <th>Parameter</th>\n",
       "      <th>Coef.</th>\n",
       "      <th>Std.Err.</th>\n",
       "      <th>z</th>\n",
       "      <th>P&gt;|z|</th>\n",
       "      <th>[0.025</th>\n",
       "      <th>0.975]</th>\n",
       "    </tr>\n",
       "  </thead>\n",
       "  <tbody>\n",
       "    <tr>\n",
       "      <th>0</th>\n",
       "      <td>Intercept</td>\n",
       "      <td>8.609</td>\n",
       "      <td>0.264</td>\n",
       "      <td>32.668</td>\n",
       "      <td>0.000</td>\n",
       "      <td>8.093</td>\n",
       "      <td>9.126</td>\n",
       "    </tr>\n",
       "    <tr>\n",
       "      <th>1</th>\n",
       "      <td>wh_numeric</td>\n",
       "      <td>-0.243</td>\n",
       "      <td>0.055</td>\n",
       "      <td>-4.413</td>\n",
       "      <td>0.000</td>\n",
       "      <td>-0.351</td>\n",
       "      <td>-0.135</td>\n",
       "    </tr>\n",
       "  </tbody>\n",
       "</table>\n",
       "</div>"
      ],
      "text/plain": [
       "    Parameter   Coef. Std.Err.       z  P>|z|  [0.025  0.975]\n",
       "0   Intercept   8.609    0.264  32.668  0.000   8.093   9.126\n",
       "1  wh_numeric  -0.243    0.055  -4.413  0.000  -0.351  -0.135"
      ]
     },
     "metadata": {},
     "output_type": "display_data"
    },
    {
     "name": "stdout",
     "output_type": "stream",
     "text": [
      "\n",
      "=== RANDOM EFFECTS / VARIANCE-COVARIANCE ===\n"
     ]
    },
    {
     "data": {
      "text/html": [
       "<div>\n",
       "<style scoped>\n",
       "    .dataframe tbody tr th:only-of-type {\n",
       "        vertical-align: middle;\n",
       "    }\n",
       "\n",
       "    .dataframe tbody tr th {\n",
       "        vertical-align: top;\n",
       "    }\n",
       "\n",
       "    .dataframe thead th {\n",
       "        text-align: right;\n",
       "    }\n",
       "</style>\n",
       "<table border=\"1\" class=\"dataframe\">\n",
       "  <thead>\n",
       "    <tr style=\"text-align: right;\">\n",
       "      <th></th>\n",
       "      <th>Parameter</th>\n",
       "      <th>Coef.</th>\n",
       "      <th>Std.Err.</th>\n",
       "    </tr>\n",
       "  </thead>\n",
       "  <tbody>\n",
       "    <tr>\n",
       "      <th>0</th>\n",
       "      <td>Group Var</td>\n",
       "      <td>1.328</td>\n",
       "      <td>1.828</td>\n",
       "    </tr>\n",
       "  </tbody>\n",
       "</table>\n",
       "</div>"
      ],
      "text/plain": [
       "   Parameter  Coef. Std.Err.\n",
       "0  Group Var  1.328    1.828"
      ]
     },
     "metadata": {},
     "output_type": "display_data"
    },
    {
     "data": {
      "text/plain": [
       "<statsmodels.regression.mixed_linear_model.MixedLMResultsWrapper at 0x148c41aeed60>"
      ]
     },
     "execution_count": 32,
     "metadata": {},
     "output_type": "execute_result"
    }
   ],
   "source": [
    "# flip test: gap = 2\n",
    "gap_2 = sentence_df[sentence_df['gap_count'] == 2]\n",
    "iv_list = ['wh_numeric']\n",
    "mixed_effects_linear_regression(gap_2, iv_list, 'embed_surprisal', 'double gap embed: gap = 2')"
   ]
  },
  {
   "cell_type": "code",
   "execution_count": null,
   "id": "6a81b41c",
   "metadata": {},
   "outputs": [
    {
     "name": "stdout",
     "output_type": "stream",
     "text": [
      "\n",
      "=== DOUBLE GAP EMBED: DIVISION BY GRAMMATICALITY ===\n",
      "\n",
      "=== MODEL SUMMARY ===\n",
      "Model: MixedLM\n",
      "Dependent Variable: embed_surprisal\n",
      "No. Observations: 160\n",
      "Method: REML\n",
      "No. Groups: 20\n",
      "Scale: 0.5357\n",
      "Min. group size: 8\n",
      "Log-Likelihood: -204.7178\n",
      "Max. group size: 8\n",
      "Converged: Yes\n",
      "Mean group size: 8.0\n",
      "\n",
      "=== FIXED EFFECTS COEFFICIENTS ===\n"
     ]
    },
    {
     "data": {
      "text/html": [
       "<div>\n",
       "<style scoped>\n",
       "    .dataframe tbody tr th:only-of-type {\n",
       "        vertical-align: middle;\n",
       "    }\n",
       "\n",
       "    .dataframe tbody tr th {\n",
       "        vertical-align: top;\n",
       "    }\n",
       "\n",
       "    .dataframe thead th {\n",
       "        text-align: right;\n",
       "    }\n",
       "</style>\n",
       "<table border=\"1\" class=\"dataframe\">\n",
       "  <thead>\n",
       "    <tr style=\"text-align: right;\">\n",
       "      <th></th>\n",
       "      <th>Parameter</th>\n",
       "      <th>Coef.</th>\n",
       "      <th>Std.Err.</th>\n",
       "      <th>z</th>\n",
       "      <th>P&gt;|z|</th>\n",
       "      <th>[0.025</th>\n",
       "      <th>0.975]</th>\n",
       "    </tr>\n",
       "  </thead>\n",
       "  <tbody>\n",
       "    <tr>\n",
       "      <th>0</th>\n",
       "      <td>Intercept</td>\n",
       "      <td>7.319</td>\n",
       "      <td>0.234</td>\n",
       "      <td>31.335</td>\n",
       "      <td>0.000</td>\n",
       "      <td>6.861</td>\n",
       "      <td>7.777</td>\n",
       "    </tr>\n",
       "    <tr>\n",
       "      <th>1</th>\n",
       "      <td>grammaticality[T.gram-]</td>\n",
       "      <td>0.647</td>\n",
       "      <td>0.120</td>\n",
       "      <td>5.415</td>\n",
       "      <td>0.000</td>\n",
       "      <td>0.413</td>\n",
       "      <td>0.881</td>\n",
       "    </tr>\n",
       "  </tbody>\n",
       "</table>\n",
       "</div>"
      ],
      "text/plain": [
       "                 Parameter  Coef. Std.Err.       z  P>|z| [0.025 0.975]\n",
       "0                Intercept  7.319    0.234  31.335  0.000  6.861  7.777\n",
       "1  grammaticality[T.gram-]  0.647    0.120   5.415  0.000  0.413  0.881"
      ]
     },
     "metadata": {},
     "output_type": "display_data"
    },
    {
     "name": "stdout",
     "output_type": "stream",
     "text": [
      "\n",
      "=== RANDOM EFFECTS / VARIANCE-COVARIANCE ===\n"
     ]
    },
    {
     "data": {
      "text/html": [
       "<div>\n",
       "<style scoped>\n",
       "    .dataframe tbody tr th:only-of-type {\n",
       "        vertical-align: middle;\n",
       "    }\n",
       "\n",
       "    .dataframe tbody tr th {\n",
       "        vertical-align: top;\n",
       "    }\n",
       "\n",
       "    .dataframe thead th {\n",
       "        text-align: right;\n",
       "    }\n",
       "</style>\n",
       "<table border=\"1\" class=\"dataframe\">\n",
       "  <thead>\n",
       "    <tr style=\"text-align: right;\">\n",
       "      <th></th>\n",
       "      <th>Parameter</th>\n",
       "      <th>Coef.</th>\n",
       "      <th>Std.Err.</th>\n",
       "    </tr>\n",
       "  </thead>\n",
       "  <tbody>\n",
       "    <tr>\n",
       "      <th>0</th>\n",
       "      <td>Group Var</td>\n",
       "      <td>0.912</td>\n",
       "      <td>0.463</td>\n",
       "    </tr>\n",
       "  </tbody>\n",
       "</table>\n",
       "</div>"
      ],
      "text/plain": [
       "   Parameter  Coef. Std.Err.\n",
       "0  Group Var  0.912    0.463"
      ]
     },
     "metadata": {},
     "output_type": "display_data"
    },
    {
     "data": {
      "text/plain": [
       "<statsmodels.regression.mixed_linear_model.MixedLMResultsWrapper at 0x148c41af8be0>"
      ]
     },
     "execution_count": 33,
     "metadata": {},
     "output_type": "execute_result"
    }
   ],
   "source": [
    "# division by grammaticality\n",
    "iv_list = ['grammaticality']\n",
    "mixed_effects_linear_regression(sentence_df, iv_list, 'embed_surprisal', 'double gap embed: division by grammaticality')"
   ]
  },
  {
   "cell_type": "markdown",
   "id": "674ffc51",
   "metadata": {},
   "source": [
    "### Islands"
   ]
  },
  {
   "cell_type": "code",
   "execution_count": null,
   "id": "71084cfb",
   "metadata": {},
   "outputs": [],
   "source": [
    "def assign_grammaticality_islands(row, island_type):\n",
    "    ''' Determines grammaticality based on licensor and gap values.'''\n",
    "    if row[island_type] == 'null' or row[island_type] == 'that':\n",
    "        if row['filler'] > 0 and row['gap'] == 1:\n",
    "            return 'gram+'\n",
    "            #return 1\n",
    "        elif row['filler'] == 0 and row['gap'] == 0:\n",
    "            return 'gram+'\n",
    "            #return 1\n",
    "        elif row['filler'] > 0 and row['gap'] == 0:\n",
    "            return 'gram-'\n",
    "            #return 0\n",
    "        elif row['filler'] == 0 and row['gap'] == 1:\n",
    "            return 'gram-'\n",
    "            #return 0\n",
    "    else:\n",
    "        if row['filler'] > 0 and row['gap'] == 1:\n",
    "            return 'gram-'\n",
    "            #return 0\n",
    "        elif row['filler'] == 0 and row['gap'] == 0:\n",
    "            return 'gram+'\n",
    "            #return 1\n",
    "        elif row['filler'] > 0 and row['gap'] == 0:\n",
    "            return 'gram-'\n",
    "            #return 0\n",
    "        elif row['filler'] == 0 and row['gap'] == 1:\n",
    "            return 'gram-'\n",
    "            #return 0"
   ]
  },
  {
   "cell_type": "markdown",
   "id": "88490c4f",
   "metadata": {},
   "source": [
    "#### Wh-Islands"
   ]
  },
  {
   "cell_type": "code",
   "execution_count": null,
   "id": "402f34e8",
   "metadata": {},
   "outputs": [],
   "source": [
    "sentence_df = pd.read_csv('test_sentences/Wh-Islands.csv')\n",
    "sentence_df['comp_type'] = sentence_df['comp_type'].fillna('null')"
   ]
  },
  {
   "cell_type": "code",
   "execution_count": null,
   "id": "d2830731",
   "metadata": {},
   "outputs": [],
   "source": [
    "sentence_df[['cont', 'end']] = sentence_df['cont'].apply(split_ends)\n",
    "sentence_df = encode_wh_licensor(sentence_df)\n",
    "sentence_df['gap_numeric'] = sentence_df['gap'].replace(0, -1)\n",
    "syntactic_parts = ['prefix', 'filler_word', 'subj1', 'verb1', 'comp', 'subj2', 'embed_verb', 'obj', 'cont']\n",
    "sentence_df['sentence'] = sentence_df.apply(lambda x: merge_sentence (x, syntactic_parts), axis = 1)\n",
    "sentence_df['surprisals'] = sentence_df['sentence'].apply(calculate_surprisal)\n",
    "sentence_df['comp_type'] = pd.Categorical(sentence_df['comp_type'], categories = ['null', 'that', 'whether'], ordered = True)\n",
    "sentence_df['grammaticality'] = sentence_df.apply(lambda x: assign_grammaticality_islands(x, 'comp_type'), axis = 1)"
   ]
  },
  {
   "cell_type": "markdown",
   "id": "42da86a3",
   "metadata": {},
   "source": [
    "Post-Gap Region - Continuation"
   ]
  },
  {
   "cell_type": "code",
   "execution_count": null,
   "id": "e7157f88",
   "metadata": {},
   "outputs": [],
   "source": [
    "sentence_df['region_surprisal'] = sentence_df.apply(lambda x: sum_region_surprisal(x, ['cont'], 'obj'), axis = 1)"
   ]
  },
  {
   "cell_type": "code",
   "execution_count": null,
   "id": "e962e5d4",
   "metadata": {},
   "outputs": [
    {
     "name": "stdout",
     "output_type": "stream",
     "text": [
      "\n",
      "=== WH-ISLANDS CONTINUATION: GAP- ===\n",
      "\n",
      "=== MODEL SUMMARY ===\n",
      "Model: MixedLM\n",
      "Dependent Variable: region_surprisal\n",
      "No. Observations: 120\n",
      "Method: REML\n",
      "No. Groups: 20\n",
      "Scale: 0.7672\n",
      "Min. group size: 6\n",
      "Log-Likelihood: -211.5234\n",
      "Max. group size: 6\n",
      "Converged: Yes\n",
      "Mean group size: 6.0\n",
      "\n",
      "=== FIXED EFFECTS COEFFICIENTS ===\n"
     ]
    },
    {
     "data": {
      "text/html": [
       "<div>\n",
       "<style scoped>\n",
       "    .dataframe tbody tr th:only-of-type {\n",
       "        vertical-align: middle;\n",
       "    }\n",
       "\n",
       "    .dataframe tbody tr th {\n",
       "        vertical-align: top;\n",
       "    }\n",
       "\n",
       "    .dataframe thead th {\n",
       "        text-align: right;\n",
       "    }\n",
       "</style>\n",
       "<table border=\"1\" class=\"dataframe\">\n",
       "  <thead>\n",
       "    <tr style=\"text-align: right;\">\n",
       "      <th></th>\n",
       "      <th>Parameter</th>\n",
       "      <th>Coef.</th>\n",
       "      <th>Std.Err.</th>\n",
       "      <th>z</th>\n",
       "      <th>P&gt;|z|</th>\n",
       "      <th>[0.025</th>\n",
       "      <th>0.975]</th>\n",
       "    </tr>\n",
       "  </thead>\n",
       "  <tbody>\n",
       "    <tr>\n",
       "      <th>0</th>\n",
       "      <td>Intercept</td>\n",
       "      <td>18.655</td>\n",
       "      <td>1.362</td>\n",
       "      <td>13.697</td>\n",
       "      <td>0.000</td>\n",
       "      <td>15.985</td>\n",
       "      <td>21.324</td>\n",
       "    </tr>\n",
       "    <tr>\n",
       "      <th>1</th>\n",
       "      <td>comp_type[T.that]</td>\n",
       "      <td>-1.100</td>\n",
       "      <td>0.196</td>\n",
       "      <td>-5.614</td>\n",
       "      <td>0.000</td>\n",
       "      <td>-1.483</td>\n",
       "      <td>-0.716</td>\n",
       "    </tr>\n",
       "    <tr>\n",
       "      <th>2</th>\n",
       "      <td>comp_type[T.whether]</td>\n",
       "      <td>-1.374</td>\n",
       "      <td>0.196</td>\n",
       "      <td>-7.013</td>\n",
       "      <td>0.000</td>\n",
       "      <td>-1.757</td>\n",
       "      <td>-0.990</td>\n",
       "    </tr>\n",
       "    <tr>\n",
       "      <th>3</th>\n",
       "      <td>wh_numeric</td>\n",
       "      <td>1.120</td>\n",
       "      <td>0.138</td>\n",
       "      <td>8.089</td>\n",
       "      <td>0.000</td>\n",
       "      <td>0.849</td>\n",
       "      <td>1.392</td>\n",
       "    </tr>\n",
       "    <tr>\n",
       "      <th>4</th>\n",
       "      <td>wh_numeric:comp_type[T.that]</td>\n",
       "      <td>-0.594</td>\n",
       "      <td>0.196</td>\n",
       "      <td>-3.031</td>\n",
       "      <td>0.002</td>\n",
       "      <td>-0.977</td>\n",
       "      <td>-0.210</td>\n",
       "    </tr>\n",
       "    <tr>\n",
       "      <th>5</th>\n",
       "      <td>wh_numeric:comp_type[T.whether]</td>\n",
       "      <td>-0.967</td>\n",
       "      <td>0.196</td>\n",
       "      <td>-4.939</td>\n",
       "      <td>0.000</td>\n",
       "      <td>-1.351</td>\n",
       "      <td>-0.584</td>\n",
       "    </tr>\n",
       "  </tbody>\n",
       "</table>\n",
       "</div>"
      ],
      "text/plain": [
       "                         Parameter   Coef. Std.Err.       z  P>|z|  [0.025  \\\n",
       "0                        Intercept  18.655    1.362  13.697  0.000  15.985   \n",
       "1                comp_type[T.that]  -1.100    0.196  -5.614  0.000  -1.483   \n",
       "2             comp_type[T.whether]  -1.374    0.196  -7.013  0.000  -1.757   \n",
       "3                       wh_numeric   1.120    0.138   8.089  0.000   0.849   \n",
       "4     wh_numeric:comp_type[T.that]  -0.594    0.196  -3.031  0.002  -0.977   \n",
       "5  wh_numeric:comp_type[T.whether]  -0.967    0.196  -4.939  0.000  -1.351   \n",
       "\n",
       "   0.975]  \n",
       "0  21.324  \n",
       "1  -0.716  \n",
       "2  -0.990  \n",
       "3   1.392  \n",
       "4  -0.210  \n",
       "5  -0.584  "
      ]
     },
     "metadata": {},
     "output_type": "display_data"
    },
    {
     "name": "stdout",
     "output_type": "stream",
     "text": [
      "\n",
      "=== RANDOM EFFECTS / VARIANCE-COVARIANCE ===\n"
     ]
    },
    {
     "data": {
      "text/html": [
       "<div>\n",
       "<style scoped>\n",
       "    .dataframe tbody tr th:only-of-type {\n",
       "        vertical-align: middle;\n",
       "    }\n",
       "\n",
       "    .dataframe tbody tr th {\n",
       "        vertical-align: top;\n",
       "    }\n",
       "\n",
       "    .dataframe thead th {\n",
       "        text-align: right;\n",
       "    }\n",
       "</style>\n",
       "<table border=\"1\" class=\"dataframe\">\n",
       "  <thead>\n",
       "    <tr style=\"text-align: right;\">\n",
       "      <th></th>\n",
       "      <th>Parameter</th>\n",
       "      <th>Coef.</th>\n",
       "      <th>Std.Err.</th>\n",
       "    </tr>\n",
       "  </thead>\n",
       "  <tbody>\n",
       "    <tr>\n",
       "      <th>0</th>\n",
       "      <td>Group Var</td>\n",
       "      <td>36.715</td>\n",
       "      <td>14.945</td>\n",
       "    </tr>\n",
       "  </tbody>\n",
       "</table>\n",
       "</div>"
      ],
      "text/plain": [
       "   Parameter   Coef. Std.Err.\n",
       "0  Group Var  36.715   14.945"
      ]
     },
     "metadata": {},
     "output_type": "display_data"
    },
    {
     "data": {
      "text/plain": [
       "<statsmodels.regression.mixed_linear_model.MixedLMResultsWrapper at 0x148c41c727c0>"
      ]
     },
     "execution_count": 38,
     "metadata": {},
     "output_type": "execute_result"
    }
   ],
   "source": [
    "# flip test: gap-\n",
    "no_gap_df = sentence_df[sentence_df['gap_numeric'] == -1]\n",
    "iv_list = ['wh_numeric', 'comp_type']\n",
    "mixed_effects_linear_regression(no_gap_df, iv_list, 'region_surprisal', 'wh-islands continuation: gap-')"
   ]
  },
  {
   "cell_type": "code",
   "execution_count": null,
   "id": "bbc4983e",
   "metadata": {},
   "outputs": [
    {
     "name": "stdout",
     "output_type": "stream",
     "text": [
      "\n",
      "=== WH-ISLANDS CONTINUATION: GAP+ ===\n",
      "\n",
      "=== MODEL SUMMARY ===\n",
      "Model: MixedLM\n",
      "Dependent Variable: region_surprisal\n",
      "No. Observations: 120\n",
      "Method: REML\n",
      "No. Groups: 20\n",
      "Scale: 1.1891\n",
      "Min. group size: 6\n",
      "Log-Likelihood: -242.1215\n",
      "Max. group size: 6\n",
      "Converged: Yes\n",
      "Mean group size: 6.0\n",
      "\n",
      "=== FIXED EFFECTS COEFFICIENTS ===\n"
     ]
    },
    {
     "data": {
      "text/html": [
       "<div>\n",
       "<style scoped>\n",
       "    .dataframe tbody tr th:only-of-type {\n",
       "        vertical-align: middle;\n",
       "    }\n",
       "\n",
       "    .dataframe tbody tr th {\n",
       "        vertical-align: top;\n",
       "    }\n",
       "\n",
       "    .dataframe thead th {\n",
       "        text-align: right;\n",
       "    }\n",
       "</style>\n",
       "<table border=\"1\" class=\"dataframe\">\n",
       "  <thead>\n",
       "    <tr style=\"text-align: right;\">\n",
       "      <th></th>\n",
       "      <th>Parameter</th>\n",
       "      <th>Coef.</th>\n",
       "      <th>Std.Err.</th>\n",
       "      <th>z</th>\n",
       "      <th>P&gt;|z|</th>\n",
       "      <th>[0.025</th>\n",
       "      <th>0.975]</th>\n",
       "    </tr>\n",
       "  </thead>\n",
       "  <tbody>\n",
       "    <tr>\n",
       "      <th>0</th>\n",
       "      <td>Intercept</td>\n",
       "      <td>25.806</td>\n",
       "      <td>2.276</td>\n",
       "      <td>11.339</td>\n",
       "      <td>0.000</td>\n",
       "      <td>21.346</td>\n",
       "      <td>30.267</td>\n",
       "    </tr>\n",
       "    <tr>\n",
       "      <th>1</th>\n",
       "      <td>comp_type[T.that]</td>\n",
       "      <td>0.777</td>\n",
       "      <td>0.244</td>\n",
       "      <td>3.185</td>\n",
       "      <td>0.001</td>\n",
       "      <td>0.299</td>\n",
       "      <td>1.255</td>\n",
       "    </tr>\n",
       "    <tr>\n",
       "      <th>2</th>\n",
       "      <td>comp_type[T.whether]</td>\n",
       "      <td>1.259</td>\n",
       "      <td>0.244</td>\n",
       "      <td>5.162</td>\n",
       "      <td>0.000</td>\n",
       "      <td>0.781</td>\n",
       "      <td>1.737</td>\n",
       "    </tr>\n",
       "    <tr>\n",
       "      <th>3</th>\n",
       "      <td>wh_numeric</td>\n",
       "      <td>-0.514</td>\n",
       "      <td>0.172</td>\n",
       "      <td>-2.980</td>\n",
       "      <td>0.003</td>\n",
       "      <td>-0.852</td>\n",
       "      <td>-0.176</td>\n",
       "    </tr>\n",
       "    <tr>\n",
       "      <th>4</th>\n",
       "      <td>wh_numeric:comp_type[T.that]</td>\n",
       "      <td>0.018</td>\n",
       "      <td>0.244</td>\n",
       "      <td>0.074</td>\n",
       "      <td>0.941</td>\n",
       "      <td>-0.460</td>\n",
       "      <td>0.496</td>\n",
       "    </tr>\n",
       "    <tr>\n",
       "      <th>5</th>\n",
       "      <td>wh_numeric:comp_type[T.whether]</td>\n",
       "      <td>0.413</td>\n",
       "      <td>0.244</td>\n",
       "      <td>1.694</td>\n",
       "      <td>0.090</td>\n",
       "      <td>-0.065</td>\n",
       "      <td>0.891</td>\n",
       "    </tr>\n",
       "  </tbody>\n",
       "</table>\n",
       "</div>"
      ],
      "text/plain": [
       "                         Parameter   Coef. Std.Err.       z  P>|z|  [0.025  \\\n",
       "0                        Intercept  25.806    2.276  11.339  0.000  21.346   \n",
       "1                comp_type[T.that]   0.777    0.244   3.185  0.001   0.299   \n",
       "2             comp_type[T.whether]   1.259    0.244   5.162  0.000   0.781   \n",
       "3                       wh_numeric  -0.514    0.172  -2.980  0.003  -0.852   \n",
       "4     wh_numeric:comp_type[T.that]   0.018    0.244   0.074  0.941  -0.460   \n",
       "5  wh_numeric:comp_type[T.whether]   0.413    0.244   1.694  0.090  -0.065   \n",
       "\n",
       "   0.975]  \n",
       "0  30.267  \n",
       "1   1.255  \n",
       "2   1.737  \n",
       "3  -0.176  \n",
       "4   0.496  \n",
       "5   0.891  "
      ]
     },
     "metadata": {},
     "output_type": "display_data"
    },
    {
     "name": "stdout",
     "output_type": "stream",
     "text": [
      "\n",
      "=== RANDOM EFFECTS / VARIANCE-COVARIANCE ===\n"
     ]
    },
    {
     "data": {
      "text/html": [
       "<div>\n",
       "<style scoped>\n",
       "    .dataframe tbody tr th:only-of-type {\n",
       "        vertical-align: middle;\n",
       "    }\n",
       "\n",
       "    .dataframe tbody tr th {\n",
       "        vertical-align: top;\n",
       "    }\n",
       "\n",
       "    .dataframe thead th {\n",
       "        text-align: right;\n",
       "    }\n",
       "</style>\n",
       "<table border=\"1\" class=\"dataframe\">\n",
       "  <thead>\n",
       "    <tr style=\"text-align: right;\">\n",
       "      <th></th>\n",
       "      <th>Parameter</th>\n",
       "      <th>Coef.</th>\n",
       "      <th>Std.Err.</th>\n",
       "    </tr>\n",
       "  </thead>\n",
       "  <tbody>\n",
       "    <tr>\n",
       "      <th>0</th>\n",
       "      <td>Group Var</td>\n",
       "      <td>102.991</td>\n",
       "      <td>33.629</td>\n",
       "    </tr>\n",
       "  </tbody>\n",
       "</table>\n",
       "</div>"
      ],
      "text/plain": [
       "   Parameter    Coef. Std.Err.\n",
       "0  Group Var  102.991   33.629"
      ]
     },
     "metadata": {},
     "output_type": "display_data"
    },
    {
     "data": {
      "text/plain": [
       "<statsmodels.regression.mixed_linear_model.MixedLMResultsWrapper at 0x148c41a4e3d0>"
      ]
     },
     "execution_count": 39,
     "metadata": {},
     "output_type": "execute_result"
    }
   ],
   "source": [
    "# flip test: gap+\n",
    "gap_df = sentence_df[sentence_df['gap_numeric'] == 1]\n",
    "iv_list = ['wh_numeric', 'comp_type']\n",
    "mixed_effects_linear_regression(gap_df, iv_list, 'region_surprisal', 'wh-islands continuation: gap+')"
   ]
  },
  {
   "cell_type": "markdown",
   "id": "4dff9fd1",
   "metadata": {},
   "source": [
    "Embedded Clause"
   ]
  },
  {
   "cell_type": "code",
   "execution_count": null,
   "id": "d4f35a76",
   "metadata": {},
   "outputs": [],
   "source": [
    "embed = ['subj1', 'verb1', 'comp', 'subj2', 'embed_verb', 'obj', 'cont', 'end']\n",
    "sentence_df['embed_surprisal'] = sentence_df.apply(lambda x: sum_region_surprisal(x, embed, normalize = True), axis = 1)"
   ]
  },
  {
   "cell_type": "code",
   "execution_count": null,
   "id": "28a7dccc",
   "metadata": {},
   "outputs": [
    {
     "name": "stdout",
     "output_type": "stream",
     "text": [
      "\n",
      "=== WH-ISLANDS EMBED: GAP- ===\n",
      "\n",
      "=== MODEL SUMMARY ===\n",
      "Model: MixedLM\n",
      "Dependent Variable: embed_surprisal\n",
      "No. Observations: 120\n",
      "Method: REML\n",
      "No. Groups: 20\n",
      "Scale: 0.0600\n",
      "Min. group size: 6\n",
      "Log-Likelihood: -59.2084\n",
      "Max. group size: 6\n",
      "Converged: Yes\n",
      "Mean group size: 6.0\n",
      "\n",
      "=== FIXED EFFECTS COEFFICIENTS ===\n"
     ]
    },
    {
     "data": {
      "text/html": [
       "<div>\n",
       "<style scoped>\n",
       "    .dataframe tbody tr th:only-of-type {\n",
       "        vertical-align: middle;\n",
       "    }\n",
       "\n",
       "    .dataframe tbody tr th {\n",
       "        vertical-align: top;\n",
       "    }\n",
       "\n",
       "    .dataframe thead th {\n",
       "        text-align: right;\n",
       "    }\n",
       "</style>\n",
       "<table border=\"1\" class=\"dataframe\">\n",
       "  <thead>\n",
       "    <tr style=\"text-align: right;\">\n",
       "      <th></th>\n",
       "      <th>Parameter</th>\n",
       "      <th>Coef.</th>\n",
       "      <th>Std.Err.</th>\n",
       "      <th>z</th>\n",
       "      <th>P&gt;|z|</th>\n",
       "      <th>[0.025</th>\n",
       "      <th>0.975]</th>\n",
       "    </tr>\n",
       "  </thead>\n",
       "  <tbody>\n",
       "    <tr>\n",
       "      <th>0</th>\n",
       "      <td>Intercept</td>\n",
       "      <td>9.230</td>\n",
       "      <td>0.264</td>\n",
       "      <td>34.973</td>\n",
       "      <td>0.000</td>\n",
       "      <td>8.713</td>\n",
       "      <td>9.747</td>\n",
       "    </tr>\n",
       "    <tr>\n",
       "      <th>1</th>\n",
       "      <td>comp_type[T.that]</td>\n",
       "      <td>-0.744</td>\n",
       "      <td>0.055</td>\n",
       "      <td>-13.580</td>\n",
       "      <td>0.000</td>\n",
       "      <td>-0.851</td>\n",
       "      <td>-0.636</td>\n",
       "    </tr>\n",
       "    <tr>\n",
       "      <th>2</th>\n",
       "      <td>comp_type[T.whether]</td>\n",
       "      <td>-0.191</td>\n",
       "      <td>0.055</td>\n",
       "      <td>-3.485</td>\n",
       "      <td>0.000</td>\n",
       "      <td>-0.298</td>\n",
       "      <td>-0.084</td>\n",
       "    </tr>\n",
       "    <tr>\n",
       "      <th>3</th>\n",
       "      <td>wh_numeric</td>\n",
       "      <td>0.043</td>\n",
       "      <td>0.039</td>\n",
       "      <td>1.110</td>\n",
       "      <td>0.267</td>\n",
       "      <td>-0.033</td>\n",
       "      <td>0.119</td>\n",
       "    </tr>\n",
       "    <tr>\n",
       "      <th>4</th>\n",
       "      <td>wh_numeric:comp_type[T.that]</td>\n",
       "      <td>0.078</td>\n",
       "      <td>0.055</td>\n",
       "      <td>1.422</td>\n",
       "      <td>0.155</td>\n",
       "      <td>-0.029</td>\n",
       "      <td>0.185</td>\n",
       "    </tr>\n",
       "    <tr>\n",
       "      <th>5</th>\n",
       "      <td>wh_numeric:comp_type[T.whether]</td>\n",
       "      <td>-0.147</td>\n",
       "      <td>0.055</td>\n",
       "      <td>-2.681</td>\n",
       "      <td>0.007</td>\n",
       "      <td>-0.254</td>\n",
       "      <td>-0.039</td>\n",
       "    </tr>\n",
       "  </tbody>\n",
       "</table>\n",
       "</div>"
      ],
      "text/plain": [
       "                         Parameter   Coef. Std.Err.        z  P>|z|  [0.025  \\\n",
       "0                        Intercept   9.230    0.264   34.973  0.000   8.713   \n",
       "1                comp_type[T.that]  -0.744    0.055  -13.580  0.000  -0.851   \n",
       "2             comp_type[T.whether]  -0.191    0.055   -3.485  0.000  -0.298   \n",
       "3                       wh_numeric   0.043    0.039    1.110  0.267  -0.033   \n",
       "4     wh_numeric:comp_type[T.that]   0.078    0.055    1.422  0.155  -0.029   \n",
       "5  wh_numeric:comp_type[T.whether]  -0.147    0.055   -2.681  0.007  -0.254   \n",
       "\n",
       "   0.975]  \n",
       "0   9.747  \n",
       "1  -0.636  \n",
       "2  -0.084  \n",
       "3   0.119  \n",
       "4   0.185  \n",
       "5  -0.039  "
      ]
     },
     "metadata": {},
     "output_type": "display_data"
    },
    {
     "name": "stdout",
     "output_type": "stream",
     "text": [
      "\n",
      "=== RANDOM EFFECTS / VARIANCE-COVARIANCE ===\n"
     ]
    },
    {
     "data": {
      "text/html": [
       "<div>\n",
       "<style scoped>\n",
       "    .dataframe tbody tr th:only-of-type {\n",
       "        vertical-align: middle;\n",
       "    }\n",
       "\n",
       "    .dataframe tbody tr th {\n",
       "        vertical-align: top;\n",
       "    }\n",
       "\n",
       "    .dataframe thead th {\n",
       "        text-align: right;\n",
       "    }\n",
       "</style>\n",
       "<table border=\"1\" class=\"dataframe\">\n",
       "  <thead>\n",
       "    <tr style=\"text-align: right;\">\n",
       "      <th></th>\n",
       "      <th>Parameter</th>\n",
       "      <th>Coef.</th>\n",
       "      <th>Std.Err.</th>\n",
       "    </tr>\n",
       "  </thead>\n",
       "  <tbody>\n",
       "    <tr>\n",
       "      <th>0</th>\n",
       "      <td>Group Var</td>\n",
       "      <td>1.363</td>\n",
       "      <td>1.993</td>\n",
       "    </tr>\n",
       "  </tbody>\n",
       "</table>\n",
       "</div>"
      ],
      "text/plain": [
       "   Parameter  Coef. Std.Err.\n",
       "0  Group Var  1.363    1.993"
      ]
     },
     "metadata": {},
     "output_type": "display_data"
    },
    {
     "data": {
      "text/plain": [
       "<statsmodels.regression.mixed_linear_model.MixedLMResultsWrapper at 0x148c41a57f40>"
      ]
     },
     "execution_count": 41,
     "metadata": {},
     "output_type": "execute_result"
    }
   ],
   "source": [
    "# flip test: gap-\n",
    "no_gap_df = sentence_df[sentence_df['gap_numeric'] == -1]\n",
    "iv_list = ['wh_numeric', 'comp_type']\n",
    "mixed_effects_linear_regression(no_gap_df, iv_list, 'embed_surprisal', 'wh-islands embed: gap-')"
   ]
  },
  {
   "cell_type": "code",
   "execution_count": null,
   "id": "fe9ebcee",
   "metadata": {},
   "outputs": [
    {
     "name": "stdout",
     "output_type": "stream",
     "text": [
      "\n",
      "=== WH-ISLANDS EMBED: GAP+ ===\n",
      "\n",
      "=== MODEL SUMMARY ===\n",
      "Model: MixedLM\n",
      "Dependent Variable: embed_surprisal\n",
      "No. Observations: 120\n",
      "Method: REML\n",
      "No. Groups: 20\n",
      "Scale: 0.0902\n",
      "Min. group size: 6\n",
      "Log-Likelihood: -81.5676\n",
      "Max. group size: 6\n",
      "Converged: Yes\n",
      "Mean group size: 6.0\n",
      "\n",
      "=== FIXED EFFECTS COEFFICIENTS ===\n"
     ]
    },
    {
     "data": {
      "text/html": [
       "<div>\n",
       "<style scoped>\n",
       "    .dataframe tbody tr th:only-of-type {\n",
       "        vertical-align: middle;\n",
       "    }\n",
       "\n",
       "    .dataframe tbody tr th {\n",
       "        vertical-align: top;\n",
       "    }\n",
       "\n",
       "    .dataframe thead th {\n",
       "        text-align: right;\n",
       "    }\n",
       "</style>\n",
       "<table border=\"1\" class=\"dataframe\">\n",
       "  <thead>\n",
       "    <tr style=\"text-align: right;\">\n",
       "      <th></th>\n",
       "      <th>Parameter</th>\n",
       "      <th>Coef.</th>\n",
       "      <th>Std.Err.</th>\n",
       "      <th>z</th>\n",
       "      <th>P&gt;|z|</th>\n",
       "      <th>[0.025</th>\n",
       "      <th>0.975]</th>\n",
       "    </tr>\n",
       "  </thead>\n",
       "  <tbody>\n",
       "    <tr>\n",
       "      <th>0</th>\n",
       "      <td>Intercept</td>\n",
       "      <td>9.530</td>\n",
       "      <td>0.309</td>\n",
       "      <td>30.811</td>\n",
       "      <td>0.000</td>\n",
       "      <td>8.924</td>\n",
       "      <td>10.136</td>\n",
       "    </tr>\n",
       "    <tr>\n",
       "      <th>1</th>\n",
       "      <td>comp_type[T.that]</td>\n",
       "      <td>-0.702</td>\n",
       "      <td>0.067</td>\n",
       "      <td>-10.455</td>\n",
       "      <td>0.000</td>\n",
       "      <td>-0.834</td>\n",
       "      <td>-0.570</td>\n",
       "    </tr>\n",
       "    <tr>\n",
       "      <th>2</th>\n",
       "      <td>comp_type[T.whether]</td>\n",
       "      <td>0.012</td>\n",
       "      <td>0.067</td>\n",
       "      <td>0.184</td>\n",
       "      <td>0.854</td>\n",
       "      <td>-0.119</td>\n",
       "      <td>0.144</td>\n",
       "    </tr>\n",
       "    <tr>\n",
       "      <th>3</th>\n",
       "      <td>wh_numeric</td>\n",
       "      <td>-0.112</td>\n",
       "      <td>0.047</td>\n",
       "      <td>-2.354</td>\n",
       "      <td>0.019</td>\n",
       "      <td>-0.205</td>\n",
       "      <td>-0.019</td>\n",
       "    </tr>\n",
       "    <tr>\n",
       "      <th>4</th>\n",
       "      <td>wh_numeric:comp_type[T.that]</td>\n",
       "      <td>0.158</td>\n",
       "      <td>0.067</td>\n",
       "      <td>2.355</td>\n",
       "      <td>0.019</td>\n",
       "      <td>0.027</td>\n",
       "      <td>0.290</td>\n",
       "    </tr>\n",
       "    <tr>\n",
       "      <th>5</th>\n",
       "      <td>wh_numeric:comp_type[T.whether]</td>\n",
       "      <td>-0.049</td>\n",
       "      <td>0.067</td>\n",
       "      <td>-0.730</td>\n",
       "      <td>0.466</td>\n",
       "      <td>-0.181</td>\n",
       "      <td>0.083</td>\n",
       "    </tr>\n",
       "  </tbody>\n",
       "</table>\n",
       "</div>"
      ],
      "text/plain": [
       "                         Parameter   Coef. Std.Err.        z  P>|z|  [0.025  \\\n",
       "0                        Intercept   9.530    0.309   30.811  0.000   8.924   \n",
       "1                comp_type[T.that]  -0.702    0.067  -10.455  0.000  -0.834   \n",
       "2             comp_type[T.whether]   0.012    0.067    0.184  0.854  -0.119   \n",
       "3                       wh_numeric  -0.112    0.047   -2.354  0.019  -0.205   \n",
       "4     wh_numeric:comp_type[T.that]   0.158    0.067    2.355  0.019   0.027   \n",
       "5  wh_numeric:comp_type[T.whether]  -0.049    0.067   -0.730  0.466  -0.181   \n",
       "\n",
       "   0.975]  \n",
       "0  10.136  \n",
       "1  -0.570  \n",
       "2   0.144  \n",
       "3  -0.019  \n",
       "4   0.290  \n",
       "5   0.083  "
      ]
     },
     "metadata": {},
     "output_type": "display_data"
    },
    {
     "name": "stdout",
     "output_type": "stream",
     "text": [
      "\n",
      "=== RANDOM EFFECTS / VARIANCE-COVARIANCE ===\n"
     ]
    },
    {
     "data": {
      "text/html": [
       "<div>\n",
       "<style scoped>\n",
       "    .dataframe tbody tr th:only-of-type {\n",
       "        vertical-align: middle;\n",
       "    }\n",
       "\n",
       "    .dataframe tbody tr th {\n",
       "        vertical-align: top;\n",
       "    }\n",
       "\n",
       "    .dataframe thead th {\n",
       "        text-align: right;\n",
       "    }\n",
       "</style>\n",
       "<table border=\"1\" class=\"dataframe\">\n",
       "  <thead>\n",
       "    <tr style=\"text-align: right;\">\n",
       "      <th></th>\n",
       "      <th>Parameter</th>\n",
       "      <th>Coef.</th>\n",
       "      <th>Std.Err.</th>\n",
       "    </tr>\n",
       "  </thead>\n",
       "  <tbody>\n",
       "    <tr>\n",
       "      <th>0</th>\n",
       "      <td>Group Var</td>\n",
       "      <td>1.868</td>\n",
       "      <td>2.229</td>\n",
       "    </tr>\n",
       "  </tbody>\n",
       "</table>\n",
       "</div>"
      ],
      "text/plain": [
       "   Parameter  Coef. Std.Err.\n",
       "0  Group Var  1.868    2.229"
      ]
     },
     "metadata": {},
     "output_type": "display_data"
    },
    {
     "data": {
      "text/plain": [
       "<statsmodels.regression.mixed_linear_model.MixedLMResultsWrapper at 0x148c41bdb760>"
      ]
     },
     "execution_count": 42,
     "metadata": {},
     "output_type": "execute_result"
    }
   ],
   "source": [
    "# flip test: gap+\n",
    "gap_df = sentence_df[sentence_df['gap_numeric'] == 1]\n",
    "iv_list = ['wh_numeric', 'comp_type']\n",
    "mixed_effects_linear_regression(gap_df, iv_list, 'embed_surprisal', 'wh-islands embed: gap+')"
   ]
  },
  {
   "cell_type": "code",
   "execution_count": null,
   "id": "c7f5fd2b",
   "metadata": {},
   "outputs": [
    {
     "name": "stdout",
     "output_type": "stream",
     "text": [
      "\n",
      "=== WH-ISLANDS EMBED: DIVISION BY GRAMMATICALITY ===\n",
      "\n",
      "=== MODEL SUMMARY ===\n",
      "Model: MixedLM\n",
      "Dependent Variable: embed_surprisal\n",
      "No. Observations: 240\n",
      "Method: REML\n",
      "No. Groups: 20\n",
      "Scale: 0.2652\n",
      "Min. group size: 12\n",
      "Log-Likelihood: -225.1348\n",
      "Max. group size: 12\n",
      "Converged: Yes\n",
      "Mean group size: 12.0\n",
      "\n",
      "=== FIXED EFFECTS COEFFICIENTS ===\n"
     ]
    },
    {
     "data": {
      "text/html": [
       "<div>\n",
       "<style scoped>\n",
       "    .dataframe tbody tr th:only-of-type {\n",
       "        vertical-align: middle;\n",
       "    }\n",
       "\n",
       "    .dataframe tbody tr th {\n",
       "        vertical-align: top;\n",
       "    }\n",
       "\n",
       "    .dataframe thead th {\n",
       "        text-align: right;\n",
       "    }\n",
       "</style>\n",
       "<table border=\"1\" class=\"dataframe\">\n",
       "  <thead>\n",
       "    <tr style=\"text-align: right;\">\n",
       "      <th></th>\n",
       "      <th>Parameter</th>\n",
       "      <th>Coef.</th>\n",
       "      <th>Std.Err.</th>\n",
       "      <th>z</th>\n",
       "      <th>P&gt;|z|</th>\n",
       "      <th>[0.025</th>\n",
       "      <th>0.975]</th>\n",
       "    </tr>\n",
       "  </thead>\n",
       "  <tbody>\n",
       "    <tr>\n",
       "      <th>0</th>\n",
       "      <td>Intercept</td>\n",
       "      <td>8.998</td>\n",
       "      <td>0.284</td>\n",
       "      <td>31.630</td>\n",
       "      <td>0.000</td>\n",
       "      <td>8.440</td>\n",
       "      <td>9.555</td>\n",
       "    </tr>\n",
       "    <tr>\n",
       "      <th>1</th>\n",
       "      <td>grammaticality[T.gram-]</td>\n",
       "      <td>0.191</td>\n",
       "      <td>0.067</td>\n",
       "      <td>2.840</td>\n",
       "      <td>0.005</td>\n",
       "      <td>0.059</td>\n",
       "      <td>0.324</td>\n",
       "    </tr>\n",
       "  </tbody>\n",
       "</table>\n",
       "</div>"
      ],
      "text/plain": [
       "                 Parameter  Coef. Std.Err.       z  P>|z| [0.025 0.975]\n",
       "0                Intercept  8.998    0.284  31.630  0.000  8.440  9.555\n",
       "1  grammaticality[T.gram-]  0.191    0.067   2.840  0.005  0.059  0.324"
      ]
     },
     "metadata": {},
     "output_type": "display_data"
    },
    {
     "name": "stdout",
     "output_type": "stream",
     "text": [
      "\n",
      "=== RANDOM EFFECTS / VARIANCE-COVARIANCE ===\n"
     ]
    },
    {
     "data": {
      "text/html": [
       "<div>\n",
       "<style scoped>\n",
       "    .dataframe tbody tr th:only-of-type {\n",
       "        vertical-align: middle;\n",
       "    }\n",
       "\n",
       "    .dataframe tbody tr th {\n",
       "        vertical-align: top;\n",
       "    }\n",
       "\n",
       "    .dataframe thead th {\n",
       "        text-align: right;\n",
       "    }\n",
       "</style>\n",
       "<table border=\"1\" class=\"dataframe\">\n",
       "  <thead>\n",
       "    <tr style=\"text-align: right;\">\n",
       "      <th></th>\n",
       "      <th>Parameter</th>\n",
       "      <th>Coef.</th>\n",
       "      <th>Std.Err.</th>\n",
       "    </tr>\n",
       "  </thead>\n",
       "  <tbody>\n",
       "    <tr>\n",
       "      <th>0</th>\n",
       "      <td>Group Var</td>\n",
       "      <td>1.565</td>\n",
       "      <td>1.042</td>\n",
       "    </tr>\n",
       "  </tbody>\n",
       "</table>\n",
       "</div>"
      ],
      "text/plain": [
       "   Parameter  Coef. Std.Err.\n",
       "0  Group Var  1.565    1.042"
      ]
     },
     "metadata": {},
     "output_type": "display_data"
    },
    {
     "data": {
      "text/plain": [
       "<statsmodels.regression.mixed_linear_model.MixedLMResultsWrapper at 0x148c41c6e400>"
      ]
     },
     "execution_count": 43,
     "metadata": {},
     "output_type": "execute_result"
    }
   ],
   "source": [
    "# division by grammaticality\n",
    "iv_list = ['grammaticality']\n",
    "mixed_effects_linear_regression(sentence_df, iv_list, 'embed_surprisal', 'wh-islands embed: division by grammaticality')"
   ]
  },
  {
   "cell_type": "markdown",
   "id": "9e089b58",
   "metadata": {},
   "source": [
    "#### Adjunct Islands "
   ]
  },
  {
   "cell_type": "code",
   "execution_count": null,
   "id": "ef9c8675",
   "metadata": {},
   "outputs": [],
   "source": [
    "sentence_df = pd.read_csv('test_sentences/Adjunct Islands.csv')\n",
    "sentence_df['adjunct_type'] = sentence_df['adjunct_type'].fillna('null')"
   ]
  },
  {
   "cell_type": "code",
   "execution_count": null,
   "id": "17fe918d",
   "metadata": {},
   "outputs": [],
   "source": [
    "sentence_df[['cont', 'end']] = sentence_df['cont'].apply(split_ends)\n",
    "sentence_df['adjunct_front_trigger'] = np.nan\n",
    "sentence_df['adjunct_front_trigger'] = sentence_df['adjunct_trigger'].where(sentence_df['adjunct_type'] == 'front', sentence_df['adjunct_front_trigger'])\n",
    "sentence_df['adjunct_trigger'] = sentence_df['adjunct_trigger'].where(sentence_df['adjunct_type'] != 'front', np.nan)\n",
    "sentence_df.rename(columns = {'adjunct_trigger': 'adjunct_back_trigger'}, inplace = True)\n",
    "sentence_df = sentence_df[[col for col in sentence_df.columns if col != 'end'] + ['end']]"
   ]
  },
  {
   "cell_type": "code",
   "execution_count": null,
   "id": "fb3d9d16",
   "metadata": {},
   "outputs": [],
   "source": [
    "sentence_df = encode_wh_licensor(sentence_df)\n",
    "sentence_df['gap_numeric'] = sentence_df['gap'].replace(0, -1)\n",
    "syntactic_parts = ['prefix', 'filler_word', 'adjunct_back_trigger', 'prep', 'subj', 'mod', 'verb', 'obj', 'cont', 'adjunct_front_trigger']\n",
    "sentence_df['sentence'] = sentence_df.apply(lambda x: merge_sentence(x, syntactic_parts), axis = 1)\n",
    "sentence_df['surprisals'] = sentence_df['sentence'].apply(calculate_surprisal)\n",
    "sentence_df['adjunct_type'] = pd.Categorical(sentence_df['adjunct_type'], categories = ['null', 'back', 'front'], ordered = True)\n",
    "sentence_df['grammaticality'] = sentence_df.apply(lambda x: assign_grammaticality_islands(x, 'adjunct_type'), axis = 1)"
   ]
  },
  {
   "cell_type": "markdown",
   "id": "404f7b10",
   "metadata": {},
   "source": [
    "Post-Gap Region - Continuation"
   ]
  },
  {
   "cell_type": "code",
   "execution_count": null,
   "id": "28cc32fa",
   "metadata": {},
   "outputs": [],
   "source": [
    "sentence_df['region_surprisal'] = sentence_df.apply(lambda x: sum_region_surprisal(x, ['cont'], 'obj'), axis = 1)"
   ]
  },
  {
   "cell_type": "code",
   "execution_count": null,
   "id": "d5235dbd",
   "metadata": {},
   "outputs": [
    {
     "name": "stdout",
     "output_type": "stream",
     "text": [
      "\n",
      "=== ADJUNCT ISLANDS CONTINUATION: GAP- ===\n",
      "\n",
      "=== MODEL SUMMARY ===\n",
      "Model: MixedLM\n",
      "Dependent Variable: region_surprisal\n",
      "No. Observations: 120\n",
      "Method: REML\n",
      "No. Groups: 20\n",
      "Scale: 0.6131\n",
      "Min. group size: 6\n",
      "Log-Likelihood: -209.8872\n",
      "Max. group size: 6\n",
      "Converged: Yes\n",
      "Mean group size: 6.0\n",
      "\n",
      "=== FIXED EFFECTS COEFFICIENTS ===\n"
     ]
    },
    {
     "data": {
      "text/html": [
       "<div>\n",
       "<style scoped>\n",
       "    .dataframe tbody tr th:only-of-type {\n",
       "        vertical-align: middle;\n",
       "    }\n",
       "\n",
       "    .dataframe tbody tr th {\n",
       "        vertical-align: top;\n",
       "    }\n",
       "\n",
       "    .dataframe thead th {\n",
       "        text-align: right;\n",
       "    }\n",
       "</style>\n",
       "<table border=\"1\" class=\"dataframe\">\n",
       "  <thead>\n",
       "    <tr style=\"text-align: right;\">\n",
       "      <th></th>\n",
       "      <th>Parameter</th>\n",
       "      <th>Coef.</th>\n",
       "      <th>Std.Err.</th>\n",
       "      <th>z</th>\n",
       "      <th>P&gt;|z|</th>\n",
       "      <th>[0.025</th>\n",
       "      <th>0.975]</th>\n",
       "    </tr>\n",
       "  </thead>\n",
       "  <tbody>\n",
       "    <tr>\n",
       "      <th>0</th>\n",
       "      <td>Intercept</td>\n",
       "      <td>27.740</td>\n",
       "      <td>2.184</td>\n",
       "      <td>12.703</td>\n",
       "      <td>0.000</td>\n",
       "      <td>23.460</td>\n",
       "      <td>32.020</td>\n",
       "    </tr>\n",
       "    <tr>\n",
       "      <th>1</th>\n",
       "      <td>adjunct_type[T.back]</td>\n",
       "      <td>-1.370</td>\n",
       "      <td>0.175</td>\n",
       "      <td>-7.826</td>\n",
       "      <td>0.000</td>\n",
       "      <td>-1.713</td>\n",
       "      <td>-1.027</td>\n",
       "    </tr>\n",
       "    <tr>\n",
       "      <th>2</th>\n",
       "      <td>adjunct_type[T.front]</td>\n",
       "      <td>-1.228</td>\n",
       "      <td>0.175</td>\n",
       "      <td>-7.016</td>\n",
       "      <td>0.000</td>\n",
       "      <td>-1.572</td>\n",
       "      <td>-0.885</td>\n",
       "    </tr>\n",
       "    <tr>\n",
       "      <th>3</th>\n",
       "      <td>wh_numeric</td>\n",
       "      <td>1.050</td>\n",
       "      <td>0.124</td>\n",
       "      <td>8.483</td>\n",
       "      <td>0.000</td>\n",
       "      <td>0.808</td>\n",
       "      <td>1.293</td>\n",
       "    </tr>\n",
       "    <tr>\n",
       "      <th>4</th>\n",
       "      <td>wh_numeric:adjunct_type[T.back]</td>\n",
       "      <td>-0.913</td>\n",
       "      <td>0.175</td>\n",
       "      <td>-5.215</td>\n",
       "      <td>0.000</td>\n",
       "      <td>-1.256</td>\n",
       "      <td>-0.570</td>\n",
       "    </tr>\n",
       "    <tr>\n",
       "      <th>5</th>\n",
       "      <td>wh_numeric:adjunct_type[T.front]</td>\n",
       "      <td>-0.725</td>\n",
       "      <td>0.175</td>\n",
       "      <td>-4.140</td>\n",
       "      <td>0.000</td>\n",
       "      <td>-1.068</td>\n",
       "      <td>-0.382</td>\n",
       "    </tr>\n",
       "  </tbody>\n",
       "</table>\n",
       "</div>"
      ],
      "text/plain": [
       "                          Parameter   Coef. Std.Err.       z  P>|z|  [0.025  \\\n",
       "0                         Intercept  27.740    2.184  12.703  0.000  23.460   \n",
       "1              adjunct_type[T.back]  -1.370    0.175  -7.826  0.000  -1.713   \n",
       "2             adjunct_type[T.front]  -1.228    0.175  -7.016  0.000  -1.572   \n",
       "3                        wh_numeric   1.050    0.124   8.483  0.000   0.808   \n",
       "4   wh_numeric:adjunct_type[T.back]  -0.913    0.175  -5.215  0.000  -1.256   \n",
       "5  wh_numeric:adjunct_type[T.front]  -0.725    0.175  -4.140  0.000  -1.068   \n",
       "\n",
       "   0.975]  \n",
       "0  32.020  \n",
       "1  -1.027  \n",
       "2  -0.885  \n",
       "3   1.293  \n",
       "4  -0.570  \n",
       "5  -0.382  "
      ]
     },
     "metadata": {},
     "output_type": "display_data"
    },
    {
     "name": "stdout",
     "output_type": "stream",
     "text": [
      "\n",
      "=== RANDOM EFFECTS / VARIANCE-COVARIANCE ===\n"
     ]
    },
    {
     "data": {
      "text/html": [
       "<div>\n",
       "<style scoped>\n",
       "    .dataframe tbody tr th:only-of-type {\n",
       "        vertical-align: middle;\n",
       "    }\n",
       "\n",
       "    .dataframe tbody tr th {\n",
       "        vertical-align: top;\n",
       "    }\n",
       "\n",
       "    .dataframe thead th {\n",
       "        text-align: right;\n",
       "    }\n",
       "</style>\n",
       "<table border=\"1\" class=\"dataframe\">\n",
       "  <thead>\n",
       "    <tr style=\"text-align: right;\">\n",
       "      <th></th>\n",
       "      <th>Parameter</th>\n",
       "      <th>Coef.</th>\n",
       "      <th>Std.Err.</th>\n",
       "    </tr>\n",
       "  </thead>\n",
       "  <tbody>\n",
       "    <tr>\n",
       "      <th>0</th>\n",
       "      <td>Group Var</td>\n",
       "      <td>95.065</td>\n",
       "      <td>43.196</td>\n",
       "    </tr>\n",
       "  </tbody>\n",
       "</table>\n",
       "</div>"
      ],
      "text/plain": [
       "   Parameter   Coef. Std.Err.\n",
       "0  Group Var  95.065   43.196"
      ]
     },
     "metadata": {},
     "output_type": "display_data"
    },
    {
     "data": {
      "text/plain": [
       "<statsmodels.regression.mixed_linear_model.MixedLMResultsWrapper at 0x148c4032c6a0>"
      ]
     },
     "execution_count": 48,
     "metadata": {},
     "output_type": "execute_result"
    }
   ],
   "source": [
    "# flip test: gap-\n",
    "no_gap_df = sentence_df[sentence_df['gap_numeric'] == -1]\n",
    "iv_list = ['wh_numeric', 'adjunct_type']\n",
    "mixed_effects_linear_regression(no_gap_df, iv_list, 'region_surprisal', 'adjunct islands continuation: gap-')"
   ]
  },
  {
   "cell_type": "code",
   "execution_count": null,
   "id": "cb3739ed",
   "metadata": {},
   "outputs": [
    {
     "name": "stdout",
     "output_type": "stream",
     "text": [
      "\n",
      "=== ADJUNCT ISLANDS CONTINUATION: GAP+ ===\n",
      "\n",
      "=== MODEL SUMMARY ===\n",
      "Model: MixedLM\n",
      "Dependent Variable: region_surprisal\n",
      "No. Observations: 120\n",
      "Method: REML\n",
      "No. Groups: 20\n",
      "Scale: 0.9119\n",
      "Min. group size: 6\n",
      "Log-Likelihood: -223.9159\n",
      "Max. group size: 6\n",
      "Converged: Yes\n",
      "Mean group size: 6.0\n",
      "\n",
      "=== FIXED EFFECTS COEFFICIENTS ===\n"
     ]
    },
    {
     "data": {
      "text/html": [
       "<div>\n",
       "<style scoped>\n",
       "    .dataframe tbody tr th:only-of-type {\n",
       "        vertical-align: middle;\n",
       "    }\n",
       "\n",
       "    .dataframe tbody tr th {\n",
       "        vertical-align: top;\n",
       "    }\n",
       "\n",
       "    .dataframe thead th {\n",
       "        text-align: right;\n",
       "    }\n",
       "</style>\n",
       "<table border=\"1\" class=\"dataframe\">\n",
       "  <thead>\n",
       "    <tr style=\"text-align: right;\">\n",
       "      <th></th>\n",
       "      <th>Parameter</th>\n",
       "      <th>Coef.</th>\n",
       "      <th>Std.Err.</th>\n",
       "      <th>z</th>\n",
       "      <th>P&gt;|z|</th>\n",
       "      <th>[0.025</th>\n",
       "      <th>0.975]</th>\n",
       "    </tr>\n",
       "  </thead>\n",
       "  <tbody>\n",
       "    <tr>\n",
       "      <th>0</th>\n",
       "      <td>Intercept</td>\n",
       "      <td>35.380</td>\n",
       "      <td>1.696</td>\n",
       "      <td>20.857</td>\n",
       "      <td>0.000</td>\n",
       "      <td>32.055</td>\n",
       "      <td>38.705</td>\n",
       "    </tr>\n",
       "    <tr>\n",
       "      <th>1</th>\n",
       "      <td>adjunct_type[T.back]</td>\n",
       "      <td>-0.279</td>\n",
       "      <td>0.214</td>\n",
       "      <td>-1.305</td>\n",
       "      <td>0.192</td>\n",
       "      <td>-0.697</td>\n",
       "      <td>0.140</td>\n",
       "    </tr>\n",
       "    <tr>\n",
       "      <th>2</th>\n",
       "      <td>adjunct_type[T.front]</td>\n",
       "      <td>-0.000</td>\n",
       "      <td>0.214</td>\n",
       "      <td>-0.002</td>\n",
       "      <td>0.998</td>\n",
       "      <td>-0.419</td>\n",
       "      <td>0.418</td>\n",
       "    </tr>\n",
       "    <tr>\n",
       "      <th>3</th>\n",
       "      <td>wh_numeric</td>\n",
       "      <td>0.203</td>\n",
       "      <td>0.151</td>\n",
       "      <td>1.345</td>\n",
       "      <td>0.179</td>\n",
       "      <td>-0.093</td>\n",
       "      <td>0.499</td>\n",
       "    </tr>\n",
       "    <tr>\n",
       "      <th>4</th>\n",
       "      <td>wh_numeric:adjunct_type[T.back]</td>\n",
       "      <td>-0.070</td>\n",
       "      <td>0.214</td>\n",
       "      <td>-0.329</td>\n",
       "      <td>0.742</td>\n",
       "      <td>-0.489</td>\n",
       "      <td>0.348</td>\n",
       "    </tr>\n",
       "    <tr>\n",
       "      <th>5</th>\n",
       "      <td>wh_numeric:adjunct_type[T.front]</td>\n",
       "      <td>-0.151</td>\n",
       "      <td>0.214</td>\n",
       "      <td>-0.706</td>\n",
       "      <td>0.480</td>\n",
       "      <td>-0.569</td>\n",
       "      <td>0.268</td>\n",
       "    </tr>\n",
       "  </tbody>\n",
       "</table>\n",
       "</div>"
      ],
      "text/plain": [
       "                          Parameter   Coef. Std.Err.       z  P>|z|  [0.025  \\\n",
       "0                         Intercept  35.380    1.696  20.857  0.000  32.055   \n",
       "1              adjunct_type[T.back]  -0.279    0.214  -1.305  0.192  -0.697   \n",
       "2             adjunct_type[T.front]  -0.000    0.214  -0.002  0.998  -0.419   \n",
       "3                        wh_numeric   0.203    0.151   1.345  0.179  -0.093   \n",
       "4   wh_numeric:adjunct_type[T.back]  -0.070    0.214  -0.329  0.742  -0.489   \n",
       "5  wh_numeric:adjunct_type[T.front]  -0.151    0.214  -0.706  0.480  -0.569   \n",
       "\n",
       "   0.975]  \n",
       "0  38.705  \n",
       "1   0.140  \n",
       "2   0.418  \n",
       "3   0.499  \n",
       "4   0.348  \n",
       "5   0.268  "
      ]
     },
     "metadata": {},
     "output_type": "display_data"
    },
    {
     "name": "stdout",
     "output_type": "stream",
     "text": [
      "\n",
      "=== RANDOM EFFECTS / VARIANCE-COVARIANCE ===\n"
     ]
    },
    {
     "data": {
      "text/html": [
       "<div>\n",
       "<style scoped>\n",
       "    .dataframe tbody tr th:only-of-type {\n",
       "        vertical-align: middle;\n",
       "    }\n",
       "\n",
       "    .dataframe tbody tr th {\n",
       "        vertical-align: top;\n",
       "    }\n",
       "\n",
       "    .dataframe thead th {\n",
       "        text-align: right;\n",
       "    }\n",
       "</style>\n",
       "<table border=\"1\" class=\"dataframe\">\n",
       "  <thead>\n",
       "    <tr style=\"text-align: right;\">\n",
       "      <th></th>\n",
       "      <th>Parameter</th>\n",
       "      <th>Coef.</th>\n",
       "      <th>Std.Err.</th>\n",
       "    </tr>\n",
       "  </thead>\n",
       "  <tbody>\n",
       "    <tr>\n",
       "      <th>0</th>\n",
       "      <td>Group Var</td>\n",
       "      <td>57.094</td>\n",
       "      <td>21.306</td>\n",
       "    </tr>\n",
       "  </tbody>\n",
       "</table>\n",
       "</div>"
      ],
      "text/plain": [
       "   Parameter   Coef. Std.Err.\n",
       "0  Group Var  57.094   21.306"
      ]
     },
     "metadata": {},
     "output_type": "display_data"
    },
    {
     "data": {
      "text/plain": [
       "<statsmodels.regression.mixed_linear_model.MixedLMResultsWrapper at 0x148c4031e250>"
      ]
     },
     "execution_count": 49,
     "metadata": {},
     "output_type": "execute_result"
    }
   ],
   "source": [
    "# flip test: gap+\n",
    "gap_df = sentence_df[sentence_df['gap_numeric'] == 1]\n",
    "iv_list = ['wh_numeric', 'adjunct_type']\n",
    "mixed_effects_linear_regression(gap_df, iv_list, 'region_surprisal', 'adjunct islands continuation: gap+')"
   ]
  },
  {
   "cell_type": "markdown",
   "id": "569bc491",
   "metadata": {},
   "source": [
    "Embedded Clause"
   ]
  },
  {
   "cell_type": "code",
   "execution_count": null,
   "id": "6100ff4c",
   "metadata": {},
   "outputs": [],
   "source": [
    "embed = ['adjunct_back_trigger', 'prep', 'subj', 'mod', 'verb', 'obj', 'cont', 'adjunct_front_trigger', 'end']\n",
    "sentence_df['embed_surprisal'] = sentence_df.apply(lambda x: sum_region_surprisal(x, embed, normalize = True), axis = 1)"
   ]
  },
  {
   "cell_type": "code",
   "execution_count": null,
   "id": "2e194876",
   "metadata": {},
   "outputs": [
    {
     "name": "stdout",
     "output_type": "stream",
     "text": [
      "\n",
      "=== ADJUNCT ISLANDS EMBED: GAP- ===\n",
      "\n",
      "=== MODEL SUMMARY ===\n",
      "Model: MixedLM\n",
      "Dependent Variable: embed_surprisal\n",
      "No. Observations: 120\n",
      "Method: REML\n",
      "No. Groups: 20\n",
      "Scale: 0.0749\n",
      "Min. group size: 6\n",
      "Log-Likelihood: -69.2111\n",
      "Max. group size: 6\n",
      "Converged: Yes\n",
      "Mean group size: 6.0\n",
      "\n",
      "=== FIXED EFFECTS COEFFICIENTS ===\n"
     ]
    },
    {
     "data": {
      "text/html": [
       "<div>\n",
       "<style scoped>\n",
       "    .dataframe tbody tr th:only-of-type {\n",
       "        vertical-align: middle;\n",
       "    }\n",
       "\n",
       "    .dataframe tbody tr th {\n",
       "        vertical-align: top;\n",
       "    }\n",
       "\n",
       "    .dataframe thead th {\n",
       "        text-align: right;\n",
       "    }\n",
       "</style>\n",
       "<table border=\"1\" class=\"dataframe\">\n",
       "  <thead>\n",
       "    <tr style=\"text-align: right;\">\n",
       "      <th></th>\n",
       "      <th>Parameter</th>\n",
       "      <th>Coef.</th>\n",
       "      <th>Std.Err.</th>\n",
       "      <th>z</th>\n",
       "      <th>P&gt;|z|</th>\n",
       "      <th>[0.025</th>\n",
       "      <th>0.975]</th>\n",
       "    </tr>\n",
       "  </thead>\n",
       "  <tbody>\n",
       "    <tr>\n",
       "      <th>0</th>\n",
       "      <td>Intercept</td>\n",
       "      <td>8.578</td>\n",
       "      <td>0.257</td>\n",
       "      <td>33.381</td>\n",
       "      <td>0.000</td>\n",
       "      <td>8.074</td>\n",
       "      <td>9.081</td>\n",
       "    </tr>\n",
       "    <tr>\n",
       "      <th>1</th>\n",
       "      <td>adjunct_type[T.back]</td>\n",
       "      <td>0.014</td>\n",
       "      <td>0.061</td>\n",
       "      <td>0.221</td>\n",
       "      <td>0.825</td>\n",
       "      <td>-0.106</td>\n",
       "      <td>0.133</td>\n",
       "    </tr>\n",
       "    <tr>\n",
       "      <th>2</th>\n",
       "      <td>adjunct_type[T.front]</td>\n",
       "      <td>0.546</td>\n",
       "      <td>0.061</td>\n",
       "      <td>8.921</td>\n",
       "      <td>0.000</td>\n",
       "      <td>0.426</td>\n",
       "      <td>0.666</td>\n",
       "    </tr>\n",
       "    <tr>\n",
       "      <th>3</th>\n",
       "      <td>wh_numeric</td>\n",
       "      <td>0.294</td>\n",
       "      <td>0.043</td>\n",
       "      <td>6.792</td>\n",
       "      <td>0.000</td>\n",
       "      <td>0.209</td>\n",
       "      <td>0.379</td>\n",
       "    </tr>\n",
       "    <tr>\n",
       "      <th>4</th>\n",
       "      <td>wh_numeric:adjunct_type[T.back]</td>\n",
       "      <td>-0.222</td>\n",
       "      <td>0.061</td>\n",
       "      <td>-3.626</td>\n",
       "      <td>0.000</td>\n",
       "      <td>-0.342</td>\n",
       "      <td>-0.102</td>\n",
       "    </tr>\n",
       "    <tr>\n",
       "      <th>5</th>\n",
       "      <td>wh_numeric:adjunct_type[T.front]</td>\n",
       "      <td>-0.060</td>\n",
       "      <td>0.061</td>\n",
       "      <td>-0.989</td>\n",
       "      <td>0.323</td>\n",
       "      <td>-0.180</td>\n",
       "      <td>0.059</td>\n",
       "    </tr>\n",
       "  </tbody>\n",
       "</table>\n",
       "</div>"
      ],
      "text/plain": [
       "                          Parameter   Coef. Std.Err.       z  P>|z|  [0.025  \\\n",
       "0                         Intercept   8.578    0.257  33.381  0.000   8.074   \n",
       "1              adjunct_type[T.back]   0.014    0.061   0.221  0.825  -0.106   \n",
       "2             adjunct_type[T.front]   0.546    0.061   8.921  0.000   0.426   \n",
       "3                        wh_numeric   0.294    0.043   6.792  0.000   0.209   \n",
       "4   wh_numeric:adjunct_type[T.back]  -0.222    0.061  -3.626  0.000  -0.342   \n",
       "5  wh_numeric:adjunct_type[T.front]  -0.060    0.061  -0.989  0.323  -0.180   \n",
       "\n",
       "   0.975]  \n",
       "0   9.081  \n",
       "1   0.133  \n",
       "2   0.666  \n",
       "3   0.379  \n",
       "4  -0.102  \n",
       "5   0.059  "
      ]
     },
     "metadata": {},
     "output_type": "display_data"
    },
    {
     "name": "stdout",
     "output_type": "stream",
     "text": [
      "\n",
      "=== RANDOM EFFECTS / VARIANCE-COVARIANCE ===\n"
     ]
    },
    {
     "data": {
      "text/html": [
       "<div>\n",
       "<style scoped>\n",
       "    .dataframe tbody tr th:only-of-type {\n",
       "        vertical-align: middle;\n",
       "    }\n",
       "\n",
       "    .dataframe tbody tr th {\n",
       "        vertical-align: top;\n",
       "    }\n",
       "\n",
       "    .dataframe thead th {\n",
       "        text-align: right;\n",
       "    }\n",
       "</style>\n",
       "<table border=\"1\" class=\"dataframe\">\n",
       "  <thead>\n",
       "    <tr style=\"text-align: right;\">\n",
       "      <th></th>\n",
       "      <th>Parameter</th>\n",
       "      <th>Coef.</th>\n",
       "      <th>Std.Err.</th>\n",
       "    </tr>\n",
       "  </thead>\n",
       "  <tbody>\n",
       "    <tr>\n",
       "      <th>0</th>\n",
       "      <td>Group Var</td>\n",
       "      <td>1.283</td>\n",
       "      <td>1.682</td>\n",
       "    </tr>\n",
       "  </tbody>\n",
       "</table>\n",
       "</div>"
      ],
      "text/plain": [
       "   Parameter  Coef. Std.Err.\n",
       "0  Group Var  1.283    1.682"
      ]
     },
     "metadata": {},
     "output_type": "display_data"
    },
    {
     "data": {
      "text/plain": [
       "<statsmodels.regression.mixed_linear_model.MixedLMResultsWrapper at 0x148c40322f10>"
      ]
     },
     "execution_count": 51,
     "metadata": {},
     "output_type": "execute_result"
    }
   ],
   "source": [
    "# flip test: gap-\n",
    "no_gap_df = sentence_df[sentence_df['gap_numeric'] == -1]\n",
    "iv_list = ['wh_numeric', 'adjunct_type']\n",
    "mixed_effects_linear_regression(no_gap_df, iv_list, 'embed_surprisal', 'adjunct islands embed: gap-')"
   ]
  },
  {
   "cell_type": "code",
   "execution_count": null,
   "id": "8fa7d54b",
   "metadata": {},
   "outputs": [
    {
     "name": "stdout",
     "output_type": "stream",
     "text": [
      "\n",
      "=== ADJUNCT ISLANDS EMBED: GAP+ ===\n",
      "\n",
      "=== MODEL SUMMARY ===\n",
      "Model: MixedLM\n",
      "Dependent Variable: embed_surprisal\n",
      "No. Observations: 120\n",
      "Method: REML\n",
      "No. Groups: 20\n",
      "Scale: 0.0697\n",
      "Min. group size: 6\n",
      "Log-Likelihood: -62.9370\n",
      "Max. group size: 6\n",
      "Converged: Yes\n",
      "Mean group size: 6.0\n",
      "\n",
      "=== FIXED EFFECTS COEFFICIENTS ===\n"
     ]
    },
    {
     "data": {
      "text/html": [
       "<div>\n",
       "<style scoped>\n",
       "    .dataframe tbody tr th:only-of-type {\n",
       "        vertical-align: middle;\n",
       "    }\n",
       "\n",
       "    .dataframe tbody tr th {\n",
       "        vertical-align: top;\n",
       "    }\n",
       "\n",
       "    .dataframe thead th {\n",
       "        text-align: right;\n",
       "    }\n",
       "</style>\n",
       "<table border=\"1\" class=\"dataframe\">\n",
       "  <thead>\n",
       "    <tr style=\"text-align: right;\">\n",
       "      <th></th>\n",
       "      <th>Parameter</th>\n",
       "      <th>Coef.</th>\n",
       "      <th>Std.Err.</th>\n",
       "      <th>z</th>\n",
       "      <th>P&gt;|z|</th>\n",
       "      <th>[0.025</th>\n",
       "      <th>0.975]</th>\n",
       "    </tr>\n",
       "  </thead>\n",
       "  <tbody>\n",
       "    <tr>\n",
       "      <th>0</th>\n",
       "      <td>Intercept</td>\n",
       "      <td>8.252</td>\n",
       "      <td>0.222</td>\n",
       "      <td>37.181</td>\n",
       "      <td>0.000</td>\n",
       "      <td>7.817</td>\n",
       "      <td>8.687</td>\n",
       "    </tr>\n",
       "    <tr>\n",
       "      <th>1</th>\n",
       "      <td>adjunct_type[T.back]</td>\n",
       "      <td>0.178</td>\n",
       "      <td>0.059</td>\n",
       "      <td>3.017</td>\n",
       "      <td>0.003</td>\n",
       "      <td>0.062</td>\n",
       "      <td>0.294</td>\n",
       "    </tr>\n",
       "    <tr>\n",
       "      <th>2</th>\n",
       "      <td>adjunct_type[T.front]</td>\n",
       "      <td>0.771</td>\n",
       "      <td>0.059</td>\n",
       "      <td>13.068</td>\n",
       "      <td>0.000</td>\n",
       "      <td>0.656</td>\n",
       "      <td>0.887</td>\n",
       "    </tr>\n",
       "    <tr>\n",
       "      <th>3</th>\n",
       "      <td>wh_numeric</td>\n",
       "      <td>0.243</td>\n",
       "      <td>0.042</td>\n",
       "      <td>5.834</td>\n",
       "      <td>0.000</td>\n",
       "      <td>0.162</td>\n",
       "      <td>0.325</td>\n",
       "    </tr>\n",
       "    <tr>\n",
       "      <th>4</th>\n",
       "      <td>wh_numeric:adjunct_type[T.back]</td>\n",
       "      <td>-0.168</td>\n",
       "      <td>0.059</td>\n",
       "      <td>-2.844</td>\n",
       "      <td>0.004</td>\n",
       "      <td>-0.284</td>\n",
       "      <td>-0.052</td>\n",
       "    </tr>\n",
       "    <tr>\n",
       "      <th>5</th>\n",
       "      <td>wh_numeric:adjunct_type[T.front]</td>\n",
       "      <td>0.002</td>\n",
       "      <td>0.059</td>\n",
       "      <td>0.028</td>\n",
       "      <td>0.978</td>\n",
       "      <td>-0.114</td>\n",
       "      <td>0.117</td>\n",
       "    </tr>\n",
       "  </tbody>\n",
       "</table>\n",
       "</div>"
      ],
      "text/plain": [
       "                          Parameter   Coef. Std.Err.       z  P>|z|  [0.025  \\\n",
       "0                         Intercept   8.252    0.222  37.181  0.000   7.817   \n",
       "1              adjunct_type[T.back]   0.178    0.059   3.017  0.003   0.062   \n",
       "2             adjunct_type[T.front]   0.771    0.059  13.068  0.000   0.656   \n",
       "3                        wh_numeric   0.243    0.042   5.834  0.000   0.162   \n",
       "4   wh_numeric:adjunct_type[T.back]  -0.168    0.059  -2.844  0.004  -0.284   \n",
       "5  wh_numeric:adjunct_type[T.front]   0.002    0.059   0.028  0.978  -0.114   \n",
       "\n",
       "   0.975]  \n",
       "0   8.687  \n",
       "1   0.294  \n",
       "2   0.887  \n",
       "3   0.325  \n",
       "4  -0.052  \n",
       "5   0.117  "
      ]
     },
     "metadata": {},
     "output_type": "display_data"
    },
    {
     "name": "stdout",
     "output_type": "stream",
     "text": [
      "\n",
      "=== RANDOM EFFECTS / VARIANCE-COVARIANCE ===\n"
     ]
    },
    {
     "data": {
      "text/html": [
       "<div>\n",
       "<style scoped>\n",
       "    .dataframe tbody tr th:only-of-type {\n",
       "        vertical-align: middle;\n",
       "    }\n",
       "\n",
       "    .dataframe tbody tr th {\n",
       "        vertical-align: top;\n",
       "    }\n",
       "\n",
       "    .dataframe thead th {\n",
       "        text-align: right;\n",
       "    }\n",
       "</style>\n",
       "<table border=\"1\" class=\"dataframe\">\n",
       "  <thead>\n",
       "    <tr style=\"text-align: right;\">\n",
       "      <th></th>\n",
       "      <th>Parameter</th>\n",
       "      <th>Coef.</th>\n",
       "      <th>Std.Err.</th>\n",
       "    </tr>\n",
       "  </thead>\n",
       "  <tbody>\n",
       "    <tr>\n",
       "      <th>0</th>\n",
       "      <td>Group Var</td>\n",
       "      <td>0.950</td>\n",
       "      <td>1.295</td>\n",
       "    </tr>\n",
       "  </tbody>\n",
       "</table>\n",
       "</div>"
      ],
      "text/plain": [
       "   Parameter  Coef. Std.Err.\n",
       "0  Group Var  0.950    1.295"
      ]
     },
     "metadata": {},
     "output_type": "display_data"
    },
    {
     "data": {
      "text/plain": [
       "<statsmodels.regression.mixed_linear_model.MixedLMResultsWrapper at 0x148c42152a30>"
      ]
     },
     "execution_count": 52,
     "metadata": {},
     "output_type": "execute_result"
    }
   ],
   "source": [
    "# flip test: gap+\n",
    "gap_df = sentence_df[sentence_df['gap_numeric'] == 1]\n",
    "iv_list = ['wh_numeric', 'adjunct_type']\n",
    "mixed_effects_linear_regression(gap_df, iv_list, 'embed_surprisal', 'adjunct islands embed: gap+')"
   ]
  },
  {
   "cell_type": "code",
   "execution_count": null,
   "id": "85101278",
   "metadata": {},
   "outputs": [
    {
     "name": "stdout",
     "output_type": "stream",
     "text": [
      "\n",
      "=== ADJUNCT ISLANDS EMBED: DIVISION BY GRAMMATICALITY ===\n",
      "\n",
      "=== MODEL SUMMARY ===\n",
      "Model: MixedLM\n",
      "Dependent Variable: embed_surprisal\n",
      "No. Observations: 240\n",
      "Method: REML\n",
      "No. Groups: 20\n",
      "Scale: 0.2691\n",
      "Min. group size: 12\n",
      "Log-Likelihood: -222.9743\n",
      "Max. group size: 12\n",
      "Converged: Yes\n",
      "Mean group size: 12.0\n",
      "\n",
      "=== FIXED EFFECTS COEFFICIENTS ===\n"
     ]
    },
    {
     "data": {
      "text/html": [
       "<div>\n",
       "<style scoped>\n",
       "    .dataframe tbody tr th:only-of-type {\n",
       "        vertical-align: middle;\n",
       "    }\n",
       "\n",
       "    .dataframe tbody tr th {\n",
       "        vertical-align: top;\n",
       "    }\n",
       "\n",
       "    .dataframe thead th {\n",
       "        text-align: right;\n",
       "    }\n",
       "</style>\n",
       "<table border=\"1\" class=\"dataframe\">\n",
       "  <thead>\n",
       "    <tr style=\"text-align: right;\">\n",
       "      <th></th>\n",
       "      <th>Parameter</th>\n",
       "      <th>Coef.</th>\n",
       "      <th>Std.Err.</th>\n",
       "      <th>z</th>\n",
       "      <th>P&gt;|z|</th>\n",
       "      <th>[0.025</th>\n",
       "      <th>0.975]</th>\n",
       "    </tr>\n",
       "  </thead>\n",
       "  <tbody>\n",
       "    <tr>\n",
       "      <th>0</th>\n",
       "      <td>Intercept</td>\n",
       "      <td>8.547</td>\n",
       "      <td>0.236</td>\n",
       "      <td>36.169</td>\n",
       "      <td>0.000</td>\n",
       "      <td>8.084</td>\n",
       "      <td>9.010</td>\n",
       "    </tr>\n",
       "    <tr>\n",
       "      <th>1</th>\n",
       "      <td>grammaticality[T.gram-]</td>\n",
       "      <td>0.179</td>\n",
       "      <td>0.071</td>\n",
       "      <td>2.515</td>\n",
       "      <td>0.012</td>\n",
       "      <td>0.039</td>\n",
       "      <td>0.318</td>\n",
       "    </tr>\n",
       "  </tbody>\n",
       "</table>\n",
       "</div>"
      ],
      "text/plain": [
       "                 Parameter  Coef. Std.Err.       z  P>|z| [0.025 0.975]\n",
       "0                Intercept  8.547    0.236  36.169  0.000  8.084  9.010\n",
       "1  grammaticality[T.gram-]  0.179    0.071   2.515  0.012  0.039  0.318"
      ]
     },
     "metadata": {},
     "output_type": "display_data"
    },
    {
     "name": "stdout",
     "output_type": "stream",
     "text": [
      "\n",
      "=== RANDOM EFFECTS / VARIANCE-COVARIANCE ===\n"
     ]
    },
    {
     "data": {
      "text/html": [
       "<div>\n",
       "<style scoped>\n",
       "    .dataframe tbody tr th:only-of-type {\n",
       "        vertical-align: middle;\n",
       "    }\n",
       "\n",
       "    .dataframe tbody tr th {\n",
       "        vertical-align: top;\n",
       "    }\n",
       "\n",
       "    .dataframe thead th {\n",
       "        text-align: right;\n",
       "    }\n",
       "</style>\n",
       "<table border=\"1\" class=\"dataframe\">\n",
       "  <thead>\n",
       "    <tr style=\"text-align: right;\">\n",
       "      <th></th>\n",
       "      <th>Parameter</th>\n",
       "      <th>Coef.</th>\n",
       "      <th>Std.Err.</th>\n",
       "    </tr>\n",
       "  </thead>\n",
       "  <tbody>\n",
       "    <tr>\n",
       "      <th>0</th>\n",
       "      <td>Group Var</td>\n",
       "      <td>1.050</td>\n",
       "      <td>0.699</td>\n",
       "    </tr>\n",
       "  </tbody>\n",
       "</table>\n",
       "</div>"
      ],
      "text/plain": [
       "   Parameter  Coef. Std.Err.\n",
       "0  Group Var  1.050    0.699"
      ]
     },
     "metadata": {},
     "output_type": "display_data"
    },
    {
     "data": {
      "text/plain": [
       "<statsmodels.regression.mixed_linear_model.MixedLMResultsWrapper at 0x148c43480cd0>"
      ]
     },
     "execution_count": 53,
     "metadata": {},
     "output_type": "execute_result"
    }
   ],
   "source": [
    "# division by grammaticality\n",
    "iv_list = ['grammaticality']\n",
    "mixed_effects_linear_regression(sentence_df, iv_list, 'embed_surprisal', 'adjunct islands embed: division by grammaticality')"
   ]
  },
  {
   "cell_type": "markdown",
   "id": "07e0db26",
   "metadata": {},
   "source": [
    "#### Complex NP Islands"
   ]
  },
  {
   "cell_type": "code",
   "execution_count": null,
   "id": "56180ad4",
   "metadata": {},
   "outputs": [],
   "source": [
    "sentence_df = pd.read_csv('test_sentences/Complex NP Islands.csv')"
   ]
  },
  {
   "cell_type": "code",
   "execution_count": null,
   "id": "afed9a1b",
   "metadata": {},
   "outputs": [],
   "source": [
    "sentence_df = encode_wh_licensor(sentence_df)\n",
    "sentence_df['gap_numeric'] = sentence_df['gap'].replace(0, -1)\n",
    "sentence_df['sentence'] = sentence_df.apply(merge_sentence, axis = 1)\n",
    "sentence_df['surprisals'] = sentence_df['sentence'].apply(calculate_surprisal)\n",
    "sentence_df['grammaticality'] = sentence_df.apply(assign_grammaticality_islands, axis = 1)"
   ]
  },
  {
   "cell_type": "markdown",
   "id": "358387ce",
   "metadata": {},
   "source": [
    "Subject Condition"
   ]
  },
  {
   "cell_type": "code",
   "execution_count": null,
   "id": "5d27709c",
   "metadata": {},
   "outputs": [],
   "source": [
    "subject_df = sentence_df.copy()"
   ]
  },
  {
   "cell_type": "code",
   "execution_count": null,
   "id": "610beed3",
   "metadata": {},
   "outputs": [],
   "source": [
    "subject_df['region_surprisal'] = subject_df.apply(lambda x: sum_region_surprisal(x, ['subj_setup']), axis = 1)\n",
    "subject_df"
   ]
  },
  {
   "cell_type": "code",
   "execution_count": null,
   "id": "bbb79ffd",
   "metadata": {},
   "outputs": [],
   "source": [
    "# filter for subject condition\n",
    "subject_df = subject_df[subject_df['subj_obj'] == 'subject']"
   ]
  },
  {
   "cell_type": "code",
   "execution_count": null,
   "id": "f2fe73eb",
   "metadata": {},
   "outputs": [],
   "source": [
    "# flip test: gap-\n",
    "no_gap_df = subject_df[subject_df['gap_numeric'] == -1]\n",
    "iv_list = ['wh_numeric']\n",
    "mixed_effects_linear_regression(no_gap_df, iv_list, 'region_surprisal', 'complex np islands subject condition: gap-')"
   ]
  },
  {
   "cell_type": "code",
   "execution_count": null,
   "id": "291749b8",
   "metadata": {},
   "outputs": [],
   "source": [
    "# flip test: gap+\n",
    "gap_df = subject_df[subject_df['gap_numeric'] == 1]\n",
    "iv_list = ['wh_numeric']\n",
    "mixed_effects_linear_regression(gap_df, iv_list, 'region_surprisal', 'complex np islands subject condition: gap+')"
   ]
  },
  {
   "cell_type": "code",
   "execution_count": null,
   "id": "05f382a6",
   "metadata": {},
   "outputs": [],
   "source": [
    "# division by grammaticality\n",
    "iv_list = ['grammaticality']\n",
    "mixed_effects_linear_regression(subject_df, iv_list, 'region_surprisal', 'complex np islands subject condition: division by grammaticality')"
   ]
  },
  {
   "cell_type": "markdown",
   "id": "294132b0",
   "metadata": {},
   "source": [
    "Object Condition"
   ]
  },
  {
   "cell_type": "code",
   "execution_count": null,
   "id": "9574aa02",
   "metadata": {},
   "outputs": [],
   "source": [
    "object_df = sentence_df.copy()"
   ]
  },
  {
   "cell_type": "code",
   "execution_count": null,
   "id": "3fefbd08",
   "metadata": {},
   "outputs": [],
   "source": [
    "object_df['region_surprisal'] = object_df.apply(lambda x: sum_region_surprisal(x, ['end']), axis = 1)\n",
    "object_df"
   ]
  },
  {
   "cell_type": "code",
   "execution_count": null,
   "id": "096b2939",
   "metadata": {},
   "outputs": [],
   "source": [
    "# filter for object gap\n",
    "object_df = object_df[object_df['subj_obj'] == 'object']"
   ]
  },
  {
   "cell_type": "code",
   "execution_count": null,
   "id": "976c9e9c",
   "metadata": {},
   "outputs": [],
   "source": [
    "# flip test: gap-\n",
    "no_gap_df = object_df[object_df['gap_numeric'] == -1]\n",
    "iv_list = ['wh_numeric']\n",
    "mixed_effects_linear_regression(no_gap_df, iv_list, 'region_surprisal', 'complex np islands object condition: gap-')"
   ]
  },
  {
   "cell_type": "code",
   "execution_count": null,
   "id": "4f9931c4",
   "metadata": {},
   "outputs": [],
   "source": [
    "# flip test: gap+\n",
    "gap_df = object_df[object_df['gap_numeric'] == 1]\n",
    "iv_list = ['wh_numeric']\n",
    "mixed_effects_linear_regression(gap_df, iv_list, 'region_surprisal', 'complex np islands object condition: gap+')"
   ]
  },
  {
   "cell_type": "code",
   "execution_count": null,
   "id": "739a2118",
   "metadata": {},
   "outputs": [],
   "source": [
    "# division by grammaticality\n",
    "iv_list = ['grammaticality']\n",
    "mixed_effects_linear_regression(object_df, iv_list, 'region_surprisal', 'complex np islands object condition: division by grammaticality')"
   ]
  },
  {
   "cell_type": "markdown",
   "id": "07690342",
   "metadata": {},
   "source": [
    "Embedded Clause"
   ]
  },
  {
   "cell_type": "code",
   "execution_count": null,
   "id": "864c9ec4",
   "metadata": {},
   "outputs": [],
   "source": [
    "embed = ['subj', 'that_rc', 'what_rc', 'rc_np', 'prep', 'prep_np', 'subj_setup', 'obj_setup', 'end']\n",
    "sentence_df['embed_surprisal'] = sentence_df.apply(lambda x: sum_region_surprisal(x, embed, normalize = True), axis = 1)\n",
    "sentence_df"
   ]
  },
  {
   "cell_type": "markdown",
   "id": "364db12b",
   "metadata": {},
   "source": [
    "Embedded Clause - Subject Condition"
   ]
  },
  {
   "cell_type": "code",
   "execution_count": null,
   "id": "07f27b79",
   "metadata": {},
   "outputs": [],
   "source": [
    "# filter for subject condition\n",
    "subject_df = sentence_df[sentence_df['subj_obj'] == 'subject']"
   ]
  },
  {
   "cell_type": "code",
   "execution_count": null,
   "id": "4d0bed9e",
   "metadata": {},
   "outputs": [],
   "source": [
    "# flip test: gap-\n",
    "no_gap_df = subject_df[subject_df['gap_numeric'] == -1]\n",
    "iv_list = ['wh_numeric']\n",
    "mixed_effects_linear_regression(no_gap_df, iv_list, 'embed_surprisal', 'complex np islands subject condition: gap-')"
   ]
  },
  {
   "cell_type": "code",
   "execution_count": null,
   "id": "673a9a8e",
   "metadata": {},
   "outputs": [],
   "source": [
    "# flip test: gap+\n",
    "gap_df = subject_df[subject_df['gap_numeric'] == 1]\n",
    "iv_list = ['wh_numeric']\n",
    "mixed_effects_linear_regression(gap_df, iv_list, 'embed_surprisal', 'complex np islands subject condition: gap+')"
   ]
  },
  {
   "cell_type": "code",
   "execution_count": null,
   "id": "c9503001",
   "metadata": {},
   "outputs": [],
   "source": [
    "# division by grammaticality\n",
    "iv_list = ['grammaticality']\n",
    "mixed_effects_linear_regression(subject_df, iv_list, 'embed_surprisal', 'complex np islands subject condition: division by grammaticality')"
   ]
  },
  {
   "cell_type": "markdown",
   "id": "86916091",
   "metadata": {},
   "source": [
    "Embedded Clause - Object Condition"
   ]
  },
  {
   "cell_type": "code",
   "execution_count": null,
   "id": "419c08d7",
   "metadata": {},
   "outputs": [],
   "source": [
    "# filter for object gap\n",
    "object_df = sentence_df[sentence_df['subj_obj'] == 'object']"
   ]
  },
  {
   "cell_type": "code",
   "execution_count": null,
   "id": "4ba3d7d7",
   "metadata": {},
   "outputs": [],
   "source": [
    "# flip test: gap-\n",
    "no_gap_df = object_df[object_df['gap_numeric'] == -1]\n",
    "iv_list = ['wh_numeric']\n",
    "mixed_effects_linear_regression(no_gap_df, iv_list, 'embed_surprisal', 'complex np islands object condition: gap-')"
   ]
  },
  {
   "cell_type": "code",
   "execution_count": null,
   "id": "9de128f5",
   "metadata": {},
   "outputs": [],
   "source": [
    "# flip test: gap+\n",
    "gap_df = object_df[object_df['gap_numeric'] == 1]\n",
    "iv_list = ['wh_numeric']\n",
    "mixed_effects_linear_regression(gap_df, iv_list, 'embed_surprisal', 'complex np islands object condition: gap+')"
   ]
  },
  {
   "cell_type": "code",
   "execution_count": null,
   "id": "934138df",
   "metadata": {},
   "outputs": [],
   "source": [
    "# division by grammaticality\n",
    "iv_list = ['grammaticality']\n",
    "mixed_effects_linear_regression(object_df, iv_list, 'embed_surprisal', 'complex np islands object condition: division by grammaticality')"
   ]
  }
 ],
 "metadata": {
  "kernelspec": {
   "display_name": "Python 3",
   "language": "python",
   "name": "python3"
  },
  "language_info": {
   "codemirror_mode": {
    "name": "ipython",
    "version": 3
   },
   "file_extension": ".py",
   "mimetype": "text/x-python",
   "name": "python",
   "nbconvert_exporter": "python",
   "pygments_lexer": "ipython3",
   "version": "3.13.3"
  }
 },
 "nbformat": 4,
 "nbformat_minor": 5
}
