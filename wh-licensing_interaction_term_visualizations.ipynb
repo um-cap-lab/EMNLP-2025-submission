{
 "cells": [
  {
   "cell_type": "code",
   "execution_count": 1,
   "id": "5468eb4b",
   "metadata": {},
   "outputs": [
    {
     "name": "stderr",
     "output_type": "stream",
     "text": [
      "/tmp/ipykernel_960254/658913012.py:7: DeprecationWarning: \n",
      "Pyarrow will become a required dependency of pandas in the next major release of pandas (pandas 3.0),\n",
      "(to allow more performant data types, such as the Arrow string type, and better interoperability with other libraries)\n",
      "but was too old on your system - pyarrow 10.0.1 is the current minimum supported version as of this release.\n",
      "If this would cause problems for you,\n",
      "please provide us feedback at https://github.com/pandas-dev/pandas/issues/54466\n",
      "        \n",
      "  import pandas as pd\n"
     ]
    }
   ],
   "source": [
    "# Minicons Installation\n",
    "# Introduction can be found https://kanishka.xyz/post/minicons-running-large-scale-behavioral-analyses-on-transformer-lms/\n",
    "# Tutorial and code can be found https://github.com/kanishkamisra/minicons/blob/master/examples/surprisals.md\n",
    "#!pip install minicons\n",
    "\n",
    "from minicons import scorer\n",
    "import pandas as pd\n",
    "import numpy as np\n",
    "import json\n",
    "import csv\n",
    "import re\n",
    "import matplotlib.pyplot as plt\n",
    "import seaborn as sns\n",
    "import statsmodels.formula.api as smf\n",
    "import torch\n",
    "from torch.utils.data import DataLoader\n",
    "from transformers import GPT2LMHeadModel, GPT2TokenizerFast"
   ]
  },
  {
   "cell_type": "code",
   "execution_count": 2,
   "id": "96f0c8d4",
   "metadata": {},
   "outputs": [],
   "source": [
    "#model_path_gpt2_10m = \"gpt2-small/checkpoint-trainedtokenizer_10M_whitespace\"\n",
    "#model_path_gpt2_100m = \"gpt2-small/checkpoint-trainedtokenizer_100M_whitespace\"\n",
    "model_path_gpt2_10m = \"gpt2-10M/checkpoint-10M\"\n",
    "model_path_gpt2_100m = \"gpt2-100M/checkpoint-100M\"\n",
    "#model_path_gpt3_10m = \"gpt3-small/checkpoint-trainedtokenizer_10M_whitespace\"\n",
    "#model_path_gpt3_100m = \"gpt3-small/checkpoint-trainedtokenizer_100M_whitespace\"\n",
    "model_path_babylm_10m = 'colinglab/ConcreteGPT-124M-128ctx-Strict-Small-mixed_bins'\n",
    "model_path_babylm_100m = 'phonemetransformers/GPT2-85M-BPE-TXT'\n",
    "\n",
    "# BabbleGPT has special tokens to be filtered out\n",
    "tokenizer = GPT2TokenizerFast.from_pretrained(model_path_babylm_100m)\n",
    "\n",
    "# wrap with minicons scorer\n",
    "lm_scorer_gpt2_10m = scorer.IncrementalLMScorer(model_path_gpt2_10m, device = \"cpu\")\n",
    "lm_scorer_gpt2_100m = scorer.IncrementalLMScorer(model_path_gpt2_100m, device = \"cpu\")\n",
    "#lm_scorer_gpt3_10m = scorer.IncrementalLMScorer(model_path_gpt3_10m, device = \"cpu\")\n",
    "#lm_scorer_gpt3_100m = scorer.IncrementalLMScorer(model_path_gpt3_100m, device = \"cpu\")\n",
    "lm_scorer_babylm_10m = scorer.IncrementalLMScorer(model_path_babylm_10m, device = \"cpu\")\n",
    "lm_scorer_babylm_100m = scorer.IncrementalLMScorer(model_path_babylm_100m, device = \"cpu\")\n",
    "lm_scorer_gpt2 = scorer.IncrementalLMScorer('gpt2', device = \"cpu\")"
   ]
  },
  {
   "cell_type": "code",
   "execution_count": 3,
   "id": "decb48dd",
   "metadata": {},
   "outputs": [
    {
     "data": {
      "text/plain": [
       "['UTT_BOUNDARY', 'UNK', 'PAD']"
      ]
     },
     "execution_count": 3,
     "metadata": {},
     "output_type": "execute_result"
    }
   ],
   "source": [
    "tokenizer.all_special_tokens"
   ]
  },
  {
   "cell_type": "code",
   "execution_count": 4,
   "id": "2f7fc01c",
   "metadata": {},
   "outputs": [
    {
     "data": {
      "text/plain": [
       "[('i', 0.0),\n",
       " ('know', 4.964712619781494),\n",
       " ('that', 3.957824468612671),\n",
       " ('your', 7.061440944671631),\n",
       " ('friend', 6.68718957901001),\n",
       " ('gave', 8.715493202209473),\n",
       " ('a', 5.011171340942383),\n",
       " ('baguette', 42.164002418518066),\n",
       " ('to', 4.279263973236084),\n",
       " ('mary', 13.89819049835205),\n",
       " ('last', 8.088367462158203),\n",
       " ('weekend', 7.852705955505371),\n",
       " ('.', 1.655366063117981)]"
      ]
     },
     "execution_count": 4,
     "metadata": {},
     "output_type": "execute_result"
    }
   ],
   "source": [
    "def calculate_surprisal(model_lm_scorer, sentence):\n",
    "    '''\n",
    "    Takes in a sentence, and outputs surprisal values for each word.\n",
    "    '''\n",
    "    \n",
    "    input_sentence = sentence\n",
    "    # token_score() function of Minicons takes in several parameters\n",
    "    # if surprisal = True, the output value is surprisal instead of log likelihood\n",
    "    # if base_two = True, the log likelihood will be in base 2\n",
    "    # see Minicons documentations for details\n",
    "    # score tokens\n",
    "    token_surprisals = model_lm_scorer.token_score(input_sentence, surprisal = True, base_two = True)[0]\n",
    "    #print(token_surprisals)\n",
    "\n",
    "    # filter out special tokens (like <pad>)\n",
    "    special_tokens = set(tokenizer.all_special_tokens)\n",
    "    filtered = [\n",
    "        (token, score)\n",
    "        for (token, score) in token_surprisals\n",
    "        if token not in special_tokens\n",
    "    ]\n",
    "\n",
    "   # expand tokens that contain multiple words\n",
    "    expanded = []\n",
    "    #for token, score in token_surprisals:\n",
    "    for token, score in filtered:\n",
    "        token = token.strip('Ġ') # remove space marker\n",
    "        token = token.lower()\n",
    "        if token.count('Ġ') > 0:\n",
    "            # multiple words inside\n",
    "            words = token.split('Ġ')\n",
    "            words = [word for word in words if word]  # remove empty strings\n",
    "            for i, word in enumerate(words):\n",
    "                expanded_token = word\n",
    "                expanded.append((expanded_token, score / len(words)))  # split surprisal equally\n",
    "        else:\n",
    "            expanded.append((token, score))    \n",
    "    #print(expanded)\n",
    "\n",
    "    # use regex to split into words and punctuation\n",
    "    words = re.findall(r'\\w+|[^\\w\\s]', sentence.lower())\n",
    "    results = []\n",
    "\n",
    "    token_pointer = 0\n",
    "\n",
    "    for word in words:\n",
    "        accumulated = ''\n",
    "        word_surprisal = 0.0\n",
    "\n",
    "        while token_pointer < len(expanded):\n",
    "            token, surprisal = expanded[token_pointer]\n",
    "            accumulated += token\n",
    "            word_surprisal += surprisal\n",
    "            token_pointer += 1\n",
    "\n",
    "            if accumulated == word:\n",
    "                results.append((word, word_surprisal))\n",
    "                break\n",
    "        else:\n",
    "            results.append((word, word_surprisal))\n",
    "\n",
    "    return results\n",
    "\n",
    "\n",
    "sentence = 'I know that your friend gave a baguette to Mary last weekend.'\n",
    "calculate_surprisal(lm_scorer_gpt2_100m, sentence)"
   ]
  },
  {
   "cell_type": "code",
   "execution_count": 5,
   "id": "8edb5f9b",
   "metadata": {},
   "outputs": [],
   "source": [
    "def calculate_sentence_surprisal(word_surprisals):\n",
    "    '''Returns total surprisal and average surprisal per word.'''\n",
    "    \n",
    "    scores = [score for word, score in word_surprisals]\n",
    "    total = sum(scores)\n",
    "    avg = total / len(scores)\n",
    "    return total, avg\n",
    "\n",
    "\"\"\"\n",
    "def sum_region_surprisal(row, region_list):\n",
    "    '''Sums surprisals of a specified sentence region, extracting the relevant part from sentence_surprisals using index information.'''\n",
    "\n",
    "    sentence_surprisals = row['surprisals']\n",
    "    \n",
    "    # retrieve all sentence column(from 'prefix' till 'end')\n",
    "    all_columns = row.index.tolist()  # get the list of column names\n",
    "    prefix_index = all_columns.index('prefix')\n",
    "    eos_index = all_columns.index('end')\n",
    "    \n",
    "    # reconstruct the full sentence from 'prefix' to 'end' (exclude NaN values)\n",
    "    full_sentence = ' '.join([str(row[col]) if pd.notna(row.get(col)) else '' for col in all_columns[prefix_index:eos_index + 1]])\n",
    "    \n",
    "    # use regex to split the full sentence into words & punctuation\n",
    "    sentence_units = re.findall(r'\\w+|[^\\w\\s]', full_sentence)\n",
    "    \n",
    "    # get the start and end indices for the region_list within the full sentence\n",
    "    first_region_column = region_list[0]\n",
    "    first_region_start_index = all_columns.index(first_region_column)\n",
    "    \n",
    "    last_region_column = region_list[-1]\n",
    "    last_region_end_index = all_columns.index(last_region_column)\n",
    "    \n",
    "    # extract the relevant slice of sentence_surprisals that corresponds to the region_list\n",
    "    # calculate the starting and ending index for the region_list part\n",
    "    start_index = sum([\n",
    "        len(re.findall(r'\\w+|[^\\w\\s]', str(row[col]))) for col in all_columns[prefix_index:first_region_start_index]\n",
    "        if pd.notna(row[col]) \n",
    "    ])\n",
    "    end_index = sum([\n",
    "        len(re.findall(r'\\w+|[^\\w\\s]', str(row[col]))) for col in all_columns[prefix_index:last_region_end_index + 1]\n",
    "        if pd.notna(row[col]) \n",
    "    ])\n",
    "\n",
    "    # extract the slice of sentence_surprisals corresponding to the region_list part\n",
    "    relevant_surprisals = sentence_surprisals[start_index:end_index]\n",
    "    region_surprisal = sum([score for token, score in relevant_surprisals])\n",
    "    \n",
    "    return region_surprisal\n",
    "\"\"\"\n",
    "\n",
    "def sum_region_surprisal(row, model_surprisals, region_list, priority_region = None, normalize = False):\n",
    "    '''Sums surprisals of a specified sentence region with optional priority region handling.'''\n",
    "\n",
    "    sentence_surprisals = row[model_surprisals]\n",
    "    \n",
    "    # retrieve all sentence column(from 'prefix' till 'end')\n",
    "    all_columns = row.index.tolist()  # get the list of column names\n",
    "    prefix_index = all_columns.index('prefix')\n",
    "    eos_index = all_columns.index('end')\n",
    "    \n",
    "    # reconstruct the full sentence from 'prefix' to 'end' (exclude NaN values)\n",
    "    full_sentence = ' '.join([str(row[col]) if pd.notna(row.get(col)) else '' for col in all_columns[prefix_index:eos_index + 1]])\n",
    "    \n",
    "    # use regex to split the full sentence into words & punctuation\n",
    "    sentence_units = re.findall(r'\\w+|[^\\w\\s]', full_sentence)\n",
    "    \n",
    "    if priority_region:\n",
    "        # check if priority_region has non-zero surprisal\n",
    "        if pd.notna(row[priority_region]):\n",
    "            # extract text for the priority_region\n",
    "            priority_region_index = all_columns.index(priority_region)\n",
    "            \n",
    "            start_index = sum([\n",
    "                len(re.findall(r'\\w+|[^\\w\\s]', str(row[col]))) for col in all_columns[prefix_index:priority_region_index]\n",
    "                if pd.notna(row[col]) \n",
    "            ])\n",
    "            end_index = sum([\n",
    "                len(re.findall(r'\\w+|[^\\w\\s]', str(row[col]))) for col in all_columns[prefix_index:priority_region_index + 1]\n",
    "                if pd.notna(row[col]) \n",
    "            ])\n",
    "            \n",
    "            # calculate the surprisal for the priority region\n",
    "            relevant_surprisals = sentence_surprisals[start_index:end_index]\n",
    "            priority_surprisal = sum([score for token, score in relevant_surprisals])\n",
    "    \n",
    "            # return priority region's surprisal score if it is non-zero\n",
    "            if priority_surprisal != 0:\n",
    "                return priority_surprisal\n",
    "    \n",
    "    # if priority region is not provided or its surprisal is zero, calculate sum of region_list surprisals\n",
    "\n",
    "    # get the start and end indices for the region_list within the full sentence\n",
    "    first_region_column = region_list[0]\n",
    "    first_region_start_index = all_columns.index(first_region_column)\n",
    "    \n",
    "    last_region_column = region_list[-1]\n",
    "    last_region_end_index = all_columns.index(last_region_column)\n",
    "    \n",
    "    # extract the relevant slice of sentence_surprisals that corresponds to the region_list\n",
    "    # calculate the starting and ending index for the region_list part\n",
    "    start_index = sum([\n",
    "        len(re.findall(r'\\w+|[^\\w\\s]', str(row[col]))) for col in all_columns[prefix_index:first_region_start_index]\n",
    "        if pd.notna(row[col]) \n",
    "    ])\n",
    "    end_index = sum([\n",
    "        len(re.findall(r'\\w+|[^\\w\\s]', str(row[col]))) for col in all_columns[prefix_index:last_region_end_index + 1]\n",
    "        if pd.notna(row[col]) \n",
    "    ])\n",
    "\n",
    "    # extract the slice of sentence_surprisals corresponding to the region_list part\n",
    "    relevant_surprisals = sentence_surprisals[start_index:end_index]\n",
    "    region_surprisal = sum([score for token, score in relevant_surprisals])\n",
    "    \n",
    "    if normalize == False:\n",
    "        return region_surprisal\n",
    "    elif normalize == True:\n",
    "        return region_surprisal / len(relevant_surprisals)"
   ]
  },
  {
   "cell_type": "code",
   "execution_count": 6,
   "id": "4e2f50f3",
   "metadata": {},
   "outputs": [],
   "source": [
    "def split_ends(ends):\n",
    "    '''Splits off sentence-final punctuation.'''\n",
    "    \n",
    "    match = re.match(r'^(.*?)([.!?])$', ends.strip())\n",
    "    if match:\n",
    "        return pd.Series([match.group(1), match.group(2)])\n",
    "    else:\n",
    "        return pd.Series([ends, ''])  # no end punctuation\n",
    "    \n",
    "def encode_wh_licensor(df):\n",
    "    '''\n",
    "    Adds a numeric column to the DataFrame:\n",
    "    - 1 if licensor is a wh-licensor\n",
    "    - -1 otherwise (licensor is \"that\" or absent)\n",
    "    '''\n",
    "    df['wh_numeric'] = df['filler'].apply(lambda x: 1 if x > 0 else -1)\n",
    "    return df\n",
    "\n",
    "def merge_sentence(row, syntactic_parts):\n",
    "    '''Merges sentence columns back into full sentence.'''\n",
    "    \n",
    "    parts = [row[part] for part in syntactic_parts]         \n",
    "    # filter out NaN or empty parts\n",
    "    non_empty_parts = [str(part) for part in parts if pd.notna(part) and str(part).strip() != '']\n",
    "    # join with spaces and add end punctuation\n",
    "    sentence = ' '.join(non_empty_parts) + (row['end'] if pd.notna(row['end']) else '')\n",
    "    return sentence"
   ]
  },
  {
   "cell_type": "markdown",
   "id": "23b98dd7",
   "metadata": {},
   "source": [
    "#### Wh-licensing Term Calculation & Visualization"
   ]
  },
  {
   "cell_type": "code",
   "execution_count": 7,
   "id": "971292e4",
   "metadata": {},
   "outputs": [],
   "source": [
    "def compute_wh_licensing_interaction(df, surprisal):\n",
    "    '''Calculates wh-licensing interaction term for each sentence set (per item_id).'''\n",
    "    \n",
    "    results = []\n",
    "    for item_id in df['item_id'].unique():\n",
    "        item_df = df[df['item_id'] == item_id]\n",
    "        f_plus_g_minus = item_df[(item_df['wh_numeric'] == 1) & (item_df['gap_numeric'] == -1)][surprisal].mean()\n",
    "        f_minus_g_minus = item_df[(item_df['wh_numeric'] == -1) & (item_df['gap_numeric'] == -1)][surprisal].mean()\n",
    "        f_plus_g_plus = item_df[(item_df['wh_numeric'] == 1) & (item_df['gap_numeric'] == 1)][surprisal].mean()\n",
    "        f_minus_g_plus = item_df[(item_df['wh_numeric'] == -1) & (item_df['gap_numeric'] == 1)][surprisal].mean()\n",
    "\n",
    "        if pd.notna(f_plus_g_minus) and pd.notna(f_minus_g_plus) and pd.notna(f_plus_g_plus) and pd.notna(f_minus_g_plus):\n",
    "            wh_effect = (f_plus_g_minus - f_minus_g_minus) - (f_plus_g_plus - f_minus_g_plus)\n",
    "            results.append({'item_id': item_id, 'wh_effect': wh_effect})\n",
    "\n",
    "    return pd.DataFrame(results)"
   ]
  },
  {
   "cell_type": "code",
   "execution_count": 8,
   "id": "307dfea6",
   "metadata": {},
   "outputs": [],
   "source": [
    "# multiple plots\n",
    "\n",
    "from scipy.stats import sem\n",
    "from matplotlib.ticker import MaxNLocator\n",
    "\n",
    "def plot_wh_licensing_interaction(df_lists, subtitles, labels, title):\n",
    "    '''\n",
    "    Plots multiple sets of mean wh-licensing interaction terms in separate subplots with color legend.\n",
    "\n",
    "    Args:\n",
    "        df_lists: List of lists of DataFrames, each containing DataFrames with a 'wh_effect' column recording results from one specific model.\n",
    "        subtitles: List of titles for each set of subplots denoting model type (same length as df_lists).\n",
    "        labels: List of labels corresponding to each DataFrame in all lists combined.\n",
    "        title: Title for the entire figure.\n",
    "    '''\n",
    "    \n",
    "    # check if the number of subtitles matches the number of DataFrame lists\n",
    "    if len(df_lists) != len(subtitles):\n",
    "        raise ValueError(\"df_lists and subtitles must have the same length.\")\n",
    "    \n",
    "    means = []\n",
    "    errors = []\n",
    "    all_labels = []\n",
    "\n",
    "    # colors for each subplot (will cycle if more than 10 subplots)\n",
    "    colors = plt.cm.tab10.colors  # distinct colors for each set of DataFrames\n",
    "\n",
    "    # iterate over each DataFrame list to compute means and errors\n",
    "    for df_list in df_lists:\n",
    "        means_set, errors_set = [], []\n",
    "        \n",
    "        for df in df_list:\n",
    "            mean_effect = df['wh_effect'].mean()\n",
    "            stderr = sem(df['wh_effect'])\n",
    "            means_set.append(mean_effect)\n",
    "            errors_set.append(1.96 * stderr)  # 95% CI\n",
    "\n",
    "        means.append(means_set)\n",
    "        errors.append(errors_set)\n",
    "        all_labels.append(labels[:len(df_list)])  # add the appropriate labels for each group\n",
    "\n",
    "    # calculate common y-limits based on all the plots to align zero line\n",
    "    min_y = min([m - e for means_set, errors_set in zip(means, errors) for m, e in zip(means_set, errors_set)])\n",
    "    max_y = max([m + e for means_set, errors_set in zip(means, errors) for m, e in zip(means_set, errors_set)])\n",
    "    \n",
    "    # add buffer of 10% above the maximum y-value to allow for a cleaner view\n",
    "    y_buffer = (max_y - min_y) * 0.1  # 10% buffer above the highest value\n",
    "    #y_buffer = (max_y - min_y) * 0.4  # 40% buffer above the highest value\n",
    "    #y_buffer = 0.3\n",
    "    max_y += y_buffer\n",
    "\n",
    "    # set min_y to be slightly below the minimum if it's negative (to avoid cutting off the data)\n",
    "    min_y = min(min_y - y_buffer, 0)  # ensure min_y does not go lower than 0\n",
    "\n",
    "    # dynamically determine the grid size for subplots\n",
    "    n_plots = len(df_lists)  # number of DataFrame lists\n",
    "    #n_cols = 5  # number of columns in the subplot grid\n",
    "    n_cols = len(df_lists)\n",
    "    n_rows = int(np.ceil(n_plots / n_cols))  # calculate rows based on number of plots\n",
    "\n",
    "    fig, axes = plt.subplots(n_rows, n_cols, figsize = (n_cols * 3.8, n_rows * 3.8))  # create dynamic grid of subplots\n",
    "    #fig, axes = plt.subplots(n_rows, n_cols, figsize = (n_cols * 4, n_rows * 4))\n",
    "    axes = axes.flatten()  # flatten the axes array for easy iteration\n",
    "    \n",
    "    # iterate through each subplot, setting up data and appearance\n",
    "    for i, ax in enumerate(axes[:n_plots]):\n",
    "        \n",
    "        subplot_colors = colors[:len(means[i])]\n",
    "        ax.bar(np.arange(len(means[i])), means[i], yerr = errors[i], capsize = 10, width = 1, color = subplot_colors)\n",
    "        ax.set_xticks(np.arange(len(means[i])))\n",
    "        ax.set_xticklabels(all_labels[i], fontsize = 14) #, weight = 'bold')\n",
    "        #ax.tick_params(axis = 'x', rotation = 45)  # rotate labels by 45 degrees to save space\n",
    "        #ax.set_title(subtitles[i], fontsize = 14, weight = 'bold')\n",
    "        ax.set_ylim(min_y, max_y)  # align y-axis limits\n",
    "        ax.axhline(0, color = 'black', linewidth = 1, linestyle = '--')  # line at y=0\n",
    "        \n",
    "        # automatically set a maximum of y-ticks\n",
    "        ax.yaxis.set_major_locator(MaxNLocator(nbins = 4))\n",
    "        \n",
    "        # only set the y-label for the first plot in each row\n",
    "        if i % n_cols == 0:\n",
    "            #ax.set_ylabel('Mean Wh-Licensing Interaction', fontsize = 9)\n",
    "            ax.set_ylabel('')\n",
    "\n",
    "        # remove y-axis labels for non-first plots in a row\n",
    "        if i % n_cols != 0:\n",
    "            ax.set_ylabel('')\n",
    "\n",
    "        # ensure ticks appear on the left y-axis for the first plot in each row\n",
    "        if i % n_cols == 0:\n",
    "            ax.tick_params(axis = 'y', labelsize = 14, labelleft = True)\n",
    "        else:\n",
    "            ax.tick_params(axis = 'y', labelleft = False)\n",
    "\n",
    "    # adjust layout to prevent overlap\n",
    "    #fig.suptitle(title, fontsize = 18)\n",
    "    plt.tight_layout()\n",
    "    plt.subplots_adjust(top = 0.85)  # adjust the position of the overall title\n",
    "    plt.show()"
   ]
  },
  {
   "cell_type": "markdown",
   "id": "8fee4669",
   "metadata": {},
   "source": [
    "#### Gap Distance"
   ]
  },
  {
   "cell_type": "code",
   "execution_count": 9,
   "id": "92540bbb",
   "metadata": {},
   "outputs": [],
   "source": [
    "sentence_df = pd.read_csv('test_sentences/Gap Distance.csv')\n",
    "sentence_df['gap_distance'] = sentence_df['gap_distance'].fillna('null')\n",
    "#sentence_df['gap_distance'].dropna(inplace = True)\n",
    "#sentence_df = sentence_df[sentence_df['gap_distance'].replace(['nan', 'NaN'], np.nan).notna()]"
   ]
  },
  {
   "cell_type": "code",
   "execution_count": 10,
   "id": "6b2ce685",
   "metadata": {},
   "outputs": [],
   "source": [
    "sentence_df[['temp_mod', 'end']] = sentence_df['temp_mod'].apply(split_ends)\n",
    "sentence_df = encode_wh_licensor(sentence_df)\n",
    "sentence_df['gap_numeric'] = sentence_df['gap'].replace(0, -1)\n",
    "syntactic_parts = ['prefix', 'licensor', 'subj', 'modifier', 'verb', 'object', 'prep', 'goal', 'temp_mod']\n",
    "sentence_df['sentence'] = sentence_df.apply(lambda x: merge_sentence(x, syntactic_parts), axis = 1)\n",
    "sentence_df['surprisals_gpt2_10m'] = sentence_df['sentence'].apply(lambda x: calculate_surprisal(lm_scorer_gpt2_10m, x))\n",
    "sentence_df['surprisals_gpt2_100m'] = sentence_df['sentence'].apply(lambda x: calculate_surprisal(lm_scorer_gpt2_100m, x))\n",
    "sentence_df['surprisals_babylm_10m'] = sentence_df['sentence'].apply(lambda x: calculate_surprisal(lm_scorer_babylm_10m, x))\n",
    "sentence_df['surprisals_babylm_100m'] = sentence_df['sentence'].apply(lambda x: calculate_surprisal(lm_scorer_babylm_100m, x))\n",
    "sentence_df['surprisals_gpt2'] = sentence_df['sentence'].apply(lambda x: calculate_surprisal(lm_scorer_gpt2, x))"
   ]
  },
  {
   "cell_type": "markdown",
   "id": "0e7be216",
   "metadata": {},
   "source": [
    "Gap Position == Object"
   ]
  },
  {
   "cell_type": "code",
   "execution_count": 11,
   "id": "c73282f4",
   "metadata": {},
   "outputs": [],
   "source": [
    "# modifier: short_mod, med_mod, long_mod"
   ]
  },
  {
   "cell_type": "code",
   "execution_count": 12,
   "id": "d2de69a3",
   "metadata": {},
   "outputs": [],
   "source": [
    "object_df = sentence_df.copy()\n",
    "#object_df['region_surprisal_10m'] = object_df.apply(lambda x: sum_region_surprisal(x, 'surprisals_10m', ['prep', 'goal'], 'object'), axis = 1)\n",
    "#object_df['region_surprisal_100m'] = object_df.apply(lambda x: sum_region_surprisal(x, 'surprisals_100m', ['prep', 'goal'], 'object'), axis = 1)\n",
    "object_df['region_surprisal_gpt2_10m'] = object_df.apply(lambda x: sum_region_surprisal(x, 'surprisals_gpt2_10m', ['prep', 'goal'], 'object'), axis = 1)\n",
    "object_df['region_surprisal_gpt2_100m'] = object_df.apply(lambda x: sum_region_surprisal(x, 'surprisals_gpt2_100m', ['prep', 'goal'], 'object'), axis = 1)\n",
    "object_df['region_surprisal_babylm_10m'] = object_df.apply(lambda x: sum_region_surprisal(x, 'surprisals_babylm_10m', ['prep', 'goal'], 'object'), axis = 1)\n",
    "object_df['region_surprisal_babylm_100m'] = object_df.apply(lambda x: sum_region_surprisal(x, 'surprisals_babylm_100m', ['prep', 'goal'], 'object'), axis = 1)\n",
    "object_df['region_surprisal_gpt2'] = object_df.apply(lambda x: sum_region_surprisal(x, 'surprisals_gpt2', ['prep', 'goal'], 'object'), axis = 1)\n",
    "\n",
    "# filter for object gap\n",
    "objectgap_df = object_df[object_df['gap_position'] == 'DO']"
   ]
  },
  {
   "cell_type": "code",
   "execution_count": 13,
   "id": "737c38e5",
   "metadata": {},
   "outputs": [],
   "source": [
    "null_df = objectgap_df[(objectgap_df['gap_distance'] == 'null')]\n",
    "short_df = objectgap_df[(objectgap_df['gap_distance'] == 'short')]\n",
    "medium_df = objectgap_df[(objectgap_df['gap_distance'] == 'medium')]\n",
    "long_df = objectgap_df[(objectgap_df['gap_distance'] == 'long')]\n",
    "null_gpt2_10m = compute_wh_licensing_interaction(null_df, 'region_surprisal_gpt2_10m')\n",
    "short_gpt2_10m = compute_wh_licensing_interaction(short_df, 'region_surprisal_gpt2_10m')\n",
    "medium_gpt2_10m = compute_wh_licensing_interaction(medium_df, 'region_surprisal_gpt2_10m')\n",
    "long_gpt2_10m = compute_wh_licensing_interaction(long_df, 'region_surprisal_gpt2_10m')\n",
    "null_gpt2_100m = compute_wh_licensing_interaction(null_df, 'region_surprisal_gpt2_100m')\n",
    "short_gpt2_100m = compute_wh_licensing_interaction(short_df, 'region_surprisal_gpt2_100m')\n",
    "medium_gpt2_100m = compute_wh_licensing_interaction(medium_df, 'region_surprisal_gpt2_100m')\n",
    "long_gpt2_100m = compute_wh_licensing_interaction(long_df, 'region_surprisal_gpt2_100m')\n",
    "null_babylm_10m = compute_wh_licensing_interaction(null_df, 'region_surprisal_babylm_10m')\n",
    "short_babylm_10m = compute_wh_licensing_interaction(short_df, 'region_surprisal_babylm_10m')\n",
    "medium_babylm_10m = compute_wh_licensing_interaction(medium_df, 'region_surprisal_babylm_10m')\n",
    "long_babylm_10m = compute_wh_licensing_interaction(long_df, 'region_surprisal_babylm_10m')\n",
    "null_babylm_100m = compute_wh_licensing_interaction(null_df, 'region_surprisal_babylm_100m')\n",
    "short_babylm_100m = compute_wh_licensing_interaction(short_df, 'region_surprisal_babylm_100m')\n",
    "medium_babylm_100m = compute_wh_licensing_interaction(medium_df, 'region_surprisal_babylm_100m')\n",
    "long_babylm_100m = compute_wh_licensing_interaction(long_df, 'region_surprisal_babylm_100m')\n",
    "null_gpt2 = compute_wh_licensing_interaction(null_df, 'region_surprisal_gpt2')\n",
    "short_gpt2 = compute_wh_licensing_interaction(short_df, 'region_surprisal_gpt2')\n",
    "medium_gpt2 = compute_wh_licensing_interaction(medium_df, 'region_surprisal_gpt2')\n",
    "long_gpt2 = compute_wh_licensing_interaction(long_df, 'region_surprisal_gpt2')"
   ]
  },
  {
   "cell_type": "code",
   "execution_count": 14,
   "id": "5d8bec21",
   "metadata": {
    "scrolled": true
   },
   "outputs": [
    {
     "data": {
      "image/png": "[encoded data removed]",
      "text/plain": [
       "<Figure size 1368x273.6 with 5 Axes>"
      ]
     },
     "metadata": {
      "needs_background": "light"
     },
     "output_type": "display_data"
    }
   ],
   "source": [
    "df_list_gpt2_10m = [null_gpt2_10m, short_gpt2_10m, medium_gpt2_10m, long_gpt2_10m]\n",
    "df_list_gpt2_100m = [null_gpt2_100m, short_gpt2_100m, medium_gpt2_100m, long_gpt2_100m]\n",
    "df_list_babylm_10m = [null_babylm_10m, short_babylm_10m, medium_babylm_10m, long_babylm_10m]\n",
    "df_list_babylm_100m = [null_babylm_100m, short_babylm_100m, medium_babylm_100m, long_babylm_100m]\n",
    "df_list_gpt2 = [null_gpt2, short_gpt2, medium_gpt2, long_gpt2]\n",
    "df_lists = [df_list_gpt2_10m, df_list_gpt2_100m, df_list_babylm_10m, df_list_babylm_100m, df_list_gpt2]\n",
    "subtitles = ['GPT2-10M', 'GPT2-100M', 'ConcreteGPT', 'BabbleGPT', 'GPT2']\n",
    "labels = ['null', 'short', 'medium', 'long']\n",
    "title = 'Gap Distance (Object Gap): Post-Gap Region'\n",
    "plot_wh_licensing_interaction(df_lists, subtitles, labels, title)"
   ]
  },
  {
   "cell_type": "code",
   "execution_count": 15,
   "id": "591c49eb",
   "metadata": {},
   "outputs": [
    {
     "data": {
      "image/png": "[encoded data removed]",
      "text/plain": [
       "<Figure size 547.2x273.6 with 2 Axes>"
      ]
     },
     "metadata": {
      "needs_background": "light"
     },
     "output_type": "display_data"
    }
   ],
   "source": [
    "# if we want to look at only two models at a time\n",
    "df_list_gpt2_10m = [null_gpt2_10m, short_gpt2_10m, medium_gpt2_10m, long_gpt2_10m]\n",
    "df_list_gpt2_100m = [null_gpt2_100m, short_gpt2_100m, medium_gpt2_100m, long_gpt2_100m]\n",
    "df_lists = [df_list_gpt2_10m, df_list_gpt2_100m]\n",
    "subtitles = ['GPT2-10M', 'GPT2-100M']\n",
    "labels = ['null', 'short', 'medium', 'long']\n",
    "title = 'Gap Distance (Object Gap): Post-Gap Region'\n",
    "plot_wh_licensing_interaction(df_lists, subtitles, labels, title)"
   ]
  },
  {
   "cell_type": "markdown",
   "id": "88662ed9",
   "metadata": {},
   "source": [
    "Gap Postion == PP/Goal"
   ]
  },
  {
   "cell_type": "code",
   "execution_count": 16,
   "id": "76bf5195",
   "metadata": {},
   "outputs": [],
   "source": [
    "pp_df = sentence_df.copy()\n",
    "pp_df['region_surprisal_gpt2_10m'] = pp_df.apply(lambda x: sum_region_surprisal(x, 'surprisals_gpt2_10m', ['temp_mod'], 'goal'), axis = 1)\n",
    "pp_df['region_surprisal_gpt2_100m'] = pp_df.apply(lambda x: sum_region_surprisal(x, 'surprisals_gpt2_100m', ['temp_mod'], 'goal'), axis = 1)\n",
    "pp_df['region_surprisal_babylm_10m'] = pp_df.apply(lambda x: sum_region_surprisal(x, 'surprisals_babylm_10m', ['temp_mod'], 'goal'), axis = 1)\n",
    "pp_df['region_surprisal_babylm_100m'] = pp_df.apply(lambda x: sum_region_surprisal(x, 'surprisals_babylm_100m', ['temp_mod'], 'goal'), axis = 1)\n",
    "pp_df['region_surprisal_gpt2'] = pp_df.apply(lambda x: sum_region_surprisal(x, 'surprisals_gpt2', ['temp_mod'], 'goal'), axis = 1)\n",
    "\n",
    "# filter for PP gap\n",
    "ppgap_df = pp_df[pp_df['gap_position'] == 'IO']"
   ]
  },
  {
   "cell_type": "code",
   "execution_count": 17,
   "id": "6e8e5c25",
   "metadata": {},
   "outputs": [],
   "source": [
    "null_df = ppgap_df[(ppgap_df['gap_distance'] == 'null')]\n",
    "short_df = ppgap_df[(ppgap_df['gap_distance'] == 'short')]\n",
    "medium_df = ppgap_df[(ppgap_df['gap_distance'] == 'medium')]\n",
    "long_df = ppgap_df[(ppgap_df['gap_distance'] == 'long')]\n",
    "null_gpt2_10m = compute_wh_licensing_interaction(null_df, 'region_surprisal_gpt2_10m')\n",
    "short_gpt2_10m = compute_wh_licensing_interaction(short_df, 'region_surprisal_gpt2_10m')\n",
    "medium_gpt2_10m = compute_wh_licensing_interaction(medium_df, 'region_surprisal_gpt2_10m')\n",
    "long_gpt2_10m = compute_wh_licensing_interaction(long_df, 'region_surprisal_gpt2_10m')\n",
    "null_gpt2_100m = compute_wh_licensing_interaction(null_df, 'region_surprisal_gpt2_100m')\n",
    "short_gpt2_100m = compute_wh_licensing_interaction(short_df, 'region_surprisal_gpt2_100m')\n",
    "medium_gpt2_100m = compute_wh_licensing_interaction(medium_df, 'region_surprisal_gpt2_100m')\n",
    "long_gpt2_100m = compute_wh_licensing_interaction(long_df, 'region_surprisal_gpt2_100m')\n",
    "null_babylm_10m = compute_wh_licensing_interaction(null_df, 'region_surprisal_babylm_10m')\n",
    "short_babylm_10m = compute_wh_licensing_interaction(short_df, 'region_surprisal_babylm_10m')\n",
    "medium_babylm_10m = compute_wh_licensing_interaction(medium_df, 'region_surprisal_babylm_10m')\n",
    "long_babylm_10m = compute_wh_licensing_interaction(long_df, 'region_surprisal_babylm_10m')\n",
    "null_babylm_100m = compute_wh_licensing_interaction(null_df, 'region_surprisal_babylm_100m')\n",
    "short_babylm_100m = compute_wh_licensing_interaction(short_df, 'region_surprisal_babylm_100m')\n",
    "medium_babylm_100m = compute_wh_licensing_interaction(medium_df, 'region_surprisal_babylm_100m')\n",
    "long_babylm_100m = compute_wh_licensing_interaction(long_df, 'region_surprisal_babylm_100m')\n",
    "null_gpt2 = compute_wh_licensing_interaction(null_df, 'region_surprisal_gpt2')\n",
    "short_gpt2 = compute_wh_licensing_interaction(short_df, 'region_surprisal_gpt2')\n",
    "medium_gpt2 = compute_wh_licensing_interaction(medium_df, 'region_surprisal_gpt2')\n",
    "long_gpt2 = compute_wh_licensing_interaction(long_df, 'region_surprisal_gpt2')"
   ]
  },
  {
   "cell_type": "code",
   "execution_count": 18,
   "id": "29cb403a",
   "metadata": {},
   "outputs": [
    {
     "data": {
      "image/png": "[encoded data removed]",
      "text/plain": [
       "<Figure size 1368x273.6 with 5 Axes>"
      ]
     },
     "metadata": {
      "needs_background": "light"
     },
     "output_type": "display_data"
    }
   ],
   "source": [
    "df_list_gpt2_10m = [null_gpt2_10m, short_gpt2_10m, medium_gpt2_10m, long_gpt2_10m]\n",
    "df_list_gpt2_100m = [null_gpt2_100m, short_gpt2_100m, medium_gpt2_100m, long_gpt2_100m]\n",
    "df_list_babylm_10m = [null_babylm_10m, short_babylm_10m, medium_babylm_10m, long_babylm_10m]\n",
    "df_list_babylm_100m = [null_babylm_100m, short_babylm_100m, medium_babylm_100m, long_babylm_100m]\n",
    "df_list_gpt2 = [null_gpt2, short_gpt2, medium_gpt2, long_gpt2]\n",
    "df_lists = [df_list_gpt2_10m, df_list_gpt2_100m, df_list_babylm_10m, df_list_babylm_100m, df_list_gpt2]\n",
    "subtitles = ['GPT2-10M', 'GPT2-100M', 'ConcreteGPT', 'BabbleGPT', 'GPT2']\n",
    "labels = ['null', 'short', 'medium', 'long']\n",
    "title = 'Gap Distance (PP Gap): Post-Gap Region'\n",
    "plot_wh_licensing_interaction(df_lists, subtitles, labels, title)"
   ]
  },
  {
   "cell_type": "code",
   "execution_count": 19,
   "id": "359fdd14",
   "metadata": {},
   "outputs": [
    {
     "data": {
      "image/png": "[encoded data removed]",
      "text/plain": [
       "<Figure size 547.2x273.6 with 2 Axes>"
      ]
     },
     "metadata": {
      "needs_background": "light"
     },
     "output_type": "display_data"
    }
   ],
   "source": [
    "# if we want to look at only two models at a time\n",
    "df_list_gpt2_10m = [null_gpt2_10m, short_gpt2_10m, medium_gpt2_10m, long_gpt2_10m]\n",
    "df_list_gpt2_100m = [null_gpt2_100m, short_gpt2_100m, medium_gpt2_100m, long_gpt2_100m]\n",
    "df_lists = [df_list_gpt2_10m, df_list_gpt2_100m]\n",
    "subtitles = ['GPT2-10M', 'GPT2-100M']\n",
    "labels = ['null', 'short', 'medium', 'long']\n",
    "title = 'Gap Distance (PP Gap: Post-Gap Region)'\n",
    "plot_wh_licensing_interaction(df_lists, subtitles, labels, title)"
   ]
  },
  {
   "cell_type": "markdown",
   "id": "ae6a9ac5",
   "metadata": {},
   "source": [
    "Embedded Clause"
   ]
  },
  {
   "cell_type": "code",
   "execution_count": 20,
   "id": "5edc5b28",
   "metadata": {},
   "outputs": [],
   "source": [
    "embed = ['subj', 'modifier', 'verb', 'object', 'prep', 'goal', 'temp_mod', 'end']\n",
    "sentence_df['embed_surprisal_gpt2_10m'] = sentence_df.apply(lambda x: sum_region_surprisal(x, 'surprisals_gpt2_10m', embed, normalize = True), axis = 1)\n",
    "sentence_df['embed_surprisal_gpt2_100m'] = sentence_df.apply(lambda x: sum_region_surprisal(x, 'surprisals_gpt2_100m', embed, normalize = True), axis = 1)\n",
    "sentence_df['embed_surprisal_babylm_10m'] = sentence_df.apply(lambda x: sum_region_surprisal(x, 'surprisals_babylm_10m', embed, normalize = True), axis = 1)\n",
    "sentence_df['embed_surprisal_babylm_100m'] = sentence_df.apply(lambda x: sum_region_surprisal(x, 'surprisals_babylm_100m', embed, normalize = True), axis = 1)\n",
    "sentence_df['embed_surprisal_gpt2'] = sentence_df.apply(lambda x: sum_region_surprisal(x, 'surprisals_gpt2', embed, normalize = True), axis = 1)"
   ]
  },
  {
   "cell_type": "markdown",
   "id": "bb1cad40",
   "metadata": {},
   "source": [
    "Embedded Clause - Object Gap Position"
   ]
  },
  {
   "cell_type": "code",
   "execution_count": 21,
   "id": "f93ef104",
   "metadata": {},
   "outputs": [],
   "source": [
    "# filter for object gap\n",
    "embed_objectgap_df = sentence_df[sentence_df['gap_position'] == 'DO']"
   ]
  },
  {
   "cell_type": "code",
   "execution_count": 22,
   "id": "a0ccdfd2",
   "metadata": {},
   "outputs": [],
   "source": [
    "null_df = embed_objectgap_df[(embed_objectgap_df['gap_distance'] == 'null')]\n",
    "short_df = embed_objectgap_df[(embed_objectgap_df['gap_distance'] == 'short')]\n",
    "medium_df = embed_objectgap_df[(embed_objectgap_df['gap_distance'] == 'medium')]\n",
    "long_df = embed_objectgap_df[(embed_objectgap_df['gap_distance'] == 'long')]\n",
    "null_gpt2_10m = compute_wh_licensing_interaction(null_df, 'embed_surprisal_gpt2_10m')\n",
    "short_gpt2_10m = compute_wh_licensing_interaction(short_df, 'embed_surprisal_gpt2_10m')\n",
    "medium_gpt2_10m = compute_wh_licensing_interaction(medium_df, 'embed_surprisal_gpt2_10m')\n",
    "long_gpt2_10m = compute_wh_licensing_interaction(long_df, 'embed_surprisal_gpt2_10m')\n",
    "null_gpt2_100m = compute_wh_licensing_interaction(null_df, 'embed_surprisal_gpt2_100m')\n",
    "short_gpt2_100m = compute_wh_licensing_interaction(short_df, 'embed_surprisal_gpt2_100m')\n",
    "medium_gpt2_100m = compute_wh_licensing_interaction(medium_df, 'embed_surprisal_gpt2_100m')\n",
    "long_gpt2_100m = compute_wh_licensing_interaction(long_df, 'embed_surprisal_gpt2_100m')\n",
    "null_babylm_10m = compute_wh_licensing_interaction(null_df, 'embed_surprisal_babylm_10m')\n",
    "short_babylm_10m = compute_wh_licensing_interaction(short_df, 'embed_surprisal_babylm_10m')\n",
    "medium_babylm_10m = compute_wh_licensing_interaction(medium_df, 'embed_surprisal_babylm_10m')\n",
    "long_babylm_10m = compute_wh_licensing_interaction(long_df, 'embed_surprisal_babylm_10m')\n",
    "null_babylm_100m = compute_wh_licensing_interaction(null_df, 'embed_surprisal_babylm_100m')\n",
    "short_babylm_100m = compute_wh_licensing_interaction(short_df, 'embed_surprisal_babylm_100m')\n",
    "medium_babylm_100m = compute_wh_licensing_interaction(medium_df, 'embed_surprisal_babylm_100m')\n",
    "long_babylm_100m = compute_wh_licensing_interaction(long_df, 'embed_surprisal_babylm_100m')\n",
    "null_gpt2 = compute_wh_licensing_interaction(null_df, 'embed_surprisal_gpt2')\n",
    "short_gpt2 = compute_wh_licensing_interaction(short_df, 'embed_surprisal_gpt2')\n",
    "medium_gpt2 = compute_wh_licensing_interaction(medium_df, 'embed_surprisal_gpt2')\n",
    "long_gpt2 = compute_wh_licensing_interaction(long_df, 'embed_surprisal_gpt2')"
   ]
  },
  {
   "cell_type": "code",
   "execution_count": 23,
   "id": "7fe161b9",
   "metadata": {},
   "outputs": [
    {
     "data": {
      "image/png": "[encoded data removed]",
      "text/plain": [
       "<Figure size 1368x273.6 with 5 Axes>"
      ]
     },
     "metadata": {
      "needs_background": "light"
     },
     "output_type": "display_data"
    }
   ],
   "source": [
    "df_list_gpt2_10m = [null_gpt2_10m, short_gpt2_10m, medium_gpt2_10m, long_gpt2_10m]\n",
    "df_list_gpt2_100m = [null_gpt2_100m, short_gpt2_100m, medium_gpt2_100m, long_gpt2_100m]\n",
    "df_list_babylm_10m = [null_babylm_10m, short_babylm_10m, medium_babylm_10m, long_babylm_10m]\n",
    "df_list_babylm_100m = [null_babylm_100m, short_babylm_100m, medium_babylm_100m, long_babylm_100m]\n",
    "df_list_gpt2 = [null_gpt2, short_gpt2, medium_gpt2, long_gpt2]\n",
    "df_lists = [df_list_gpt2_10m, df_list_gpt2_100m, df_list_babylm_10m, df_list_babylm_100m, df_list_gpt2]\n",
    "subtitles = ['GPT2-10M', 'GPT2-100M', 'ConcreteGPT', 'BabbleGPT', 'GPT2']\n",
    "labels = ['null', 'short', 'medium', 'long']\n",
    "title = 'Gap Distance (Object Gap): Embedded Clause'\n",
    "plot_wh_licensing_interaction(df_lists, subtitles, labels, title)"
   ]
  },
  {
   "cell_type": "code",
   "execution_count": 24,
   "id": "f1f5a11b",
   "metadata": {},
   "outputs": [
    {
     "data": {
      "image/png": "[encoded data removed]",
      "text/plain": [
       "<Figure size 547.2x273.6 with 2 Axes>"
      ]
     },
     "metadata": {
      "needs_background": "light"
     },
     "output_type": "display_data"
    }
   ],
   "source": [
    "# if we want to look at only two models at a time\n",
    "df_list_gpt2_10m = [null_gpt2_10m, short_gpt2_10m, medium_gpt2_10m, long_gpt2_10m]\n",
    "df_list_gpt2_100m = [null_gpt2_100m, short_gpt2_100m, medium_gpt2_100m, long_gpt2_100m]\n",
    "df_lists = [df_list_gpt2_10m, df_list_gpt2_100m]\n",
    "subtitles = ['GPT2-10M', 'GPT2-100M']\n",
    "labels = ['null', 'short', 'medium', 'long']\n",
    "title = 'Gap Distance (Object Gap): Embedded Clause'\n",
    "plot_wh_licensing_interaction(df_lists, subtitles, labels, title)"
   ]
  },
  {
   "cell_type": "markdown",
   "id": "5537a5f1",
   "metadata": {},
   "source": [
    "Embedded Clause - PP/Goal Gap Position"
   ]
  },
  {
   "cell_type": "code",
   "execution_count": 25,
   "id": "07b00063",
   "metadata": {},
   "outputs": [],
   "source": [
    "# filter for PP gap\n",
    "embed_ppgap_df = sentence_df[sentence_df['gap_position'] == 'IO']"
   ]
  },
  {
   "cell_type": "code",
   "execution_count": 26,
   "id": "f2323dea",
   "metadata": {},
   "outputs": [],
   "source": [
    "null_df = embed_ppgap_df[(embed_ppgap_df['gap_distance'] == 'null')]\n",
    "short_df = embed_ppgap_df[(embed_ppgap_df['gap_distance'] == 'short')]\n",
    "medium_df = embed_ppgap_df[(embed_ppgap_df['gap_distance'] == 'medium')]\n",
    "long_df = embed_ppgap_df[(embed_ppgap_df['gap_distance'] == 'long')]\n",
    "null_gpt2_10m = compute_wh_licensing_interaction(null_df, 'embed_surprisal_gpt2_10m')\n",
    "short_gpt2_10m = compute_wh_licensing_interaction(short_df, 'embed_surprisal_gpt2_10m')\n",
    "medium_gpt2_10m = compute_wh_licensing_interaction(medium_df, 'embed_surprisal_gpt2_10m')\n",
    "long_gpt2_10m = compute_wh_licensing_interaction(long_df, 'embed_surprisal_gpt2_10m')\n",
    "null_gpt2_100m = compute_wh_licensing_interaction(null_df, 'embed_surprisal_gpt2_100m')\n",
    "short_gpt2_100m = compute_wh_licensing_interaction(short_df, 'embed_surprisal_gpt2_100m')\n",
    "medium_gpt2_100m = compute_wh_licensing_interaction(medium_df, 'embed_surprisal_gpt2_100m')\n",
    "long_gpt2_100m = compute_wh_licensing_interaction(long_df, 'embed_surprisal_gpt2_100m')\n",
    "null_babylm_10m = compute_wh_licensing_interaction(null_df, 'embed_surprisal_babylm_10m')\n",
    "short_babylm_10m = compute_wh_licensing_interaction(short_df, 'embed_surprisal_babylm_10m')\n",
    "medium_babylm_10m = compute_wh_licensing_interaction(medium_df, 'embed_surprisal_babylm_10m')\n",
    "long_babylm_10m = compute_wh_licensing_interaction(long_df, 'embed_surprisal_babylm_10m')\n",
    "null_babylm_100m = compute_wh_licensing_interaction(null_df, 'embed_surprisal_babylm_100m')\n",
    "short_babylm_100m = compute_wh_licensing_interaction(short_df, 'embed_surprisal_babylm_100m')\n",
    "medium_babylm_100m = compute_wh_licensing_interaction(medium_df, 'embed_surprisal_babylm_100m')\n",
    "long_babylm_100m = compute_wh_licensing_interaction(long_df, 'embed_surprisal_babylm_100m')\n",
    "null_gpt2 = compute_wh_licensing_interaction(null_df, 'embed_surprisal_gpt2')\n",
    "short_gpt2 = compute_wh_licensing_interaction(short_df, 'embed_surprisal_gpt2')\n",
    "medium_gpt2 = compute_wh_licensing_interaction(medium_df, 'embed_surprisal_gpt2')\n",
    "long_gpt2 = compute_wh_licensing_interaction(long_df, 'embed_surprisal_gpt2')"
   ]
  },
  {
   "cell_type": "code",
   "execution_count": 27,
   "id": "88c56b6d",
   "metadata": {},
   "outputs": [
    {
     "data": {
      "image/png": "[encoded data removed]",
      "text/plain": [
       "<Figure size 1368x273.6 with 5 Axes>"
      ]
     },
     "metadata": {
      "needs_background": "light"
     },
     "output_type": "display_data"
    }
   ],
   "source": [
    "df_list_gpt2_10m = [null_gpt2_10m, short_gpt2_10m, medium_gpt2_10m, long_gpt2_10m]\n",
    "df_list_gpt2_100m = [null_gpt2_100m, short_gpt2_100m, medium_gpt2_100m, long_gpt2_100m]\n",
    "df_list_babylm_10m = [null_babylm_10m, short_babylm_10m, medium_babylm_10m, long_babylm_10m]\n",
    "df_list_babylm_100m = [null_babylm_100m, short_babylm_100m, medium_babylm_100m, long_babylm_100m]\n",
    "df_list_gpt2 = [null_gpt2, short_gpt2, medium_gpt2, long_gpt2]\n",
    "df_lists = [df_list_gpt2_10m, df_list_gpt2_100m, df_list_babylm_10m, df_list_babylm_100m, df_list_gpt2]\n",
    "subtitles = ['GPT2-10M', 'GPT2-100M', 'ConcreteGPT', 'BabbleGPT', 'GPT2']\n",
    "labels = ['null', 'short', 'medium', 'long']\n",
    "title = 'Gap Distance (PP Gap): Embedded Clause'\n",
    "plot_wh_licensing_interaction(df_lists, subtitles, labels, title)"
   ]
  },
  {
   "cell_type": "code",
   "execution_count": 28,
   "id": "9553d7d6",
   "metadata": {},
   "outputs": [
    {
     "data": {
      "image/png": "[encoded data removed]",
      "text/plain": [
       "<Figure size 547.2x273.6 with 2 Axes>"
      ]
     },
     "metadata": {
      "needs_background": "light"
     },
     "output_type": "display_data"
    }
   ],
   "source": [
    "# if we want to look at only two models at a time\n",
    "df_list_gpt2_10m = [null_gpt2_10m, short_gpt2_10m, medium_gpt2_10m, long_gpt2_10m]\n",
    "df_list_gpt2_100m = [null_gpt2_100m, short_gpt2_100m, medium_gpt2_100m, long_gpt2_100m]\n",
    "df_lists = [df_list_gpt2_10m, df_list_gpt2_100m]\n",
    "subtitles = ['GPT2-10M', 'GPT2-100M']\n",
    "labels = ['null', 'short', 'medium', 'long']\n",
    "title = 'Gap Distance (PP Gap): Embedded Clause'\n",
    "plot_wh_licensing_interaction(df_lists, subtitles, labels, title)"
   ]
  },
  {
   "cell_type": "markdown",
   "id": "3330747a",
   "metadata": {},
   "source": [
    "#### Double Gaps"
   ]
  },
  {
   "cell_type": "code",
   "execution_count": 29,
   "id": "325fca38",
   "metadata": {},
   "outputs": [],
   "source": [
    "from scipy.stats import sem\n",
    "\n",
    "def plot_surprisals(df_list, column_list, subtitles, labels, title):\n",
    "    '''\n",
    "    Plots multiple sets of mean surprisals in separate subplots for each model.\n",
    "\n",
    "    Args:\n",
    "        df_list: List of DataFrames, each containing columns recording results from different subtypes for each model.\n",
    "        column_list: List of model names or columns in each DataFrame representing different models' surprisal values.\n",
    "        subtitles: List of titles for each model subplot (same length as column_list).\n",
    "        labels: List of labels corresponding to each DataFrame (subtypes).\n",
    "        title: Title for the entire figure.\n",
    "    '''\n",
    "    \n",
    "    # check if the number of column_list matches the number of subtitles\n",
    "    if len(column_list) != len(subtitles):\n",
    "        raise ValueError(\"column_list and subtitles must have the same length.\")\n",
    "    \n",
    "    means = []\n",
    "    errors = []\n",
    "    all_labels = []\n",
    "\n",
    "    # colors for each subplot (will cycle if more than 10 subplots)\n",
    "    colors = plt.cm.tab10.colors  # distinct colors for each set of DataFrames\n",
    "\n",
    "    # iterate over each model (from column_list) to compute means and errors\n",
    "    for column in column_list:\n",
    "        means_set, errors_set = [], []\n",
    "        \n",
    "        for df in df_list:\n",
    "            mean_effect = df[column].mean()\n",
    "            stderr = sem(df[column])\n",
    "            means_set.append(mean_effect)\n",
    "            errors_set.append(1.96 * stderr)  # 95% CI\n",
    "\n",
    "        means.append(means_set)\n",
    "        errors.append(errors_set)\n",
    "        all_labels.append(labels[:len(df_list)])  # add the appropriate labels for each group\n",
    "\n",
    "    # calculate common y-limits based on all the plots to align the zero line\n",
    "    min_y = min([m - e for means_set, errors_set in zip(means, errors) for m, e in zip(means_set, errors_set)])\n",
    "    max_y = max([m + e for means_set, errors_set in zip(means, errors) for m, e in zip(means_set, errors_set)])\n",
    "\n",
    "    # dynamically determine the grid size for subplots\n",
    "    n_plots = len(column_list)  # number of models\n",
    "    n_cols = len(column_list)  # number of columns in the subplot grid\n",
    "    n_rows = int(np.ceil(n_plots / n_cols))  # calculate rows based on the number of plots\n",
    "\n",
    "    fig, axes = plt.subplots(n_rows, n_cols, figsize=(n_cols * 3, n_rows * 3))  # create dynamic grid of subplots\n",
    "    axes = axes.flatten()  # flatten the axes array for easy iteration\n",
    "    \n",
    "    # iterate through each subplot, setting up data and appearance\n",
    "    for i, ax in enumerate(axes[:n_plots]):\n",
    "        subplot_colors = colors[:len(means[i])]\n",
    "        ax.bar(np.arange(len(means[i])), means[i], yerr = errors[i], capsize = 10, color = subplot_colors)\n",
    "        ax.set_xticks(np.arange(len(means[i])))\n",
    "        ax.set_xticklabels(all_labels[i], fontsize = 14)\n",
    "        #ax.tick_params(axis = 'x', rotation = 45)  # rotate labels by 45 degrees to save space\n",
    "        ax.set_title(subtitles[i], fontsize = 14, weight = 'bold')\n",
    "        #ax.set_ylim(min_y - 1, max_y + 1)  # align y-axis limits\n",
    "        ax.set_ylim(min_y - 0.5, max_y + 0.5)  # align y-axis limits\n",
    "        ax.axhline(0, color = 'black', linewidth = 1, linestyle = '--')  # line at y=0\n",
    "        #ax.tick_params(axis = 'y', labelleft = True)\n",
    "        \n",
    "        # only set the y-label for the first plot in each row\n",
    "        if i % n_cols == 0:\n",
    "            ax.set_ylabel('Mean Surprisal (Bits)', fontsize = 14)\n",
    "\n",
    "        # remove y-axis labels for non-first plots in a row\n",
    "        if i % n_cols != 0:\n",
    "            ax.set_ylabel('')\n",
    "\n",
    "        # ensure ticks appear on the left y-axis for the first plot in each row\n",
    "        if i % n_cols == 0:\n",
    "            ax.tick_params(axis = 'y', labelsize = 14, labelleft = True)\n",
    "        else:\n",
    "            ax.tick_params(axis = 'y', labelleft = False)\n",
    "\n",
    "    # adjust layout to prevent overlap\n",
    "    #fig.suptitle(title, fontsize = 18)\n",
    "    plt.tight_layout()\n",
    "    plt.subplots_adjust(top = 0.85)  # adjust the position of the overall title\n",
    "    plt.show()"
   ]
  },
  {
   "cell_type": "code",
   "execution_count": 30,
   "id": "f846369b",
   "metadata": {},
   "outputs": [],
   "source": [
    "sentence_df = pd.read_csv('test_sentences/Double Gaps.csv')"
   ]
  },
  {
   "cell_type": "code",
   "execution_count": 31,
   "id": "80cd58c5",
   "metadata": {},
   "outputs": [],
   "source": [
    "sentence_df[['modifier', 'end']] = sentence_df['modifier'].apply(split_ends)\n",
    "sentence_df = encode_wh_licensor(sentence_df)\n",
    "sentence_df['gap_numeric'] = sentence_df['gap'].replace(0, -1)\n",
    "syntactic_parts = ['prefix', 'licensor', 'subj', 'verb', 'object', 'modifier']\n",
    "sentence_df['sentence'] = sentence_df.apply(lambda x: merge_sentence(x, syntactic_parts), axis = 1)\n",
    "sentence_df['gap_count'] = sentence_df['subject_gap'] + sentence_df['object_gap']\n",
    "sentence_df['illicit_gaps'] = sentence_df['gap_count'] - sentence_df['filler']\n",
    "sentence_df['surprisals_gpt2_10m'] = sentence_df['sentence'].apply(lambda x: calculate_surprisal(lm_scorer_gpt2_10m, x))\n",
    "sentence_df['surprisals_gpt2_100m'] = sentence_df['sentence'].apply(lambda x: calculate_surprisal(lm_scorer_gpt2_100m, x))\n",
    "sentence_df['surprisals_babylm_10m'] = sentence_df['sentence'].apply(lambda x: calculate_surprisal(lm_scorer_babylm_10m, x))\n",
    "sentence_df['surprisals_babylm_100m'] = sentence_df['sentence'].apply(lambda x: calculate_surprisal(lm_scorer_babylm_100m, x))\n",
    "sentence_df['surprisals_gpt2'] = sentence_df['sentence'].apply(lambda x: calculate_surprisal(lm_scorer_gpt2, x))"
   ]
  },
  {
   "cell_type": "markdown",
   "id": "ea1270c4",
   "metadata": {},
   "source": [
    "Post-Gap Region - Modifier"
   ]
  },
  {
   "cell_type": "code",
   "execution_count": 32,
   "id": "1eb4032d",
   "metadata": {},
   "outputs": [],
   "source": [
    "#sentence_df['region_surprisal_gpt2_10m'] = sentence_df.apply(lambda x: sum_region_surprisal(x, 'surprisals_gpt2_10m', ['modifier'], 'object'), axis = 1)\n",
    "#sentence_df['region_surprisal_gpt2_100m'] = sentence_df.apply(lambda x: sum_region_surprisal(x, 'surprisals_gpt2_100m', ['modifier'], 'object'), axis = 1)\n",
    "#sentence_df['region_surprisal_babylm_10m'] = sentence_df.apply(lambda x: sum_region_surprisal(x, 'surprisals_babylm_10m', ['modifier'], 'object'), axis = 1)\n",
    "#sentence_df['region_surprisal_babylm_100m'] = sentence_df.apply(lambda x: sum_region_surprisal(x, 'surprisals_babylm_100m', ['modifier'], 'object'), axis = 1)\n",
    "#sentence_df['region_surprisal_gpt2'] = sentence_df.apply(lambda x: sum_region_surprisal(x, 'surprisals_gpt2', ['modifier'], 'object'), axis = 1)"
   ]
  },
  {
   "cell_type": "code",
   "execution_count": 33,
   "id": "012e23dd",
   "metadata": {},
   "outputs": [],
   "source": [
    "#gap_0 = sentence_df[sentence_df['illicit_gaps'] == 0]\n",
    "#gap_1 = sentence_df[sentence_df['illicit_gaps'] == 1]\n",
    "#gap_2 = sentence_df[sentence_df['illicit_gaps'] == 2]\n",
    "\n",
    "#df_list = [gap_0, gap_1, gap_2]  \n",
    "#column_list = ['region_surprisal_gpt2_10m', 'region_surprisal_gpt2_100m', 'region_surprisal_babylm_10m', 'region_surprisal_babylm_100m', 'region_surprisal_gpt2']  \n",
    "#subtitles = ['GPT2-10M', 'GPT2-100M', 'ConcreteGPT', 'BabbleGPT', 'GPT2']\n",
    "#labels = ['illicit_gaps = 0', 'illicit_gaps = 1', 'illicit_gaps = 2']  \n",
    "#title = 'Double Gaps: Post-Gap Region'\n",
    "\n",
    "#plot_surprisals(df_list, column_list, subtitles, labels, title)"
   ]
  },
  {
   "cell_type": "markdown",
   "id": "8093b5cf",
   "metadata": {},
   "source": [
    "Embedded Clause"
   ]
  },
  {
   "cell_type": "code",
   "execution_count": 34,
   "id": "a1943246",
   "metadata": {},
   "outputs": [],
   "source": [
    "embed = ['subj', 'object', 'verb', 'modifier', 'end']\n",
    "sentence_df['embed_surprisal_gpt2_10m'] = sentence_df.apply(lambda x: sum_region_surprisal(x, 'surprisals_gpt2_10m', embed, normalize = True), axis = 1)\n",
    "sentence_df['embed_surprisal_gpt2_100m'] = sentence_df.apply(lambda x: sum_region_surprisal(x, 'surprisals_gpt2_100m', embed, normalize = True), axis = 1)\n",
    "sentence_df['embed_surprisal_babylm_10m'] = sentence_df.apply(lambda x: sum_region_surprisal(x, 'surprisals_babylm_10m', embed, normalize = True), axis = 1)\n",
    "sentence_df['embed_surprisal_babylm_100m'] = sentence_df.apply(lambda x: sum_region_surprisal(x, 'surprisals_babylm_100m', embed, normalize = True), axis = 1)\n",
    "sentence_df['embed_surprisal_gpt2'] = sentence_df.apply(lambda x: sum_region_surprisal(x, 'surprisals_gpt2', embed, normalize = True), axis = 1)"
   ]
  },
  {
   "cell_type": "code",
   "execution_count": 35,
   "id": "7bbfb466",
   "metadata": {
    "scrolled": true
   },
   "outputs": [
    {
     "data": {
      "image/png": "[encoded data removed]",
      "text/plain": [
       "<Figure size 1080x216 with 5 Axes>"
      ]
     },
     "metadata": {
      "needs_background": "light"
     },
     "output_type": "display_data"
    }
   ],
   "source": [
    "gap_0 = sentence_df[sentence_df['illicit_gaps'] == 0]\n",
    "gap_1 = sentence_df[sentence_df['illicit_gaps'] == 1]\n",
    "gap_2 = sentence_df[sentence_df['illicit_gaps'] == 2]\n",
    "\n",
    "df_list = [gap_0, gap_1, gap_2]  \n",
    "column_list = ['embed_surprisal_gpt2_10m', 'embed_surprisal_gpt2_100m', 'embed_surprisal_babylm_10m', 'embed_surprisal_babylm_100m', 'embed_surprisal_gpt2']  \n",
    "subtitles = ['GPT2-10M', 'GPT2-100M', 'ConcreteGPT', 'BabbleGPT', 'GPT2']\n",
    "labels = ['0', '1', '2']  \n",
    "title = 'Double Gaps: Embedded Clause'\n",
    "\n",
    "plot_surprisals(df_list, column_list, subtitles, labels, title)"
   ]
  },
  {
   "cell_type": "markdown",
   "id": "88490c4f",
   "metadata": {},
   "source": [
    "#### Wh-Islands"
   ]
  },
  {
   "cell_type": "code",
   "execution_count": 36,
   "id": "402f34e8",
   "metadata": {},
   "outputs": [],
   "source": [
    "sentence_df = pd.read_csv('test_sentences/Wh-Islands.csv')\n",
    "sentence_df['comp_type'] = sentence_df['comp_type'].fillna('null')"
   ]
  },
  {
   "cell_type": "code",
   "execution_count": 37,
   "id": "d7712128",
   "metadata": {},
   "outputs": [],
   "source": [
    "sentence_df[['cont', 'end']] = sentence_df['cont'].apply(split_ends)\n",
    "sentence_df = encode_wh_licensor(sentence_df)\n",
    "sentence_df['gap_numeric'] = sentence_df['gap'].replace(0, -1)\n",
    "syntactic_parts = ['prefix', 'filler_word', 'subj1', 'verb1', 'comp', 'subj2', 'embed_verb', 'obj', 'cont']\n",
    "sentence_df['sentence'] = sentence_df.apply(lambda x: merge_sentence (x, syntactic_parts), axis = 1)\n",
    "sentence_df['comp_type'] = pd.Categorical(sentence_df['comp_type'], categories = ['null', 'that', 'whether'], ordered = True)\n",
    "sentence_df['surprisals_gpt2_10m'] = sentence_df['sentence'].apply(lambda x: calculate_surprisal(lm_scorer_gpt2_10m, x))\n",
    "sentence_df['surprisals_gpt2_100m'] = sentence_df['sentence'].apply(lambda x: calculate_surprisal(lm_scorer_gpt2_100m, x))\n",
    "sentence_df['surprisals_babylm_10m'] = sentence_df['sentence'].apply(lambda x: calculate_surprisal(lm_scorer_babylm_10m, x))\n",
    "sentence_df['surprisals_babylm_100m'] = sentence_df['sentence'].apply(lambda x: calculate_surprisal(lm_scorer_babylm_100m, x))\n",
    "sentence_df['surprisals_gpt2'] = sentence_df['sentence'].apply(lambda x: calculate_surprisal(lm_scorer_gpt2, x))"
   ]
  },
  {
   "cell_type": "markdown",
   "id": "42da86a3",
   "metadata": {},
   "source": [
    "Post Gap Region - Continuation"
   ]
  },
  {
   "cell_type": "code",
   "execution_count": 38,
   "id": "e7157f88",
   "metadata": {},
   "outputs": [],
   "source": [
    "sentence_df['region_surprisal_gpt2_10m'] = sentence_df.apply(lambda x: sum_region_surprisal(x, 'surprisals_gpt2_10m', ['cont'], 'obj'), axis = 1)\n",
    "sentence_df['region_surprisal_gpt2_100m'] = sentence_df.apply(lambda x: sum_region_surprisal(x, 'surprisals_gpt2_100m', ['cont'], 'obj'), axis = 1)\n",
    "sentence_df['region_surprisal_babylm_10m'] = sentence_df.apply(lambda x: sum_region_surprisal(x, 'surprisals_babylm_10m', ['cont'], 'obj'), axis = 1)\n",
    "sentence_df['region_surprisal_babylm_100m'] = sentence_df.apply(lambda x: sum_region_surprisal(x, 'surprisals_babylm_100m', ['cont'], 'obj'), axis = 1)\n",
    "sentence_df['region_surprisal_gpt2'] = sentence_df.apply(lambda x: sum_region_surprisal(x, 'surprisals_gpt2', ['cont'], 'obj'), axis = 1)"
   ]
  },
  {
   "cell_type": "code",
   "execution_count": 39,
   "id": "35b0ec2a",
   "metadata": {},
   "outputs": [],
   "source": [
    "null_comp_df = sentence_df[(sentence_df['comp_type'] == 'null')]\n",
    "that_comp_df = sentence_df[(sentence_df['comp_type'] == 'that')]\n",
    "wh_comp_df = sentence_df[(sentence_df['comp_type'] == 'whether')]\n",
    "null_comp_gpt2_10m = compute_wh_licensing_interaction(null_comp_df, 'region_surprisal_gpt2_10m')\n",
    "that_comp_gpt2_10m = compute_wh_licensing_interaction(that_comp_df, 'region_surprisal_gpt2_10m')\n",
    "wh_comp_gpt2_10m = compute_wh_licensing_interaction(wh_comp_df, 'region_surprisal_gpt2_10m')\n",
    "null_comp_gpt2_100m = compute_wh_licensing_interaction(null_comp_df, 'region_surprisal_gpt2_100m')\n",
    "that_comp_gpt2_100m = compute_wh_licensing_interaction(that_comp_df, 'region_surprisal_gpt2_100m')\n",
    "wh_comp_gpt2_100m = compute_wh_licensing_interaction(wh_comp_df, 'region_surprisal_gpt2_100m')\n",
    "null_comp_babylm_10m = compute_wh_licensing_interaction(null_comp_df, 'region_surprisal_babylm_10m')\n",
    "that_comp_babylm_10m = compute_wh_licensing_interaction(that_comp_df, 'region_surprisal_babylm_10m')\n",
    "wh_comp_babylm_10m = compute_wh_licensing_interaction(wh_comp_df, 'region_surprisal_babylm_10m')\n",
    "null_comp_babylm_100m = compute_wh_licensing_interaction(null_comp_df, 'region_surprisal_babylm_100m')\n",
    "that_comp_babylm_100m = compute_wh_licensing_interaction(that_comp_df, 'region_surprisal_babylm_100m')\n",
    "wh_comp_babylm_100m = compute_wh_licensing_interaction(wh_comp_df, 'region_surprisal_babylm_100m')\n",
    "null_comp_gpt2 = compute_wh_licensing_interaction(null_comp_df, 'region_surprisal_gpt2')\n",
    "that_comp_gpt2 = compute_wh_licensing_interaction(that_comp_df, 'region_surprisal_gpt2')\n",
    "wh_comp_gpt2 = compute_wh_licensing_interaction(wh_comp_df, 'region_surprisal_gpt2')\n",
    "null_comp_gpt2 = compute_wh_licensing_interaction(null_comp_df, 'region_surprisal_gpt2')\n",
    "that_comp_gpt2 = compute_wh_licensing_interaction(that_comp_df, 'region_surprisal_gpt2')\n",
    "wh_comp_gpt2 = compute_wh_licensing_interaction(wh_comp_df, 'region_surprisal_gpt2')"
   ]
  },
  {
   "cell_type": "code",
   "execution_count": 40,
   "id": "56cdd27a",
   "metadata": {},
   "outputs": [
    {
     "data": {
      "image/png": "[encoded data removed]",
      "text/plain": [
       "<Figure size 1368x273.6 with 5 Axes>"
      ]
     },
     "metadata": {
      "needs_background": "light"
     },
     "output_type": "display_data"
    }
   ],
   "source": [
    "df_list_gpt2_10m = [null_comp_gpt2_10m, that_comp_gpt2_10m, wh_comp_gpt2_10m]\n",
    "df_list_gpt2_100m = [null_comp_gpt2_100m, that_comp_gpt2_100m, wh_comp_gpt2_100m]\n",
    "df_list_babylm_10m = [null_comp_babylm_10m, that_comp_babylm_10m, wh_comp_babylm_10m]\n",
    "df_list_babylm_100m = [null_comp_babylm_100m, that_comp_babylm_100m, wh_comp_babylm_100m]\n",
    "df_list_gpt2 = [null_comp_gpt2, that_comp_gpt2, wh_comp_gpt2]\n",
    "df_lists = [df_list_gpt2_10m, df_list_gpt2_100m, df_list_babylm_10m, df_list_babylm_100m, df_list_gpt2]\n",
    "subtitles = ['GPT2-10M', 'GPT2-100M', 'ConcreteGPT', 'BabbleGPT', 'GPT2']\n",
    "#labels = ['null-comp', 'that-comp', 'wh-comp']\n",
    "labels = ['null\\ncomp', 'that\\ncomp', 'wh\\ncomp']\n",
    "title = 'Wh-Islands: Post-Gap Region'\n",
    "plot_wh_licensing_interaction(df_lists, subtitles, labels, title)"
   ]
  },
  {
   "cell_type": "code",
   "execution_count": 41,
   "id": "4ddf00d4",
   "metadata": {},
   "outputs": [
    {
     "data": {
      "image/png": "[encoded data removed]",
      "text/plain": [
       "<Figure size 547.2x273.6 with 2 Axes>"
      ]
     },
     "metadata": {
      "needs_background": "light"
     },
     "output_type": "display_data"
    }
   ],
   "source": [
    "# if we want to look at only two models at a time\n",
    "df_list_gpt2_10m = [null_comp_gpt2_10m, that_comp_gpt2_10m, wh_comp_gpt2_10m]\n",
    "df_list_gpt2_100m = [null_comp_gpt2_100m, that_comp_gpt2_100m, wh_comp_gpt2_100m]\n",
    "df_lists = [df_list_gpt2_10m, df_list_gpt2_100m]\n",
    "subtitles = ['GPT2-10M', 'GPT2-100M']\n",
    "#labels = ['null-comp', 'that-comp', 'wh-comp']\n",
    "labels = ['null\\ncomp', 'that\\ncomp', 'wh\\ncomp']\n",
    "title = 'Wh-Islands: Post-Gap Region'\n",
    "plot_wh_licensing_interaction(df_lists, subtitles, labels, title)"
   ]
  },
  {
   "cell_type": "markdown",
   "id": "4dff9fd1",
   "metadata": {},
   "source": [
    "Embedded Clause"
   ]
  },
  {
   "cell_type": "code",
   "execution_count": 42,
   "id": "62f2afa9",
   "metadata": {},
   "outputs": [],
   "source": [
    "embed = ['subj1', 'verb1', 'comp', 'subj2', 'embed_verb', 'obj', 'cont', 'end']\n",
    "sentence_df['embed_surprisal_gpt2_10m'] = sentence_df.apply(lambda x: sum_region_surprisal(x, 'surprisals_gpt2_10m', embed, normalize = True), axis = 1)\n",
    "sentence_df['embed_surprisal_gpt2_100m'] = sentence_df.apply(lambda x: sum_region_surprisal(x, 'surprisals_gpt2_100m', embed, normalize = True), axis = 1)\n",
    "sentence_df['embed_surprisal_babylm_10m'] = sentence_df.apply(lambda x: sum_region_surprisal(x, 'surprisals_babylm_10m', embed, normalize = True), axis = 1)\n",
    "sentence_df['embed_surprisal_babylm_100m'] = sentence_df.apply(lambda x: sum_region_surprisal(x, 'surprisals_babylm_100m', embed, normalize = True), axis = 1)\n",
    "sentence_df['embed_surprisal_gpt2'] = sentence_df.apply(lambda x: sum_region_surprisal(x, 'surprisals_gpt2', embed, normalize = True), axis = 1)"
   ]
  },
  {
   "cell_type": "code",
   "execution_count": 43,
   "id": "ba619061",
   "metadata": {},
   "outputs": [],
   "source": [
    "null_comp_df = sentence_df[(sentence_df['comp_type'] == 'null')]\n",
    "that_comp_df = sentence_df[(sentence_df['comp_type'] == 'that')]\n",
    "wh_comp_df = sentence_df[(sentence_df['comp_type'] == 'whether')]\n",
    "null_comp_gpt2_10m = compute_wh_licensing_interaction(null_comp_df, 'embed_surprisal_gpt2_10m')\n",
    "that_comp_gpt2_10m = compute_wh_licensing_interaction(that_comp_df, 'embed_surprisal_gpt2_10m')\n",
    "wh_comp_gpt2_10m = compute_wh_licensing_interaction(wh_comp_df, 'embed_surprisal_gpt2_10m')\n",
    "null_comp_gpt2_100m = compute_wh_licensing_interaction(null_comp_df, 'embed_surprisal_gpt2_100m')\n",
    "that_comp_gpt2_100m = compute_wh_licensing_interaction(that_comp_df, 'embed_surprisal_gpt2_100m')\n",
    "wh_comp_gpt2_100m = compute_wh_licensing_interaction(wh_comp_df, 'embed_surprisal_gpt2_100m')\n",
    "null_comp_babylm_10m = compute_wh_licensing_interaction(null_comp_df, 'embed_surprisal_babylm_10m')\n",
    "that_comp_babylm_10m = compute_wh_licensing_interaction(that_comp_df, 'embed_surprisal_babylm_10m')\n",
    "wh_comp_babylm_10m = compute_wh_licensing_interaction(wh_comp_df, 'embed_surprisal_babylm_10m')\n",
    "null_comp_babylm_100m = compute_wh_licensing_interaction(null_comp_df, 'embed_surprisal_babylm_100m')\n",
    "that_comp_babylm_100m = compute_wh_licensing_interaction(that_comp_df, 'embed_surprisal_babylm_100m')\n",
    "wh_comp_babylm_100m = compute_wh_licensing_interaction(wh_comp_df, 'embed_surprisal_babylm_100m')\n",
    "null_comp_gpt2 = compute_wh_licensing_interaction(null_comp_df, 'embed_surprisal_gpt2')\n",
    "that_comp_gpt2 = compute_wh_licensing_interaction(that_comp_df, 'embed_surprisal_gpt2')\n",
    "wh_comp_gpt2 = compute_wh_licensing_interaction(wh_comp_df, 'embed_surprisal_gpt2')\n",
    "null_comp_gpt2 = compute_wh_licensing_interaction(null_comp_df, 'embed_surprisal_gpt2')\n",
    "that_comp_gpt2 = compute_wh_licensing_interaction(that_comp_df, 'embed_surprisal_gpt2')\n",
    "wh_comp_gpt2 = compute_wh_licensing_interaction(wh_comp_df, 'embed_surprisal_gpt2')"
   ]
  },
  {
   "cell_type": "code",
   "execution_count": 44,
   "id": "dd1d91d1",
   "metadata": {},
   "outputs": [
    {
     "data": {
      "image/png": "[encoded data removed]",
      "text/plain": [
       "<Figure size 1368x273.6 with 5 Axes>"
      ]
     },
     "metadata": {
      "needs_background": "light"
     },
     "output_type": "display_data"
    }
   ],
   "source": [
    "df_list_gpt2_10m = [null_comp_gpt2_10m, that_comp_gpt2_10m, wh_comp_gpt2_10m]\n",
    "df_list_gpt2_100m = [null_comp_gpt2_100m, that_comp_gpt2_100m, wh_comp_gpt2_100m]\n",
    "df_list_babylm_10m = [null_comp_babylm_10m, that_comp_babylm_10m, wh_comp_babylm_10m]\n",
    "df_list_babylm_100m = [null_comp_babylm_100m, that_comp_babylm_100m, wh_comp_babylm_100m]\n",
    "df_list_gpt2 = [null_comp_gpt2, that_comp_gpt2, wh_comp_gpt2]\n",
    "df_lists = [df_list_gpt2_10m, df_list_gpt2_100m, df_list_babylm_10m, df_list_babylm_100m, df_list_gpt2]\n",
    "subtitles = ['GPT2-10M', 'GPT2-100M', 'ConcreteGPT', 'BabbleGPT', 'GPT2']\n",
    "#labels = ['null-comp', 'that-comp', 'wh-comp']\n",
    "labels = ['null\\ncomp', 'that\\ncomp', 'wh\\ncomp']\n",
    "title = 'Wh-Islands: Embedded Clause'\n",
    "plot_wh_licensing_interaction(df_lists, subtitles, labels, title)"
   ]
  },
  {
   "cell_type": "code",
   "execution_count": 45,
   "id": "4ac8d012",
   "metadata": {},
   "outputs": [
    {
     "data": {
      "image/png": "[encoded data removed]",
      "text/plain": [
       "<Figure size 547.2x273.6 with 2 Axes>"
      ]
     },
     "metadata": {
      "needs_background": "light"
     },
     "output_type": "display_data"
    }
   ],
   "source": [
    "# if we want to look at only two models at a time\n",
    "df_list_gpt2_10m = [null_comp_gpt2_10m, that_comp_gpt2_10m, wh_comp_gpt2_10m]\n",
    "df_list_gpt2_100m = [null_comp_gpt2_100m, that_comp_gpt2_100m, wh_comp_gpt2_100m]\n",
    "df_lists = [df_list_gpt2_10m, df_list_gpt2_100m]\n",
    "subtitles = ['GPT2-10M', 'GPT2-100M']\n",
    "#labels = ['null-comp', 'that-comp', 'wh-comp']\n",
    "labels = ['null\\ncomp', 'that\\ncomp', 'wh\\ncomp']\n",
    "title = 'Wh-Islands: Embedded Clause'\n",
    "plot_wh_licensing_interaction(df_lists, subtitles, labels, title)"
   ]
  },
  {
   "cell_type": "markdown",
   "id": "9e089b58",
   "metadata": {},
   "source": [
    "#### Adjunct Islands "
   ]
  },
  {
   "cell_type": "code",
   "execution_count": 46,
   "id": "ef9c8675",
   "metadata": {},
   "outputs": [],
   "source": [
    "sentence_df = pd.read_csv('test_sentences/Adjunct Islands.csv')\n",
    "sentence_df['adjunct_type'] = sentence_df['adjunct_type'].fillna('null')"
   ]
  },
  {
   "cell_type": "code",
   "execution_count": 47,
   "id": "6a20fba0",
   "metadata": {},
   "outputs": [],
   "source": [
    "sentence_df[['cont', 'end']] = sentence_df['cont'].apply(split_ends)\n",
    "sentence_df['adjunct_front_trigger'] = np.nan\n",
    "sentence_df['adjunct_front_trigger'] = sentence_df['adjunct_trigger'].where(sentence_df['adjunct_type'] == 'front', sentence_df['adjunct_front_trigger'])\n",
    "sentence_df['adjunct_trigger'] = sentence_df['adjunct_trigger'].where(sentence_df['adjunct_type'] != 'front', np.nan)\n",
    "sentence_df.rename(columns = {'adjunct_trigger': 'adjunct_back_trigger'}, inplace = True)\n",
    "sentence_df = sentence_df[[col for col in sentence_df.columns if col != 'end'] + ['end']]"
   ]
  },
  {
   "cell_type": "code",
   "execution_count": 48,
   "id": "17fe918d",
   "metadata": {},
   "outputs": [],
   "source": [
    "sentence_df = encode_wh_licensor(sentence_df)\n",
    "sentence_df['gap_numeric'] = sentence_df['gap'].replace(0, -1)\n",
    "syntactic_parts = ['prefix', 'filler_word', 'adjunct_back_trigger', 'prep', 'subj', 'mod', 'verb', 'obj', 'cont', 'adjunct_front_trigger']\n",
    "sentence_df['sentence'] = sentence_df.apply(lambda x: merge_sentence(x, syntactic_parts), axis = 1)\n",
    "sentence_df['adjunct_type'] = pd.Categorical(sentence_df['adjunct_type'], categories = ['null', 'back', 'front'], ordered = True)\n",
    "sentence_df['surprisals_gpt2_10m'] = sentence_df['sentence'].apply(lambda x: calculate_surprisal(lm_scorer_gpt2_10m, x))\n",
    "sentence_df['surprisals_gpt2_100m'] = sentence_df['sentence'].apply(lambda x: calculate_surprisal(lm_scorer_gpt2_100m, x))\n",
    "sentence_df['surprisals_babylm_10m'] = sentence_df['sentence'].apply(lambda x: calculate_surprisal(lm_scorer_babylm_10m, x))\n",
    "sentence_df['surprisals_babylm_100m'] = sentence_df['sentence'].apply(lambda x: calculate_surprisal(lm_scorer_babylm_100m, x))\n",
    "sentence_df['surprisals_gpt2'] = sentence_df['sentence'].apply(lambda x: calculate_surprisal(lm_scorer_gpt2, x))"
   ]
  },
  {
   "cell_type": "markdown",
   "id": "404f7b10",
   "metadata": {},
   "source": [
    "Post-Gap Region - Continuation"
   ]
  },
  {
   "cell_type": "code",
   "execution_count": 49,
   "id": "28cc32fa",
   "metadata": {},
   "outputs": [],
   "source": [
    "sentence_df['region_surprisal_gpt2_10m'] = sentence_df.apply(lambda x: sum_region_surprisal(x, 'surprisals_gpt2_10m', ['cont'], 'obj'), axis = 1)\n",
    "sentence_df['region_surprisal_gpt2_100m'] = sentence_df.apply(lambda x: sum_region_surprisal(x, 'surprisals_gpt2_100m', ['cont'], 'obj'), axis = 1)\n",
    "sentence_df['region_surprisal_babylm_10m'] = sentence_df.apply(lambda x: sum_region_surprisal(x, 'surprisals_babylm_10m', ['cont'], 'obj'), axis = 1)\n",
    "sentence_df['region_surprisal_babylm_100m'] = sentence_df.apply(lambda x: sum_region_surprisal(x, 'surprisals_babylm_100m', ['cont'], 'obj'), axis = 1)\n",
    "sentence_df['region_surprisal_gpt2'] = sentence_df.apply(lambda x: sum_region_surprisal(x, 'surprisals_gpt2', ['cont'], 'obj'), axis = 1)"
   ]
  },
  {
   "cell_type": "code",
   "execution_count": 50,
   "id": "16dc0a4e",
   "metadata": {},
   "outputs": [],
   "source": [
    "object_df = sentence_df[(sentence_df['adjunct_type'] == 'null')]\n",
    "adjunct_back_df = sentence_df[(sentence_df['adjunct_type'] == 'back')]\n",
    "adjunct_front_df = sentence_df[(sentence_df['adjunct_type'] == 'front')]\n",
    "object_gpt2_10m = compute_wh_licensing_interaction(object_df, 'region_surprisal_gpt2_10m')\n",
    "adjunct_back_gpt2_10m = compute_wh_licensing_interaction(adjunct_back_df, 'region_surprisal_gpt2_10m')\n",
    "adjunct_front_gpt2_10m = compute_wh_licensing_interaction(adjunct_front_df, 'region_surprisal_gpt2_10m')\n",
    "object_gpt2_100m = compute_wh_licensing_interaction(object_df, 'region_surprisal_gpt2_100m')\n",
    "adjunct_back_gpt2_100m = compute_wh_licensing_interaction(adjunct_back_df, 'region_surprisal_gpt2_100m')\n",
    "adjunct_front_gpt2_100m = compute_wh_licensing_interaction(adjunct_front_df, 'region_surprisal_gpt2_100m')\n",
    "object_babylm_10m = compute_wh_licensing_interaction(object_df, 'region_surprisal_babylm_10m')\n",
    "adjunct_back_babylm_10m = compute_wh_licensing_interaction(adjunct_back_df, 'region_surprisal_babylm_10m')\n",
    "adjunct_front_babylm_10m = compute_wh_licensing_interaction(adjunct_front_df, 'region_surprisal_babylm_10m')\n",
    "object_babylm_100m = compute_wh_licensing_interaction(object_df, 'region_surprisal_babylm_100m')\n",
    "adjunct_back_babylm_100m = compute_wh_licensing_interaction(adjunct_back_df, 'region_surprisal_babylm_100m')\n",
    "adjunct_front_babylm_100m = compute_wh_licensing_interaction(adjunct_front_df, 'region_surprisal_babylm_100m')\n",
    "object_gpt2 = compute_wh_licensing_interaction(object_df, 'region_surprisal_gpt2')\n",
    "adjunct_back_gpt2 = compute_wh_licensing_interaction(adjunct_back_df, 'region_surprisal_gpt2')\n",
    "adjunct_front_gpt2 = compute_wh_licensing_interaction(adjunct_front_df, 'region_surprisal_gpt2')\n",
    "object_gpt2 = compute_wh_licensing_interaction(object_df, 'region_surprisal_gpt2')\n",
    "adjunct_back_gpt2 = compute_wh_licensing_interaction(adjunct_back_df, 'region_surprisal_gpt2')\n",
    "adjunct_front_gpt2 = compute_wh_licensing_interaction(adjunct_front_df, 'region_surprisal_gpt2')"
   ]
  },
  {
   "cell_type": "code",
   "execution_count": 51,
   "id": "364dc9ef",
   "metadata": {},
   "outputs": [
    {
     "data": {
      "image/png": "[encoded data removed]",
      "text/plain": [
       "<Figure size 1368x273.6 with 5 Axes>"
      ]
     },
     "metadata": {
      "needs_background": "light"
     },
     "output_type": "display_data"
    }
   ],
   "source": [
    "df_list_gpt2_10m = [object_gpt2_10m, adjunct_back_gpt2_10m, adjunct_front_gpt2_10m]\n",
    "df_list_gpt2_100m = [object_gpt2_100m, adjunct_back_gpt2_100m, adjunct_front_gpt2_100m]\n",
    "df_list_babylm_10m = [object_babylm_10m, adjunct_back_babylm_10m, adjunct_front_babylm_10m]\n",
    "df_list_babylm_100m = [object_babylm_100m, adjunct_back_babylm_100m, adjunct_front_babylm_100m]\n",
    "df_list_gpt2 = [object_gpt2, adjunct_back_gpt2, adjunct_front_gpt2]\n",
    "df_lists = [df_list_gpt2_10m, df_list_gpt2_100m, df_list_babylm_10m, df_list_babylm_100m, df_list_gpt2]\n",
    "subtitles = ['GPT2-10M', 'GPT2-100M', 'ConcreteGPT', 'BabbleGPT', 'GPT2']\n",
    "#labels =  ['null', 'adjunct-back', 'adjunct-front']\n",
    "labels =  ['null', 'adjunct\\nback', 'adjunct\\nfront']\n",
    "title = 'Adjunct Islands: Post-Gap Region'\n",
    "plot_wh_licensing_interaction(df_lists, subtitles, labels, title)"
   ]
  },
  {
   "cell_type": "code",
   "execution_count": 52,
   "id": "934360af",
   "metadata": {},
   "outputs": [
    {
     "data": {
      "image/png": "[encoded data removed]",
      "text/plain": [
       "<Figure size 547.2x273.6 with 2 Axes>"
      ]
     },
     "metadata": {
      "needs_background": "light"
     },
     "output_type": "display_data"
    }
   ],
   "source": [
    "# if we want to look at only two models at a time\n",
    "df_list_gpt2_10m = [object_gpt2_10m, adjunct_back_gpt2_10m, adjunct_front_gpt2_10m]\n",
    "df_list_gpt2_100m = [object_gpt2_100m, adjunct_back_gpt2_100m, adjunct_front_gpt2_100m]\n",
    "df_lists = [df_list_gpt2_10m, df_list_gpt2_100m]\n",
    "subtitles = ['GPT2-10M', 'GPT2-100M']\n",
    "#labels =  ['null', 'adjunct-back', 'adjunct-front']\n",
    "labels =  ['null', 'adjunct\\nback', 'adjunct\\nfront']\n",
    "title = 'Adjunct Islands: Post-Gap Region'\n",
    "plot_wh_licensing_interaction(df_lists, subtitles, labels, title)"
   ]
  },
  {
   "cell_type": "markdown",
   "id": "569bc491",
   "metadata": {},
   "source": [
    "Embedded Clause"
   ]
  },
  {
   "cell_type": "code",
   "execution_count": 53,
   "id": "6100ff4c",
   "metadata": {},
   "outputs": [],
   "source": [
    "embed = ['adjunct_back_trigger', 'prep', 'subj', 'mod', 'verb', 'obj', 'cont', 'adjunct_front_trigger', 'end']\n",
    "sentence_df['embed_surprisal_gpt2_10m'] = sentence_df.apply(lambda x: sum_region_surprisal(x, 'surprisals_gpt2_10m', embed, normalize = True), axis = 1)\n",
    "sentence_df['embed_surprisal_gpt2_100m'] = sentence_df.apply(lambda x: sum_region_surprisal(x, 'surprisals_gpt2_100m', embed, normalize = True), axis = 1)\n",
    "sentence_df['embed_surprisal_babylm_10m'] = sentence_df.apply(lambda x: sum_region_surprisal(x, 'surprisals_babylm_10m', embed, normalize = True), axis = 1)\n",
    "sentence_df['embed_surprisal_babylm_100m'] = sentence_df.apply(lambda x: sum_region_surprisal(x, 'surprisals_babylm_100m', embed, normalize = True), axis = 1)\n",
    "sentence_df['embed_surprisal_gpt2'] = sentence_df.apply(lambda x: sum_region_surprisal(x, 'surprisals_gpt2', embed, normalize = True), axis = 1)"
   ]
  },
  {
   "cell_type": "code",
   "execution_count": 54,
   "id": "0e99cd35",
   "metadata": {},
   "outputs": [],
   "source": [
    "object_df = sentence_df[(sentence_df['adjunct_type'] == 'null')]\n",
    "adjunct_back_df = sentence_df[(sentence_df['adjunct_type'] == 'back')]\n",
    "adjunct_front_df = sentence_df[(sentence_df['adjunct_type'] == 'front')]\n",
    "object_gpt2_10m = compute_wh_licensing_interaction(object_df, 'embed_surprisal_gpt2_10m')\n",
    "adjunct_back_gpt2_10m = compute_wh_licensing_interaction(adjunct_back_df, 'embed_surprisal_gpt2_10m')\n",
    "adjunct_front_gpt2_10m = compute_wh_licensing_interaction(adjunct_front_df, 'embed_surprisal_gpt2_10m')\n",
    "object_gpt2_100m = compute_wh_licensing_interaction(object_df, 'embed_surprisal_gpt2_100m')\n",
    "adjunct_back_gpt2_100m = compute_wh_licensing_interaction(adjunct_back_df, 'embed_surprisal_gpt2_100m')\n",
    "adjunct_front_gpt2_100m = compute_wh_licensing_interaction(adjunct_front_df, 'embed_surprisal_gpt2_100m')\n",
    "object_babylm_10m = compute_wh_licensing_interaction(object_df, 'embed_surprisal_babylm_10m')\n",
    "adjunct_back_babylm_10m = compute_wh_licensing_interaction(adjunct_back_df, 'embed_surprisal_babylm_10m')\n",
    "adjunct_front_babylm_10m = compute_wh_licensing_interaction(adjunct_front_df, 'embed_surprisal_babylm_10m')\n",
    "object_babylm_100m = compute_wh_licensing_interaction(object_df, 'embed_surprisal_babylm_100m')\n",
    "adjunct_back_babylm_100m = compute_wh_licensing_interaction(adjunct_back_df, 'embed_surprisal_babylm_100m')\n",
    "adjunct_front_babylm_100m = compute_wh_licensing_interaction(adjunct_front_df, 'embed_surprisal_babylm_100m')\n",
    "object_gpt2 = compute_wh_licensing_interaction(object_df, 'embed_surprisal_gpt2')\n",
    "adjunct_back_gpt2 = compute_wh_licensing_interaction(adjunct_back_df, 'embed_surprisal_gpt2')\n",
    "adjunct_front_gpt2 = compute_wh_licensing_interaction(adjunct_front_df, 'embed_surprisal_gpt2')\n",
    "object_gpt2 = compute_wh_licensing_interaction(object_df, 'embed_surprisal_gpt2')\n",
    "adjunct_back_gpt2 = compute_wh_licensing_interaction(adjunct_back_df, 'embed_surprisal_gpt2')\n",
    "adjunct_front_gpt2 = compute_wh_licensing_interaction(adjunct_front_df, 'embed_surprisal_gpt2')"
   ]
  },
  {
   "cell_type": "code",
   "execution_count": 55,
   "id": "2085bbc7",
   "metadata": {},
   "outputs": [
    {
     "data": {
      "image/png": "[encoded data removed]",
      "text/plain": [
       "<Figure size 1368x273.6 with 5 Axes>"
      ]
     },
     "metadata": {
      "needs_background": "light"
     },
     "output_type": "display_data"
    }
   ],
   "source": [
    "df_list_gpt2_10m = [object_gpt2_10m, adjunct_back_gpt2_10m, adjunct_front_gpt2_10m]\n",
    "df_list_gpt2_100m = [object_gpt2_100m, adjunct_back_gpt2_100m, adjunct_front_gpt2_100m]\n",
    "df_list_babylm_10m = [object_babylm_10m, adjunct_back_babylm_10m, adjunct_front_babylm_10m]\n",
    "df_list_babylm_100m = [object_babylm_100m, adjunct_back_babylm_100m, adjunct_front_babylm_100m]\n",
    "df_list_gpt2 = [object_gpt2, adjunct_back_gpt2, adjunct_front_gpt2]\n",
    "df_lists = [df_list_gpt2_10m, df_list_gpt2_100m, df_list_babylm_10m, df_list_babylm_100m, df_list_gpt2]\n",
    "subtitles = ['GPT2-10M', 'GPT2-100M', 'ConcreteGPT', 'BabbleGPT', 'GPT2']\n",
    "#labels =  ['null', 'adjunct-back', 'adjunct-front']\n",
    "labels =  ['null', 'adjunct\\nback', 'adjunct\\nfront']\n",
    "title = 'Adjunct Islands: Embedded Clause'\n",
    "plot_wh_licensing_interaction(df_lists, subtitles, labels, title)"
   ]
  },
  {
   "cell_type": "code",
   "execution_count": 56,
   "id": "f924d8be",
   "metadata": {},
   "outputs": [
    {
     "data": {
      "image/png": "[encoded data removed]",
      "text/plain": [
       "<Figure size 547.2x273.6 with 2 Axes>"
      ]
     },
     "metadata": {
      "needs_background": "light"
     },
     "output_type": "display_data"
    }
   ],
   "source": [
    "# if we want to look at only two models at a time\n",
    "df_list_gpt2_10m = [object_gpt2_10m, adjunct_back_gpt2_10m, adjunct_front_gpt2_10m]\n",
    "df_list_gpt2_100m = [object_gpt2_100m, adjunct_back_gpt2_100m, adjunct_front_gpt2_100m]\n",
    "df_lists = [df_list_gpt2_10m, df_list_gpt2_100m]\n",
    "subtitles = ['GPT2-10M', 'GPT2-100M']\n",
    "#labels =  ['null', 'adjunct-back', 'adjunct-front']\n",
    "labels =  ['null', 'adjunct\\nback', 'adjunct\\nfront']\n",
    "title = 'Adjunct Islands: Embedded Clause'\n",
    "plot_wh_licensing_interaction(df_lists, subtitles, labels, title)"
   ]
  },
  {
   "cell_type": "markdown",
   "id": "07e0db26",
   "metadata": {},
   "source": [
    "#### Complex NP Islands"
   ]
  },
  {
   "cell_type": "code",
   "execution_count": null,
   "id": "cd1bc37e",
   "metadata": {},
   "outputs": [],
   "source": [
    "sentence_df = pd.read_csv('test_sentences/Complex NP Islands.csv')"
   ]
  },
  {
   "cell_type": "code",
   "execution_count": null,
   "id": "afed9a1b",
   "metadata": {},
   "outputs": [],
   "source": [
    "sentence_df = encode_wh_licensor(sentence_df)\n",
    "sentence_df['gap_numeric'] = sentence_df['gap'].replace(0, -1)\n",
    "sentence_df['sentence'] = sentence_df.apply(merge_sentence, axis = 1)\n",
    "sentence_df['surprisals_10m'] = sentence_df['sentence'].apply(lambda x: calculate_surprisal(lm_scorer_10m, x))\n",
    "sentence_df['surprisals_100m'] = sentence_df['sentence'].apply(lambda x: calculate_surprisal(lm_scorer_100m, x))"
   ]
  },
  {
   "cell_type": "markdown",
   "id": "358387ce",
   "metadata": {},
   "source": [
    "Subject Condition"
   ]
  },
  {
   "cell_type": "code",
   "execution_count": null,
   "id": "5d27709c",
   "metadata": {},
   "outputs": [],
   "source": [
    "subject_df = sentence_df.copy()"
   ]
  },
  {
   "cell_type": "code",
   "execution_count": null,
   "id": "610beed3",
   "metadata": {},
   "outputs": [],
   "source": [
    "subject_df['region_surprisal_10m'] = subject_df.apply(lambda x: sum_region_surprisal(x, 'surprisals_10m', ['subj_setup']), axis = 1)\n",
    "subject_df['region_surprisal_100m'] = subject_df.apply(lambda x: sum_region_surprisal(x, 'surprisals_100m', ['subj_setup']), axis = 1)"
   ]
  },
  {
   "cell_type": "code",
   "execution_count": null,
   "id": "bbb79ffd",
   "metadata": {},
   "outputs": [],
   "source": [
    "# filter for subject condition\n",
    "subject_df = subject_df[subject_df['subj_obj'] == 'subject']"
   ]
  },
  {
   "cell_type": "markdown",
   "id": "294132b0",
   "metadata": {},
   "source": [
    "Object Condition"
   ]
  },
  {
   "cell_type": "code",
   "execution_count": null,
   "id": "9574aa02",
   "metadata": {},
   "outputs": [],
   "source": [
    "object_df = sentence_df.copy()"
   ]
  },
  {
   "cell_type": "code",
   "execution_count": null,
   "id": "3fefbd08",
   "metadata": {},
   "outputs": [],
   "source": [
    "object_df['region_surprisal_10m'] = object_df.apply(lambda x: sum_region_surprisal(x, 'surprisals_10m', ['end']), axis = 1)\n",
    "object_df['region_surprisal_100m'] = object_df.apply(lambda x: sum_region_surprisal(x, 'surprisals_100m', ['end']), axis = 1)"
   ]
  },
  {
   "cell_type": "code",
   "execution_count": null,
   "id": "096b2939",
   "metadata": {},
   "outputs": [],
   "source": [
    "# filter for object gap\n",
    "object_df = object_df[object_df['subj_obj'] == 'object']"
   ]
  },
  {
   "cell_type": "markdown",
   "id": "07690342",
   "metadata": {},
   "source": [
    "Embedded Clause"
   ]
  },
  {
   "cell_type": "code",
   "execution_count": null,
   "id": "864c9ec4",
   "metadata": {},
   "outputs": [],
   "source": [
    "embed = ['subj', 'that_rc', 'what_rc', 'rc_np', 'prep', 'prep_np', 'subj_setup', 'obj_setup', 'end']\n",
    "sentence_df['embed_surprisal_10m'] = sentence_df.apply(lambda x: sum_region_surprisal(x, 'surprisals_10m', embed, normalize = True), axis = 1)\n",
    "sentence_df['embed_surprisal_100m'] = sentence_df.apply(lambda x: sum_region_surprisal(x, 'surprisals_100m', embed, normalize = True), axis = 1)"
   ]
  },
  {
   "cell_type": "markdown",
   "id": "364db12b",
   "metadata": {},
   "source": [
    "Embedded Clause - Subject Condition"
   ]
  },
  {
   "cell_type": "code",
   "execution_count": null,
   "id": "07f27b79",
   "metadata": {},
   "outputs": [],
   "source": [
    "# filter for subject condition\n",
    "subject_df = sentence_df[sentence_df['subj_obj'] == 'subject']"
   ]
  },
  {
   "cell_type": "markdown",
   "id": "86916091",
   "metadata": {},
   "source": [
    "Embedded Clause - Object Condition"
   ]
  },
  {
   "cell_type": "code",
   "execution_count": null,
   "id": "419c08d7",
   "metadata": {},
   "outputs": [],
   "source": [
    "# filter for object gap\n",
    "object_df = sentence_df[sentence_df['subj_obj'] == 'object']"
   ]
  }
 ],
 "metadata": {
  "kernelspec": {
   "display_name": "Python 3 (ipykernel)",
   "language": "python",
   "name": "python3"
  },
  "language_info": {
   "codemirror_mode": {
    "name": "ipython",
    "version": 3
   },
   "file_extension": ".py",
   "mimetype": "text/x-python",
   "name": "python",
   "nbconvert_exporter": "python",
   "pygments_lexer": "ipython3",
   "version": "3.9.7"
  }
 },
 "nbformat": 4,
 "nbformat_minor": 5
}
