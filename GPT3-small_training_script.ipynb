{
 "cells": [
  {
   "cell_type": "code",
   "execution_count": 1,
   "id": "09decc55",
   "metadata": {},
   "outputs": [
    {
     "name": "stderr",
     "output_type": "stream",
     "text": [
      "/sw/pkgs/arc/python3.9-anaconda/2021.11/lib/python3.9/site-packages/scipy/__init__.py:146: UserWarning: A NumPy version >=1.16.5 and <1.23.0 is required for this version of SciPy (detected version 1.26.4\n",
      "  warnings.warn(f\"A NumPy version >={np_minversion} and <{np_maxversion}\"\n"
     ]
    }
   ],
   "source": [
    "import os\n",
    "import matplotlib.pyplot as plt\n",
    "from datasets import Dataset, load_dataset, load_from_disk\n",
    "from transformers import GPT2LMHeadModel, GPT2Config, GPT2TokenizerFast, Trainer, TrainingArguments, DataCollatorForLanguageModeling, EarlyStoppingCallback, pipeline\n",
    "from transformers.integrations import TensorBoardCallback\n",
    "from tokenizers import ByteLevelBPETokenizer\n",
    "from tokenizers import Tokenizer, Regex, models, trainers, normalizers, pre_tokenizers, decoders, processors\n",
    "from tokenizers.normalizers import Sequence, NFKC, Replace, Prepend\n",
    "from tokenizers.pre_tokenizers import ByteLevel, Split, Whitespace\n",
    "from tokenizers.decoders import ByteLevel as ByteLevelDecoder\n",
    "from tokenizers.processors import TemplateProcessing\n",
    "from itertools import chain\n",
    "import glob"
   ]
  },
  {
   "cell_type": "code",
   "execution_count": null,
   "id": "95e3eb8c",
   "metadata": {},
   "outputs": [],
   "source": [
    "'''\n",
    "!pip install --user transformers==4.44.2 --no-deps\n",
    "!pip install --user tokenizers==0.19.1 --no-deps\n",
    "!pip install --user huggingface-hub==0.23.4 --no-deps\n",
    "'''"
   ]
  },
  {
   "cell_type": "code",
   "execution_count": 3,
   "id": "4f05df45",
   "metadata": {},
   "outputs": [
    {
     "name": "stdout",
     "output_type": "stream",
     "text": [
      "huggingface-hub version: 0.23.4\n",
      "tokenizers version: 0.19.1\n",
      "transformers version: 4.44.2\n",
      "transformers version: 2.1.2+cu121\n"
     ]
    }
   ],
   "source": [
    "import huggingface_hub\n",
    "import tokenizers\n",
    "import transformers\n",
    "import torch\n",
    "\n",
    "print(\"huggingface-hub version:\", huggingface_hub.__version__)\n",
    "print(\"tokenizers version:\", tokenizers.__version__)\n",
    "print(\"transformers version:\", transformers.__version__)\n",
    "print(\"torch version:\", torch.__version__)"
   ]
  },
  {
   "cell_type": "code",
   "execution_count": null,
   "id": "43ac3345",
   "metadata": {},
   "outputs": [],
   "source": [
    "# Set your source folder and output file\n",
    "#output_file = \"gpt3-small/corpus_data/10M_corpus.txt\"\n",
    "output_file = \"gpt3-small/corpus_data/100M_corpus.txt\"\n",
    "\n",
    "# Match both .txt and .train files\n",
    "file_paths = glob.glob(os.path.join('gpt3-small/corpus_data/CHILDES_data/', '*.txt')) + \\\n",
    "             glob.glob(os.path.join('gpt3-small/corpus_data/BabyLM_train_100M/', '*.train'))\n",
    "\n",
    "# Write them into a combined file\n",
    "with open(output_file, \"w\", encoding = \"utf-8\") as outfile:\n",
    "    for path in file_paths:\n",
    "        with open(path, \"r\", encoding = \"utf-8\") as infile:\n",
    "            text = infile.read().strip()\n",
    "            outfile.write(text + \"\\n\\n\")  # double newline separates files"
   ]
  },
  {
   "cell_type": "code",
   "execution_count": 6,
   "id": "1bb4931c",
   "metadata": {},
   "outputs": [
    {
     "name": "stdout",
     "output_type": "stream",
     "text": [
      "\n",
      "\n",
      "\n"
     ]
    }
   ],
   "source": [
    "#corpus_file = \"gpt3-small/corpus_data/10M_corpus.txt\"\n",
    "corpus_file = \"gpt3-small/corpus_data/100M_corpus.txt\"\n",
    "tokenizer_dir = \"gpt3-small/tokenizer\"\n",
    "os.makedirs(tokenizer_dir, exist_ok = True)\n",
    "\n",
    "# Initialize a BPE tokenizer\n",
    "tokenizer = Tokenizer(models.BPE())\n",
    "\n",
    "# Add Normalization (Unicode + formatting cleanup)\n",
    "tokenizer.normalizer = Sequence([\n",
    "    Prepend(\" \"),\n",
    "    NFKC(),\n",
    "    Replace(Regex(\"\\n\"), \"\\n \"),\n",
    "    Replace(Regex(\" *\\n\"), \"\\n\"),\n",
    "])\n",
    "\n",
    "# Add Pre-tokenizer (Unicode-aware + byte-level + max length split)\n",
    "'''\n",
    "tokenizer.pre_tokenizer = pre_tokenizers.Sequence([\n",
    "    #Split(\n",
    "    #    Regex(r\"[^\\\\r\\\\n\\\\p{L}\\\\p{N}]?[\\\\p{Lu}\\\\p{Lt}\\\\p{Lm}\\\\p{Lo}\\\\p{M}]*[\\\\p{Ll}\\\\p{Lm}\\\\p{Lo}\\\\p{M}]+|[^\\\\r\\\\n\\\\p{L}\\\\p{N}]?[\\\\p{Lu}\\\\p{Lt}\\\\p{Lm}\\\\p{Lo}\\\\p{M}]+[\\\\p{Ll}\\\\p{Lm}\\\\p{Lo}\\\\p{M}]*| ?\\\\p{N}| ?[^\\\\s\\\\p{L}\\\\p{N}]+[\\\\r\\\\n/]*|\\\\s*[\\\\r\\\\n]+|\\\\s+(?!\\\\S)|\\\\s+\"),\n",
    "    #    behavior = \"isolated\"),\n",
    "    ByteLevel(add_prefix_space = False, use_regex = False, trim_offsets = True),\n",
    "    #Split(Regex(\".{1,24}\"), behavior = \"isolated\")\n",
    "])\n",
    "'''\n",
    "tokenizer.pre_tokenizer = Whitespace()\n",
    "\n",
    "# Add Decoder (to reverse tokenization)\n",
    "tokenizer.decoder = decoders.Sequence([\n",
    "    ByteLevelDecoder(add_prefix_space = False, use_regex = False),\n",
    "    decoders.Strip(\" \", 1, 0),\n",
    "    decoders.Replace(\"\\n \", \"\\n\"),\n",
    "])\n",
    "\n",
    "# Add Post-processor (for start-of-text markers)\n",
    "#start_token = \"<s>\"\n",
    "#tokenizer.post_processor = TemplateProcessing(\n",
    "#    single = f\"{start_token} $A\",\n",
    "#    pair = f\"{start_token} $A {start_token} $B\",\n",
    "#    special_tokens = [(start_token, 1)]\n",
    "#)\n",
    "tokenizer.post_processor = processors.ByteLevel(trim_offsets = False)\n",
    "\n",
    "# Train tokenizer\n",
    "trainer = trainers.BpeTrainer(\n",
    "    vocab_size = 50257,\n",
    "    min_frequency = 2,\n",
    "    #special_tokens = [\"<s>\", \"<pad>\", \"</s>\", \"<unk>\", \"<mask>\"]\n",
    ")\n",
    "tokenizer.train(files = [corpus_file], trainer = trainer)\n",
    "\n",
    "# Save the tokenizer (as tokenizer.json)\n",
    "tokenizer.save(os.path.join(tokenizer_dir, \"tokenizer.json\"))"
   ]
  },
  {
   "cell_type": "code",
   "execution_count": 7,
   "id": "04c250b4",
   "metadata": {},
   "outputs": [
    {
     "name": "stderr",
     "output_type": "stream",
     "text": [
      "Using custom data configuration default-ceda9be804afc706\n",
      "Reusing dataset text (/home/stellacy/.cache/huggingface/datasets/text/default-ceda9be804afc706/0.0.0/e16f44aa1b321ece1f87b07977cc5d70be93d69b20486d6dacd62e12cf25c9a5)\n",
      "Parameter 'function'=<function tokenize at 0x1482904f1310> of the transform datasets.arrow_dataset.Dataset._map_single couldn't be hashed properly, a random hash was used instead. Make sure your transforms and parameters are serializable with pickle or dill for the dataset fingerprinting and caching to work. If you reuse this transform, the caching mechanism will consider it to be different from the previous calls and recompute everything. This warning is only showed once. Subsequent hashing failures won't be showed.\n",
      "Parameter 'function'=<function tokenize at 0x1482904f1310> of the transform datasets.arrow_dataset.Dataset._map_single couldn't be hashed properly, a random hash was used instead. Make sure your transforms and parameters are serializable with pickle or dill for the dataset fingerprinting and caching to work. If you reuse this transform, the caching mechanism will consider it to be different from the previous calls and recompute everything. This warning is only showed once. Subsequent hashing failures won't be showed.\n"
     ]
    },
    {
     "data": {
      "application/vnd.jupyter.widget-view+json": {
       "model_id": "43a70ceaccd24e7db86bd9bf547a14b7",
       "version_major": 2,
       "version_minor": 0
      },
      "text/plain": [
       " #0:   0%|          | 0/1799 [00:00<?, ?ba/s]"
      ]
     },
     "metadata": {},
     "output_type": "display_data"
    },
    {
     "data": {
      "application/vnd.jupyter.widget-view+json": {
       "model_id": "adb9bbf4370a477da07374d31267351c",
       "version_major": 2,
       "version_minor": 0
      },
      "text/plain": [
       " #1:   0%|          | 0/1799 [00:00<?, ?ba/s]"
      ]
     },
     "metadata": {},
     "output_type": "display_data"
    },
    {
     "name": "stderr",
     "output_type": "stream",
     "text": [
      "Parameter 'function'=<function tokenize at 0x1482904f1310> of the transform datasets.arrow_dataset.Dataset._map_single couldn't be hashed properly, a random hash was used instead. Make sure your transforms and parameters are serializable with pickle or dill for the dataset fingerprinting and caching to work. If you reuse this transform, the caching mechanism will consider it to be different from the previous calls and recompute everything. This warning is only showed once. Subsequent hashing failures won't be showed.\n"
     ]
    },
    {
     "data": {
      "application/vnd.jupyter.widget-view+json": {
       "model_id": "18fe0067f7a5471788afacdab196ac66",
       "version_major": 2,
       "version_minor": 0
      },
      "text/plain": [
       " #2:   0%|          | 0/1799 [00:00<?, ?ba/s]"
      ]
     },
     "metadata": {},
     "output_type": "display_data"
    },
    {
     "name": "stderr",
     "output_type": "stream",
     "text": [
      "Parameter 'function'=<function tokenize at 0x1482904f1310> of the transform datasets.arrow_dataset.Dataset._map_single couldn't be hashed properly, a random hash was used instead. Make sure your transforms and parameters are serializable with pickle or dill for the dataset fingerprinting and caching to work. If you reuse this transform, the caching mechanism will consider it to be different from the previous calls and recompute everything. This warning is only showed once. Subsequent hashing failures won't be showed.\n"
     ]
    },
    {
     "data": {
      "application/vnd.jupyter.widget-view+json": {
       "model_id": "4834a4fecb954672b61d46de47c96091",
       "version_major": 2,
       "version_minor": 0
      },
      "text/plain": [
       " #3:   0%|          | 0/1799 [00:00<?, ?ba/s]"
      ]
     },
     "metadata": {},
     "output_type": "display_data"
    },
    {
     "name": "stderr",
     "output_type": "stream",
     "text": [
      "Parameter 'function'=<function concat at 0x14832bf50790> of the transform datasets.arrow_dataset.Dataset._map_single couldn't be hashed properly, a random hash was used instead. Make sure your transforms and parameters are serializable with pickle or dill for the dataset fingerprinting and caching to work. If you reuse this transform, the caching mechanism will consider it to be different from the previous calls and recompute everything. This warning is only showed once. Subsequent hashing failures won't be showed.\n"
     ]
    },
    {
     "data": {
      "application/vnd.jupyter.widget-view+json": {
       "model_id": "7b85ce1dd0024a91ac92795597a41a0a",
       "version_major": 2,
       "version_minor": 0
      },
      "text/plain": [
       " #0:   0%|          | 0/2 [00:00<?, ?ba/s]"
      ]
     },
     "metadata": {},
     "output_type": "display_data"
    },
    {
     "name": "stderr",
     "output_type": "stream",
     "text": [
      "Parameter 'function'=<function concat at 0x14832bf50790> of the transform datasets.arrow_dataset.Dataset._map_single couldn't be hashed properly, a random hash was used instead. Make sure your transforms and parameters are serializable with pickle or dill for the dataset fingerprinting and caching to work. If you reuse this transform, the caching mechanism will consider it to be different from the previous calls and recompute everything. This warning is only showed once. Subsequent hashing failures won't be showed.\n"
     ]
    },
    {
     "data": {
      "application/vnd.jupyter.widget-view+json": {
       "model_id": "58041e2e25f745609eecac6419a962ff",
       "version_major": 2,
       "version_minor": 0
      },
      "text/plain": [
       " #1:   0%|          | 0/2 [00:00<?, ?ba/s]"
      ]
     },
     "metadata": {},
     "output_type": "display_data"
    },
    {
     "name": "stderr",
     "output_type": "stream",
     "text": [
      "Parameter 'function'=<function concat at 0x14832bf50790> of the transform datasets.arrow_dataset.Dataset._map_single couldn't be hashed properly, a random hash was used instead. Make sure your transforms and parameters are serializable with pickle or dill for the dataset fingerprinting and caching to work. If you reuse this transform, the caching mechanism will consider it to be different from the previous calls and recompute everything. This warning is only showed once. Subsequent hashing failures won't be showed.\n"
     ]
    },
    {
     "data": {
      "application/vnd.jupyter.widget-view+json": {
       "model_id": "1d53b63c32df42c0959452222cca879e",
       "version_major": 2,
       "version_minor": 0
      },
      "text/plain": [
       " #2:   0%|          | 0/2 [00:00<?, ?ba/s]"
      ]
     },
     "metadata": {},
     "output_type": "display_data"
    },
    {
     "name": "stderr",
     "output_type": "stream",
     "text": [
      "Parameter 'function'=<function concat at 0x14832bf50790> of the transform datasets.arrow_dataset.Dataset._map_single couldn't be hashed properly, a random hash was used instead. Make sure your transforms and parameters are serializable with pickle or dill for the dataset fingerprinting and caching to work. If you reuse this transform, the caching mechanism will consider it to be different from the previous calls and recompute everything. This warning is only showed once. Subsequent hashing failures won't be showed.\n"
     ]
    },
    {
     "data": {
      "application/vnd.jupyter.widget-view+json": {
       "model_id": "1be519dac62c46e48946e93bbd46cce2",
       "version_major": 2,
       "version_minor": 0
      },
      "text/plain": [
       " #3:   0%|          | 0/2 [00:00<?, ?ba/s]"
      ]
     },
     "metadata": {},
     "output_type": "display_data"
    },
    {
     "name": "stderr",
     "output_type": "stream",
     "text": [
      "Parameter 'function'=<function chunk at 0x14829044c940> of the transform datasets.arrow_dataset.Dataset._map_single couldn't be hashed properly, a random hash was used instead. Make sure your transforms and parameters are serializable with pickle or dill for the dataset fingerprinting and caching to work. If you reuse this transform, the caching mechanism will consider it to be different from the previous calls and recompute everything. This warning is only showed once. Subsequent hashing failures won't be showed.\n",
      "Parameter 'function'=<function chunk at 0x14829044cd30> of the transform datasets.arrow_dataset.Dataset._map_single couldn't be hashed properly, a random hash was used instead. Make sure your transforms and parameters are serializable with pickle or dill for the dataset fingerprinting and caching to work. If you reuse this transform, the caching mechanism will consider it to be different from the previous calls and recompute everything. This warning is only showed once. Subsequent hashing failures won't be showed.\n"
     ]
    },
    {
     "data": {
      "application/vnd.jupyter.widget-view+json": {
       "model_id": "dd564330faa34c7b8c2f2100c60d66b3",
       "version_major": 2,
       "version_minor": 0
      },
      "text/plain": [
       " #0:   0%|          | 0/2 [00:00<?, ?ba/s]"
      ]
     },
     "metadata": {},
     "output_type": "display_data"
    },
    {
     "data": {
      "application/vnd.jupyter.widget-view+json": {
       "model_id": "1c17f7d199e640c780e0a727a667b3ee",
       "version_major": 2,
       "version_minor": 0
      },
      "text/plain": [
       " #1:   0%|          | 0/2 [00:00<?, ?ba/s]"
      ]
     },
     "metadata": {},
     "output_type": "display_data"
    }
   ],
   "source": [
    "# Load tokenizer with HuggingFace wrapper\n",
    "tokenizer = GPT2TokenizerFast(tokenizer_file = \"gpt3-small/tokenizer/tokenizer.json\")\n",
    "#tokenizer = GPT2TokenizerFast.from_pretrained(\"gpt2\")\n",
    "# Optional: set pad token if using Trainer API or batches\n",
    "tokenizer.pad_token = tokenizer.eos_token\n",
    "\n",
    "# Load your dataset (can also use raw text)\n",
    "#dataset = load_dataset(\"text\", data_files = {\"train\": \"gpt3-small/corpus_data/10M_corpus.txt\"})[\"train\"]\n",
    "dataset = load_dataset(\"text\", data_files = {\"train\": \"gpt3-small/corpus_data/100M_corpus.txt\"})[\"train\"]\n",
    "\n",
    "'''\n",
    "# Tokenize the dataset\n",
    "def tokenize(example):\n",
    "    return tokenizer(example[\"text\"], truncation = True, padding = \"max_length\", max_length = 2048)\n",
    "dataset = dataset.map(tokenize, batched = True, remove_columns = [\"text\"])\n",
    "dataset.set_format(type = \"torch\", columns = [\"input_ids\", \"attention_mask\"])\n",
    "'''\n",
    "\n",
    "# Tokenize each example (no truncation, no padding)\n",
    "def tokenize(example):\n",
    "    return tokenizer(example[\"text\"])\n",
    "\n",
    "tokenized_dataset = dataset.map(tokenize, batched = True, remove_columns = [\"text\"], num_proc = 4)\n",
    "\n",
    "# Save tokenized dataset for reuse (use load_from_disk latter)\n",
    "tokenized_dataset.save_to_disk(\"gpt3-small/corpus_data/tokenized_dataset\")\n",
    "\n",
    "# Concatenate all input_ids and attention masks into single token streams\n",
    "def concat(examples):\n",
    "    return {\n",
    "        \"input_ids\": [list(chain.from_iterable(examples[\"input_ids\"]))],\n",
    "        \"attention_mask\": [list(chain.from_iterable(examples[\"attention_mask\"]))]\n",
    "    }\n",
    "\n",
    "concated_dataset = tokenized_dataset.map(concat, batched = True, batch_size = 1000000, num_proc = 4)\n",
    "\n",
    "# Chunk into fixed-size blocks (2048 tokens, GPT-3 style)\n",
    "def chunk(examples):\n",
    "    chunk_size = 2048 # 1024 if GPT-2 \n",
    "    input_ids = examples[\"input_ids\"][0]\n",
    "    attention_mask = examples[\"attention_mask\"][0]\n",
    "\n",
    "    input_chunks = []\n",
    "    attention_chunks = []\n",
    "\n",
    "    # slice with step_size = chunk_size\n",
    "    for i in range(0, len(input_ids), chunk_size):\n",
    "        chunk = input_ids[i : i + chunk_size]\n",
    "        if len(chunk) == chunk_size: # drop the last chunk if not equal\n",
    "            input_chunks.append(chunk)\n",
    "            attention_chunks.append(attention_mask[i : i + chunk_size])\n",
    "\n",
    "    return {\n",
    "        \"input_ids\": input_chunks,\n",
    "        \"attention_mask\": attention_chunks\n",
    "    }\n",
    "\n",
    "chunked_dataset = concated_dataset.map(chunk, batched = True, batch_size = 2, num_proc = 2)\n",
    "\n",
    "# Save the final preprocessed dataset for model training\n",
    "chunked_dataset.save_to_disk(\"gpt3-small/corpus_data/chunked_dataset\")\n",
    "chunked_dataset = load_from_disk(\"gpt3-small/corpus_data/chunked_dataset\")"
   ]
  },
  {
   "cell_type": "code",
   "execution_count": 8,
   "id": "3e097c9d",
   "metadata": {},
   "outputs": [
    {
     "name": "stderr",
     "output_type": "stream",
     "text": [
      "/tmp/ipykernel_3361734/181438917.py:61: FutureWarning: `tokenizer` is deprecated and will be removed in version 5.0.0 for `Trainer.__init__`. Use `processing_class` instead.\n",
      "  trainer = Trainer(\n",
      "Detected kernel version 4.18.0, which is below the recommended minimum of 5.5.0; this can cause the process to hang. It is recommended to upgrade the kernel to the minimum version or higher.\n"
     ]
    },
    {
     "data": {
      "text/html": [
       "\n",
       "    <div>\n",
       "      \n",
       "      <progress value='2127' max='2127' style='width:300px; height:20px; vertical-align: middle;'></progress>\n",
       "      [2127/2127 2:02:56, Epoch 2/3]\n",
       "    </div>\n",
       "    <table border=\"1\" class=\"dataframe\">\n",
       "  <thead>\n",
       " <tr style=\"text-align: left;\">\n",
       "      <th>Step</th>\n",
       "      <th>Training Loss</th>\n",
       "    </tr>\n",
       "  </thead>\n",
       "  <tbody>\n",
       "    <tr>\n",
       "      <td>100</td>\n",
       "      <td>3.280800</td>\n",
       "    </tr>\n",
       "    <tr>\n",
       "      <td>200</td>\n",
       "      <td>2.706900</td>\n",
       "    </tr>\n",
       "    <tr>\n",
       "      <td>300</td>\n",
       "      <td>2.604700</td>\n",
       "    </tr>\n",
       "    <tr>\n",
       "      <td>400</td>\n",
       "      <td>2.545600</td>\n",
       "    </tr>\n",
       "    <tr>\n",
       "      <td>500</td>\n",
       "      <td>2.508100</td>\n",
       "    </tr>\n",
       "    <tr>\n",
       "      <td>600</td>\n",
       "      <td>2.475800</td>\n",
       "    </tr>\n",
       "    <tr>\n",
       "      <td>700</td>\n",
       "      <td>2.432200</td>\n",
       "    </tr>\n",
       "    <tr>\n",
       "      <td>800</td>\n",
       "      <td>2.373700</td>\n",
       "    </tr>\n",
       "    <tr>\n",
       "      <td>900</td>\n",
       "      <td>2.328800</td>\n",
       "    </tr>\n",
       "    <tr>\n",
       "      <td>1000</td>\n",
       "      <td>2.280300</td>\n",
       "    </tr>\n",
       "    <tr>\n",
       "      <td>1100</td>\n",
       "      <td>2.237700</td>\n",
       "    </tr>\n",
       "    <tr>\n",
       "      <td>1200</td>\n",
       "      <td>2.203800</td>\n",
       "    </tr>\n",
       "    <tr>\n",
       "      <td>1300</td>\n",
       "      <td>2.173900</td>\n",
       "    </tr>\n",
       "    <tr>\n",
       "      <td>1400</td>\n",
       "      <td>2.154700</td>\n",
       "    </tr>\n",
       "    <tr>\n",
       "      <td>1500</td>\n",
       "      <td>2.118500</td>\n",
       "    </tr>\n",
       "    <tr>\n",
       "      <td>1600</td>\n",
       "      <td>2.106200</td>\n",
       "    </tr>\n",
       "    <tr>\n",
       "      <td>1700</td>\n",
       "      <td>2.084200</td>\n",
       "    </tr>\n",
       "    <tr>\n",
       "      <td>1800</td>\n",
       "      <td>2.075300</td>\n",
       "    </tr>\n",
       "    <tr>\n",
       "      <td>1900</td>\n",
       "      <td>2.069900</td>\n",
       "    </tr>\n",
       "    <tr>\n",
       "      <td>2000</td>\n",
       "      <td>2.064500</td>\n",
       "    </tr>\n",
       "    <tr>\n",
       "      <td>2100</td>\n",
       "      <td>2.065000</td>\n",
       "    </tr>\n",
       "  </tbody>\n",
       "</table><p>"
      ],
      "text/plain": [
       "<IPython.core.display.HTML object>"
      ]
     },
     "metadata": {},
     "output_type": "display_data"
    },
    {
     "data": {
      "text/plain": [
       "TrainOutput(global_step=2127, training_loss=2.3247331871244343, metrics={'train_runtime': 7380.4195, 'train_samples_per_second': 9.229, 'train_steps_per_second': 0.288, 'total_flos': 7.1104878084096e+16, 'train_loss': 2.3247331871244343, 'epoch': 2.996476391825229})"
      ]
     },
     "execution_count": 8,
     "metadata": {},
     "output_type": "execute_result"
    }
   ],
   "source": [
    "# Load model config and model\n",
    "#config = GPT2Config.from_json_file(\"gpt3_small_config.json\")\n",
    "config = GPT2Config(\n",
    "    vocab_size = 50257,\n",
    "    n_positions = 2048, # GPT-3 context length\n",
    "    n_ctx = 2048,\n",
    "    n_embd = 768,\n",
    "    n_layer = 12,\n",
    "    n_head = 12,\n",
    "    \n",
    "    # GPT-3 uses no dropout during pretraining\n",
    "    resid_pdrop = 0.0, # 0.1 for GPT-2\n",
    "    embd_pdrop = 0.0, # 0.1 for GPT-2\n",
    "    attn_pdrop = 0.0, # 0.1 for GPT-2\n",
    "    \n",
    "    activation_function = \"gelu_new\", # same as GPT-2\n",
    "    layer_norm_epsilon = 1e-5,\n",
    "    initializer_range = 0.02,\n",
    "    bos_token_id = 50256,\n",
    "    eos_token_id = 50256,\n",
    "    use_cache = True,\n",
    "    scale_attn_weights = True,\n",
    "    scale_attn_by_inverse_layer_idx = False,\n",
    "    reorder_and_upcast_attn = False,\n",
    ")\n",
    "\n",
    "model = GPT2LMHeadModel(config)\n",
    "\n",
    "# Data collator\n",
    "data_collator = DataCollatorForLanguageModeling(tokenizer = tokenizer, pad_to_multiple_of = None, mlm = False)\n",
    "\n",
    "# Training arguments\n",
    "training_args = TrainingArguments(\n",
    "    output_dir = \"./gpt3-small\",\n",
    "    #evaluation_strategy = \"no\",\n",
    "    eval_strategy = \"no\",\n",
    "    #eval_strategy = \"steps\",\n",
    "    #eval_steps = 100,\n",
    "    logging_strategy = \"steps\",\n",
    "    logging_steps = 100,\n",
    "    save_strategy = \"steps\",\n",
    "    save_steps = 1000,\n",
    "    save_total_limit = 2,\n",
    "    num_train_epochs = 3,\n",
    "    per_device_train_batch_size = 1,\n",
    "    #per_device_eval_batch_size = 1,\n",
    "    gradient_accumulation_steps = 16,\n",
    "    learning_rate = 6e-4, #3e-4 or 1e-4\n",
    "    warmup_ratio = 0.02,\n",
    "    weight_decay = 0.1, #0.01\n",
    "    lr_scheduler_type = \"cosine\",\n",
    "    adam_beta1 = 0.9,\n",
    "    adam_beta2 = 0.95, #0.999 for GPT-2\n",
    "    fp16 = True,\n",
    "    logging_dir = \"./gpt3-small/logs\", #GPT-3 uses cross-entropy loss\n",
    "    report_to = \"tensorboard\", \n",
    "    #load_best_model_at_end = True,\n",
    ")\n",
    "\n",
    "# Initialize Trainer\n",
    "trainer = Trainer(\n",
    "    model = model,\n",
    "    args = training_args,\n",
    "    tokenizer = tokenizer,\n",
    "    train_dataset = chunked_dataset,\n",
    "    data_collator = data_collator,\n",
    "    #callbacks = [EarlyStoppingCallback(early_stopping_patience = 3)],\n",
    "    #callbacks = [TensorBoardCallback()],\n",
    ")\n",
    "\n",
    "#%load_ext tensorboard\n",
    "#%tensorboard --logdir ./gpt3-small/logs\n",
    "\n",
    "# Train the model\n",
    "trainer.train()\n"
   ]
  },
  {
   "cell_type": "code",
   "execution_count": 5,
   "id": "ea6a4369",
   "metadata": {},
   "outputs": [
    {
     "name": "stderr",
     "output_type": "stream",
     "text": [
      "/tmp/ipykernel_3361734/2684463259.py:61: FutureWarning: `tokenizer` is deprecated and will be removed in version 5.0.0 for `Trainer.__init__`. Use `processing_class` instead.\n",
      "  trainer = Trainer(\n",
      "Detected kernel version 4.18.0, which is below the recommended minimum of 5.5.0; this can cause the process to hang. It is recommended to upgrade the kernel to the minimum version or higher.\n",
      "`loss_type=None` was set in the config but it is unrecognised.Using the default loss: `ForCausalLMLoss`.\n"
     ]
    },
    {
     "data": {
      "text/html": [
       "\n",
       "    <div>\n",
       "      \n",
       "      <progress value='369' max='369' style='width:300px; height:20px; vertical-align: middle;'></progress>\n",
       "      [369/369 21:22, Epoch 2/3]\n",
       "    </div>\n",
       "    <table border=\"1\" class=\"dataframe\">\n",
       "  <thead>\n",
       " <tr style=\"text-align: left;\">\n",
       "      <th>Step</th>\n",
       "      <th>Training Loss</th>\n",
       "    </tr>\n",
       "  </thead>\n",
       "  <tbody>\n",
       "    <tr>\n",
       "      <td>100</td>\n",
       "      <td>2.890000</td>\n",
       "    </tr>\n",
       "    <tr>\n",
       "      <td>200</td>\n",
       "      <td>2.446300</td>\n",
       "    </tr>\n",
       "    <tr>\n",
       "      <td>300</td>\n",
       "      <td>2.351700</td>\n",
       "    </tr>\n",
       "  </tbody>\n",
       "</table><p>"
      ],
      "text/plain": [
       "<IPython.core.display.HTML object>"
      ]
     },
     "metadata": {},
     "output_type": "display_data"
    },
    {
     "data": {
      "text/plain": [
       "TrainOutput(global_step=369, training_loss=2.513099360272167, metrics={'train_runtime': 1286.4361, 'train_samples_per_second': 9.242, 'train_steps_per_second': 0.287, 'total_flos': 1.2387332653056e+16, 'train_loss': 2.513099360272167, 'epoch': 2.992936427850656})"
      ]
     },
     "execution_count": 5,
     "metadata": {},
     "output_type": "execute_result"
    }
   ],
   "source": [
    "# Load model config and model\n",
    "#config = GPT2Config.from_json_file(\"gpt3_small_config.json\")\n",
    "config = GPT2Config(\n",
    "    vocab_size = 50257,\n",
    "    n_positions = 2048, # GPT-3 context length\n",
    "    n_ctx = 2048,\n",
    "    n_embd = 768,\n",
    "    n_layer = 12,\n",
    "    n_head = 12,\n",
    "    \n",
    "    # GPT-3 uses no dropout during pretraining\n",
    "    resid_pdrop = 0.0, # 0.1 for GPT-2\n",
    "    embd_pdrop = 0.0, # 0.1 for GPT-2\n",
    "    attn_pdrop = 0.0, # 0.1 for GPT-2\n",
    "    \n",
    "    activation_function = \"gelu_new\", # same as GPT-2\n",
    "    layer_norm_epsilon = 1e-5,\n",
    "    initializer_range = 0.02,\n",
    "    bos_token_id = 50256,\n",
    "    eos_token_id = 50256,\n",
    "    use_cache = True,\n",
    "    scale_attn_weights = True,\n",
    "    scale_attn_by_inverse_layer_idx = False,\n",
    "    reorder_and_upcast_attn = False,\n",
    ")\n",
    "\n",
    "model = GPT2LMHeadModel(config)\n",
    "\n",
    "# Data collator\n",
    "data_collator = DataCollatorForLanguageModeling(tokenizer = tokenizer, pad_to_multiple_of = None, mlm = False)\n",
    "\n",
    "# Training arguments\n",
    "training_args = TrainingArguments(\n",
    "    output_dir = \"./gpt3-small\",\n",
    "    #evaluation_strategy = \"no\",\n",
    "    eval_strategy = \"no\",\n",
    "    #eval_strategy = \"steps\",\n",
    "    #eval_steps = 100,\n",
    "    logging_strategy = \"steps\",\n",
    "    logging_steps = 100,\n",
    "    save_strategy = \"steps\",\n",
    "    save_steps = 1000,\n",
    "    save_total_limit = 2,\n",
    "    num_train_epochs = 3,\n",
    "    per_device_train_batch_size = 1,\n",
    "    #per_device_eval_batch_size = 1,\n",
    "    gradient_accumulation_steps = 16,\n",
    "    learning_rate = 6e-4, #3e-4 or 1e-4\n",
    "    warmup_ratio = 0.02,\n",
    "    weight_decay = 0.1, #0.01\n",
    "    lr_scheduler_type = \"cosine\",\n",
    "    adam_beta1 = 0.9,\n",
    "    adam_beta2 = 0.95, #0.999 for GPT-2\n",
    "    fp16 = True,\n",
    "    logging_dir = \"./gpt3-small/logs\", #GPT-3 uses cross-entropy loss\n",
    "    report_to = \"tensorboard\", \n",
    "    #load_best_model_at_end = True,\n",
    ")\n",
    "\n",
    "# Initialize Trainer\n",
    "trainer = Trainer(\n",
    "    model = model,\n",
    "    args = training_args,\n",
    "    tokenizer = tokenizer,\n",
    "    train_dataset = chunked_dataset,\n",
    "    data_collator = data_collator,\n",
    "    #callbacks = [EarlyStoppingCallback(early_stopping_patience = 3)],\n",
    "    #callbacks = [TensorBoardCallback()],\n",
    ")\n",
    "\n",
    "#%load_ext tensorboard\n",
    "#%tensorboard --logdir ./gpt3-small/logs\n",
    "\n",
    "# Train the model\n",
    "trainer.train()"
   ]
  },
  {
   "cell_type": "code",
   "execution_count": 5,
   "id": "87916ec0",
   "metadata": {},
   "outputs": [],
   "source": [
    "from torch.utils.tensorboard import SummaryWriter\n",
    "\n",
    "# Create a TensorBoard writer\n",
    "writer = SummaryWriter(log_dir=\"./gpt3-small/logs_reconstructed\")  # different folder to avoid conflicts\n",
    "\n",
    "# Recorded steps and losses\n",
    "steps_losses = [\n",
    "    (100, 4.602300),\n",
    "    (200, 4.119000),\n",
    "    (300, 3.918800),\n",
    "    (400, 3.800300),\n",
    "    (500, 3.708900),\n",
    "    (600, 3.628300),\n",
    "    (700, 3.578700),\n",
    "    (800, 3.544000),\n",
    "    (900, 3.496700),\n",
    "    (1000, 3.469400),\n",
    "    (1100, 3.439000),\n",
    "    (1200, 3.408300),\n",
    "    (1300, 3.390500),\n",
    "    (1400, 3.366000),\n",
    "    (1500, 3.372400),\n",
    "    (1600, 3.361200)\n",
    "]\n",
    "\n",
    "# Log each step and loss\n",
    "for step, loss in steps_losses:\n",
    "    writer.add_scalar(\"train/loss\", loss, step)\n",
    "\n",
    "# Close the writer to flush files\n",
    "writer.close()"
   ]
  },
  {
   "cell_type": "code",
   "execution_count": 9,
   "id": "8f6e8e2e",
   "metadata": {},
   "outputs": [],
   "source": [
    "#model = GPT2LMHeadModel.from_pretrained('gpt3-small/checkpoint-pretrainedtokenizer_100M')\n",
    "model = GPT2LMHeadModel.from_pretrained('gpt3-small/checkpoint-trainedtokenizer_100M')\n",
    "#tokenizer = GPT2TokenizerFast.from_pretrained(\"gpt2\")\n",
    "tokenizer = GPT2TokenizerFast(tokenizer_file = \"gpt3-small/checkpoint-trainedtokenizer_100M/tokenizer.json\")"
   ]
  },
  {
   "cell_type": "code",
   "execution_count": 7,
   "id": "1f2fcac9",
   "metadata": {},
   "outputs": [
    {
     "name": "stderr",
     "output_type": "stream",
     "text": [
      "Hardware accelerator e.g. GPU is available in the environment, but no `device` argument is passed to the `Pipeline` object. Model will be on CPU.\n",
      "Truncation was not explicitly activated but `max_length` is provided a specific value, please use `truncation=True` to explicitly truncate examples to max length. Defaulting to 'longest_first' truncation strategy. If you encode pairs of sequences (GLUE-style) with the tokenizer you can select this strategy more precisely by providing a specific strategy to `truncation`.\n"
     ]
    },
    {
     "name": "stdout",
     "output_type": "stream",
     "text": [
      "[{'generated_text': \"Once upon a time that's that is thiput that the put thone you put_of here two to me more is this look it well\"}]\n"
     ]
    }
   ],
   "source": [
    "generator = pipeline(\"text-generation\", model = model, tokenizer = tokenizer)\n",
    "print(generator(\"Once upon a time\", max_length = 50, do_sample = True, top_k = 50))"
   ]
  },
  {
   "cell_type": "code",
   "execution_count": 9,
   "id": "94b42c6e",
   "metadata": {},
   "outputs": [
    {
     "name": "stdout",
     "output_type": "stream",
     "text": [
      "Available scalar tags:\n",
      "['train/loss', 'train/grad_norm', 'train/learning_rate', 'train/epoch', 'train/train_runtime', 'train/train_samples_per_second', 'train/train_steps_per_second', 'train/total_flos', 'train/train_loss']\n"
     ]
    },
    {
     "data": {
      "image/png": "[encoded data removed]",
      "text/plain": [
       "<Figure size 720x360 with 1 Axes>"
      ]
     },
     "metadata": {
      "needs_background": "light"
     },
     "output_type": "display_data"
    }
   ],
   "source": [
    "from tensorboard.backend.event_processing.event_accumulator import EventAccumulator\n",
    "\n",
    "log_dir = './gpt3-small/logs'\n",
    "\n",
    "event_path = os.path.join(log_dir, 'events.out.tfevents.pretrainedtokenizer.10M')\n",
    "event_acc = EventAccumulator(event_path)\n",
    "event_acc.Reload()\n",
    "\n",
    "# list all scalar tags\n",
    "print(\"Available scalar tags:\")\n",
    "print(event_acc.Tags()[\"scalars\"])\n",
    "\n",
    "# try common tags\n",
    "possible_tags = [\"loss\", \"train/loss\", \"training_loss\"]\n",
    "tag = None\n",
    "for t in possible_tags:\n",
    "    if t in event_acc.Tags()[\"scalars\"]:\n",
    "        tag = t\n",
    "        break\n",
    "\n",
    "assert tag, f\"Could not find expected loss tag. Found: {event_acc.Tags()['scalars']}\"\n",
    "\n",
    "# extract data\n",
    "events = event_acc.Scalars(tag)\n",
    "steps = [e.step for e in events]\n",
    "values = [e.value for e in events]\n",
    "\n",
    "# plotting\n",
    "plt.figure(figsize = (10, 5))\n",
    "plt.plot(steps, values, marker = \"o\", label = tag)\n",
    "plt.xlabel(\"Step\")\n",
    "plt.ylabel(\"Loss\")\n",
    "plt.title(\"Training Loss Curve\")\n",
    "plt.grid(True)\n",
    "plt.legend()\n",
    "plt.tight_layout()\n",
    "plt.show()"
   ]
  },
  {
   "cell_type": "code",
   "execution_count": 10,
   "id": "5ba7762e",
   "metadata": {},
   "outputs": [
    {
     "name": "stdout",
     "output_type": "stream",
     "text": [
      "Available scalar tags:\n",
      "['train/loss', 'train/grad_norm', 'train/learning_rate', 'train/epoch', 'train/train_runtime', 'train/train_samples_per_second', 'train/train_steps_per_second', 'train/total_flos', 'train/train_loss']\n"
     ]
    },
    {
     "data": {
      "image/png": "[encoded data removed]",
      "text/plain": [
       "<Figure size 720x360 with 1 Axes>"
      ]
     },
     "metadata": {
      "needs_background": "light"
     },
     "output_type": "display_data"
    }
   ],
   "source": [
    "from tensorboard.backend.event_processing.event_accumulator import EventAccumulator\n",
    "\n",
    "log_dir = './gpt3-small/logs'\n",
    "\n",
    "event_path = os.path.join(log_dir, 'events.out.tfevents.pretrainedtokenizer.100M')\n",
    "event_acc = EventAccumulator(event_path)\n",
    "event_acc.Reload()\n",
    "\n",
    "# list all scalar tags\n",
    "print(\"Available scalar tags:\")\n",
    "print(event_acc.Tags()[\"scalars\"])\n",
    "\n",
    "# try common tags\n",
    "possible_tags = [\"loss\", \"train/loss\", \"training_loss\"]\n",
    "tag = None\n",
    "for t in possible_tags:\n",
    "    if t in event_acc.Tags()[\"scalars\"]:\n",
    "        tag = t\n",
    "        break\n",
    "\n",
    "assert tag, f\"Could not find expected loss tag. Found: {event_acc.Tags()['scalars']}\"\n",
    "\n",
    "# extract data\n",
    "events = event_acc.Scalars(tag)\n",
    "steps = [e.step for e in events]\n",
    "values = [e.value for e in events]\n",
    "\n",
    "# plotting\n",
    "plt.figure(figsize = (10, 5))\n",
    "plt.plot(steps, values, marker = \"o\", label = tag)\n",
    "plt.xlabel(\"Step\")\n",
    "plt.ylabel(\"Loss\")\n",
    "plt.title(\"Training Loss Curve\")\n",
    "plt.grid(True)\n",
    "plt.legend()\n",
    "plt.tight_layout()\n",
    "plt.show()"
   ]
  },
  {
   "cell_type": "code",
   "execution_count": 2,
   "id": "93d1d02c",
   "metadata": {},
   "outputs": [
    {
     "name": "stdout",
     "output_type": "stream",
     "text": [
      "Available scalar tags:\n",
      "['train/loss', 'train/grad_norm', 'train/learning_rate', 'train/epoch', 'train/train_runtime', 'train/train_samples_per_second', 'train/train_steps_per_second', 'train/total_flos', 'train/train_loss']\n"
     ]
    },
    {
     "data": {
      "image/png": "[encoded data removed]",
      "text/plain": [
       "<Figure size 720x360 with 1 Axes>"
      ]
     },
     "metadata": {
      "needs_background": "light"
     },
     "output_type": "display_data"
    }
   ],
   "source": [
    "from tensorboard.backend.event_processing.event_accumulator import EventAccumulator\n",
    "\n",
    "log_dir = './gpt3-small/logs'\n",
    "\n",
    "event_path = os.path.join(log_dir, 'events.out.tfevents.trainedtokenizer.10M')\n",
    "event_acc = EventAccumulator(event_path)\n",
    "event_acc.Reload()\n",
    "\n",
    "# list all scalar tags\n",
    "print(\"Available scalar tags:\")\n",
    "print(event_acc.Tags()[\"scalars\"])\n",
    "\n",
    "# try common tags\n",
    "possible_tags = [\"loss\", \"train/loss\", \"training_loss\"]\n",
    "tag = None\n",
    "for t in possible_tags:\n",
    "    if t in event_acc.Tags()[\"scalars\"]:\n",
    "        tag = t\n",
    "        break\n",
    "\n",
    "assert tag, f\"Could not find expected loss tag. Found: {event_acc.Tags()['scalars']}\"\n",
    "\n",
    "# extract data\n",
    "events = event_acc.Scalars(tag)\n",
    "steps = [e.step for e in events]\n",
    "values = [e.value for e in events]\n",
    "\n",
    "# plotting\n",
    "plt.figure(figsize = (10, 5))\n",
    "plt.plot(steps, values, marker = \"o\", label = tag)\n",
    "plt.xlabel(\"Step\")\n",
    "plt.ylabel(\"Loss\")\n",
    "plt.title(\"Training Loss Curve\")\n",
    "plt.grid(True)\n",
    "plt.legend()\n",
    "plt.tight_layout()\n",
    "plt.show()"
   ]
  },
  {
   "cell_type": "code",
   "execution_count": 6,
   "id": "fd6d3214",
   "metadata": {
    "scrolled": false
   },
   "outputs": [
    {
     "name": "stdout",
     "output_type": "stream",
     "text": [
      "Available scalar tags:\n",
      "['train/loss']\n",
      "train/loss\n"
     ]
    },
    {
     "data": {
      "image/png": "[encoded data removed]",
      "text/plain": [
       "<Figure size 720x360 with 1 Axes>"
      ]
     },
     "metadata": {
      "needs_background": "light"
     },
     "output_type": "display_data"
    }
   ],
   "source": [
    "from tensorboard.backend.event_processing.event_accumulator import EventAccumulator\n",
    "\n",
    "log_dir = './gpt3-small/logs'\n",
    "\n",
    "event_path = os.path.join(log_dir, 'events.out.tfevents.trainedtokenizer.100M')\n",
    "event_acc = EventAccumulator(event_path)\n",
    "event_acc.Reload()\n",
    "\n",
    "# list all scalar tags\n",
    "print(\"Available scalar tags:\")\n",
    "print(event_acc.Tags()[\"scalars\"])\n",
    "\n",
    "# try common tags\n",
    "possible_tags = [\"loss\", \"train/loss\", \"training_loss\"]\n",
    "tag = None\n",
    "for t in possible_tags:\n",
    "    if t in event_acc.Tags()[\"scalars\"]:\n",
    "        tag = t\n",
    "        print(tag)\n",
    "        break\n",
    "\n",
    "assert tag, f\"Could not find expected loss tag. Found: {event_acc.Tags()['scalars']}\"\n",
    "\n",
    "# extract data\n",
    "events = event_acc.Scalars(tag)\n",
    "steps = [e.step for e in events]\n",
    "values = [e.value for e in events]\n",
    "\n",
    "# plotting\n",
    "plt.figure(figsize = (10, 5))\n",
    "plt.plot(steps, values, marker = \"o\", label = tag)\n",
    "plt.xlabel(\"Step\")\n",
    "plt.ylabel(\"Loss\")\n",
    "plt.title(\"Training Loss Curve\")\n",
    "plt.grid(True)\n",
    "plt.legend()\n",
    "plt.tight_layout()\n",
    "plt.show()"
   ]
  },
  {
   "cell_type": "code",
   "execution_count": 11,
   "id": "ebc5b407",
   "metadata": {},
   "outputs": [
    {
     "name": "stdout",
     "output_type": "stream",
     "text": [
      "Available scalar tags:\n",
      "['train/loss', 'train/grad_norm', 'train/learning_rate', 'train/epoch', 'train/train_runtime', 'train/train_samples_per_second', 'train/train_steps_per_second', 'train/total_flos', 'train/train_loss']\n",
      "train/loss\n"
     ]
    },
    {
     "data": {
      "image/png": "[encoded data removed]",
      "text/plain": [
       "<Figure size 720x360 with 1 Axes>"
      ]
     },
     "metadata": {
      "needs_background": "light"
     },
     "output_type": "display_data"
    }
   ],
   "source": [
    "from tensorboard.backend.event_processing.event_accumulator import EventAccumulator\n",
    "\n",
    "log_dir = './gpt3-small/logs'\n",
    "\n",
    "event_path = os.path.join(log_dir, 'events.out.tfevents.trainedtokenizer.10M.whitespace')\n",
    "event_acc = EventAccumulator(event_path)\n",
    "event_acc.Reload()\n",
    "\n",
    "# list all scalar tags\n",
    "print(\"Available scalar tags:\")\n",
    "print(event_acc.Tags()[\"scalars\"])\n",
    "\n",
    "# try common tags\n",
    "possible_tags = [\"loss\", \"train/loss\", \"training_loss\"]\n",
    "tag = None\n",
    "for t in possible_tags:\n",
    "    if t in event_acc.Tags()[\"scalars\"]:\n",
    "        tag = t\n",
    "        print(tag)\n",
    "        break\n",
    "\n",
    "assert tag, f\"Could not find expected loss tag. Found: {event_acc.Tags()['scalars']}\"\n",
    "\n",
    "# extract data\n",
    "events = event_acc.Scalars(tag)\n",
    "steps = [e.step for e in events]\n",
    "values = [e.value for e in events]\n",
    "\n",
    "# plotting\n",
    "plt.figure(figsize = (10, 5))\n",
    "plt.plot(steps, values, marker = \"o\", label = tag)\n",
    "plt.xlabel(\"Step\")\n",
    "plt.ylabel(\"Loss\")\n",
    "plt.title(\"Training Loss Curve\")\n",
    "plt.grid(True)\n",
    "plt.legend()\n",
    "plt.tight_layout()\n",
    "plt.show()"
   ]
  },
  {
   "cell_type": "code",
   "execution_count": 12,
   "id": "9e462338",
   "metadata": {},
   "outputs": [
    {
     "name": "stdout",
     "output_type": "stream",
     "text": [
      "Available scalar tags:\n",
      "['train/loss', 'train/grad_norm', 'train/learning_rate', 'train/epoch', 'train/train_runtime', 'train/train_samples_per_second', 'train/train_steps_per_second', 'train/total_flos', 'train/train_loss']\n",
      "train/loss\n"
     ]
    },
    {
     "data": {
      "image/png": "[encoded data removed]",
      "text/plain": [
       "<Figure size 720x360 with 1 Axes>"
      ]
     },
     "metadata": {
      "needs_background": "light"
     },
     "output_type": "display_data"
    }
   ],
   "source": [
    "from tensorboard.backend.event_processing.event_accumulator import EventAccumulator\n",
    "\n",
    "log_dir = './gpt3-small/logs'\n",
    "\n",
    "event_path = os.path.join(log_dir, 'events.out.tfevents.trainedtokenizer.100M.whitespace')\n",
    "event_acc = EventAccumulator(event_path)\n",
    "event_acc.Reload()\n",
    "\n",
    "# list all scalar tags\n",
    "print(\"Available scalar tags:\")\n",
    "print(event_acc.Tags()[\"scalars\"])\n",
    "\n",
    "# try common tags\n",
    "possible_tags = [\"loss\", \"train/loss\", \"training_loss\"]\n",
    "tag = None\n",
    "for t in possible_tags:\n",
    "    if t in event_acc.Tags()[\"scalars\"]:\n",
    "        tag = t\n",
    "        print(tag)\n",
    "        break\n",
    "\n",
    "assert tag, f\"Could not find expected loss tag. Found: {event_acc.Tags()['scalars']}\"\n",
    "\n",
    "# extract data\n",
    "events = event_acc.Scalars(tag)\n",
    "steps = [e.step for e in events]\n",
    "values = [e.value for e in events]\n",
    "\n",
    "# plotting\n",
    "plt.figure(figsize = (10, 5))\n",
    "plt.plot(steps, values, marker = \"o\", label = tag)\n",
    "plt.xlabel(\"Step\")\n",
    "plt.ylabel(\"Loss\")\n",
    "plt.title(\"Training Loss Curve\")\n",
    "plt.grid(True)\n",
    "plt.legend()\n",
    "plt.tight_layout()\n",
    "plt.show()"
   ]
  },
  {
   "cell_type": "code",
   "execution_count": null,
   "id": "92889741",
   "metadata": {},
   "outputs": [],
   "source": []
  }
 ],
 "metadata": {
  "kernelspec": {
   "display_name": "Python 3 (ipykernel)",
   "language": "python",
   "name": "python3"
  },
  "language_info": {
   "codemirror_mode": {
    "name": "ipython",
    "version": 3
   },
   "file_extension": ".py",
   "mimetype": "text/x-python",
   "name": "python",
   "nbconvert_exporter": "python",
   "pygments_lexer": "ipython3",
   "version": "3.9.7"
  }
 },
 "nbformat": 4,
 "nbformat_minor": 5
}
